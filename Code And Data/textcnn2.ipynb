{
 "cells": [
  {
   "cell_type": "code",
   "execution_count": 50,
   "metadata": {},
   "outputs": [],
   "source": [
    "import  pandas as pd\n",
    "import numpy as np\n",
    "import tensorflow as tf\n",
    "import re\n",
    "import keras as kr\n",
    "from keras.models import Model\n",
    "from collections import Counter\n",
    "from tensorflow.contrib import learn\n",
    "from keras.preprocessing import sequence\n",
    "from keras.layers.embeddings import Embedding\n",
    "from keras.models import Sequential\n",
    "from keras.layers import Convolution2D, MaxPooling2D,Input, concatenate\n",
    "from keras.layers import Dense, Dropout, Activation, Flatten, Reshape\n",
    "import nltk"
   ]
  },
  {
   "cell_type": "code",
   "execution_count": 51,
   "metadata": {},
   "outputs": [
    {
     "name": "stdout",
     "output_type": "stream",
     "text": [
      "(439, 3)\n"
     ]
    },
    {
     "data": {
      "text/html": [
       "<div>\n",
       "<style scoped>\n",
       "    .dataframe tbody tr th:only-of-type {\n",
       "        vertical-align: middle;\n",
       "    }\n",
       "\n",
       "    .dataframe tbody tr th {\n",
       "        vertical-align: top;\n",
       "    }\n",
       "\n",
       "    .dataframe thead th {\n",
       "        text-align: right;\n",
       "    }\n",
       "</style>\n",
       "<table border=\"1\" class=\"dataframe\">\n",
       "  <thead>\n",
       "    <tr style=\"text-align: right;\">\n",
       "      <th></th>\n",
       "      <th>text</th>\n",
       "      <th>title</th>\n",
       "      <th>type</th>\n",
       "    </tr>\n",
       "  </thead>\n",
       "  <tbody>\n",
       "    <tr>\n",
       "      <th>0</th>\n",
       "      <td>Inspiring women take center stage in ''Women, ...</td>\n",
       "      <td>Inspiring women take center stage in ''Women, ...</td>\n",
       "      <td>1</td>\n",
       "    </tr>\n",
       "    <tr>\n",
       "      <th>1</th>\n",
       "      <td>Imagine Europe as a target on a radar screen, ...</td>\n",
       "      <td>Europe: Prey or Power?</td>\n",
       "      <td>1</td>\n",
       "    </tr>\n",
       "    <tr>\n",
       "      <th>2</th>\n",
       "      <td>A rocket launched from Gaza struck a house in ...</td>\n",
       "      <td>Netanyahu Cuts Short U.S. Trip After Gaza Rock...</td>\n",
       "      <td>1</td>\n",
       "    </tr>\n",
       "    <tr>\n",
       "      <th>3</th>\n",
       "      <td>Before ''Southern Promises'' begins, the actor...</td>\n",
       "      <td>Scratching the Surface of Slavery</td>\n",
       "      <td>1</td>\n",
       "    </tr>\n",
       "    <tr>\n",
       "      <th>4</th>\n",
       "      <td>Four University of Georgia students were expel...</td>\n",
       "      <td>Pick My Cotton': Video of Mock Whipping Prompt...</td>\n",
       "      <td>1</td>\n",
       "    </tr>\n",
       "  </tbody>\n",
       "</table>\n",
       "</div>"
      ],
      "text/plain": [
       "                                                text  \\\n",
       "0  Inspiring women take center stage in ''Women, ...   \n",
       "1  Imagine Europe as a target on a radar screen, ...   \n",
       "2  A rocket launched from Gaza struck a house in ...   \n",
       "3  Before ''Southern Promises'' begins, the actor...   \n",
       "4  Four University of Georgia students were expel...   \n",
       "\n",
       "                                               title  type  \n",
       "0  Inspiring women take center stage in ''Women, ...     1  \n",
       "1                             Europe: Prey or Power?     1  \n",
       "2  Netanyahu Cuts Short U.S. Trip After Gaza Rock...     1  \n",
       "3                  Scratching the Surface of Slavery     1  \n",
       "4  Pick My Cotton': Video of Mock Whipping Prompt...     1  "
      ]
     },
     "execution_count": 51,
     "metadata": {},
     "output_type": "execute_result"
    }
   ],
   "source": [
    "#读取数据\n",
    "dir_1 = r'New_Data.csv'\n",
    "\n",
    "dir_2 = r'all_data_new_1.csv'\n",
    "\n",
    "df = pd.read_csv(dir_1)\n",
    "df2 = pd.read_csv(dir_2)\n",
    "df['text'] = df['content']\n",
    "df['type'] = df['label']\n",
    "df = df[['text','title','type']]\n",
    "print(df.shape)\n",
    "df.head()"
   ]
  },
  {
   "cell_type": "code",
   "execution_count": 52,
   "metadata": {},
   "outputs": [
    {
     "data": {
      "text/plain": [
       "array([1, 0])"
      ]
     },
     "execution_count": 52,
     "metadata": {},
     "output_type": "execute_result"
    }
   ],
   "source": [
    "df['type'].unique()"
   ]
  },
  {
   "cell_type": "code",
   "execution_count": 53,
   "metadata": {},
   "outputs": [
    {
     "name": "stdout",
     "output_type": "stream",
     "text": [
      "0    1\n",
      "1    1\n",
      "2    1\n",
      "3    1\n",
      "4    1\n",
      "Name: type, dtype: int64\n"
     ]
    }
   ],
   "source": [
    "#转换数据类型\n",
    "df['type'] = df['type'].astype(int)\n",
    "df2['type'] = df2['type'].astype(int)\n",
    "print(df['type'][:5])"
   ]
  },
  {
   "cell_type": "code",
   "execution_count": 54,
   "metadata": {},
   "outputs": [
    {
     "data": {
      "text/plain": [
       "\"Imagine Europe as a target on a radar screen, and you can see the warning alerts flashing red and ubiquitous. Europe is undergoing a multipronged, hybrid attack. The assailants do not coordinate and their goals may vary. But what these flashing signs represent is clear: In the new great-power competition among the United States, China and Russia, Europe has become prey. Its political allegiance to a weakening West, its internal divisions, its attractive assets and its market of 500 million consumers make it an ideal target.\\n\\nThe six-day visit to Italy and France that China's president, Xi Jinping, is finishing this week could be read as a case study of one great power testing those points of weakness and wealth.\\n\\nRussia, for its part a familiar friend and foe, has been at work for some time. The range of Moscow's tools to undermine democratic electoral processes and the cohesion of the European Union, from troll factories to assistance provided to far-right and anti-establishment parties, is now part of our political landscape.\\n\\nFive years of sanctions for the annexation of Crimea have not dented the Kremlin's appetite for meddling in European affairs, nor have they prevented Russia from doing lucrative business. According to the Center for Strategic and International Studies in Washington, over the past couple of years Russia has managed to increase its economic footprint in European Union countries that are more welcoming than others, notably Austria, Italy and the Netherlands. Another recent report, by the online activist organization Avaaz, has shown the active role played by the French-language version of Russia Today, the Russian state media organization; it includes disseminating news, real and fake, about the ''yellow vests'' protests in France. The station's constant coverage of the most violent clashes have proved widely popular on YouTube.\\n\\nChina uses a different approach. Under the guise of the concept of a new Silk Road, with its echoes of Marco Polo, President Xi wants to connect Europe to China economically. This has meant buying the port of Athens and some other crucial gates to southern Europe. Greece was desperate for money, Germany could see no wrong. The new Silk Road, now more prosaically described as the Belt and Road Initiative, has also involved setting up an organization called 16+1 (16 European former Communist states, 11 of them European Union members, plus China) to kindly help them build infrastructure. ''In two years, I have had six bilateral meetings with my Chinese counterpart,'' the prime minister of one small European Union country in the 16+1 said. ''Need I say more?''\\n\\nMore daringly, the highlight of Mr. Xi's visit to Italy, a founding member of the European Union, was the signing on Saturday of a Memorandum of Understanding to endorse the Belt and Road Initiative project.\\n\\nNo longer content with the periphery, China is aiming for the heart of Europe with newfound tenacity: When Washington and Brussels expressed their displeasure with his move on Italy, Beijing doubled down. The United States, supposedly Europe's greatest ally, has its own fight with China -- a big fight over trade that has already slowed economic growth in Europe, and over technological dominance. In a normal world, Washington would have enrolled its European allies in its fight. But this is not a normal world. President Trump's America treats Europe either as a competitor or as a vassal.\\n\\nNot a week has passed without new bullying from the Trump administration. At the Munich Security Conference in mid-February, Vice President Mike Pence ordered European Union governments to withdraw from the Iranian nuclear deal and stop ''undermining'' American sanctions -- which also penalize European companies. French and British defense officials were incensed when America, whom they had followed into Syria, decided unilaterally to withdraw its troops while asking the French to stay behind. And, at a tense discussion about European defense behind closed doors, a senior American diplomat, speaking with a grant of anonymity from reporters in order to allow frankness, sternly lectured West European participants for not being ''sensitive to the United States and to President Trump.''\\n\\nThen came warnings against choosing the giant Chinese tech company Huawei to develop fifth-generation (5G) wireless networks, and threats by Richard Grenell, the American ambassador to Germany, of retaliation involving restrictions on intelligence sharing. Gordon Sondland, the United States' ambassador to the European Union, warned of retaliation if Brussels limits the involvement of American companies in European military projects. Mr. Trump threatened Europe with ''severe'' economic pain if no progress was made in delicate trade talks. Soon enough, reports came out of Washington that Mr. Trump wants to bill European countries for the deployment of American troops, plus 50 percent for the privilege of hosting them, according to Bloomberg News.\\n\\nEurope is a soft target. A close group of 28 states, but not a federal state, it is hampered by its complex decision-making process. The Brexit chaos will inevitably leave its mark. As the French historian Pierre Nora has noted, Europeans, once masters of the world, are now pushed to its periphery.\\n\\nBut Europe does not have to accept defeat.\\n\\nA senior European intelligence official recently said there was a wake-up call in the range of threats confronting the E.U., including interference from Russia and the alt-right, and America's ''weaponization of extraterritorial laws in order to weaken our companies.''\\n\\n''We must assert our European economic sovereignty,'' he said. ''We must rearm collectively.''\\n\\nFor that to take place, unity and political will are essential. Within the European Union as it is, that would be an uphill battle.\\n\\nEuropeans need more than a wake-up call. They must decide whether they can contemplate the prospect of their continent being cut up piece by piece by competing bigger powers, or whether they want to regain enough collective strength and common sense to control their own destiny. 5G networks will be a test. Though Huawei has the technological lead, strong doubts persist about its security. There are European alternatives. As the German center-right politician Norbert Rötgen pointed out on Twitter, ''Europe has the technological capabilities to become an actor itself. That would be expensive. Hence the political question: Do we want to seize this opportunity or let it pass?''\\n\\nBut what role would Europe play in this new world? On March 5, France's President Emmanuel Macron issued a solemn call for ''A European Renaissance'' that was published throughout Europe. ''Europe is not just an economic market. It is a project,'' he wrote, adding that the European civilization ''unites, frees and protects us.'' In an understated reaction titled ''Getting Europe Right,'' Annegret Kramp-Karrenbauer of Germany, the new leader of the conservative Christian Democratic Union, set out a different vision. The contrast could be called the status quo vision versus the strategic vision.\\n\\nThe lack of accord between these two close, major European nations shows the extent of the challenge. On China, though, they finally seem ready to act together. Moved by a sense of urgency to counter the Chinese divisive strategy, President Macron has invited Germany's Chancellor Angela Merkel and the president of the European Union's executive arm to join him in what was originally planned as a bilateral meeting with President Xi, on Tuesday in Paris.\\n\\nSome European leaders still see their continent as the last defender of democracy and multilateralism. Few, unfortunately, are ready to unite to take up that fight.\""
      ]
     },
     "execution_count": 54,
     "metadata": {},
     "output_type": "execute_result"
    }
   ],
   "source": [
    "df['text'][1]"
   ]
  },
  {
   "cell_type": "markdown",
   "metadata": {},
   "source": [
    "**data preprocessing**"
   ]
  },
  {
   "cell_type": "code",
   "execution_count": 55,
   "metadata": {},
   "outputs": [],
   "source": [
    "#去除标点等无用的符号以及停用词\n",
    "def cleanlines(line,remove_stopwords=False):   \n",
    "    p1=re.compile(r'-\\{.*?(zh-hans|zh-cn):([^;]*?)(;.*?)?\\}-')\n",
    "    p2=re.compile(r'[(][: @ . , ？！\\s][)]')\n",
    "    p3=re.compile(r'[「『]')\n",
    "    p4=re.compile(r'[\\s+\\.\\!\\/_,$%^*(+\\\"\\')]+|[+——()?【】“”！，。？、~@#￥%……&*（）0-9 , : ; \\-\\ \\[\\ \\]\\ ]')\n",
    "    p5=re.compile(r'[^a-zA-Z]')\n",
    "    line=p1.sub(r' ',line)\n",
    "    line=p2.sub(r' ',line)\n",
    "    line=p3.sub(r' ',line)\n",
    "    line=p4.sub(r' ',line)\n",
    "    line=p5.sub(r' ',line)\n",
    "    words = line.lower().split()\n",
    "    if remove_stopwords:\n",
    "        words = [w for w in words if w not in eng_stopwords]\n",
    "    return words"
   ]
  },
  {
   "cell_type": "code",
   "execution_count": 56,
   "metadata": {},
   "outputs": [
    {
     "data": {
      "text/plain": [
       "[\"'d\", \"'ll\", \"'m\", \"'re\", \"'s\"]"
      ]
     },
     "execution_count": 56,
     "metadata": {},
     "output_type": "execute_result"
    }
   ],
   "source": [
    "#添加停用词表\n",
    "eng_stopwords = [line.rstrip() for line in open('stop_words.txt')]\n",
    "eng_stopwords[:5]"
   ]
  },
  {
   "cell_type": "code",
   "execution_count": 57,
   "metadata": {},
   "outputs": [],
   "source": [
    "#处理内容文本\n",
    "df['text'] = df['text'].astype(str)\n",
    "sents = df['text']\n",
    "text_words=[cleanlines(sent,remove_stopwords=True) for sent in sents]"
   ]
  },
  {
   "cell_type": "code",
   "execution_count": 58,
   "metadata": {},
   "outputs": [
    {
     "name": "stdout",
     "output_type": "stream",
     "text": [
      "[['inspiring', 'women', 'center', 'stage', 'women', 'war', 'peace', 'ii', 'intruder', 'upends', 'couple', 'life', 'salesman', 'tv', 'women', 'war', 'peace', 'ii', 'pbs', 'check', 'local', 'listings', 'runs', 'limited', 'series', 'returns', 'films', 'women', 'led', 'nonviolent', 'movements', 'peace', 'human', 'rights', 'program', 'wave', 'goodbye', 'dinosaurs', 'northern', 'ireland', 'women', 'coalition', 'political', 'party', 'established', 'secure', 'representation', 'women', 'peace', 'negotiations', 'party', 'disbanded', 'trials', 'spring', 'centers', 'egyptian', 'women', 'fighting', 'bread', 'freedom', 'social', 'justice', 'arab', 'spring', 'half', 'series', 'airs', 'tuesday', 'jesus', 'life', 'history', 'biblical', 'drama', 'mary', 'magdalene', 'hit', 'theaters', 'month', 'rooney', 'mara', 'title', 'role', 'alongside', 'joaquin', 'phoenix', 'jesus', 'story', 'mary', 'jewish', 'woman', 'traveled', 'jesus', 'witnessed', 'crucifixion', 'resurrection', 'told', 'series', 'drama', 'documentary', 'tales', 'figures', 'played', 'roles', 'jesus', 'life', 'episode', 'reimagines', 'jesus', 'birth', 'focus', 'joseph', 'nation', 'stress', 'hbo', 'stream', 'hbo', 'platforms', 'neurosurgeon', 'medical', 'reporter', 'sanjay', 'gupta', 'crisscrosses', 'united', 'understand', 'country', 'life', 'expectancy', 'rate', 'steadily', 'dropping', 'sobering', 'documentary', 'marc', 'levin', 'class', 'divide', 'gupta', 'emphasizes', 'rise', 'deaths', 'despair', 'caused', 'cirrhosis', 'drug', 'overdose', 'suicide', 'researchers', 'obesity', 'chronic', 'stress', 'film', 'conveys', 'discover', 'depression', 'social', 'isolation', 'human', 'issue', 'gupta', 'visits', 'town', 'pennsylvania', 'plant', 'closure', 'left', 'hundreds', 'residents', 'jobless', 'stressed'], ['imagine', 'europe', 'target', 'radar', 'screen', 'warning', 'alerts', 'flashing', 'red', 'ubiquitous', 'europe', 'undergoing', 'multipronged', 'hybrid', 'attack', 'assailants', 'coordinate', 'goals', 'vary', 'flashing', 'signs', 'represent', 'power', 'competition', 'united', 'china', 'russia', 'europe', 'prey', 'political', 'allegiance', 'weakening', 'west', 'internal', 'divisions', 'attractive', 'assets', 'market', 'consumers', 'ideal', 'target', 'day', 'visit', 'italy', 'france', 'china', 'president', 'xi', 'jinping', 'finishing', 'week', 'read', 'study', 'power', 'testing', 'weakness', 'wealth', 'russia', 'familiar', 'friend', 'foe', 'time', 'range', 'moscow', 'tools', 'undermine', 'democratic', 'electoral', 'processes', 'cohesion', 'european', 'union', 'troll', 'factories', 'assistance', 'provided', 'anti', 'establishment', 'parties', 'political', 'landscape', 'sanctions', 'annexation', 'crimea', 'dented', 'kremlin', 'appetite', 'meddling', 'european', 'affairs', 'prevented', 'russia', 'lucrative', 'business', 'center', 'strategic', 'international', 'studies', 'washington', 'couple', 'russia', 'managed', 'increase', 'economic', 'footprint', 'european', 'union', 'countries', 'welcoming', 'notably', 'austria', 'italy', 'netherlands', 'report', 'online', 'activist', 'organization', 'avaaz', 'active', 'role', 'played', 'french', 'language', 'version', 'russia', 'russian', 'media', 'organization', 'includes', 'disseminating', 'news', 'real', 'fake', 'yellow', 'vests', 'protests', 'france', 'station', 'constant', 'coverage', 'violent', 'clashes', 'proved', 'popular', 'youtube', 'china', 'approach', 'guise', 'concept', 'silk', 'road', 'echoes', 'marco', 'polo', 'president', 'xi', 'connect', 'europe', 'china', 'economically', 'meant', 'buying', 'port', 'athens', 'crucial', 'gates', 'southern', 'europe', 'greece', 'desperate', 'money', 'germany', 'wrong', 'silk', 'road', 'prosaically', 'belt', 'road', 'initiative', 'involved', 'setting', 'organization', 'called', 'european', 'communist', 'european', 'union', 'china', 'kindly', 'build', 'infrastructure', 'bilateral', 'meetings', 'chinese', 'counterpart', 'prime', 'minister', 'european', 'union', 'country', 'daringly', 'highlight', 'xi', 'visit', 'italy', 'founding', 'european', 'union', 'signing', 'saturday', 'memorandum', 'understanding', 'endorse', 'belt', 'road', 'initiative', 'project', 'content', 'periphery', 'china', 'aiming', 'heart', 'europe', 'newfound', 'tenacity', 'washington', 'brussels', 'expressed', 'displeasure', 'move', 'italy', 'beijing', 'doubled', 'united', 'supposedly', 'europe', 'ally', 'fight', 'china', 'fight', 'trade', 'slowed', 'economic', 'growth', 'europe', 'technological', 'dominance', 'normal', 'washington', 'enrolled', 'european', 'allies', 'fight', 'normal', 'president', 'trump', 'america', 'treats', 'europe', 'competitor', 'vassal', 'week', 'passed', 'bullying', 'trump', 'administration', 'munich', 'security', 'conference', 'mid', 'february', 'vice', 'president', 'mike', 'pence', 'european', 'union', 'governments', 'withdraw', 'iranian', 'nuclear', 'deal', 'undermining', 'american', 'sanctions', 'penalize', 'european', 'companies', 'french', 'british', 'defense', 'officials', 'incensed', 'america', 'syria', 'decided', 'unilaterally', 'withdraw', 'troops', 'french', 'stay', 'tense', 'discussion', 'european', 'defense', 'closed', 'doors', 'senior', 'american', 'diplomat', 'speaking', 'grant', 'anonymity', 'reporters', 'frankness', 'sternly', 'lectured', 'west', 'european', 'participants', 'sensitive', 'united', 'president', 'trump', 'warnings', 'choosing', 'giant', 'chinese', 'tech', 'company', 'huawei', 'develop', 'generation', 'wireless', 'networks', 'threats', 'richard', 'grenell', 'american', 'ambassador', 'germany', 'retaliation', 'involving', 'restrictions', 'intelligence', 'sharing', 'gordon', 'sondland', 'united', 'ambassador', 'european', 'union', 'warned', 'retaliation', 'brussels', 'limits', 'involvement', 'american', 'companies', 'european', 'military', 'projects', 'trump', 'threatened', 'europe', 'severe', 'economic', 'pain', 'progress', 'delicate', 'trade', 'talks', 'reports', 'washington', 'trump', 'bill', 'european', 'countries', 'deployment', 'american', 'troops', 'percent', 'privilege', 'hosting', 'bloomberg', 'news', 'europe', 'soft', 'target', 'close', 'federal', 'hampered', 'complex', 'decision', 'process', 'brexit', 'chaos', 'inevitably', 'leave', 'mark', 'french', 'historian', 'pierre', 'nora', 'europeans', 'masters', 'pushed', 'periphery', 'europe', 'accept', 'defeat', 'senior', 'european', 'intelligence', 'official', 'wake', 'call', 'range', 'threats', 'confronting', 'including', 'interference', 'russia', 'alt', 'america', 'weaponization', 'extraterritorial', 'laws', 'weaken', 'companies', 'assert', 'european', 'economic', 'sovereignty', 'rearm', 'collectively', 'unity', 'political', 'essential', 'european', 'union', 'uphill', 'battle', 'europeans', 'wake', 'call', 'decide', 'contemplate', 'prospect', 'continent', 'cut', 'piece', 'piece', 'competing', 'bigger', 'powers', 'regain', 'collective', 'strength', 'common', 'sense', 'control', 'destiny', 'networks', 'test', 'huawei', 'technological', 'lead', 'strong', 'doubts', 'persist', 'security', 'european', 'alternatives', 'german', 'center', 'politician', 'norbert', 'tgen', 'twitter', 'europe', 'technological', 'capabilities', 'actor', 'expensive', 'political', 'question', 'seize', 'opportunity', 'pass', 'role', 'europe', 'play', 'march', 'france', 'president', 'emmanuel', 'macron', 'issued', 'solemn', 'call', 'european', 'renaissance', 'published', 'europe', 'europe', 'economic', 'market', 'project', 'wrote', 'adding', 'european', 'civilization', 'unites', 'frees', 'protects', 'understated', 'reaction', 'titled', 'europe', 'annegret', 'kramp', 'karrenbauer', 'germany', 'leader', 'conservative', 'christian', 'democratic', 'union', 'set', 'vision', 'contrast', 'called', 'status', 'quo', 'vision', 'versus', 'strategic', 'vision', 'lack', 'accord', 'close', 'major', 'european', 'nations', 'extent', 'challenge', 'china', 'finally', 'ready', 'moved', 'sense', 'urgency', 'counter', 'chinese', 'divisive', 'strategy', 'president', 'macron', 'invited', 'germany', 'chancellor', 'angela', 'merkel', 'president', 'european', 'union', 'executive', 'arm', 'join', 'originally', 'planned', 'bilateral', 'meeting', 'president', 'xi', 'tuesday', 'paris', 'european', 'leaders', 'continent', 'defender', 'democracy', 'multilateralism', 'ready', 'unite', 'fight'], ['rocket', 'launched', 'gaza', 'struck', 'house', 'central', 'israel', 'monday', 'injuring', 'people', 'setting', 'air', 'raid', 'sirens', 'country', 'forcing', 'prime', 'minister', 'benjamin', 'netanyahu', 'cut', 'short', 'visit', 'united', 'rocket', 'hit', 'israeli', 'monday', 'israel', 'defense', 'forces', 'twitter', 'reporters', 'israeli', 'news', 'outlets', 'tweeted', 'monday', 'rocket', 'hit', 'civilian', 'injuring', 'people', 'including', 'children', 'magen', 'david', 'adom', 'israeli', 'rescue', 'service', 'twitter', 'post', 'treating', 'victims', 'woman', 'moderately', 'wounded', 'attack', 'injured', 'claim', 'responsibility', 'attack', 'hit', 'kfar', 'saba', 'region', 'north', 'tel', 'aviv', 'jerusalem', 'post', 'apparent', 'rocket', 'attack', 'weeks', 'israel', 'hamas', 'de', 'escalate', 'tensions', 'rockets', 'gaza', 'fired', 'tel', 'aviv', 'hamas', 'islamic', 'militant', 'seeks', 'israel', 'destruction', 'gaza', 'possess', 'rockets', 'range', 'capable', 'reaching', 'tel', 'aviv', 'surrounding', 'islamic', 'jihad', 'shares', 'ideology', 'sunday', 'israel', 'defense', 'forces', 'explosives', 'hurled', 'riots', 'gaza', 'israeli', 'border', 'israel', 'struck', 'hamas', 'posts', 'response', 'washington', 'week', 'netanyahu', 'expected', 'meet', 'president', 'trump', 'address', 'policy', 'conference', 'organized', 'american', 'israel', 'public', 'affairs', 'committee', 'aipac', 'benny', 'gantz', 'star', 'netanyahu', 'chief', 'opponent', 'upcoming', 'election', 'called', 'monday', 'prime', 'minister', 'return', 'deal', 'aftermath', 'attack', 'reality', 'hamas', 'israel', 'hostage', 'unprecedented', 'unfathomable', 'gantz', 'wrote', 'twitter', 'netanyahu', 'pack', 'return', 'israel', 'handle', 'escalation', 'prime', 'minister', 'office', 'monday', 'netanyahu', 'cut', 'short', 'visitafter', 'meets', 'president', 'trump', 'local', 'news', 'media', 'press'], ['southern', 'promises', 'actors', 'gather', 'flea', 'theater', 'stage', 'deliver', 'preliminary', 'remarks', 'underlining', 'cast', 'people', 'color', 'integral', 'niegel', 'smith', 'revival', 'thomas', 'bradshaw', 'drama', 'set', 'plantation', 'virginia', 'masters', 'sexes', 'graphically', 'rape', 'slaves', 'sexes', 'brutal', 'violence', 'abounds', 'suggested', 'word', 'thrown', 'casual', 'abandon', 'text', 'includes', 'excerpts', 'real', 'slave', 'narratives', 'evening', 'circling', 'introductory', 'actors', 'mixed', 'heritage', 'slave', 'owner', 'slave', 'adam', 'coy', 'character', 'characters', 'ancestors', 'complicates', 'story', 'straightforward', 'horror', 'married', 'isaiah', 'elizabeth', 'darby', 'davis', 'brittany', 'zaken', 'couple', 'benjamin', 'charlotte', 'shakur', 'tolliver', 'yvonne', 'jessica', 'pruitt', 'isaiah', 'informing', 'wife', 'benjamin', 'slaves', 'freed', 'death', 'elizabeth', 'reneges', 'pledge', 'encouraged', 'brother', 'john', 'marcus', 'jones', 'widow', 'eventually', 'marries', 'isaiah', 'brother', 'david', 'jahsiah', 'rivera', 'forcing', 'benjamin', 'sexually', 'service', 'life', 'remains', 'peachy', 'dominant', 'equation', 'elizabeth', 'birth', 'black', 'baby', 'par', 'bradshaw', 'soap', 'opera', 'plots', 'hinge', 'taboo', 'sexuality', 'depicted', 'matter', 'graphic', 'detachment', 'feel', 'farcical', 'intimacy', 'instance', 'featured', 'teenage', 'porn', 'star', 'realistic', 'ejaculation', 'characters', 'burning', 'included', 'incestuous', 'neo', 'nazi', 'siblings', 'canoodling', 'bathtub', 'bradshaw', 'incidentally', 'views', 'reality', 'hyper', 'reality', 'reality', 'southern', 'promises', 'displays', 'bradshaw', 'signature', 'dispassionate', 'mechanical', 'approach', 'notable', 'productions', 'dealing', 'slavery', 'suzan', 'lori', 'parks', 'white', 'noise', 'jeremy', 'harris', 'slave', 'play', 'blurs', 'deliberate', 'artlessness', 'accidental', 'ineptness', 'degree', 'hard', 'dialogue', 'meant', 'bland', 'clunky', 'read', 'jason', 'sherwood', 'set', 'sneaky', 'comment', 'writing', 'style', 'backdrop', 'black', 'white', 'photograph', 'plantation', 'facade', 'cantilevered', 'looms', 'playing', 'surface', 'depth', 'interior', 'shortchanging', 'bradshaw', 'rounded', 'characters', 'isn', 'complex', 'psychologizing', 'people', 'onstage', 'sense', 'david', 'instance', 'starts', 'decent', 'guy', 'free', 'isaiah', 'slaves', 'abruptly', 'explanation', 'violent', 'sleazeball', 'rivera', 'borderline', 'cartoonish', 'performance', 'actors', 'pulled', 'flea', 'house', 'company', 'bats', 'ill', 'equipped', 'handle', 'play', 'tricky', 'tone', 'bradshaw', 'flatness', 'free', 'judgment', 'characters', 'audience', 'easy', 'narrative', 'devices', 'theatergoers', 'distancing', 'mechanism', 'watching', 'benjamin', 'fantasizes', 'lording', 'slave', 'scene', 'plainly', 'moments', 'feel', 'impact', 'casting', 'forces', 'audience', 'reflect', 'issues', 'responsibility', 'power', 'bradshaw', 'circles', 'scene', 'drastically', 'changed', 'original', 'version', 'benjamin', 'managed', 'escape', 'plantation', 'mailed', 'philadelphia', 'box', 'happen', 'finale', 'bradshaw', 'twist', 'tale', 'idea', 'happy', 'raise', 'eyebrows', 'southern', 'promises', 'april', 'flea', 'theater', 'manhattan', 'theflea', 'org', 'running', 'time', 'hour', 'minutes'], ['university', 'georgia', 'students', 'expelled', 'fraternity', 'saturday', 'video', 'surfaced', 'students', 'mock', 'whipping', 'motion', 'belt', 'shouted', 'pick', 'cotton', 'video', 'initially', 'posted', 'snapchat', 'reposted', 'twitter', 'white', 'students', 'bed', 'standing', 'student', 'covered', 'comforter', 'holds', 'belt', 'students', 'pick', 'cotton', 'responds', 'black', 'repeatedly', 'pick', 'cotton', 'whipping', 'motion', 'belt', 'student', 'wait', 'video', 'pick', 'cotton', 'racial', 'slur', 'students', 'start', 'laughing', 'video', 'university', 'georgia', 'condemned', 'video', 'racism', 'campus', 'university', 'athens', 'miles', 'east', 'atlanta', 'time', 'equivalent', 'students', 'percent', 'white', 'memo', 'gregory', 'roskopf', 'chief', 'risk', 'officer', 'fraternity', 'tau', 'kappa', 'epsilon', 'local', 'chapter', 'temporarily', 'suspended', 'news', 'release', 'fraternity', 'disgusted', 'appalled', 'angered', 'remarks', 'video', 'expelled', 'video', 'shot', 'setting', 'unconnected', 'fraternity', 'function', 'chapter', 'premises', 'statements', 'expulsion', 'students', 'fraternity', 'tau', 'kappa', 'epsilon', 'temporary', 'suspension', 'local', 'chapter', 'quell', 'concerns', 'black', 'students', 'unfathomable', 'stuff', 'school', 'learn', 'attend', 'obinna', 'ibebunjo', 'senior', 'extremely', 'outraged', 'offended', 'ignorance', 'modern', 'day', 'college', 'campus', 'ibebunjo', 'omega', 'psi', 'phi', 'fraternity', 'historically', 'black', 'fraternity', 'suspended', 'fraternity', 'reprimanded', 'school', 'slap', 'wrist', 'colleges', 'moving', 'liberal', 'progressive', 'record', 'post', 'extremely', 'ridiculous', 'ibebunjo', 'hard', 'change', 'culture', 'campus', 'student', 'halls', 'named', 'slave', 'owners', 'richard', 'brevard', 'russell', 'junior', 'hall', 'named', 'slave', 'owner', 'ibebunjo', 'pretty', 'outspoken', 'leader', 'civil', 'rights', 'movement', 'underlined', 'messages', 'uga', 'black', 'students', 'raise', 'awareness', 'create', 'inclusive', 'campus']]\n"
     ]
    }
   ],
   "source": [
    "len(text_words)\n",
    "print(text_words[:5])"
   ]
  },
  {
   "cell_type": "code",
   "execution_count": 59,
   "metadata": {},
   "outputs": [],
   "source": [
    "#处理标题文本\n",
    "df['title'] = df['title'].astype(str)\n",
    "title_sents = df['title']\n",
    "title_words=[cleanlines(sent,remove_stopwords=True) for sent in title_sents]"
   ]
  },
  {
   "cell_type": "code",
   "execution_count": 60,
   "metadata": {},
   "outputs": [],
   "source": [
    "#讲内容和标题连接在一起\n",
    "def concat_text(text_words,title_words):\n",
    "    concat_text = []\n",
    "    for i in range(len(text_words)):\n",
    "        temp = text_words[i]+title_words[i]\n",
    "        concat_text.append(temp)\n",
    "    return concat_text\n",
    "\n",
    "concat_text = concat_text(text_words,title_words)\n",
    "        "
   ]
  },
  {
   "cell_type": "code",
   "execution_count": 61,
   "metadata": {},
   "outputs": [
    {
     "data": {
      "text/plain": [
       "439"
      ]
     },
     "execution_count": 61,
     "metadata": {},
     "output_type": "execute_result"
    }
   ],
   "source": [
    "\n",
    "len(concat_text)"
   ]
  },
  {
   "cell_type": "markdown",
   "metadata": {},
   "source": [
    "*build dict*"
   ]
  },
  {
   "cell_type": "code",
   "execution_count": 62,
   "metadata": {},
   "outputs": [],
   "source": [
    "# set parameters:\n",
    "#字典大小\n",
    "vocab_size = 5000 #dict size\n",
    "batch_size = 200 #batch size for each training\n",
    "sequence_length = 300 #sequence length -same for every sample\n",
    "embedding_dims=128 #embed dim"
   ]
  },
  {
   "cell_type": "code",
   "execution_count": 63,
   "metadata": {},
   "outputs": [],
   "source": [
    "#build dic\n",
    "def build_vocab(content_list,vocab_size):\n",
    "    vocab_size = vocab_size\n",
    "    all_vocabs = []\n",
    "    for content in content_list:\n",
    "        all_vocabs.extend(list(content))\n",
    "    #{word:counts}\n",
    "    counter = Counter(all_vocabs)\n",
    "    #take the most common top 4999\n",
    "    count_pairs = counter.most_common(vocab_size - 1)  #return pairs\n",
    "    words, _ = list(zip(*count_pairs))    #ignore the counts\n",
    "    words = ['<PAD>'] + list(words)  #防止样本数太小 填充为0 \n",
    "    word_to_id = dict(zip(words, range(len(words))))  #change pos to 编号 number\n",
    "    return words, word_to_id"
   ]
  },
  {
   "cell_type": "code",
   "execution_count": 64,
   "metadata": {},
   "outputs": [
    {
     "name": "stdout",
     "output_type": "stream",
     "text": [
      "{'<PAD>': 0, 'trump': 1, 'clinton': 2, 'president': 3, 'people': 4, 'hillary': 5, 'donald': 6, 'obama': 7, 'campaign': 8, 'debate': 9, 'time': 10, 'american': 11, 'police': 12, 'don': 13, 'news': 14, 'country': 15, 'told': 16, 'story': 17, 'white': 18, 'presidential': 19, 'york': 20, 'house': 21, 'america': 22, 'republican': 23, 'united': 24, 'black': 25, 'election': 26, 'bill': 27, 'law': 28, 'political': 29, 'justice': 30, 'day': 31, 'americans': 32, 'john': 33, 'government': 34, 'war': 35, 'didn': 36, 'called': 37, 'monday': 38, 'public': 39, 'washington': 40, 'life': 41, 'candidate': 42, 've': 43, 'media': 44, 'democrats': 45, 'women': 46, 'cnn': 47, 'party': 48, 'night': 49, 'office': 50, 'family': 51, 'voters': 52, 'russia': 53, 'support': 54, 'national': 55, 'nan': 56, 'week': 57, 'democratic': 58, 'north': 59, 'twitter': 60, 'report': 61, 'september': 62, 'foundation': 63, 'investigation': 64, 'department': 65, 'federal': 66, 'city': 67, 'nominee': 68, 'policy': 69, 'vote': 70, 'money': 71, 'doesn': 72, 'foreign': 73, 'percent': 74, 'including': 75, 'continued': 76, 'times': 77, 'court': 78, 'video': 79, 'mueller': 80, 'officials': 81, 'charlotte': 82, 'republicans': 83, 'matter': 84, 'statement': 85, 'days': 86, 'russian': 87, 'security': 88, 'race': 89, 'evidence': 90, 'real': 91, 'press': 92, 'read': 93, 'south': 94, 'person': 95, 'history': 96, 'military': 97, 'senate': 98, 'fox': 99, 'question': 100, 'll': 101, 'officers': 102, 'interview': 103, 'morning': 104, 'terrorism': 105, 'islamic': 106, 'tuesday': 107, 'administration': 108, 'post': 109, 'won': 110, 'business': 111, 'fbi': 112, 'nation': 113, 'adults': 114, 'secretary': 115, 'attacks': 116, 'muslim': 117, 'attack': 118, 'facebook': 119, 'african': 120, 'deal': 121, 'shot': 122, 'lives': 123, 'share': 124, 'poll': 125, 'hawkins': 126, 'local': 127, 'issue': 128, 'candidates': 129, 'isis': 130, 'carolina': 131, 'short': 132, 'bush': 133, 'virginia': 134, 'months': 135, 'top': 136, 'voting': 137, 'left': 138, 'children': 139, 'death': 140, 'special': 141, 'korea': 142, 'rights': 143, 'decision': 144, 'friends': 145, 'congress': 146, 'speech': 147, 'change': 148, 'health': 149, 'cruz': 150, 'leader': 151, 'control': 152, 'start': 153, 'debates': 154, 'lot': 155, 'drugs': 156, 'wednesday': 157, 'china': 158, 'company': 159, 'chief': 160, 'earlier': 161, 'barr': 162, 'job': 163, 'terrorist': 164, 'barack': 165, 'month': 166, 'anti': 167, 'attorney': 168, 'tax': 169, 'power': 170, 'wrote': 171, 'violence': 172, 'hard': 173, 'questions': 174, 'crime': 175, 'countries': 176, 'university': 177, 'school': 178, 'taxes': 179, 'rahami': 180, 'woman': 181, 'set': 182, 'isn': 183, 'issues': 184, 'released': 185, 'gop': 186, 'call': 187, 'private': 188, 'bring': 189, 'started': 190, 'fight': 191, 'sunday': 192, 'committee': 193, 'talking': 194, 'care': 195, 'live': 196, 'scott': 197, 'watch': 198, 'west': 199, 'international': 200, 'wrong': 201, 'running': 202, 'minutes': 203, 'democrat': 204, 'comments': 205, 'reported': 206, 'bad': 207, 'ryan': 208, 'jersey': 209, 'leaders': 210, 'daily': 211, 'conference': 212, 'enforcement': 213, 'friday': 214, 'florida': 215, 'god': 216, 'economic': 217, 'lead': 218, 'major': 219, 'release': 220, 'lost': 221, 'director': 222, 'plan': 223, 'governor': 224, 'millions': 225, 'buchanan': 226, 'guy': 227, 'idea': 228, 'civil': 229, 'talk': 230, 'congressional': 231, 'head': 232, 'terrorists': 233, 'defense': 234, 'meeting': 235, 'shares': 236, 'free': 237, 'wasn': 238, 'reason': 239, 'ago': 240, 'counsel': 241, 'stage': 242, 'nuclear': 243, 'reporters': 244, 'sense': 245, 'wife': 246, 'ms': 247, 'senator': 248, 'judge': 249, 'stand': 250, 'community': 251, 'authors': 252, 'pay': 253, 'holt': 254, 'team': 255, 'presidency': 256, 'shooting': 257, 'message': 258, 'county': 259, 'action': 260, 'personal': 261, 'racist': 262, 'met': 263, 'win': 264, 'muslims': 265, 'official': 266, 'feel': 267, 'supporters': 268, 'move': 269, 'play': 270, 'march': 271, 'middle': 272, 'criminal': 273, 'happened': 274, 'politics': 275, 'continue': 276, 'heard': 277, 'peace': 278, 'reports': 279, 'weeks': 280, 'response': 281, 'spent': 282, 'legal': 283, 'force': 284, 'carter': 285, 'father': 286, 'freedom': 287, 'officer': 288, 'record': 289, 'prosecutors': 290, 'hiv': 291, 'based': 292, 'benefit': 293, 'rest': 294, 'calling': 295, 'held': 296, 'breaking': 297, 'terror': 298, 'rich': 299, 'truth': 300, 'social': 301, 'leave': 302, 'service': 303, 'audience': 304, 'book': 305, 'system': 306, 'district': 307, 'november': 308, 'lies': 309, 'threat': 310, 'polls': 311, 'worst': 312, 'answer': 313, 'economy': 314, 'article': 315, 'claims': 316, 'abc': 317, 'refugees': 318, 'half': 319, 'expressed': 320, 'senior': 321, 'nations': 322, 'true': 323, 'late': 324, 'robert': 325, 'car': 326, 'energy': 327, 'coming': 328, 'iraq': 329, 'victims': 330, 'word': 331, 'event': 332, 'trial': 333, 'photo': 334, 'attention': 335, 'opinion': 336, 'global': 337, 'image': 338, 'hit': 339, 'role': 340, 'understand': 341, 'southern': 342, 'passed': 343, 'syria': 344, 'views': 345, 'position': 346, 'charges': 347, 'lie': 348, 'moment': 349, 'abortion': 350, 'mail': 351, 'human': 352, 'organization': 353, 'claim': 354, 'thousands': 355, 'plans': 356, 'george': 357, 'families': 358, 'http': 359, 'nbc': 360, 'center': 361, 'union': 362, 'speaking': 363, 'actions': 364, 'front': 365, 'couldn': 366, 'brought': 367, 'syrian': 368, 'votes': 369, 'saudi': 370, 'led': 371, 'saturday': 372, 'suggested': 373, 'buy': 374, 'body': 375, 'wall': 376, 'email': 377, 'calls': 378, 'paid': 379, 'mayor': 380, 'putin': 381, 'texas': 382, 'paul': 383, 'king': 384, 'european': 385, 'chinese': 386, 'pence': 387, 'israel': 388, 'comment': 389, 'chance': 390, 'letter': 391, 'staff': 392, 'shared': 393, 'crisis': 394, 'announced': 395, 'source': 396, 'dead': 397, 'funding': 398, 'sept': 399, 'moderator': 400, 'ranbaxy': 401, 'europe': 402, 'close': 403, 'mark': 404, 'laws': 405, 'executive': 406, 'racism': 407, 'died': 408, 'aides': 409, 'protest': 410, 'allowed': 411, 'fear': 412, 'program': 413, 'town': 414, 'trade': 415, 'conservative': 416, 'david': 417, 'water': 418, 'thursday': 419, 'lawyer': 420, 'effort': 421, 'simply': 422, 'efforts': 423, 'crimes': 424, 'street': 425, 'protesters': 426, 'paying': 427, 'hold': 428, 'johnson': 429, 'getty': 430, 'check': 431, 'birth': 432, 'process': 433, 'strong': 434, 'border': 435, 'return': 436, 'murder': 437, 'appeared': 438, 'claimed': 439, 'hand': 440, 'list': 441, 'bit': 442, 'future': 443, 'killed': 444, 'authorities': 445, 'born': 446, 'lawsuit': 447, 'citizens': 448, 'violent': 449, 'decided': 450, 'potential': 451, 'secret': 452, 'parents': 453, 'july': 454, 'forward': 455, 'chelsea': 456, 'liberals': 457, 'error': 458, 'sen': 459, 'moscow': 460, 'writing': 461, 'statements': 462, 'liberal': 463, 'telling': 464, 'james': 465, 'respect': 466, 'weekend': 467, 'hours': 468, 'hope': 469, 'low': 470, 'gun': 471, 'child': 472, 'ban': 473, 'weapons': 474, 'couple': 475, 'involved': 476, 'opportunity': 477, 'lack': 478, 'netanyahu': 479, 'college': 480, 'movement': 481, 'view': 482, 'mind': 483, 'ahead': 484, 'wouldn': 485, 'experience': 486, 'false': 487, 'filled': 488, 'obstruction': 489, 'michael': 490, 'key': 491, 'elected': 492, 'illegal': 493, 'speak': 494, 'entire': 495, 'investigations': 496, 'church': 497, 'love': 498, 'spokesman': 499, 'rep': 500, 'protect': 501, 'lifetime': 502, 'events': 503, 'ap': 504, 'kallstadt': 505, 'frisk': 506, 'reporter': 507, 'study': 508, 'minister': 509, 'common': 510, 'air': 511, 'tweeted': 512, 'manhattan': 513, 'documents': 514, 'comey': 515, 'single': 516, 'access': 517, 'businesses': 518, 'measure': 519, 'legislation': 520, 'majority': 521, 'term': 522, 'commission': 523, 'advice': 524, 'kennedy': 525, 'politico': 526, 'believes': 527, 'oct': 528, 'pennsylvania': 529, 'address': 530, 'supreme': 531, 'raised': 532, 'constitutional': 533, 'suspect': 534, 'newly': 535, 'final': 536, 'emails': 537, 'mcconnell': 538, 'step': 539, 'gay': 540, 'game': 541, 'caught': 542, 'reagan': 543, 'aids': 544, 'watched': 545, 'confederate': 546, 'pic': 547, 'author': 548, 'highlights': 549, 'vice': 550, 'companies': 551, 'christian': 552, 'finally': 553, 'forces': 554, 'remarks': 555, 'featured': 556, 'supposed': 557, 'relationship': 558, 'forced': 559, 'ties': 560, 'speaker': 561, 'hear': 562, 'offered': 563, 'charity': 564, 'spoke': 565, 'level': 566, 'spending': 567, 'add': 568, 'joe': 569, 'lester': 570, 'focus': 571, 'affairs': 572, 'protests': 573, 'intelligence': 574, 'injured': 575, 'students': 576, 'repeatedly': 577, 'racial': 578, 'lawyers': 579, 'attacked': 580, 'internet': 581, 'fire': 582, 'conway': 583, 'billion': 584, 'current': 585, 'property': 586, 'agents': 587, 'aid': 588, 'al': 589, 'result': 590, 'received': 591, 'lady': 592, 'cover': 593, 'living': 594, 'keith': 595, 'ahmad': 596, 'chai': 597, 'wildstein': 598, 'hundreds': 599, 'germany': 600, 'meetings': 601, 'test': 602, 'pass': 603, 'eventually': 604, 'watching': 605, 'moments': 606, 'happy': 607, 'pretty': 608, 'serve': 609, 'chairman': 610, 'amount': 611, 'committed': 612, 'constitution': 613, 'authority': 614, 'prove': 615, 'failed': 616, 'financial': 617, 'television': 618, 'push': 619, 'ground': 620, 'records': 621, 'hate': 622, 'critical': 623, 'continues': 624, 'cohen': 625, 'jobs': 626, 'talked': 627, 'chicago': 628, 'bomb': 629, 'sources': 630, 'choice': 631, 'society': 632, 'ohio': 633, 'returns': 634, 'popular': 635, 'road': 636, 'prime': 637, 'ready': 638, 'impact': 639, 'incident': 640, 'building': 641, 'worse': 642, 'lying': 643, 'prevent': 644, 'faith': 645, 'islam': 646, 'age': 647, 'massive': 648, 'situation': 649, 'arrested': 650, 'refused': 651, 'tonight': 652, 'lessons': 653, 'red': 654, 'sanctions': 655, 'warned': 656, 'adding': 657, 'fired': 658, 'reality': 659, 'east': 660, 'decades': 661, 'mother': 662, 'lawmakers': 663, 'endorsed': 664, 'minute': 665, 'takes': 666, 'policies': 667, 'rally': 668, 'helped': 669, 'leading': 670, 'huge': 671, 'patients': 672, 'schumer': 673, 'rule': 674, 'largest': 675, 'remember': 676, 'completely': 677, 'august': 678, 'amendment': 679, 'inside': 680, 'christie': 681, 'tv': 682, 'series': 683, 'medical': 684, 'drug': 685, 'residents': 686, 'concerns': 687, 'images': 688, 'written': 689, 'adviser': 690, 'aide': 691, 'hospital': 692, 'dollars': 693, 'attempted': 694, 'charge': 695, 'attempt': 696, 'jr': 697, 'deep': 698, 'ted': 699, 'leadership': 700, 'appears': 701, 'western': 702, 'provide': 703, 'st': 704, 'looked': 705, 'filed': 706, 'sex': 707, 'kelly': 708, 'values': 709, 'gov': 710, 'primary': 711, 'space': 712, 'coal': 713, 'electoral': 714, 'meant': 715, 'mike': 716, 'troops': 717, 'expected': 718, 'included': 719, 'hour': 720, 'accused': 721, 'communities': 722, 'june': 723, 'firm': 724, 'details': 725, 'responded': 726, 'biggest': 727, 'multiple': 728, 'charged': 729, 'powerful': 730, 'birther': 731, 'bank': 732, 'cities': 733, 'argued': 734, 'immigration': 735, 'starting': 736, 'shouldn': 737, 'sir': 738, 'mexico': 739, 'board': 740, 'gleaned': 741, 'flint': 742, 'fighting': 743, 'project': 744, 'allies': 745, 'battle': 746, 'cut': 747, 'strategy': 748, 'responsibility': 749, 'minority': 750, 'intent': 751, 'thinking': 752, 'difficult': 753, 'guilty': 754, 'total': 755, 'deeply': 756, 'growing': 757, 'send': 758, 'drew': 759, 'indian': 760, 'employees': 761, 'defend': 762, 'conspiracy': 763, 'difference': 764, 'directly': 765, 'discrimination': 766, 'lose': 767, 'hands': 768, 'immigrants': 769, 'discovered': 770, 'manager': 771, 'tweet': 772, 'dangerous': 773, 'mccain': 774, 'citizenship': 775, 'door': 776, 'certificate': 777, 'advantage': 778, 'minted': 779, 'digestible': 780, 'chapters': 781, 'friedrich': 782, 'saudis': 783, 'market': 784, 'parties': 785, 'kremlin': 786, 'language': 787, 'heart': 788, 'piece': 789, 'issued': 790, 'evening': 791, 'slavery': 792, 'training': 793, 'worth': 794, 'experts': 795, 'served': 796, 'investigators': 797, 'concluded': 798, 'scandal': 799, 'considered': 800, 'sexual': 801, 'armed': 802, 'server': 803, 'voice': 804, 'afghanistan': 805, 'africa': 806, 'network': 807, 'scheduled': 808, 'solely': 809, 'wins': 810, 'pressure': 811, 'eyes': 812, 'poor': 813, 'cuban': 814, 'ballot': 815, 'october': 816, 'arabia': 817, 'class': 818, 'screen': 819, 'meet': 820, 'star': 821, 'opponent': 822, 'cast': 823, 'color': 824, 'rape': 825, 'remains': 826, 'student': 827, 'hurt': 828, 'site': 829, 'lewis': 830, 'ultimately': 831, 'sought': 832, 'ideas': 833, 'daughter': 834, 'broke': 835, 'favor': 836, 'reach': 837, 'main': 838, 'sign': 839, 'afternoon': 840, 'son': 841, 'emergency': 842, 'stories': 843, 'food': 844, 'demanding': 845, 'pro': 846, 'safety': 847, 'hasn': 848, 'haven': 849, 'bombing': 850, 'concern': 851, 'explained': 852, 'prison': 853, 'sort': 854, 'owned': 855, 'politicians': 856, 'kids': 857, 'religion': 858, 'type': 859, 'offer': 860, 'website': 861, 'kill': 862, 'monuments': 863, 'mails': 864, 'biden': 865, 'caused': 866, 'includes': 867, 'progress': 868, 'named': 869, 'declared': 870, 'note': 871, 'william': 872, 'sitting': 873, 'practice': 874, 'doubt': 875, 'elections': 876, 'complete': 877, 'agree': 878, 'land': 879, 'approved': 880, 'wikileaks': 881, 'matters': 882, 'minnesota': 883, 'voted': 884, 'absolutely': 885, 'controlled': 886, 'criticism': 887, 'radical': 888, 'focused': 889, 'alleged': 890, 'schools': 891, 'travel': 892, 'terms': 893, 'kerry': 894, 'created': 895, 'claiming': 896, 'citizen': 897, 'hollywood': 898, 'ad': 899, 'host': 900, 'tough': 901, 'eye': 902, 'fair': 903, 'steve': 904, 'dnc': 905, 'chris': 906, 'winning': 907, 'hofstra': 908, 'battleground': 909, 'romney': 910, 'eaglerising': 911, 'visit': 912, 'increase': 913, 'wake': 914, 'german': 915, 'moved': 916, 'deliver': 917, 'slaves': 918, 'slave': 919, 'scene': 920, 'posted': 921, 'standing': 922, 'hall': 923, 'hotel': 924, 'profiling': 925, 'innocent': 926, 'seek': 927, 'concerned': 928, 'victory': 929, 'reasons': 930, 'hoping': 931, 'approval': 932, 'dollar': 933, 'reporting': 934, 'council': 935, 'responsible': 936, 'additional': 937, 'estate': 938, 'aware': 939, 'impeachment': 940, 'california': 941, 'agreed': 942, 'impeach': 943, 'opposition': 944, 'education': 945, 'bombings': 946, 'light': 947, 'standard': 948, 'fund': 949, 'legacy': 950, 'apartment': 951, 'boy': 952, 'mainstream': 953, 'brown': 954, 'giuliani': 955, 'veterans': 956, 'michelle': 957, 'straight': 958, 'peaceful': 959, 'excuse': 960, 'protection': 961, 'controversial': 962, 'victim': 963, 'marijuana': 964, 'winner': 965, 'arms': 966, 'convention': 967, 'smart': 968, 'double': 969, 'veto': 970, 'viewers': 971, 'friend': 972, 'version': 973, 'closed': 974, 'central': 975, 'baby': 976, 'happen': 977, 'wait': 978, 'learn': 979, 'culture': 980, 'signed': 981, 'believed': 982, 'treated': 983, 'witnesses': 984, 'blood': 985, 'husband': 986, 'sound': 987, 'reached': 988, 'deputy': 989, 'army': 990, 'corruption': 991, 'basic': 992, 'agenda': 993, 'decade': 994, 'investigating': 995, 'killing': 996, 'loss': 997, 'visited': 998, 'art': 999, 'pelosi': 1000, 'individuals': 1001, 'criticized': 1002, 'ability': 1003, 'religious': 1004, 'sentence': 1005, 'wang': 1006, 'promised': 1007, 'direction': 1008, 'successful': 1009, 'granted': 1010, 'sick': 1011, 'refugee': 1012, 'spend': 1013, 'safe': 1014, 'shut': 1015, 'charitable': 1016, 'lee': 1017, 'revealed': 1018, 'stated': 1019, 'hell': 1020, 'trust': 1021, 'terrible': 1022, 'partner': 1023, 'agency': 1024, 'period': 1025, 'lynch': 1026, 'absentee': 1027, 'kaine': 1028, 'played': 1029, 'rate': 1030, 'rise': 1031, 'imagine': 1032, 'fake': 1033, 'february': 1034, 'richard': 1035, 'chaos': 1036, 'accept': 1037, 'elizabeth': 1038, 'playing': 1039, 'extremely': 1040, 'nice': 1041, 'representative': 1042, 'account': 1043, 'prominent': 1044, 'sanders': 1045, 'holding': 1046, 'correct': 1047, 'crowd': 1048, 'resources': 1049, 'floor': 1050, 'gain': 1051, 'agreement': 1052, 'michigan': 1053, 'traditional': 1054, 'require': 1055, 'december': 1056, 'learned': 1057, 'individual': 1058, 'artists': 1059, 'block': 1060, 'fall': 1061, 'dr': 1062, 'purpose': 1063, 'highly': 1064, 'guys': 1065, 'leads': 1066, 'rules': 1067, 'arizona': 1068, 'gas': 1069, 'jim': 1070, 'personally': 1071, 'thompson': 1072, 'journalists': 1073, 'employee': 1074, 'monument': 1075, 'seth': 1076, 'wheeler': 1077, 'staffer': 1078, 'wars': 1079, 'cops': 1080, 'peter': 1081, 'khan': 1082, 'wendel': 1083, 'arpaio': 1084, 'nelson': 1085, 'coverage': 1086, 'normal': 1087, 'politician': 1088, 'reaction': 1089, 'join': 1090, 'trip': 1091, 'thomas': 1092, 'pulled': 1093, 'bed': 1094, 'base': 1095, 'profile': 1096, 'path': 1097, 'acting': 1098, 'doctor': 1099, 'simple': 1100, 'corrupt': 1101, 'explain': 1102, 'direct': 1103, 'admitted': 1104, 'acknowledged': 1105, 'cloud': 1106, 'january': 1107, 'assault': 1108, 'wearing': 1109, 'kitchen': 1110, 'condition': 1111, 'jail': 1112, 'leaving': 1113, 'weapon': 1114, 'request': 1115, 'eastern': 1116, 'increased': 1117, 'domestic': 1118, 'form': 1119, 'continuing': 1120, 'services': 1121, 'enter': 1122, 'subject': 1123, 'success': 1124, 'income': 1125, 'happening': 1126, 'loved': 1127, 'bringing': 1128, 'lincoln': 1129, 'ceo': 1130, 'photos': 1131, 'ass': 1132, 'destroy': 1133, 'voter': 1134, 'louisiana': 1135, 'promise': 1136, 'https': 1137, 'danger': 1138, 'merrill': 1139, 'gore': 1140, 'northern': 1141, 'build': 1142, 'strength': 1143, 'wounded': 1144, 'de': 1145, 'promises': 1146, 'brother': 1147, 'jason': 1148, 'style': 1149, 'changed': 1150, 'covered': 1151, 'stuff': 1152, 'create': 1153, 'trail': 1154, 'reading': 1155, 'park': 1156, 'music': 1157, 'conduct': 1158, 'facing': 1159, 'appearance': 1160, 'confirmed': 1161, 'conflict': 1162, 'wing': 1163, 'club': 1164, 'phone': 1165, 'previous': 1166, 'fast': 1167, 'videos': 1168, 'built': 1169, 'offers': 1170, 'required': 1171, 'identified': 1172, 'shortly': 1173, 'dozen': 1174, 'prepared': 1175, 'opposed': 1176, 'driving': 1177, 'reid': 1178, 'disgusting': 1179, 'fellow': 1180, 'homeland': 1181, 'attacking': 1182, 'lines': 1183, 'surely': 1184, 'expect': 1185, 'nato': 1186, 'custody': 1187, 'organizations': 1188, 'honor': 1189, 'figure': 1190, 'write': 1191, 'universe': 1192, 'hampshire': 1193, 'checking': 1194, 'picture': 1195, 'possibility': 1196, 'stopped': 1197, 'reportedly': 1198, 'australia': 1199, 'blame': 1200, 'allegedly': 1201, 'burks': 1202, 'streets': 1203, 'mass': 1204, 'shootings': 1205, 'lgbt': 1206, 'josh': 1207, 'riot': 1208, 'provided': 1209, 'approach': 1210, 'setting': 1211, 'threats': 1212, 'powers': 1213, 'published': 1214, 'struck': 1215, 'smith': 1216, 'dealing': 1217, 'ill': 1218, 'original': 1219, 'raise': 1220, 'april': 1221, 'moving': 1222, 'miller': 1223, 'search': 1224, 'denied': 1225, 'disabilities': 1226, 'ruled': 1227, 'egypt': 1228, 'cost': 1229, 'insisted': 1230, 'decisions': 1231, 'honest': 1232, 'serving': 1233, 'addition': 1234, 'tower': 1235, 'hopes': 1236, 'budget': 1237, 'helping': 1238, 'influence': 1239, 'ensure': 1240, 'discussed': 1241, 'industry': 1242, 'benefits': 1243, 'jeff': 1244, 'tim': 1245, 'receive': 1246, 'grow': 1247, 'cash': 1248, 'returned': 1249, 'institute': 1250, 'carry': 1251, 'connection': 1252, 'follow': 1253, 'seeking': 1254, 'mention': 1255, 'sad': 1256, 'journalism': 1257, 'fine': 1258, 'supporting': 1259, 'nov': 1260, 'girl': 1261, 'unclear': 1262, 'podesta': 1263, 'cole': 1264, 'shocked': 1265, 'appeal': 1266, 'cbs': 1267, 'famous': 1268, 'guess': 1269, 'veteran': 1270, 'items': 1271, 'cold': 1272, 'resign': 1273, 'beat': 1274, 'design': 1275, 'waiting': 1276, 'walter': 1277, 'proposed': 1278, 'replied': 1279, 'exchange': 1280, 'stands': 1281, 'agent': 1282, 'clintons': 1283, 'stood': 1284, 'sounds': 1285, 'informed': 1286, 'rubio': 1287, 'exist': 1288, 'bias': 1289, 'protecting': 1290, 'unfair': 1291, 'caller': 1292, 'skittles': 1293, 'pac': 1294, 'politi': 1295, 'warning': 1296, 'france': 1297, 'port': 1298, 'beijing': 1299, 'governments': 1300, 'generation': 1301, 'networks': 1302, 'involving': 1303, 'bloomberg': 1304, 'pushed': 1305, 'contrast': 1306, 'challenge': 1307, 'planned': 1308, 'israeli': 1309, 'region': 1310, 'performance': 1311, 'org': 1312, 'pick': 1313, 'risk': 1314, 'lived': 1315, 'roughly': 1316, 'courts': 1317, 'publicly': 1318, 'reference': 1319, 'praise': 1320, 'arrived': 1321, 'failure': 1322, 'territory': 1323, 'annual': 1324, 'grand': 1325, 'confidence': 1326, 'msnbc': 1327, 'summer': 1328, 'ridge': 1329, 'relations': 1330, 'consequences': 1331, 'carrying': 1332, 'topics': 1333, 'maryland': 1334, 'remove': 1335, 'break': 1336, 'actual': 1337, 'critics': 1338, 'pushing': 1339, 'targeted': 1340, 'green': 1341, 'presidents': 1342, 'receiving': 1343, 'hide': 1344, 'housing': 1345, 'career': 1346, 'allowing': 1347, 'raising': 1348, 'recognize': 1349, 'sending': 1350, 'sum': 1351, 'oil': 1352, 'frank': 1353, 'museum': 1354, 'produce': 1355, 'silvers': 1356, 'device': 1357, 'ford': 1358, 'fraud': 1359, 'remain': 1360, 'polling': 1361, 'occurred': 1362, 'obvious': 1363, 'choose': 1364, 'radio': 1365, 'yeah': 1366, 'folks': 1367, 'conservatives': 1368, 'super': 1369, 'programs': 1370, 'eric': 1371, 'condom': 1372, 'tests': 1373, 'dc': 1374, 'explosion': 1375, 'illinois': 1376, 'tank': 1377, 'statue': 1378, 'iran': 1379, 'bombs': 1380, 'ballots': 1381, 'anderson': 1382, 'cop': 1383, 'realdonaldtrump': 1384, 'falconer': 1385, 'gazprom': 1386, 'suicide': 1387, 'target': 1388, 'familiar': 1389, 'online': 1390, 'initiative': 1391, 'stay': 1392, 'ambassador': 1393, 'decide': 1394, 'launched': 1395, 'owner': 1396, 'degree': 1397, 'explanation': 1398, 'narrative': 1399, 'dog': 1400, 'female': 1401, 'expectations': 1402, 'argument': 1403, 'determine': 1404, 'testimony': 1405, 'inquiry': 1406, 'dozens': 1407, 'urged': 1408, 'answers': 1409, 'steps': 1410, 'numerous': 1411, 'engaged': 1412, 'deals': 1413, 'addressing': 1414, 'jews': 1415, 'walk': 1416, 'briefed': 1417, 'brian': 1418, 'contact': 1419, 'plane': 1420, 'field': 1421, 'attracted': 1422, 'fans': 1423, 'respond': 1424, 'flat': 1425, 'hearing': 1426, 'joint': 1427, 'basically': 1428, 'professor': 1429, 'longtime': 1430, 'allegations': 1431, 'semitism': 1432, 'strike': 1433, 'finance': 1434, 'elect': 1435, 'russians': 1436, 'promote': 1437, 'planning': 1438, 'development': 1439, 'easily': 1440, 'positive': 1441, 'journal': 1442, 'suffering': 1443, 'natural': 1444, 'spot': 1445, 'personnel': 1446, 'insurance': 1447, 'afraid': 1448, 'usa': 1449, 'cell': 1450, 'petition': 1451, 'mall': 1452, 'bible': 1453, 'generic': 1454, 'literally': 1455, 'allah': 1456, 'mexican': 1457, 'nose': 1458, 'update': 1459, 'thugs': 1460, 'korean': 1461, 'flag': 1462, 'cancer': 1463, 'skin': 1464, 'expenses': 1465, 'weren': 1466, 'gold': 1467, 'supporter': 1468, 'vehicle': 1469, 'bar': 1470, 'chicken': 1471, 'chair': 1472, 'supported': 1473, 'commander': 1474, 'migrants': 1475, 'protester': 1476, 'simmons': 1477, 'assembly': 1478, 'abroad': 1479, 'soviet': 1480, 'override': 1481, 'gary': 1482, 'thedcnf': 1483, 'beck': 1484, 'baroni': 1485, 'ii': 1486, 'limited': 1487, 'coalition': 1488, 'station': 1489, 'pain': 1490, 'interference': 1491, 'vision': 1492, 'status': 1493, 'invited': 1494, 'democracy': 1495, 'outlets': 1496, 'handle': 1497, 'snapchat': 1498, 'memo': 1499, 'modern': 1500, 'ridiculous': 1501, 'traffic': 1502, 'proof': 1503, 'weed': 1504, 'questioning': 1505, 'negative': 1506, 'hair': 1507, 'investigate': 1508, 'angry': 1509, 'ranking': 1510, 'judiciary': 1511, 'politically': 1512, 'findings': 1513, 'viewed': 1514, 'separate': 1515, 'blue': 1516, 'sold': 1517, 'dismissed': 1518, 'sell': 1519, 'document': 1520, 'shame': 1521, 'platform': 1522, 'graham': 1523, 'quick': 1524, 'lower': 1525, 'approached': 1526, 'remained': 1527, 'train': 1528, 'fell': 1529, 'pine': 1530, 'larger': 1531, 'truck': 1532, 'guard': 1533, 'soldiers': 1534, 'drinking': 1535, 'challenges': 1536, 'workers': 1537, 'paper': 1538, 'chuck': 1539, 'threaten': 1540, 'removed': 1541, 'rejected': 1542, 'associates': 1543, 'determined': 1544, 'delivered': 1545, 'resolution': 1546, 'colleagues': 1547, 'vladimir': 1548, 'lied': 1549, 'independent': 1550, 'christianity': 1551, 'ruling': 1552, 'pastor': 1553, 'grew': 1554, 'forum': 1555, 'bridge': 1556, 'mistake': 1557, 'andrew': 1558, 'businessman': 1559, 'breitbart': 1560, 'losing': 1561, 'bunch': 1562, 'announcement': 1563, 'tells': 1564, 'hatred': 1565, 'coins': 1566, 'initial': 1567, 'broadcast': 1568, 'belief': 1569, 'advance': 1570, 'bodies': 1571, 'winters': 1572, 'restaurant': 1573, 'murdered': 1574, 'campaigns': 1575, 'cool': 1576, 'guns': 1577, 'perfect': 1578, 'strange': 1579, 'stamina': 1580, 'rhetoric': 1581, 'cuomo': 1582, 'rating': 1583, 'concert': 1584, 'suggesting': 1585, 'unrest': 1586, 'franklin': 1587, 'calm': 1588, 'machado': 1589, 'candy': 1590, 'matt': 1591, 'donors': 1592, 'fda': 1593, 'playbook': 1594, 'somali': 1595, 'arab': 1596, 'jesus': 1597, 'active': 1598, 'constant': 1599, 'buying': 1600, 'ally': 1601, 'benjamin': 1602, 'davis': 1603, 'attend': 1604, 'progressive': 1605, 'deserve': 1606, 'vetrano': 1607, 'howard': 1608, 'patrol': 1609, 'contained': 1610, 'conclusion': 1611, 'rod': 1612, 'nadler': 1613, 'demands': 1614, 'exposure': 1615, 'behavior': 1616, 'broken': 1617, 'unusual': 1618, 'leaves': 1619, 'referring': 1620, 'proven': 1621, 'offensive': 1622, 'melania': 1623, 'pat': 1624, 'detailed': 1625, 'gillibrand': 1626, 'nixon': 1627, 'compared': 1628, 'gender': 1629, 'cars': 1630, 'blasio': 1631, 'pneumonia': 1632, 'dakota': 1633, 'iowa': 1634, 'population': 1635, 'worry': 1636, 'proper': 1637, 'capitol': 1638, 'requires': 1639, 'communications': 1640, 'divided': 1641, 'data': 1642, 'spread': 1643, 'capture': 1644, 'shop': 1645, 'core': 1646, 'connected': 1647, 'counts': 1648, 'surprise': 1649, 'behalf': 1650, 'moves': 1651, 'drive': 1652, 'avoid': 1653, 'increasing': 1654, 'effective': 1655, 'doctors': 1656, 'sam': 1657, 'charles': 1658, 'hired': 1659, 'file': 1660, 'assistant': 1661, 'die': 1662, 'carlson': 1663, 'pictures': 1664, 'realize': 1665, 'indiana': 1666, 'minneapolis': 1667, 'hot': 1668, 'sit': 1669, 'arnold': 1670, 'express': 1671, 'fatal': 1672, 'gonna': 1673, 'handed': 1674, 'knowing': 1675, 'yesterday': 1676, 'pregnant': 1677, 'rival': 1678, 'commitment': 1679, 'ticket': 1680, 'entering': 1681, 'anthem': 1682, 'association': 1683, 'alcohol': 1684, 'colorado': 1685, 'massachusetts': 1686, 'orlando': 1687, 'fault': 1688, 'blog': 1689, 'stronger': 1690, 'qualified': 1691, 'dallas': 1692, 'dark': 1693, 'funded': 1694, 'camera': 1695, 'gmail': 1696, 'knowledge': 1697, 'nyc': 1698, 'standards': 1699, 'doj': 1700, 'benghazi': 1701, 'incredibly': 1702, 'tulsa': 1703, 'unarmed': 1704, 'sued': 1705, 'counties': 1706, 'ratings': 1707, 'leaning': 1708, 'mccrory': 1709, 'fort': 1710, 'speeches': 1711, 'funds': 1712, 'distributed': 1713, 'libertarian': 1714, 'cuba': 1715, 'intellectual': 1716, 'closures': 1717, 'establishment': 1718, 'studies': 1719, 'understanding': 1720, 'content': 1721, 'mid': 1722, 'unity': 1723, 'adam': 1724, 'starts': 1725, 'tone': 1726, 'laughing': 1727, 'campus': 1728, 'miles': 1729, 'atlanta': 1730, 'walking': 1731, 'jury': 1732, 'arrest': 1733, 'ronald': 1734, 'overwhelming': 1735, 'conversation': 1736, 'neighborhood': 1737, 'countless': 1738, 'rosenstein': 1739, 'faced': 1740, 'investigated': 1741, 'developed': 1742, 'theory': 1743, 'essentially': 1744, 'division': 1745, 'troubling': 1746, 'scrutiny': 1747, 'declined': 1748, 'intended': 1749, 'los': 1750, 'campaigning': 1751, 'responding': 1752, 'slow': 1753, 'disaster': 1754, 'homes': 1755, 'suffered': 1756, 'worried': 1757, 'native': 1758, 'bills': 1759, 'plastic': 1760, 'detail': 1761, 'shift': 1762, 'bipartisan': 1763, 'offices': 1764, 'roger': 1765, 'targets': 1766, 'draft': 1767, 'links': 1768, 'perceived': 1769, 'draw': 1770, 'combat': 1771, 'stupid': 1772, 'fighters': 1773, 'libya': 1774, 'pentagon': 1775, 'jennifer': 1776, 'convince': 1777, 'fit': 1778, 'churches': 1779, 'minorities': 1780, 'prayer': 1781, 'cycle': 1782, 'banks': 1783, 'perfectly': 1784, 'marriage': 1785, 'emotional': 1786, 'opponents': 1787, 'tani': 1788, 'stick': 1789, 'interviews': 1790, 'forget': 1791, 'enemy': 1792, 'san': 1793, 'card': 1794, 'duty': 1795, 'cross': 1796, 'jimmy': 1797, 'conducted': 1798, 'aired': 1799, 'unknown': 1800, 'specific': 1801, 'tweets': 1802, 'headlines': 1803, 'singer': 1804, 'jefferson': 1805, 'principles': 1806, 'joined': 1807, 'redesign': 1808, 'english': 1809, 'option': 1810, 'technology': 1811, 'lord': 1812, 'japan': 1813, 'canada': 1814, 'finger': 1815, 'brain': 1816, 'island': 1817, 'horrible': 1818, 'sleep': 1819, 'foster': 1820, 'basement': 1821, 'kyle': 1822, 'exploded': 1823, 'billionaire': 1824, 'supports': 1825, 'ukraine': 1826, 'suggests': 1827, 'sheriff': 1828, 'sat': 1829, 'positions': 1830, 'snowden': 1831, 'waters': 1832, 'abe': 1833, 'potus': 1834, 'oklahoma': 1835, 'liar': 1836, 'caucus': 1837, 'margin': 1838, 'kingdom': 1839, 'cleveland': 1840, 'aleppo': 1841, 'sisi': 1842, 'split': 1843, 'taney': 1844, 'quality': 1845, 'zika': 1846, 'palmer': 1847, 'hitler': 1848, 'smile': 1849, 'mills': 1850, 'established': 1851, 'deaths': 1852, 'represent': 1853, 'xi': 1854, 'wealth': 1855, 'managed': 1856, 'sensitive': 1857, 'threatened': 1858, 'bigger': 1859, 'civilian': 1860, 'tensions': 1861, 'destruction': 1862, 'riots': 1863, 'organized': 1864, 'jeremy': 1865, 'easy': 1866, 'philadelphia': 1867, 'georgia': 1868, 'holds': 1869, 'messages': 1870, 'maintain': 1871, 'healthy': 1872, 'dna': 1873, 'prosecution': 1874, 'incidents': 1875, 'badly': 1876, 'chosen': 1877, 'remaining': 1878, 'asian': 1879, 'anger': 1880, 'testified': 1881, 'neck': 1882, 'neighbors': 1883, 'seized': 1884, 'cited': 1885, 'finding': 1886, 'fresh': 1887, 'establish': 1888, 'unconstitutional': 1889, 'heads': 1890, 'flight': 1891, 'authorized': 1892, 'sale': 1893, 'channel': 1894, 'keeping': 1895, 'operation': 1896, 'captured': 1897, 'summary': 1898, 'round': 1899, 'flood': 1900, 'briefing': 1901, 'kellyanne': 1902, 'feeling': 1903, 'angeles': 1904, 'nationally': 1905, 'situations': 1906, 'humanitarian': 1907, 'estimated': 1908, 'damage': 1909, 'fill': 1910, 'requests': 1911, 'vehicles': 1912, 'oversight': 1913, 'capital': 1914, 'demanded': 1915, 'deleted': 1916, 'stone': 1917, 'speculation': 1918, 'loyalty': 1919, 'laid': 1920, 'extremists': 1921, 'operations': 1922, 'advisers': 1923, 'size': 1924, 'argue': 1925, 'insults': 1926, 'witness': 1927, 'christians': 1928, 'books': 1929, 'nationwide': 1930, 'pray': 1931, 'extra': 1932, 'increasingly': 1933, 'creating': 1934, 'currency': 1935, 'unique': 1936, 'comfortable': 1937, 'solution': 1938, 'selling': 1939, 'names': 1940, 'represents': 1941, 'traveling': 1942, 'demand': 1943, 'identity': 1944, 'commercial': 1945, 'utah': 1946, 'fundamental': 1947, 'camp': 1948, 'bought': 1949, 'offering': 1950, 'martin': 1951, 'inauguration': 1952, 'assume': 1953, 'bathroom': 1954, 'tremendous': 1955, 'registered': 1956, 'harambe': 1957, 'sites': 1958, 'changing': 1959, 'hadn': 1960, 'smoke': 1961, 'lights': 1962, 'overseas': 1963, 'personality': 1964, 'entity': 1965, 'save': 1966, 'damn': 1967, 'waste': 1968, 'grandfather': 1969, 'plays': 1970, 'passing': 1971, 'likes': 1972, 'icon': 1973, 'idaho': 1974, 'engage': 1975, 'acts': 1976, 'construction': 1977, 'pipeline': 1978, 'citing': 1979, 'stephen': 1980, 'banned': 1981, 'isaac': 1982, 'craig': 1983, 'reddit': 1984, 'suspects': 1985, 'winter': 1986, 'developing': 1987, 'defended': 1988, 'bin': 1989, 'confirm': 1990, 'anchor': 1991, 'alex': 1992, 'historic': 1993, 'solid': 1994, 'tied': 1995, 'memorial': 1996, 'fried': 1997, 'dave': 1998, 'immunity': 1999, 'irs': 2000, 'reform': 2001, 'mess': 2002, 'headline': 2003, 'opportunities': 2004, 'era': 2005, 'caption': 2006, 'lamont': 2007, 'dean': 2008, 'rough': 2009, 'rallies': 2010, 'contributed': 2011, 'immigrant': 2012, 'wisconsin': 2013, 'advised': 2014, 'advertisement': 2015, 'evil': 2016, 'jill': 2017, 'filter': 2018, 'endorsement': 2019, 'watered': 2020, 'parent': 2021, 'ly': 2022, 'dukakis': 2023, 'adan': 2024, 'puzder': 2025, 'secure': 2026, 'mary': 2027, 'italy': 2028, 'range': 2029, 'activist': 2030, 'growth': 2031, 'involvement': 2032, 'defeat': 2033, 'actor': 2034, 'merkel': 2035, 'apparent': 2036, 'encouraged': 2037, 'sexually': 2038, 'porn': 2039, 'initially': 2040, 'historically': 2041, 'begun': 2042, 'prosecutor': 2043, 'frustration': 2044, 'tears': 2045, 'belong': 2046, 'highlighted': 2047, 'iii': 2048, 'partisan': 2049, 'pattern': 2050, 'violated': 2051, 'underlying': 2052, 'definitive': 2053, 'analysis': 2054, 'reasonable': 2055, 'stake': 2056, 'analyst': 2057, 'effectively': 2058, 'collusion': 2059, 'surrounded': 2060, 'silence': 2061, 'preparing': 2062, 'sarah': 2063, 'bernie': 2064, 'attended': 2065, 'debt': 2066, 'institutional': 2067, 'nearby': 2068, 'courage': 2069, 'proposal': 2070, 'highway': 2071, 'reservation': 2072, 'harm': 2073, 'poverty': 2074, 'knee': 2075, 'introduced': 2076, 'presence': 2077, 'bags': 2078, 'vowed': 2079, 'chamber': 2080, 'commit': 2081, 'ongoing': 2082, 'remedy': 2083, 'questioned': 2084, 'cable': 2085, 'hunt': 2086, 'attorneys': 2087, 'decline': 2088, 'mitch': 2089, 'century': 2090, 'bob': 2091, 'advocate': 2092, 'harry': 2093, 'promising': 2094, 'providing': 2095, 'command': 2096, 'marines': 2097, 'surveillance': 2098, 'exercising': 2099, 'tear': 2100, 'desire': 2101, 'favorite': 2102, 'regularly': 2103, 'homeless': 2104, 'openly': 2105, 'sector': 2106, 'corporate': 2107, 'securities': 2108, 'produced': 2109, 'tragic': 2110, 'abortions': 2111, 'legislative': 2112, 'feelings': 2113, 'elite': 2114, 'readers': 2115, 'nick': 2116, 'clean': 2117, 'taught': 2118, 'lesson': 2119, 'physically': 2120, 'artist': 2121, 'jack': 2122, 'survey': 2123, 'williams': 2124, 'disease': 2125, 'teach': 2126, 'ethics': 2127, 'location': 2128, 'referred': 2129, 'implement': 2130, 'fun': 2131, 'grabbed': 2132, 'laugh': 2133, 'mate': 2134, 'holy': 2135, 'christmas': 2136, 'cia': 2137, 'cards': 2138, 'crew': 2139, 'honestly': 2140, 'comparison': 2141, 'congressman': 2142, 'failing': 2143, 'mothers': 2144, 'missouri': 2145, 'launch': 2146, 'suit': 2147, 'throw': 2148, 'fallen': 2149, 'panic': 2150, 'code': 2151, 'checks': 2152, 'aggression': 2153, 'trouble': 2154, 'advisor': 2155, 'removal': 2156, 'trusted': 2157, 'easier': 2158, 'desperately': 2159, 'background': 2160, 'heavily': 2161, 'virtually': 2162, 'band': 2163, 'stomach': 2164, 'dropped': 2165, 'steal': 2166, 'games': 2167, 'editor': 2168, 'located': 2169, 'residence': 2170, 'entered': 2171, 'cake': 2172, 'enemies': 2173, 'grants': 2174, 'reilly': 2175, 'laden': 2176, 'syrians': 2177, 'kentucky': 2178, 'nasa': 2179, 'grounds': 2180, 'provision': 2181, 'associate': 2182, 'deny': 2183, 'earth': 2184, 'moon': 2185, 'cabinet': 2186, 'pleasure': 2187, 'losers': 2188, 'sanctioned': 2189, 'insulted': 2190, 'constantly': 2191, 'crooked': 2192, 'fundraiser': 2193, 'correctness': 2194, 'appearances': 2195, 'earnest': 2196, 'mogul': 2197, 'treatment': 2198, 'urban': 2199, 'migrant': 2200, 'pig': 2201, 'elsass': 2202, 'edge': 2203, 'boom': 2204, 'ivanka': 2205, 'races': 2206, 'blackburn': 2207, 'negro': 2208, 'crowley': 2209, 'restraint': 2210, 'mouth': 2211, 'writes': 2212, 'clone': 2213, 'respondents': 2214, 'kaepernick': 2215, 'wilson': 2216, 'knight': 2217, 'oligarchs': 2218, 'runs': 2219, 'wave': 2220, 'negotiations': 2221, 'stream': 2222, 'french': 2223, 'youtube': 2224, 'communist': 2225, 'british': 2226, 'discussion': 2227, 'giant': 2228, 'talks': 2229, 'complex': 2230, 'prospect': 2231, 'extent': 2232, 'reaching': 2233, 'surrounding': 2234, 'thrown': 2235, 'married': 2236, 'pledge': 2237, 'judgment': 2238, 'fraternity': 2239, 'offended': 2240, 'beach': 2241, 'wear': 2242, 'queens': 2243, 'panel': 2244, 'beautiful': 2245, 'retired': 2246, 'resident': 2247, 'brooklyn': 2248, 'loud': 2249, 'confused': 2250, 'committing': 2251, 'arguing': 2252, 'suspicion': 2253, 'arguments': 2254, 'drop': 2255, 'outcome': 2256, 'exonerate': 2257, 'quoted': 2258, 'exercises': 2259, 'dispute': 2260, 'addressed': 2261, 'impossible': 2262, 'walked': 2263, 'heights': 2264, 'submarines': 2265, 'cousin': 2266, 'investments': 2267, 'profit': 2268, 'permission': 2269, 'affect': 2270, 'channels': 2271, 'ministry': 2272, 'headed': 2273, 'golf': 2274, 'indictments': 2275, 'gowdy': 2276, 'gidley': 2277, 'rare': 2278, 'landing': 2279, 'consistently': 2280, 'science': 2281, 'mental': 2282, 'fatally': 2283, 'roll': 2284, 'flooding': 2285, 'boat': 2286, 'equipment': 2287, 'nebraska': 2288, 'vast': 2289, 'tribal': 2290, 'relief': 2291, 'bear': 2292, 'table': 2293, 'payments': 2294, 'agencies': 2295, 'illegally': 2296, 'finished': 2297, 'goal': 2298, 'hill': 2299, 'minds': 2300, 'convicted': 2301, 'opinions': 2302, 'computer': 2303, 'omar': 2304, 'disability': 2305, 'liberties': 2306, 'driver': 2307, 'widespread': 2308, 'tom': 2309, 'cells': 2310, 'regional': 2311, 'external': 2312, 'pacific': 2313, 'tens': 2314, 'complained': 2315, 'letting': 2316, 'routinely': 2317, 'burden': 2318, 'articles': 2319, 'criminals': 2320, 'manafort': 2321, 'rick': 2322, 'pleaded': 2323, 'accounts': 2324, 'loans': 2325, 'equal': 2326, 'investment': 2327, 'session': 2328, 'susan': 2329, 'chess': 2330, 'heroes': 2331, 'settled': 2332, 'donor': 2333, 'mom': 2334, 'impression': 2335, 'teaching': 2336, 'totally': 2337, 'philosophy': 2338, 'anniversary': 2339, 'founder': 2340, 'blind': 2341, 'moral': 2342, 'subpoena': 2343, 'reputation': 2344, 'berman': 2345, 'lisa': 2346, 'penalty': 2347, 'speaks': 2348, 'boston': 2349, 'aggressive': 2350, 'lunch': 2351, 'topic': 2352, 'duties': 2353, 'weight': 2354, 'santa': 2355, 'unlawful': 2356, 'soil': 2357, 'la': 2358, 'minor': 2359, 'pope': 2360, 'jehovah': 2361, 'link': 2362, 'sadly': 2363, 'average': 2364, 'crazy': 2365, 'features': 2366, 'notes': 2367, 'web': 2368, 'measures': 2369, 'hotline': 2370, 'eliminate': 2371, 'sean': 2372, 'spicer': 2373, 'heather': 2374, 'legitimate': 2375, 'commerce': 2376, 'australian': 2377, 'accepted': 2378, 'beauty': 2379, 'propaganda': 2380, 'arriving': 2381, 'disappointed': 2382, 'shoot': 2383, 'wedding': 2384, 'abandoned': 2385, 'historical': 2386, 'listen': 2387, 'abedin': 2388, 'catch': 2389, 'causing': 2390, 'eating': 2391, 'amazing': 2392, 'pm': 2393, 'lab': 2394, 'window': 2395, 'activity': 2396, 'alive': 2397, 'lay': 2398, 'crash': 2399, 'prior': 2400, 'demonstrate': 2401, 'attempting': 2402, 'blast': 2403, 'guide': 2404, 'sun': 2405, 'prayers': 2406, 'jackson': 2407, 'disagree': 2408, 'regime': 2409, 'outlet': 2410, 'plea': 2411, 'hero': 2412, 'alliance': 2413, 'rioters': 2414, 'staffers': 2415, 'releasing': 2416, 'industrial': 2417, 'cooperation': 2418, 'ceremony': 2419, 'marine': 2420, 'joke': 2421, 'amid': 2422, 'insiders': 2423, 'entitled': 2424, 'favors': 2425, 'firearms': 2426, 'bomber': 2427, 'rumors': 2428, 'nevada': 2429, 'shore': 2430, 'hosted': 2431, 'mitt': 2432, 'deported': 2433, 'pride': 2434, 'impasse': 2435, 'blanket': 2436, 'drills': 2437, 'yahoo': 2438, 'marked': 2439, 'legend': 2440, 'prosperity': 2441, 'sue': 2442, 'summit': 2443, 'exposed': 2444, 'oval': 2445, 'package': 2446, 'senators': 2447, 'nightly': 2448, 'abcpolitics': 2449, 'contributions': 2450, 'adulterated': 2451, 'insult': 2452, 'oppressed': 2453, 'palmieri': 2454, 'sherman': 2455, 'errors': 2456, 'walinsky': 2457, 'unpaid': 2458, 'greenbrier': 2459, 'haiti': 2460, 'cough': 2461, 'cheryl': 2462, 'mosques': 2463, 'childcare': 2464, 'magistrate': 2465, 'stress': 2466, 'depression': 2467, 'radar': 2468, 'signs': 2469, 'testing': 2470, 'undermine': 2471, 'assistance': 2472, 'strategic': 2473, 'concept': 2474, 'infrastructure': 2475, 'highlight': 2476, 'anonymity': 2477, 'sharing': 2478, 'projects': 2479, 'capabilities': 2480, 'counter': 2481, 'rocket': 2482, 'forcing': 2483, 'treating': 2484, 'explosives': 2485, 'aipac': 2486, 'gantz': 2487, 'cuts': 2488, 'bradshaw': 2489, 'abandon': 2490, 'narratives': 2491, 'character': 2492, 'jones': 2493, 'instance': 2494, 'signature': 2495, 'cotton': 2496, 'mile': 2497, 'runner': 2498, 'picked': 2499, 'murdering': 2500, 'prompted': 2501, 'interviewed': 2502, 'spotted': 2503, 'challenged': 2504, 'offense': 2505, 'conclude': 2506, 'declare': 2507, 'conclusions': 2508, 'indicted': 2509, 'landed': 2510, 'swing': 2511, 'gathering': 2512, 'mar': 2513, 'display': 2514, 'emotion': 2515, 'emerged': 2516, 'silent': 2517, 'lindsey': 2518, 'surrogates': 2519, 'quiet': 2520, 'coward': 2521, 'bid': 2522, 'struggled': 2523, 'houston': 2524, 'moderate': 2525, 'devoted': 2526, 'threshold': 2527, 'striking': 2528, 'disorder': 2529, 'pipe': 2530, 'intervention': 2531, 'delaware': 2532, 'scale': 2533, 'bureau': 2534, 'nature': 2535, 'climate': 2536, 'destroyed': 2537, 'requested': 2538, 'nancy': 2539, 'stance': 2540, 'hanging': 2541, 'afterward': 2542, 'broader': 2543, 'affair': 2544, 'square': 2545, 'describing': 2546, 'operatives': 2547, 'convinced': 2548, 'painted': 2549, 'orientation': 2550, 'shepard': 2551, 'ethnic': 2552, 'spokeswoman': 2553, 'objections': 2554, 'designed': 2555, 'ben': 2556, 'broad': 2557, 'mine': 2558, 'extremist': 2559, 'costs': 2560, 'mission': 2561, 'colin': 2562, 'physical': 2563, 'settlement': 2564, 'smoking': 2565, 'dealings': 2566, 'explicitly': 2567, 'expressing': 2568, 'environment': 2569, 'unable': 2570, 'investigator': 2571, 'admit': 2572, 'educated': 2573, 'visiting': 2574, 'sharp': 2575, 'repeated': 2576, 'pays': 2577, 'managing': 2578, 'products': 2579, 'deemed': 2580, 'operating': 2581, 'unfit': 2582, 'momentum': 2583, 'pressed': 2584, 'binion': 2585, 'afford': 2586, 'belongs': 2587, 'gray': 2588, 'london': 2589, 'richmond': 2590, 'represented': 2591, 'factor': 2592, 'francis': 2593, 'practices': 2594, 'reduce': 2595, 'unit': 2596, 'track': 2597, 'beliefs': 2598, 'funny': 2599, 'pieces': 2600, 'anthony': 2601, 'feed': 2602, 'context': 2603, 'mistakes': 2604, 'feels': 2605, 'dreams': 2606, 'performing': 2607, 'commented': 2608, 'fool': 2609, 'usual': 2610, 'exists': 2611, 'soldier': 2612, 'girls': 2613, 'throwing': 2614, 'tragedy': 2615, 'noticed': 2616, 'ny': 2617, 'defending': 2618, 'gap': 2619, 'covers': 2620, 'bothered': 2621, 'picking': 2622, 'consultant': 2623, 'recession': 2624, 'replaced': 2625, 'bowl': 2626, 'watson': 2627, 'indecent': 2628, 'moveon': 2629, 'bet': 2630, 'trash': 2631, 'outrageous': 2632, 'todd': 2633, 'blaming': 2634, 'vain': 2635, 'ten': 2636, 'useless': 2637, 'nonsense': 2638, 'compare': 2639, 'targeting': 2640, 'pot': 2641, 'encourage': 2642, 'spencer': 2643, 'experienced': 2644, 'acknowledge': 2645, 'shake': 2646, 'blow': 2647, 'virus': 2648, 'male': 2649, 'spokesperson': 2650, 'nervous': 2651, 'reckless': 2652, 'seat': 2653, 'accepting': 2654, 'labor': 2655, 'season': 2656, 'naturally': 2657, 'knocked': 2658, 'weird': 2659, 'facility': 2660, 'closing': 2661, 'vetoed': 2662, 'loving': 2663, 'scuba': 2664, 'toughest': 2665, 'minimum': 2666, 'borders': 2667, 'clock': 2668, 'alternative': 2669, 'biased': 2670, 'maine': 2671, 'tour': 2672, 'kgb': 2673, 'hey': 2674, 'trained': 2675, 'pursue': 2676, 'stopping': 2677, 'connections': 2678, 'assumed': 2679, 'routine': 2680, 'backlash': 2681, 'brand': 2682, 'surprised': 2683, 'newspaper': 2684, 'bigotry': 2685, 'resignation': 2686, 'absolute': 2687, 'blamed': 2688, 'celebrity': 2689, 'trillion': 2690, 'markets': 2691, 'crutcher': 2692, 'breaks': 2693, 'manufacturing': 2694, 'proposals': 2695, 'unpopular': 2696, 'review': 2697, 'silver': 2698, 'jean': 2699, 'wine': 2700, 'quote': 2701, 'critically': 2702, 'mecklenburg': 2703, 'shape': 2704, 'purposes': 2705, 'coin': 2706, 'player': 2707, 'dred': 2708, 'wound': 2709, 'ineffective': 2710, 'relative': 2711, 'islamist': 2712, 'india': 2713, 'magazine': 2714, 'surrogate': 2715, 'tea': 2716, 'trading': 2717, 'nomination': 2718, 'fec': 2719, 'mohammad': 2720, 'candidacy': 2721, 'contempt': 2722, 'substandard': 2723, 'inspector': 2724, 'medicines': 2725, 'carr': 2726, 'nyt': 2727, 'moderators': 2728, 'nc': 2729, 'laughed': 2730, 'pre': 2731, 'shootout': 2732, 'stabbing': 2733, 'thug': 2734, 'rioting': 2735, 'thiel': 2736, 'mook': 2737, 'willie': 2738, 'sechin': 2739, 'egyptian': 2740, 'joseph': 2741, 'gupta': 2742, 'divide': 2743, 'visits': 2744, 'marco': 2745, 'gates': 2746, 'signing': 2747, 'doors': 2748, 'tech': 2749, 'privilege': 2750, 'soft': 2751, 'expensive': 2752, 'titled': 2753, 'paris': 2754, 'rescue': 2755, 'capable': 2756, 'ideology': 2757, 'brutal': 2758, 'teenage': 2759, 'dialogue': 2760, 'surface': 2761, 'devices': 2762, 'box': 2763, 'chapter': 2764, 'outraged': 2765, 'junior': 2766, 'outspoken': 2767, 'feet': 2768, 'tickets': 2769, 'beating': 2770, 'diverse': 2771, 'fate': 2772, 'testify': 2773, 'recalled': 2774, 'task': 2775, 'obstructed': 2776, 'doug': 2777, 'stating': 2778, 'vulnerable': 2779, 'applied': 2780, 'exoneration': 2781, 'defendant': 2782, 'partners': 2783, 'shoes': 2784, 'barely': 2785, 'advanced': 2786, 'missile': 2787, 'recommended': 2788, 'revelations': 2789, 'airport': 2790, 'consult': 2791, 'assertion': 2792, 'formal': 2793, 'committees': 2794, 'circle': 2795, 'lengthy': 2796, 'crossed': 2797, 'dan': 2798, 'aircraft': 2799, 'vermont': 2800, 'mud': 2801, 'ambulance': 2802, 'foot': 2803, 'henry': 2804, 'van': 2805, 'heavy': 2806, 'unemployment': 2807, 'wood': 2808, 'delay': 2809, 'electorate': 2810, 'resolved': 2811, 'lifted': 2812, 'oath': 2813, 'determination': 2814, 'eager': 2815, 'proceeded': 2816, 'wide': 2817, 'employed': 2818, 'assisted': 2819, 'explaining': 2820, 'delivering': 2821, 'hoped': 2822, 'sponsored': 2823, 'sessions': 2824, 'progressives': 2825, 'formally': 2826, 'village': 2827, 'proclaimed': 2828, 'afghan': 2829, 'hunting': 2830, 'civilians': 2831, 'preserve': 2832, 'gen': 2833, 'clarke': 2834, 'wage': 2835, 'classified': 2836, 'sales': 2837, 'worldwide': 2838, 'qaeda': 2839, 'conducting': 2840, 'confront': 2841, 'inaugural': 2842, 'notion': 2843, 'existing': 2844, 'interfered': 2845, 'careful': 2846, 'cautious': 2847, 'hacking': 2848, 'jokes': 2849, 'violations': 2850, 'yi': 2851, 'accomplished': 2852, 'spotlight': 2853, 'detained': 2854, 'typically': 2855, 'pastors': 2856, 'convert': 2857, 'destroying': 2858, 'hitting': 2859, 'noting': 2860, 'stakes': 2861, 'tariffs': 2862, 'capacity': 2863, 'globalization': 2864, 'procedure': 2865, 'crying': 2866, 'socialist': 2867, 'confrontation': 2868, 'discussions': 2869, 'regret': 2870, 'adewumi': 2871, 'reminder': 2872, 'principle': 2873, 'defeated': 2874, 'asylum': 2875, 'struggling': 2876, 'loyal': 2877, 'volunteers': 2878, 'donations': 2879, 'gallery': 2880, 'balance': 2881, 'protected': 2882, 'marshall': 2883, 'price': 2884, 'net': 2885, 'papers': 2886, 'fortunate': 2887, 'disabled': 2888, 'rover': 2889, 'justin': 2890, 'headquarters': 2891, 'prosecuted': 2892, 'grown': 2893, 'filing': 2894, 'filings': 2895, 'sovereign': 2896, 'transition': 2897, 'successor': 2898, 'independence': 2899, 'genitals': 2900, 'multi': 2901, 'heat': 2902, 'woke': 2903, 'waited': 2904, 'ron': 2905, 'footage': 2906, 'gaga': 2907, 'fame': 2908, 'surgeon': 2909, 'reveals': 2910, 'signatures': 2911, 'commenting': 2912, 'accident': 2913, 'megyn': 2914, 'christ': 2915, 'lists': 2916, 'palin': 2917, 'hiring': 2918, 'explosive': 2919, 'gained': 2920, 'furious': 2921, 'liberty': 2922, 'engaging': 2923, 'injuries': 2924, 'smiling': 2925, 'achieve': 2926, 'kiss': 2927, 'blocks': 2928, 'rochester': 2929, 'drove': 2930, 'wild': 2931, 'malia': 2932, 'perform': 2933, 'ignorant': 2934, 'elites': 2935, 'jon': 2936, 'creative': 2937, 'axelrod': 2938, 'nickel': 2939, 'uncle': 2940, 'proposing': 2941, 'muhammad': 2942, 'predicted': 2943, 'priority': 2944, 'spanish': 2945, 'jeb': 2946, 'baker': 2947, 'websites': 2948, 'courtesy': 2949, 'voices': 2950, 'honored': 2951, 'orange': 2952, 'reveal': 2953, 'coffee': 2954, 'ads': 2955, 'sea': 2956, 'hearts': 2957, 'percentage': 2958, 'japanese': 2959, 'whaling': 2960, 'dramatic': 2961, 'grab': 2962, 'nra': 2963, 'punished': 2964, 'hashtag': 2965, 'humanity': 2966, 'girlfriend': 2967, 'missing': 2968, 'snap': 2969, 'spoken': 2970, 'huma': 2971, 'viral': 2972, 'levels': 2973, 'quran': 2974, 'wishes': 2975, 'gentleman': 2976, 'journalist': 2977, 'schedule': 2978, 'cancel': 2979, 'stephawn': 2980, 'pounds': 2981, 'drink': 2982, 'drinks': 2983, 'jumped': 2984, 'encounter': 2985, 'satisfied': 2986, 'cum': 2987, 'barry': 2988, 'song': 2989, 'applicants': 2990, 'collapse': 2991, 'google': 2992, 'rockies': 2993, 'lt': 2994, 'wounds': 2995, 'discovery': 2996, 'stairs': 2997, 'intelligent': 2998, 'legs': 2999, 'rockford': 3000, 'pull': 3001, 'alabama': 3002, 'vietnam': 3003, 'ride': 3004, 'weak': 3005, 'exercise': 3006, 'hopeful': 3007, 'punish': 3008, 'lazy': 3009, 'businessmen': 3010, 'invite': 3011, 'reads': 3012, 'outright': 3013, 'northwest': 3014, 'hat': 3015, 'kinds': 3016, 'judicial': 3017, 'cease': 3018, 'osama': 3019, 'updated': 3020, 'beam': 3021, 'rocked': 3022, 'revelation': 3023, 'taxpayers': 3024, 'demonstrators': 3025, 'addresses': 3026, 'luxury': 3027, 'dems': 3028, 'scandals': 3029, 'chaffetz': 3030, 'infamous': 3031, 'wisdom': 3032, 'dignity': 3033, 'bail': 3034, 'model': 3035, 'lane': 3036, 'arkansas': 3037, 'colleague': 3038, 'stealing': 3039, 'bachmann': 3040, 'zakaria': 3041, 'rounds': 3042, 'cher': 3043, 'notice': 3044, 'deplorable': 3045, 'donna': 3046, 'showdown': 3047, 'sided': 3048, 'appearing': 3049, 'knock': 3050, 'harvey': 3051, 'displaced': 3052, 'credit': 3053, 'hawaii': 3054, 'dates': 3055, 'kansas': 3056, 'bridgegate': 3057, 'accusing': 3058, 'comparing': 3059, 'hometown': 3060, 'incumbent': 3061, 'loose': 3062, 'roots': 3063, 'wow': 3064, 'maintained': 3065, 'tight': 3066, 'contest': 3067, 'policing': 3068, 'afp': 3069, 'assad': 3070, 'toby': 3071, 'category': 3072, 'tougher': 3073, 'cooper': 3074, 'ventures': 3075, 'turmoil': 3076, 'secession': 3077, 'attendees': 3078, 'billions': 3079, 'yemen': 3080, 'lawsuits': 3081, 'understood': 3082, 'touch': 3083, 'heal': 3084, 'spirit': 3085, 'audiences': 3086, 'putney': 3087, 'slammed': 3088, 'generals': 3089, 'televised': 3090, 'botswana': 3091, 'outreach': 3092, 'permanently': 3093, 'winners': 3094, 'eastwood': 3095, 'dream': 3096, 'risks': 3097, 'saharan': 3098, 'thakur': 3099, 'interstate': 3100, 'pagliano': 3101, 'poindexter': 3102, 'practically': 3103, 'nyti': 3104, 'janet': 3105, 'famously': 3106, 'ray': 3107, 'kevin': 3108, 'answering': 3109, 'existential': 3110, 'football': 3111, 'daisy': 3112, 'polled': 3113, 'cares': 3114, 'pie': 3115, 'tebow': 3116, 'nfl': 3117, 'gambling': 3118, 'soros': 3119, 'microphone': 3120, 'rapinoe': 3121, 'burnett': 3122, 'fingerprint': 3123, 'torchinsky': 3124, 'aleksashenko': 3125, 'movements': 3126, 'spring': 3127, 'drama': 3128, 'alongside': 3129, 'jewish': 3130, 'roles': 3131, 'competition': 3132, 'crimea': 3133, 'bullying': 3134, 'develop': 3135, 'restrictions': 3136, 'limits': 3137, 'severe': 3138, 'hosting': 3139, 'chancellor': 3140, 'arm': 3141, 'injuring': 3142, 'pack': 3143, 'strikes': 3144, 'theater': 3145, 'text': 3146, 'mixed': 3147, 'heritage': 3148, 'widow': 3149, 'mechanical': 3150, 'harris': 3151, 'casting': 3152, 'circles': 3153, 'motion': 3154, 'condemned': 3155, 'awareness': 3156, 'diagnosed': 3157, 'jurors': 3158, 'random': 3159, 'guilt': 3160, 'latino': 3161, 'defendants': 3162, 'integrity': 3163, 'trend': 3164, 'rush': 3165, 'experiences': 3166, 'quietly': 3167, 'beaten': 3168, 'killer': 3169, 'detectives': 3170, 'chances': 3171, 'graduated': 3172, 'examined': 3173, 'permitted': 3174, 'inquiries': 3175, 'flynn': 3176, 'embraced': 3177, 'sufficient': 3178, 'pardon': 3179, 'gathered': 3180, 'consulting': 3181, 'prosecute': 3182, 'recognition': 3183, 'manufacturer': 3184, 'stock': 3185, 'putting': 3186, 'returning': 3187, 'object': 3188, 'ensuring': 3189, 'utterly': 3190, 'dinner': 3191, 'alarm': 3192, 'shadow': 3193, 'whatsoever': 3194, 'submitted': 3195, 'damaging': 3196, 'drawn': 3197, 'universal': 3198, 'jay': 3199, 'studying': 3200, 'epidemic': 3201, 'knife': 3202, 'stable': 3203, 'stuck': 3204, 'tribe': 3205, 'roads': 3206, 'recovery': 3207, 'greatly': 3208, 'dirt': 3209, 'struggle': 3210, 'houses': 3211, 'trucks': 3212, 'checked': 3213, 'survived': 3214, 'aspect': 3215, 'extreme': 3216, 'pledged': 3217, 'tool': 3218, 'basis': 3219, 'assist': 3220, 'plain': 3221, 'charging': 3222, 'theories': 3223, 'reverse': 3224, 'regulations': 3225, 'emphasized': 3226, 'aimed': 3227, 'whip': 3228, 'recognized': 3229, 'intentionally': 3230, 'substantial': 3231, 'uncomfortable': 3232, 'discriminatory': 3233, 'crack': 3234, 'representatives': 3235, 'sixty': 3236, 'caliphate': 3237, 'weekly': 3238, 'hidden': 3239, 'cannabis': 3240, 'southeast': 3241, 'asia': 3242, 'taliban': 3243, 'joining': 3244, 'partnered': 3245, 'missions': 3246, 'somalia': 3247, 'contractors': 3248, 'casualties': 3249, 'limit': 3250, 'existence': 3251, 'vigorously': 3252, 'pursuing': 3253, 'appointed': 3254, 'examining': 3255, 'shocking': 3256, 'predecessor': 3257, 'curious': 3258, 'fail': 3259, 'alliances': 3260, 'improve': 3261, 'anticipated': 3262, 'investors': 3263, 'legislature': 3264, 'willingness': 3265, 'insist': 3266, 'product': 3267, 'fixed': 3268, 'babies': 3269, 'painful': 3270, 'listening': 3271, 'expanded': 3272, 'dad': 3273, 'cent': 3274, 'principal': 3275, 'mounting': 3276, 'auction': 3277, 'walker': 3278, 'edwards': 3279, 'enthusiasm': 3280, 'involves': 3281, 'soul': 3282, 'prices': 3283, 'abstract': 3284, 'institutions': 3285, 'defined': 3286, 'embrace': 3287, 'medicine': 3288, 'judges': 3289, 'earned': 3290, 'math': 3291, 'introduction': 3292, 'orbit': 3293, 'examination': 3294, 'executives': 3295, 'coordination': 3296, 'discussing': 3297, 'aisle': 3298, 'edward': 3299, 'bizarre': 3300, 'restroom': 3301, 'violation': 3302, 'uncovered': 3303, 'rcn': 3304, 'inappropriate': 3305, 'treat': 3306, 'hiding': 3307, 'circuit': 3308, 'detroit': 3309, 'alaska': 3310, 'tribune': 3311, 'proves': 3312, 'blatant': 3313, 'huffington': 3314, 'halt': 3315, 'improved': 3316, 'surge': 3317, 'generations': 3318, 'intolerable': 3319, 'differences': 3320, 'tired': 3321, 'carried': 3322, 'warns': 3323, 'rental': 3324, 'eligible': 3325, 'outgoing': 3326, 'peacefully': 3327, 'institution': 3328, 'tolerate': 3329, 'loves': 3330, 'employers': 3331, 'harder': 3332, 'oppose': 3333, 'raped': 3334, 'dowling': 3335, 'duncan': 3336, 'fed': 3337, 'typical': 3338, 'apology': 3339, 'comply': 3340, 'spreading': 3341, 'breastfeeding': 3342, 'complain': 3343, 'sons': 3344, 'divorce': 3345, 'enjoyed': 3346, 'requiring': 3347, 'australians': 3348, 'gifts': 3349, 'blasphemy': 3350, 'derogatory': 3351, 'ship': 3352, 'celebrated': 3353, 'clarify': 3354, 'embarrassing': 3355, 'bannon': 3356, 'enjoy': 3357, 'trending': 3358, 'endorsing': 3359, 'spark': 3360, 'fan': 3361, 'count': 3362, 'goldberg': 3363, 'altogether': 3364, 'sleeping': 3365, 'relationships': 3366, 'nj': 3367, 'tested': 3368, 'sister': 3369, 'flow': 3370, 'mandatory': 3371, 'pulling': 3372, 'eat': 3373, 'corner': 3374, 'satan': 3375, 'whites': 3376, 'brownies': 3377, 'mountain': 3378, 'incredible': 3379, 'col': 3380, 'vaccines': 3381, 'prevents': 3382, 'humans': 3383, 'douglas': 3384, 'searching': 3385, 'assassination': 3386, 'listed': 3387, 'colbert': 3388, 'kasich': 3389, 'banning': 3390, 'marry': 3391, 'healthcare': 3392, 'tampa': 3393, 'loses': 3394, 'refusing': 3395, 'harvard': 3396, 'friendly': 3397, 'tactical': 3398, 'diplomacy': 3399, 'contrary': 3400, 'pose': 3401, 'protesting': 3402, 'reserve': 3403, 'tucker': 3404, 'fsb': 3405, 'portion': 3406, 'confederacy': 3407, 'communicate': 3408, 'confirms': 3409, 'fuel': 3410, 'worker': 3411, 'types': 3412, 'blacks': 3413, 'editors': 3414, 'maxine': 3415, 'completed': 3416, 'obamacare': 3417, 'worthy': 3418, 'louis': 3419, 'cameras': 3420, 'fairly': 3421, 'whistleblower': 3422, 'falsely': 3423, 'user': 3424, 'complaint': 3425, 'neighbor': 3426, 'dennis': 3427, 'idiot': 3428, 'depp': 3429, 'subjected': 3430, 'sexism': 3431, 'enforced': 3432, 'prepares': 3433, 'announcing': 3434, 'shooter': 3435, 'donated': 3436, 'microchipping': 3437, 'chip': 3438, 'machine': 3439, 'remembered': 3440, 'affordable': 3441, 'odd': 3442, 'youth': 3443, 'windows': 3444, 'pistorious': 3445, 'transparent': 3446, 'severely': 3447, 'roberts': 3448, 'cheap': 3449, 'admitting': 3450, 'loung': 3451, 'route': 3452, 'occasionally': 3453, 'pigs': 3454, 'pair': 3455, 'map': 3456, 'properly': 3457, 'permanent': 3458, 'tennessee': 3459, 'answered': 3460, 'isil': 3461, 'stores': 3462, 'evans': 3463, 'odds': 3464, 'koltsova': 3465, 'wildest': 3466, 'rocks': 3467, 'hler': 3468, 'blair': 3469, 'palatinate': 3470, 'bavarian': 3471, 'application': 3472, 'tiny': 3473, 'automatically': 3474, 'rudy': 3475, 'praising': 3476, 'resume': 3477, 'gene': 3478, 'lots': 3479, 'temperament': 3480, 'pyongyang': 3481, 'hostile': 3482, 'republic': 3483, 'awful': 3484, 'replay': 3485, 'mad': 3486, 'lesser': 3487, 'railroads': 3488, 'appeals': 3489, 'railroad': 3490, 'promoted': 3491, 'mattered': 3492, 'interim': 3493, 'listened': 3494, 'activists': 3495, 'riyadh': 3496, 'atlantic': 3497, 'prince': 3498, 'seats': 3499, 'alicia': 3500, 'correctly': 3501, 'primaries': 3502, 'representing': 3503, 'observer': 3504, 'christopher': 3505, 'frame': 3506, 'wrda': 3507, 'stein': 3508, 'accountable': 3509, 'lecture': 3510, 'omran': 3511, 'thirds': 3512, 'vp': 3513, 'falls': 3514, 'options': 3515, 'stoltenberg': 3516, 'wsj': 3517, 'landmark': 3518, 'emmy': 3519, 'italian': 3520, 'mystery': 3521, 'stafford': 3522, 'pin': 3523, 'morbidity': 3524, 'mortality': 3525, 'promotion': 3526, 'stabilize': 3527, 'profits': 3528, 'players': 3529, 'vinod': 3530, 'disturbing': 3531, 'rolling': 3532, 'vetting': 3533, 'stanley': 3534, 'terry': 3535, 'mcauliffe': 3536, 'schriock': 3537, 'securing': 3538, 'tournament': 3539, 'metro': 3540, 'pool': 3541, 'greg': 3542, 'alum': 3543, 'enormous': 3544, 'suddenly': 3545, 'nominate': 3546, 'brazile': 3547, 'consumption': 3548, 'verdict': 3549, 'oz': 3550, 'intimidation': 3551, 'dolly': 3552, 'salaries': 3553, 'deplorables': 3554, 'selected': 3555, 'corps': 3556, 'weiner': 3557, 'combetta': 3558, 'trumpwon': 3559, 'mob': 3560, 'mcchrystal': 3561, 'manage': 3562, 'kimmel': 3563, 'hannity': 3564, 'gorenstein': 3565, 'incomplete': 3566, 'naturalization': 3567, 'clovis': 3568, 'title': 3569, 'witnessed': 3570, 'dropping': 3571, 'marc': 3572, 'discover': 3573, 'plant': 3574, 'goals': 3575, 'weakness': 3576, 'tools': 3577, 'welcoming': 3578, 'notably': 3579, 'proved': 3580, 'echoes': 3581, 'connect': 3582, 'desperate': 3583, 'belt': 3584, 'bilateral': 3585, 'aiming': 3586, 'brussels': 3587, 'supposedly': 3588, 'withdraw': 3589, 'tense': 3590, 'grant': 3591, 'participants': 3592, 'retaliation': 3593, 'essential': 3594, 'continent': 3595, 'unites': 3596, 'versus': 3597, 'urgency': 3598, 'originally': 3599, 'gaza': 3600, 'hamas': 3601, 'seeks': 3602, 'posts': 3603, 'actors': 3604, 'gather': 3605, 'characters': 3606, 'dominant': 3607, 'noise': 3608, 'onstage': 3609, 'reflect': 3610, 'temporarily': 3611, 'suspended': 3612, 'temporary': 3613, 'ignorance': 3614, 'owners': 3615, 'jen': 3616, 'volunteer': 3617, 'directing': 3618, 'activities': 3619, 'shirt': 3620, 'confessed': 3621, 'memory': 3622, 'convictions': 3623, 'hispanic': 3624, 'scientific': 3625, 'flawed': 3626, 'lieutenant': 3627, 'touched': 3628, 'deadly': 3629, 'producing': 3630, 'interpretation': 3631, 'disclose': 3632, 'motivated': 3633, 'firing': 3634, 'motive': 3635, 'deciding': 3636, 'abuses': 3637, 'skeptical': 3638, 'refusal': 3639, 'coupled': 3640, 'acknowledging': 3641, 'surprising': 3642, 'persuade': 3643, 'diplomatic': 3644, 'achievements': 3645, 'accusations': 3646, 'profitable': 3647, 'unrelated': 3648, 'secrets': 3649, 'carefully': 3650, 'wives': 3651, 'attending': 3652, 'rachel': 3653, 'react': 3654, 'lago': 3655, 'trey': 3656, 'posting': 3657, 'branded': 3658, 'mocked': 3659, 'buildings': 3660, 'nominees': 3661, 'cutting': 3662, 'rates': 3663, 'precinct': 3664, 'lit': 3665, 'identify': 3666, 'wallet': 3667, 'arrests': 3668, 'shoots': 3669, 'supplies': 3670, 'appointment': 3671, 'blocked': 3672, 'breathe': 3673, 'stunning': 3674, 'stranded': 3675, 'shock': 3676, 'sioux': 3677, 'arrive': 3678, 'rivers': 3679, 'formula': 3680, 'noem': 3681, 'distribute': 3682, 'julian': 3683, 'thin': 3684, 'collision': 3685, 'sooner': 3686, 'rugged': 3687, 'battles': 3688, 'census': 3689, 'facilities': 3690, 'organize': 3691, 'conditions': 3692, 'massacre': 3693, 'flags': 3694, 'skills': 3695, 'cheese': 3696, 'urgent': 3697, 'pursuit': 3698, 'mandate': 3699, 'aspects': 3700, 'grave': 3701, 'outlook': 3702, 'clearer': 3703, 'declaration': 3704, 'coordinated': 3705, 'pending': 3706, 'downtown': 3707, 'obscure': 3708, 'protections': 3709, 'dual': 3710, 'unanimously': 3711, 'circulated': 3712, 'plot': 3713, 'billy': 3714, 'extended': 3715, 'opposes': 3716, 'ladies': 3717, 'philippines': 3718, 'shifted': 3719, 'drones': 3720, 'advising': 3721, 'commanders': 3722, 'chest': 3723, 'actively': 3724, 'affiliate': 3725, 'variety': 3726, 'advise': 3727, 'militants': 3728, 'deployed': 3729, 'jeffrey': 3730, 'province': 3731, 'tenure': 3732, 'undercut': 3733, 'boost': 3734, 'phase': 3735, 'airing': 3736, 'violate': 3737, 'entities': 3738, 'persecution': 3739, 'heading': 3740, 'fears': 3741, 'lasted': 3742, 'transform': 3743, 'elementary': 3744, 'vocal': 3745, 'critic': 3746, 'grandmother': 3747, 'heartland': 3748, 'traditionally': 3749, 'saving': 3750, 'shelter': 3751, 'criticizing': 3752, 'sympathy': 3753, 'wondered': 3754, 'wise': 3755, 'compromises': 3756, 'firms': 3757, 'compete': 3758, 'tariff': 3759, 'removing': 3760, 'extensive': 3761, 'gasoline': 3762, 'diesel': 3763, 'treasury': 3764, 'criticize': 3765, 'recover': 3766, 'intentions': 3767, 'consciousness': 3768, 'logical': 3769, 'scary': 3770, 'phrase': 3771, 'rip': 3772, 'legislators': 3773, 'shouting': 3774, 'empty': 3775, 'column': 3776, 'bono': 3777, 'legally': 3778, 'travels': 3779, 'penny': 3780, 'celebration': 3781, 'comprehensive': 3782, 'dedicated': 3783, 'blessed': 3784, 'pindell': 3785, 'urge': 3786, 'pandering': 3787, 'ranks': 3788, 'stars': 3789, 'lobbied': 3790, 'francisco': 3791, 'expertise': 3792, 'firsthand': 3793, 'equality': 3794, 'honoring': 3795, 'privately': 3796, 'whitaker': 3797, 'courthouse': 3798, 'columbia': 3799, 'acted': 3800, 'recording': 3801, 'irregularities': 3802, 'litany': 3803, 'ukrainian': 3804, 'binary': 3805, 'designated': 3806, 'spiritual': 3807, 'fucking': 3808, 'meme': 3809, 'solikearose': 3810, 'fulfill': 3811, 'elaborate': 3812, 'overturn': 3813, 'description': 3814, 'fashion': 3815, 'figured': 3816, 'repeat': 3817, 'ordinary': 3818, 'assaulted': 3819, 'glad': 3820, 'larry': 3821, 'realized': 3822, 'sacred': 3823, 'sin': 3824, 'urging': 3825, 'switch': 3826, 'references': 3827, 'insisting': 3828, 'electronic': 3829, 'flying': 3830, 'threw': 3831, 'followers': 3832, 'guests': 3833, 'valid': 3834, 'bound': 3835, 'ointment': 3836, 'imagined': 3837, 'breathing': 3838, 'label': 3839, 'dies': 3840, 'murray': 3841, 'fat': 3842, 'professional': 3843, 'button': 3844, 'streep': 3845, 'bother': 3846, 'prohibit': 3847, 'pregnancy': 3848, 'butcher': 3849, 'marks': 3850, 'louder': 3851, 'directed': 3852, 'feeding': 3853, 'nursing': 3854, 'frequent': 3855, 'presiding': 3856, 'regard': 3857, 'hoax': 3858, 'seekers': 3859, 'singing': 3860, 'hagee': 3861, 'nowadays': 3862, 'environmental': 3863, 'suppress': 3864, 'welfare': 3865, 'canadian': 3866, 'rifle': 3867, 'distance': 3868, 'digging': 3869, 'everyday': 3870, 'obligations': 3871, 'oregon': 3872, 'parking': 3873, 'phones': 3874, 'warrant': 3875, 'booked': 3876, 'bombshell': 3877, 'pardoning': 3878, 'homosexuals': 3879, 'forbidden': 3880, 'deserves': 3881, 'remorse': 3882, 'females': 3883, 'fugitive': 3884, 'stefan': 3885, 'downward': 3886, 'clark': 3887, 'rolled': 3888, 'wore': 3889, 'hated': 3890, 'rapid': 3891, 'concession': 3892, 'backstage': 3893, 'gunshot': 3894, 'trigger': 3895, 'meaning': 3896, 'scientists': 3897, 'diabetes': 3898, 'freezer': 3899, 'suspicious': 3900, 'arrival': 3901, 'smell': 3902, 'jennings': 3903, 'freezers': 3904, 'mcdonald': 3905, 'closest': 3906, 'attempts': 3907, 'districts': 3908, 'deserved': 3909, 'severed': 3910, 'audit': 3911, 'compensation': 3912, 'attendant': 3913, 'threatening': 3914, 'males': 3915, 'sport': 3916, 'costa': 3917, 'improving': 3918, 'bottom': 3919, 'reinstated': 3920, 'centre': 3921, 'selective': 3922, 'nugent': 3923, 'prepare': 3924, 'unacceptable': 3925, 'separation': 3926, 'kick': 3927, 'secretly': 3928, 'median': 3929, 'reinforced': 3930, 'predictable': 3931, 'erected': 3932, 'kenya': 3933, 'barred': 3934, 'linked': 3935, 'gaffe': 3936, 'shtick': 3937, 'valley': 3938, 'confronted': 3939, 'restaurants': 3940, 'relaxation': 3941, 'exact': 3942, 'impose': 3943, 'mars': 3944, 'patriots': 3945, 'safer': 3946, 'echoing': 3947, 'cap': 3948, 'canceled': 3949, 'burn': 3950, 'laughter': 3951, 'inspired': 3952, 'possession': 3953, 'fathers': 3954, 'amounts': 3955, 'jupiter': 3956, 'occur': 3957, 'degrees': 3958, 'restore': 3959, 'peddling': 3960, 'vernal': 3961, 'flesh': 3962, 'provost': 3963, 'animal': 3964, 'upwards': 3965, 'franken': 3966, 'landings': 3967, 'favored': 3968, 'steel': 3969, 'recovered': 3970, 'rock': 3971, 'spaces': 3972, 'fines': 3973, 'rebuild': 3974, 'rank': 3975, 'newt': 3976, 'transfer': 3977, 'globe': 3978, 'foreigners': 3979, 'logic': 3980, 'focusing': 3981, 'joy': 3982, 'lean': 3983, 'serial': 3984, 'dying': 3985, 'leftist': 3986, 'seemingly': 3987, 'combined': 3988, 'kathy': 3989, 'segregation': 3990, 'crow': 3991, 'outrage': 3992, 'paint': 3993, 'respected': 3994, 'generating': 3995, 'defenders': 3996, 'speculated': 3997, 'locals': 3998, 'users': 3999, 'dogs': 4000, 'planes': 4001, 'hillaryclinton': 4002, 'lame': 4003, 'birthplace': 4004, 'praised': 4005, 'weigh': 4006, 'expert': 4007, 'connecticut': 4008, 'cooker': 4009, 'stabbed': 4010, 'surveys': 4011, 'charlie': 4012, 'hempstead': 4013, 'evade': 4014, 'nate': 4015, 'tuberculosis': 4016, 'forever': 4017, 'uk': 4018, 'fires': 4019, 'yelling': 4020, 'princess': 4021, 'victor': 4022, 'filmmaker': 4023, 'bottles': 4024, 'screw': 4025, 'strategist': 4026, 'counted': 4027, 'gingrich': 4028, 'curfew': 4029, 'posed': 4030, 'tactic': 4031, 'grim': 4032, 'closer': 4033, 'diplomats': 4034, 'lavrov': 4035, 'rebels': 4036, 'fields': 4037, 'poroshenko': 4038, 'partnership': 4039, 'toss': 4040, 'award': 4041, 'competitive': 4042, 'challenging': 4043, 'bombers': 4044, 'commitments': 4045, 'prompt': 4046, 'fourth': 4047, 'launches': 4048, 'amphibious': 4049, 'export': 4050, 'rob': 4051, 'downturn': 4052, 'territories': 4053, 'quelled': 4054, 'hostilities': 4055, 'settle': 4056, 'monopoly': 4057, 'bankruptcy': 4058, 'rated': 4059, 'nodded': 4060, 'texan': 4061, 'closely': 4062, 'founded': 4063, 'marinelli': 4064, 'extraordinary': 4065, 'chemical': 4066, 'cultural': 4067, 'nev': 4068, 'sets': 4069, 'domain': 4070, 'reelection': 4071, 'cosmopolitan': 4072, 'attitude': 4073, 'roundtable': 4074, 'rnc': 4075, 'hb': 4076, 'passes': 4077, 'blocking': 4078, 'npr': 4079, 'weld': 4080, 'pittsburgh': 4081, 'abiding': 4082, 'witnessing': 4083, 'kerr': 4084, 'demonstrated': 4085, 'segments': 4086, 'golfer': 4087, 'defraud': 4088, 'forfeiture': 4089, 'nielsen': 4090, 'misleading': 4091, 'select': 4092, 'jenner': 4093, 'charter': 4094, 'buys': 4095, 'takeover': 4096, 'soloway': 4097, 'emmys': 4098, 'suggestion': 4099, 'renzi': 4100, 'dumpster': 4101, 'clint': 4102, 'fought': 4103, 'narcissist': 4104, 'briefings': 4105, 'diluted': 4106, 'charities': 4107, 'relaxed': 4108, 'gaming': 4109, 'exchanges': 4110, 'fallon': 4111, 'performances': 4112, 'tmz': 4113, 'daughters': 4114, 'sr': 4115, 'danville': 4116, 'portsmouth': 4117, 'taylor': 4118, 'stephanie': 4119, 'glenn': 4120, 'materials': 4121, 'giffords': 4122, 'athletes': 4123, 'founders': 4124, 'buckley': 4125, 'fundraising': 4126, 'stewart': 4127, 'andy': 4128, 'slams': 4129, 'interrupted': 4130, 'jfk': 4131, 'critiques': 4132, 'lyndon': 4133, 'glance': 4134, 'disastrous': 4135, 'quotes': 4136, 'pritt': 4137, 'planted': 4138, 'courses': 4139, 'harsh': 4140, 'compassion': 4141, 'manipulating': 4142, 'nasty': 4143, 'bo': 4144, 'dearborn': 4145, 'pathological': 4146, 'ironically': 4147, 'shabab': 4148, 'hrc': 4149, 'meyers': 4150, 'casino': 4151, 'tendency': 4152, 'geist': 4153, 'rouhani': 4154, 'purported': 4155, 'troopers': 4156, 'accessible': 4157, 'mustard': 4158, 'huffingtonpost': 4159, 'rao': 4160, 'ues': 4161, 'burt': 4162, 'phoenix': 4163, 'traveled': 4164, 'documentary': 4165, 'figures': 4166, 'episode': 4167, 'hbo': 4168, 'levin': 4169, 'film': 4170, 'divisions': 4171, 'attractive': 4172, 'assets': 4173, 'annexation': 4174, 'meddling': 4175, 'yellow': 4176, 'economically': 4177, 'founding': 4178, 'endorse': 4179, 'doubled': 4180, 'technological': 4181, 'undermining': 4182, 'lectured': 4183, 'historian': 4184, 'sovereignty': 4185, 'collective': 4186, 'civilization': 4187, 'protects': 4188, 'quo': 4189, 'angela': 4190, 'defender': 4191, 'tel': 4192, 'aviv': 4193, 'possess': 4194, 'aftermath': 4195, 'hostage': 4196, 'unprecedented': 4197, 'coy': 4198, 'ancestors': 4199, 'isaiah': 4200, 'jessica': 4201, 'freed': 4202, 'equation': 4203, 'sexuality': 4204, 'graphic': 4205, 'nazi': 4206, 'backdrop': 4207, 'photograph': 4208, 'borderline': 4209, 'mock': 4210, 'gregory': 4211, 'disgusted': 4212, 'appalled': 4213, 'ibebunjo': 4214, 'wrist': 4215, 'russell': 4216, 'handing': 4217, 'snow': 4218, 'warm': 4219, 'stalled': 4220, 'contention': 4221, 'confession': 4222, 'yorkers': 4223, 'observers': 4224, 'racially': 4225, 'skepticism': 4226, 'brad': 4227, 'strained': 4228, 'manhunt': 4229, 'russo': 4230, 'cellphone': 4231, 'interrogation': 4232, 'gaps': 4233, 'falsehoods': 4234, 'cooperate': 4235, 'portrayed': 4236, 'implicit': 4237, 'lacks': 4238, 'ludicrous': 4239, 'remind': 4240, 'applause': 4241, 'expose': 4242, 'lands': 4243, 'quarters': 4244, 'vindication': 4245, 'fly': 4246, 'legitimacy': 4247, 'indication': 4248, 'staying': 4249, 'hogan': 4250, 'silly': 4251, 'negotiation': 4252, 'triumph': 4253, 'vanity': 4254, 'newsletter': 4255, 'intern': 4256, 'touted': 4257, 'opposing': 4258, 'drawing': 4259, 'naked': 4260, 'pants': 4261, 'mentally': 4262, 'item': 4263, 'allocated': 4264, 'driveway': 4265, 'walls': 4266, 'inmates': 4267, 'voiced': 4268, 'stretched': 4269, 'driven': 4270, 'depend': 4271, 'constituents': 4272, 'regular': 4273, 'displayed': 4274, 'meals': 4275, 'delivery': 4276, 'rising': 4277, 'grandchildren': 4278, 'rice': 4279, 'riders': 4280, 'toilet': 4281, 'collected': 4282, 'wrongdoing': 4283, 'deem': 4284, 'hush': 4285, 'herring': 4286, 'jamie': 4287, 'compelling': 4288, 'alter': 4289, 'proceedings': 4290, 'investigative': 4291, 'files': 4292, 'material': 4293, 'airports': 4294, 'conspiring': 4295, 'watchers': 4296, 'spinning': 4297, 'witch': 4298, 'interfere': 4299, 'absent': 4300, 'waged': 4301, 'analysts': 4302, 'executed': 4303, 'boycott': 4304, 'prevention': 4305, 'campuses': 4306, 'threatens': 4307, 'broadly': 4308, 'sharply': 4309, 'xenophobic': 4310, 'nationalist': 4311, 'irony': 4312, 'equally': 4313, 'idiotic': 4314, 'hoyer': 4315, 'ousted': 4316, 'baghuz': 4317, 'surrender': 4318, 'preservation': 4319, 'fish': 4320, 'jordan': 4321, 'counterterrorism': 4322, 'units': 4323, 'violently': 4324, 'parallel': 4325, 'albeit': 4326, 'scoop': 4327, 'coast': 4328, 'ghana': 4329, 'accelerating': 4330, 'reducing': 4331, 'damning': 4332, 'fortified': 4333, 'strongman': 4334, 'renewed': 4335, 'uncertainty': 4336, 'obstructing': 4337, 'finances': 4338, 'scheme': 4339, 'mongering': 4340, 'weighing': 4341, 'recall': 4342, 'sight': 4343, 'welcomed': 4344, 'trickle': 4345, 'prosecutions': 4346, 'vengeance': 4347, 'intense': 4348, 'awarded': 4349, 'camps': 4350, 'condemnation': 4351, 'underground': 4352, 'sweden': 4353, 'tuition': 4354, 'tearing': 4355, 'writer': 4356, 'detention': 4357, 'joked': 4358, 'anticipating': 4359, 'accommodation': 4360, 'invest': 4361, 'lip': 4362, 'provisions': 4363, 'asset': 4364, 'remark': 4365, 'banker': 4366, 'lobbyists': 4367, 'repeal': 4368, 'altered': 4369, 'therapeutic': 4370, 'historians': 4371, 'oppression': 4372, 'instagram': 4373, 'catharsis': 4374, 'sweeping': 4375, 'realm': 4376, 'ripped': 4377, 'trans': 4378, 'kissing': 4379, 'helps': 4380, 'scenes': 4381, 'modest': 4382, 'practical': 4383, 'anonymous': 4384, 'donate': 4385, 'vacation': 4386, 'overcome': 4387, 'fundamentally': 4388, 'handling': 4389, 'exhibitions': 4390, 'crawl': 4391, 'paintings': 4392, 'alexander': 4393, 'speed': 4394, 'elderly': 4395, 'tapped': 4396, 'deceased': 4397, 'valuable': 4398, 'rose': 4399, 'dealers': 4400, 'bradford': 4401, 'contribute': 4402, 'anita': 4403, 'aesthetics': 4404, 'polio': 4405, 'interpreted': 4406, 'conception': 4407, 'rulings': 4408, 'workplace': 4409, 'dawn': 4410, 'safeguard': 4411, 'ph': 4412, 'telephone': 4413, 'moore': 4414, 'federation': 4415, 'blackboard': 4416, 'jurisdiction': 4417, 'avenue': 4418, 'involve': 4419, 'gravity': 4420, 'cooperating': 4421, 'deadline': 4422, 'sentenced': 4423, 'registration': 4424, 'disclosed': 4425, 'khuzami': 4426, 'strauss': 4427, 'andrea': 4428, 'laura': 4429, 'shower': 4430, 'willfully': 4431, 'violates': 4432, 'exceed': 4433, 'denzel': 4434, 'catching': 4435, 'celebrities': 4436, 'gorilla': 4437, 'tomshliand': 4438, 'tyler': 4439, 'broadcasting': 4440, 'compromised': 4441, 'operator': 4442, 'mentioned': 4443, 'melissa': 4444, 'spreads': 4445, 'scare': 4446, 'solace': 4447, 'freak': 4448, 'privacy': 4449, 'gotta': 4450, 'kicked': 4451, 'disappoint': 4452, 'mask': 4453, 'leon': 4454, 'machines': 4455, 'disrespect': 4456, 'adult': 4457, 'reviewing': 4458, 'grabbing': 4459, 'freely': 4460, 'significance': 4461, 'smear': 4462, 'refuse': 4463, 'claus': 4464, 'twisting': 4465, 'cultures': 4466, 'confirming': 4467, 'alleging': 4468, 'detailing': 4469, 'conscientious': 4470, 'electors': 4471, 'assuming': 4472, 'likelihood': 4473, 'tall': 4474, 'upset': 4475, 'offend': 4476, 'reminded': 4477, 'gays': 4478, 'dime': 4479, 'swear': 4480, 'explains': 4481, 'shoulders': 4482, 'describes': 4483, 'bus': 4484, 'tolerance': 4485, 'teachings': 4486, 'mohammed': 4487, 'opposite': 4488, 'labels': 4489, 'illness': 4490, 'burger': 4491, 'pension': 4492, 'taxpayer': 4493, 'ranging': 4494, 'presumptive': 4495, 'meryl': 4496, 'florence': 4497, 'irrelevant': 4498, 'rant': 4499, 'promotes': 4500, 'invented': 4501, 'ultimate': 4502, 'prohibited': 4503, 'duo': 4504, 'revive': 4505, 'emanuel': 4506, 'intend': 4507, 'rasheed': 4508, 'utter': 4509, 'temper': 4510, 'flickr': 4511, 'register': 4512, 'commonly': 4513, 'locations': 4514, 'pissed': 4515, 'strict': 4516, 'disobedience': 4517, 'sentencing': 4518, 'disruption': 4519, 'apply': 4520, 'traditions': 4521, 'reject': 4522, 'settlements': 4523, 'mississippi': 4524, 'investing': 4525, 'rodham': 4526, 'controversy': 4527, 'kim': 4528, 'sing': 4529, 'beneath': 4530, 'radicals': 4531, 'assimilate': 4532, 'integrate': 4533, 'patriotic': 4534, 'bent': 4535, 'disrespectful': 4536, 'surround': 4537, 'maker': 4538, 'whales': 4539, 'leak': 4540, 'tons': 4541, 'procedures': 4542, 'engineer': 4543, 'gruesome': 4544, 'disappeared': 4545, 'inserted': 4546, 'plugin': 4547, 'slot': 4548, 'porter': 4549, 'wondering': 4550, 'interviewer': 4551, 'leaks': 4552, 'bright': 4553, 'eaten': 4554, 'subsequent': 4555, 'trafficking': 4556, 'bruce': 4557, 'snoop': 4558, 'dogg': 4559, 'survival': 4560, 'contacted': 4561, 'crap': 4562, 'luncheon': 4563, 'production': 4564, 'format': 4565, 'hugh': 4566, 'superstar': 4567, 'accuracy': 4568, 'infected': 4569, 'virgin': 4570, 'attraction': 4571, 'nypd': 4572, 'pictured': 4573, 'dancing': 4574, 'awhile': 4575, 'lifestyle': 4576, 'nerve': 4577, 'expense': 4578, 'rude': 4579, 'finish': 4580, 'relax': 4581, 'laying': 4582, 'buried': 4583, 'purposely': 4584, 'dorm': 4585, 'borrowed': 4586, 'lucky': 4587, 'cry': 4588, 'dare': 4589, 'pouring': 4590, 'heaven': 4591, 'intentional': 4592, 'formed': 4593, 'eskom': 4594, 'managers': 4595, 'commercials': 4596, 'examiner': 4597, 'naval': 4598, 'carved': 4599, 'lexington': 4600, 'locked': 4601, 'insane': 4602, 'purchased': 4603, 'patriot': 4604, 'owed': 4605, 'rejecting': 4606, 'sounding': 4607, 'wonderful': 4608, 'unsafe': 4609, 'manslaughter': 4610, 'scrutinized': 4611, 'recreational': 4612, 'dive': 4613, 'concrete': 4614, 'extends': 4615, 'bride': 4616, 'erupted': 4617, 'dragged': 4618, 'airlines': 4619, 'screaming': 4620, 'combination': 4621, 'guarantee': 4622, 'serves': 4623, 'forms': 4624, 'easter': 4625, 'productive': 4626, 'catastrophe': 4627, 'owes': 4628, 'delayed': 4629, 'shaking': 4630, 'collect': 4631, 'montana': 4632, 'hunter': 4633, 'tolerant': 4634, 'perpetrators': 4635, 'harassing': 4636, 'shutdown': 4637, 'ice': 4638, 'cream': 4639, 'creator': 4640, 'jan': 4641, 'lance': 4642, 'armstrong': 4643, 'anna': 4644, 'infections': 4645, 'refuses': 4646, 'plates': 4647, 'puerto': 4648, 'contractor': 4649, 'controlling': 4650, 'waving': 4651, 'ho': 4652, 'forthcoming': 4653, 'solve': 4654, 'slain': 4655, 'bike': 4656, 'chickens': 4657, 'blend': 4658, 'herbs': 4659, 'saved': 4660, 'astronauts': 4661, 'muscle': 4662, 'ignore': 4663, 'bloody': 4664, 'comprised': 4665, 'calif': 4666, 'watergate': 4667, 'hayes': 4668, 'nsa': 4669, 'brave': 4670, 'neighborhoods': 4671, 'remembering': 4672, 'correspondent': 4673, 'patsy': 4674, 'bahamas': 4675, 'astonishing': 4676, 'faked': 4677, 'reply': 4678, 'plants': 4679, 'bars': 4680, 'planet': 4681, 'venus': 4682, 'shine': 4683, 'temperature': 4684, 'effects': 4685, 'foolish': 4686, 'substance': 4687, 'pundits': 4688, 'boss': 4689, 'blasted': 4690, 'practicing': 4691, 'cannibalism': 4692, 'pharmaceutical': 4693, 'ball': 4694, 'disgrace': 4695, 'chappaqua': 4696, 'barrels': 4697, 'mccabe': 4698, 'missteps': 4699, 'probe': 4700, 'exclusive': 4701, 'sharia': 4702, 'prejudice': 4703, 'uncertain': 4704, 'denying': 4705, 'sentiments': 4706, 'compromise': 4707, 'absurd': 4708, 'excellent': 4709, 'pleased': 4710, 'rfid': 4711, 'shanti': 4712, 'identification': 4713, 'dominated': 4714, 'tuned': 4715, 'killings': 4716, 'judging': 4717, 'arrogant': 4718, 'chef': 4719, 'mead': 4720, 'eats': 4721, 'fork': 4722, 'coke': 4723, 'dig': 4724, 'shinzo': 4725, 'shelby': 4726, 'contradictory': 4727, 'properties': 4728, 'mansion': 4729, 'kid': 4730, 'turnout': 4731, 'resigned': 4732, 'unhinged': 4733, 'disregard': 4734, 'contributor': 4735, 'sexist': 4736, 'denies': 4737, 'factual': 4738, 'bitter': 4739, 'racists': 4740, 'hypothesis': 4741, 'impressed': 4742, 'becket': 4743, 'busy': 4744, 'punch': 4745, 'gabriel': 4746, 'populist': 4747, 'handy': 4748, 'duck': 4749, 'transparency': 4750, 'fails': 4751, 'yelled': 4752, 'sikh': 4753, 'bains': 4754, 'fleeing': 4755, 'admission': 4756, 'municipality': 4757, 'printed': 4758, 'disarm': 4759, 'residue': 4760, 'governors': 4761, 'disapproval': 4762, 'releases': 4763, 'hopefuls': 4764, 'economics': 4765, 'wealthy': 4766, 'eliminating': 4767, 'bridges': 4768, 'spat': 4769, 'collapsed': 4770, 'kiev': 4771, 'memories': 4772, 'climb': 4773, 'zone': 4774, 'assaults': 4775, 'southwest': 4776, 'saumagenkerwe': 4777, 'trustworthy': 4778, 'steiniger': 4779, 'celebrating': 4780, 'pageant': 4781, 'purple': 4782, 'huber': 4783, 'simone': 4784, 'secured': 4785, 'fred': 4786, 'heinz': 4787, 'letters': 4788, 'nervously': 4789, 'floors': 4790, 'irritated': 4791, 'sentiment': 4792, 'roof': 4793, 'eviscerated': 4794, 'lawman': 4795, 'omni': 4796, 'initiated': 4797, 'proactive': 4798, 'commissioner': 4799, 'airstrike': 4800, 'bbc': 4801, 'saves': 4802, 'collapses': 4803, 'flared': 4804, 'consultations': 4805, 'bashar': 4806, 'gesture': 4807, 'stumbleupon': 4808, 'screwed': 4809, 'civic': 4810, 'vibrant': 4811, 'credentials': 4812, 'complications': 4813, 'palestinian': 4814, 'solidly': 4815, 'endless': 4816, 'milwaukee': 4817, 'frankly': 4818, 'atmosphere': 4819, 'levied': 4820, 'bodyguards': 4821, 'lapd': 4822, 'oddly': 4823, 'lifelong': 4824, 'suburban': 4825, 'biography': 4826, 'acquisition': 4827, 'alumnus': 4828, 'dickinson': 4829, 'nonslave': 4830, 'northerners': 4831, 'sectional': 4832, 'ignoring': 4833, 'du': 4834, 'promoting': 4835, 'exacerbating': 4836, 'harpers': 4837, 'ferry': 4838, 'villages': 4839, 'hudson': 4840, 'contend': 4841, 'separatists': 4842, 'exit': 4843, 'banking': 4844, 'hotels': 4845, 'studied': 4846, 'fairness': 4847, 'handful': 4848, 'frustrated': 4849, 'crown': 4850, 'dec': 4851, 'import': 4852, 'drag': 4853, 'mcmorris': 4854, 'rodgers': 4855, 'frequently': 4856, 'podcast': 4857, 'bathrooms': 4858, 'loretta': 4859, 'constitutionality': 4860, 'factors': 4861, 'sues': 4862, 'sympathetic': 4863, 'flip': 4864, 'concentrated': 4865, 'stopgap': 4866, 'hints': 4867, 'unfolding': 4868, 'immense': 4869, 'bamberg': 4870, 'looted': 4871, 'mildly': 4872, 'terence': 4873, 'originated': 4874, 'reconsider': 4875, 'sponsors': 4876, 'jasta': 4877, 'blames': 4878, 'arnie': 4879, 'dandong': 4880, 'hongxiang': 4881, 'transactions': 4882, 'averaged': 4883, 'viewership': 4884, 'stayed': 4885, 'sky': 4886, 'streaming': 4887, 'defends': 4888, 'delaurentis': 4889, 'stoned': 4890, 'pulse': 4891, 'smarter': 4892, 'acceptance': 4893, 'sep': 4894, 'supremacist': 4895, 'aaron': 4896, 'intimidate': 4897, 'fits': 4898, 'slamming': 4899, 'vigorous': 4900, 'suspected': 4901, 'owns': 4902, 'dscc': 4903, 'hang': 4904, 'awards': 4905, 'comedy': 4906, 'outstanding': 4907, 'fundamentals': 4908, 'cardin': 4909, 'invasion': 4910, 'conferences': 4911, 'inaccurate': 4912, 'angell': 4913, 'forgotten': 4914, 'reassurance': 4915, 'abuse': 4916, 'firearm': 4917, 'verbal': 4918, 'grade': 4919, 'feature': 4920, 'millennials': 4921, 'burton': 4922, 'foundations': 4923, 'persistently': 4924, 'faulty': 4925, 'fraudulent': 4926, 'juncture': 4927, 'propublica': 4928, 'economist': 4929, 'retroviral': 4930, 'platelet': 4931, 'mumbai': 4932, 'ortel': 4933, 'manufacturers': 4934, 'benefited': 4935, 'rajat': 4936, 'insider': 4937, 'dealt': 4938, 'karen': 4939, 'charmian': 4940, 'introducing': 4941, 'diversity': 4942, 'bryan': 4943, 'opry': 4944, 'linda': 4945, 'memorials': 4946, 'specifics': 4947, 'farm': 4948, 'household': 4949, 'conflicts': 4950, 'heels': 4951, 'repeating': 4952, 'wiping': 4953, 'gerald': 4954, 'wapo': 4955, 'checker': 4956, 'britannica': 4957, 'convenience': 4958, 'remote': 4959, 'vetted': 4960, 'heidi': 4961, 'digital': 4962, 'squarely': 4963, 'ailes': 4964, 'volatile': 4965, 'americasbanks': 4966, 'katie': 4967, 'commentary': 4968, 'engagement': 4969, 'organizer': 4970, 'campbell': 4971, 'megan': 4972, 'stern': 4973, 'honorable': 4974, 'unforced': 4975, 'bully': 4976, 'virtue': 4977, 'goldwater': 4978, 'mondale': 4979, 'confident': 4980, 'theme': 4981, 'weather': 4982, 'mines': 4983, 'mining': 4984, 'pga': 4985, 'resort': 4986, 'arrogance': 4987, 'spends': 4988, 'assemble': 4989, 'warming': 4990, 'leaked': 4991, 'helmet': 4992, 'gains': 4993, 'herald': 4994, 'environmentalist': 4995, 'scumbags': 4996, 'lucas': 4997, 'invading': 4998, 'evidently': 4999}\n"
     ]
    }
   ],
   "source": [
    "words, word_to_id = build_vocab(concat_text,vocab_size)\n",
    "print(word_to_id)"
   ]
  },
  {
   "cell_type": "code",
   "execution_count": 65,
   "metadata": {},
   "outputs": [
    {
     "name": "stdout",
     "output_type": "stream",
     "text": [
      "5000\n"
     ]
    }
   ],
   "source": [
    "print(len(word_to_id))"
   ]
  },
  {
   "cell_type": "code",
   "execution_count": 66,
   "metadata": {},
   "outputs": [],
   "source": [
    "#padding the samples sequence length = 300\n",
    "def get_pad_text(text_words, word_to_id, max_length=100):   \n",
    "    data_id=[]\n",
    "    for x in text_words:\n",
    "        single_text=[]\n",
    "        for i in x:\n",
    "            if i in words:\n",
    "                a=word_to_id[i]\n",
    "                single_text.append(a)\n",
    "        data_id.append(single_text)\n",
    "    x_pad = kr.preprocessing.sequence.pad_sequences(data_id, max_length)\n",
    "    return np.array(x_pad)\n",
    "\n",
    "X = get_pad_text(concat_text,word_to_id,max_length=sequence_length)"
   ]
  },
  {
   "cell_type": "code",
   "execution_count": 67,
   "metadata": {
    "scrolled": true
   },
   "outputs": [
    {
     "name": "stdout",
     "output_type": "stream",
     "text": [
      "[[   0    0    0 ... 1486  475   41]\n",
      " [3586  788  402 ...  191  402  170]\n",
      " [   0    0    0 ... 3144 4192 4193]\n",
      " ...\n",
      " [  18   21  691 ... 1894  252   56]\n",
      " [   0    0    0 ...    5 2925   79]\n",
      " [ 264   71  390 ...  210  252   56]]\n"
     ]
    }
   ],
   "source": [
    "X.shape\n",
    "print(X)"
   ]
  },
  {
   "cell_type": "markdown",
   "metadata": {},
   "source": [
    "**划分训练集和线下验证集**"
   ]
  },
  {
   "cell_type": "code",
   "execution_count": 68,
   "metadata": {},
   "outputs": [],
   "source": [
    "def train_dev_split(X,y):\n",
    "    #每次的随机都保证一样\n",
    "    np.random.seed(10)\n",
    "    shuffle_indices = np.random.permutation(len(y))\n",
    "    x_shuffled = X[shuffle_indices]\n",
    "    y_shuffled = y[shuffle_indices]\n",
    "    # Split train/test set\n",
    "    # 后10%作为验证集\n",
    "    dev_sample_index = -1 * int(0.1 * float(len(y)))\n",
    "    x_train, x_dev = x_shuffled[:dev_sample_index], x_shuffled[dev_sample_index:]\n",
    "    y_train, y_dev = y_shuffled[:dev_sample_index], y_shuffled[dev_sample_index:]\n",
    "    print(\"Train/Dev split: {:d}/{:d}\".format(len(y_train), len(y_dev)))\n",
    "    return x_train, y_train, word_to_id, x_dev, y_dev"
   ]
  },
  {
   "cell_type": "code",
   "execution_count": 72,
   "metadata": {},
   "outputs": [
    {
     "name": "stdout",
     "output_type": "stream",
     "text": [
      "[0 0 0 1 0 0 1 1 1 1 1 1 1 0 0 1 0 1 0 0]\n"
     ]
    }
   ],
   "source": [
    "y = np.array(df['type'])\n",
    "from sklearn.model_selection import train_test_split\n",
    "\n",
    "x_train,x_val,y_train,y_val = train_test_split(X,y,test_size=0.2,random_state=10,stratify=y)\n",
    "print(y_val[:20])"
   ]
  },
  {
   "cell_type": "markdown",
   "metadata": {},
   "source": [
    "**TextCNN 模型**"
   ]
  },
  {
   "cell_type": "code",
   "execution_count": 73,
   "metadata": {},
   "outputs": [
    {
     "name": "stdout",
     "output_type": "stream",
     "text": [
      "(?, 300)\n",
      "(?, 300, 128)\n"
     ]
    }
   ],
   "source": [
    "#Inputs:Input函数只需要填写列数\n",
    "comment_seq = Input(shape=[sequence_length],name='x_seq')  #shape is (number of samples eg:10000,300) \n",
    "print(comment_seq.shape)\n",
    "#embedding layers\n",
    "embedding_layer = Embedding(len(word_to_id), embedding_dims)(comment_seq)   #填充层，Embedding(len(word_to_id), embedding_dims) 内置 5000(len word_to_id) 0....4999*128 random vector\n",
    "# comment_seq 放入变成 10000*300*128\n",
    "print(embedding_layer.shape)"
   ]
  },
  {
   "cell_type": "code",
   "execution_count": 74,
   "metadata": {},
   "outputs": [
    {
     "name": "stdout",
     "output_type": "stream",
     "text": [
      "(?, 300, 128, 1)\n",
      "Builded Reshape Layer...\n"
     ]
    }
   ],
   "source": [
    "#在原来的基础上添加一个维度，相当于 类似图片数据(number sequence,r,g,b) 二维精度高 考虑了前后\n",
    "'''Reshape Layer'''\n",
    "reshape = Reshape(target_shape=(sequence_length, embedding_dims, 1), name='reshape')(embedding_layer) # chanels last\n",
    "print(reshape.shape)\n",
    "print(\"Builded Reshape Layer...\")"
   ]
  },
  {
   "cell_type": "code",
   "execution_count": 75,
   "metadata": {},
   "outputs": [],
   "source": [
    "#使用三种filter进行过滤，将最后的结果flatten  text 只能上下移动 filter\n",
    "nb_filters = 100   \n",
    "filter_lengths = [3, 4, 5]   # 3*128 , 4*128, 5*128\n",
    "flatten_ = []\n",
    "\n",
    "for i in filter_lengths:\n",
    "    model_internal = Sequential()\n",
    "    model_internal.add(Convolution2D(nb_filters, (i, embedding_dims), activation=\"relu\", name='conv2d_' + str(i), input_shape=(sequence_length, embedding_dims, 1)))\n",
    "# chanels last,默认了strides=(1,1), padding='valid'\n",
    "    model_internal.add(MaxPooling2D(pool_size=(sequence_length - i + 1, 1), name='maxpool2d_' + str(i)))\n",
    "    model_internal.add(Flatten())   #flatten 去除刚刚加的最后的一纬\n",
    "    flatten = model_internal(reshape)  \n",
    "    #print(flatten.shape)\n",
    "    flatten_.append(flatten)   #list of 三个矩阵"
   ]
  },
  {
   "cell_type": "code",
   "execution_count": 76,
   "metadata": {},
   "outputs": [
    {
     "name": "stdout",
     "output_type": "stream",
     "text": [
      "Builded Fully Connect Layer & Dropout Layer...\n",
      "Builded  Output Layer...\n"
     ]
    }
   ],
   "source": [
    "#Fully Connect Layer & Dropout Layer\n",
    "dropout_rate = 0.5   \n",
    "hidden_nodes = 256   \n",
    "merge = concatenate(flatten_, axis=-1)    \n",
    "\n",
    "fully_connect = Dense(hidden_nodes, activation='relu', name='fully_connect')(merge) \n",
    "dropout = Dropout(dropout_rate, name='dropout')(fully_connect)\n",
    "\n",
    "print(\"Builded Fully Connect Layer & Dropout Layer...\")\n",
    "\n",
    "'''Projection Layer & Output Layer'''\n",
    "\n",
    "output = Dense(1, activation='sigmoid', name='output')(dropout) # output layer\n",
    "\n",
    "print(\"Builded  Output Layer...\")"
   ]
  },
  {
   "cell_type": "code",
   "execution_count": 77,
   "metadata": {},
   "outputs": [],
   "source": [
    "model = Model([comment_seq],output)"
   ]
  },
  {
   "cell_type": "code",
   "execution_count": 78,
   "metadata": {},
   "outputs": [],
   "source": [
    "model.compile(loss=\"binary_crossentropy\", optimizer=\"adam\", metrics=['accuracy']) #binary classification"
   ]
  },
  {
   "cell_type": "code",
   "execution_count": 79,
   "metadata": {},
   "outputs": [],
   "source": [
    "from keras.callbacks import EarlyStopping,ModelCheckpoint\n",
    "\n",
    "es = EarlyStopping(monitor='val_acc',patience=5)  #val patience times\n",
    "\n",
    "filepath=\"weights.bests.hdf5\"\n",
    "checkpoint = ModelCheckpoint(filepath, monitor='val_acc', verbose=1, save_best_only=True,mode='max')\n",
    "callbacks_list = [es,checkpoint]"
   ]
  },
  {
   "cell_type": "code",
   "execution_count": 80,
   "metadata": {},
   "outputs": [
    {
     "name": "stdout",
     "output_type": "stream",
     "text": [
      "Train on 315 samples, validate on 36 samples\n",
      "Epoch 1/5\n",
      "315/315 [==============================] - 7s 22ms/step - loss: 0.6919 - acc: 0.4952 - val_loss: 0.6995 - val_acc: 0.4167\n",
      "Epoch 2/5\n",
      "315/315 [==============================] - 3s 9ms/step - loss: 0.6841 - acc: 0.5524 - val_loss: 0.7053 - val_acc: 0.4167\n",
      "Epoch 3/5\n",
      "315/315 [==============================] - 2s 6ms/step - loss: 0.6768 - acc: 0.5524 - val_loss: 0.7117 - val_acc: 0.4167\n",
      "Epoch 4/5\n",
      "315/315 [==============================] - 2s 7ms/step - loss: 0.6703 - acc: 0.5524 - val_loss: 0.7165 - val_acc: 0.4167\n",
      "Epoch 5/5\n",
      "315/315 [==============================] - 3s 8ms/step - loss: 0.6607 - acc: 0.5524 - val_loss: 0.7200 - val_acc: 0.4167\n"
     ]
    },
    {
     "data": {
      "text/plain": [
       "<keras.callbacks.History at 0x10e16d6a0>"
      ]
     },
     "execution_count": 80,
     "metadata": {},
     "output_type": "execute_result"
    }
   ],
   "source": [
    "model.fit(x_train, y_train,\n",
    "          validation_split=0.1,\n",
    "          batch_size=batch_size,   \n",
    "          callbacks=[es],\n",
    "          epochs=5,\n",
    "          shuffle=True)"
   ]
  },
  {
   "cell_type": "code",
   "execution_count": 87,
   "metadata": {},
   "outputs": [
    {
     "name": "stdout",
     "output_type": "stream",
     "text": [
      "88\n"
     ]
    }
   ],
   "source": [
    "pred_y = model.predict(x_val)\n",
    "print(len(pred_y))\n",
    "predict = []\n",
    "for i in range(0,len(pred_y)):\n",
    "    predict.append(pred_y[i][0])\n",
    "result = pd.DataFrame(columns=['predict', 'label'])\n",
    "result['predict'] = predict\n",
    "result['label'] = y_val\n",
    "result\n",
    "result.to_csv(r'result_new_2.csv' ,index=False)"
   ]
  },
  {
   "cell_type": "code",
   "execution_count": null,
   "metadata": {},
   "outputs": [],
   "source": []
  },
  {
   "cell_type": "code",
   "execution_count": null,
   "metadata": {},
   "outputs": [],
   "source": []
  },
  {
   "cell_type": "code",
   "execution_count": 88,
   "metadata": {},
   "outputs": [],
   "source": [
    "pred_y = model.predict(x_val)\n",
    "def Chang_(pred):\n",
    "    results = []\n",
    "    for i in range(len(pred)):\n",
    "        if pred[i]>0.5:\n",
    "            temp = 1\n",
    "            results.append(temp)\n",
    "        else:\n",
    "            temp = 0\n",
    "            results.append(temp)\n",
    "    return results\n",
    "        \n",
    "results = Chang_(pred_y)"
   ]
  },
  {
   "cell_type": "code",
   "execution_count": 89,
   "metadata": {},
   "outputs": [],
   "source": [
    "\n",
    "from sklearn.metrics import confusion_matrix\n",
    "from sklearn.metrics import precision_recall_curve\n",
    "from sklearn.metrics import auc\n",
    "from sklearn.metrics import roc_auc_score\n",
    "from sklearn.metrics import roc_curve\n",
    "from sklearn.metrics import classification_report\n",
    "from sklearn.metrics import precision_score, recall_score\n",
    "from sklearn.metrics import f1_score"
   ]
  },
  {
   "cell_type": "code",
   "execution_count": 91,
   "metadata": {},
   "outputs": [
    {
     "name": "stdout",
     "output_type": "stream",
     "text": [
      "[[ 0  0]\n",
      " [41 47]]\n"
     ]
    }
   ],
   "source": [
    "# Compute confusion matrix\n",
    "con_matrix = confusion_matrix(results, y_val,labels=[0,1])  # 生成混淆矩阵\n",
    "print(con_matrix)"
   ]
  },
  {
   "cell_type": "code",
   "execution_count": 93,
   "metadata": {},
   "outputs": [
    {
     "name": "stdout",
     "output_type": "stream",
     "text": [
      "precision: 0.5340909090909091\n",
      "recall: 1.0\n",
      "f1: 0.6962962962962962\n"
     ]
    }
   ],
   "source": [
    "print('precision:',precision_score(y_val, results))\n",
    "print('recall:',recall_score(y_val, results))\n",
    "print('f1:',f1_score(y_val, results))"
   ]
  },
  {
   "cell_type": "code",
   "execution_count": 94,
   "metadata": {},
   "outputs": [
    {
     "name": "stdout",
     "output_type": "stream",
     "text": [
      "[0.562688  0.5724812]\n"
     ]
    }
   ],
   "source": [
    "y_scores = pd.DataFrame(pred_y)[0].values\n",
    "print(y_scores[:2])"
   ]
  },
  {
   "cell_type": "code",
   "execution_count": 95,
   "metadata": {},
   "outputs": [
    {
     "name": "stdout",
     "output_type": "stream",
     "text": [
      "[1 1 1 1 1 1 1 1 1 1 1 1 1 1 1 1 1 1 1 1 1 1 1 1 1 1 1 1 1 1 1 1 1 1 1 1 1\n",
      " 1 1 1 1 1 1 1 1 1 1 1 1 1 1 1 1 1 1 1 1 1 1 1 1 1 1 1 1 1 1 1 1 1 1 1 1 1\n",
      " 1 1 1 1 1 1 1 1 1 1 1 1 1 1]\n"
     ]
    }
   ],
   "source": [
    "y_scores = pd.DataFrame(results)[0].values\n",
    "print(y_scores)"
   ]
  },
  {
   "cell_type": "code",
   "execution_count": 98,
   "metadata": {},
   "outputs": [
    {
     "name": "stdout",
     "output_type": "stream",
     "text": [
      "0.5\n"
     ]
    }
   ],
   "source": [
    "auc_value = roc_auc_score(y_val, y_scores)\n",
    "print(auc_value)"
   ]
  },
  {
   "cell_type": "code",
   "execution_count": null,
   "metadata": {},
   "outputs": [],
   "source": []
  },
  {
   "cell_type": "code",
   "execution_count": 47,
   "metadata": {},
   "outputs": [],
   "source": [
    "pred_y = model.predict(x_dev)\n",
    "predict = []\n",
    "for i in range(0,len(pred_y)):\n",
    "    predict.append(pred_y[i][0])\n",
    "result = pd.DataFrame(columns=['predict', 'label'])\n",
    "result['predict'] = predict\n",
    "result['label'] = y_dev\n",
    "result\n",
    "result.to_csv(r'result_new.csv' ,index=False)"
   ]
  },
  {
   "cell_type": "code",
   "execution_count": 56,
   "metadata": {},
   "outputs": [],
   "source": [
    "df2['text'] = df2['text'].astype(str)\n",
    "sents = df2['text']\n",
    "text_words=[cleanlines(sent,remove_stopwords=True) for sent in sents]"
   ]
  },
  {
   "cell_type": "code",
   "execution_count": 57,
   "metadata": {},
   "outputs": [],
   "source": [
    "df2['title'] = df2['title'].astype(str)\n",
    "title_sents = df2['title']\n",
    "title_words=[cleanlines(sent,remove_stopwords=True) for sent in title_sents]"
   ]
  },
  {
   "cell_type": "code",
   "execution_count": 58,
   "metadata": {},
   "outputs": [],
   "source": [
    "#讲内容和标题连接在一起\n",
    "def concat_text(text_words,title_words):\n",
    "    concat_text = []\n",
    "    for i in range(len(text_words)):\n",
    "        temp = text_words[i]+title_words[i]\n",
    "        concat_text.append(temp)\n",
    "    return concat_text\n",
    "\n",
    "concat_text = concat_text(text_words,title_words)\n"
   ]
  },
  {
   "cell_type": "code",
   "execution_count": 60,
   "metadata": {},
   "outputs": [
    {
     "data": {
      "text/plain": [
       "16251"
      ]
     },
     "execution_count": 60,
     "metadata": {},
     "output_type": "execute_result"
    }
   ],
   "source": [
    "len(concat_text)"
   ]
  },
  {
   "cell_type": "code",
   "execution_count": 61,
   "metadata": {},
   "outputs": [],
   "source": [
    "vocab_size = 5000 #dict size\n",
    "batch_size = 200 #batch size for each training\n",
    "sequence_length = 300 #sequence length -same for every sample\n",
    "embedding_dims=128 #embed dim"
   ]
  },
  {
   "cell_type": "code",
   "execution_count": 62,
   "metadata": {},
   "outputs": [],
   "source": [
    "#build dic\n",
    "def build_vocab(content_list,vocab_size):\n",
    "    vocab_size = vocab_size\n",
    "    all_vocabs = []\n",
    "    for content in content_list:\n",
    "        all_vocabs.extend(list(content))\n",
    "    #{word:counts}\n",
    "    counter = Counter(all_vocabs)\n",
    "    #take the most common top 4999\n",
    "    count_pairs = counter.most_common(vocab_size - 1)  #return pairs\n",
    "    words, _ = list(zip(*count_pairs))    #ignore the counts\n",
    "    words = ['<PAD>'] + list(words)  #防止样本数太小 填充为0 \n",
    "    word_to_id = dict(zip(words, range(len(words))))  #change pos to 编号 number\n",
    "    return words, word_to_id"
   ]
  },
  {
   "cell_type": "code",
   "execution_count": 63,
   "metadata": {},
   "outputs": [
    {
     "name": "stdout",
     "output_type": "stream",
     "text": [
      "{'<PAD>': 0, 'trump': 1, 'clinton': 2, 'people': 3, 'hillary': 4, 'president': 5, 'election': 6, 'campaign': 7, 'time': 8, 'obama': 9, 'donald': 10, 'government': 11, 'american': 12, 'news': 13, 'political': 14, 'war': 15, 'media': 16, 'white': 17, 'republican': 18, 'russia': 19, 'country': 20, 'party': 21, 'presidential': 22, 'house': 23, 'don': 24, 'day': 25, 'america': 26, 'vote': 27, 'voters': 28, 'united': 29, 'democratic': 30, 'public': 31, 'national': 32, 'fbi': 33, 'support': 34, 'policy': 35, 'percent': 36, 'women': 37, 'law': 38, 'york': 39, 'email': 40, 'power': 41, 'times': 42, 'democrats': 43, 'washington': 44, 'told': 45, 'emails': 46, 'americans': 47, 'called': 48, 'russian': 49, 'military': 50, 'bill': 51, 'republicans': 52, 'federal': 53, 'including': 54, 'october': 55, 'change': 56, 'week': 57, 'candidate': 58, 'administration': 59, 'system': 60, 'foreign': 61, 'money': 62, 'life': 63, 'syria': 64, 'real': 65, 've': 66, 'november': 67, 'days': 68, 'security': 69, 'won': 70, 'economic': 71, 'black': 72, 'left': 73, 'free': 74, 'post': 75, 'department': 76, 'story': 77, 'office': 78, 'article': 79, 'wsj': 80, 'investigation': 81, 'health': 82, 'twitter': 83, 'police': 84, 'china': 85, 'trade': 86, 'top': 87, 'win': 88, 'secretary': 89, 'john': 90, 'officials': 91, 'voting': 92, 'report': 93, 'video': 94, 'control': 95, 'debate': 96, 'race': 97, 'global': 98, 'business': 99, 'didn': 100, 'city': 101, 'politics': 102, 'congress': 103, 'facebook': 104, 'tax': 105, 'history': 106, 'comey': 107, 'north': 108, 'major': 109, 'market': 110, 'anti': 111, 'children': 112, 'nominee': 113, 'nation': 114, 'family': 115, 'senate': 116, 'director': 117, 'private': 118, 'doesn': 119, 'social': 120, 'court': 121, 'rights': 122, 'force': 123, 'gop': 124, 'financial': 125, 'lot': 126, 'ms': 127, 'international': 128, 'deal': 129, 'evidence': 130, 'putin': 131, 'economy': 132, 'human': 133, 'nuclear': 134, 'wall': 135, 'elect': 136, 'supporters': 137, 'based': 138, 'source': 139, 'ago': 140, 'foundation': 141, 'question': 142, 'justice': 143, 'victory': 144, 'countries': 145, 'call': 146, 'reported': 147, 'night': 148, 'close': 149, 'polls': 150, 'share': 151, 'wrote': 152, 'street': 153, 'month': 154, 'company': 155, 'team': 156, 'wikileaks': 157, 'matter': 158, 'al': 159, 'lead': 160, 'person': 161, 'wednesday': 162, 'tuesday': 163, 'chief': 164, 'candidates': 165, 'set': 166, 'plan': 167, 'll': 168, 'future': 169, 'issues': 170, 'continued': 171, 'water': 172, 'bank': 173, 'months': 174, 'continue': 175, 'press': 176, 'move': 177, 'florida': 178, 'committee': 179, 'forces': 180, 'comment': 181, 'care': 182, 'class': 183, 'podesta': 184, 'votes': 185, 'leaders': 186, 'energy': 187, 'coming': 188, 'gold': 189, 'hard': 190, 'issue': 191, 'reports': 192, 'elections': 193, 'comments': 194, 'companies': 195, 'bush': 196, 'friday': 197, 'pay': 198, 'earlier': 199, 'university': 200, 'live': 201, 'read': 202, 'data': 203, 'statement': 204, 'led': 205, 'interview': 206, 'defense': 207, 'isn': 208, 'process': 209, 'attack': 210, 'middle': 211, 'reason': 212, 'official': 213, 'south': 214, 'school': 215, 'running': 216, 'poll': 217, 'billion': 218, 'morning': 219, 'job': 220, 'term': 221, 'woman': 222, 'head': 223, 'role': 224, 'syrian': 225, 'israel': 226, 'presidency': 227, 'leader': 228, 'decision': 229, 'majority': 230, 'access': 231, 'europe': 232, 'policies': 233, 'follow': 234, 'weeks': 235, 'talk': 236, 'current': 237, 'speech': 238, 'elected': 239, 'lost': 240, 'truth': 241, 'air': 242, 'executive': 243, 'western': 244, 'iran': 245, 'bad': 246, 'start': 247, 'write': 248, 'true': 249, 'result': 250, 'ad': 251, 'released': 252, 'west': 253, 'oil': 254, 'politico': 255, 'monday': 256, 'center': 257, 'pence': 258, 'appears': 259, 'local': 260, 'college': 261, 'george': 262, 'iraq': 263, 'millions': 264, 'east': 265, 'level': 266, 'simply': 267, 'intelligence': 268, 'feel': 269, 'central': 270, 'jobs': 271, 'growth': 272, 'plans': 273, 'meeting': 274, 'personal': 275, 'strong': 276, 'barack': 277, 'idea': 278, 'published': 279, 'lives': 280, 'daily': 281, 'late': 282, 'potential': 283, 'hope': 284, 'sanders': 285, 'michael': 286, 'ryan': 287, 'establishment': 288, 'position': 289, 'fight': 290, 'voter': 291, 'questions': 292, 'food': 293, 'half': 294, 'action': 295, 'reality': 296, 'chairman': 297, 'held': 298, 'thursday': 299, 'entire': 300, 'watch': 301, 'program': 302, 'legal': 303, 'service': 304, 'isis': 305, 'leave': 306, 'democrat': 307, 'james': 308, 'crisis': 309, 'sign': 310, 'attacks': 311, 'industry': 312, 'death': 313, 'community': 314, 'weapons': 315, 'thousands': 316, 'european': 317, 'investors': 318, 'staff': 319, 'paul': 320, 'movement': 321, 'message': 322, 'markets': 323, 'mind': 324, 'low': 325, 'conservative': 326, 'key': 327, 'record': 328, 'spending': 329, 'letter': 330, 'nato': 331, 'effort': 332, 'dollar': 333, 'corporate': 334, 'electoral': 335, 'hand': 336, 'final': 337, 'sunday': 338, 'criminal': 339, 'paper': 340, 'view': 341, 'saudi': 342, 'nations': 343, 'understand': 344, 'expected': 345, 'love': 346, 'liberal': 347, 'county': 348, 'bring': 349, 'civil': 350, 'rate': 351, 'posted': 352, 'mainstream': 353, 'transition': 354, 'threat': 355, 'short': 356, 'wrong': 357, 'secret': 358, 'senior': 359, 'rates': 360, 'event': 361, 'list': 362, 'banks': 363, 'book': 364, 'union': 365, 'violence': 366, 'agency': 367, 'increase': 368, 'fear': 369, 'rally': 370, 'project': 371, 'front': 372, 'response': 373, 'version': 374, 'special': 375, 'talking': 376, 'democracy': 377, 'body': 378, 'september': 379, 'hold': 380, 'efforts': 381, 'create': 382, 'organization': 383, 'immigration': 384, 'god': 385, 'thomas': 386, 'vice': 387, 'minister': 388, 'army': 389, 'paid': 390, 'society': 391, 'opinion': 392, 'influence': 393, 'claims': 394, 'play': 395, 'debt': 396, 'sense': 397, 'single': 398, 'peace': 399, 'happen': 400, 'earth': 401, 'attorney': 402, 'standing': 403, 'powerful': 404, 'started': 405, 'pro': 406, 'server': 407, 'common': 408, 'decades': 409, 'citizens': 410, 'pipeline': 411, 'study': 412, 'illegal': 413, 'voted': 414, 'light': 415, 'popular': 416, 'rise': 417, 'situation': 418, 'david': 419, 'workers': 420, 'california': 421, 'risk': 422, 'stand': 423, 'sen': 424, 'pm': 425, 'created': 426, 'allies': 427, 'sexual': 428, 'climate': 429, 'breaking': 430, 'ground': 431, 'nov': 432, 'choice': 433, 'hours': 434, 'spent': 435, 'leading': 436, 'ahead': 437, 'received': 438, 'cnn': 439, 'freedom': 440, 'sources': 441, 'land': 442, 'mexico': 443, 'announced': 444, 'moment': 445, 'biggest': 446, 'senator': 447, 'living': 448, 'happened': 449, 'wasn': 450, 'tv': 451, 'forward': 452, 'income': 453, 'population': 454, 'chinese': 455, 'fraud': 456, 'friends': 457, 'obamacare': 458, 'deep': 459, 'ukraine': 460, 'journal': 461, 'agreement': 462, 'form': 463, 'primary': 464, 'involved': 465, 'total': 466, 'building': 467, 'rules': 468, 'muslim': 469, 'killed': 470, 'network': 471, 'failed': 472, 'investment': 473, 'parties': 474, 'massive': 475, 'experience': 476, 'agenda': 477, 'calls': 478, 'leadership': 479, 'author': 480, 'capital': 481, 'account': 482, 'relations': 483, 'http': 484, 'rule': 485, 'mike': 486, 'dollars': 487, 'build': 488, 'taxes': 489, 'chance': 490, 'attention': 491, 'enforcement': 492, 'border': 493, 'price': 494, 'print': 495, 'hit': 496, 'focus': 497, 'heard': 498, 'website': 499, 'release': 500, 'laws': 501, 'aleppo': 502, 'inside': 503, 'events': 504, 'photo': 505, 'rest': 506, 'ohio': 507, 'region': 508, 'carolina': 509, 'oct': 510, 'finally': 511, 'speaking': 512, 'claim': 513, 'child': 514, 'students': 515, 'british': 516, 'fox': 517, 'site': 518, 'corruption': 519, 'congressional': 520, 'note': 521, 'dr': 522, 'provide': 523, 'protect': 524, 'lower': 525, 'calling': 526, 'answer': 527, 'brain': 528, 'views': 529, 'prices': 530, 'gun': 531, 'education': 532, 'content': 533, 'african': 534, 'cost': 535, 'july': 536, 'ballot': 537, 'independent': 538, 'opposition': 539, 'cut': 540, 'conflict': 541, 'regime': 542, 'actions': 543, 'fighting': 544, 'fall': 545, 'crime': 546, 'largest': 547, 'allowed': 548, 'brought': 549, 'appeared': 550, 'takes': 551, 'terms': 552, 'firm': 553, 'wife': 554, 'review': 555, 'headline': 556, 'services': 557, 'growing': 558, 'game': 559, 'clintons': 560, 'supreme': 561, 'council': 562, 'editor': 563, 'texas': 564, 'helped': 565, 'agents': 566, 'bernie': 567, 'weiner': 568, 'mass': 569, 'step': 570, 'elite': 571, 'strategy': 572, 'immigrants': 573, 'age': 574, 'pennsylvania': 575, 'difficult': 576, 'conference': 577, 'subscribe': 578, 'fire': 579, 'average': 580, 'johnson': 581, 'fund': 582, 'return': 583, 'documents': 584, 'medical': 585, 'image': 586, 'turkey': 587, 'worse': 588, 'decided': 589, 'wins': 590, 'soros': 591, 'concerns': 592, 'dakota': 593, 'politicians': 594, 'directly': 595, 'board': 596, 'joshua': 597, 'husband': 598, 'huge': 599, 'analysis': 600, 'abedin': 601, 'reporters': 602, 'crimes': 603, 'expect': 604, 'online': 605, 'previous': 606, 'completely': 607, 'text': 608, 'wright': 609, 'accused': 610, 'word': 611, 'polling': 612, 'remain': 613, 'islamic': 614, 'red': 615, 'fed': 616, 'lose': 617, 'development': 618, 'drug': 619, 'remains': 620, 'mark': 621, 'century': 622, 'science': 623, 'rigged': 624, 'de': 625, 'winning': 626, 'governor': 627, 'eastern': 628, 'camp': 629, 'internet': 630, 'heart': 631, 'wars': 632, 'main': 633, 'technology': 634, 'address': 635, 'pressure': 636, 'rock': 637, 'relationship': 638, 'experts': 639, 'series': 640, 'opportunity': 641, 'michigan': 642, 'cast': 643, 'natural': 644, 'base': 645, 'march': 646, 'zeitz': 647, 'demand': 648, 'remember': 649, 'saturday': 650, 'dead': 651, 'false': 652, 'wouldn': 653, 'officers': 654, 'space': 655, 'push': 656, 'safe': 657, 'star': 658, 'revealed': 659, 'labor': 660, 'scher': 661, 'stories': 662, 'hands': 663, 'stay': 664, 'rep': 665, 'speak': 666, 'attempt': 667, 'father': 668, 'terrorists': 669, 'propaganda': 670, 'cia': 671, 'ready': 672, 'ability': 673, 'period': 674, 'dangerous': 675, 'impact': 676, 'charges': 677, 'modern': 678, 'prime': 679, 'gov': 680, 'operation': 681, 'raise': 682, 'jack': 683, 'continues': 684, 'loss': 685, 'written': 686, 'forced': 687, 'click': 688, 'armed': 689, 'levels': 690, 'assault': 691, 'amount': 692, 'supported': 693, 'stage': 694, 'raised': 695, 'approach': 696, 'buy': 697, 'supporting': 698, 'culture': 699, 'considered': 700, 'jewish': 701, 'break': 702, 'romney': 703, 'professor': 704, 'governments': 705, 'phone': 706, 'check': 707, 'shot': 708, 'officer': 709, 'mosul': 710, 'infrastructure': 711, 'reach': 712, 'district': 713, 'kaine': 714, 'suggested': 715, 'arabia': 716, 'son': 717, 'surprise': 718, 'pretty': 719, 'changed': 720, 'outcome': 721, 'judge': 722, 'link': 723, 'germany': 724, 'assad': 725, 'trust': 726, 'protest': 727, 'august': 728, 'planet': 729, 'lack': 730, 'currency': 731, 'cash': 732, 'green': 733, 'direct': 734, 'favor': 735, 'exchange': 736, 'classified': 737, 'cover': 738, 'percentage': 739, 'stock': 740, 'respect': 741, 'families': 742, 'individual': 743, 'eu': 744, 'hundreds': 745, 'church': 746, 'credit': 747, 'lies': 748, 'telling': 749, 'provided': 750, 'sex': 751, 'cities': 752, 'coverage': 753, 'served': 754, 'worth': 755, 'hear': 756, 'claimed': 757, 'serve': 758, 'details': 759, 'send': 760, 'avoid': 761, 'terrorism': 762, 'bit': 763, 'agree': 764, 'muslims': 765, 'met': 766, 'protesters': 767, 'cancer': 768, 'sea': 769, 'minutes': 770, 'included': 771, 'concerned': 772, 'terrorist': 773, 'moscow': 774, 'doubt': 775, 'nature': 776, 'infowars': 777, 'positions': 778, 'offer': 779, 'field': 780, 'blue': 781, 'planned': 782, 'constitution': 783, 'gas': 784, 'increased': 785, 'operations': 786, 'rich': 787, 'benefit': 788, 'radio': 789, 'battle': 790, 'huma': 791, 'japan': 792, 'easy': 793, 'stated': 794, 'thinking': 795, 'retired': 796, 'accept': 797, 'agencies': 798, 'status': 799, 'corrupt': 800, 'compared': 801, 'cold': 802, 'parents': 803, 'troops': 804, 'reporting': 805, 'russians': 806, 'virginia': 807, 'newsletter': 808, 'january': 809, 'usa': 810, 'poor': 811, 'figure': 812, 'insurance': 813, 'subject': 814, 'joe': 815, 'moving': 816, 'friend': 817, 'reasons': 818, 'employees': 819, 'contributed': 820, 'spokesman': 821, 'benefits': 822, 'estate': 823, 'sort': 824, 'christian': 825, 'damage': 826, 'mother': 827, 'town': 828, 'join': 829, 'positive': 830, 'britain': 831, 'india': 832, 'costs': 833, 'lines': 834, 'june': 835, 'resources': 836, 'domestic': 837, 'happening': 838, 'systems': 839, 'reached': 840, 'complete': 841, 'prevent': 842, 'hate': 843, 'alternative': 844, 'highly': 845, 'mail': 846, 'asia': 847, 'organizations': 848, 'fake': 849, 'challenge': 850, 'television': 851, 'signs': 852, 'google': 853, 'empire': 854, 'rose': 855, 'crowd': 856, 'language': 857, 'coalition': 858, 'authority': 859, 'rising': 860, 'behavior': 861, 'racist': 862, 'progressive': 863, 'kelly': 864, 'discovered': 865, 'st': 866, 'ties': 867, 'learn': 868, 'adding': 869, 'adviser': 870, 'confirmed': 871, 'critical': 872, 'meet': 873, 'concern': 874, 'spoke': 875, 'protests': 876, 'funds': 877, 'expressed': 878, 'records': 879, 'dnc': 880, 'add': 881, 'brexit': 882, 'articles': 883, 'assange': 884, 'ruling': 885, 'guy': 886, 'december': 887, 'shares': 888, 'speaker': 889, 'advantage': 890, 'repeatedly': 891, 'canada': 892, 'built': 893, 'veterans': 894, 'trading': 895, 'schools': 896, 'native': 897, 'prison': 898, 'believes': 899, 'defeat': 900, 'civilians': 901, 'supposed': 902, 'manager': 903, 'scandal': 904, 'learned': 905, 'offered': 906, 'silver': 907, 'worst': 908, 'ultimately': 909, 'wisconsin': 910, 'individuals': 911, 'conspiracy': 912, 'couple': 913, 'path': 914, 'robert': 915, 'arms': 916, 'affairs': 917, 'king': 918, 'declared': 919, 'stocks': 920, 'inflation': 921, 'institute': 922, 'explained': 923, 'vladimir': 924, 'https': 925, 'caused': 926, 'korea': 927, 'target': 928, 'seeking': 929, 'funding': 930, 'blood': 931, 'born': 932, 'aide': 933, 'agreed': 934, 'host': 935, 'ballots': 936, 'includes': 937, 'deals': 938, 'multiple': 939, 'charge': 940, 'possibility': 941, 'holding': 942, 'search': 943, 'simple': 944, 'super': 945, 'bond': 946, 'focused': 947, 'passed': 948, 'leaving': 949, 'wealth': 950, 'production': 951, 'libya': 952, 'addition': 953, 'aides': 954, 'edition': 955, 'publicly': 956, 'reform': 957, 'increasingly': 958, 'conducted': 959, 'female': 960, 'weekend': 961, 'products': 962, 'negative': 963, 'journalists': 964, 'writing': 965, 'mayor': 966, 'studies': 967, 'promised': 968, 'defend': 969, 'couldn': 970, 'visit': 971, 'wing': 972, 'believed': 973, 'warned': 974, 'absolutely': 975, 'bureau': 976, 'quarter': 977, 'revolution': 978, 'responsible': 979, 'treasury': 980, 'safety': 981, 'spend': 982, 'france': 983, 'jews': 984, 'hour': 985, 'sales': 986, 'reserve': 987, 'alleged': 988, 'explain': 989, 'hasn': 990, 'helping': 991, 'voice': 992, 'religious': 993, 'respond': 994, 'chicago': 995, 'remarks': 996, 'closed': 997, 'analysts': 998, 'races': 999, 'protection': 1000, 'statements': 1001, 'richard': 1002, 'israeli': 1003, 'difference': 1004, 'fellow': 1005, 'gain': 1006, 'partners': 1007, 'haven': 1008, 'opposed': 1009, 'nevada': 1010, 'management': 1011, 'committed': 1012, 'car': 1013, 'ads': 1014, 'named': 1015, 'collapse': 1016, 'choose': 1017, 'uk': 1018, 'warning': 1019, 'success': 1020, 'powers': 1021, 'authorities': 1022, 'rhetoric': 1023, 'block': 1024, 'french': 1025, 'shafer': 1026, 'seek': 1027, 'scientists': 1028, 'arizona': 1029, 'specific': 1030, 'controlled': 1031, 'ac': 1032, 'utm': 1033, 'designed': 1034, 'regulations': 1035, 'ensure': 1036, 'violent': 1037, 'career': 1038, 'extremely': 1039, 'survey': 1040, 'caught': 1041, 'refugees': 1042, 'profit': 1043, 'blame': 1044, 'additional': 1045, 'warren': 1046, 'declined': 1047, 'larger': 1048, 'traditional': 1049, 'facing': 1050, 'effects': 1051, 'familiar': 1052, 'donors': 1053, 'german': 1054, 'property': 1055, 'losing': 1056, 'tape': 1057, 'ideas': 1058, 'save': 1059, 'imagine': 1060, 'activity': 1061, 'businesses': 1062, 'type': 1063, 'nbc': 1064, 'proposed': 1065, 'commission': 1066, 'goal': 1067, 'standard': 1068, 'fell': 1069, 'programs': 1070, 'conditions': 1071, 'eventually': 1072, 'carry': 1073, 'moved': 1074, 'elites': 1075, 'anthony': 1076, 'amendment': 1077, 'daughter': 1078, 'posts': 1079, 'range': 1080, 'summer': 1081, 'edt': 1082, 'dark': 1083, 'youtube': 1084, 'budget': 1085, 'turnout': 1086, 'minority': 1087, 'machine': 1088, 'paying': 1089, 'corporations': 1090, 'piece': 1091, 'kill': 1092, 'pacific': 1093, 'easily': 1094, 'failure': 1095, 'decisions': 1096, 'announcement': 1097, 'faith': 1098, 'refused': 1099, 'internal': 1100, 'pentagon': 1101, 'shared': 1102, 'happy': 1103, 'effective': 1104, 'material': 1105, 'evil': 1106, 'campaigns': 1107, 'issued': 1108, 'destroy': 1109, 'conversation': 1110, 'notes': 1111, 'threats': 1112, 'finance': 1113, 'fair': 1114, 'chris': 1115, 'promises': 1116, 'drugs': 1117, 'borders': 1118, 'zone': 1119, 'communities': 1120, 'model': 1121, 'shift': 1122, 'test': 1123, 'physical': 1124, 'iowa': 1125, 'era': 1126, 'code': 1127, 'assets': 1128, 'receive': 1129, 'treatment': 1130, 'student': 1131, 'measures': 1132, 'journalist': 1133, 'swing': 1134, 'april': 1135, 'kids': 1136, 'machines': 1137, 'successful': 1138, 'wait': 1139, 'original': 1140, 'computer': 1141, 'mexican': 1142, 'allegations': 1143, 'obvious': 1144, 'pass': 1145, 'africa': 1146, 'exposed': 1147, 'activities': 1148, 'creating': 1149, 'values': 1150, 'activists': 1151, 'putting': 1152, 'required': 1153, 'founder': 1154, 'republic': 1155, 'watching': 1156, 'hollywood': 1157, 'pick': 1158, 'qaeda': 1159, 'discussion': 1160, 'denied': 1161, 'vast': 1162, 'season': 1163, 'lie': 1164, 'ap': 1165, 'iraqi': 1166, 'door': 1167, 'played': 1168, 'margin': 1169, 'killing': 1170, 'bannon': 1171, 'knowledge': 1172, 'practice': 1173, 'lawmakers': 1174, 'destruction': 1175, 'soviet': 1176, 'industrial': 1177, 'cycle': 1178, 'limited': 1179, 'core': 1180, 'london': 1181, 'promise': 1182, 'meant': 1183, 'heavy': 1184, 'afghanistan': 1185, 'videos': 1186, 'writes': 1187, 'supporter': 1188, 'supply': 1189, 'stein': 1190, 'planning': 1191, 'keeping': 1192, 'drive': 1193, 'solution': 1194, 'pre': 1195, 'accounts': 1196, 'looked': 1197, 'communications': 1198, 'institutions': 1199, 'leaked': 1200, 'hampshire': 1201, 'presence': 1202, 'decade': 1203, 'reading': 1204, 'decide': 1205, 'matters': 1206, 'trail': 1207, 'sell': 1208, 'require': 1209, 'generation': 1210, 'understanding': 1211, 'soldiers': 1212, 'liberals': 1213, 'jones': 1214, 'attacked': 1215, 'prior': 1216, 'complex': 1217, 'fly': 1218, 'starting': 1219, 'eyes': 1220, 'ongoing': 1221, 'road': 1222, 'listen': 1223, 'moral': 1224, 'convention': 1225, 'deeply': 1226, 'environmental': 1227, 'extreme': 1228, 'basis': 1229, 'criticism': 1230, 'wide': 1231, 'environment': 1232, 'reagan': 1233, 'goldman': 1234, 'association': 1235, 'actual': 1236, 'reporter': 1237, 'prepared': 1238, 'coup': 1239, 'terror': 1240, 'raising': 1241, 'broke': 1242, 'banking': 1243, 'registered': 1244, 'arrested': 1245, 'cuba': 1246, 'advisers': 1247, 'readers': 1248, 'tim': 1249, 'carried': 1250, 'progress': 1251, 'construction': 1252, 'talks': 1253, 'argument': 1254, 'launched': 1255, 'picture': 1256, 'lawyer': 1257, 'signed': 1258, 'playing': 1259, 'southern': 1260, 'deputy': 1261, 'eric': 1262, 'lawyers': 1263, 'direction': 1264, 'steps': 1265, 'gains': 1266, 'ban': 1267, 'separate': 1268, 'consequences': 1269, 'died': 1270, 'ticket': 1271, 'request': 1272, 'tough': 1273, 'aircraft': 1274, 'leads': 1275, 'reportedly': 1276, 'theory': 1277, 'spread': 1278, 'billionaire': 1279, 'strategic': 1280, 'discussed': 1281, 'scale': 1282, 'sites': 1283, 'destroyed': 1284, 'aid': 1285, 'identity': 1286, 'sector': 1287, 'argued': 1288, 'trial': 1289, 'grow': 1290, 'responsibility': 1291, 'missile': 1292, 'chair': 1293, 'opponent': 1294, 'tweet': 1295, 'legislation': 1296, 'humanity': 1297, 'pushed': 1298, 'est': 1299, 'bonds': 1300, 'heavily': 1301, 'increasing': 1302, 'org': 1303, 'mention': 1304, 'net': 1305, 'charged': 1306, 'steve': 1307, 'peter': 1308, 'owned': 1309, 'feeling': 1310, 'messages': 1311, 'numerous': 1312, 'alliance': 1313, 'plant': 1314, 'abuse': 1315, 'double': 1316, 'ii': 1317, 'girl': 1318, 'plane': 1319, 'candidacy': 1320, 'politically': 1321, 'pic': 1322, 'normal': 1323, 'constitutional': 1324, 'ceo': 1325, 'sought': 1326, 'conservatives': 1327, 'probe': 1328, 'sanctions': 1329, 'magazine': 1330, 'delivered': 1331, 'connection': 1332, 'filed': 1333, 'suggests': 1334, 'evening': 1335, 'residents': 1336, 'hopes': 1337, 'brown': 1338, 'responded': 1339, 'prove': 1340, 'performance': 1341, 'indian': 1342, 'rubio': 1343, 'aware': 1344, 'sound': 1345, 'wake': 1346, 'flag': 1347, 'drop': 1348, 'andrew': 1349, 'balance': 1350, 'representative': 1351, 'mentioned': 1352, 'audience': 1353, 'tom': 1354, 'style': 1355, 'victims': 1356, 'baby': 1357, 'bigger': 1358, 'film': 1359, 'reduce': 1360, 'changing': 1361, 'hacked': 1362, 'racism': 1363, 'racial': 1364, 'hotel': 1365, 'aggressive': 1366, 'totally': 1367, 'forget': 1368, 'basic': 1369, 'eye': 1370, 'originally': 1371, 'cabinet': 1372, 'cultural': 1373, 'closer': 1374, 'joint': 1375, 'waiting': 1376, 'impossible': 1377, 'bottom': 1378, 'criticized': 1379, 'ministry': 1380, 'disease': 1381, 'selling': 1382, 'clean': 1383, 'boost': 1384, 'explains': 1385, 'colorado': 1386, 'sending': 1387, 'produced': 1388, 'fired': 1389, 'hurt': 1390, 'indiana': 1391, 'product': 1392, 'faced': 1393, 'arab': 1394, 'tweeted': 1395, 'consciousness': 1396, 'february': 1397, 'incident': 1398, 'smith': 1399, 'trillion': 1400, 'names': 1401, 'degree': 1402, 'joined': 1403, 'platform': 1404, 'treaty': 1405, 'threatened': 1406, 'territory': 1407, 'turkish': 1408, 'die': 1409, 'investigations': 1410, 'realize': 1411, 'returns': 1412, 'measure': 1413, 'active': 1414, 'seat': 1415, 'contact': 1416, 'michelle': 1417, 'pushing': 1418, 'sold': 1419, 'meaning': 1420, 'represents': 1421, 'minute': 1422, 'decline': 1423, 'existence': 1424, 'whites': 1425, 'purpose': 1426, 'giuliani': 1427, 'yesterday': 1428, 'memo': 1429, 'conway': 1430, 'training': 1431, 'hill': 1432, 'rebels': 1433, 'strike': 1434, 'amid': 1435, 'northern': 1436, 'stone': 1437, 'doctors': 1438, 'confidence': 1439, 'offensive': 1440, 'housing': 1441, 'proof': 1442, 'universe': 1443, 'straight': 1444, 'nomination': 1445, 'maintain': 1446, 'stuff': 1447, 'figures': 1448, 'anger': 1449, 'radical': 1450, 'danger': 1451, 'tells': 1452, 'biden': 1453, 'referring': 1454, 'dropped': 1455, 'pull': 1456, 'presidents': 1457, 'angry': 1458, 'strength': 1459, 'accusations': 1460, 'strategist': 1461, 'unprecedented': 1462, 'scott': 1463, 'narrative': 1464, 'roughly': 1465, 'resistance': 1466, 'launch': 1467, 'streets': 1468, 'island': 1469, 'navy': 1470, 'religion': 1471, 'instance': 1472, 'revenue': 1473, 'missiles': 1474, 'sitting': 1475, 'worried': 1476, 'books': 1477, 'track': 1478, 'broken': 1479, 'driven': 1480, 'exist': 1481, 'murder': 1482, 'representatives': 1483, 'band': 1484, 'christians': 1485, 'jail': 1486, 'speeches': 1487, 'standards': 1488, 'funded': 1489, 'newly': 1490, 'healthy': 1491, 'fine': 1492, 'controversial': 1493, 'hot': 1494, 'prominent': 1495, 'hall': 1496, 'liberty': 1497, 'researchers': 1498, 'rallies': 1499, 'enemy': 1500, 'size': 1501, 'emergency': 1502, 'digital': 1503, 'invasion': 1504, 'stopped': 1505, 'bid': 1506, 'mission': 1507, 'talked': 1508, 'web': 1509, 'debates': 1510, 'advance': 1511, 'walk': 1512, 'writer': 1513, 'vaccine': 1514, 'personally': 1515, 'reaction': 1516, 'character': 1517, 'store': 1518, 'exit': 1519, 'battleground': 1520, 'lynch': 1521, 'moves': 1522, 'claiming': 1523, 'projects': 1524, 'predicted': 1525, 'abortion': 1526, 'represent': 1527, 'asian': 1528, 'established': 1529, 'gender': 1530, 'peaceful': 1531, 'hispanic': 1532, 'chaos': 1533, 'agent': 1534, 'frank': 1535, 'park': 1536, 'grand': 1537, 'mistake': 1538, 'cooperation': 1539, 'bb': 1540, 'coast': 1541, 'essentially': 1542, 'expert': 1543, 'gay': 1544, 'mccain': 1545, 'correct': 1546, 'tower': 1547, 'vision': 1548, 'quality': 1549, 'cited': 1550, 'replace': 1551, 'images': 1552, 'struggle': 1553, 'advice': 1554, 'spirit': 1555, 'cuts': 1556, 'hearing': 1557, 'serving': 1558, 'count': 1559, 'newspaper': 1560, 'philadelphia': 1561, 'emerging': 1562, 'conduct': 1563, 'lady': 1564, 'fast': 1565, 'tpp': 1566, 'partner': 1567, 'english': 1568, 'closely': 1569, 'solar': 1570, 'critics': 1571, 'buying': 1572, 'sun': 1573, 'remove': 1574, 'historic': 1575, 'marijuana': 1576, 'permission': 1577, 'seats': 1578, 'determine': 1579, 'desire': 1580, 'san': 1581, 'affordable': 1582, 'appeal': 1583, 'pain': 1584, 'palestinian': 1585, 'ancient': 1586, 'disaster': 1587, 'suggesting': 1588, 'developed': 1589, 'conclusion': 1590, 'color': 1591, 'perfect': 1592, 'uncertainty': 1593, 'options': 1594, 'behalf': 1595, 'william': 1596, 'kennedy': 1597, 'challenges': 1598, 'guilty': 1599, 'consumers': 1600, 'wave': 1601, 'ally': 1602, 'users': 1603, 'providing': 1604, 'offers': 1605, 'bringing': 1606, 'allowing': 1607, 'cross': 1608, 'breitbart': 1609, 'mid': 1610, 'losses': 1611, 'beat': 1612, 'ten': 1613, 'firms': 1614, 'document': 1615, 'shut': 1616, 'produce': 1617, 'managed': 1618, 'endorsed': 1619, 'encourage': 1620, 'profits': 1621, 'martin': 1622, 'targeted': 1623, 'worry': 1624, 'pac': 1625, 'humanitarian': 1626, 'determined': 1627, 'expectations': 1628, 'guns': 1629, 'yields': 1630, 'factor': 1631, 'updates': 1632, 'blog': 1633, 'closing': 1634, 'brand': 1635, 'crazy': 1636, 'networks': 1637, 'annual': 1638, 'removed': 1639, 'disclosure': 1640, 'tens': 1641, 'mitt': 1642, 'secure': 1643, 'girls': 1644, 'existing': 1645, 'getty': 1646, 'stood': 1647, 'editorial': 1648, 'effectively': 1649, 'folks': 1650, 'regulation': 1651, 'executives': 1652, 'combat': 1653, 'consumer': 1654, 'stronger': 1655, 'targets': 1656, 'monetary': 1657, 'ambassador': 1658, 'acting': 1659, 'sick': 1660, 'basically': 1661, 'emerged': 1662, 'concluded': 1663, 'partnership': 1664, 'islam': 1665, 'literally': 1666, 'notitle': 1667, 'channel': 1668, 'deliver': 1669, 'conflicts': 1670, 'suffering': 1671, 'map': 1672, 'christie': 1673, 'linked': 1674, 'connected': 1675, 'birth': 1676, 'acts': 1677, 'round': 1678, 'regional': 1679, 'hell': 1680, 'jersey': 1681, 'surveillance': 1682, 'admitted': 1683, 'rival': 1684, 'contrast': 1685, 'interviews': 1686, 'dinner': 1687, 'enemies': 1688, 'deaths': 1689, 'identified': 1690, 'holds': 1691, 'prepare': 1692, 'bombing': 1693, 'brother': 1694, 'jim': 1695, 'task': 1696, 'covered': 1697, 'electorate': 1698, 'moderate': 1699, 'politician': 1700, 'longtime': 1701, 'reveal': 1702, 'yemen': 1703, 'donations': 1704, 'background': 1705, 'trouble': 1706, 'virtually': 1707, 'runs': 1708, 'occurred': 1709, 'approval': 1710, 'paris': 1711, 'analyst': 1712, 'attempts': 1713, 'fighters': 1714, 'stands': 1715, 'blacks': 1716, 'jason': 1717, 'integrity': 1718, 'veteran': 1719, 'stolen': 1720, 'reuters': 1721, 'rt': 1722, 'populist': 1723, 'trend': 1724, 'opponents': 1725, 'collective': 1726, 'informed': 1727, 'jr': 1728, 'option': 1729, 'australia': 1730, 'jury': 1731, 'appearance': 1732, 'afternoon': 1733, 'driving': 1734, 'improve': 1735, 'fiscal': 1736, 'giant': 1737, 'proven': 1738, 'healthcare': 1739, 'professional': 1740, 'express': 1741, 'aimed': 1742, 'guys': 1743, 'table': 1744, 'miles': 1745, 'wage': 1746, 'increases': 1747, 'leaves': 1748, 'movie': 1749, 'congressman': 1750, 'honest': 1751, 'shouldn': 1752, 'coal': 1753, 'jesus': 1754, 'activist': 1755, 'sachs': 1756, 'lying': 1757, 'counter': 1758, 'travel': 1759, 'heads': 1760, 'cbs': 1761, 'intervention': 1762, 'reprints': 1763, 'ukrainian': 1764, 'featured': 1765, 'resolution': 1766, 'scientific': 1767, 'electronic': 1768, 'fears': 1769, 'usual': 1770, 'nice': 1771, 'doj': 1772, 'homes': 1773, 'tech': 1774, 'civilian': 1775, 'briefing': 1776, 'intended': 1777, 'historical': 1778, 'practices': 1779, 'commitment': 1780, 'alex': 1781, 'belief': 1782, 'threatening': 1783, 'yield': 1784, 'enter': 1785, 'marriage': 1786, 'outlets': 1787, 'investigators': 1788, 'dream': 1789, 'vietnam': 1790, 'updated': 1791, 'winner': 1792, 'shooting': 1793, 'scenario': 1794, 'agreements': 1795, 'divided': 1796, 'gary': 1797, 'hedge': 1798, 'wealthy': 1799, 'shock': 1800, 'dozen': 1801, 'notice': 1802, 'structure': 1803, 'friendly': 1804, 'assistant': 1805, 'offering': 1806, 'dc': 1807, 'affect': 1808, 'transfer': 1809, 'kerry': 1810, 'nixon': 1811, 'openly': 1812, 'perspective': 1813, 'typically': 1814, 'ordinary': 1815, 'attacking': 1816, 'equal': 1817, 'favorite': 1818, 'italy': 1819, 'canadian': 1820, 'sessions': 1821, 'finding': 1822, 'repeal': 1823, 'manufacturing': 1824, 'bias': 1825, 'art': 1826, 'file': 1827, 'survive': 1828, 'regulatory': 1829, 'lived': 1830, 'regular': 1831, 'abc': 1832, 'allegedly': 1833, 'reveals': 1834, 'guess': 1835, 'dog': 1836, 'chances': 1837, 'kremlin': 1838, 'dozens': 1839, 'boy': 1840, 'weak': 1841, 'revelations': 1842, 'fuel': 1843, 'easier': 1844, 'lawsuit': 1845, 'opposite': 1846, 'los': 1847, 'tend': 1848, 'sacred': 1849, 'iranian': 1850, 'manhattan': 1851, 'argue': 1852, 'estimated': 1853, 'choices': 1854, 'reid': 1855, 'devices': 1856, 'bar': 1857, 'viewed': 1858, 'ignore': 1859, 'division': 1860, 'gigot': 1861, 'weren': 1862, 'migrants': 1863, 'club': 1864, 'urged': 1865, 'rnc': 1866, 'operating': 1867, 'op': 1868, 'chemical': 1869, 'proposal': 1870, 'bomb': 1871, 'expansion': 1872, 'hidden': 1873, 'abroad': 1874, 'humans': 1875, 'anonymous': 1876, 'investigative': 1877, 'moore': 1878, 'expand': 1879, 'wearing': 1880, 'forms': 1881, 'strikes': 1882, 'educated': 1883, 'causing': 1884, 'edge': 1885, 'begun': 1886, 'minds': 1887, 'tensions': 1888, 'julian': 1889, 'lobbying': 1890, 'box': 1891, 'economics': 1892, 'advertising': 1893, 'ben': 1894, 'surprised': 1895, 'context': 1896, 'alt': 1897, 'initial': 1898, 'preparing': 1899, 'continuing': 1900, 'rejected': 1901, 'suddenly': 1902, 'topic': 1903, 'bear': 1904, 'laptop': 1905, 'catholic': 1906, 'tactics': 1907, 'expensive': 1908, 'bloomberg': 1909, 'customers': 1910, 'requires': 1911, 'sounds': 1912, 'confident': 1913, 'poverty': 1914, 'overseas': 1915, 'citizen': 1916, 'approved': 1917, 'license': 1918, 'arrived': 1919, 'filled': 1920, 'command': 1921, 'protected': 1922, 'bankers': 1923, 'medicine': 1924, 'referred': 1925, 'capable': 1926, 'pelosi': 1927, 'involving': 1928, 'recognize': 1929, 'advertisement': 1930, 'clients': 1931, 'legitimate': 1932, 'risks': 1933, 'negotiations': 1934, 'recount': 1935, 'setting': 1936, 'music': 1937, 'blow': 1938, 'hacking': 1939, 'angeles': 1940, 'river': 1941, 'relevant': 1942, 'colleagues': 1943, 'fit': 1944, 'hoping': 1945, 'japanese': 1946, 'feet': 1947, 'returned': 1948, 'remained': 1949, 'charles': 1950, 'helps': 1951, 'miami': 1952, 'broad': 1953, 'sit': 1954, 'smart': 1955, 'missing': 1956, 'stupid': 1957, 'spokeswoman': 1958, 'moon': 1959, 'engaged': 1960, 'jeff': 1961, 'device': 1962, 'promote': 1963, 'extent': 1964, 'competitive': 1965, 'tea': 1966, 'protectors': 1967, 'guard': 1968, 'demands': 1969, 'supports': 1970, 'foods': 1971, 'investigating': 1972, 'cruz': 1973, 'grew': 1974, 'sheriff': 1975, 'communist': 1976, 'independence': 1977, 'achieve': 1978, 'attempted': 1979, 'citing': 1980, 'limit': 1981, 'organized': 1982, 'toxic': 1983, 'profile': 1984, 'opportunities': 1985, 'grown': 1986, 'strange': 1987, 'quote': 1988, 'legacy': 1989, 'mate': 1990, 'involvement': 1991, 'england': 1992, 'pulled': 1993, 'fewer': 1994, 'unable': 1995, 'widespread': 1996, 'capitalism': 1997, 'scene': 1998, 'hospital': 1999, 'movements': 2000, 'survival': 2001, 'fought': 2002, 'plants': 2003, 'station': 2004, 'treated': 2005, 'urban': 2006, 'creation': 2007, 'parliament': 2008, 'limits': 2009, 'html': 2010, 'apple': 2011, 'donate': 2012, 'plenty': 2013, 'jill': 2014, 'oppose': 2015, 'vaccines': 2016, 'blasio': 2017, 'carrying': 2018, 'fresh': 2019, 'gap': 2020, 'asset': 2021, 'developing': 2022, 'experienced': 2023, 'aggression': 2024, 'mental': 2025, 'lee': 2026, 'accepted': 2027, 'shocking': 2028, 'fourth': 2029, 'immigrant': 2030, 'ship': 2031, 'partisan': 2032, 'speaks': 2033, 'principles': 2034, 'famous': 2035, 'error': 2036, 'commander': 2037, 'examples': 2038, 'engage': 2039, 'fail': 2040, 'protecting': 2041, 'photos': 2042, 'oligarchy': 2043, 'unclear': 2044, 'headed': 2045, 'combined': 2046, 'yeah': 2047, 'tank': 2048, 'soul': 2049, 'miller': 2050, 'stephen': 2051, 'creative': 2052, 'employment': 2053, 'billions': 2054, 'exists': 2055, 'meetings': 2056, 'tied': 2057, 'carter': 2058, 'endorsement': 2059, 'feels': 2060, 'essential': 2061, 'gore': 2062, 'schumer': 2063, 'shortly': 2064, 'noting': 2065, 'steven': 2066, 'weapon': 2067, 'quick': 2068, 'trip': 2069, 'surrounding': 2070, 'loses': 2071, 'proposals': 2072, 'condition': 2073, 'halloween': 2074, 'chosen': 2075, 'shape': 2076, 'surely': 2077, 'proved': 2078, 'unique': 2079, 'bob': 2080, 'unusual': 2081, 'ford': 2082, 'kim': 2083, 'prospect': 2084, 'male': 2085, 'assume': 2086, 'exercise': 2087, 'touch': 2088, 'georgia': 2089, 'crucial': 2090, 'requests': 2091, 'terrible': 2092, 'atlantic': 2093, 'apparent': 2094, 'throw': 2095, 'attempting': 2096, 'referendum': 2097, 'contest': 2098, 'officially': 2099, 'spring': 2100, 'sharing': 2101, 'rural': 2102, 'acknowledged': 2103, 'journalism': 2104, 'eat': 2105, 'advanced': 2106, 'sioux': 2107, 'marked': 2108, 'slow': 2109, 'entered': 2110, 'capacity': 2111, 'unknown': 2112, 'dealing': 2113, 'bodies': 2114, 'convinced': 2115, 'relief': 2116, 'knowing': 2117, 'leaning': 2118, 'qatar': 2119, 'controversy': 2120, 'equipment': 2121, 'warming': 2122, 'deserve': 2123, 'afraid': 2124, 'priority': 2125, 'winter': 2126, 'courts': 2127, 'cutting': 2128, 'upset': 2129, 'bought': 2130, 'initiative': 2131, 'extraordinary': 2132, 'victim': 2133, 'carrier': 2134, 'nusra': 2135, 'harder': 2136, 'gained': 2137, 'stance': 2138, 'outlook': 2139, 'rape': 2140, 'spot': 2141, 'murphy': 2142, 'traffic': 2143, 'commercial': 2144, 'married': 2145, 'players': 2146, 'competition': 2147, 'amounts': 2148, 'utah': 2149, 'beijing': 2150, 'scheduled': 2151, 'equity': 2152, 'discussions': 2153, 'cuban': 2154, 'explanation': 2155, 'targeting': 2156, 'investigate': 2157, 'suspect': 2158, 'benghazi': 2159, 'indigenous': 2160, 'watched': 2161, 'sexually': 2162, 'intent': 2163, 'missouri': 2164, 'fundamental': 2165, 'flynn': 2166, 'animals': 2167, 'card': 2168, 'prosecutor': 2169, 'insider': 2170, 'primaries': 2171, 'korean': 2172, 'draft': 2173, 'develop': 2174, 'honor': 2175, 'tradition': 2176, 'priorities': 2177, 'minorities': 2178, 'weather': 2179, 'legislative': 2180, 'admit': 2181, 'harm': 2182, 'ted': 2183, 'ethnic': 2184, 'ross': 2185, 'cars': 2186, 'surface': 2187, 'contract': 2188, 'arm': 2189, 'glass': 2190, 'registration': 2191, 'williams': 2192, 'priebus': 2193, 'consent': 2194, 'jackson': 2195, 'incoming': 2196, 'mobile': 2197, 'falling': 2198, 'gingrich': 2199, 'cops': 2200, 'daniel': 2201, 'circle': 2202, 'chose': 2203, 'enormous': 2204, 'chelsea': 2205, 'enjoy': 2206, 'oval': 2207, 'blamed': 2208, 'pledged': 2209, 'campaigning': 2210, 'steal': 2211, 'louis': 2212, 'identify': 2213, 'fill': 2214, 'personnel': 2215, 'scandals': 2216, 'quo': 2217, 'prosecutors': 2218, 'grunwald': 2219, 'violation': 2220, 'trans': 2221, 'mandate': 2222, 'arrest': 2223, 'matthew': 2224, 'represented': 2225, 'skin': 2226, 'pakistan': 2227, 'weight': 2228, 'sept': 2229, 'tone': 2230, 'pursue': 2231, 'medium': 2232, 'vehicles': 2233, 'reference': 2234, 'progressives': 2235, 'design': 2236, 'odds': 2237, 'owner': 2238, 'initially': 2239, 'duty': 2240, 'ruled': 2241, 'commerce': 2242, 'criminals': 2243, 'broader': 2244, 'socialist': 2245, 'afford': 2246, 'recording': 2247, 'reputation': 2248, 'circumstances': 2249, 'solutions': 2250, 'counties': 2251, 'economist': 2252, 'assistance': 2253, 'refugee': 2254, 'corp': 2255, 'regard': 2256, 'tool': 2257, 'globe': 2258, 'seemingly': 2259, 'struck': 2260, 'dan': 2261, 'jay': 2262, 'elizabeth': 2263, 'nsa': 2264, 'floor': 2265, 'counsel': 2266, 'founded': 2267, 'warfare': 2268, 'entry': 2269, 'repeated': 2270, 'treat': 2271, 'reverse': 2272, 'vulnerable': 2273, 'headlines': 2274, 'amazing': 2275, 'headquarters': 2276, 'draw': 2277, 'sharp': 2278, 'jerusalem': 2279, 'spiritual': 2280, 'owners': 2281, 'christ': 2282, 'sale': 2283, 'wages': 2284, 'philippines': 2285, 'league': 2286, 'caucus': 2287, 'wild': 2288, 'types': 2289, 'vehicle': 2290, 'recorded': 2291, 'reduced': 2292, 'remaining': 2293, 'brings': 2294, 'elements': 2295, 'stunning': 2296, 'insiders': 2297, 'title': 2298, 'brian': 2299, 'undocumented': 2300, 'flight': 2301, 'moments': 2302, 'understood': 2303, 'castro': 2304, 'ethics': 2305, 'square': 2306, 'pace': 2307, 'branch': 2308, 'relationships': 2309, 'learning': 2310, 'nazi': 2311, 'consensus': 2312, 'starts': 2313, 'ice': 2314, 'dismissed': 2315, 'investments': 2316, 'pattern': 2317, 'spoken': 2318, 'economists': 2319, 'column': 2320, 'neo': 2321, 'granted': 2322, 'ultimate': 2323, 'deficit': 2324, 'suffered': 2325, 'sensitive': 2326, 'refuse': 2327, 'shadow': 2328, 'harry': 2329, 'defending': 2330, 'burn': 2331, 'function': 2332, 'districts': 2333, 'manner': 2334, 'minimum': 2335, 'earned': 2336, 'lobbyists': 2337, 'globalization': 2338, 'fun': 2339, 'answers': 2340, 'gen': 2341, 'cannabis': 2342, 'kadzik': 2343, 'session': 2344, 'split': 2345, 'extra': 2346, 'feed': 2347, 'warner': 2348, 'bet': 2349, 'testimony': 2350, 'suicide': 2351, 'melania': 2352, 'likes': 2353, 'beautiful': 2354, 'links': 2355, 'regularly': 2356, 'rare': 2357, 'deny': 2358, 'train': 2359, 'nominees': 2360, 'crimea': 2361, 'fundraising': 2362, 'promoting': 2363, 'surge': 2364, 'appointed': 2365, 'confrontation': 2366, 'commit': 2367, 'marine': 2368, 'footage': 2369, 'bombs': 2370, 'differences': 2371, 'tired': 2372, 'goals': 2373, 'innocent': 2374, 'bundy': 2375, 'questioned': 2376, 'judgment': 2377, 'arguing': 2378, 'frequently': 2379, 'crude': 2380, 'software': 2381, 'stress': 2382, 'massachusetts': 2383, 'admiral': 2384, 'businessman': 2385, 'illegally': 2386, 'speed': 2387, 'torture': 2388, 'replaced': 2389, 'latino': 2390, 'tanks': 2391, 'leaks': 2392, 'beach': 2393, 'factors': 2394, 'storm': 2395, 'rapidly': 2396, 'libertarian': 2397, 'impose': 2398, 'sponsored': 2399, 'gdp': 2400, 'directed': 2401, 'invited': 2402, 'diplomatic': 2403, 'silence': 2404, 'brazile': 2405, 'variety': 2406, 'hitler': 2407, 'militants': 2408, 'cell': 2409, 'struggling': 2410, 'fans': 2411, 'ideology': 2412, 'heading': 2413, 'patients': 2414, 'receiving': 2415, 'principle': 2416, 'insisted': 2417, 'flow': 2418, 'tomorrow': 2419, 'handling': 2420, 'tools': 2421, 'metals': 2422, 'reflect': 2423, 'attend': 2424, 'object': 2425, 'surprising': 2426, 'donor': 2427, 'cable': 2428, 'failing': 2429, 'demanding': 2430, 'reaching': 2431, 'desperate': 2432, 'fairly': 2433, 'minnesota': 2434, 'phrase': 2435, 'worldwide': 2436, 'audio': 2437, 'fat': 2438, 'accurate': 2439, 'oregon': 2440, 'rebel': 2441, 'dirty': 2442, 'heat': 2443, 'captured': 2444, 'suit': 2445, 'eating': 2446, 'screen': 2447, 'drew': 2448, 'equally': 2449, 'apply': 2450, 'weekly': 2451, 'ill': 2452, 'camps': 2453, 'diverse': 2454, 'entering': 2455, 'diversity': 2456, 'exact': 2457, 'judicial': 2458, 'pieces': 2459, 'sad': 2460, 'notion': 2461, 'senators': 2462, 'wind': 2463, 'handful': 2464, 'worker': 2465, 'exclusive': 2466, 'vowed': 2467, 'premiums': 2468, 'species': 2469, 'egypt': 2470, 'nationwide': 2471, 'dogs': 2472, 'overwhelming': 2473, 'homeland': 2474, 'escape': 2475, 'update': 2476, 'hide': 2477, 'latin': 2478, 'duterte': 2479, 'erdogan': 2480, 'contributions': 2481, 'handle': 2482, 'severe': 2483, 'welfare': 2484, 'silent': 2485, 'merkel': 2486, 'kushner': 2487, 'encouraged': 2488, 'fashion': 2489, 'consulting': 2490, 'undermine': 2491, 'cells': 2492, 'lots': 2493, 'beliefs': 2494, 'reads': 2495, 'airport': 2496, 'titled': 2497, 'revelation': 2498, 'emotional': 2499, 'picked': 2500, 'covering': 2501, 'offices': 2502, 'sleep': 2503, 'extended': 2504, 'gulf': 2505, 'medicare': 2506, 'replied': 2507, 'bold': 2508, 'confirm': 2509, 'passing': 2510, 'detailed': 2511, 'brothers': 2512, 'location': 2513, 'ivanka': 2514, 'master': 2515, 'tonight': 2516, 'participate': 2517, 'suffer': 2518, 'tony': 2519, 'organic': 2520, 'edward': 2521, 'dna': 2522, 'vitamin': 2523, 'followers': 2524, 'ratings': 2525, 'investor': 2526, 'broadcast': 2527, 'located': 2528, 'prize': 2529, 'connections': 2530, 'peoples': 2531, 'destroying': 2532, 'hackers': 2533, 'cyber': 2534, 'establish': 2535, 'laid': 2536, 'payments': 2537, 'kinds': 2538, 'versus': 2539, 'cleveland': 2540, 'reply': 2541, 'operatives': 2542, 'guardian': 2543, 'promising': 2544, 'conventional': 2545, 'restrictions': 2546, 'visited': 2547, 'loans': 2548, 'intellectual': 2549, 'voices': 2550, 'josh': 2551, 'diet': 2552, 'warrant': 2553, 'discussing': 2554, 'tribe': 2555, 'contained': 2556, 'hatred': 2557, 'intense': 2558, 'mix': 2559, 'embassy': 2560, 'boss': 2561, 'dow': 2562, 'defeated': 2563, 'palestinians': 2564, 'unit': 2565, 'chain': 2566, 'earnings': 2567, 'regions': 2568, 'matt': 2569, 'futures': 2570, 'rigging': 2571, 'actively': 2572, 'embrace': 2573, 'stuck': 2574, 'viewers': 2575, 'boston': 2576, 'phenomenon': 2577, 'naturally': 2578, 'pen': 2579, 'palestine': 2580, 'reasonable': 2581, 'buildings': 2582, 'henry': 2583, 'recession': 2584, 'deeper': 2585, 'spanish': 2586, 'naval': 2587, 'constant': 2588, 'purchase': 2589, 'schedule': 2590, 'absolute': 2591, 'kevin': 2592, 'concept': 2593, 'harvard': 2594, 'illinois': 2595, 'valley': 2596, 'currencies': 2597, 'discovery': 2598, 'cdc': 2599, 'nelson': 2600, 'scheme': 2601, 'judges': 2602, 'industries': 2603, 'ideological': 2604, 'introduced': 2605, 'nasa': 2606, 'items': 2607, 'damaging': 2608, 'guide': 2609, 'amazon': 2610, 'tremendous': 2611, 'credibility': 2612, 'dump': 2613, 'camera': 2614, 'operate': 2615, 'forever': 2616, 'greece': 2617, 'unions': 2618, 'ron': 2619, 'privacy': 2620, 'consistent': 2621, 'solid': 2622, 'dear': 2623, 'appeals': 2624, 'walking': 2625, 'epstein': 2626, 'describes': 2627, 'pool': 2628, 'hired': 2629, 'makers': 2630, 'stake': 2631, 'opinions': 2632, 'mcconnell': 2633, 'crash': 2634, 'settlement': 2635, 'witness': 2636, 'handed': 2637, 'fate': 2638, 'fallen': 2639, 'acknowledge': 2640, 'alive': 2641, 'jennifer': 2642, 'capitol': 2643, 'momentum': 2644, 'lord': 2645, 'alien': 2646, 'deployed': 2647, 'patrick': 2648, 'chamber': 2649, 'substantial': 2650, 'nafta': 2651, 'estimates': 2652, 'doctor': 2653, 'contrary': 2654, 'entitled': 2655, 'burning': 2656, 'recall': 2657, 'mills': 2658, 'teachers': 2659, 'manage': 2660, 'match': 2661, 'milk': 2662, 'joseph': 2663, 'dominated': 2664, 'aliens': 2665, 'conversations': 2666, 'copyright': 2667, 'permanent': 2668, 'consistently': 2669, 'riot': 2670, 'historically': 2671, 'waste': 2672, 'iii': 2673, 'counted': 2674, 'documentary': 2675, 'universal': 2676, 'joke': 2677, 'euro': 2678, 'overthrow': 2679, 'endless': 2680, 'mook': 2681, 'serves': 2682, 'drawn': 2683, 'disturbing': 2684, 'joining': 2685, 'inequality': 2686, 'detail': 2687, 'sky': 2688, 'ufo': 2689, 'flying': 2690, 'anxiety': 2691, 'focusing': 2692, 'restore': 2693, 'slowly': 2694, 'fixed': 2695, 'puppet': 2696, 'completed': 2697, 'episode': 2698, 'signal': 2699, 'supplies': 2700, 'harassment': 2701, 'exports': 2702, 'supposedly': 2703, 'hispanics': 2704, 'convicted': 2705, 'veritas': 2706, 'span': 2707, 'mary': 2708, 'charity': 2709, 'aim': 2710, 'unity': 2711, 'banned': 2712, 'proper': 2713, 'recognized': 2714, 'plot': 2715, 'extend': 2716, 'rarely': 2717, 'refusing': 2718, 'window': 2719, 'recovery': 2720, 'accountable': 2721, 'adds': 2722, 'arguments': 2723, 'seized': 2724, 'succeed': 2725, 'awareness': 2726, 'amy': 2727, 'definition': 2728, 'bbc': 2729, 'kingdom': 2730, 'unemployment': 2731, 'morgan': 2732, 'bipartisan': 2733, 'secrets': 2734, 'loved': 2735, 'vegas': 2736, 'mine': 2737, 'subsidies': 2738, 'bombshell': 2739, 'alabama': 2740, 'ronald': 2741, 'village': 2742, 'depression': 2743, 'ayotte': 2744, 'widget': 2745, 'shocked': 2746, 'scrutiny': 2747, 'defended': 2748, 'entertainment': 2749, 'pledge': 2750, 'distance': 2751, 'bills': 2752, 'defined': 2753, 'brazil': 2754, 'threatens': 2755, 'blind': 2756, 'realized': 2757, 'guest': 2758, 'taught': 2759, 'stars': 2760, 'trends': 2761, 'objective': 2762, 'msnbc': 2763, 'checks': 2764, 'nationalist': 2765, 'rely': 2766, 'observers': 2767, 'drone': 2768, 'lied': 2769, 'steel': 2770, 'drinking': 2771, 'noticed': 2772, 'occupation': 2773, 'bridge': 2774, 'typical': 2775, 'economies': 2776, 'feelings': 2777, 'sovereignty': 2778, 'memory': 2779, 'connect': 2780, 'teneo': 2781, 'upper': 2782, 'intention': 2783, 'perfectly': 2784, 'favored': 2785, 'listed': 2786, 'gross': 2787, 'exposure': 2788, 'marc': 2789, 'institution': 2790, 'chart': 2791, 'expanded': 2792, 'recognition': 2793, 'complicated': 2794, 'constantly': 2795, 'devastating': 2796, 'describing': 2797, 'praised': 2798, 'eliminate': 2799, 'dedicated': 2800, 'prospects': 2801, 'reject': 2802, 'assembly': 2803, 'comfortable': 2804, 'centers': 2805, 'gathering': 2806, 'davis': 2807, 'donated': 2808, 'violations': 2809, 'generations': 2810, 'findings': 2811, 'closest': 2812, 'globalist': 2813, 'sharply': 2814, 'challenged': 2815, 'striking': 2816, 'atmosphere': 2817, 'lake': 2818, 'sports': 2819, 'queen': 2820, 'exclusively': 2821, 'brutal': 2822, 'communication': 2823, 'recommended': 2824, 'twenty': 2825, 'isil': 2826, 'thanksgiving': 2827, 'tweets': 2828, 'advised': 2829, 'expanding': 2830, 'endorse': 2831, 'rick': 2832, 'expects': 2833, 'legally': 2834, 'advocates': 2835, 'quoted': 2836, 'lock': 2837, 'nasty': 2838, 'degrees': 2839, 'farmers': 2840, 'venezuela': 2841, 'foot': 2842, 'football': 2843, 'reforms': 2844, 'collection': 2845, 'speculation': 2846, 'inevitable': 2847, 'forcing': 2848, 'campus': 2849, 'stability': 2850, 'inquiry': 2851, 'expose': 2852, 'asylum': 2853, 'gift': 2854, 'corner': 2855, 'orange': 2856, 'corps': 2857, 'sat': 2858, 'bitter': 2859, 'demographic': 2860, 'arkansas': 2861, 'commentary': 2862, 'leak': 2863, 'authors': 2864, 'hrc': 2865, 'alert': 2866, 'teacher': 2867, 'mnuchin': 2868, 'inauguration': 2869, 'francisco': 2870, 'ships': 2871, 'youth': 2872, 'forgotten': 2873, 'convince': 2874, 'mining': 2875, 'golf': 2876, 'blocked': 2877, 'register': 2878, 'wear': 2879, 'lands': 2880, 'crooked': 2881, 'healing': 2882, 'stream': 2883, 'breaks': 2884, 'letters': 2885, 'la': 2886, 'skills': 2887, 'vermont': 2888, 'oversight': 2889, 'inspired': 2890, 'precisely': 2891, 'barely': 2892, 'eager': 2893, 'las': 2894, 'empty': 2895, 'courtesy': 2896, 'withdraw': 2897, 'falls': 2898, 'netanyahu': 2899, 'files': 2900, 'bible': 2901, 'purposes': 2902, 'publication': 2903, 'accusing': 2904, 'reducing': 2905, 'sentiment': 2906, 'enthusiasm': 2907, 'heritage': 2908, 'trained': 2909, 'hair': 2910, 'masses': 2911, 'appointment': 2912, 'holiday': 2913, 'hack': 2914, 'controls': 2915, 'games': 2916, 'civilization': 2917, 'chemicals': 2918, 'academic': 2919, 'roots': 2920, 'celebrity': 2921, 'equality': 2922, 'divide': 2923, 'bound': 2924, 'formed': 2925, 'tests': 2926, 'challenging': 2927, 'theories': 2928, 'steady': 2929, 'murdered': 2930, 'prefer': 2931, 'kurdish': 2932, 'zika': 2933, 'participation': 2934, 'tiny': 2935, 'dramatic': 2936, 'dave': 2937, 'carbon': 2938, 'loretta': 2939, 'materials': 2940, 'representing': 2941, 'urging': 2942, 'tariffs': 2943, 'bases': 2944, 'wisdom': 2945, 'jonathan': 2946, 'pope': 2947, 'fda': 2948, 'switch': 2949, 'bashar': 2950, 'ranking': 2951, 'doors': 2952, 'extensive': 2953, 'root': 2954, 'vital': 2955, 'panic': 2956, 'narrow': 2957, 'undecided': 2958, 'incredibly': 2959, 'automatically': 2960, 'ab': 2961, 'display': 2962, 'fan': 2963, 'rapid': 2964, 'contracts': 2965, 'badly': 2966, 'sugar': 2967, 'method': 2968, 'spectrum': 2969, 'demonstrated': 2970, 'animal': 2971, 'genocide': 2972, 'recommend': 2973, 'employee': 2974, 'units': 2975, 'hostile': 2976, 'signals': 2977, 'incumbent': 2978, 'properties': 2979, 'marketing': 2980, 'developments': 2981, 'violated': 2982, 'kiev': 2983, 'maintaining': 2984, 'pharmaceutical': 2985, 'plays': 2986, 'technical': 2987, 'declaring': 2988, 'award': 2989, 'unrest': 2990, 'ocean': 2991, 'disagree': 2992, 'rid': 2993, 'occur': 2994, 'prosecution': 2995, 'hole': 2996, 'neighbors': 2997, 'adults': 2998, 'hadn': 2999, 'poland': 3000, 'precious': 3001, 'imports': 3002, 'jan': 3003, 'forum': 3004, 'abandoned': 3005, 'lesser': 3006, 'auto': 3007, 'volume': 3008, 'cheap': 3009, 'select': 3010, 'nick': 3011, 'assassination': 3012, 'placement': 3013, 'influential': 3014, 'metal': 3015, 'citizenship': 3016, 'wounded': 3017, 'tested': 3018, 'imposed': 3019, 'janet': 3020, 'mortgage': 3021, 'determination': 3022, 'seeks': 3023, 'scenes': 3024, 'faster': 3025, 'shoot': 3026, 'jumped': 3027, 'maintained': 3028, 'stretch': 3029, 'monthly': 3030, 'hoped': 3031, 'outrage': 3032, 'depends': 3033, 'indictment': 3034, 'haiti': 3035, 'staffers': 3036, 'statistics': 3037, 'mere': 3038, 'taxpayers': 3039, 'chuck': 3040, 'excuse': 3041, 'producing': 3042, 'manipulation': 3043, 'raises': 3044, 'promoted': 3045, 'crew': 3046, 'formal': 3047, 'dispute': 3048, 'panel': 3049, 'sovereign': 3050, 'methods': 3051, 'features': 3052, 'backlash': 3053, 'tracking': 3054, 'revealing': 3055, 'combination': 3056, 'factory': 3057, 'medicaid': 3058, 'fish': 3059, 'operative': 3060, 'occupied': 3061, 'gathered': 3062, 'appoint': 3063, 'surrogates': 3064, 'flip': 3065, 'lowest': 3066, 'declaration': 3067, 'soil': 3068, 'phase': 3069, 'trunews': 3070, 'lobby': 3071, 'demanded': 3072, 'feature': 3073, 'houses': 3074, 'walked': 3075, 'wallace': 3076, 'smoking': 3077, 'surveys': 3078, 'admits': 3079, 'participants': 3080, 'pictures': 3081, 'privately': 3082, 'fields': 3083, 'advocate': 3084, 'ugly': 3085, 'stick': 3086, 'professionals': 3087, 'lincoln': 3088, 'van': 3089, 'carefully': 3090, 'petition': 3091, 'perceived': 3092, 'transparency': 3093, 'roll': 3094, 'affair': 3095, 'observed': 3096, 'populism': 3097, 'fascist': 3098, 'siege': 3099, 'airstrikes': 3100, 'advisor': 3101, 'roger': 3102, 'bus': 3103, 'incredible': 3104, 'brooklyn': 3105, 'applied': 3106, 'universities': 3107, 'lay': 3108, 'revolutionary': 3109, 'cop': 3110, 'mad': 3111, 'imperial': 3112, 'locations': 3113, 'aftermath': 3114, 'tight': 3115, 'missed': 3116, 'dodd': 3117, 'retirement': 3118, 'electors': 3119, 'multi': 3120, 'daesh': 3121, 'hospitals': 3122, 'stores': 3123, 'enterprise': 3124, 'mouth': 3125, 'psychological': 3126, 'mess': 3127, 'posting': 3128, 'meat': 3129, 'organizing': 3130, 'oligarchs': 3131, 'nearby': 3132, 'stayed': 3133, 'courage': 3134, 'payment': 3135, 'settled': 3136, 'governing': 3137, 'opposing': 3138, 'relative': 3139, 'documented': 3140, 'portion': 3141, 'investigated': 3142, 'fort': 3143, 'foster': 3144, 'attended': 3145, 'charlie': 3146, 'grant': 3147, 'columnist': 3148, 'justify': 3149, 'latinos': 3150, 'bed': 3151, 'minor': 3152, 'dramatically': 3153, 'managing': 3154, 'releasing': 3155, 'reopening': 3156, 'waves': 3157, 'stimulus': 3158, 'player': 3159, 'sentence': 3160, 'bubble': 3161, 'horrible': 3162, 'savings': 3163, 'mutual': 3164, 'christmas': 3165, 'thrown': 3166, 'sustainable': 3167, 'maine': 3168, 'creates': 3169, 'fees': 3170, 'unexpected': 3171, 'renewed': 3172, 'publish': 3173, 'responding': 3174, 'letting': 3175, 'excellent': 3176, 'delay': 3177, 'choosing': 3178, 'expense': 3179, 'ball': 3180, 'implications': 3181, 'interviewed': 3182, 'zones': 3183, 'federation': 3184, 'genuine': 3185, 'ranks': 3186, 'patient': 3187, 'nolan': 3188, 'admin': 3189, 'aspects': 3190, 'facilities': 3191, 'neighborhood': 3192, 'traders': 3193, 'careful': 3194, 'addressed': 3195, 'journey': 3196, 'slavery': 3197, 'holy': 3198, 'avenue': 3199, 'mistakes': 3200, 'stops': 3201, 'sarah': 3202, 'casting': 3203, 'prompted': 3204, 'unfair': 3205, 'finished': 3206, 'classes': 3207, 'exchanges': 3208, 'nightmare': 3209, 'incidents': 3210, 'scared': 3211, 'hook': 3212, 'charter': 3213, 'marks': 3214, 'diseases': 3215, 'protesting': 3216, 'declare': 3217, 'mixed': 3218, 'route': 3219, 'output': 3220, 'secretly': 3221, 'expression': 3222, 'lebanon': 3223, 'doug': 3224, 'attitude': 3225, 'defence': 3226, 'upcoming': 3227, 'regulators': 3228, 'copy': 3229, 'quiet': 3230, 'arrests': 3231, 'dialogue': 3232, 'suspected': 3233, 'indians': 3234, 'premium': 3235, 'creamer': 3236, 'cards': 3237, 'pulling': 3238, 'nancy': 3239, 'database': 3240, 'associate': 3241, 'optimistic': 3242, 'motivated': 3243, 'user': 3244, 'scientist': 3245, 'syrians': 3246, 'earthquake': 3247, 'app': 3248, 'mccaskill': 3249, 'raqqa': 3250, 'radar': 3251, 'outright': 3252, 'owns': 3253, 'corporation': 3254, 'cohen': 3255, 'credible': 3256, 'encouraging': 3257, 'flat': 3258, 'detroit': 3259, 'jump': 3260, 'merger': 3261, 'topics': 3262, 'preferred': 3263, 'complaints': 3264, 'hitting': 3265, 'securities': 3266, 'destructive': 3267, 'adam': 3268, 'technologies': 3269, 'pure': 3270, 'marco': 3271, 'rating': 3272, 'mccabe': 3273, 'populations': 3274, 'bizarre': 3275, 'cooper': 3276, 'loan': 3277, 'busy': 3278, 'comprehensive': 3279, 'hero': 3280, 'walls': 3281, 'properly': 3282, 'deemed': 3283, 'equivalent': 3284, 'staying': 3285, 'lesson': 3286, 'fleet': 3287, 'favors': 3288, 'assessment': 3289, 'resist': 3290, 'mails': 3291, 'fla': 3292, 'discrimination': 3293, 'emissions': 3294, 'diplomacy': 3295, 'stressed': 3296, 'questioning': 3297, 'italian': 3298, 'shame': 3299, 'migrant': 3300, 'laura': 3301, 'requirements': 3302, 'hey': 3303, 'cup': 3304, 'golden': 3305, 'donna': 3306, 'shirt': 3307, 'mile': 3308, 'gonna': 3309, 'invest': 3310, 'pollsters': 3311, 'song': 3312, 'iron': 3313, 'recalled': 3314, 'retail': 3315, 'subsequent': 3316, 'allied': 3317, 'listening': 3318, 'earnest': 3319, 'dad': 3320, 'organize': 3321, 'exposing': 3322, 'kellyanne': 3323, 'skeptical': 3324, 'releases': 3325, 'ny': 3326, 'testing': 3327, 'grab': 3328, 'alongside': 3329, 'pray': 3330, 'rolling': 3331, 'jon': 3332, 'possession': 3333, 'wellness': 3334, 'restaurant': 3335, 'farm': 3336, 'bay': 3337, 'deadly': 3338, 'pop': 3339, 'boys': 3340, 'guarantee': 3341, 'comparison': 3342, 'responses': 3343, 'deleted': 3344, 'writers': 3345, 'gang': 3346, 'models': 3347, 'publishing': 3348, 'loyal': 3349, 'returning': 3350, 'dreams': 3351, 'pressed': 3352, 'remarkable': 3353, 'burden': 3354, 'contacted': 3355, 'wire': 3356, 'evangelical': 3357, 'yuan': 3358, 'sue': 3359, 'reopened': 3360, 'shake': 3361, 'ellison': 3362, 'landslide': 3363, 'interference': 3364, 'fails': 3365, 'emerge': 3366, 'invested': 3367, 'overwhelmingly': 3368, 'ages': 3369, 'lifetime': 3370, 'ring': 3371, 'pardon': 3372, 'pat': 3373, 'duke': 3374, 'electricity': 3375, 'venture': 3376, 'announcing': 3377, 'favorable': 3378, 'sean': 3379, 'impeachment': 3380, 'troubling': 3381, 'bigotry': 3382, 'collar': 3383, 'uranium': 3384, 'guidelines': 3385, 'magic': 3386, 'cook': 3387, 'hong': 3388, 'le': 3389, 'transportation': 3390, 'editors': 3391, 'roles': 3392, 'founding': 3393, 'finger': 3394, 'wondering': 3395, 'towns': 3396, 'lewd': 3397, 'considerable': 3398, 'geopolitical': 3399, 'kenya': 3400, 'teams': 3401, 'substance': 3402, 'assured': 3403, 'signature': 3404, 'threaten': 3405, 'billy': 3406, 'planes': 3407, 'damaged': 3408, 'roberts': 3409, 'spy': 3410, 'visiting': 3411, 'condemned': 3412, 'timing': 3413, 'complaint': 3414, 'managers': 3415, 'underground': 3416, 'adams': 3417, 'campaigned': 3418, 'fueled': 3419, 'insurers': 3420, 'desperately': 3421, 'capture': 3422, 'afghan': 3423, 'stating': 3424, 'engaging': 3425, 'solve': 3426, 'generated': 3427, 'driver': 3428, 'summit': 3429, 'stable': 3430, 'saudis': 3431, 'nationalism': 3432, 'accountability': 3433, 'frankly': 3434, 'francis': 3435, 'watergate': 3436, 'dapl': 3437, 'sheeple': 3438, 'holdings': 3439, 'donation': 3440, 'graduate': 3441, 'counts': 3442, 'trigger': 3443, 'overnight': 3444, 'neutral': 3445, 'capitalist': 3446, 'praise': 3447, 'objects': 3448, 'explaining': 3449, 'symbol': 3450, 'pursuing': 3451, 'fortune': 3452, 'craig': 3453, 'homeless': 3454, 'blaming': 3455, 'funny': 3456, 'struggles': 3457, 'reflects': 3458, 'websites': 3459, 'consumption': 3460, 'exercises': 3461, 'calif': 3462, 'partly': 3463, 'viral': 3464, 'injuries': 3465, 'newspapers': 3466, 'thin': 3467, 'employed': 3468, 'intends': 3469, 'bunch': 3470, 'wildlife': 3471, 'apologize': 3472, 'unacceptable': 3473, 'blunt': 3474, 'refuge': 3475, 'logic': 3476, 'va': 3477, 'visible': 3478, 'slave': 3479, 'flowers': 3480, 'belt': 3481, 'drink': 3482, 'tenure': 3483, 'addressing': 3484, 'theme': 3485, 'personality': 3486, 'calm': 3487, 'raw': 3488, 'saved': 3489, 'drawing': 3490, 'warm': 3491, 'hussein': 3492, 'generate': 3493, 'complained': 3494, 'painful': 3495, 'centuries': 3496, 'proves': 3497, 'smoke': 3498, 'portfolio': 3499, 'instagram': 3500, 'refer': 3501, 'emphasized': 3502, 'struggled': 3503, 'wood': 3504, 'pundits': 3505, 'papers': 3506, 'implement': 3507, 'celebrate': 3508, 'cool': 3509, 'frequent': 3510, 'resolve': 3511, 'prisoners': 3512, 'artificial': 3513, 'alcohol': 3514, 'traditionally': 3515, 'hire': 3516, 'hiring': 3517, 'royal': 3518, 'involves': 3519, 'bag': 3520, 'reviewed': 3521, 'surfaced': 3522, 'beauty': 3523, 'catch': 3524, 'adult': 3525, 'jet': 3526, 'dependent': 3527, 'sudden': 3528, 'inform': 3529, 'volatility': 3530, 'consideration': 3531, 'predict': 3532, 'surrounded': 3533, 'reserved': 3534, 'joy': 3535, 'stepped': 3536, 'depending': 3537, 'sunni': 3538, 'assess': 3539, 'hopeful': 3540, 'accepting': 3541, 'wolf': 3542, 'grounds': 3543, 'babies': 3544, 'legitimacy': 3545, 'tour': 3546, 'province': 3547, 'nytopinion': 3548, 'harsh': 3549, 'strategies': 3550, 'mom': 3551, 'beating': 3552, 'kong': 3553, 'penalty': 3554, 'believing': 3555, 'cry': 3556, 'removal': 3557, 'odd': 3558, 'acid': 3559, 'parenthood': 3560, 'ignoring': 3561, 'improving': 3562, 'shifted': 3563, 'rebuild': 3564, 'advocacy': 3565, 'electric': 3566, 'disclose': 3567, 'shots': 3568, 'correction': 3569, 'counting': 3570, 'reince': 3571, 'mood': 3572, 'stakes': 3573, 'strengthen': 3574, 'argues': 3575, 'port': 3576, 'appointments': 3577, 'suspicious': 3578, 'firing': 3579, 'occupy': 3580, 'trending': 3581, 'cheney': 3582, 'mercury': 3583, 'frequency': 3584, 'reelection': 3585, 'maryland': 3586, 'forecast': 3587, 'dangers': 3588, 'formally': 3589, 'fighter': 3590, 'sweden': 3591, 'khan': 3592, 'assuming': 3593, 'engineering': 3594, 'conscious': 3595, 'hamilton': 3596, 'soldier': 3597, 'imperialism': 3598, 'sight': 3599, 'fault': 3600, 'injured': 3601, 'aspect': 3602, 'disastrous': 3603, 'obligation': 3604, 'harris': 3605, 'consultant': 3606, 'minded': 3607, 'contributing': 3608, 'rudy': 3609, 'actors': 3610, 'yen': 3611, 'pact': 3612, 'emotions': 3613, 'risen': 3614, 'neocon': 3615, 'quietly': 3616, 'temporary': 3617, 'entity': 3618, 'observer': 3619, 'parent': 3620, 'volunteers': 3621, 'client': 3622, 'witnessed': 3623, 'intimidation': 3624, 'militarized': 3625, 'ridiculous': 3626, 'hurricane': 3627, 'symptoms': 3628, 'pa': 3629, 'refusal': 3630, 'contribute': 3631, 'pot': 3632, 'experiences': 3633, 'household': 3634, 'highlighted': 3635, 'violate': 3636, 'clip': 3637, 'zionist': 3638, 'fundraiser': 3639, 'rush': 3640, 'bruce': 3641, 'hosted': 3642, 'avoided': 3643, 'confirmation': 3644, 'repeat': 3645, 'onion': 3646, 'lessons': 3647, 'taxpayer': 3648, 'perform': 3649, 'highway': 3650, 'rear': 3651, 'irs': 3652, 'demonstrate': 3653, 'jimmy': 3654, 'landscape': 3655, 'waking': 3656, 'strongest': 3657, 'cap': 3658, 'poised': 3659, 'quotes': 3660, 'tags': 3661, 'immune': 3662, 'mcmullin': 3663, 'emphasis': 3664, 'bright': 3665, 'suburban': 3666, 'temple': 3667, 'ride': 3668, 'deployment': 3669, 'achieved': 3670, 'patterns': 3671, 'households': 3672, 'trusted': 3673, 'attorneys': 3674, 'monitor': 3675, 'distribution': 3676, 'breast': 3677, 'snowden': 3678, 'gaddafi': 3679, 'inappropriate': 3680, 'brussels': 3681, 'controlling': 3682, 'toll': 3683, 'dressed': 3684, 'compromise': 3685, 'selected': 3686, 'hits': 3687, 'leverage': 3688, 'shifting': 3689, 'perception': 3690, 'prosperity': 3691, 'depend': 3692, 'countless': 3693, 'aggressively': 3694, 'uncovered': 3695, 'globalists': 3696, 'standoff': 3697, 'assumed': 3698, 'globalism': 3699, 'phones': 3700, 'swamp': 3701, 'margins': 3702, 'explosive': 3703, 'rob': 3704, 'susan': 3705, 'peso': 3706, 'popularity': 3707, 'militia': 3708, 'respected': 3709, 'rig': 3710, 'roads': 3711, 'warns': 3712, 'hatch': 3713, 'aligned': 3714, 'info': 3715, 'halt': 3716, 'jeffrey': 3717, 'advances': 3718, 'declining': 3719, 'garden': 3720, 'dying': 3721, 'roman': 3722, 'neck': 3723, 'quit': 3724, 'rank': 3725, 'virus': 3726, 'jungle': 3727, 'shit': 3728, 'modest': 3729, 'wonderful': 3730, 'thirds': 3731, 'researcher': 3732, 'exception': 3733, 'entities': 3734, 'sets': 3735, 'spreading': 3736, 'wise': 3737, 'lists': 3738, 'waters': 3739, 'locked': 3740, 'nonprofit': 3741, 'improved': 3742, 'addresses': 3743, 'groping': 3744, 'revolt': 3745, 'maximum': 3746, 'nobel': 3747, 'preventing': 3748, 'traveling': 3749, 'soft': 3750, 'decent': 3751, 'takeover': 3752, 'engagement': 3753, 'greatly': 3754, 'el': 3755, 'toomey': 3756, 'contribution': 3757, 'divisive': 3758, 'advisory': 3759, 'rumors': 3760, 'tie': 3761, 'everyday': 3762, 'preserve': 3763, 'bloc': 3764, 'christianity': 3765, 'deportation': 3766, 'monitoring': 3767, 'proxy': 3768, 'leftist': 3769, 'bloody': 3770, 'infamous': 3771, 'examine': 3772, 'daughters': 3773, 'dallas': 3774, 'hoax': 3775, 'removing': 3776, 'mogul': 3777, 'tyranny': 3778, 'deliberately': 3779, 'justin': 3780, 'overhaul': 3781, 'filing': 3782, 'crowds': 3783, 'authoritarian': 3784, 'privilege': 3785, 'underway': 3786, 'acceptable': 3787, 'thiel': 3788, 'rescue': 3789, 'reserves': 3790, 'palmieri': 3791, 'spokesperson': 3792, 'submit': 3793, 'locker': 3794, 'expenses': 3795, 'truck': 3796, 'dean': 3797, 'gaining': 3798, 'dynamic': 3799, 'masters': 3800, 'mandatory': 3801, 'predictions': 3802, 'assist': 3803, 'finish': 3804, 'painted': 3805, 'celebrities': 3806, 'surprisingly': 3807, 'provisions': 3808, 'resort': 3809, 'silicon': 3810, 'conclusions': 3811, 'confusion': 3812, 'walsh': 3813, 'nervous': 3814, 'greek': 3815, 'disappointed': 3816, 'involve': 3817, 'dec': 3818, 'frustration': 3819, 'lights': 3820, 'apology': 3821, 'reminded': 3822, 'correctly': 3823, 'flood': 3824, 'discover': 3825, 'initiatives': 3826, 'barrel': 3827, 'fame': 3828, 'nypd': 3829, 'ims': 3830, 'framework': 3831, 'exciting': 3832, 'ease': 3833, 'replacement': 3834, 'selection': 3835, 'spray': 3836, 'qualified': 3837, 'divisions': 3838, 'zuckerberg': 3839, 'punishment': 3840, 'reset': 3841, 'uncle': 3842, 'plain': 3843, 'requested': 3844, 'sufficient': 3845, 'justices': 3846, 'mystery': 3847, 'heck': 3848, 'kid': 3849, 'tear': 3850, 'heaven': 3851, 'fascism': 3852, 'infowarsstore': 3853, 'tzrwu': 3854, 'palm': 3855, 'austin': 3856, 'columbia': 3857, 'hannity': 3858, 'reviewing': 3859, 'answered': 3860, 'pregnant': 3861, 'mysterious': 3862, 'passage': 3863, 'hemisphere': 3864, 'neocons': 3865, 'seeds': 3866, 'accident': 3867, 'dominance': 3868, 'clothes': 3869, 'longstanding': 3870, 'acted': 3871, 'raped': 3872, 'mexicans': 3873, 'drones': 3874, 'sadly': 3875, 'consequence': 3876, 'jordan': 3877, 'application': 3878, 'australian': 3879, 'insults': 3880, 'overcome': 3881, 'quoting': 3882, 'download': 3883, 'dry': 3884, 'millennials': 3885, 'nominated': 3886, 'criticizing': 3887, 'hiding': 3888, 'conducting': 3889, 'agriculture': 3890, 'defensive': 3891, 'kansas': 3892, 'classic': 3893, 'amnesty': 3894, 'hacks': 3895, 'absentee': 3896, 'howard': 3897, 'evan': 3898, 'prayer': 3899, 'liberation': 3900, 'doubts': 3901, 'synopsis': 3902, 'notable': 3903, 'earn': 3904, 'grave': 3905, 'migration': 3906, 'notably': 3907, 'posed': 3908, 'reduction': 3909, 'evident': 3910, 'teach': 3911, 'treason': 3912, 'radiation': 3913, 'charitable': 3914, 'procedures': 3915, 'rivals': 3916, 'lawsuits': 3917, 'grabbing': 3918, 'collusion': 3919, 'sexist': 3920, 'intentions': 3921, 'chapter': 3922, 'subjects': 3923, 'fossil': 3924, 'misleading': 3925, 'arctic': 3926, 'ignorant': 3927, 'deserves': 3928, 'kyle': 3929, 'shipping': 3930, 'clock': 3931, 'customer': 3932, 'abandon': 3933, 'contractors': 3934, 'cleared': 3935, 'pretend': 3936, 'pressing': 3937, 'independents': 3938, 'grid': 3939, 'insane': 3940, 'additionally': 3941, 'snip': 3942, 'backers': 3943, 'katie': 3944, 'sam': 3945, 'treating': 3946, 'deutsche': 3947, 'clark': 3948, 'jihadists': 3949, 'lgbt': 3950, 'commons': 3951, 'disclosed': 3952, 'judiciary': 3953, 'prince': 3954, 'paint': 3955, 'spain': 3956, 'lift': 3957, 'reader': 3958, 'newt': 3959, 'denial': 3960, 'sister': 3961, 'motion': 3962, 'rice': 3963, 'pertinent': 3964, 'appointees': 3965, 'christopher': 3966, 'economically': 3967, 'broadly': 3968, 'principal': 3969, 'confront': 3970, 'throwing': 3971, 'suppression': 3972, 'participating': 3973, 'jew': 3974, 'wider': 3975, 'frustrated': 3976, 'horse': 3977, 'horror': 3978, 'copper': 3979, 'mount': 3980, 'gaza': 3981, 'tanden': 3982, 'fuck': 3983, 'spin': 3984, 'expressing': 3985, 'transgender': 3986, 'feared': 3987, 'reliable': 3988, 'export': 3989, 'phoenix': 3990, 'accuse': 3991, 'evangelicals': 3992, 'academy': 3993, 'evolution': 3994, 'philosophy': 3995, 'enforce': 3996, 'remind': 3997, 'searching': 3998, 'con': 3999, 'censorship': 4000, 'eurozone': 4001, 'cheryl': 4002, 'hang': 4003, 'assaulted': 4004, 'array': 4005, 'modi': 4006, 'champion': 4007, 'furious': 4008, 'studied': 4009, 'honestly': 4010, 'importantly': 4011, 'denying': 4012, 'cloud': 4013, 'beaten': 4014, 'harmful': 4015, 'shop': 4016, 'troubled': 4017, 'govern': 4018, 'approve': 4019, 'dress': 4020, 'anderson': 4021, 'library': 4022, 'replacing': 4023, 'europeans': 4024, 'roosevelt': 4025, 'pollster': 4026, 'situations': 4027, 'peak': 4028, 'souls': 4029, 'weakness': 4030, 'larry': 4031, 'physically': 4032, 'sullivan': 4033, 'oath': 4034, 'delivery': 4035, 'scare': 4036, 'warn': 4037, 'concrete': 4038, 'commissioner': 4039, 'benefited': 4040, 'strip': 4041, 'uncertain': 4042, 'ignorance': 4043, 'coordinated': 4044, 'nazis': 4045, 'refuses': 4046, 'intend': 4047, 'pew': 4048, 'cameras': 4049, 'lifestyle': 4050, 'willingness': 4051, 'confused': 4052, 'occasions': 4053, 'chronic': 4054, 'irish': 4055, 'elderly': 4056, 'saving': 4057, 'collected': 4058, 'proposes': 4059, 'nationally': 4060, 'liberties': 4061, 'capabilities': 4062, 'deplorables': 4063, 'riots': 4064, 'covert': 4065, 'ironically': 4066, 'launching': 4067, 'wmw': 4068, 'package': 4069, 'unconstitutional': 4070, 'simon': 4071, 'theft': 4072, 'eve': 4073, 'possibilities': 4074, 'channels': 4075, 'berlin': 4076, 'continent': 4077, 'megyn': 4078, 'understands': 4079, 'firearms': 4080, 'drill': 4081, 'rubber': 4082, 'loves': 4083, 'requiring': 4084, 'patriot': 4085, 'dropping': 4086, 'suburbs': 4087, 'cancel': 4088, 'patrol': 4089, 'hearings': 4090, 'embargo': 4091, 'mode': 4092, 'structures': 4093, 'wrongdoing': 4094, 'mccarthy': 4095, 'obstruction': 4096, 'cents': 4097, 'carol': 4098, 'tribal': 4099, 'cite': 4100, 'tears': 4101, 'transcript': 4102, 'estranged': 4103, 'centre': 4104, 'educational': 4105, 'attracted': 4106, 'immunity': 4107, 'hearts': 4108, 'outcomes': 4109, 'ammunition': 4110, 'loose': 4111, 'casualties': 4112, 'length': 4113, 'sum': 4114, 'rogue': 4115, 'helpful': 4116, 'invite': 4117, 'publications': 4118, 'crises': 4119, 'routinely': 4120, 'alexander': 4121, 'jeb': 4122, 'impression': 4123, 'israelis': 4124, 'precincts': 4125, 'satellite': 4126, 'contributor': 4127, 'apartment': 4128, 'precedent': 4129, 'description': 4130, 'meaningful': 4131, 'dominate': 4132, 'projected': 4133, 'biased': 4134, 'brave': 4135, 'lobbyist': 4136, 'stations': 4137, 'msm': 4138, 'autism': 4139, 'button': 4140, 'investing': 4141, 'excited': 4142, 'benjamin': 4143, 'dealings': 4144, 'considers': 4145, 'neighborhoods': 4146, 'tree': 4147, 'facility': 4148, 'governance': 4149, 'dignity': 4150, 'cubs': 4151, 'expecting': 4152, 'extremist': 4153, 'correspondent': 4154, 'profound': 4155, 'verdict': 4156, 'spam': 4157, 'imf': 4158, 'cooperate': 4159, 'occurring': 4160, 'breath': 4161, 'communism': 4162, 'reminder': 4163, 'alternatives': 4164, 'critic': 4165, 'experiment': 4166, 'mediterranean': 4167, 'rage': 4168, 'vicious': 4169, 'instances': 4170, 'superior': 4171, 'alike': 4172, 'abuses': 4173, 'pharma': 4174, 'kurds': 4175, 'approached': 4176, 'loud': 4177, 'stopping': 4178, 'embraced': 4179, 'optimism': 4180, 'concentration': 4181, 'lasting': 4182, 'indication': 4183, 'estimate': 4184, 'switched': 4185, 'baltic': 4186, 'practical': 4187, 'proceed': 4188, 'aaron': 4189, 'significance': 4190, 'myth': 4191, 'burr': 4192, 'manipulated': 4193, 'jets': 4194, 'pilger': 4195, 'hat': 4196, 'outsider': 4197, 'settle': 4198, 'techniques': 4199, 'freely': 4200, 'childhood': 4201, 'loyalty': 4202, 'traveled': 4203, 'ray': 4204, 'reflected': 4205, 'resource': 4206, 'nonsense': 4207, 'duck': 4208, 'fled': 4209, 'proving': 4210, 'pair': 4211, 'commodity': 4212, 'sputnik': 4213, 'ceta': 4214, 'phony': 4215, 'gear': 4216, 'yorkers': 4217, 'lieutenant': 4218, 'pocket': 4219, 'deciding': 4220, 'insight': 4221, 'depth': 4222, 'trillions': 4223, 'external': 4224, 'employers': 4225, 'performed': 4226, 'translated': 4227, 'sorts': 4228, 'secrecy': 4229, 'dictator': 4230, 'ru': 4231, 'sake': 4232, 'outreach': 4233, 'fallout': 4234, 'references': 4235, 'respondents': 4236, 'governors': 4237, 'unpopular': 4238, 'computers': 4239, 'appearing': 4240, 'hostility': 4241, 'resign': 4242, 'domain': 4243, 'margaret': 4244, 'solidarity': 4245, 'alaska': 4246, 'jake': 4247, 'realities': 4248, 'arrive': 4249, 'telephone': 4250, 'ranging': 4251, 'committing': 4252, 'discourse': 4253, 'cultures': 4254, 'punish': 4255, 'islands': 4256, 'segment': 4257, 'fiction': 4258, 'graham': 4259, 'absence': 4260, 'rome': 4261, 'failures': 4262, 'colonial': 4263, 'ass': 4264, 'operates': 4265, 'bone': 4266, 'garner': 4267, 'saddam': 4268, 'scope': 4269, 'grade': 4270, 'subsequently': 4271, 'producer': 4272, 'concert': 4273, 'valuable': 4274, 'bragging': 4275, 'underlying': 4276, 'resigned': 4277, 'partial': 4278, 'successor': 4279, 'guidance': 4280, 'en': 4281, 'picking': 4282, 'kissinger': 4283, 'churches': 4284, 'em': 4285, 'manufacturers': 4286, 'committees': 4287, 'reno': 4288, 'cruise': 4289, 'whistleblower': 4290, 'checked': 4291, 'offshore': 4292, 'tension': 4293, 'tightening': 4294, 'sophisticated': 4295, 'trick': 4296, 'featuring': 4297, 'brent': 4298, 'bull': 4299, 'ecuador': 4300, 'damascus': 4301, 'shopping': 4302, 'drain': 4303, 'disrupt': 4304, 'associates': 4305, 'sweeping': 4306, 'ownership': 4307, 'embarrassing': 4308, 'pose': 4309, 'appearances': 4310, 'sworn': 4311, 'canceled': 4312, 'simultaneously': 4313, 'governmental': 4314, 'submitted': 4315, 'societies': 4316, 'alter': 4317, 'actor': 4318, 'parallel': 4319, 'flint': 4320, 'resignation': 4321, 'misconduct': 4322, 'sample': 4323, 'orlando': 4324, 'cooking': 4325, 'flu': 4326, 'initiated': 4327, 'flickr': 4328, 'beneficial': 4329, 'billionaires': 4330, 'worries': 4331, 'witnesses': 4332, 'dumb': 4333, 'apprentice': 4334, 'arrangement': 4335, 'sweet': 4336, 'holocaust': 4337, 'fleeing': 4338, 'belonging': 4339, 'deficits': 4340, 'seattle': 4341, 'blocking': 4342, 'secular': 4343, 'stevens': 4344, 'labeled': 4345, 'rebecca': 4346, 'circles': 4347, 'commented': 4348, 'rocket': 4349, 'regimes': 4350, 'servers': 4351, 'deport': 4352, 'compete': 4353, 'introduce': 4354, 'enjoyed': 4355, 'magnitude': 4356, 'tons': 4357, 'doctrine': 4358, 'bilateral': 4359, 'scenarios': 4360, 'injury': 4361, 'deception': 4362, 'nose': 4363, 'shifts': 4364, 'outraged': 4365, 'warnings': 4366, 'adopt': 4367, 'catastrophic': 4368, 'pepper': 4369, 'catholics': 4370, 'tribune': 4371, 'quantum': 4372, 'beer': 4373, 'oppression': 4374, 'approaches': 4375, 'disgusting': 4376, 'concede': 4377, 'chase': 4378, 'producers': 4379, 'parliamentary': 4380, 'gradually': 4381, 'suspended': 4382, 'fires': 4383, 'transport': 4384, 'implemented': 4385, 'chambers': 4386, 'martial': 4387, 'payer': 4388, 'pollution': 4389, 'eligible': 4390, 'pending': 4391, 'resident': 4392, 'clothing': 4393, 'financing': 4394, 'firmly': 4395, 'benchmark': 4396, 'mars': 4397, 'shield': 4398, 'calais': 4399, 'volunteer': 4400, 'stewart': 4401, 'storage': 4402, 'sectors': 4403, 'attractive': 4404, 'defendants': 4405, 'militant': 4406, 'salt': 4407, 'pledges': 4408, 'maker': 4409, 'alan': 4410, 'refers': 4411, 'prohibited': 4412, 'kicked': 4413, 'label': 4414, 'communicate': 4415, 'mitch': 4416, 'ireland': 4417, 'norway': 4418, 'loving': 4419, 'beast': 4420, 'mountain': 4421, 'hassan': 4422, 'aims': 4423, 'contempt': 4424, 'ferguson': 4425, 'thompson': 4426, 'bayh': 4427, 'trees': 4428, 'heal': 4429, 'litigation': 4430, 'outlet': 4431, 'emailed': 4432, 'kick': 4433, 'hypocrisy': 4434, 'accompanied': 4435, 'giants': 4436, 'mechanism': 4437, 'persons': 4438, 'mcauliffe': 4439, 'sic': 4440, 'bankruptcy': 4441, 'jared': 4442, 'sends': 4443, 'ambitions': 4444, 'pursuit': 4445, 'vague': 4446, 'avoiding': 4447, 'drove': 4448, 'utterly': 4449, 'departure': 4450, 'preparation': 4451, 'implementation': 4452, 'reservation': 4453, 'conviction': 4454, 'cares': 4455, 'baker': 4456, 'cannon': 4457, 'ph': 4458, 'gather': 4459, 'crying': 4460, 'navigation': 4461, 'witch': 4462, 'matrix': 4463, 'guests': 4464, 'accomplished': 4465, 'suggestion': 4466, 'sacrifice': 4467, 'category': 4468, 'barriers': 4469, 'diabetes': 4470, 'burned': 4471, 'kasich': 4472, 'accord': 4473, 'disorder': 4474, 'departments': 4475, 'unfit': 4476, 'scary': 4477, 'threw': 4478, 'insult': 4479, 'vatican': 4480, 'isaac': 4481, 'thrush': 4482, 'kuznetsov': 4483, 'exposes': 4484, 'helmets': 4485, 'urge': 4486, 'negotiate': 4487, 'violating': 4488, 'insist': 4489, 'explicit': 4490, 'ethical': 4491, 'anchor': 4492, 'encounter': 4493, 'rational': 4494, 'accomplish': 4495, 'row': 4496, 'traded': 4497, 'moderator': 4498, 'franklin': 4499, 'testified': 4500, 'efficient': 4501, 'foundations': 4502, 'element': 4503, 'damn': 4504, 'codes': 4505, 'succeeded': 4506, 'crack': 4507, 'nutrition': 4508, 'engineers': 4509, 'batch': 4510, 'essence': 4511, 'doubled': 4512, 'frame': 4513, 'platforms': 4514, 'collect': 4515, 'shaped': 4516, 'slogan': 4517, 'trash': 4518, 'stark': 4519, 'nonpartisan': 4520, 'notorious': 4521, 'illusion': 4522, 'malaysia': 4523, 'dominant': 4524, 'jefferson': 4525, 'rushed': 4526, 'greg': 4527, 'custody': 4528, 'birthday': 4529, 'contra': 4530, 'commodities': 4531, 'opec': 4532, 'fucking': 4533, 'plastic': 4534, 'visits': 4535, 'practically': 4536, 'interior': 4537, 'persuade': 4538, 'miracle': 4539, 'scores': 4540, 'define': 4541, 'commenting': 4542, 'virtual': 4543, 'portland': 4544, 'fairness': 4545, 'intelligent': 4546, 'analyses': 4547, 'hamas': 4548, 'nfl': 4549, 'sons': 4550, 'chancellor': 4551, 'checking': 4552, 'reluctant': 4553, 'influenced': 4554, 'legislature': 4555, 'fundamentally': 4556, 'surveyed': 4557, 'experiencing': 4558, 'dissent': 4559, 'absurd': 4560, 'felony': 4561, 'pivot': 4562, 'advertisers': 4563, 'hysteria': 4564, 'horizon': 4565, 'blocks': 4566, 'measured': 4567, 'banker': 4568, 'quarters': 4569, 'explicitly': 4570, 'allen': 4571, 'electing': 4572, 'placing': 4573, 'uprising': 4574, 'contentious': 4575, 'keefe': 4576, 'paradigm': 4577, 'hypothesis': 4578, 'taliban': 4579, 'conservatism': 4580, 'tapped': 4581, 'likelihood': 4582, 'innovation': 4583, 'llc': 4584, 'guards': 4585, 'laugh': 4586, 'fierce': 4587, 'robust': 4588, 'challenger': 4589, 'fargo': 4590, 'triggered': 4591, 'liberalism': 4592, 'ensuring': 4593, 'random': 4594, 'acceptance': 4595, 'executed': 4596, 'excessive': 4597, 'alliances': 4598, 'arabs': 4599, 'systemic': 4600, 'ingredients': 4601, 'bolton': 4602, 'mounting': 4603, 'sooner': 4604, 'illuminati': 4605, 'rent': 4606, 'lucky': 4607, 'artist': 4608, 'statewide': 4609, 'receives': 4610, 'alarm': 4611, 'arthur': 4612, 'processes': 4613, 'agricultural': 4614, 'react': 4615, 'score': 4616, 'functions': 4617, 'wishes': 4618, 'keith': 4619, 'transform': 4620, 'chaffetz': 4621, 'hanging': 4622, 'apologized': 4623, 'sits': 4624, 'hosts': 4625, 'decides': 4626, 'temporarily': 4627, 'assaulting': 4628, 'prediction': 4629, 'pride': 4630, 'reversed': 4631, 'dennis': 4632, 'regret': 4633, 'bureaucracy': 4634, 'beneath': 4635, 'generals': 4636, 'bare': 4637, 'engineered': 4638, 'nate': 4639, 'undoubtedly': 4640, 'weird': 4641, 'divine': 4642, 'attribution': 4643, 'developer': 4644, 'comfort': 4645, 'visa': 4646, 'flags': 4647, 'settlements': 4648, 'swift': 4649, 'asserted': 4650, 'separation': 4651, 'pays': 4652, 'spite': 4653, 'recovered': 4654, 'morocco': 4655, 'productive': 4656, 'unrelated': 4657, 'outrageous': 4658, 'stealing': 4659, 'fracking': 4660, 'baseball': 4661, 'uncomfortable': 4662, 'deadline': 4663, 'tesla': 4664, 'clinical': 4665, 'xi': 4666, 'monica': 4667, 'monopoly': 4668, 'competing': 4669, 'disputed': 4670, 'kenneth': 4671, 'signaled': 4672, 'semitic': 4673, 'majorities': 4674, 'insulting': 4675, 'deplorable': 4676, 'teaching': 4677, 'jihadist': 4678, 'chairwoman': 4679, 'cease': 4680, 'interpretation': 4681, 'liar': 4682, 'attract': 4683, 'anxious': 4684, 'skepticism': 4685, 'conclude': 4686, 'delivering': 4687, 'brotherhood': 4688, 'patriotic': 4689, 'tolerance': 4690, 'sudan': 4691, 'carney': 4692, 'epa': 4693, 'chomsky': 4694, 'excerpts': 4695, 'transformation': 4696, 'casino': 4697, 'irrelevant': 4698, 'comply': 4699, 'examined': 4700, 'invisible': 4701, 'clarity': 4702, 'script': 4703, 'origin': 4704, 'orthodox': 4705, 'permit': 4706, 'tribes': 4707, 'tehran': 4708, 'laying': 4709, 'defeating': 4710, 'sexism': 4711, 'guaranteed': 4712, 'outlined': 4713, 'trafficking': 4714, 'mosque': 4715, 'suspects': 4716, 'lt': 4717, 'prosecuted': 4718, 'ballistic': 4719, 'extraterrestrial': 4720, 'extension': 4721, 'mirror': 4722, 'math': 4723, 'permitted': 4724, 'certified': 4725, 'accounting': 4726, 'inevitably': 4727, 'eddie': 4728, 'patriots': 4729, 'anna': 4730, 'wilson': 4731, 'offset': 4732, 'turmoil': 4733, 'inbox': 4734, 'victories': 4735, 'enacted': 4736, 'glad': 4737, 'basket': 4738, 'advisors': 4739, 'spots': 4740, 'glenn': 4741, 'decisive': 4742, 'explosion': 4743, 'ag': 4744, 'saker': 4745, 'oklahoma': 4746, 'trumps': 4747, 'attending': 4748, 'wondered': 4749, 'coffee': 4750, 'publisher': 4751, 'meets': 4752, 'holes': 4753, 'isolated': 4754, 'alarming': 4755, 'todd': 4756, 'performing': 4757, 'trucks': 4758, 'intervene': 4759, 'strengthening': 4760, 'commonly': 4761, 'birds': 4762, 'monsanto': 4763, 'pitch': 4764, 'battles': 4765, 'diplomats': 4766, 'confidential': 4767, 'provision': 4768, 'swept': 4769, 'ceremony': 4770, 'altogether': 4771, 'taste': 4772, 'brilliant': 4773, 'mothers': 4774, 'shootings': 4775, 'neoliberal': 4776, 'allegiance': 4777, 'compare': 4778, 'laughing': 4779, 'weaker': 4780, 'bonuses': 4781, 'foreigners': 4782, 'rifle': 4783, 'southeast': 4784, 'credits': 4785, 'territories': 4786, 'attributed': 4787, 'covers': 4788, 'reactions': 4789, 'administrations': 4790, 'rejection': 4791, 'surrogate': 4792, 'russ': 4793, 'genius': 4794, 'pound': 4795, 'blasted': 4796, 'kirby': 4797, 'drama': 4798, 'socialism': 4799, 'justified': 4800, 'flawed': 4801, 'wow': 4802, 'ideal': 4803, 'relation': 4804, 'naked': 4805, 'magnesium': 4806, 'questionable': 4807, 'costly': 4808, 'theater': 4809, 'staggering': 4810, 'sustained': 4811, 'films': 4812, 'illegals': 4813, 'singer': 4814, 'meme': 4815, 'criticize': 4816, 'sir': 4817, 'injustice': 4818, 'procedure': 4819, 'unesco': 4820, 'ufos': 4821, 'abe': 4822, 'celebrating': 4823, 'rolls': 4824, 'survived': 4825, 'bears': 4826, 'noise': 4827, 'prosecute': 4828, 'historian': 4829, 'temperament': 4830, 'betting': 4831, 'relied': 4832, 'revenge': 4833, 'urgent': 4834, 'killer': 4835, 'hayden': 4836, 'indicted': 4837, 'bets': 4838, 'pension': 4839, 'compromised': 4840, 'affiliated': 4841, 'guilt': 4842, 'kander': 4843, 'admission': 4844, 'dishonest': 4845, 'applause': 4846, 'difficulty': 4847, 'unleashed': 4848, 'vocal': 4849, 'kentucky': 4850, 'cent': 4851, 'severely': 4852, 'integration': 4853, 'rampant': 4854, 'acquired': 4855, 'damning': 4856, 'pilot': 4857, 'colin': 4858, 'globally': 4859, 'undercover': 4860, 'pravda': 4861, 'ethiopia': 4862, 'monster': 4863, 'upshot': 4864, 'founders': 4865, 'santa': 4866, 'netherlands': 4867, 'correctness': 4868, 'reflection': 4869, 'buried': 4870, 'falsely': 4871, 'instructions': 4872, 'fallon': 4873, 'sued': 4874, 'carson': 4875, 'famously': 4876, 'gabriel': 4877, 'existed': 4878, 'rapists': 4879, 'gates': 4880, 'supremacy': 4881, 'catastrophe': 4882, 'rallied': 4883, 'nationalists': 4884, 'fuels': 4885, 'ceiling': 4886, 'logical': 4887, 'interventions': 4888, 'seize': 4889, 'chiefs': 4890, 'solely': 4891, 'prescription': 4892, 'bin': 4893, 'pregnancy': 4894, 'advocated': 4895, 'burns': 4896, 'relentless': 4897, 'idiot': 4898, 'dictatorship': 4899, 'dose': 4900, 'syndrome': 4901, 'crops': 4902, 'bars': 4903, 'excess': 4904, 'compliance': 4905, 'luck': 4906, 'fights': 4907, 'aged': 4908, 'caution': 4909, 'treaties': 4910, 'maintains': 4911, 'membership': 4912, 'incomes': 4913, 'midst': 4914, 'commitments': 4915, 'fascinating': 4916, 'banning': 4917, 'mishandling': 4918, 'heather': 4919, 'tragedy': 4920, 'fathers': 4921, 'transparent': 4922, 'cult': 4923, 'ceasefire': 4924, 'italic': 4925, 'antonio': 4926, 'grants': 4927, 'liability': 4928, 'introduction': 4929, 'crossed': 4930, 'duties': 4931, 'devoted': 4932, 'anniversary': 4933, 'drivers': 4934, 'colleague': 4935, 'assumption': 4936, 'factories': 4937, 'islamist': 4938, 'pockets': 4939, 'egyptian': 4940, 'blames': 4941, 'shaken': 4942, 'unnecessary': 4943, 'arrival': 4944, 'debbie': 4945, 'juice': 4946, 'embedded': 4947, 'unite': 4948, 'belong': 4949, 'pause': 4950, 'renewable': 4951, 'realdonaldtrump': 4952, 'finances': 4953, 'commentator': 4954, 'crossing': 4955, 'heated': 4956, 'tendency': 4957, 'darkness': 4958, 'grace': 4959, 'administrative': 4960, 'accusation': 4961, 'conscience': 4962, 'evolved': 4963, 'blown': 4964, 'invaded': 4965, 'ecb': 4966, 'imperialist': 4967, 'applications': 4968, 'prompting': 4969, 'operated': 4970, 'accurately': 4971, 'buyers': 4972, 'string': 4973, 'fraudulent': 4974, 'tune': 4975, 'denounced': 4976, 'dig': 4977, 'triumph': 4978, 'sway': 4979, 'taylor': 4980, 'declines': 4981, 'condemn': 4982, 'activism': 4983, 'secured': 4984, 'somalia': 4985, 'scalia': 4986, 'movies': 4987, 'boat': 4988, 'brad': 4989, 'guided': 4990, 'caller': 4991, 'informing': 4992, 'surplus': 4993, 'contested': 4994, 'reign': 4995, 'dutch': 4996, 'robby': 4997, 'morton': 4998, 'wp': 4999}\n"
     ]
    }
   ],
   "source": [
    "words, word_to_id = build_vocab(concat_text,vocab_size)\n",
    "print(word_to_id)"
   ]
  },
  {
   "cell_type": "code",
   "execution_count": 64,
   "metadata": {},
   "outputs": [],
   "source": [
    "#padding the samples sequence length = 300\n",
    "def get_pad_text(text_words, word_to_id, max_length=100):   \n",
    "    data_id=[]\n",
    "    for x in text_words:\n",
    "        single_text=[]\n",
    "        for i in x:\n",
    "            if i in words:\n",
    "                a=word_to_id[i]\n",
    "                single_text.append(a)\n",
    "        data_id.append(single_text)\n",
    "    x_pad = kr.preprocessing.sequence.pad_sequences(data_id, max_length)\n",
    "    return np.array(x_pad)\n",
    "\n",
    "X = get_pad_text(concat_text,word_to_id,max_length=sequence_length)"
   ]
  },
  {
   "cell_type": "code",
   "execution_count": 65,
   "metadata": {},
   "outputs": [],
   "source": [
    "def train_dev_split(X,y):\n",
    "    #每次的随机都保证一样\n",
    "    np.random.seed(10)\n",
    "    shuffle_indices = np.random.permutation(len(y))\n",
    "    x_shuffled = X[shuffle_indices]\n",
    "    y_shuffled = y[shuffle_indices]\n",
    "    # Split train/test set\n",
    "    # 后10%作为验证集\n",
    "    dev_sample_index = -1 * int(0.1 * float(len(y)))\n",
    "    x_train, x_dev = x_shuffled[:dev_sample_index], x_shuffled[dev_sample_index:]\n",
    "    y_train, y_dev = y_shuffled[:dev_sample_index], y_shuffled[dev_sample_index:]\n",
    "    print(\"Train/Dev split: {:d}/{:d}\".format(len(y_train), len(y_dev)))\n",
    "    return x_train, y_train, word_to_id, x_dev, y_dev"
   ]
  },
  {
   "cell_type": "code",
   "execution_count": 66,
   "metadata": {},
   "outputs": [
    {
     "name": "stdout",
     "output_type": "stream",
     "text": [
      "Train/Dev split: 14626/1625\n"
     ]
    }
   ],
   "source": [
    "y = np.array(df2['type'])\n",
    "x_train, y_train, word_to_id, x_dev, y_dev = train_dev_split(X,y)"
   ]
  },
  {
   "cell_type": "code",
   "execution_count": 72,
   "metadata": {},
   "outputs": [],
   "source": [
    "pred_y = model.predict(x_dev)\n",
    "pred_y = model.predict(x_dev)\n",
    "predict = []\n",
    "for i in range(0,len(pred_y)):\n",
    "    predict.append(pred_y[i][0])\n",
    "result = pd.DataFrame(columns=['predict', 'label'])\n",
    "result['predict'] = predict\n",
    "result['label'] = y_dev\n",
    "result\n",
    "result.to_csv(r'result_new2.csv' ,index=False)"
   ]
  },
  {
   "cell_type": "code",
   "execution_count": 68,
   "metadata": {},
   "outputs": [],
   "source": [
    "def Chang_(pred):\n",
    "    results = []\n",
    "    for i in range(len(pred)):\n",
    "        if pred[i]>0.5:\n",
    "            temp = 1\n",
    "            results.append(temp)\n",
    "        else:\n",
    "            temp = 0\n",
    "            results.append(temp)\n",
    "    return results\n",
    "        \n",
    "results = Chang_(pred_y)\n"
   ]
  },
  {
   "cell_type": "code",
   "execution_count": 69,
   "metadata": {},
   "outputs": [],
   "source": [
    "from sklearn.metrics import confusion_matrix\n",
    "from sklearn.metrics import precision_recall_curve\n",
    "from sklearn.metrics import auc\n",
    "from sklearn.metrics import roc_auc_score\n",
    "from sklearn.metrics import roc_curve\n",
    "from sklearn.metrics import classification_report\n",
    "from sklearn.metrics import precision_score, recall_score\n",
    "from sklearn.metrics import f1_score"
   ]
  },
  {
   "cell_type": "code",
   "execution_count": 70,
   "metadata": {},
   "outputs": [
    {
     "name": "stdout",
     "output_type": "stream",
     "text": [
      "[[   0    0]\n",
      " [1154  471]]\n"
     ]
    }
   ],
   "source": [
    "# Compute confusion matrix\n",
    "con_matrix = confusion_matrix(results, y_dev,labels=[0,1])  # 生成混淆矩阵\n",
    "print(con_matrix)"
   ]
  },
  {
   "cell_type": "code",
   "execution_count": 71,
   "metadata": {},
   "outputs": [
    {
     "name": "stdout",
     "output_type": "stream",
     "text": [
      "precision: 0.28984615384615386\n",
      "recall: 1.0\n",
      "f1: 0.4494274809160306\n"
     ]
    }
   ],
   "source": [
    "print('precision:',precision_score(y_dev, results))\n",
    "print('recall:',recall_score(y_dev, results))\n",
    "print('f1:',f1_score(y_dev, results))"
   ]
  },
  {
   "cell_type": "code",
   "execution_count": null,
   "metadata": {},
   "outputs": [],
   "source": []
  },
  {
   "cell_type": "code",
   "execution_count": null,
   "metadata": {},
   "outputs": [],
   "source": []
  },
  {
   "cell_type": "code",
   "execution_count": null,
   "metadata": {},
   "outputs": [],
   "source": []
  },
  {
   "cell_type": "code",
   "execution_count": 30,
   "metadata": {},
   "outputs": [],
   "source": [
    "def Chang_(pred):\n",
    "    results = []\n",
    "    for i in range(len(pred)):\n",
    "        if pred[i]>0.5:\n",
    "            temp = 1\n",
    "            results.append(temp)\n",
    "        else:\n",
    "            temp = 0\n",
    "            results.append(temp)\n",
    "    return results\n",
    "        \n",
    "results = Chang_(pred_y)"
   ]
  },
  {
   "cell_type": "code",
   "execution_count": 137,
   "metadata": {},
   "outputs": [
    {
     "data": {
      "text/plain": [
       "43"
      ]
     },
     "execution_count": 137,
     "metadata": {},
     "output_type": "execute_result"
    }
   ],
   "source": [
    "len(results)"
   ]
  },
  {
   "cell_type": "code",
   "execution_count": 138,
   "metadata": {},
   "outputs": [
    {
     "data": {
      "text/plain": [
       "43"
      ]
     },
     "execution_count": 138,
     "metadata": {},
     "output_type": "execute_result"
    }
   ],
   "source": [
    "len(y_dev)"
   ]
  },
  {
   "cell_type": "code",
   "execution_count": 139,
   "metadata": {},
   "outputs": [],
   "source": [
    "from sklearn.metrics import confusion_matrix\n",
    "from sklearn.metrics import precision_recall_curve\n",
    "from sklearn.metrics import auc\n",
    "from sklearn.metrics import roc_auc_score\n",
    "from sklearn.metrics import roc_curve\n",
    "from sklearn.metrics import classification_report\n",
    "from sklearn.metrics import precision_score, recall_score\n",
    "from sklearn.metrics import f1_score"
   ]
  },
  {
   "cell_type": "code",
   "execution_count": 140,
   "metadata": {},
   "outputs": [
    {
     "name": "stdout",
     "output_type": "stream",
     "text": [
      "[[ 0  0]\n",
      " [16 27]]\n"
     ]
    }
   ],
   "source": [
    "# Compute confusion matrix\n",
    "con_matrix = confusion_matrix(results, y_dev,labels=[0,1])  # 生成混淆矩阵\n",
    "print(con_matrix)"
   ]
  },
  {
   "cell_type": "code",
   "execution_count": 141,
   "metadata": {},
   "outputs": [
    {
     "name": "stdout",
     "output_type": "stream",
     "text": [
      "precision: 0.627906976744186\n",
      "recall: 1.0\n",
      "f1: 0.7714285714285715\n"
     ]
    }
   ],
   "source": [
    "print('precision:',precision_score(y_dev, results))\n",
    "print('recall:',recall_score(y_dev, results))\n",
    "print('f1:',f1_score(y_dev, results))"
   ]
  },
  {
   "cell_type": "code",
   "execution_count": 47,
   "metadata": {},
   "outputs": [],
   "source": [
    "text_new = 'WASHINGTON — The Trump administration pushed a $1.5 trillion tax cut through Congress in 2017 on the promise that it would spark sustained economic growth. While the tax cuts have goosed the economy in the short term, officials now concede they will not be enough to deliver the 3 percent annual growth the president promised over the long term.To produce that average growth rate for the next decade, White House forecasters say, the American economy would need additional rollbacks in labor regulations, a $1 trillion infrastructure plan and another round of tax cuts.Getting all those policies implemented would be highly unlikely, given a divided Congress and a ballooning federal deficit, which could limit lawmakers’ appetite to spend money on a new tax cut or infrastructure plan.But without those additional steps, the president’s economic team predicts in a report released on Tuesday that growth would slow to about 2 percent a year in 2026. That is the year when many of the individual tax cuts included in the 2017 law are set to expire, essentially producing a tax increase for millions of Americans.'"
   ]
  },
  {
   "cell_type": "code",
   "execution_count": 48,
   "metadata": {},
   "outputs": [],
   "source": [
    "text_words_new=[cleanlines(text_new,remove_stopwords=True)]\n"
   ]
  },
  {
   "cell_type": "code",
   "execution_count": 62,
   "metadata": {},
   "outputs": [
    {
     "name": "stdout",
     "output_type": "stream",
     "text": [
      "['washington', 'trump', 'administration', 'pushed', 'trillion', 'tax', 'cut', 'congress', 'promise', 'spark', 'sustained', 'economic', 'growth', 'tax', 'cuts', 'goosed', 'economy', 'short', 'term', 'officials', 'concede', 'deliver', 'percent', 'annual', 'growth', 'president', 'promised', 'term', 'produce', 'average', 'growth', 'rate', 'decade', 'white', 'house', 'forecasters', 'american', 'economy', 'additional', 'rollbacks', 'labor', 'regulations', 'trillion', 'infrastructure', 'plan', 'round', 'tax', 'cuts', 'policies', 'implemented', 'highly', 'divided', 'congress', 'ballooning', 'federal', 'deficit', 'limit', 'lawmakers', 'appetite', 'spend', 'money', 'tax', 'cut', 'infrastructure', 'plan', 'additional', 'steps', 'president', 'economic', 'team', 'predicts', 'report', 'released', 'tuesday', 'growth', 'slow', 'percent', 'individual', 'tax', 'cuts', 'included', 'law', 'set', 'expire', 'essentially', 'producing', 'tax', 'increase', 'millions', 'americans']\n"
     ]
    }
   ],
   "source": [
    "print(text_words_new[0])"
   ]
  },
  {
   "cell_type": "code",
   "execution_count": 50,
   "metadata": {},
   "outputs": [
    {
     "name": "stdout",
     "output_type": "stream",
     "text": [
      "(1, 300)\n"
     ]
    }
   ],
   "source": [
    "X_new = get_pad_text(text_words_new,word_to_id,max_length=sequence_length)\n",
    "print(X_new.shape)"
   ]
  },
  {
   "cell_type": "code",
   "execution_count": 51,
   "metadata": {},
   "outputs": [
    {
     "data": {
      "text/plain": [
       "array([[   0,    0,    0,    0,    0,    0,    0,    0,    0,    0,    0,\n",
       "           0,    0,    0,    0,    0,    0,    0,    0,    0,    0,    0,\n",
       "           0,    0,    0,    0,    0,    0,    0,    0,    0,    0,    0,\n",
       "           0,    0,    0,    0,    0,    0,    0,    0,    0,    0,    0,\n",
       "           0,    0,    0,    0,    0,    0,    0,    0,    0,    0,    0,\n",
       "           0,    0,    0,    0,    0,    0,    0,    0,    0,    0,    0,\n",
       "           0,    0,    0,    0,    0,    0,    0,    0,    0,    0,    0,\n",
       "           0,    0,    0,    0,    0,    0,    0,    0,    0,    0,    0,\n",
       "           0,    0,    0,    0,    0,    0,    0,    0,    0,    0,    0,\n",
       "           0,    0,    0,    0,    0,    0,    0,    0,    0,    0,    0,\n",
       "           0,    0,    0,    0,    0,    0,    0,    0,    0,    0,    0,\n",
       "           0,    0,    0,    0,    0,    0,    0,    0,    0,    0,    0,\n",
       "           0,    0,    0,    0,    0,    0,    0,    0,    0,    0,    0,\n",
       "           0,    0,    0,    0,    0,    0,    0,    0,    0,    0,    0,\n",
       "           0,    0,    0,    0,    0,    0,    0,    0,    0,    0,    0,\n",
       "           0,    0,    0,    0,    0,    0,    0,    0,    0,    0,    0,\n",
       "           0,    0,    0,    0,    0,    0,    0,    0,    0,    0,    0,\n",
       "           0,    0,    0,    0,    0,    0,    0,    0,    0,    0,    0,\n",
       "           0,    0,    0,    0,    0,    0,    0,    0,    0,    0,    0,\n",
       "           0,    0,    0,    0,    0,    0,    0,    0,    0,   44,    1,\n",
       "          59, 1298, 1400,  105,  540,  103, 1182, 4811,   71,  272,  105,\n",
       "        1556,  132,  356,  221,   91, 4377, 1669,   36, 1638,  272,    5,\n",
       "         968,  221, 1617,  580,  272,  351, 1203,   17,   23,   12,  132,\n",
       "        1045,  660, 1035, 1400,  711,  167, 1678,  105, 1556,  233, 4385,\n",
       "         845, 1796,  103,   53, 2324, 1981, 1174,  982,   62,  105,  540,\n",
       "         711,  167, 1045, 1265,    5,   71,  156,   93,  252,  163,  272,\n",
       "        2109,   36,  743,  105, 1556,  771,   38,  166, 1542, 3042,  105,\n",
       "         368,  264,   47]], dtype=int32)"
      ]
     },
     "execution_count": 51,
     "metadata": {},
     "output_type": "execute_result"
    }
   ],
   "source": [
    "X_new"
   ]
  },
  {
   "cell_type": "code",
   "execution_count": 52,
   "metadata": {},
   "outputs": [
    {
     "data": {
      "text/plain": [
       "array([[0.02069229]], dtype=float32)"
      ]
     },
     "execution_count": 52,
     "metadata": {},
     "output_type": "execute_result"
    }
   ],
   "source": [
    "model.predict(X_new)"
   ]
  },
  {
   "cell_type": "code",
   "execution_count": 74,
   "metadata": {},
   "outputs": [
    {
     "data": {
      "text/html": [
       "<div>\n",
       "<style scoped>\n",
       "    .dataframe tbody tr th:only-of-type {\n",
       "        vertical-align: middle;\n",
       "    }\n",
       "\n",
       "    .dataframe tbody tr th {\n",
       "        vertical-align: top;\n",
       "    }\n",
       "\n",
       "    .dataframe thead th {\n",
       "        text-align: right;\n",
       "    }\n",
       "</style>\n",
       "<table border=\"1\" class=\"dataframe\">\n",
       "  <thead>\n",
       "    <tr style=\"text-align: right;\">\n",
       "      <th></th>\n",
       "      <th>title</th>\n",
       "      <th>content</th>\n",
       "      <th>label</th>\n",
       "    </tr>\n",
       "  </thead>\n",
       "  <tbody>\n",
       "    <tr>\n",
       "      <th>0</th>\n",
       "      <td>Inspiring women take center stage in ''Women, ...</td>\n",
       "      <td>Inspiring women take center stage in ''Women, ...</td>\n",
       "      <td>1</td>\n",
       "    </tr>\n",
       "    <tr>\n",
       "      <th>1</th>\n",
       "      <td>Europe: Prey or Power?</td>\n",
       "      <td>Imagine Europe as a target on a radar screen, ...</td>\n",
       "      <td>1</td>\n",
       "    </tr>\n",
       "    <tr>\n",
       "      <th>2</th>\n",
       "      <td>Netanyahu Cuts Short U.S. Trip After Gaza Rock...</td>\n",
       "      <td>A rocket launched from Gaza struck a house in ...</td>\n",
       "      <td>1</td>\n",
       "    </tr>\n",
       "    <tr>\n",
       "      <th>3</th>\n",
       "      <td>Scratching the Surface of Slavery</td>\n",
       "      <td>Before ''Southern Promises'' begins, the actor...</td>\n",
       "      <td>1</td>\n",
       "    </tr>\n",
       "    <tr>\n",
       "      <th>4</th>\n",
       "      <td>Pick My Cotton': Video of Mock Whipping Prompt...</td>\n",
       "      <td>Four University of Georgia students were expel...</td>\n",
       "      <td>1</td>\n",
       "    </tr>\n",
       "  </tbody>\n",
       "</table>\n",
       "</div>"
      ],
      "text/plain": [
       "                                               title  \\\n",
       "0  Inspiring women take center stage in ''Women, ...   \n",
       "1                             Europe: Prey or Power?   \n",
       "2  Netanyahu Cuts Short U.S. Trip After Gaza Rock...   \n",
       "3                  Scratching the Surface of Slavery   \n",
       "4  Pick My Cotton': Video of Mock Whipping Prompt...   \n",
       "\n",
       "                                             content  label  \n",
       "0  Inspiring women take center stage in ''Women, ...      1  \n",
       "1  Imagine Europe as a target on a radar screen, ...      1  \n",
       "2  A rocket launched from Gaza struck a house in ...      1  \n",
       "3  Before ''Southern Promises'' begins, the actor...      1  \n",
       "4  Four University of Georgia students were expel...      1  "
      ]
     },
     "execution_count": 74,
     "metadata": {},
     "output_type": "execute_result"
    }
   ],
   "source": [
    "dir_2 = r'New_Data.csv'\n",
    "test_set = pd.read_csv(dir_2)\n",
    "test_set = test_set[['title','content','label']]\n",
    "test_set.head()"
   ]
  },
  {
   "cell_type": "code",
   "execution_count": 76,
   "metadata": {},
   "outputs": [],
   "source": [
    "test_set['label'] = test_set['label'].astype(int)\n"
   ]
  },
  {
   "cell_type": "code",
   "execution_count": 80,
   "metadata": {},
   "outputs": [
    {
     "name": "stdout",
     "output_type": "stream",
     "text": [
      "[['inspiring', 'women', 'center', 'stage', 'women', 'war', 'peace', 'ii', 'intruder', 'upends', 'couple', 'life', 'salesman', 'tv', 'women', 'war', 'peace', 'ii', 'pbs', 'check', 'local', 'listings', 'runs', 'limited', 'series', 'returns', 'films', 'women', 'led', 'nonviolent', 'movements', 'peace', 'human', 'rights', 'program', 'wave', 'goodbye', 'dinosaurs', 'northern', 'ireland', 'women', 'coalition', 'political', 'party', 'established', 'secure', 'representation', 'women', 'peace', 'negotiations', 'party', 'disbanded', 'trials', 'spring', 'centers', 'egyptian', 'women', 'fighting', 'bread', 'freedom', 'social', 'justice', 'arab', 'spring', 'half', 'series', 'airs', 'tuesday', 'jesus', 'life', 'history', 'biblical', 'drama', 'mary', 'magdalene', 'hit', 'theaters', 'month', 'rooney', 'mara', 'title', 'role', 'alongside', 'joaquin', 'phoenix', 'jesus', 'story', 'mary', 'jewish', 'woman', 'traveled', 'jesus', 'witnessed', 'crucifixion', 'resurrection', 'told', 'series', 'drama', 'documentary', 'tales', 'figures', 'played', 'roles', 'jesus', 'life', 'episode', 'reimagines', 'jesus', 'birth', 'focus', 'joseph', 'nation', 'stress', 'hbo', 'stream', 'hbo', 'platforms', 'neurosurgeon', 'medical', 'reporter', 'sanjay', 'gupta', 'crisscrosses', 'united', 'understand', 'country', 'life', 'expectancy', 'rate', 'steadily', 'dropping', 'sobering', 'documentary', 'marc', 'levin', 'class', 'divide', 'gupta', 'emphasizes', 'rise', 'deaths', 'despair', 'caused', 'cirrhosis', 'drug', 'overdose', 'suicide', 'researchers', 'obesity', 'chronic', 'stress', 'film', 'conveys', 'discover', 'depression', 'social', 'isolation', 'human', 'issue', 'gupta', 'visits', 'town', 'pennsylvania', 'plant', 'closure', 'left', 'hundreds', 'residents', 'jobless', 'stressed'], ['imagine', 'europe', 'target', 'radar', 'screen', 'warning', 'alerts', 'flashing', 'red', 'ubiquitous', 'europe', 'undergoing', 'multipronged', 'hybrid', 'attack', 'assailants', 'coordinate', 'goals', 'vary', 'flashing', 'signs', 'represent', 'power', 'competition', 'united', 'china', 'russia', 'europe', 'prey', 'political', 'allegiance', 'weakening', 'west', 'internal', 'divisions', 'attractive', 'assets', 'market', 'consumers', 'ideal', 'target', 'day', 'visit', 'italy', 'france', 'china', 'president', 'xi', 'jinping', 'finishing', 'week', 'read', 'study', 'power', 'testing', 'weakness', 'wealth', 'russia', 'familiar', 'friend', 'foe', 'time', 'range', 'moscow', 'tools', 'undermine', 'democratic', 'electoral', 'processes', 'cohesion', 'european', 'union', 'troll', 'factories', 'assistance', 'provided', 'anti', 'establishment', 'parties', 'political', 'landscape', 'sanctions', 'annexation', 'crimea', 'dented', 'kremlin', 'appetite', 'meddling', 'european', 'affairs', 'prevented', 'russia', 'lucrative', 'business', 'center', 'strategic', 'international', 'studies', 'washington', 'couple', 'russia', 'managed', 'increase', 'economic', 'footprint', 'european', 'union', 'countries', 'welcoming', 'notably', 'austria', 'italy', 'netherlands', 'report', 'online', 'activist', 'organization', 'avaaz', 'active', 'role', 'played', 'french', 'language', 'version', 'russia', 'russian', 'media', 'organization', 'includes', 'disseminating', 'news', 'real', 'fake', 'yellow', 'vests', 'protests', 'france', 'station', 'constant', 'coverage', 'violent', 'clashes', 'proved', 'popular', 'youtube', 'china', 'approach', 'guise', 'concept', 'silk', 'road', 'echoes', 'marco', 'polo', 'president', 'xi', 'connect', 'europe', 'china', 'economically', 'meant', 'buying', 'port', 'athens', 'crucial', 'gates', 'southern', 'europe', 'greece', 'desperate', 'money', 'germany', 'wrong', 'silk', 'road', 'prosaically', 'belt', 'road', 'initiative', 'involved', 'setting', 'organization', 'called', 'european', 'communist', 'european', 'union', 'china', 'kindly', 'build', 'infrastructure', 'bilateral', 'meetings', 'chinese', 'counterpart', 'prime', 'minister', 'european', 'union', 'country', 'daringly', 'highlight', 'xi', 'visit', 'italy', 'founding', 'european', 'union', 'signing', 'saturday', 'memorandum', 'understanding', 'endorse', 'belt', 'road', 'initiative', 'project', 'content', 'periphery', 'china', 'aiming', 'heart', 'europe', 'newfound', 'tenacity', 'washington', 'brussels', 'expressed', 'displeasure', 'move', 'italy', 'beijing', 'doubled', 'united', 'supposedly', 'europe', 'ally', 'fight', 'china', 'fight', 'trade', 'slowed', 'economic', 'growth', 'europe', 'technological', 'dominance', 'normal', 'washington', 'enrolled', 'european', 'allies', 'fight', 'normal', 'president', 'trump', 'america', 'treats', 'europe', 'competitor', 'vassal', 'week', 'passed', 'bullying', 'trump', 'administration', 'munich', 'security', 'conference', 'mid', 'february', 'vice', 'president', 'mike', 'pence', 'european', 'union', 'governments', 'withdraw', 'iranian', 'nuclear', 'deal', 'undermining', 'american', 'sanctions', 'penalize', 'european', 'companies', 'french', 'british', 'defense', 'officials', 'incensed', 'america', 'syria', 'decided', 'unilaterally', 'withdraw', 'troops', 'french', 'stay', 'tense', 'discussion', 'european', 'defense', 'closed', 'doors', 'senior', 'american', 'diplomat', 'speaking', 'grant', 'anonymity', 'reporters', 'frankness', 'sternly', 'lectured', 'west', 'european', 'participants', 'sensitive', 'united', 'president', 'trump', 'warnings', 'choosing', 'giant', 'chinese', 'tech', 'company', 'huawei', 'develop', 'generation', 'wireless', 'networks', 'threats', 'richard', 'grenell', 'american', 'ambassador', 'germany', 'retaliation', 'involving', 'restrictions', 'intelligence', 'sharing', 'gordon', 'sondland', 'united', 'ambassador', 'european', 'union', 'warned', 'retaliation', 'brussels', 'limits', 'involvement', 'american', 'companies', 'european', 'military', 'projects', 'trump', 'threatened', 'europe', 'severe', 'economic', 'pain', 'progress', 'delicate', 'trade', 'talks', 'reports', 'washington', 'trump', 'bill', 'european', 'countries', 'deployment', 'american', 'troops', 'percent', 'privilege', 'hosting', 'bloomberg', 'news', 'europe', 'soft', 'target', 'close', 'federal', 'hampered', 'complex', 'decision', 'process', 'brexit', 'chaos', 'inevitably', 'leave', 'mark', 'french', 'historian', 'pierre', 'nora', 'europeans', 'masters', 'pushed', 'periphery', 'europe', 'accept', 'defeat', 'senior', 'european', 'intelligence', 'official', 'wake', 'call', 'range', 'threats', 'confronting', 'including', 'interference', 'russia', 'alt', 'america', 'weaponization', 'extraterritorial', 'laws', 'weaken', 'companies', 'assert', 'european', 'economic', 'sovereignty', 'rearm', 'collectively', 'unity', 'political', 'essential', 'european', 'union', 'uphill', 'battle', 'europeans', 'wake', 'call', 'decide', 'contemplate', 'prospect', 'continent', 'cut', 'piece', 'piece', 'competing', 'bigger', 'powers', 'regain', 'collective', 'strength', 'common', 'sense', 'control', 'destiny', 'networks', 'test', 'huawei', 'technological', 'lead', 'strong', 'doubts', 'persist', 'security', 'european', 'alternatives', 'german', 'center', 'politician', 'norbert', 'tgen', 'twitter', 'europe', 'technological', 'capabilities', 'actor', 'expensive', 'political', 'question', 'seize', 'opportunity', 'pass', 'role', 'europe', 'play', 'march', 'france', 'president', 'emmanuel', 'macron', 'issued', 'solemn', 'call', 'european', 'renaissance', 'published', 'europe', 'europe', 'economic', 'market', 'project', 'wrote', 'adding', 'european', 'civilization', 'unites', 'frees', 'protects', 'understated', 'reaction', 'titled', 'europe', 'annegret', 'kramp', 'karrenbauer', 'germany', 'leader', 'conservative', 'christian', 'democratic', 'union', 'set', 'vision', 'contrast', 'called', 'status', 'quo', 'vision', 'versus', 'strategic', 'vision', 'lack', 'accord', 'close', 'major', 'european', 'nations', 'extent', 'challenge', 'china', 'finally', 'ready', 'moved', 'sense', 'urgency', 'counter', 'chinese', 'divisive', 'strategy', 'president', 'macron', 'invited', 'germany', 'chancellor', 'angela', 'merkel', 'president', 'european', 'union', 'executive', 'arm', 'join', 'originally', 'planned', 'bilateral', 'meeting', 'president', 'xi', 'tuesday', 'paris', 'european', 'leaders', 'continent', 'defender', 'democracy', 'multilateralism', 'ready', 'unite', 'fight'], ['rocket', 'launched', 'gaza', 'struck', 'house', 'central', 'israel', 'monday', 'injuring', 'people', 'setting', 'air', 'raid', 'sirens', 'country', 'forcing', 'prime', 'minister', 'benjamin', 'netanyahu', 'cut', 'short', 'visit', 'united', 'rocket', 'hit', 'israeli', 'monday', 'israel', 'defense', 'forces', 'twitter', 'reporters', 'israeli', 'news', 'outlets', 'tweeted', 'monday', 'rocket', 'hit', 'civilian', 'injuring', 'people', 'including', 'children', 'magen', 'david', 'adom', 'israeli', 'rescue', 'service', 'twitter', 'post', 'treating', 'victims', 'woman', 'moderately', 'wounded', 'attack', 'injured', 'claim', 'responsibility', 'attack', 'hit', 'kfar', 'saba', 'region', 'north', 'tel', 'aviv', 'jerusalem', 'post', 'apparent', 'rocket', 'attack', 'weeks', 'israel', 'hamas', 'de', 'escalate', 'tensions', 'rockets', 'gaza', 'fired', 'tel', 'aviv', 'hamas', 'islamic', 'militant', 'seeks', 'israel', 'destruction', 'gaza', 'possess', 'rockets', 'range', 'capable', 'reaching', 'tel', 'aviv', 'surrounding', 'islamic', 'jihad', 'shares', 'ideology', 'sunday', 'israel', 'defense', 'forces', 'explosives', 'hurled', 'riots', 'gaza', 'israeli', 'border', 'israel', 'struck', 'hamas', 'posts', 'response', 'washington', 'week', 'netanyahu', 'expected', 'meet', 'president', 'trump', 'address', 'policy', 'conference', 'organized', 'american', 'israel', 'public', 'affairs', 'committee', 'aipac', 'benny', 'gantz', 'star', 'netanyahu', 'chief', 'opponent', 'upcoming', 'election', 'called', 'monday', 'prime', 'minister', 'return', 'deal', 'aftermath', 'attack', 'reality', 'hamas', 'israel', 'hostage', 'unprecedented', 'unfathomable', 'gantz', 'wrote', 'twitter', 'netanyahu', 'pack', 'return', 'israel', 'handle', 'escalation', 'prime', 'minister', 'office', 'monday', 'netanyahu', 'cut', 'short', 'visitafter', 'meets', 'president', 'trump', 'local', 'news', 'media', 'press'], ['southern', 'promises', 'actors', 'gather', 'flea', 'theater', 'stage', 'deliver', 'preliminary', 'remarks', 'underlining', 'cast', 'people', 'color', 'integral', 'niegel', 'smith', 'revival', 'thomas', 'bradshaw', 'drama', 'set', 'plantation', 'virginia', 'masters', 'sexes', 'graphically', 'rape', 'slaves', 'sexes', 'brutal', 'violence', 'abounds', 'suggested', 'word', 'thrown', 'casual', 'abandon', 'text', 'includes', 'excerpts', 'real', 'slave', 'narratives', 'evening', 'circling', 'introductory', 'actors', 'mixed', 'heritage', 'slave', 'owner', 'slave', 'adam', 'coy', 'character', 'characters', 'ancestors', 'complicates', 'story', 'straightforward', 'horror', 'married', 'isaiah', 'elizabeth', 'darby', 'davis', 'brittany', 'zaken', 'couple', 'benjamin', 'charlotte', 'shakur', 'tolliver', 'yvonne', 'jessica', 'pruitt', 'isaiah', 'informing', 'wife', 'benjamin', 'slaves', 'freed', 'death', 'elizabeth', 'reneges', 'pledge', 'encouraged', 'brother', 'john', 'marcus', 'jones', 'widow', 'eventually', 'marries', 'isaiah', 'brother', 'david', 'jahsiah', 'rivera', 'forcing', 'benjamin', 'sexually', 'service', 'life', 'remains', 'peachy', 'dominant', 'equation', 'elizabeth', 'birth', 'black', 'baby', 'par', 'bradshaw', 'soap', 'opera', 'plots', 'hinge', 'taboo', 'sexuality', 'depicted', 'matter', 'graphic', 'detachment', 'feel', 'farcical', 'intimacy', 'instance', 'featured', 'teenage', 'porn', 'star', 'realistic', 'ejaculation', 'characters', 'burning', 'included', 'incestuous', 'neo', 'nazi', 'siblings', 'canoodling', 'bathtub', 'bradshaw', 'incidentally', 'views', 'reality', 'hyper', 'reality', 'reality', 'southern', 'promises', 'displays', 'bradshaw', 'signature', 'dispassionate', 'mechanical', 'approach', 'notable', 'productions', 'dealing', 'slavery', 'suzan', 'lori', 'parks', 'white', 'noise', 'jeremy', 'harris', 'slave', 'play', 'blurs', 'deliberate', 'artlessness', 'accidental', 'ineptness', 'degree', 'hard', 'dialogue', 'meant', 'bland', 'clunky', 'read', 'jason', 'sherwood', 'set', 'sneaky', 'comment', 'writing', 'style', 'backdrop', 'black', 'white', 'photograph', 'plantation', 'facade', 'cantilevered', 'looms', 'playing', 'surface', 'depth', 'interior', 'shortchanging', 'bradshaw', 'rounded', 'characters', 'isn', 'complex', 'psychologizing', 'people', 'onstage', 'sense', 'david', 'instance', 'starts', 'decent', 'guy', 'free', 'isaiah', 'slaves', 'abruptly', 'explanation', 'violent', 'sleazeball', 'rivera', 'borderline', 'cartoonish', 'performance', 'actors', 'pulled', 'flea', 'house', 'company', 'bats', 'ill', 'equipped', 'handle', 'play', 'tricky', 'tone', 'bradshaw', 'flatness', 'free', 'judgment', 'characters', 'audience', 'easy', 'narrative', 'devices', 'theatergoers', 'distancing', 'mechanism', 'watching', 'benjamin', 'fantasizes', 'lording', 'slave', 'scene', 'plainly', 'moments', 'feel', 'impact', 'casting', 'forces', 'audience', 'reflect', 'issues', 'responsibility', 'power', 'bradshaw', 'circles', 'scene', 'drastically', 'changed', 'original', 'version', 'benjamin', 'managed', 'escape', 'plantation', 'mailed', 'philadelphia', 'box', 'happen', 'finale', 'bradshaw', 'twist', 'tale', 'idea', 'happy', 'raise', 'eyebrows', 'southern', 'promises', 'april', 'flea', 'theater', 'manhattan', 'theflea', 'org', 'running', 'time', 'hour', 'minutes'], ['university', 'georgia', 'students', 'expelled', 'fraternity', 'saturday', 'video', 'surfaced', 'students', 'mock', 'whipping', 'motion', 'belt', 'shouted', 'pick', 'cotton', 'video', 'initially', 'posted', 'snapchat', 'reposted', 'twitter', 'white', 'students', 'bed', 'standing', 'student', 'covered', 'comforter', 'holds', 'belt', 'students', 'pick', 'cotton', 'responds', 'black', 'repeatedly', 'pick', 'cotton', 'whipping', 'motion', 'belt', 'student', 'wait', 'video', 'pick', 'cotton', 'racial', 'slur', 'students', 'start', 'laughing', 'video', 'university', 'georgia', 'condemned', 'video', 'racism', 'campus', 'university', 'athens', 'miles', 'east', 'atlanta', 'time', 'equivalent', 'students', 'percent', 'white', 'memo', 'gregory', 'roskopf', 'chief', 'risk', 'officer', 'fraternity', 'tau', 'kappa', 'epsilon', 'local', 'chapter', 'temporarily', 'suspended', 'news', 'release', 'fraternity', 'disgusted', 'appalled', 'angered', 'remarks', 'video', 'expelled', 'video', 'shot', 'setting', 'unconnected', 'fraternity', 'function', 'chapter', 'premises', 'statements', 'expulsion', 'students', 'fraternity', 'tau', 'kappa', 'epsilon', 'temporary', 'suspension', 'local', 'chapter', 'quell', 'concerns', 'black', 'students', 'unfathomable', 'stuff', 'school', 'learn', 'attend', 'obinna', 'ibebunjo', 'senior', 'extremely', 'outraged', 'offended', 'ignorance', 'modern', 'day', 'college', 'campus', 'ibebunjo', 'omega', 'psi', 'phi', 'fraternity', 'historically', 'black', 'fraternity', 'suspended', 'fraternity', 'reprimanded', 'school', 'slap', 'wrist', 'colleges', 'moving', 'liberal', 'progressive', 'record', 'post', 'extremely', 'ridiculous', 'ibebunjo', 'hard', 'change', 'culture', 'campus', 'student', 'halls', 'named', 'slave', 'owners', 'richard', 'brevard', 'russell', 'junior', 'hall', 'named', 'slave', 'owner', 'ibebunjo', 'pretty', 'outspoken', 'leader', 'civil', 'rights', 'movement', 'underlined', 'messages', 'uga', 'black', 'students', 'raise', 'awareness', 'create', 'inclusive', 'campus']]\n"
     ]
    }
   ],
   "source": [
    "test_set['content'] = test_set['content'].astype(str)\n",
    "sents = test_set['content']\n",
    "text_words=[cleanlines(sent,remove_stopwords=True) for sent in sents]\n",
    "print(text_words[:5])"
   ]
  },
  {
   "cell_type": "code",
   "execution_count": 81,
   "metadata": {},
   "outputs": [
    {
     "name": "stdout",
     "output_type": "stream",
     "text": [
      "[['inspiring', 'women', 'center', 'stage', 'women', 'war', 'peace', 'ii', 'intruder', 'upends', 'couple', 'life', 'salesman'], ['europe', 'prey', 'power'], ['netanyahu', 'cuts', 'short', 'trip', 'gaza', 'rocket', 'strikes', 'tel', 'aviv'], ['scratching', 'surface', 'slavery'], ['pick', 'cotton', 'video', 'mock', 'whipping', 'prompts', 'fraternity', 'expel', 'students']]\n"
     ]
    }
   ],
   "source": [
    "test_set['title'] = test_set['title'].astype(str)\n",
    "sents = test_set['title']\n",
    "title_words=[cleanlines(sent,remove_stopwords=True) for sent in sents]\n",
    "print(title_words[:5])"
   ]
  },
  {
   "cell_type": "code",
   "execution_count": 86,
   "metadata": {},
   "outputs": [],
   "source": [
    "def concat_text(text_words,title_words):\n",
    "    concat_text = []\n",
    "    for i in range(len(text_words)):\n",
    "        temp = text_words[i]+title_words[i]\n",
    "        concat_text.append(temp)\n",
    "    return concat_text\n",
    "concat_text = concat_text(text_words,title_words)"
   ]
  },
  {
   "cell_type": "code",
   "execution_count": 87,
   "metadata": {},
   "outputs": [],
   "source": [
    "X = get_pad_text(concat_text,word_to_id,max_length=sequence_length)"
   ]
  },
  {
   "cell_type": "code",
   "execution_count": 88,
   "metadata": {},
   "outputs": [],
   "source": [
    "y = np.array(test_set['label'])\n"
   ]
  },
  {
   "cell_type": "code",
   "execution_count": 89,
   "metadata": {},
   "outputs": [],
   "source": [
    "pred_y = model.predict(X)"
   ]
  },
  {
   "cell_type": "code",
   "execution_count": 92,
   "metadata": {},
   "outputs": [],
   "source": [
    "def Chang_(pred):\n",
    "    results = []\n",
    "    for i in range(len(pred)):\n",
    "        if pred[i]>0.5:\n",
    "            temp = 1\n",
    "            results.append(temp)\n",
    "        else:\n",
    "            temp = 0\n",
    "            results.append(temp)\n",
    "    return results\n",
    "        \n",
    "results = Chang_(pred_y)"
   ]
  },
  {
   "cell_type": "code",
   "execution_count": 93,
   "metadata": {},
   "outputs": [
    {
     "name": "stdout",
     "output_type": "stream",
     "text": [
      "[[203 225]\n",
      " [  0  11]]\n"
     ]
    }
   ],
   "source": [
    "con_matrix = confusion_matrix(results, y,labels=[0,1])  # 生成混淆矩阵\n",
    "print(con_matrix)"
   ]
  },
  {
   "cell_type": "code",
   "execution_count": 96,
   "metadata": {},
   "outputs": [
    {
     "name": "stdout",
     "output_type": "stream",
     "text": [
      "precision: 1.0\n",
      "recall: 0.046610169491525424\n",
      "f1: 0.08906882591093117\n"
     ]
    }
   ],
   "source": [
    "print('precision:',precision_score(y, results))\n",
    "print('recall:',recall_score(y, results))\n",
    "print('f1:',f1_score(y, results))"
   ]
  },
  {
   "cell_type": "code",
   "execution_count": null,
   "metadata": {},
   "outputs": [],
   "source": []
  }
 ],
 "metadata": {
  "kernelspec": {
   "display_name": "Python 3",
   "language": "python",
   "name": "python3"
  },
  "language_info": {
   "codemirror_mode": {
    "name": "ipython",
    "version": 3
   },
   "file_extension": ".py",
   "mimetype": "text/x-python",
   "name": "python",
   "nbconvert_exporter": "python",
   "pygments_lexer": "ipython3",
   "version": "3.6.8"
  }
 },
 "nbformat": 4,
 "nbformat_minor": 2
}
