{
 "cells": [
  {
   "cell_type": "code",
   "execution_count": 42,
   "metadata": {},
   "outputs": [],
   "source": [
    "import  pandas as pd\n",
    "import numpy as np\n",
    "import tensorflow as tf\n",
    "import re\n",
    "import keras as kr\n",
    "from keras.models import Model\n",
    "from collections import Counter\n",
    "from tensorflow.contrib import learn\n",
    "from keras.preprocessing import sequence\n",
    "from keras.layers.embeddings import Embedding\n",
    "from keras.models import Sequential\n",
    "from keras.layers import Convolution2D, MaxPooling2D,Input, concatenate\n",
    "from keras.layers import Dense, Dropout, Activation, Flatten, Reshape\n",
    "import nltk"
   ]
  },
  {
   "cell_type": "code",
   "execution_count": 43,
   "metadata": {},
   "outputs": [
    {
     "name": "stdout",
     "output_type": "stream",
     "text": [
      "(16251, 3)\n"
     ]
    },
    {
     "data": {
      "text/html": [
       "<div>\n",
       "<style scoped>\n",
       "    .dataframe tbody tr th:only-of-type {\n",
       "        vertical-align: middle;\n",
       "    }\n",
       "\n",
       "    .dataframe tbody tr th {\n",
       "        vertical-align: top;\n",
       "    }\n",
       "\n",
       "    .dataframe thead th {\n",
       "        text-align: right;\n",
       "    }\n",
       "</style>\n",
       "<table border=\"1\" class=\"dataframe\">\n",
       "  <thead>\n",
       "    <tr style=\"text-align: right;\">\n",
       "      <th></th>\n",
       "      <th>text</th>\n",
       "      <th>title</th>\n",
       "      <th>type</th>\n",
       "    </tr>\n",
       "  </thead>\n",
       "  <tbody>\n",
       "    <tr>\n",
       "      <th>0</th>\n",
       "      <td>They stood in line at Trump Tower, sometimes u...</td>\n",
       "      <td>At Donald Trump&lt;U+2019&gt;s Properties, a Showcas...</td>\n",
       "      <td>1</td>\n",
       "    </tr>\n",
       "    <tr>\n",
       "      <th>1</th>\n",
       "      <td>Donald J. Trump &lt;U+2019&gt;s foundation informed ...</td>\n",
       "      <td>Trump Foundation Tells New York It Has Stopped...</td>\n",
       "      <td>1</td>\n",
       "    </tr>\n",
       "    <tr>\n",
       "      <th>2</th>\n",
       "      <td>President-elect Donald J. Trump won the White ...</td>\n",
       "      <td>Donald Trump Prepares for White House Move, bu...</td>\n",
       "      <td>1</td>\n",
       "    </tr>\n",
       "    <tr>\n",
       "      <th>3</th>\n",
       "      <td>An investment pitch for a new Texas hotel is t...</td>\n",
       "      <td>Luring Chinese Investors With Trump&lt;U+2019&gt;s N...</td>\n",
       "      <td>1</td>\n",
       "    </tr>\n",
       "    <tr>\n",
       "      <th>4</th>\n",
       "      <td>President-elect Donald J. Trump &lt;U+2019&gt;s wife...</td>\n",
       "      <td>Melania and Barron Trump Won&lt;U+2019&gt;t Immediat...</td>\n",
       "      <td>1</td>\n",
       "    </tr>\n",
       "  </tbody>\n",
       "</table>\n",
       "</div>"
      ],
      "text/plain": [
       "                                                text  \\\n",
       "0  They stood in line at Trump Tower, sometimes u...   \n",
       "1  Donald J. Trump <U+2019>s foundation informed ...   \n",
       "2  President-elect Donald J. Trump won the White ...   \n",
       "3  An investment pitch for a new Texas hotel is t...   \n",
       "4  President-elect Donald J. Trump <U+2019>s wife...   \n",
       "\n",
       "                                               title  type  \n",
       "0  At Donald Trump<U+2019>s Properties, a Showcas...     1  \n",
       "1  Trump Foundation Tells New York It Has Stopped...     1  \n",
       "2  Donald Trump Prepares for White House Move, bu...     1  \n",
       "3  Luring Chinese Investors With Trump<U+2019>s N...     1  \n",
       "4  Melania and Barron Trump Won<U+2019>t Immediat...     1  "
      ]
     },
     "execution_count": 43,
     "metadata": {},
     "output_type": "execute_result"
    }
   ],
   "source": [
    "#读取数据\n",
    "dir_1 = r'all_data_new_1.csv'\n",
    "\n",
    "df = pd.read_csv(dir_1)\n",
    "print(df.shape)\n",
    "df.head()"
   ]
  },
  {
   "cell_type": "code",
   "execution_count": 44,
   "metadata": {},
   "outputs": [
    {
     "data": {
      "text/plain": [
       "array([1, 0])"
      ]
     },
     "execution_count": 44,
     "metadata": {},
     "output_type": "execute_result"
    }
   ],
   "source": [
    "df['type'].unique()"
   ]
  },
  {
   "cell_type": "code",
   "execution_count": 45,
   "metadata": {},
   "outputs": [
    {
     "name": "stdout",
     "output_type": "stream",
     "text": [
      "0    1\n",
      "1    1\n",
      "2    1\n",
      "3    1\n",
      "4    1\n",
      "Name: type, dtype: int64\n"
     ]
    }
   ],
   "source": [
    "#转换数据类型\n",
    "df['type'] = df['type'].astype(int)\n",
    "print(df['type'][:5])"
   ]
  },
  {
   "cell_type": "code",
   "execution_count": 63,
   "metadata": {},
   "outputs": [
    {
     "data": {
      "text/plain": [
       "'Donald J. Trump <U+2019>s foundation informed Attorney General Eric T. Schneiderman of New York that it has ceased soliciting donations in the state, after a recent order to halt such fund-raising efforts, a spokesman for the attorney general<U+2019>s office said on Monday. The charity, the Donald J. Trump Foundation, also requested and was granted an extension for filing its financial paperwork, including audits, said Eric Soufer, the spokesman. The developments come about two weeks after the attorney general<U+2019>s office ordered the foundation to stop soliciting charitable contributions in the state of New York, saying that the nonprofit was not properly registered to do so under state law. A <U+201C>notice of violation<U+201D> letter sent to the foundation on Sept. 30 required it to submit financial documents within 15 days, or <U+201C>be deemed to be a continuing fraud upon the people of the state of New York.<U+201D> The foundation has become a source of controversy during Mr. Trump<U+2019>s presidential campaign amid reports about questionable expenditures, doubts about whether he followed through on charitable pledges and his own lack of financial support for the charity. <U+201C>The Trump Foundation is cooperating with the office of the N.Y. A.G. in its investigation of the foundation and, given the scope of the N.Y. A.G.<U+2019>s requests, is working with the N.Y. A.G. to respond in a reasonable and timely manner,<U+201D> said Hope Hicks, a spokeswoman for Mr. Trump<U+2019>s campaign. Mr. Trump<U+2019>s campaign has dismissed the criticism of the foundation, saying he has provided ample support to worthy causes over the years, both through the charity and directly. Ms. Hicks has previously said he is concerned about the <U+201C>political motives<U+201D> behind the attorney general<U+2019>s investigation. Mr. Schneiderman, a Democrat and supporter of Mrs. Clinton, has tangled with Mr. Trump over other matters, including his high-profile lawsuit alleging that students were defrauded out of thousands of dollars at Mr. Trump<U+2019>s for-profit education program, Trump University. Find out what you need to know about the 2016 presidential race today, and get politics news updates via Facebook , Twitter and the First Draft newsletter .'"
      ]
     },
     "execution_count": 63,
     "metadata": {},
     "output_type": "execute_result"
    }
   ],
   "source": [
    "df['text'][1]"
   ]
  },
  {
   "cell_type": "markdown",
   "metadata": {},
   "source": [
    "**data preprocessing**"
   ]
  },
  {
   "cell_type": "code",
   "execution_count": 47,
   "metadata": {},
   "outputs": [],
   "source": [
    "#去除标点等无用的符号以及停用词\n",
    "def cleanlines(line,remove_stopwords=False):   \n",
    "    p1=re.compile(r'-\\{.*?(zh-hans|zh-cn):([^;]*?)(;.*?)?\\}-')\n",
    "    p2=re.compile(r'[(][: @ . , ？！\\s][)]')\n",
    "    p3=re.compile(r'[「『]')\n",
    "    p4=re.compile(r'[\\s+\\.\\!\\/_,$%^*(+\\\"\\')]+|[+——()?【】“”！，。？、~@#￥%……&*（）0-9 , : ; \\-\\ \\[\\ \\]\\ ]')\n",
    "    p5=re.compile(r'[^a-zA-Z]')\n",
    "    line=p1.sub(r' ',line)\n",
    "    line=p2.sub(r' ',line)\n",
    "    line=p3.sub(r' ',line)\n",
    "    line=p4.sub(r' ',line)\n",
    "    line=p5.sub(r' ',line)\n",
    "    words = line.lower().split()\n",
    "    if remove_stopwords:\n",
    "        words = [w for w in words if w not in eng_stopwords]\n",
    "    return words"
   ]
  },
  {
   "cell_type": "code",
   "execution_count": 48,
   "metadata": {},
   "outputs": [
    {
     "data": {
      "text/plain": [
       "[\"'d\", \"'ll\", \"'m\", \"'re\", \"'s\"]"
      ]
     },
     "execution_count": 48,
     "metadata": {},
     "output_type": "execute_result"
    }
   ],
   "source": [
    "#添加停用词表\n",
    "eng_stopwords = [line.rstrip() for line in open('stop_words.txt')]\n",
    "eng_stopwords[:5]"
   ]
  },
  {
   "cell_type": "code",
   "execution_count": 49,
   "metadata": {},
   "outputs": [],
   "source": [
    "#处理内容文本\n",
    "df['text'] = df['text'].astype(str)\n",
    "sents = df['text']\n",
    "text_words=[cleanlines(sent,remove_stopwords=True) for sent in sents]"
   ]
  },
  {
   "cell_type": "code",
   "execution_count": 50,
   "metadata": {},
   "outputs": [
    {
     "name": "stdout",
     "output_type": "stream",
     "text": [
      "[['stood', 'trump', 'tower', 'half', 'hour', 'handing', 'cash', 'mementos', 'president', 'elect', 'mini', 'gold', 'wrapped', 'chocolate', 'bricks', 'stamped', 'trump', 'trump', 'monogrammed', 'sweaters', 'towels', 'glassware', 'trump', 'cologne', 'bought', 'sons', 'shanon', 'loggins', 'lufkin', 'tex', 'golden', 'shopping', 'bag', 'embossed', 'trump', 'crest', 'carried', 'bottles', 'success', 'trump', 'fragrance', 'successful', 'explained', 'business', 'donald', 'trump', 'people', 'flocking', 'midtown', 'manhattan', 'skyscraper', 'dining', 'restaurants', 'buying', 'wares', 'reporters', 'fastidiously', 'chronicling', 'comings', 'goings', 'transition', 'team', 'branded', 'properties', 'providing', 'backdrop', 'television', 'live', 'shots', 'trump', 'staid', 'task', 'preparing', 'assume', 'presidency', 'exercise', 'conspicuous', 'promotion', 'carefully', 'choreographed', 'branding', 'president', 'elect', 'vast', 'real', 'estate', 'holdings', 'raising', 'questions', 'exploiting', 'profile', 'stature', 'office', 'conduct', 'promotional', 'tour', 'trump', 'organization', 'venues', 'picked', 'conduct', 'official', 'transition', 'planning', 'attest', 'success', 'real', 'estate', 'developer', 'trump', 'tower', 'manhattan', 'skyscraper', 'lives', 'amid', 'trump', 'themed', 'eateries', 'boutiques', 'mar', 'lago', 'upscale', 'private', 'palm', 'beach', 'fla', 'club', 'chosen', 'hold', 'meetings', 'thanksgiving', 'trump', 'national', 'golf', 'club', 'bedminster', 'trump', 'bedminster', 'setting', 'told', 'aides', 'images', 'receiving', 'potential', 'cabinet', 'appointees', 'front', 'door', 'clubhouse', 'resembled', 'street', 'london', 'planning', 'future', 'transition', 'meetings', 'trump', 'team', 'properties', 'fit', 'desire', 'rich', 'regal', 'symbolism', 'stinks', 'norman', 'eisen', 'chief', 'white', 'house', 'ethics', 'lawyer', 'president', 'obama', 'specific', 'law', 'prohibiting', 'public', 'officeholders', 'financially', 'beneficial', 'promotion', 'trump', 'illegal', 'eisen', 'doesn', 'parcel', 'unsavory', 'marketing', 'brands', 'campaign', 'unsavory', 'stagecraft', 'spectacle', 'trump', 'directed', 'floor', 'office', 'trump', 'tower', 'ravenously', 'consumed', 'news', 'media', 'loyal', 'followers', 'days', 'trump', 'president', 'elect', 'lobby', 'trump', 'tower', 'public', 'staging', 'aspects', 'transition', 'trump', 'people', 'potential', 'cabinet', 'appointees', 'march', 'buffed', 'marble', 'floors', 'cameras', 'stream', 'scene', 'live', 'span', 'gold', 'mirrored', 'elevators', 'week', 'people', 'gov', 'mary', 'fallin', 'oklahoma', 'rick', 'perry', 'texas', 'governor', 'disparaged', 'trump', 'cancer', 'conservatism', 'battling', 'republican', 'nomination', 'trump', 'staff', 'devised', 'proper', 'greeting', 'protocol', 'arriving', 'guests', 'perry', 'lobby', 'monday', 'woman', 'looped', 'arm', 'escorted', 'cameras', 'woman', 'hand', 'weekend', 'accompany', 'visiting', 'guests', 'trump', 'moved', 'meetings', 'bedminster', 'golf', 'club', 'display', 'munificence', 'trump', 'cameras', 'embrace', 'mitt', 'romney', 'months', 'ago', 'condemned', 'trump', 'phony', 'fraud', 'leading', 'candidate', 'secretary', 'ethnically', 'diverse', 'potential', 'cabinet', 'candidates', 'shannon', 'african', 'american', 'speaker', 'oklahoma', 'house', 'michelle', 'rhee', 'schools', 'chancellor', 'washington', 'asian', 'american', 'trump', 'interviewing', 'banter', 'news', 'media', 'tremendous', 'talent', 'tremendous', 'talent', 'trump', 'saturday', 'people', 'america', 'people', 'talented', 'people', 'cameras', 'rolled', 'weekend', 'bedminster', 'temperatures', 'dropped', 'sharply', 'sending', 'journalists', 'gift', 'shop', 'cold', 'weather', 'attire', 'winter', 'hat', 'trump', 'embroidered', 'market', 'stamped', 'trump', 'bustling', 'gift', 'kiosk', 'lower', 'level', 'trump', 'tower', 'trump', 'ice', 'cream', 'parlor', 'trump', 'grill', 'prix', 'fixe', 'lunch', 'monday', 'morning', 'dozen', 'people', 'deep', 'cashiers', 'civic', 'diligence', 'purchasing', 'trump', 'campaign', 'gear', 'america', 'hats', 'american', 'citizens', 'law', 'prohibits', 'foreigners', 'money', 'campaigns', 'marilyn', 'bryan', 'terre', 'haute', 'ind', 'sitting', 'table', 'kiosk', 'daughter', 'trisha', 'ms', 'bryan', 'trump', 'rally', 'hometown', 'passed', 'knocked', 'broke', 'femur', 'trump', 'decided', 'visiting', 'york', 'week', 'tower', 'scene', 'spend', 'daughter', 'inside', 'shopping', 'bag', 'hat', 'golden', 'trump', 'chocolate', 'bars', 'trump', 'knickknacks', 'planned', 'relatives', 'chocolate', 'disappointed', 'learn', 'fort', 'wayne', 'ind', 'standing', 'nearby', 'paul', 'lea', 'foster', 'hidden', 'hills', 'calif', 'purchasing', 'hats', 'shirts', 'ms', 'foster', 'marveled', 'trump', 'ability', 'cash', 'figured', 'money', 'husband', 'nodded', 'businessman', 'promoter', 'foster', 'hope', 'country', 'michael', 'schmidt', 'contributed', 'reporting', 'politics', 'news', 'updates', 'facebook', 'twitter', 'morning', 'briefing', 'newsletter', 'version', 'article', 'appears', 'print', 'november', 'york', 'edition', 'headline', 'trump', 'properties', 'showcase', 'brand', 'president', 'elect', 'reprints', 'paper', 'subscribe'], ['donald', 'trump', 'foundation', 'informed', 'attorney', 'eric', 'schneiderman', 'york', 'ceased', 'soliciting', 'donations', 'halt', 'fund', 'raising', 'efforts', 'spokesman', 'attorney', 'office', 'monday', 'charity', 'donald', 'trump', 'foundation', 'requested', 'granted', 'extension', 'filing', 'financial', 'paperwork', 'including', 'audits', 'eric', 'soufer', 'spokesman', 'developments', 'weeks', 'attorney', 'office', 'foundation', 'soliciting', 'charitable', 'contributions', 'york', 'nonprofit', 'properly', 'registered', 'law', 'notice', 'violation', 'letter', 'foundation', 'sept', 'required', 'submit', 'financial', 'documents', 'days', 'deemed', 'continuing', 'fraud', 'people', 'york', 'foundation', 'source', 'controversy', 'trump', 'presidential', 'campaign', 'amid', 'reports', 'questionable', 'expenditures', 'doubts', 'charitable', 'pledges', 'lack', 'financial', 'support', 'charity', 'trump', 'foundation', 'cooperating', 'office', 'investigation', 'foundation', 'scope', 'requests', 'respond', 'reasonable', 'timely', 'manner', 'hope', 'hicks', 'spokeswoman', 'trump', 'campaign', 'trump', 'campaign', 'dismissed', 'criticism', 'foundation', 'provided', 'ample', 'support', 'worthy', 'charity', 'directly', 'ms', 'hicks', 'concerned', 'political', 'motives', 'attorney', 'investigation', 'schneiderman', 'democrat', 'supporter', 'clinton', 'tangled', 'trump', 'matters', 'including', 'profile', 'lawsuit', 'alleging', 'students', 'defrauded', 'thousands', 'dollars', 'trump', 'profit', 'education', 'program', 'trump', 'university', 'presidential', 'race', 'politics', 'news', 'updates', 'facebook', 'twitter', 'draft', 'newsletter'], ['president', 'elect', 'donald', 'trump', 'won', 'white', 'house', 'outsider', 'populist', 'promise', 'drain', 'swamp', 'washington', 'prepares', 'assume', 'presidency', 'question', 'remains', 'capital', 'repeatedly', 'spurned', 'trump', 'homebody', 'flew', 'hours', 'late', 'night', 'campaign', 'wake', 'bed', 'trump', 'tower', 'talking', 'advisers', 'nights', 'week', 'spend', 'white', 'house', 'told', 'spending', 'time', 'york', 'future', 'lady', 'melania', 'trump', 'expects', 'move', 'washington', 'couple', 'son', 'barron', 'midway', 'school', 'york', 'unclear', 'move', 'happen', 'questions', 'reflect', 'trump', 'advisers', 'president', 'elect', 'coming', 'grips', 'life', 'change', 'radically', 'trump', 'shocked', 'won', 'election', 'spend', 'week', 'washington', 'congress', 'return', 'trump', 'tower', 'golf', 'bedminster', 'mar', 'lago', 'estate', 'palm', 'beach', 'weekends', 'hanging', 'familiar', 'presidents', 'elect', 'families', 'unusual', 'questions', 'michelle', 'obama', 'leave', 'chicago', 'move', 'white', 'house', 'disrupt', 'daughters', 'school', 'family', 'moved', 'day', 'inaugural', 'trump', 'advisers', 'hold', 'possibility', 'president', 'elect', 'spend', 'time', 'white', 'house', 'grows', 'overwhelmed', 'comfortable', 'job', 'trump', 'spent', 'decades', 'cosseted', 'trump', 'tower', 'apartment', 'floor', 'designated', 'elevator', 'takes', 'office', 'floor', 'wakes', 'clock', 'mornings', 'reads', 'york', 'post', 'york', 'times', 'handful', 'newspapers', 'tunes', 'morning', 'television', 'news', 'final', 'months', 'campaign', 'hang', 'apartment', 'joining', 'aides', 'office', 'trump', 'affection', 'penthouse', 'apartment', 'runs', 'deep', 'biographer', 'michael', 'antonio', 'learned', 'trump', 'invited', 'inside', 'story', 'unit', 'extended', 'interview', 'trump', 'reveled', 'recalling', 'challenges', 'required', 'design', 'build', 'apartment', 'decorated', 'karat', 'gold', 'marble', 'louis', 'xiv', 'style', 'simply', 'ambitious', 'undertaking', 'accomplished', 'tribute', 'image', 'trump', 'time', 'antonio', 'apartment', 'complex', 'unit', 'building', 'unit', 'columns', 'carvings', 'building', 'unit', 'harder', 'building', 'building', 'meeting', 'president', 'obama', 'thursday', 'touring', 'white', 'house', 'trump', 'people', 'briefed', 'thinking', 'building', 'marveled', 'neoclassical', 'architecture', 'history', 'returning', 'trump', 'tower', 'white', 'house', 'trump', 'embrace', 'familiar', 'aides', 'expressed', 'continuing', 'hold', 'rallies', 'staple', 'candidacy', 'likes', 'instant', 'gratification', 'adulation', 'cheering', 'crowds', 'provide', 'aides', 'discussing', 'accommodate', 'demand', 'trump', 'discovered', 'rallies', 'tremendous', 'opportunities', 'message', 'christopher', 'ruddy', 'chief', 'executive', 'newsmax', 'media', 'conservative', 'website', 'sort', 'fashioned', 'meet', 'people', 'press', 'flesh', 'trump', 'finding', 'twitter', 'familiar', 'comfort', 'unclear', 'president', 'wholly', 'control', 'twitter', 'account', 'white', 'house', 'unorthodox', 'true', 'fall', 'habit', 'follow', 'precedent', 'mike', 'duhaime', 'adviser', 'gov', 'chris', 'christie', 'jersey', 'supported', 'trump', 'shortly', 'white', 'house', 'bid', 'stepped', 'head', 'president', 'elect', 'transition', 'team', 'friday', 'trump', 'aides', 'agree', 'restrict', 'twitter', 'waning', 'days', 'campaign', 'thursday', 'day', 'president', 'elect', 'trump', 'posted', 'twitter', 'missive', 'message', 'complaining', 'professional', 'protesters', 'incited', 'media', 'protesting', 'unfair', 'wrote', 'trump', 'checked', 'offered', 'unifying', 'message', 'love', 'protesters', 'night', 'passion', 'country', 'trump', 'remains', 'trump', 'tower', 'receiving', 'congratulations', 'thanking', 'stayed', 'venting', 'associates', 'lingering', 'grievances', 'news', 'media', 'coverage', 'campaign', 'stayed', 'touch', 'reporters', 'fox', 'news', 'checking', 'ratings', 'months', 'polling', 'people', 'top', 'jobs', 'constant', 'cadre', 'aides', 'advisers', 'signed', 'campaign', 'shot', 'days', 'jobs', 'administration', 'told', 'campaign', 'staff', 'care', 'operation', 'government', 'natural', 'people', 'stuck', 'thick', 'thin', 'duhaime', 'politics', 'washington', 'news', 'updates', 'facebook', 'twitter', 'morning', 'briefing', 'newsletter', 'version', 'article', 'appears', 'print', 'november', 'york', 'edition', 'headline', 'preparing', 'white', 'house', 'move', 'trump', 'tower', 'beckon', 'reprints', 'paper', 'subscribe'], ['investment', 'pitch', 'texas', 'hotel', 'lure', 'heeled', 'chinese', 'invoking', 'donald', 'trump', 'promising', 'visas', 'united', 'deal', 'promotes', 'excellent', 'location', 'austin', 'mirabeau', 'trump', 'hotel', 'involvement', 'leading', 'developer', 'trump', 'organization', 'review', 'york', 'times', 'pitch', 'details', 'connection', 'trump', 'firm', 'difficult', 'establish', 'trump', 'organization', 'hasn', 'signed', 'build', 'austin', 'hotel', 'company', 'named', 'pitch', 'trump', 'partner', 'personal', 'bankruptcy', 'filing', 'chief', 'executive', 'records', 'project', 'slated', 'site', 'moment', 'brick', 'oven', 'pizzeria', 'trump', 'organization', 'campaign', 'effort', 'clarify', 'relationship', 'proposal', 'outright', 'denied', 'company', 'permission', 'brand', 'growth', 'strategy', 'expand', 'trump', 'hotels', 'portfolio', 'strategically', 'properties', 'key', 'international', 'locations', 'spokeswoman', 'trump', 'hotels', 'jennifer', 'rodstrom', 'confirmed', 'deals', 'investments', 'austin', 'remain', 'market', 'brand', 'management', 'standpoint', 'directly', 'times', 'involved', 'austin', 'investment', 'pitch', 'trump', 'organization', 'trump', 'campaign', 'responded', 'pitch', 'chinese', 'investors', 'authorized', 'trump', 'company', 'highlights', 'potential', 'troubles', 'controversial', 'american', 'visa', 'initiative', 'called', 'eb', 'program', 'marketing', 'effort', 'reported', 'wall', 'street', 'journal', 'overseas', 'investors', 'real', 'estate', 'project', 'hotel', 'secure', 'american', 'visas', 'money', 'intended', 'revive', 'economically', 'downtrodden', 'country', 'american', 'lawmakers', 'renewing', 'eb', 'program', 'hot', 'button', 'issue', 'government', 'program', 'essentially', 'offers', 'green', 'cards', 'money', 'program', 'marred', 'doubts', 'produces', 'desired', 'economic', 'regulators', 'swindle', 'overseas', 'investors', 'california', 'couple', 'raised', 'chinese', 'investors', 'eb', 'program', 'cancer', 'treatment', 'centers', 'built', 'american', 'regulators', 'california', 'residents', 'raised', 'chinese', 'money', 'build', 'nursing', 'care', 'facilities', 'investor', 'funds', 'personal', 'investors', 'foreign', 'nationals', 'duped', 'left', 'dry', 'senator', 'charles', 'grassley', 'republican', 'iowa', 'february', 'hearing', 'program', 'government', 'officials', 'intensify', 'scrutiny', 'eb', 'applications', 'china', 'individual', 'vetting', 'left', 'investors', 'businesses', 'advise', 'potential', 'eb', 'programs', 'haven', 'officially', 'started', 'promoting', 'project', 'process', 'investigating', 'worried', 'dong', 'xiaolin', 'head', 'dacheng', 'education', 'company', 'china', 'northern', 'province', 'hebei', 'helps', 'students', 'schools', 'abroad', 'process', 'involve', 'navigate', 'visa', 'options', 'ms', 'dong', 'planned', 'travel', 'austin', 'evaluate', 'concerned', 'heard', 'details', 'united', 'country', 'rule', 'law', 'rigorous', 'terms', 'ms', 'dong', 'days', 'job', 'posting', 'website', 'beijinger', 'english', 'language', 'beijing', 'magazine', 'white', 'american', 'eb', 'center', 'raise', 'funds', 'trump', 'hotel', 'austin', 'chinese', 'people', 'caucasian', 'person', 'front', 'project', 'air', 'prestige', 'veneer', 'credibility', 'rise', 'rent', 'white', 'businesses', 'wealthy', 'chinese', 'green', 'card', 'ticket', 'country', 'struggling', 'heavy', 'air', 'pollution', 'rigid', 'education', 'system', 'increasingly', 'authoritarian', 'political', 'environment', 'sweeping', 'anti', 'corruption', 'campaign', 'chinese', 'president', 'xi', 'jinping', 'rattled', 'rich', 'businessmen', 'women', 'prompting', 'send', 'money', 'abroad', 'eb', 'program', 'provided', 'path', 'wealthy', 'chinese', 'chinese', 'investors', 'account', 'piece', 'program', 'participants', 'presidential', 'candidate', 'critical', 'views', 'china', 'immigration', 'trump', 'linked', 'project', 'tapped', 'eb', 'money', 'country', 'march', 'bloomberg', 'article', 'trump', 'branded', 'building', 'jersey', 'city', 'bloomberg', 'raised', 'quarter', 'coming', 'eb', 'program', 'proposed', 'story', 'mirabeau', 'trump', 'hotel', 'glance', 'credibility', 'eb', 'fund', 'raising', 'document', 'hotel', 'address', 'blocks', 'texas', 'capitol', 'building', 'offer', 'business', 'travelers', 'vacationers', 'hoping', 'hit', 'austin', 'sixth', 'street', 'party', 'district', 'pitch', 'explains', 'hotel', 'bear', 'trump', 'operated', 'firm', 'investment', 'effort', 'materials', 'led', 'kevin', 'rogers', 'eb', 'fund', 'raiser', 'dallas', 'pitch', 'cites', 'projects', 'dallas', 'call', 'center', 'houston', 'apartment', 'complex', 'international', 'house', 'pancakes', 'restaurant', 'pitch', 'rogers', 'posing', 'george', 'bush', 'president', 'letter', 'included', 'pitch', 'rogers', 'writes', 'forward', 'meeting', 'helping', 'realize', 'dreams', 'red', 'flags', 'tenuous', 'trump', 'connection', 'document', 'developers', 'seeking', 'funding', 'eb', 'investors', 'construction', 'fourth', 'quarter', 'austin', 'property', 'records', 'project', 'waterloo', 'park', 'tower', 'site', 'rogers', 'email', 'authorize', 'advertising', 'white', 'american', 'trump', 'project', 'respond', 'additional', 'emails', 'phone', 'calls', 'comment', 'project', 'management', 'raises', 'questions', 'document', 'rogers', 'raising', 'money', 'global', 'management', 'resources', 'developer', 'trump', 'organization', 'hotel', 'history', 'developing', 'hotels', 'built', 'sold', 'records', 'chief', 'brett', 'norwich', 'serial', 'entrepreneur', 'invests', 'real', 'estate', 'texas', 'september', 'norwich', 'filed', 'personal', 'bankruptcy', 'protection', 'chicago', 'listing', 'business', 'debt', 'filing', 'assets', 'projects', 'failed', 'projects', 'income', 'bankruptcy', 'filing', 'norwich', 'respond', 'multiple', 'requests', 'comment', 'video', 'youtube', 'website', 'rogers', 'firm', 'watched', 'fraud', 'played', 'rules', 'fraudsters', 'video', 'don', 'developer', 'defraud', 'wild', 'crazy', 'eb', 'fund', 'raiser', 'doesn', 'diligence', 'won', 'fails', 'nelson', 'schwartz', 'reported', 'york', 'sui', 'lee', 'wee', 'beijing', 'zhang', 'tiantian', 'contributed', 'article', 'updated', 'based', 'reporting', 'version', 'article', 'appears', 'print', 'october', 'york', 'edition', 'headline', 'luring', 'chinese', 'investors', 'trump', 'reprints', 'paper', 'subscribe'], ['president', 'elect', 'donald', 'trump', 'wife', 'melania', 'son', 'barron', 'move', 'white', 'house', 'trump', 'takes', 'office', 'january', 'concern', 'uprooting', 'barron', 'middle', 'school', 'transition', 'officials', 'sunday', 'ms', 'trump', 'barron', 'remain', 'york', 'months', 'officials', 'speaking', 'reporters', 'sunday', 'golf', 'bedminster', 'trump', 'join', 'finished', 'school', 'trump', 'move', 'white', 'house', 'family', 'remaining', 'trump', 'tower', 'likelihood', 'increase', 'trump', 'spend', 'week', 'york', 'jason', 'miller', 'spokesman', 'trump', 'official', 'statement', 'released', 'trump', 'family', 'transition', 'timing', 'parents', 'concerned', 'pulling', 'son', 'school', 'middle', 'miller', 'urged', 'privacy', 'security', 'considerations', 'previous', 'families', 'regard', 'minor', 'children', 'extended', 'trumps', 'york', 'times', 'reported', 'ms', 'trump', 'planning', 'move', 'white', 'house', 'eventually', 'concerned', 'disrupting', 'son', 'routine', 'york', 'post', 'reported', 'sunday', 'barron', 'join', 'husband', 'inauguration', 'enthusiasm', 'president', 'elect', 'displayed', 'campaign', 'trail', 'ms', 'trump', 'model', 'shared', 'join', 'husband', 'major', 'events', 'republican', 'national', 'convention', 'granted', 'interviews', 'main', 'caregiver', 'son', 'attends', 'private', 'school', 'manhattan', 'days', 'mother', 'concerned', 'potential', 'disruption', 'son', 'life', 'bringing', 'closer', 'news', 'media', 'spotlight', 'people', 'plans', 'revisit', 'issue', 'school', 'situation', 'michelle', 'obama', 'faced', 'husband', 'elected', 'obama', 'care', 'attention', 'campaign', 'remaining', 'chicago', 'daughters', 'ultimately', 'move', 'children', 'trump', 'aides', 'plans', 'move', 'white', 'house', 'time', 'told', 'aides', 'york', 'keeping', 'trump', 'tower', 'residence', 'incoming', 'president', 'family', 'create', 'security', 'logistical', 'hurdles', 'secret', 'service', 'police', 'department', 'tower', 'avenue', 'major', 'thoroughfare', 'version', 'article', 'appears', 'print', 'november', 'york', 'edition', 'headline', 'melania', 'barron', 'trump', 'won', 'move', 'white', 'house', 'officials', 'reprints', 'paper', 'subscribe']]\n"
     ]
    }
   ],
   "source": [
    "len(text_words)\n",
    "print(text_words[:5])"
   ]
  },
  {
   "cell_type": "code",
   "execution_count": 51,
   "metadata": {},
   "outputs": [],
   "source": [
    "#处理标题文本\n",
    "df['title'] = df['title'].astype(str)\n",
    "title_sents = df['title']\n",
    "title_words=[cleanlines(sent,remove_stopwords=True) for sent in title_sents]"
   ]
  },
  {
   "cell_type": "code",
   "execution_count": 52,
   "metadata": {},
   "outputs": [],
   "source": [
    "#讲内容和标题连接在一起\n",
    "def concat_text(text_words,title_words):\n",
    "    concat_text = []\n",
    "    for i in range(len(text_words)):\n",
    "        temp = text_words[i]+title_words[i]\n",
    "        concat_text.append(temp)\n",
    "    return concat_text\n",
    "\n",
    "concat_text = concat_text(text_words,title_words)\n",
    "        "
   ]
  },
  {
   "cell_type": "code",
   "execution_count": 53,
   "metadata": {},
   "outputs": [
    {
     "data": {
      "text/plain": [
       "16251"
      ]
     },
     "execution_count": 53,
     "metadata": {},
     "output_type": "execute_result"
    }
   ],
   "source": [
    "len(concat_text)"
   ]
  },
  {
   "cell_type": "code",
   "execution_count": null,
   "metadata": {},
   "outputs": [],
   "source": [
    "dict = {'a': 1, 'b': 2, 'b': '3'}"
   ]
  },
  {
   "cell_type": "code",
   "execution_count": null,
   "metadata": {},
   "outputs": [],
   "source": []
  },
  {
   "cell_type": "code",
   "execution_count": null,
   "metadata": {},
   "outputs": [],
   "source": []
  },
  {
   "cell_type": "markdown",
   "metadata": {},
   "source": [
    "*build dict*"
   ]
  },
  {
   "cell_type": "code",
   "execution_count": 14,
   "metadata": {},
   "outputs": [],
   "source": [
    "# set parameters:\n",
    "#字典大小\n",
    "vocab_size = 5000 #dict size\n",
    "batch_size = 200 #batch size for each training\n",
    "sequence_length = 300 #sequence length -same for every sample\n",
    "embedding_dims=128 #embed dim"
   ]
  },
  {
   "cell_type": "code",
   "execution_count": 54,
   "metadata": {},
   "outputs": [],
   "source": [
    "#build dic\n",
    "def build_vocab(content_list,vocab_size):\n",
    "    vocab_size = vocab_size\n",
    "    all_vocabs = []\n",
    "    for content in content_list:\n",
    "        all_vocabs.extend(list(content))\n",
    "    #{word:counts}\n",
    "    counter = Counter(all_vocabs)\n",
    "    #take the most common top 4999\n",
    "    count_pairs = counter.most_common(vocab_size - 1)  #return pairs\n",
    "    print(count_pairs)\n",
    "    words, _ = list(zip(*count_pairs))    #ignore the counts\n",
    "    words = ['<PAD>'] + list(words)  #防止样本数太小 填充为0 \n",
    "    word_to_id = dict(zip(words, range(len(words))))  #change pos to 编号 number\n",
    "    return words, word_to_id"
   ]
  },
  {
   "cell_type": "code",
   "execution_count": 55,
   "metadata": {},
   "outputs": [
    {
     "name": "stdout",
     "output_type": "stream",
     "text": [
      "[('trump', 68919), ('clinton', 43510), ('people', 25702), ('hillary', 21375), ('president', 20596), ('election', 20256), ('campaign', 17795), ('time', 15448), ('obama', 15423), ('donald', 13922), ('government', 12891), ('american', 12134), ('news', 11495), ('political', 10552), ('war', 10445), ('media', 9961), ('white', 9880), ('republican', 9824), ('russia', 9733), ('country', 9665), ('party', 9483), ('presidential', 9409), ('house', 9375), ('don', 9133), ('day', 8941), ('america', 8820), ('vote', 8398), ('voters', 8234), ('united', 7938), ('democratic', 7817), ('public', 7796), ('national', 7632), ('fbi', 7511), ('support', 7465), ('policy', 7269), ('percent', 7087), ('women', 6949), ('law', 6840), ('york', 6745), ('email', 6672), ('power', 6586), ('times', 6546), ('democrats', 6450), ('washington', 6406), ('told', 6348), ('emails', 6214), ('americans', 6163), ('called', 6125), ('russian', 6111), ('military', 6103), ('bill', 5979), ('republicans', 5885), ('federal', 5863), ('including', 5829), ('october', 5816), ('change', 5737), ('week', 5705), ('candidate', 5570), ('administration', 5515), ('system', 5490), ('foreign', 5441), ('money', 5413), ('life', 5343), ('syria', 5251), ('real', 5074), ('ve', 5007), ('november', 4947), ('days', 4908), ('security', 4903), ('won', 4863), ('economic', 4835), ('black', 4830), ('left', 4800), ('free', 4751), ('post', 4740), ('department', 4716), ('story', 4678), ('office', 4629), ('article', 4577), ('wsj', 4546), ('investigation', 4524), ('health', 4518), ('twitter', 4488), ('police', 4474), ('china', 4464), ('trade', 4461), ('top', 4421), ('win', 4400), ('secretary', 4385), ('john', 4342), ('officials', 4308), ('voting', 4293), ('report', 4292), ('video', 4284), ('control', 4237), ('debate', 4237), ('race', 4235), ('global', 4215), ('business', 4213), ('didn', 4213), ('city', 4186), ('politics', 4176), ('congress', 4115), ('facebook', 4069), ('tax', 4067), ('history', 4065), ('comey', 4060), ('north', 3940), ('major', 3938), ('market', 3935), ('anti', 3885), ('children', 3855), ('nominee', 3846), ('nation', 3841), ('family', 3776), ('senate', 3738), ('director', 3732), ('private', 3686), ('doesn', 3685), ('social', 3671), ('court', 3654), ('rights', 3649), ('force', 3611), ('gop', 3601), ('financial', 3599), ('lot', 3591), ('ms', 3576), ('international', 3569), ('deal', 3567), ('evidence', 3560), ('putin', 3551), ('economy', 3541), ('human', 3533), ('nuclear', 3524), ('wall', 3508), ('elect', 3506), ('supporters', 3497), ('based', 3493), ('source', 3490), ('ago', 3476), ('foundation', 3466), ('question', 3466), ('justice', 3459), ('victory', 3458), ('countries', 3448), ('call', 3396), ('reported', 3393), ('night', 3371), ('close', 3362), ('polls', 3339), ('share', 3331), ('wrote', 3306), ('street', 3300), ('month', 3287), ('company', 3286), ('team', 3275), ('wikileaks', 3268), ('matter', 3244), ('al', 3235), ('lead', 3200), ('person', 3191), ('wednesday', 3184), ('tuesday', 3179), ('chief', 3176), ('candidates', 3162), ('set', 3160), ('plan', 3154), ('ll', 3153), ('future', 3149), ('issues', 3146), ('continued', 3146), ('water', 3123), ('bank', 3120), ('months', 3100), ('continue', 3033), ('press', 3005), ('move', 2981), ('florida', 2976), ('committee', 2971), ('forces', 2969), ('comment', 2966), ('care', 2956), ('class', 2956), ('podesta', 2935), ('votes', 2928), ('leaders', 2921), ('energy', 2919), ('coming', 2916), ('gold', 2908), ('hard', 2885), ('issue', 2855), ('reports', 2844), ('elections', 2834), ('comments', 2827), ('companies', 2821), ('bush', 2815), ('friday', 2809), ('pay', 2793), ('earlier', 2792), ('university', 2790), ('live', 2789), ('read', 2779), ('data', 2777), ('statement', 2722), ('led', 2718), ('interview', 2716), ('defense', 2708), ('isn', 2703), ('process', 2702), ('attack', 2702), ('middle', 2691), ('reason', 2654), ('official', 2637), ('south', 2633), ('school', 2632), ('running', 2625), ('poll', 2621), ('billion', 2615), ('morning', 2614), ('job', 2613), ('term', 2609), ('woman', 2608), ('head', 2597), ('role', 2589), ('syrian', 2588), ('israel', 2587), ('presidency', 2586), ('leader', 2581), ('decision', 2577), ('majority', 2570), ('access', 2553), ('europe', 2551), ('policies', 2547), ('follow', 2542), ('weeks', 2523), ('talk', 2517), ('current', 2510), ('speech', 2504), ('elected', 2503), ('lost', 2501), ('truth', 2491), ('air', 2490), ('executive', 2489), ('western', 2480), ('iran', 2470), ('bad', 2465), ('start', 2464), ('write', 2446), ('true', 2443), ('result', 2443), ('ad', 2441), ('released', 2434), ('west', 2431), ('oil', 2431), ('politico', 2425), ('monday', 2424), ('center', 2424), ('pence', 2423), ('appears', 2419), ('local', 2409), ('college', 2409), ('george', 2406), ('iraq', 2398), ('millions', 2396), ('east', 2395), ('level', 2373), ('simply', 2370), ('intelligence', 2349), ('feel', 2343), ('central', 2342), ('jobs', 2338), ('growth', 2335), ('plans', 2335), ('meeting', 2333), ('personal', 2322), ('strong', 2321), ('barack', 2315), ('idea', 2309), ('published', 2308), ('lives', 2307), ('daily', 2303), ('late', 2296), ('potential', 2289), ('hope', 2287), ('sanders', 2279), ('michael', 2277), ('ryan', 2276), ('establishment', 2272), ('position', 2269), ('fight', 2269), ('voter', 2269), ('questions', 2267), ('food', 2247), ('half', 2246), ('action', 2239), ('reality', 2231), ('chairman', 2229), ('held', 2220), ('thursday', 2217), ('entire', 2195), ('watch', 2192), ('program', 2191), ('legal', 2188), ('service', 2187), ('isis', 2185), ('leave', 2180), ('democrat', 2179), ('james', 2178), ('crisis', 2168), ('sign', 2164), ('attacks', 2162), ('industry', 2158), ('death', 2138), ('community', 2133), ('weapons', 2124), ('thousands', 2115), ('european', 2115), ('investors', 2114), ('staff', 2108), ('paul', 2106), ('movement', 2104), ('message', 2101), ('markets', 2099), ('mind', 2097), ('low', 2094), ('conservative', 2092), ('key', 2092), ('record', 2080), ('spending', 2074), ('letter', 2072), ('nato', 2072), ('effort', 2070), ('dollar', 2064), ('corporate', 2057), ('electoral', 2044), ('hand', 2040), ('final', 2031), ('sunday', 2026), ('criminal', 2026), ('paper', 2024), ('view', 2024), ('saudi', 2018), ('nations', 2003), ('understand', 1997), ('expected', 1994), ('love', 1991), ('liberal', 1989), ('county', 1986), ('bring', 1983), ('civil', 1973), ('rate', 1972), ('posted', 1971), ('mainstream', 1971), ('transition', 1968), ('threat', 1968), ('short', 1960), ('wrong', 1955), ('secret', 1945), ('senior', 1944), ('rates', 1937), ('event', 1934), ('list', 1934), ('banks', 1931), ('book', 1930), ('union', 1923), ('violence', 1921), ('agency', 1920), ('increase', 1918), ('fear', 1918), ('rally', 1915), ('project', 1911), ('front', 1904), ('response', 1904), ('version', 1903), ('special', 1899), ('talking', 1898), ('democracy', 1896), ('body', 1893), ('september', 1891), ('hold', 1887), ('efforts', 1882), ('create', 1881), ('organization', 1876), ('immigration', 1873), ('god', 1873), ('thomas', 1873), ('vice', 1872), ('minister', 1865), ('army', 1857), ('paid', 1856), ('society', 1852), ('opinion', 1847), ('influence', 1846), ('claims', 1844), ('play', 1843), ('debt', 1840), ('sense', 1839), ('single', 1837), ('peace', 1836), ('happen', 1835), ('earth', 1832), ('attorney', 1830), ('standing', 1829), ('powerful', 1828), ('started', 1826), ('pro', 1826), ('server', 1824), ('common', 1819), ('decades', 1815), ('citizens', 1807), ('pipeline', 1807), ('study', 1806), ('illegal', 1804), ('voted', 1804), ('light', 1803), ('popular', 1802), ('rise', 1796), ('situation', 1794), ('david', 1794), ('workers', 1790), ('california', 1789), ('risk', 1787), ('stand', 1786), ('sen', 1785), ('pm', 1778), ('created', 1764), ('allies', 1764), ('sexual', 1763), ('climate', 1756), ('breaking', 1756), ('ground', 1750), ('nov', 1743), ('choice', 1743), ('hours', 1740), ('spent', 1740), ('leading', 1738), ('ahead', 1738), ('received', 1737), ('cnn', 1737), ('freedom', 1737), ('sources', 1736), ('land', 1734), ('mexico', 1732), ('announced', 1727), ('moment', 1723), ('biggest', 1722), ('senator', 1715), ('living', 1706), ('happened', 1704), ('wasn', 1696), ('tv', 1695), ('forward', 1693), ('income', 1691), ('population', 1686), ('chinese', 1683), ('fraud', 1682), ('friends', 1681), ('obamacare', 1673), ('deep', 1669), ('ukraine', 1667), ('journal', 1661), ('agreement', 1660), ('form', 1659), ('primary', 1657), ('involved', 1655), ('total', 1655), ('building', 1652), ('rules', 1651), ('muslim', 1647), ('killed', 1647), ('network', 1645), ('failed', 1644), ('investment', 1639), ('parties', 1639), ('massive', 1637), ('experience', 1634), ('agenda', 1634), ('calls', 1632), ('leadership', 1629), ('author', 1626), ('capital', 1623), ('account', 1622), ('relations', 1619), ('http', 1618), ('rule', 1617), ('mike', 1616), ('dollars', 1612), ('build', 1608), ('taxes', 1607), ('chance', 1606), ('attention', 1602), ('enforcement', 1600), ('border', 1588), ('price', 1585), ('print', 1583), ('hit', 1581), ('focus', 1581), ('heard', 1573), ('website', 1568), ('release', 1568), ('laws', 1567), ('aleppo', 1565), ('inside', 1562), ('events', 1562), ('photo', 1562), ('rest', 1561), ('ohio', 1559), ('region', 1559), ('carolina', 1557), ('oct', 1556), ('finally', 1554), ('speaking', 1552), ('claim', 1547), ('child', 1547), ('students', 1546), ('british', 1544), ('fox', 1542), ('site', 1540), ('corruption', 1539), ('congressional', 1538), ('note', 1533), ('dr', 1533), ('provide', 1532), ('protect', 1532), ('lower', 1530), ('calling', 1530), ('answer', 1529), ('brain', 1529), ('views', 1528), ('prices', 1527), ('gun', 1527), ('education', 1524), ('content', 1522), ('african', 1519), ('cost', 1519), ('july', 1513), ('ballot', 1510), ('independent', 1505), ('opposition', 1504), ('cut', 1502), ('conflict', 1498), ('regime', 1497), ('actions', 1495), ('fighting', 1494), ('fall', 1492), ('crime', 1491), ('largest', 1485), ('allowed', 1480), ('brought', 1477), ('appeared', 1472), ('takes', 1465), ('terms', 1463), ('firm', 1462), ('wife', 1462), ('review', 1460), ('headline', 1457), ('services', 1457), ('growing', 1456), ('game', 1456), ('clintons', 1451), ('supreme', 1449), ('council', 1448), ('editor', 1448), ('texas', 1444), ('helped', 1444), ('agents', 1441), ('bernie', 1441), ('weiner', 1441), ('mass', 1439), ('step', 1438), ('elite', 1437), ('strategy', 1432), ('immigrants', 1431), ('age', 1424), ('pennsylvania', 1423), ('difficult', 1422), ('conference', 1420), ('subscribe', 1419), ('fire', 1419), ('average', 1417), ('johnson', 1416), ('fund', 1414), ('return', 1414), ('documents', 1411), ('medical', 1409), ('image', 1408), ('turkey', 1408), ('worse', 1405), ('decided', 1401), ('wins', 1400), ('soros', 1398), ('concerns', 1397), ('dakota', 1397), ('politicians', 1394), ('directly', 1393), ('board', 1388), ('joshua', 1388), ('husband', 1378), ('huge', 1378), ('analysis', 1378), ('abedin', 1375), ('reporters', 1374), ('crimes', 1374), ('expect', 1369), ('online', 1367), ('previous', 1366), ('completely', 1366), ('text', 1366), ('wright', 1366), ('accused', 1363), ('word', 1362), ('polling', 1361), ('remain', 1360), ('islamic', 1359), ('red', 1358), ('fed', 1358), ('lose', 1354), ('development', 1352), ('drug', 1351), ('remains', 1349), ('mark', 1348), ('century', 1347), ('science', 1337), ('rigged', 1337), ('de', 1336), ('winning', 1333), ('governor', 1331), ('eastern', 1329), ('camp', 1329), ('internet', 1328), ('heart', 1328), ('wars', 1328), ('main', 1324), ('technology', 1324), ('address', 1323), ('pressure', 1323), ('rock', 1323), ('relationship', 1322), ('experts', 1319), ('series', 1318), ('opportunity', 1317), ('michigan', 1317), ('cast', 1317), ('natural', 1305), ('base', 1304), ('march', 1303), ('zeitz', 1301), ('demand', 1299), ('remember', 1299), ('saturday', 1296), ('dead', 1296), ('false', 1293), ('wouldn', 1292), ('officers', 1286), ('space', 1286), ('push', 1284), ('safe', 1284), ('star', 1284), ('revealed', 1282), ('labor', 1282), ('scher', 1282), ('stories', 1281), ('hands', 1281), ('stay', 1280), ('rep', 1275), ('speak', 1274), ('attempt', 1273), ('father', 1271), ('terrorists', 1269), ('propaganda', 1268), ('cia', 1264), ('ready', 1263), ('ability', 1261), ('period', 1260), ('dangerous', 1260), ('impact', 1259), ('charges', 1258), ('modern', 1258), ('prime', 1256), ('gov', 1254), ('operation', 1254), ('raise', 1253), ('jack', 1253), ('continues', 1248), ('loss', 1246), ('written', 1245), ('forced', 1244), ('click', 1244), ('armed', 1243), ('levels', 1242), ('assault', 1240), ('amount', 1240), ('supported', 1238), ('stage', 1236), ('raised', 1235), ('approach', 1235), ('buy', 1233), ('supporting', 1232), ('culture', 1232), ('considered', 1231), ('jewish', 1231), ('break', 1227), ('romney', 1226), ('professor', 1226), ('governments', 1226), ('phone', 1225), ('check', 1225), ('shot', 1224), ('officer', 1223), ('mosul', 1223), ('infrastructure', 1222), ('reach', 1220), ('district', 1219), ('kaine', 1215), ('suggested', 1214), ('arabia', 1212), ('son', 1210), ('surprise', 1210), ('pretty', 1210), ('changed', 1210), ('outcome', 1210), ('judge', 1209), ('link', 1206), ('germany', 1206), ('assad', 1205), ('trust', 1204), ('protest', 1202), ('august', 1202), ('planet', 1201), ('lack', 1200), ('currency', 1200), ('cash', 1199), ('green', 1199), ('direct', 1197), ('favor', 1197), ('exchange', 1197), ('classified', 1197), ('cover', 1196), ('percentage', 1196), ('stock', 1194), ('respect', 1192), ('families', 1187), ('individual', 1183), ('eu', 1183), ('hundreds', 1182), ('church', 1182), ('credit', 1182), ('lies', 1181), ('telling', 1179), ('provided', 1178), ('sex', 1178), ('cities', 1177), ('coverage', 1176), ('served', 1176), ('worth', 1174), ('hear', 1174), ('claimed', 1174), ('serve', 1172), ('details', 1171), ('send', 1171), ('avoid', 1171), ('terrorism', 1169), ('bit', 1165), ('agree', 1164), ('muslims', 1161), ('met', 1161), ('protesters', 1160), ('cancer', 1156), ('sea', 1154), ('minutes', 1150), ('included', 1147), ('concerned', 1146), ('terrorist', 1146), ('moscow', 1145), ('doubt', 1145), ('nature', 1143), ('infowars', 1143), ('positions', 1142), ('offer', 1141), ('field', 1139), ('blue', 1137), ('planned', 1135), ('constitution', 1134), ('gas', 1134), ('increased', 1133), ('operations', 1130), ('rich', 1129), ('benefit', 1129), ('radio', 1128), ('battle', 1128), ('huma', 1128), ('japan', 1127), ('easy', 1127), ('stated', 1126), ('thinking', 1125), ('retired', 1125), ('accept', 1123), ('agencies', 1122), ('status', 1120), ('corrupt', 1120), ('compared', 1118), ('cold', 1114), ('parents', 1113), ('troops', 1112), ('reporting', 1110), ('russians', 1109), ('virginia', 1108), ('newsletter', 1107), ('january', 1107), ('usa', 1106), ('poor', 1106), ('figure', 1103), ('insurance', 1100), ('subject', 1100), ('joe', 1099), ('moving', 1098), ('friend', 1098), ('reasons', 1098), ('employees', 1096), ('contributed', 1095), ('spokesman', 1095), ('benefits', 1094), ('estate', 1093), ('sort', 1093), ('christian', 1093), ('damage', 1093), ('mother', 1092), ('town', 1091), ('join', 1090), ('positive', 1089), ('britain', 1088), ('india', 1084), ('costs', 1084), ('lines', 1083), ('june', 1081), ('resources', 1080), ('domestic', 1077), ('happening', 1075), ('systems', 1075), ('reached', 1074), ('complete', 1074), ('prevent', 1074), ('hate', 1074), ('alternative', 1073), ('highly', 1072), ('mail', 1072), ('asia', 1072), ('organizations', 1070), ('fake', 1070), ('challenge', 1068), ('television', 1066), ('signs', 1066), ('google', 1065), ('empire', 1064), ('rose', 1063), ('crowd', 1061), ('language', 1059), ('coalition', 1057), ('authority', 1056), ('rising', 1055), ('behavior', 1054), ('racist', 1054), ('progressive', 1054), ('kelly', 1053), ('discovered', 1052), ('st', 1051), ('ties', 1050), ('learn', 1048), ('adding', 1048), ('adviser', 1047), ('confirmed', 1047), ('critical', 1047), ('meet', 1046), ('concern', 1046), ('spoke', 1045), ('protests', 1044), ('funds', 1043), ('expressed', 1042), ('records', 1042), ('dnc', 1039), ('add', 1038), ('brexit', 1038), ('articles', 1035), ('assange', 1035), ('ruling', 1034), ('guy', 1033), ('december', 1033), ('shares', 1033), ('speaker', 1032), ('advantage', 1032), ('repeatedly', 1031), ('canada', 1031), ('built', 1027), ('veterans', 1027), ('trading', 1027), ('schools', 1024), ('native', 1024), ('prison', 1024), ('believes', 1023), ('defeat', 1023), ('civilians', 1023), ('supposed', 1022), ('manager', 1022), ('scandal', 1019), ('learned', 1017), ('offered', 1017), ('silver', 1016), ('worst', 1015), ('ultimately', 1014), ('wisconsin', 1014), ('individuals', 1014), ('conspiracy', 1014), ('couple', 1011), ('path', 1011), ('robert', 1011), ('arms', 1011), ('affairs', 1010), ('king', 1009), ('declared', 1008), ('stocks', 1007), ('inflation', 1007), ('institute', 1006), ('explained', 1005), ('vladimir', 1005), ('https', 1005), ('caused', 1004), ('korea', 1003), ('target', 1002), ('seeking', 999), ('funding', 999), ('blood', 999), ('born', 997), ('aide', 997), ('agreed', 995), ('host', 993), ('ballots', 993), ('includes', 992), ('deals', 991), ('multiple', 991), ('charge', 991), ('possibility', 990), ('holding', 988), ('search', 986), ('simple', 986), ('super', 985), ('bond', 984), ('focused', 983), ('passed', 982), ('leaving', 980), ('wealth', 980), ('production', 980), ('libya', 980), ('addition', 978), ('aides', 977), ('edition', 977), ('publicly', 974), ('reform', 973), ('increasingly', 972), ('conducted', 972), ('female', 972), ('weekend', 971), ('products', 968), ('negative', 967), ('journalists', 966), ('writing', 965), ('mayor', 964), ('studies', 963), ('promised', 962), ('defend', 957), ('couldn', 956), ('visit', 955), ('wing', 955), ('believed', 953), ('warned', 952), ('absolutely', 951), ('bureau', 951), ('quarter', 950), ('revolution', 949), ('responsible', 949), ('treasury', 948), ('safety', 948), ('spend', 946), ('france', 946), ('jews', 946), ('hour', 945), ('sales', 944), ('reserve', 944), ('alleged', 944), ('explain', 942), ('hasn', 941), ('helping', 941), ('voice', 941), ('religious', 940), ('respond', 939), ('chicago', 939), ('remarks', 939), ('closed', 938), ('analysts', 938), ('races', 937), ('protection', 936), ('statements', 936), ('richard', 936), ('israeli', 936), ('difference', 935), ('fellow', 934), ('gain', 934), ('partners', 933), ('haven', 931), ('opposed', 931), ('nevada', 931), ('management', 930), ('committed', 930), ('car', 930), ('ads', 930), ('named', 927), ('collapse', 927), ('choose', 927), ('uk', 927), ('warning', 926), ('success', 925), ('powers', 925), ('authorities', 924), ('rhetoric', 923), ('block', 923), ('french', 922), ('shafer', 921), ('seek', 920), ('scientists', 920), ('arizona', 919), ('specific', 918), ('controlled', 918), ('ac', 918), ('utm', 918), ('designed', 917), ('regulations', 914), ('ensure', 914), ('violent', 913), ('career', 913), ('extremely', 913), ('survey', 912), ('caught', 911), ('refugees', 911), ('profit', 910), ('blame', 910), ('additional', 909), ('warren', 908), ('declined', 907), ('larger', 907), ('traditional', 907), ('facing', 906), ('effects', 905), ('familiar', 903), ('donors', 902), ('german', 902), ('property', 901), ('losing', 901), ('tape', 900), ('ideas', 900), ('save', 900), ('imagine', 900), ('activity', 899), ('businesses', 895), ('type', 895), ('nbc', 895), ('proposed', 894), ('commission', 893), ('goal', 893), ('standard', 892), ('fell', 892), ('programs', 891), ('conditions', 890), ('eventually', 889), ('carry', 889), ('moved', 888), ('elites', 887), ('anthony', 887), ('amendment', 886), ('daughter', 885), ('posts', 885), ('range', 884), ('summer', 883), ('edt', 882), ('dark', 881), ('youtube', 880), ('budget', 880), ('turnout', 880), ('minority', 878), ('machine', 878), ('paying', 876), ('corporations', 876), ('piece', 875), ('kill', 875), ('pacific', 875), ('easily', 874), ('failure', 874), ('decisions', 874), ('announcement', 874), ('faith', 874), ('refused', 874), ('internal', 873), ('pentagon', 872), ('shared', 870), ('happy', 870), ('effective', 869), ('material', 869), ('evil', 866), ('campaigns', 864), ('issued', 864), ('destroy', 864), ('conversation', 863), ('notes', 863), ('threats', 863), ('finance', 863), ('fair', 862), ('chris', 861), ('promises', 860), ('drugs', 860), ('borders', 859), ('zone', 859), ('communities', 857), ('model', 856), ('shift', 855), ('test', 855), ('physical', 855), ('iowa', 854), ('era', 854), ('code', 854), ('assets', 852), ('receive', 851), ('treatment', 850), ('student', 849), ('measures', 848), ('journalist', 848), ('swing', 848), ('april', 847), ('kids', 846), ('machines', 845), ('successful', 844), ('wait', 844), ('original', 843), ('computer', 843), ('mexican', 842), ('allegations', 842), ('obvious', 842), ('pass', 842), ('africa', 842), ('exposed', 841), ('activities', 840), ('creating', 839), ('values', 838), ('activists', 837), ('putting', 836), ('required', 835), ('founder', 835), ('republic', 835), ('watching', 834), ('hollywood', 834), ('pick', 834), ('qaeda', 834), ('discussion', 833), ('denied', 832), ('vast', 831), ('season', 831), ('lie', 831), ('ap', 831), ('iraqi', 830), ('door', 829), ('played', 829), ('margin', 829), ('killing', 829), ('bannon', 827), ('knowledge', 827), ('practice', 826), ('lawmakers', 825), ('destruction', 823), ('soviet', 821), ('industrial', 820), ('cycle', 819), ('limited', 819), ('core', 819), ('london', 818), ('promise', 817), ('meant', 817), ('heavy', 814), ('afghanistan', 814), ('videos', 814), ('writes', 813), ('supporter', 812), ('supply', 812), ('stein', 811), ('planning', 810), ('keeping', 810), ('drive', 810), ('solution', 810), ('pre', 809), ('accounts', 809), ('looked', 808), ('communications', 807), ('institutions', 807), ('leaked', 807), ('hampshire', 807), ('presence', 806), ('decade', 806), ('reading', 805), ('decide', 805), ('matters', 803), ('trail', 803), ('sell', 803), ('require', 801), ('generation', 801), ('understanding', 800), ('soldiers', 800), ('liberals', 800), ('jones', 799), ('attacked', 799), ('prior', 799), ('complex', 797), ('fly', 797), ('starting', 796), ('eyes', 795), ('ongoing', 794), ('road', 794), ('listen', 793), ('moral', 793), ('convention', 792), ('deeply', 792), ('environmental', 792), ('extreme', 791), ('basis', 790), ('criticism', 788), ('wide', 788), ('environment', 787), ('reagan', 787), ('goldman', 787), ('association', 787), ('actual', 786), ('reporter', 786), ('prepared', 786), ('coup', 786), ('terror', 782), ('raising', 781), ('broke', 781), ('banking', 781), ('registered', 780), ('arrested', 780), ('cuba', 779), ('advisers', 778), ('readers', 778), ('tim', 777), ('carried', 776), ('progress', 775), ('construction', 774), ('talks', 774), ('argument', 774), ('launched', 774), ('picture', 772), ('lawyer', 771), ('signed', 771), ('playing', 771), ('southern', 771), ('deputy', 770), ('eric', 769), ('lawyers', 769), ('direction', 769), ('steps', 768), ('gains', 767), ('ban', 766), ('separate', 765), ('consequences', 765), ('died', 765), ('ticket', 764), ('request', 764), ('tough', 764), ('aircraft', 764), ('leads', 764), ('reportedly', 763), ('theory', 763), ('spread', 763), ('billionaire', 763), ('strategic', 763), ('discussed', 762), ('scale', 762), ('sites', 761), ('destroyed', 761), ('aid', 760), ('identity', 759), ('sector', 759), ('argued', 758), ('trial', 757), ('grow', 757), ('responsibility', 756), ('missile', 756), ('chair', 755), ('opponent', 752), ('tweet', 752), ('legislation', 752), ('humanity', 751), ('pushed', 751), ('est', 751), ('bonds', 750), ('heavily', 750), ('increasing', 749), ('org', 749), ('mention', 748), ('net', 748), ('charged', 748), ('steve', 747), ('peter', 746), ('owned', 746), ('feeling', 744), ('messages', 744), ('numerous', 744), ('alliance', 744), ('plant', 744), ('abuse', 741), ('double', 740), ('ii', 740), ('girl', 739), ('plane', 739), ('candidacy', 738), ('politically', 738), ('pic', 738), ('normal', 737), ('constitutional', 736), ('ceo', 736), ('sought', 735), ('conservatives', 735), ('probe', 735), ('sanctions', 733), ('magazine', 732), ('delivered', 732), ('connection', 731), ('filed', 731), ('suggests', 731), ('evening', 730), ('residents', 729), ('hopes', 729), ('brown', 729), ('responded', 727), ('prove', 727), ('performance', 726), ('indian', 726), ('rubio', 726), ('aware', 725), ('sound', 725), ('wake', 724), ('flag', 724), ('drop', 723), ('andrew', 723), ('balance', 723), ('representative', 721), ('mentioned', 721), ('audience', 721), ('tom', 721), ('style', 719), ('victims', 719), ('baby', 719), ('bigger', 718), ('film', 718), ('reduce', 718), ('changing', 718), ('hacked', 718), ('racism', 717), ('racial', 717), ('hotel', 716), ('aggressive', 716), ('totally', 715), ('forget', 714), ('basic', 711), ('eye', 710), ('originally', 710), ('cabinet', 709), ('cultural', 709), ('closer', 707), ('joint', 707), ('waiting', 706), ('impossible', 706), ('bottom', 705), ('criticized', 705), ('ministry', 705), ('disease', 705), ('selling', 704), ('clean', 704), ('boost', 704), ('explains', 703), ('colorado', 703), ('sending', 702), ('produced', 701), ('fired', 700), ('hurt', 700), ('indiana', 699), ('product', 699), ('faced', 698), ('arab', 698), ('tweeted', 698), ('consciousness', 698), ('february', 697), ('incident', 696), ('smith', 696), ('trillion', 696), ('names', 695), ('degree', 693), ('joined', 693), ('platform', 693), ('treaty', 693), ('threatened', 692), ('territory', 692), ('turkish', 692), ('die', 691), ('investigations', 691), ('realize', 690), ('returns', 690), ('measure', 690), ('active', 690), ('seat', 690), ('contact', 690), ('michelle', 689), ('pushing', 689), ('sold', 688), ('meaning', 688), ('represents', 688), ('minute', 688), ('decline', 688), ('existence', 687), ('whites', 687), ('purpose', 685), ('giuliani', 684), ('yesterday', 684), ('memo', 684), ('conway', 682), ('training', 682), ('hill', 681), ('rebels', 681), ('strike', 680), ('amid', 679), ('northern', 679), ('stone', 679), ('doctors', 679), ('confidence', 678), ('offensive', 678), ('housing', 677), ('proof', 677), ('universe', 676), ('straight', 675), ('nomination', 674), ('maintain', 674), ('stuff', 674), ('figures', 673), ('anger', 673), ('radical', 673), ('danger', 672), ('tells', 670), ('biden', 670), ('referring', 669), ('dropped', 667), ('pull', 667), ('presidents', 665), ('angry', 665), ('strength', 665), ('accusations', 665), ('strategist', 665), ('unprecedented', 665), ('scott', 665), ('narrative', 664), ('roughly', 663), ('resistance', 663), ('launch', 663), ('streets', 662), ('island', 662), ('navy', 661), ('religion', 661), ('instance', 660), ('revenue', 659), ('missiles', 659), ('sitting', 658), ('worried', 658), ('books', 658), ('track', 658), ('broken', 657), ('driven', 657), ('exist', 657), ('murder', 657), ('representatives', 656), ('band', 656), ('christians', 656), ('jail', 655), ('speeches', 655), ('standards', 655), ('funded', 655), ('newly', 654), ('healthy', 654), ('fine', 653), ('controversial', 652), ('hot', 652), ('prominent', 652), ('hall', 652), ('liberty', 650), ('researchers', 650), ('rallies', 649), ('enemy', 649), ('size', 648), ('emergency', 648), ('digital', 648), ('invasion', 648), ('stopped', 647), ('bid', 647), ('mission', 647), ('talked', 647), ('web', 647), ('debates', 647), ('advance', 646), ('walk', 646), ('writer', 645), ('vaccine', 645), ('personally', 644), ('reaction', 644), ('character', 644), ('store', 643), ('exit', 643), ('battleground', 643), ('lynch', 643), ('moves', 642), ('claiming', 642), ('projects', 641), ('predicted', 640), ('abortion', 640), ('represent', 639), ('asian', 638), ('established', 638), ('gender', 638), ('peaceful', 638), ('hispanic', 638), ('chaos', 637), ('agent', 637), ('frank', 637), ('park', 636), ('grand', 636), ('mistake', 636), ('cooperation', 636), ('bb', 636), ('coast', 635), ('essentially', 634), ('expert', 634), ('gay', 634), ('mccain', 634), ('correct', 634), ('tower', 632), ('vision', 632), ('quality', 632), ('cited', 632), ('replace', 630), ('images', 629), ('struggle', 628), ('advice', 626), ('spirit', 626), ('cuts', 626), ('hearing', 625), ('serving', 625), ('count', 625), ('newspaper', 625), ('philadelphia', 625), ('emerging', 623), ('conduct', 622), ('lady', 622), ('fast', 621), ('tpp', 621), ('partner', 620), ('english', 620), ('closely', 620), ('solar', 620), ('critics', 619), ('buying', 618), ('sun', 618), ('remove', 618), ('historic', 618), ('marijuana', 618), ('permission', 617), ('seats', 617), ('determine', 617), ('desire', 616), ('san', 615), ('affordable', 615), ('appeal', 615), ('pain', 615), ('palestinian', 615), ('ancient', 615), ('disaster', 614), ('suggesting', 614), ('developed', 614), ('conclusion', 614), ('color', 613), ('perfect', 613), ('uncertainty', 613), ('options', 612), ('behalf', 612), ('william', 612), ('kennedy', 612), ('challenges', 611), ('guilty', 610), ('consumers', 609), ('wave', 609), ('ally', 609), ('users', 609), ('providing', 608), ('offers', 608), ('bringing', 608), ('allowing', 608), ('cross', 608), ('breitbart', 608), ('mid', 608), ('losses', 608), ('beat', 608), ('ten', 608), ('firms', 608), ('document', 607), ('shut', 607), ('produce', 607), ('managed', 606), ('endorsed', 606), ('encourage', 606), ('profits', 605), ('martin', 604), ('targeted', 604), ('worry', 604), ('pac', 604), ('humanitarian', 604), ('determined', 603), ('expectations', 602), ('guns', 602), ('yields', 602), ('factor', 601), ('updates', 600), ('blog', 599), ('closing', 599), ('brand', 598), ('crazy', 598), ('networks', 598), ('annual', 597), ('removed', 597), ('disclosure', 597), ('tens', 597), ('mitt', 596), ('secure', 596), ('girls', 596), ('existing', 596), ('getty', 596), ('stood', 595), ('editorial', 595), ('effectively', 595), ('folks', 595), ('regulation', 595), ('executives', 594), ('combat', 593), ('consumer', 593), ('stronger', 593), ('targets', 593), ('monetary', 592), ('ambassador', 592), ('acting', 592), ('sick', 592), ('basically', 592), ('emerged', 591), ('concluded', 591), ('partnership', 591), ('islam', 591), ('literally', 591), ('notitle', 591), ('channel', 589), ('deliver', 589), ('conflicts', 588), ('suffering', 588), ('map', 588), ('christie', 587), ('linked', 586), ('connected', 586), ('birth', 586), ('acts', 585), ('round', 585), ('regional', 585), ('hell', 585), ('jersey', 584), ('surveillance', 584), ('admitted', 584), ('rival', 584), ('contrast', 583), ('interviews', 582), ('dinner', 582), ('enemies', 582), ('deaths', 582), ('identified', 581), ('holds', 581), ('prepare', 581), ('bombing', 581), ('brother', 580), ('jim', 580), ('task', 579), ('covered', 579), ('electorate', 579), ('moderate', 578), ('politician', 578), ('longtime', 578), ('reveal', 577), ('yemen', 577), ('donations', 576), ('background', 576), ('trouble', 576), ('virtually', 576), ('runs', 575), ('occurred', 575), ('approval', 574), ('paris', 574), ('analyst', 574), ('attempts', 571), ('fighters', 571), ('stands', 570), ('blacks', 569), ('jason', 568), ('integrity', 568), ('veteran', 568), ('stolen', 568), ('reuters', 568), ('rt', 568), ('populist', 567), ('trend', 567), ('opponents', 567), ('collective', 567), ('informed', 566), ('jr', 566), ('option', 566), ('australia', 566), ('jury', 566), ('appearance', 565), ('afternoon', 565), ('driving', 565), ('improve', 565), ('fiscal', 565), ('giant', 565), ('proven', 565), ('healthcare', 565), ('professional', 564), ('express', 564), ('aimed', 564), ('guys', 564), ('table', 563), ('miles', 562), ('wage', 562), ('increases', 560), ('leaves', 560), ('movie', 560), ('congressman', 560), ('honest', 560), ('shouldn', 559), ('coal', 559), ('jesus', 559), ('activist', 558), ('sachs', 558), ('lying', 558), ('counter', 558), ('travel', 557), ('heads', 557), ('cbs', 557), ('intervention', 557), ('reprints', 556), ('ukrainian', 555), ('featured', 555), ('resolution', 555), ('scientific', 555), ('electronic', 555), ('fears', 554), ('usual', 553), ('nice', 553), ('doj', 553), ('homes', 552), ('tech', 552), ('civilian', 552), ('briefing', 551), ('intended', 551), ('historical', 551), ('practices', 551), ('commitment', 550), ('alex', 550), ('belief', 550), ('threatening', 549), ('yield', 549), ('enter', 548), ('marriage', 548), ('outlets', 548), ('investigators', 548), ('dream', 547), ('vietnam', 546), ('updated', 545), ('winner', 545), ('shooting', 545), ('scenario', 544), ('agreements', 544), ('divided', 543), ('gary', 543), ('hedge', 543), ('wealthy', 542), ('shock', 542), ('dozen', 541), ('notice', 541), ('structure', 541), ('friendly', 540), ('assistant', 539), ('offering', 539), ('dc', 539), ('affect', 538), ('transfer', 538), ('kerry', 538), ('nixon', 537), ('openly', 537), ('perspective', 536), ('typically', 536), ('ordinary', 536), ('attacking', 536), ('equal', 536), ('favorite', 535), ('italy', 535), ('canadian', 535), ('sessions', 535), ('finding', 534), ('repeal', 534), ('manufacturing', 534), ('bias', 533), ('art', 533), ('file', 533), ('survive', 533), ('regulatory', 533), ('lived', 532), ('regular', 531), ('abc', 531), ('allegedly', 531), ('reveals', 531), ('guess', 530), ('dog', 530), ('chances', 530), ('kremlin', 530), ('dozens', 529), ('boy', 529), ('weak', 529), ('revelations', 528), ('fuel', 528), ('easier', 528), ('lawsuit', 527), ('opposite', 527), ('los', 527), ('tend', 527), ('sacred', 526), ('iranian', 526), ('manhattan', 525), ('argue', 524), ('estimated', 524), ('choices', 524), ('reid', 524), ('devices', 524), ('bar', 523), ('viewed', 523), ('ignore', 523), ('division', 523), ('gigot', 523), ('weren', 522), ('migrants', 522), ('club', 521), ('urged', 521), ('rnc', 521), ('operating', 521), ('op', 521), ('chemical', 521), ('proposal', 520), ('bomb', 520), ('expansion', 520), ('hidden', 519), ('abroad', 519), ('humans', 519), ('anonymous', 519), ('investigative', 519), ('moore', 519), ('expand', 518), ('wearing', 518), ('forms', 518), ('strikes', 518), ('educated', 517), ('causing', 517), ('edge', 516), ('begun', 516), ('minds', 516), ('tensions', 516), ('julian', 516), ('lobbying', 515), ('box', 515), ('economics', 515), ('advertising', 514), ('ben', 514), ('surprised', 514), ('context', 514), ('alt', 514), ('initial', 514), ('preparing', 513), ('continuing', 513), ('rejected', 513), ('suddenly', 513), ('topic', 513), ('bear', 512), ('laptop', 512), ('catholic', 512), ('tactics', 511), ('expensive', 511), ('bloomberg', 510), ('customers', 510), ('requires', 510), ('sounds', 510), ('confident', 510), ('poverty', 510), ('overseas', 509), ('citizen', 509), ('approved', 509), ('license', 509), ('arrived', 508), ('filled', 507), ('command', 507), ('protected', 507), ('bankers', 507), ('medicine', 507), ('referred', 506), ('capable', 506), ('pelosi', 506), ('involving', 505), ('recognize', 505), ('advertisement', 505), ('clients', 504), ('legitimate', 504), ('risks', 503), ('negotiations', 503), ('recount', 503), ('setting', 502), ('music', 502), ('blow', 502), ('hacking', 502), ('angeles', 501), ('river', 501), ('relevant', 501), ('colleagues', 501), ('fit', 500), ('hoping', 500), ('japanese', 500), ('feet', 500), ('returned', 500), ('remained', 500), ('charles', 499), ('helps', 499), ('miami', 499), ('broad', 499), ('sit', 498), ('smart', 498), ('missing', 498), ('stupid', 498), ('spokeswoman', 497), ('moon', 497), ('engaged', 496), ('jeff', 496), ('device', 496), ('promote', 496), ('extent', 496), ('competitive', 496), ('tea', 496), ('protectors', 496), ('guard', 495), ('demands', 495), ('supports', 495), ('foods', 495), ('investigating', 494), ('cruz', 494), ('grew', 494), ('sheriff', 494), ('communist', 494), ('independence', 493), ('achieve', 493), ('attempted', 493), ('citing', 492), ('limit', 492), ('organized', 492), ('toxic', 492), ('profile', 491), ('opportunities', 491), ('grown', 491), ('strange', 491), ('quote', 491), ('legacy', 491), ('mate', 491), ('involvement', 490), ('england', 490), ('pulled', 490), ('fewer', 490), ('unable', 490), ('widespread', 490), ('capitalism', 490), ('scene', 489), ('hospital', 489), ('movements', 489), ('survival', 489), ('fought', 488), ('plants', 488), ('station', 488), ('treated', 486), ('urban', 486), ('creation', 486), ('parliament', 486), ('limits', 486), ('html', 485), ('apple', 484), ('donate', 484), ('plenty', 484), ('jill', 484), ('oppose', 483), ('vaccines', 483), ('blasio', 482), ('carrying', 482), ('fresh', 482), ('gap', 482), ('asset', 482), ('developing', 481), ('experienced', 481), ('aggression', 480), ('mental', 480), ('lee', 479), ('accepted', 479), ('shocking', 479), ('fourth', 478), ('immigrant', 478), ('ship', 478), ('partisan', 477), ('speaks', 477), ('principles', 477), ('famous', 476), ('error', 476), ('commander', 476), ('examples', 475), ('engage', 475), ('fail', 475), ('protecting', 475), ('photos', 475), ('oligarchy', 475), ('unclear', 474), ('headed', 473), ('combined', 473), ('yeah', 473), ('tank', 473), ('soul', 473), ('miller', 472), ('stephen', 472), ('creative', 471), ('employment', 471), ('billions', 471), ('exists', 471), ('meetings', 470), ('tied', 470), ('carter', 470), ('endorsement', 470), ('feels', 470), ('essential', 470), ('gore', 470), ('schumer', 470), ('shortly', 469), ('noting', 469), ('steven', 469), ('weapon', 469), ('quick', 468), ('trip', 468), ('surrounding', 468), ('loses', 468), ('proposals', 468), ('condition', 468), ('halloween', 468), ('chosen', 467), ('shape', 467), ('surely', 467), ('proved', 467), ('unique', 467), ('bob', 467), ('unusual', 466), ('ford', 466), ('kim', 466), ('prospect', 466), ('male', 466), ('assume', 465), ('exercise', 465), ('touch', 465), ('georgia', 465), ('crucial', 465), ('requests', 464), ('terrible', 464), ('atlantic', 464), ('apparent', 464), ('throw', 464), ('attempting', 463), ('referendum', 463), ('contest', 463), ('officially', 462), ('spring', 462), ('sharing', 462), ('rural', 462), ('acknowledged', 461), ('journalism', 461), ('eat', 460), ('advanced', 460), ('sioux', 460), ('marked', 459), ('slow', 459), ('entered', 459), ('capacity', 459), ('unknown', 458), ('dealing', 457), ('bodies', 457), ('convinced', 457), ('relief', 457), ('knowing', 457), ('leaning', 456), ('qatar', 456), ('controversy', 455), ('equipment', 455), ('warming', 455), ('deserve', 455), ('afraid', 454), ('priority', 454), ('winter', 453), ('courts', 453), ('cutting', 453), ('upset', 453), ('bought', 452), ('initiative', 452), ('extraordinary', 452), ('victim', 452), ('carrier', 452), ('nusra', 452), ('harder', 451), ('gained', 451), ('stance', 451), ('outlook', 451), ('rape', 451), ('spot', 450), ('murphy', 450), ('traffic', 449), ('commercial', 449), ('married', 449), ('players', 449), ('competition', 449), ('amounts', 449), ('utah', 449), ('beijing', 448), ('scheduled', 448), ('equity', 448), ('discussions', 448), ('cuban', 448), ('explanation', 448), ('targeting', 448), ('investigate', 447), ('suspect', 447), ('benghazi', 447), ('indigenous', 447), ('watched', 446), ('sexually', 446), ('intent', 446), ('missouri', 446), ('fundamental', 446), ('flynn', 446), ('animals', 446), ('card', 445), ('prosecutor', 445), ('insider', 445), ('primaries', 445), ('korean', 445), ('draft', 444), ('develop', 443), ('honor', 443), ('tradition', 442), ('priorities', 442), ('minorities', 442), ('weather', 441), ('legislative', 441), ('admit', 440), ('harm', 440), ('ted', 440), ('ethnic', 440), ('ross', 440), ('cars', 440), ('surface', 440), ('contract', 439), ('arm', 438), ('glass', 438), ('registration', 438), ('williams', 438), ('priebus', 438), ('consent', 438), ('jackson', 438), ('incoming', 437), ('mobile', 437), ('falling', 437), ('gingrich', 437), ('cops', 437), ('daniel', 436), ('circle', 436), ('chose', 436), ('enormous', 436), ('chelsea', 436), ('enjoy', 436), ('oval', 436), ('blamed', 436), ('pledged', 436), ('campaigning', 435), ('steal', 435), ('louis', 434), ('identify', 434), ('fill', 434), ('personnel', 434), ('scandals', 433), ('quo', 433), ('prosecutors', 433), ('grunwald', 433), ('violation', 432), ('trans', 432), ('mandate', 432), ('arrest', 432), ('matthew', 431), ('represented', 430), ('skin', 430), ('pakistan', 430), ('weight', 430), ('sept', 429), ('tone', 429), ('pursue', 428), ('medium', 428), ('vehicles', 428), ('reference', 428), ('progressives', 428), ('design', 427), ('odds', 427), ('owner', 427), ('initially', 427), ('duty', 427), ('ruled', 427), ('commerce', 427), ('criminals', 427), ('broader', 427), ('socialist', 427), ('afford', 426), ('recording', 426), ('reputation', 426), ('circumstances', 426), ('solutions', 426), ('counties', 425), ('economist', 425), ('assistance', 425), ('refugee', 425), ('corp', 425), ('regard', 424), ('tool', 424), ('globe', 424), ('seemingly', 424), ('struck', 424), ('dan', 424), ('jay', 424), ('elizabeth', 424), ('nsa', 424), ('floor', 423), ('counsel', 422), ('founded', 422), ('warfare', 422), ('entry', 422), ('repeated', 421), ('treat', 421), ('reverse', 421), ('vulnerable', 421), ('headlines', 421), ('amazing', 421), ('headquarters', 421), ('draw', 421), ('sharp', 421), ('jerusalem', 421), ('spiritual', 421), ('owners', 420), ('christ', 420), ('sale', 419), ('wages', 419), ('philippines', 419), ('league', 419), ('caucus', 419), ('wild', 418), ('types', 418), ('vehicle', 418), ('recorded', 418), ('reduced', 418), ('remaining', 417), ('brings', 417), ('elements', 417), ('stunning', 417), ('insiders', 416), ('title', 415), ('brian', 414), ('undocumented', 414), ('flight', 414), ('moments', 414), ('understood', 414), ('castro', 414), ('ethics', 413), ('square', 413), ('pace', 413), ('branch', 413), ('relationships', 413), ('learning', 413), ('nazi', 413), ('consensus', 413), ('starts', 413), ('ice', 412), ('dismissed', 412), ('investments', 412), ('pattern', 412), ('spoken', 412), ('economists', 412), ('column', 412), ('neo', 412), ('granted', 411), ('ultimate', 411), ('deficit', 411), ('suffered', 411), ('sensitive', 411), ('refuse', 411), ('shadow', 411), ('harry', 410), ('defending', 410), ('burn', 410), ('function', 410), ('districts', 410), ('manner', 409), ('minimum', 409), ('earned', 409), ('lobbyists', 409), ('globalization', 409), ('fun', 409), ('answers', 409), ('gen', 409), ('cannabis', 409), ('kadzik', 409), ('session', 408), ('split', 408), ('extra', 407), ('feed', 407), ('warner', 407), ('bet', 407), ('testimony', 407), ('suicide', 407), ('melania', 406), ('likes', 406), ('beautiful', 406), ('links', 406), ('regularly', 406), ('rare', 406), ('deny', 406), ('train', 406), ('nominees', 406), ('crimea', 406), ('fundraising', 406), ('promoting', 405), ('surge', 405), ('appointed', 405), ('confrontation', 405), ('commit', 404), ('marine', 404), ('footage', 404), ('bombs', 404), ('differences', 404), ('tired', 404), ('goals', 404), ('innocent', 404), ('bundy', 404), ('questioned', 403), ('judgment', 403), ('arguing', 403), ('frequently', 403), ('crude', 403), ('software', 403), ('stress', 403), ('massachusetts', 403), ('admiral', 403), ('businessman', 402), ('illegally', 402), ('speed', 402), ('torture', 402), ('replaced', 401), ('latino', 401), ('tanks', 401), ('leaks', 401), ('beach', 400), ('factors', 400), ('storm', 400), ('rapidly', 400), ('libertarian', 400), ('impose', 400), ('sponsored', 400), ('gdp', 400), ('directed', 399), ('invited', 399), ('diplomatic', 399), ('silence', 399), ('brazile', 398), ('variety', 398), ('hitler', 398), ('militants', 398), ('cell', 398), ('struggling', 397), ('fans', 397), ('ideology', 397), ('heading', 397), ('patients', 397), ('receiving', 396), ('principle', 396), ('insisted', 396), ('flow', 396), ('tomorrow', 396), ('handling', 396), ('tools', 396), ('metals', 396), ('reflect', 395), ('attend', 395), ('object', 395), ('surprising', 395), ('donor', 395), ('cable', 395), ('failing', 395), ('demanding', 395), ('reaching', 395), ('desperate', 395), ('fairly', 395), ('minnesota', 395), ('phrase', 395), ('worldwide', 394), ('audio', 394), ('fat', 394), ('accurate', 393), ('oregon', 393), ('rebel', 393), ('dirty', 392), ('heat', 391), ('captured', 391), ('suit', 390), ('eating', 390), ('screen', 390), ('drew', 389), ('equally', 389), ('apply', 389), ('weekly', 389), ('ill', 389), ('camps', 389), ('diverse', 388), ('entering', 388), ('diversity', 388), ('exact', 388), ('judicial', 388), ('pieces', 388), ('sad', 388), ('notion', 388), ('senators', 388), ('wind', 387), ('handful', 386), ('worker', 386), ('exclusive', 386), ('vowed', 386), ('premiums', 386), ('species', 386), ('egypt', 386), ('nationwide', 386), ('dogs', 385), ('overwhelming', 385), ('homeland', 385), ('escape', 385), ('update', 385), ('hide', 385), ('latin', 384), ('duterte', 384), ('erdogan', 384), ('contributions', 383), ('handle', 383), ('severe', 383), ('welfare', 383), ('silent', 383), ('merkel', 383), ('kushner', 382), ('encouraged', 382), ('fashion', 382), ('consulting', 382), ('undermine', 382), ('cells', 382), ('lots', 381), ('beliefs', 381), ('reads', 380), ('airport', 380), ('titled', 380), ('revelation', 380), ('emotional', 380), ('picked', 379), ('covering', 379), ('offices', 379), ('sleep', 379), ('extended', 378), ('gulf', 378), ('medicare', 378), ('replied', 378), ('bold', 378), ('confirm', 378), ('passing', 378), ('detailed', 378), ('brothers', 378), ('location', 377), ('ivanka', 377), ('master', 377), ('tonight', 377), ('participate', 377), ('suffer', 377), ('tony', 377), ('organic', 377), ('edward', 377), ('dna', 377), ('vitamin', 377), ('followers', 376), ('ratings', 376), ('investor', 376), ('broadcast', 376), ('located', 376), ('prize', 376), ('connections', 376), ('peoples', 376), ('destroying', 376), ('hackers', 376), ('cyber', 376), ('establish', 375), ('laid', 375), ('payments', 375), ('kinds', 375), ('versus', 375), ('cleveland', 375), ('reply', 375), ('operatives', 375), ('guardian', 375), ('promising', 374), ('conventional', 374), ('restrictions', 374), ('visited', 374), ('loans', 374), ('intellectual', 374), ('voices', 374), ('josh', 374), ('diet', 374), ('warrant', 374), ('discussing', 373), ('tribe', 373), ('contained', 373), ('hatred', 373), ('intense', 371), ('mix', 371), ('embassy', 371), ('boss', 371), ('dow', 371), ('defeated', 371), ('palestinians', 371), ('unit', 370), ('chain', 370), ('earnings', 370), ('regions', 370), ('matt', 370), ('futures', 370), ('rigging', 370), ('actively', 370), ('embrace', 369), ('stuck', 369), ('viewers', 369), ('boston', 369), ('phenomenon', 369), ('naturally', 369), ('pen', 368), ('palestine', 368), ('reasonable', 367), ('buildings', 367), ('henry', 367), ('recession', 367), ('deeper', 367), ('spanish', 367), ('naval', 367), ('constant', 366), ('purchase', 366), ('schedule', 366), ('absolute', 366), ('kevin', 365), ('concept', 365), ('harvard', 365), ('illinois', 365), ('valley', 365), ('currencies', 365), ('discovery', 365), ('cdc', 365), ('nelson', 364), ('scheme', 364), ('judges', 364), ('industries', 364), ('ideological', 364), ('introduced', 364), ('nasa', 364), ('items', 363), ('damaging', 363), ('guide', 363), ('amazon', 363), ('tremendous', 362), ('credibility', 362), ('dump', 362), ('camera', 362), ('operate', 362), ('forever', 362), ('greece', 362), ('unions', 362), ('ron', 362), ('privacy', 361), ('consistent', 361), ('solid', 361), ('dear', 361), ('appeals', 361), ('walking', 361), ('epstein', 361), ('describes', 360), ('pool', 360), ('hired', 360), ('makers', 360), ('stake', 359), ('opinions', 359), ('mcconnell', 359), ('crash', 359), ('settlement', 358), ('witness', 358), ('handed', 358), ('fate', 358), ('fallen', 358), ('acknowledge', 358), ('alive', 358), ('jennifer', 357), ('capitol', 357), ('momentum', 357), ('lord', 357), ('alien', 357), ('deployed', 357), ('patrick', 356), ('chamber', 356), ('substantial', 356), ('nafta', 356), ('estimates', 356), ('doctor', 356), ('contrary', 356), ('entitled', 355), ('burning', 355), ('recall', 355), ('mills', 355), ('teachers', 355), ('manage', 354), ('match', 354), ('milk', 354), ('joseph', 354), ('dominated', 354), ('aliens', 354), ('conversations', 354), ('copyright', 354), ('permanent', 353), ('consistently', 353), ('riot', 353), ('historically', 353), ('waste', 353), ('iii', 353), ('counted', 352), ('documentary', 352), ('universal', 352), ('joke', 352), ('euro', 352), ('overthrow', 352), ('endless', 352), ('mook', 352), ('serves', 351), ('drawn', 351), ('disturbing', 351), ('joining', 350), ('inequality', 350), ('detail', 350), ('sky', 350), ('ufo', 350), ('flying', 349), ('anxiety', 349), ('focusing', 349), ('restore', 349), ('slowly', 349), ('fixed', 349), ('puppet', 349), ('completed', 348), ('episode', 348), ('signal', 348), ('supplies', 348), ('harassment', 347), ('exports', 347), ('supposedly', 347), ('hispanics', 347), ('convicted', 347), ('veritas', 347), ('span', 346), ('mary', 346), ('charity', 346), ('aim', 346), ('unity', 346), ('banned', 346), ('proper', 345), ('recognized', 345), ('plot', 345), ('extend', 345), ('rarely', 345), ('refusing', 345), ('window', 345), ('recovery', 345), ('accountable', 345), ('adds', 345), ('arguments', 344), ('seized', 344), ('succeed', 344), ('awareness', 344), ('amy', 343), ('definition', 343), ('bbc', 343), ('kingdom', 343), ('unemployment', 343), ('morgan', 343), ('bipartisan', 343), ('secrets', 342), ('loved', 342), ('vegas', 342), ('mine', 342), ('subsidies', 342), ('bombshell', 342), ('alabama', 341), ('ronald', 341), ('village', 341), ('depression', 341), ('ayotte', 341), ('widget', 341), ('shocked', 340), ('scrutiny', 340), ('defended', 340), ('entertainment', 340), ('pledge', 340), ('distance', 340), ('bills', 340), ('defined', 340), ('brazil', 340), ('threatens', 340), ('blind', 339), ('realized', 339), ('guest', 339), ('taught', 339), ('stars', 339), ('trends', 339), ('objective', 339), ('msnbc', 338), ('checks', 338), ('nationalist', 338), ('rely', 338), ('observers', 338), ('drone', 338), ('lied', 338), ('steel', 337), ('drinking', 337), ('noticed', 337), ('occupation', 337), ('bridge', 337), ('typical', 337), ('economies', 337), ('feelings', 337), ('sovereignty', 337), ('memory', 337), ('connect', 337), ('teneo', 337), ('upper', 336), ('intention', 336), ('perfectly', 336), ('favored', 336), ('listed', 336), ('gross', 336), ('exposure', 336), ('marc', 336), ('institution', 336), ('chart', 336), ('expanded', 336), ('recognition', 335), ('complicated', 335), ('constantly', 335), ('devastating', 335), ('describing', 334), ('praised', 334), ('eliminate', 334), ('dedicated', 334), ('prospects', 334), ('reject', 334), ('assembly', 334), ('comfortable', 333), ('centers', 333), ('gathering', 333), ('davis', 333), ('donated', 333), ('violations', 333), ('generations', 333), ('findings', 333), ('closest', 333), ('globalist', 333), ('sharply', 332), ('challenged', 332), ('striking', 332), ('atmosphere', 332), ('lake', 332), ('sports', 332), ('queen', 332), ('exclusively', 331), ('brutal', 331), ('communication', 331), ('recommended', 331), ('twenty', 331), ('isil', 331), ('thanksgiving', 330), ('tweets', 330), ('advised', 330), ('expanding', 330), ('endorse', 330), ('rick', 329), ('expects', 329), ('legally', 329), ('advocates', 329), ('quoted', 329), ('lock', 329), ('nasty', 329), ('degrees', 329), ('farmers', 329), ('venezuela', 329), ('foot', 328), ('football', 328), ('reforms', 328), ('collection', 327), ('speculation', 327), ('inevitable', 327), ('forcing', 327), ('campus', 327), ('stability', 327), ('inquiry', 327), ('expose', 327), ('asylum', 327), ('gift', 326), ('corner', 326), ('orange', 326), ('corps', 326), ('sat', 326), ('bitter', 326), ('demographic', 326), ('arkansas', 326), ('commentary', 326), ('leak', 326), ('authors', 326), ('hrc', 326), ('alert', 325), ('teacher', 325), ('mnuchin', 325), ('inauguration', 324), ('francisco', 324), ('ships', 324), ('youth', 324), ('forgotten', 324), ('convince', 324), ('mining', 324), ('golf', 323), ('blocked', 323), ('register', 323), ('wear', 323), ('lands', 323), ('crooked', 323), ('healing', 323), ('stream', 322), ('breaks', 322), ('letters', 322), ('la', 322), ('skills', 322), ('vermont', 322), ('oversight', 321), ('inspired', 321), ('precisely', 321), ('barely', 321), ('eager', 321), ('las', 321), ('empty', 321), ('courtesy', 321), ('withdraw', 321), ('falls', 321), ('netanyahu', 321), ('files', 321), ('bible', 321), ('purposes', 320), ('publication', 320), ('accusing', 320), ('reducing', 320), ('sentiment', 320), ('enthusiasm', 319), ('heritage', 319), ('trained', 319), ('hair', 319), ('masses', 319), ('appointment', 319), ('holiday', 319), ('hack', 319), ('controls', 319), ('games', 319), ('civilization', 319), ('chemicals', 319), ('academic', 318), ('roots', 318), ('celebrity', 317), ('equality', 317), ('divide', 317), ('bound', 317), ('formed', 317), ('tests', 317), ('challenging', 316), ('theories', 316), ('steady', 316), ('murdered', 316), ('prefer', 316), ('kurdish', 316), ('zika', 316), ('participation', 315), ('tiny', 315), ('dramatic', 315), ('dave', 315), ('carbon', 315), ('loretta', 315), ('materials', 314), ('representing', 314), ('urging', 314), ('tariffs', 314), ('bases', 314), ('wisdom', 314), ('jonathan', 314), ('pope', 314), ('fda', 314), ('switch', 313), ('bashar', 313), ('ranking', 313), ('doors', 313), ('extensive', 313), ('root', 313), ('vital', 313), ('panic', 312), ('narrow', 312), ('undecided', 312), ('incredibly', 312), ('automatically', 312), ('ab', 312), ('display', 311), ('fan', 311), ('rapid', 311), ('contracts', 311), ('badly', 311), ('sugar', 311), ('method', 311), ('spectrum', 311), ('demonstrated', 311), ('animal', 311), ('genocide', 311), ('recommend', 311), ('employee', 310), ('units', 310), ('hostile', 310), ('signals', 310), ('incumbent', 310), ('properties', 309), ('marketing', 309), ('developments', 309), ('violated', 309), ('kiev', 309), ('maintaining', 309), ('pharmaceutical', 309), ('plays', 309), ('technical', 309), ('declaring', 309), ('award', 309), ('unrest', 309), ('ocean', 309), ('disagree', 308), ('rid', 308), ('occur', 308), ('prosecution', 308), ('hole', 308), ('neighbors', 308), ('adults', 308), ('hadn', 308), ('poland', 308), ('precious', 308), ('imports', 307), ('jan', 307), ('forum', 307), ('abandoned', 307), ('lesser', 307), ('auto', 307), ('volume', 307), ('cheap', 307), ('select', 307), ('nick', 307), ('assassination', 307), ('placement', 307), ('influential', 306), ('metal', 306), ('citizenship', 306), ('wounded', 306), ('tested', 306), ('imposed', 306), ('janet', 306), ('mortgage', 305), ('determination', 305), ('seeks', 305), ('scenes', 305), ('faster', 305), ('shoot', 305), ('jumped', 305), ('maintained', 305), ('stretch', 304), ('monthly', 304), ('hoped', 304), ('outrage', 304), ('depends', 304), ('indictment', 304), ('haiti', 304), ('staffers', 304), ('statistics', 303), ('mere', 303), ('taxpayers', 303), ('chuck', 303), ('excuse', 303), ('producing', 303), ('manipulation', 303), ('raises', 302), ('promoted', 302), ('crew', 302), ('formal', 302), ('dispute', 302), ('panel', 302), ('sovereign', 302), ('methods', 302), ('features', 302), ('backlash', 301), ('tracking', 301), ('revealing', 301), ('combination', 301), ('factory', 301), ('medicaid', 301), ('fish', 301), ('operative', 301), ('occupied', 300), ('gathered', 300), ('appoint', 300), ('surrogates', 300), ('flip', 300), ('lowest', 300), ('declaration', 300), ('soil', 300), ('phase', 300), ('trunews', 300), ('lobby', 299), ('demanded', 299), ('feature', 299), ('houses', 299), ('walked', 299), ('wallace', 299), ('smoking', 299), ('surveys', 299), ('admits', 299), ('participants', 298), ('pictures', 298), ('privately', 298), ('fields', 298), ('advocate', 298), ('ugly', 298), ('stick', 298), ('professionals', 298), ('lincoln', 298), ('van', 298), ('carefully', 297), ('petition', 297), ('perceived', 297), ('transparency', 297), ('roll', 297), ('affair', 297), ('observed', 297), ('populism', 297), ('fascist', 297), ('siege', 297), ('airstrikes', 297), ('advisor', 297), ('roger', 296), ('bus', 296), ('incredible', 296), ('brooklyn', 296), ('applied', 296), ('universities', 296), ('lay', 296), ('revolutionary', 296), ('cop', 296), ('mad', 296), ('imperial', 296), ('locations', 295), ('aftermath', 295), ('tight', 295), ('missed', 295), ('dodd', 295), ('retirement', 295), ('electors', 295), ('multi', 295), ('daesh', 295), ('hospitals', 294), ('stores', 294), ('enterprise', 294), ('mouth', 294), ('psychological', 294), ('mess', 294), ('posting', 293), ('meat', 293), ('organizing', 293), ('oligarchs', 293), ('nearby', 292), ('stayed', 292), ('courage', 292), ('payment', 292), ('settled', 292), ('governing', 292), ('opposing', 292), ('relative', 292), ('documented', 292), ('portion', 292), ('investigated', 292), ('fort', 291), ('foster', 291), ('attended', 291), ('charlie', 291), ('grant', 291), ('columnist', 291), ('justify', 291), ('latinos', 291), ('bed', 290), ('minor', 290), ('dramatically', 290), ('managing', 290), ('releasing', 290), ('reopening', 290), ('waves', 290), ('stimulus', 290), ('player', 290), ('sentence', 290), ('bubble', 290), ('horrible', 290), ('savings', 289), ('mutual', 289), ('christmas', 289), ('thrown', 289), ('sustainable', 289), ('maine', 289), ('creates', 288), ('fees', 288), ('unexpected', 288), ('renewed', 288), ('publish', 288), ('responding', 288), ('letting', 288), ('excellent', 287), ('delay', 287), ('choosing', 287), ('expense', 287), ('ball', 287), ('implications', 287), ('interviewed', 287), ('zones', 287), ('federation', 287), ('genuine', 287), ('ranks', 287), ('patient', 287), ('nolan', 287), ('admin', 287), ('aspects', 286), ('facilities', 286), ('neighborhood', 286), ('traders', 286), ('careful', 286), ('addressed', 286), ('journey', 286), ('slavery', 286), ('holy', 286), ('avenue', 285), ('mistakes', 285), ('stops', 285), ('sarah', 285), ('casting', 285), ('prompted', 285), ('unfair', 284), ('finished', 284), ('classes', 284), ('exchanges', 284), ('nightmare', 284), ('incidents', 284), ('scared', 284), ('hook', 284), ('charter', 284), ('marks', 284), ('diseases', 284), ('protesting', 283), ('declare', 283), ('mixed', 283), ('route', 283), ('output', 283), ('secretly', 283), ('expression', 282), ('lebanon', 282), ('doug', 282), ('attitude', 282), ('defence', 282), ('upcoming', 282), ('regulators', 281), ('copy', 281), ('quiet', 281), ('arrests', 281), ('dialogue', 281), ('suspected', 281), ('indians', 281), ('premium', 281), ('creamer', 281), ('cards', 280), ('pulling', 280), ('nancy', 280), ('database', 280), ('associate', 280), ('optimistic', 280), ('motivated', 280), ('user', 280), ('scientist', 280), ('syrians', 280), ('earthquake', 280), ('app', 280), ('mccaskill', 280), ('raqqa', 280), ('radar', 280), ('outright', 279), ('owns', 279), ('corporation', 279), ('cohen', 279), ('credible', 279), ('encouraging', 279), ('flat', 279), ('detroit', 279), ('jump', 279), ('merger', 279), ('topics', 278), ('preferred', 278), ('complaints', 278), ('hitting', 278), ('securities', 278), ('destructive', 278), ('adam', 278), ('technologies', 278), ('pure', 278), ('marco', 278), ('rating', 278), ('mccabe', 278), ('populations', 277), ('bizarre', 277), ('cooper', 277), ('loan', 277), ('busy', 277), ('comprehensive', 277), ('hero', 277), ('walls', 277), ('properly', 276), ('deemed', 276), ('equivalent', 276), ('staying', 276), ('lesson', 276), ('fleet', 276), ('favors', 276), ('assessment', 276), ('resist', 276), ('mails', 276), ('fla', 275), ('discrimination', 275), ('emissions', 275), ('diplomacy', 275), ('stressed', 275), ('questioning', 275), ('italian', 275), ('shame', 275), ('migrant', 275), ('laura', 275), ('requirements', 275), ('hey', 275), ('cup', 275), ('golden', 274), ('donna', 274), ('shirt', 274), ('mile', 274), ('gonna', 274), ('invest', 273), ('pollsters', 273), ('song', 273), ('iron', 273), ('recalled', 272), ('retail', 272), ('subsequent', 272), ('allied', 272), ('listening', 272), ('earnest', 272), ('dad', 272), ('organize', 272), ('exposing', 272), ('kellyanne', 271), ('skeptical', 271), ('releases', 271), ('ny', 271), ('testing', 271), ('grab', 271), ('alongside', 271), ('pray', 271), ('rolling', 271), ('jon', 271), ('possession', 271), ('wellness', 271), ('restaurant', 270), ('farm', 270), ('bay', 270), ('deadly', 270), ('pop', 270), ('boys', 270), ('guarantee', 270), ('comparison', 270), ('responses', 270), ('deleted', 270), ('writers', 270), ('gang', 270), ('models', 270), ('publishing', 270), ('loyal', 269), ('returning', 269), ('dreams', 269), ('pressed', 269), ('remarkable', 269), ('burden', 269), ('contacted', 269), ('wire', 269), ('evangelical', 269), ('yuan', 269), ('sue', 268), ('reopened', 268), ('shake', 268), ('ellison', 268), ('landslide', 268), ('interference', 268), ('fails', 267), ('emerge', 267), ('invested', 267), ('overwhelmingly', 267), ('ages', 267), ('lifetime', 267), ('ring', 267), ('pardon', 267), ('pat', 267), ('duke', 267), ('electricity', 267), ('venture', 266), ('announcing', 266), ('favorable', 266), ('sean', 266), ('impeachment', 266), ('troubling', 266), ('bigotry', 266), ('collar', 266), ('uranium', 266), ('guidelines', 266), ('magic', 266), ('cook', 266), ('hong', 265), ('le', 265), ('transportation', 265), ('editors', 265), ('roles', 265), ('founding', 265), ('finger', 265), ('wondering', 265), ('towns', 265), ('lewd', 265), ('considerable', 265), ('geopolitical', 265), ('kenya', 265), ('teams', 265), ('substance', 265), ('assured', 264), ('signature', 264), ('threaten', 264), ('billy', 264), ('planes', 264), ('damaged', 264), ('roberts', 264), ('spy', 264), ('visiting', 263), ('condemned', 263), ('timing', 263), ('complaint', 263), ('managers', 263), ('underground', 263), ('adams', 263), ('campaigned', 263), ('fueled', 263), ('insurers', 263), ('desperately', 263), ('capture', 263), ('afghan', 263), ('stating', 262), ('engaging', 262), ('solve', 262), ('generated', 262), ('driver', 262), ('summit', 262), ('stable', 262), ('saudis', 262), ('nationalism', 262), ('accountability', 262), ('frankly', 262), ('francis', 262), ('watergate', 262), ('dapl', 262), ('sheeple', 262), ('holdings', 261), ('donation', 261), ('graduate', 261), ('counts', 261), ('trigger', 261), ('overnight', 261), ('neutral', 261), ('capitalist', 261), ('praise', 261), ('objects', 261), ('explaining', 260), ('symbol', 260), ('pursuing', 260), ('fortune', 260), ('craig', 260), ('homeless', 260), ('blaming', 260), ('funny', 260), ('struggles', 260), ('reflects', 260), ('websites', 260), ('consumption', 260), ('exercises', 260), ('calif', 259), ('partly', 259), ('viral', 259), ('injuries', 259), ('newspapers', 258), ('thin', 258), ('employed', 258), ('intends', 258), ('bunch', 258), ('wildlife', 258), ('apologize', 258), ('unacceptable', 258), ('blunt', 258), ('refuge', 258), ('logic', 258), ('va', 258), ('visible', 258), ('slave', 258), ('flowers', 258), ('belt', 257), ('drink', 257), ('tenure', 257), ('addressing', 257), ('theme', 257), ('personality', 257), ('calm', 257), ('raw', 257), ('saved', 257), ('drawing', 257), ('warm', 257), ('hussein', 257), ('generate', 256), ('complained', 256), ('painful', 256), ('centuries', 256), ('proves', 256), ('smoke', 256), ('portfolio', 255), ('instagram', 255), ('refer', 255), ('emphasized', 255), ('struggled', 255), ('wood', 255), ('pundits', 255), ('papers', 255), ('implement', 255), ('celebrate', 255), ('cool', 255), ('frequent', 254), ('resolve', 254), ('prisoners', 254), ('artificial', 254), ('alcohol', 254), ('traditionally', 254), ('hire', 254), ('hiring', 254), ('royal', 254), ('involves', 254), ('bag', 253), ('reviewed', 253), ('surfaced', 253), ('beauty', 253), ('catch', 253), ('adult', 253), ('jet', 253), ('dependent', 253), ('sudden', 253), ('inform', 253), ('volatility', 253), ('consideration', 253), ('predict', 253), ('surrounded', 253), ('reserved', 253), ('joy', 253), ('stepped', 252), ('depending', 252), ('sunni', 252), ('assess', 252), ('hopeful', 252), ('accepting', 252), ('wolf', 252), ('grounds', 252), ('babies', 252), ('legitimacy', 252), ('tour', 251), ('province', 251), ('nytopinion', 251), ('harsh', 251), ('strategies', 251), ('mom', 251), ('beating', 251), ('kong', 250), ('penalty', 250), ('believing', 250), ('cry', 250), ('removal', 250), ('odd', 250), ('acid', 250), ('parenthood', 250), ('ignoring', 250), ('improving', 250), ('shifted', 250), ('rebuild', 250), ('advocacy', 250), ('electric', 250), ('disclose', 250), ('shots', 249), ('correction', 249), ('counting', 249), ('reince', 249), ('mood', 249), ('stakes', 249), ('strengthen', 249), ('argues', 249), ('port', 249), ('appointments', 249), ('suspicious', 249), ('firing', 249), ('occupy', 249), ('trending', 249), ('cheney', 249), ('mercury', 249), ('frequency', 249), ('reelection', 249), ('maryland', 248), ('forecast', 248), ('dangers', 248), ('formally', 248), ('fighter', 248), ('sweden', 248), ('khan', 248), ('assuming', 248), ('engineering', 248), ('conscious', 248), ('hamilton', 248), ('soldier', 248), ('imperialism', 248), ('sight', 247), ('fault', 247), ('injured', 247), ('aspect', 247), ('disastrous', 247), ('obligation', 246), ('harris', 246), ('consultant', 246), ('minded', 246), ('contributing', 246), ('rudy', 246), ('actors', 246), ('yen', 246), ('pact', 246), ('emotions', 246), ('risen', 246), ('neocon', 246), ('quietly', 245), ('temporary', 245), ('entity', 245), ('observer', 245), ('parent', 245), ('volunteers', 245), ('client', 245), ('witnessed', 245), ('intimidation', 245), ('militarized', 245), ('ridiculous', 245), ('hurricane', 245), ('symptoms', 245), ('pa', 244), ('refusal', 244), ('contribute', 244), ('pot', 244), ('experiences', 244), ('household', 244), ('highlighted', 244), ('violate', 244), ('clip', 244), ('zionist', 244), ('fundraiser', 244), ('rush', 243), ('bruce', 243), ('hosted', 243), ('avoided', 243), ('confirmation', 243), ('repeat', 243), ('onion', 243), ('lessons', 243), ('taxpayer', 243), ('perform', 243), ('highway', 243), ('rear', 243), ('irs', 243), ('demonstrate', 242), ('jimmy', 242), ('landscape', 242), ('waking', 242), ('strongest', 242), ('cap', 242), ('poised', 242), ('quotes', 242), ('tags', 242), ('immune', 242), ('mcmullin', 242), ('emphasis', 241), ('bright', 241), ('suburban', 241), ('temple', 241), ('ride', 241), ('deployment', 241), ('achieved', 241), ('patterns', 241), ('households', 241), ('trusted', 241), ('attorneys', 241), ('monitor', 241), ('distribution', 241), ('breast', 241), ('snowden', 241), ('gaddafi', 241), ('inappropriate', 240), ('brussels', 240), ('controlling', 240), ('toll', 240), ('dressed', 240), ('compromise', 240), ('selected', 240), ('hits', 240), ('leverage', 240), ('shifting', 240), ('perception', 240), ('prosperity', 240), ('depend', 240), ('countless', 240), ('aggressively', 240), ('uncovered', 240), ('globalists', 240), ('standoff', 240), ('assumed', 240), ('globalism', 240), ('phones', 240), ('swamp', 239), ('margins', 239), ('explosive', 239), ('rob', 239), ('susan', 239), ('peso', 239), ('popularity', 239), ('militia', 239), ('respected', 239), ('rig', 239), ('roads', 239), ('warns', 239), ('hatch', 239), ('aligned', 239), ('info', 239), ('halt', 238), ('jeffrey', 238), ('advances', 238), ('declining', 238), ('garden', 238), ('dying', 238), ('roman', 238), ('neck', 238), ('quit', 238), ('rank', 238), ('virus', 238), ('jungle', 238), ('shit', 238), ('modest', 237), ('wonderful', 237), ('thirds', 237), ('researcher', 237), ('exception', 237), ('entities', 237), ('sets', 237), ('spreading', 237), ('wise', 237), ('lists', 237), ('waters', 237), ('locked', 237), ('nonprofit', 236), ('improved', 236), ('addresses', 236), ('groping', 236), ('revolt', 236), ('maximum', 236), ('nobel', 236), ('preventing', 236), ('traveling', 236), ('soft', 236), ('decent', 236), ('takeover', 236), ('engagement', 236), ('greatly', 236), ('el', 236), ('toomey', 236), ('contribution', 235), ('divisive', 235), ('advisory', 235), ('rumors', 235), ('tie', 235), ('everyday', 235), ('preserve', 235), ('bloc', 235), ('christianity', 235), ('deportation', 235), ('monitoring', 235), ('proxy', 235), ('leftist', 235), ('bloody', 235), ('infamous', 235), ('examine', 235), ('daughters', 234), ('dallas', 234), ('hoax', 234), ('removing', 234), ('mogul', 234), ('tyranny', 234), ('deliberately', 234), ('justin', 234), ('overhaul', 234), ('filing', 233), ('crowds', 233), ('authoritarian', 233), ('privilege', 233), ('underway', 233), ('acceptable', 233), ('thiel', 233), ('rescue', 233), ('reserves', 233), ('palmieri', 233), ('spokesperson', 233), ('submit', 232), ('locker', 232), ('expenses', 232), ('truck', 232), ('dean', 232), ('gaining', 232), ('dynamic', 232), ('masters', 232), ('mandatory', 232), ('predictions', 232), ('assist', 232), ('finish', 231), ('painted', 231), ('celebrities', 231), ('surprisingly', 231), ('provisions', 231), ('resort', 231), ('silicon', 231), ('conclusions', 231), ('confusion', 231), ('walsh', 231), ('nervous', 231), ('greek', 231), ('disappointed', 230), ('involve', 230), ('dec', 230), ('frustration', 230), ('lights', 230), ('apology', 230), ('reminded', 230), ('correctly', 230), ('flood', 230), ('discover', 230), ('initiatives', 230), ('barrel', 230), ('fame', 230), ('nypd', 230), ('ims', 230), ('framework', 229), ('exciting', 229), ('ease', 229), ('replacement', 229), ('selection', 229), ('spray', 229), ('qualified', 229), ('divisions', 229), ('zuckerberg', 229), ('punishment', 229), ('reset', 229), ('uncle', 229), ('plain', 229), ('requested', 228), ('sufficient', 228), ('justices', 228), ('mystery', 228), ('heck', 228), ('kid', 228), ('tear', 228), ('heaven', 228), ('fascism', 228), ('infowarsstore', 228), ('tzrwu', 228), ('palm', 227), ('austin', 227), ('columbia', 227), ('hannity', 227), ('reviewing', 227), ('answered', 227), ('pregnant', 227), ('mysterious', 227), ('passage', 227), ('hemisphere', 227), ('neocons', 227), ('seeds', 226), ('accident', 226), ('dominance', 226), ('clothes', 226), ('longstanding', 226), ('acted', 226), ('raped', 226), ('mexicans', 226), ('drones', 226), ('sadly', 226), ('consequence', 226), ('jordan', 226), ('application', 226), ('australian', 226), ('insults', 226), ('overcome', 226), ('quoting', 226), ('download', 226), ('dry', 225), ('millennials', 225), ('nominated', 225), ('criticizing', 225), ('hiding', 225), ('conducting', 225), ('agriculture', 225), ('defensive', 225), ('kansas', 225), ('classic', 225), ('amnesty', 225), ('hacks', 225), ('absentee', 225), ('howard', 225), ('evan', 225), ('prayer', 225), ('liberation', 225), ('doubts', 224), ('synopsis', 224), ('notable', 224), ('earn', 224), ('grave', 224), ('migration', 224), ('notably', 224), ('posed', 224), ('reduction', 224), ('evident', 224), ('teach', 224), ('treason', 224), ('radiation', 224), ('charitable', 223), ('procedures', 223), ('rivals', 223), ('lawsuits', 223), ('grabbing', 223), ('collusion', 223), ('sexist', 223), ('intentions', 223), ('chapter', 223), ('subjects', 223), ('fossil', 223), ('misleading', 223), ('arctic', 223), ('ignorant', 223), ('deserves', 223), ('kyle', 223), ('shipping', 223), ('clock', 222), ('customer', 222), ('abandon', 222), ('contractors', 222), ('cleared', 222), ('pretend', 222), ('pressing', 222), ('independents', 222), ('grid', 222), ('insane', 222), ('additionally', 222), ('snip', 222), ('backers', 221), ('katie', 221), ('sam', 221), ('treating', 221), ('deutsche', 221), ('clark', 221), ('jihadists', 221), ('lgbt', 221), ('commons', 221), ('disclosed', 220), ('judiciary', 220), ('prince', 220), ('paint', 220), ('spain', 220), ('lift', 220), ('reader', 220), ('newt', 220), ('denial', 220), ('sister', 220), ('motion', 220), ('rice', 220), ('pertinent', 220), ('appointees', 219), ('christopher', 219), ('economically', 219), ('broadly', 219), ('principal', 219), ('confront', 219), ('throwing', 219), ('suppression', 219), ('participating', 219), ('jew', 219), ('wider', 219), ('frustrated', 219), ('horse', 219), ('horror', 219), ('copper', 219), ('mount', 219), ('gaza', 219), ('tanden', 219), ('fuck', 219), ('spin', 218), ('expressing', 218), ('transgender', 218), ('feared', 218), ('reliable', 218), ('export', 218), ('phoenix', 218), ('accuse', 218), ('evangelicals', 218), ('academy', 218), ('evolution', 218), ('philosophy', 218), ('enforce', 218), ('remind', 218), ('searching', 218), ('con', 218), ('censorship', 218), ('eurozone', 218), ('cheryl', 218), ('hang', 217), ('assaulted', 217), ('array', 217), ('modi', 217), ('champion', 217), ('furious', 217), ('studied', 217), ('honestly', 217), ('importantly', 217), ('denying', 217), ('cloud', 217), ('beaten', 217), ('harmful', 217), ('shop', 216), ('troubled', 216), ('govern', 216), ('approve', 216), ('dress', 216), ('anderson', 216), ('library', 216), ('replacing', 216), ('europeans', 216), ('roosevelt', 216), ('pollster', 216), ('situations', 216), ('peak', 216), ('souls', 216), ('weakness', 216), ('larry', 216), ('physically', 216), ('sullivan', 216), ('oath', 216), ('delivery', 216), ('scare', 216), ('warn', 215), ('concrete', 215), ('commissioner', 215), ('benefited', 215), ('strip', 215), ('uncertain', 215), ('ignorance', 215), ('coordinated', 215), ('nazis', 215), ('refuses', 215), ('intend', 215), ('pew', 215), ('cameras', 214), ('lifestyle', 214), ('willingness', 214), ('confused', 214), ('occasions', 214), ('chronic', 214), ('irish', 214), ('elderly', 214), ('saving', 214), ('collected', 214), ('proposes', 214), ('nationally', 214), ('liberties', 214), ('capabilities', 214), ('deplorables', 214), ('riots', 214), ('covert', 214), ('ironically', 214), ('launching', 214), ('wmw', 214), ('package', 213), ('unconstitutional', 213), ('simon', 213), ('theft', 213), ('eve', 213), ('possibilities', 213), ('channels', 213), ('berlin', 213), ('continent', 213), ('megyn', 213), ('understands', 213), ('firearms', 213), ('drill', 213), ('rubber', 213), ('loves', 212), ('requiring', 212), ('patriot', 212), ('dropping', 212), ('suburbs', 212), ('cancel', 212), ('patrol', 212), ('hearings', 212), ('embargo', 212), ('mode', 212), ('structures', 211), ('wrongdoing', 211), ('mccarthy', 211), ('obstruction', 211), ('cents', 211), ('carol', 211), ('tribal', 211), ('cite', 211), ('tears', 211), ('transcript', 211), ('estranged', 211), ('centre', 211), ('educational', 210), ('attracted', 210), ('immunity', 210), ('hearts', 210), ('outcomes', 210), ('ammunition', 210), ('loose', 210), ('casualties', 210), ('length', 209), ('sum', 209), ('rogue', 209), ('helpful', 209), ('invite', 209), ('publications', 209), ('crises', 209), ('routinely', 209), ('alexander', 209), ('jeb', 209), ('impression', 209), ('israelis', 209), ('precincts', 209), ('satellite', 209), ('contributor', 209), ('apartment', 208), ('precedent', 208), ('description', 208), ('meaningful', 208), ('dominate', 208), ('projected', 208), ('biased', 208), ('brave', 208), ('lobbyist', 208), ('stations', 208), ('msm', 208), ('autism', 208), ('button', 207), ('investing', 207), ('excited', 207), ('benjamin', 207), ('dealings', 207), ('considers', 207), ('neighborhoods', 207), ('tree', 207), ('facility', 207), ('governance', 207), ('dignity', 207), ('cubs', 207), ('expecting', 207), ('extremist', 207), ('correspondent', 207), ('profound', 207), ('verdict', 207), ('spam', 207), ('imf', 207), ('cooperate', 206), ('occurring', 206), ('breath', 206), ('communism', 206), ('reminder', 206), ('alternatives', 206), ('critic', 206), ('experiment', 206), ('mediterranean', 206), ('rage', 206), ('vicious', 206), ('instances', 206), ('superior', 206), ('alike', 206), ('abuses', 206), ('pharma', 206), ('kurds', 206), ('approached', 205), ('loud', 205), ('stopping', 205), ('embraced', 205), ('optimism', 205), ('concentration', 205), ('lasting', 205), ('indication', 205), ('estimate', 205), ('switched', 205), ('baltic', 205), ('practical', 204), ('proceed', 204), ('aaron', 204), ('significance', 204), ('myth', 204), ('burr', 204), ('manipulated', 204), ('jets', 204), ('pilger', 204), ('hat', 203), ('outsider', 203), ('settle', 203), ('techniques', 203), ('freely', 203), ('childhood', 203), ('loyalty', 203), ('traveled', 203), ('ray', 203), ('reflected', 203), ('resource', 203), ('nonsense', 203), ('duck', 203), ('fled', 203), ('proving', 203), ('pair', 203), ('commodity', 203), ('sputnik', 203), ('ceta', 203), ('phony', 202), ('gear', 202), ('yorkers', 202), ('lieutenant', 202), ('pocket', 202), ('deciding', 202), ('insight', 202), ('depth', 202), ('trillions', 202), ('external', 202), ('employers', 202), ('performed', 202), ('translated', 202), ('sorts', 202), ('secrecy', 202), ('dictator', 202), ('ru', 202), ('sake', 201), ('outreach', 201), ('fallout', 201), ('references', 201), ('respondents', 201), ('governors', 201), ('unpopular', 201), ('computers', 201), ('appearing', 201), ('hostility', 201), ('resign', 201), ('domain', 201), ('margaret', 201), ('solidarity', 201), ('alaska', 201), ('jake', 201), ('realities', 200), ('arrive', 200), ('telephone', 200), ('ranging', 200), ('committing', 200), ('discourse', 200), ('cultures', 200), ('punish', 200), ('islands', 200), ('segment', 200), ('fiction', 200), ('graham', 200), ('absence', 200), ('rome', 200), ('failures', 200), ('colonial', 200), ('ass', 200), ('operates', 200), ('bone', 200), ('garner', 200), ('saddam', 200), ('scope', 199), ('grade', 199), ('subsequently', 199), ('producer', 199), ('concert', 199), ('valuable', 199), ('bragging', 199), ('underlying', 199), ('resigned', 199), ('partial', 199), ('successor', 199), ('guidance', 199), ('en', 199), ('picking', 199), ('kissinger', 199), ('churches', 199), ('em', 199), ('manufacturers', 199), ('committees', 199), ('reno', 199), ('cruise', 199), ('whistleblower', 199), ('checked', 198), ('offshore', 198), ('tension', 198), ('tightening', 198), ('sophisticated', 198), ('trick', 198), ('featuring', 198), ('brent', 198), ('bull', 198), ('ecuador', 198), ('damascus', 198), ('shopping', 197), ('drain', 197), ('disrupt', 197), ('associates', 197), ('sweeping', 197), ('ownership', 197), ('embarrassing', 197), ('pose', 197), ('appearances', 197), ('sworn', 197), ('canceled', 197), ('simultaneously', 197), ('governmental', 197), ('submitted', 197), ('societies', 197), ('alter', 197), ('actor', 197), ('parallel', 197), ('flint', 197), ('resignation', 197), ('misconduct', 197), ('sample', 197), ('orlando', 197), ('cooking', 197), ('flu', 197), ('initiated', 197), ('flickr', 197), ('beneficial', 196), ('billionaires', 196), ('worries', 196), ('witnesses', 196), ('dumb', 196), ('apprentice', 196), ('arrangement', 196), ('sweet', 196), ('holocaust', 196), ('fleeing', 196), ('belonging', 196), ('deficits', 196), ('seattle', 196), ('blocking', 196), ('secular', 196), ('stevens', 196), ('labeled', 196), ('rebecca', 196), ('circles', 196), ('commented', 196), ('rocket', 196), ('regimes', 196), ('servers', 196), ('deport', 195), ('compete', 195), ('introduce', 195), ('enjoyed', 195), ('magnitude', 195), ('tons', 195), ('doctrine', 195), ('bilateral', 195), ('scenarios', 195), ('injury', 195), ('deception', 195), ('nose', 195), ('shifts', 195), ('outraged', 195), ('warnings', 195), ('adopt', 195), ('catastrophic', 195), ('pepper', 195), ('catholics', 195), ('tribune', 195), ('quantum', 195), ('beer', 194), ('oppression', 194), ('approaches', 194), ('disgusting', 194), ('concede', 194), ('chase', 194), ('producers', 194), ('parliamentary', 194), ('gradually', 194), ('suspended', 194), ('fires', 194), ('transport', 194), ('implemented', 194), ('chambers', 194), ('martial', 194), ('payer', 194), ('pollution', 193), ('eligible', 193), ('pending', 193), ('resident', 193), ('clothing', 193), ('financing', 193), ('firmly', 193), ('benchmark', 193), ('mars', 193), ('shield', 193), ('calais', 193), ('volunteer', 193), ('stewart', 193), ('storage', 193), ('sectors', 193), ('attractive', 193), ('defendants', 193), ('militant', 193), ('salt', 193), ('pledges', 192), ('maker', 192), ('alan', 192), ('refers', 192), ('prohibited', 192), ('kicked', 192), ('label', 192), ('communicate', 192), ('mitch', 192), ('ireland', 192), ('norway', 192), ('loving', 192), ('beast', 192), ('mountain', 192), ('hassan', 192), ('aims', 192), ('contempt', 192), ('ferguson', 192), ('thompson', 192), ('bayh', 192), ('trees', 191), ('heal', 191), ('litigation', 191), ('outlet', 191), ('emailed', 191), ('kick', 191), ('hypocrisy', 191), ('accompanied', 191), ('giants', 191), ('mechanism', 191), ('persons', 191), ('mcauliffe', 191), ('sic', 191), ('bankruptcy', 190), ('jared', 190), ('sends', 190), ('ambitions', 190), ('pursuit', 190), ('vague', 190), ('avoiding', 190), ('drove', 190), ('utterly', 190), ('departure', 190), ('preparation', 190), ('implementation', 190), ('reservation', 190), ('conviction', 190), ('cares', 190), ('baker', 190), ('cannon', 190), ('ph', 190), ('gather', 190), ('crying', 190), ('navigation', 190), ('witch', 190), ('matrix', 190), ('guests', 189), ('accomplished', 189), ('suggestion', 189), ('sacrifice', 189), ('category', 189), ('barriers', 189), ('diabetes', 189), ('burned', 189), ('kasich', 189), ('accord', 189), ('disorder', 189), ('departments', 189), ('unfit', 189), ('scary', 189), ('threw', 189), ('insult', 189), ('vatican', 189), ('isaac', 189), ('thrush', 189), ('kuznetsov', 189), ('exposes', 189), ('helmets', 189), ('urge', 188), ('negotiate', 188), ('violating', 188), ('insist', 188), ('explicit', 188), ('ethical', 188), ('anchor', 188), ('encounter', 188), ('rational', 188), ('accomplish', 188), ('row', 188), ('traded', 188), ('moderator', 188), ('franklin', 188), ('testified', 188), ('efficient', 188), ('foundations', 188), ('element', 188), ('damn', 188), ('codes', 188), ('succeeded', 188), ('crack', 188), ('nutrition', 188), ('engineers', 188), ('batch', 188), ('essence', 188), ('doubled', 187), ('frame', 187), ('platforms', 187), ('collect', 187), ('shaped', 187), ('slogan', 187), ('trash', 187), ('stark', 187), ('nonpartisan', 187), ('notorious', 187), ('illusion', 187), ('malaysia', 187), ('dominant', 187), ('jefferson', 187), ('rushed', 187), ('greg', 187), ('custody', 187), ('birthday', 187), ('contra', 187), ('commodities', 187), ('opec', 187), ('fucking', 187), ('plastic', 186), ('visits', 186), ('practically', 186), ('interior', 186), ('persuade', 186), ('miracle', 186), ('scores', 186), ('define', 186), ('commenting', 186), ('virtual', 186), ('portland', 186), ('fairness', 186), ('intelligent', 186), ('analyses', 186), ('hamas', 186), ('nfl', 186), ('sons', 185), ('chancellor', 185), ('checking', 185), ('reluctant', 185), ('influenced', 185), ('legislature', 185), ('fundamentally', 185), ('surveyed', 185), ('experiencing', 185), ('dissent', 185), ('absurd', 185), ('felony', 185), ('pivot', 185), ('advertisers', 185), ('hysteria', 185), ('horizon', 185), ('blocks', 184), ('measured', 184), ('banker', 184), ('quarters', 184), ('explicitly', 184), ('allen', 184), ('electing', 184), ('placing', 184), ('uprising', 184), ('contentious', 184), ('keefe', 184), ('paradigm', 184), ('hypothesis', 184), ('taliban', 184), ('conservatism', 183), ('tapped', 183), ('likelihood', 183), ('innovation', 183), ('llc', 183), ('guards', 183), ('laugh', 183), ('fierce', 183), ('robust', 183), ('challenger', 183), ('fargo', 183), ('triggered', 183), ('liberalism', 183), ('ensuring', 183), ('random', 183), ('acceptance', 183), ('executed', 183), ('excessive', 183), ('alliances', 183), ('arabs', 183), ('systemic', 183), ('ingredients', 183), ('bolton', 183), ('mounting', 183), ('sooner', 183), ('illuminati', 183), ('rent', 182), ('lucky', 182), ('artist', 182), ('statewide', 182), ('receives', 182), ('alarm', 182), ('arthur', 182), ('processes', 182), ('agricultural', 182), ('react', 182), ('score', 182), ('functions', 182), ('wishes', 182), ('keith', 182), ('transform', 182), ('chaffetz', 182), ('hanging', 181), ('apologized', 181), ('sits', 181), ('hosts', 181), ('decides', 181), ('temporarily', 181), ('assaulting', 181), ('prediction', 181), ('pride', 181), ('reversed', 181), ('dennis', 181), ('regret', 181), ('bureaucracy', 181), ('beneath', 181), ('generals', 181), ('bare', 181), ('engineered', 181), ('nate', 181), ('undoubtedly', 181), ('weird', 181), ('divine', 181), ('attribution', 181), ('developer', 180), ('comfort', 180), ('visa', 180), ('flags', 180), ('settlements', 180), ('swift', 180), ('asserted', 180), ('separation', 180), ('pays', 180), ('spite', 180), ('recovered', 180), ('morocco', 180), ('productive', 180), ('unrelated', 180), ('outrageous', 180), ('stealing', 180), ('fracking', 180), ('baseball', 180), ('uncomfortable', 180), ('deadline', 180), ('tesla', 180), ('clinical', 180), ('xi', 179), ('monica', 179), ('monopoly', 179), ('competing', 179), ('disputed', 179), ('kenneth', 179), ('signaled', 179), ('semitic', 179), ('majorities', 179), ('insulting', 179), ('deplorable', 179), ('teaching', 179), ('jihadist', 179), ('chairwoman', 178), ('cease', 178), ('interpretation', 178), ('liar', 178), ('attract', 178), ('anxious', 178), ('skepticism', 178), ('conclude', 178), ('delivering', 178), ('brotherhood', 178), ('patriotic', 178), ('tolerance', 178), ('sudan', 178), ('carney', 178), ('epa', 178), ('chomsky', 178), ('excerpts', 177), ('transformation', 177), ('casino', 177), ('irrelevant', 177), ('comply', 177), ('examined', 177), ('invisible', 177), ('clarity', 177), ('script', 177), ('origin', 177), ('orthodox', 177), ('permit', 177), ('tribes', 177), ('tehran', 177), ('laying', 177), ('defeating', 177), ('sexism', 177), ('guaranteed', 177), ('outlined', 177), ('trafficking', 177), ('mosque', 177), ('suspects', 177), ('lt', 177), ('prosecuted', 177), ('ballistic', 177), ('extraterrestrial', 177), ('extension', 176), ('mirror', 176), ('math', 176), ('permitted', 176), ('certified', 176), ('accounting', 176), ('inevitably', 176), ('eddie', 176), ('patriots', 176), ('anna', 176), ('wilson', 176), ('offset', 176), ('turmoil', 176), ('inbox', 176), ('victories', 176), ('enacted', 176), ('glad', 176), ('basket', 176), ('advisors', 176), ('spots', 176), ('glenn', 176), ('decisive', 176), ('explosion', 176), ('ag', 176), ('saker', 176), ('oklahoma', 175), ('trumps', 175), ('attending', 175), ('wondered', 175), ('coffee', 175), ('publisher', 175), ('meets', 175), ('holes', 175), ('isolated', 175), ('alarming', 175), ('todd', 175), ('performing', 175), ('trucks', 175), ('intervene', 175), ('strengthening', 175), ('commonly', 175), ('birds', 175), ('monsanto', 175), ('pitch', 174), ('battles', 174), ('diplomats', 174), ('confidential', 174), ('provision', 174), ('swept', 174), ('ceremony', 174), ('altogether', 174), ('taste', 174), ('brilliant', 174), ('mothers', 174), ('shootings', 174), ('neoliberal', 174), ('allegiance', 174), ('compare', 174), ('laughing', 174), ('weaker', 174), ('bonuses', 174), ('foreigners', 173), ('rifle', 173), ('southeast', 173), ('credits', 173), ('territories', 173), ('attributed', 173), ('covers', 173), ('reactions', 173), ('administrations', 173), ('rejection', 173), ('surrogate', 173), ('russ', 173), ('genius', 173), ('pound', 173), ('blasted', 173), ('kirby', 173), ('drama', 173), ('socialism', 173), ('justified', 173), ('flawed', 173), ('wow', 173), ('ideal', 173), ('relation', 173), ('naked', 173), ('magnesium', 173), ('questionable', 172), ('costly', 172), ('theater', 172), ('staggering', 172), ('sustained', 172), ('films', 172), ('illegals', 172), ('singer', 172), ('meme', 172), ('criticize', 172), ('sir', 172), ('injustice', 172), ('procedure', 172), ('unesco', 172), ('ufos', 172), ('abe', 171), ('celebrating', 171), ('rolls', 171), ('survived', 171), ('bears', 171), ('noise', 171), ('prosecute', 171), ('historian', 171), ('temperament', 171), ('betting', 171), ('relied', 171), ('revenge', 171), ('urgent', 171), ('killer', 171), ('hayden', 171), ('indicted', 171), ('bets', 171), ('pension', 171), ('compromised', 171), ('affiliated', 171), ('guilt', 171), ('kander', 171), ('admission', 170), ('dishonest', 170), ('applause', 170), ('difficulty', 170), ('unleashed', 170), ('vocal', 170), ('kentucky', 170), ('cent', 170), ('severely', 170), ('integration', 170), ('rampant', 170), ('acquired', 170), ('damning', 170), ('pilot', 170), ('colin', 170), ('globally', 170), ('undercover', 170), ('pravda', 170), ('ethiopia', 169), ('monster', 169), ('upshot', 169), ('founders', 169), ('santa', 169), ('netherlands', 169), ('correctness', 169), ('reflection', 169), ('buried', 169), ('falsely', 169), ('instructions', 169), ('fallon', 169), ('sued', 168), ('carson', 168), ('famously', 168), ('gabriel', 168), ('existed', 168), ('rapists', 168), ('gates', 168), ('supremacy', 168), ('catastrophe', 168), ('rallied', 168), ('nationalists', 168), ('fuels', 168), ('ceiling', 168), ('logical', 168), ('interventions', 168), ('seize', 168), ('chiefs', 168), ('solely', 168), ('prescription', 168), ('bin', 168), ('pregnancy', 168), ('advocated', 168), ('burns', 168), ('relentless', 168), ('idiot', 168), ('dictatorship', 168), ('dose', 168), ('syndrome', 168), ('crops', 168), ('bars', 167), ('excess', 167), ('compliance', 167), ('luck', 167), ('fights', 167), ('aged', 167), ('caution', 167), ('treaties', 167), ('maintains', 167), ('membership', 167), ('incomes', 167), ('midst', 167), ('commitments', 167), ('fascinating', 167), ('banning', 167), ('mishandling', 167), ('heather', 167), ('tragedy', 167), ('fathers', 167), ('transparent', 167), ('cult', 167), ('ceasefire', 167), ('italic', 167), ('antonio', 166), ('grants', 166), ('liability', 166), ('introduction', 166), ('crossed', 166), ('duties', 166), ('devoted', 166), ('anniversary', 166), ('drivers', 166), ('colleague', 166), ('assumption', 166), ('factories', 166), ('islamist', 166), ('pockets', 166), ('egyptian', 166), ('blames', 166), ('shaken', 166), ('unnecessary', 166), ('arrival', 166), ('debbie', 166), ('juice', 166), ('embedded', 166), ('unite', 165), ('belong', 165), ('pause', 165), ('renewable', 165), ('realdonaldtrump', 165), ('finances', 165), ('commentator', 165), ('crossing', 165), ('heated', 165), ('tendency', 165), ('darkness', 165), ('grace', 165), ('administrative', 165), ('accusation', 165), ('conscience', 165), ('evolved', 165), ('blown', 165), ('invaded', 165), ('ecb', 165), ('imperialist', 165), ('applications', 164), ('prompting', 164), ('operated', 164), ('accurately', 164), ('buyers', 164), ('string', 164), ('fraudulent', 164), ('tune', 164), ('denounced', 164), ('dig', 164), ('triumph', 164), ('sway', 164), ('taylor', 164), ('declines', 164), ('condemn', 164), ('activism', 164), ('secured', 164), ('somalia', 164), ('scalia', 164), ('movies', 164), ('boat', 164), ('brad', 164), ('guided', 164), ('caller', 164), ('informing', 164), ('surplus', 164), ('contested', 164), ('reign', 164), ('dutch', 164), ('robby', 164), ('morton', 164), ('wp', 164)]\n"
     ]
    }
   ],
   "source": [
    "words, word_to_id = build_vocab(concat_text,vocab_size)\n",
    "#print(word_to_id)"
   ]
  },
  {
   "cell_type": "code",
   "execution_count": 17,
   "metadata": {},
   "outputs": [
    {
     "name": "stdout",
     "output_type": "stream",
     "text": [
      "5000\n"
     ]
    }
   ],
   "source": [
    "print(len(word_to_id))"
   ]
  },
  {
   "cell_type": "code",
   "execution_count": 18,
   "metadata": {},
   "outputs": [],
   "source": [
    "#padding the samples sequence length = 300\n",
    "def get_pad_text(text_words, word_to_id, max_length=100):   \n",
    "    data_id=[]\n",
    "    for x in text_words:\n",
    "        single_text=[]\n",
    "        for i in x:\n",
    "            if i in words:\n",
    "                a=word_to_id[i]\n",
    "                single_text.append(a)\n",
    "        data_id.append(single_text)\n",
    "    x_pad = kr.preprocessing.sequence.pad_sequences(data_id, max_length)\n",
    "    return np.array(x_pad)\n",
    "\n",
    "X = get_pad_text(concat_text,word_to_id,max_length=sequence_length)"
   ]
  },
  {
   "cell_type": "code",
   "execution_count": 19,
   "metadata": {
    "scrolled": true
   },
   "outputs": [
    {
     "name": "stdout",
     "output_type": "stream",
     "text": [
      "(16251, 300)\n",
      "[[  65  823 3439 ... 1635    5  136]\n",
      " [   0    0    0 ... 1452   39 1505]\n",
      " [  56    1 2746 ...   23  177 1547]\n",
      " ...\n",
      " [   0    0    0 ...    0 1376 1667]\n",
      " [   0    0    0 ...  533  787 1667]\n",
      " [   0    0    0 ...    0    0 1667]]\n"
     ]
    }
   ],
   "source": [
    "print(X.shape)\n",
    "print(X)"
   ]
  },
  {
   "cell_type": "markdown",
   "metadata": {},
   "source": [
    "**划分训练集和线下验证集**"
   ]
  },
  {
   "cell_type": "code",
   "execution_count": 20,
   "metadata": {},
   "outputs": [],
   "source": [
    "def train_dev_split(X,y):\n",
    "    #每次的随机都保证一样\n",
    "    np.random.seed(10)\n",
    "    shuffle_indices = np.random.permutation(len(y))\n",
    "    x_shuffled = X[shuffle_indices]\n",
    "    y_shuffled = y[shuffle_indices]\n",
    "    # Split train/test set\n",
    "    # 后10%作为验证集\n",
    "    dev_sample_index = -1 * int(0.1 * float(len(y)))\n",
    "    x_train, x_dev = x_shuffled[:dev_sample_index], x_shuffled[dev_sample_index:]\n",
    "    y_train, y_dev = y_shuffled[:dev_sample_index], y_shuffled[dev_sample_index:]\n",
    "    print(\"Train/Dev split: {:d}/{:d}\".format(len(y_train), len(y_dev)))\n",
    "    return x_train, y_train, word_to_id, x_dev, y_dev"
   ]
  },
  {
   "cell_type": "code",
   "execution_count": 21,
   "metadata": {},
   "outputs": [
    {
     "name": "stdout",
     "output_type": "stream",
     "text": [
      "[1 0 0 0 0 1 0 0 1 0 0 1 1 1 0 0 0 0 0 0 0 0 0 0 0 0 1 0 0 1 0 0 0 1 0 0 0\n",
      " 1 0 1 0 0 0 1 0 0 1 1 1 0 0 0 0 0 0 1 0 0 0 1 0 1 0 0 1 0 0 0 0 0 0 0 0 0\n",
      " 1 0 0 0 0 0 1 1 0 0 0 1 0 0 0 1 1 0 0 1 0 0 1 0 1 0]\n"
     ]
    }
   ],
   "source": [
    "y = np.array(df['type'])\n",
    "#x_train, y_train, word_to_id, x_dev, y_dev = train_dev_split(X,y)\n",
    "from sklearn.model_selection import train_test_split\n",
    "\n",
    "x_train,x_val,y_train,y_val = train_test_split(X,y,test_size=0.2,random_state=10,stratify=y)\n",
    "print(y_val[:100])"
   ]
  },
  {
   "cell_type": "markdown",
   "metadata": {},
   "source": [
    "**TextCNN 模型**"
   ]
  },
  {
   "cell_type": "code",
   "execution_count": 22,
   "metadata": {},
   "outputs": [
    {
     "name": "stdout",
     "output_type": "stream",
     "text": [
      "(?, 300)\n",
      "(?, 300, 128)\n"
     ]
    }
   ],
   "source": [
    "#Inputs:Input函数只需要填写列数\n",
    "comment_seq = Input(shape=[sequence_length],name='x_seq')  #shape is (number of samples eg:10000,300) \n",
    "print(comment_seq.shape)\n",
    "#embedding layers\n",
    "embedding_layer = Embedding(len(word_to_id), embedding_dims)(comment_seq)   #填充层，Embedding(len(word_to_id), embedding_dims) 内置 5000(len word_to_id) 0....4999*128 random vector\n",
    "# comment_seq 放入变成 10000*300*128\n",
    "print(embedding_layer.shape)"
   ]
  },
  {
   "cell_type": "code",
   "execution_count": 23,
   "metadata": {},
   "outputs": [
    {
     "name": "stdout",
     "output_type": "stream",
     "text": [
      "(?, 300, 128, 1)\n",
      "Builded Reshape Layer...\n"
     ]
    }
   ],
   "source": [
    "#在原来的基础上添加一个维度，相当于 类似图片数据(number sequence,r,g,b) 二维精度高 考虑了前后\n",
    "'''Reshape Layer'''\n",
    "reshape = Reshape(target_shape=(sequence_length, embedding_dims, 1), name='reshape')(embedding_layer) # chanels last\n",
    "print(reshape.shape)\n",
    "print(\"Builded Reshape Layer...\")"
   ]
  },
  {
   "cell_type": "code",
   "execution_count": 24,
   "metadata": {},
   "outputs": [],
   "source": [
    "#使用三种filter进行过滤，将最后的结果flatten  text 只能上下移动 filter\n",
    "nb_filters = 100   \n",
    "filter_lengths = [3, 4, 5]   # 3*128 , 4*128, 5*128\n",
    "flatten_ = []\n",
    "\n",
    "for i in filter_lengths:\n",
    "    model_internal = Sequential()\n",
    "    model_internal.add(Convolution2D(nb_filters, (i, embedding_dims), activation=\"relu\", name='conv2d_' + str(i), input_shape=(sequence_length, embedding_dims, 1)))\n",
    "# chanels last,默认了strides=(1,1), padding='valid'\n",
    "    model_internal.add(MaxPooling2D(pool_size=(sequence_length - i + 1, 1), name='maxpool2d_' + str(i)))\n",
    "    model_internal.add(Flatten())   #flatten 去除刚刚加的最后的一纬\n",
    "    flatten = model_internal(reshape)  \n",
    "    #print(flatten.shape)\n",
    "    flatten_.append(flatten)   #list of 三个矩阵"
   ]
  },
  {
   "cell_type": "code",
   "execution_count": 25,
   "metadata": {},
   "outputs": [
    {
     "name": "stdout",
     "output_type": "stream",
     "text": [
      "Builded Fully Connect Layer & Dropout Layer...\n",
      "Builded  Output Layer...\n"
     ]
    }
   ],
   "source": [
    "#Fully Connect Layer & Dropout Layer\n",
    "dropout_rate = 0.5   \n",
    "hidden_nodes = 256   \n",
    "merge = concatenate(flatten_, axis=-1)    \n",
    "\n",
    "fully_connect = Dense(hidden_nodes, activation='relu', name='fully_connect')(merge) \n",
    "dropout = Dropout(dropout_rate, name='dropout')(fully_connect)\n",
    "\n",
    "print(\"Builded Fully Connect Layer & Dropout Layer...\")\n",
    "\n",
    "'''Projection Layer & Output Layer'''\n",
    "\n",
    "output = Dense(1, activation='sigmoid', name='output')(dropout) # output layer\n",
    "\n",
    "print(\"Builded  Output Layer...\")"
   ]
  },
  {
   "cell_type": "code",
   "execution_count": 26,
   "metadata": {},
   "outputs": [],
   "source": [
    "model = Model([comment_seq],output)"
   ]
  },
  {
   "cell_type": "code",
   "execution_count": 27,
   "metadata": {},
   "outputs": [],
   "source": [
    "model.compile(loss=\"binary_crossentropy\", optimizer=\"adam\", metrics=['accuracy']) #binary classification"
   ]
  },
  {
   "cell_type": "code",
   "execution_count": 28,
   "metadata": {},
   "outputs": [],
   "source": [
    "from keras.callbacks import EarlyStopping,ModelCheckpoint\n",
    "\n",
    "es = EarlyStopping(monitor='val_acc',patience=5)  #val patience times\n",
    "\n",
    "filepath=\"weights.bests.hdf5\"\n",
    "checkpoint = ModelCheckpoint(filepath, monitor='val_acc', verbose=1, save_best_only=True,mode='max')\n",
    "callbacks_list = [es,checkpoint]"
   ]
  },
  {
   "cell_type": "code",
   "execution_count": 29,
   "metadata": {},
   "outputs": [
    {
     "name": "stdout",
     "output_type": "stream",
     "text": [
      "Train on 11700 samples, validate on 1300 samples\n",
      "Epoch 1/5\n",
      "11700/11700 [==============================] - 108s 9ms/step - loss: 0.4100 - acc: 0.8114 - val_loss: 0.0435 - val_acc: 0.9877\n",
      "Epoch 2/5\n",
      "11700/11700 [==============================] - 89s 8ms/step - loss: 0.0234 - acc: 0.9931 - val_loss: 0.0138 - val_acc: 0.9962\n",
      "Epoch 3/5\n",
      "11700/11700 [==============================] - 102s 9ms/step - loss: 0.0050 - acc: 0.9990 - val_loss: 0.0141 - val_acc: 0.9954\n",
      "Epoch 4/5\n",
      "11700/11700 [==============================] - 81s 7ms/step - loss: 9.2406e-04 - acc: 0.9999 - val_loss: 0.0120 - val_acc: 0.9977\n",
      "Epoch 5/5\n",
      "11700/11700 [==============================] - 76s 6ms/step - loss: 4.2580e-04 - acc: 1.0000 - val_loss: 0.0133 - val_acc: 0.9977\n"
     ]
    },
    {
     "data": {
      "text/plain": [
       "<keras.callbacks.History at 0x1c35116e48>"
      ]
     },
     "execution_count": 29,
     "metadata": {},
     "output_type": "execute_result"
    }
   ],
   "source": [
    "model.fit(x_train, y_train,\n",
    "          validation_split=0.1,\n",
    "          batch_size=batch_size,   \n",
    "          callbacks=[es],\n",
    "          epochs=5,\n",
    "          shuffle=True)"
   ]
  },
  {
   "cell_type": "code",
   "execution_count": 30,
   "metadata": {},
   "outputs": [],
   "source": [
    "pred_y = model.predict(x_val)"
   ]
  },
  {
   "cell_type": "code",
   "execution_count": null,
   "metadata": {},
   "outputs": [],
   "source": []
  },
  {
   "cell_type": "code",
   "execution_count": 35,
   "metadata": {},
   "outputs": [],
   "source": [
    "predict = []\n",
    "for i in range(0,len(pred_y)):\n",
    "    predict.append(pred_y[i][0])\n",
    "result = pd.DataFrame(columns=['predict', 'label'])\n",
    "result['predict'] = predict\n",
    "result['label'] = y_val\n",
    "result\n",
    "result.to_csv(r'result_new.csv' ,index=False)"
   ]
  },
  {
   "cell_type": "code",
   "execution_count": null,
   "metadata": {},
   "outputs": [],
   "source": []
  },
  {
   "cell_type": "code",
   "execution_count": 31,
   "metadata": {},
   "outputs": [],
   "source": [
    "def Chang_(pred):\n",
    "    results = []\n",
    "    for i in range(len(pred)):\n",
    "        if pred[i]>0.5:\n",
    "            temp = 1\n",
    "            results.append(temp)\n",
    "        else:\n",
    "            temp = 0\n",
    "            results.append(temp)\n",
    "    return results\n",
    "        \n",
    "results = Chang_(pred_y)"
   ]
  },
  {
   "cell_type": "code",
   "execution_count": 32,
   "metadata": {},
   "outputs": [
    {
     "data": {
      "text/plain": [
       "3251"
      ]
     },
     "execution_count": 32,
     "metadata": {},
     "output_type": "execute_result"
    }
   ],
   "source": [
    "len(results)"
   ]
  },
  {
   "cell_type": "code",
   "execution_count": 33,
   "metadata": {},
   "outputs": [
    {
     "data": {
      "text/plain": [
       "3251"
      ]
     },
     "execution_count": 33,
     "metadata": {},
     "output_type": "execute_result"
    }
   ],
   "source": [
    "len(y_val)"
   ]
  },
  {
   "cell_type": "code",
   "execution_count": 34,
   "metadata": {},
   "outputs": [],
   "source": [
    "\n",
    "from sklearn.metrics import confusion_matrix\n",
    "from sklearn.metrics import precision_recall_curve\n",
    "from sklearn.metrics import auc\n",
    "from sklearn.metrics import roc_auc_score\n",
    "from sklearn.metrics import roc_curve\n",
    "from sklearn.metrics import classification_report\n",
    "from sklearn.metrics import precision_score, recall_score\n",
    "from sklearn.metrics import f1_score"
   ]
  },
  {
   "cell_type": "code",
   "execution_count": 35,
   "metadata": {},
   "outputs": [
    {
     "name": "stdout",
     "output_type": "stream",
     "text": [
      "[[2266   21]\n",
      " [   4  960]]\n"
     ]
    }
   ],
   "source": [
    "# Compute confusion matrix\n",
    "con_matrix = confusion_matrix(results, y_val,labels=[0,1])  # 生成混淆矩阵\n",
    "print(con_matrix)"
   ]
  },
  {
   "cell_type": "code",
   "execution_count": 36,
   "metadata": {},
   "outputs": [
    {
     "name": "stdout",
     "output_type": "stream",
     "text": [
      "precision: 0.995850622406639\n",
      "recall: 0.9785932721712538\n",
      "f1: 0.9871465295629821\n"
     ]
    }
   ],
   "source": [
    "print('precision:',precision_score(y_val, results))\n",
    "print('recall:',recall_score(y_val, results))\n",
    "print('f1:',f1_score(y_val, results))"
   ]
  },
  {
   "cell_type": "code",
   "execution_count": 49,
   "metadata": {},
   "outputs": [
    {
     "name": "stdout",
     "output_type": "stream",
     "text": [
      "[9.9992692e-01 5.0349813e-06]\n"
     ]
    }
   ],
   "source": [
    "y_scores = pd.DataFrame(pred_y)[0].values\n",
    "print(y_scores[:2])"
   ]
  },
  {
   "cell_type": "code",
   "execution_count": 41,
   "metadata": {},
   "outputs": [
    {
     "name": "stdout",
     "output_type": "stream",
     "text": [
      "[1 0 0 ... 0 1 0]\n",
      "0.9884155788169044\n"
     ]
    }
   ],
   "source": [
    "y_scores = pd.DataFrame(results)[0].values\n",
    "print(y_scores)\n",
    "auc_value = roc_auc_score(y_val, y_scores)\n",
    "print(auc_value)"
   ]
  },
  {
   "cell_type": "code",
   "execution_count": 51,
   "metadata": {},
   "outputs": [
    {
     "name": "stdout",
     "output_type": "stream",
     "text": [
      "              precision    recall  f1-score   support\n",
      "\n",
      "           0       0.99      1.00      0.99      2270\n",
      "           1       1.00      0.97      0.99       981\n",
      "\n",
      "   micro avg       0.99      0.99      0.99      3251\n",
      "   macro avg       0.99      0.99      0.99      3251\n",
      "weighted avg       0.99      0.99      0.99      3251\n",
      "\n"
     ]
    }
   ],
   "source": [
    "print(classification_report(y_val, results))\n",
    "auc_value = roc_auc_score(y_val, y_scores)"
   ]
  },
  {
   "cell_type": "code",
   "execution_count": 52,
   "metadata": {},
   "outputs": [],
   "source": [
    "import matplotlib.pyplot as plt\n",
    "%matplotlib inline"
   ]
  },
  {
   "cell_type": "code",
   "execution_count": 53,
   "metadata": {},
   "outputs": [
    {
     "ename": "NameError",
     "evalue": "name 'y_dev' is not defined",
     "output_type": "error",
     "traceback": [
      "\u001b[0;31m---------------------------------------------------------------------------\u001b[0m",
      "\u001b[0;31mNameError\u001b[0m                                 Traceback (most recent call last)",
      "\u001b[0;32m<ipython-input-53-889056a2a91b>\u001b[0m in \u001b[0;36m<module>\u001b[0;34m\u001b[0m\n\u001b[0;32m----> 1\u001b[0;31m \u001b[0mfpr\u001b[0m\u001b[0;34m,\u001b[0m \u001b[0mtpr\u001b[0m\u001b[0;34m,\u001b[0m \u001b[0mthresholds\u001b[0m \u001b[0;34m=\u001b[0m \u001b[0mroc_curve\u001b[0m\u001b[0;34m(\u001b[0m\u001b[0my_dev\u001b[0m\u001b[0;34m,\u001b[0m \u001b[0my_scores\u001b[0m\u001b[0;34m,\u001b[0m \u001b[0mpos_label\u001b[0m\u001b[0;34m=\u001b[0m\u001b[0;36m1.0\u001b[0m\u001b[0;34m)\u001b[0m\u001b[0;34m\u001b[0m\u001b[0;34m\u001b[0m\u001b[0m\n\u001b[0m\u001b[1;32m      2\u001b[0m \u001b[0mplt\u001b[0m\u001b[0;34m.\u001b[0m\u001b[0mfigure\u001b[0m\u001b[0;34m(\u001b[0m\u001b[0mfigsize\u001b[0m\u001b[0;34m=\u001b[0m\u001b[0;34m(\u001b[0m\u001b[0;36m6\u001b[0m\u001b[0;34m,\u001b[0m\u001b[0;36m6\u001b[0m\u001b[0;34m)\u001b[0m\u001b[0;34m)\u001b[0m\u001b[0;34m\u001b[0m\u001b[0;34m\u001b[0m\u001b[0m\n\u001b[1;32m      3\u001b[0m \u001b[0mlw\u001b[0m \u001b[0;34m=\u001b[0m \u001b[0;36m2\u001b[0m\u001b[0;34m\u001b[0m\u001b[0;34m\u001b[0m\u001b[0m\n\u001b[1;32m      4\u001b[0m \u001b[0mplt\u001b[0m\u001b[0;34m.\u001b[0m\u001b[0mplot\u001b[0m\u001b[0;34m(\u001b[0m\u001b[0mfpr\u001b[0m\u001b[0;34m,\u001b[0m \u001b[0mtpr\u001b[0m\u001b[0;34m,\u001b[0m \u001b[0mcolor\u001b[0m\u001b[0;34m=\u001b[0m\u001b[0;34m'darkorange'\u001b[0m\u001b[0;34m,\u001b[0m \u001b[0mlinewidth\u001b[0m\u001b[0;34m=\u001b[0m\u001b[0mlw\u001b[0m\u001b[0;34m,\u001b[0m \u001b[0mlabel\u001b[0m\u001b[0;34m=\u001b[0m\u001b[0;34m'ROC curve (area = %0.4f)'\u001b[0m \u001b[0;34m%\u001b[0m \u001b[0mauc_value\u001b[0m\u001b[0;34m)\u001b[0m\u001b[0;34m\u001b[0m\u001b[0;34m\u001b[0m\u001b[0m\n\u001b[1;32m      5\u001b[0m \u001b[0mplt\u001b[0m\u001b[0;34m.\u001b[0m\u001b[0mplot\u001b[0m\u001b[0;34m(\u001b[0m\u001b[0;34m[\u001b[0m\u001b[0;36m0\u001b[0m\u001b[0;34m,\u001b[0m \u001b[0;36m1\u001b[0m\u001b[0;34m]\u001b[0m\u001b[0;34m,\u001b[0m \u001b[0;34m[\u001b[0m\u001b[0;36m0\u001b[0m\u001b[0;34m,\u001b[0m \u001b[0;36m1\u001b[0m\u001b[0;34m]\u001b[0m\u001b[0;34m,\u001b[0m \u001b[0mcolor\u001b[0m\u001b[0;34m=\u001b[0m\u001b[0;34m'navy'\u001b[0m\u001b[0;34m,\u001b[0m \u001b[0mlinewidth\u001b[0m\u001b[0;34m=\u001b[0m\u001b[0mlw\u001b[0m\u001b[0;34m,\u001b[0m \u001b[0mlinestyle\u001b[0m\u001b[0;34m=\u001b[0m\u001b[0;34m'--'\u001b[0m\u001b[0;34m)\u001b[0m\u001b[0;34m\u001b[0m\u001b[0;34m\u001b[0m\u001b[0m\n",
      "\u001b[0;31mNameError\u001b[0m: name 'y_dev' is not defined"
     ]
    }
   ],
   "source": [
    "fpr, tpr, thresholds = roc_curve(y_dev, y_scores, pos_label=1.0)\n",
    "plt.figure(figsize=(6,6))\n",
    "lw = 2\n",
    "plt.plot(fpr, tpr, color='darkorange', linewidth=lw, label='ROC curve (area = %0.4f)' % auc_value)\n",
    "plt.plot([0, 1], [0, 1], color='navy', linewidth=lw, linestyle='--')\n",
    "plt.xlim([0.0, 1.0])\n",
    "plt.ylim([0.0, 1.05])\n",
    "plt.xlabel('False Positive Rate')\n",
    "plt.ylabel('True Positive Rate')\n",
    "plt.title('CNN ROC')\n",
    "plt.legend(loc=\"lower right\")"
   ]
  },
  {
   "cell_type": "code",
   "execution_count": null,
   "metadata": {},
   "outputs": [],
   "source": []
  },
  {
   "cell_type": "code",
   "execution_count": null,
   "metadata": {},
   "outputs": [],
   "source": []
  },
  {
   "cell_type": "code",
   "execution_count": null,
   "metadata": {},
   "outputs": [],
   "source": [
    "text_new = 'WASHINGTON — The Trump administration pushed a $1.5 trillion tax cut through Congress in 2017 on the promise that it would spark sustained economic growth. While the tax cuts have goosed the economy in the short term, officials now concede they will not be enough to deliver the 3 percent annual growth the president promised over the long term.To produce that average growth rate for the next decade, White House forecasters say, the American economy would need additional rollbacks in labor regulations, a $1 trillion infrastructure plan and another round of tax cuts.Getting all those policies implemented would be highly unlikely, given a divided Congress and a ballooning federal deficit, which could limit lawmakers’ appetite to spend money on a new tax cut or infrastructure plan.But without those additional steps, the president’s economic team predicts in a report released on Tuesday that growth would slow to about 2 percent a year in 2026. That is the year when many of the individual tax cuts included in the 2017 law are set to expire, essentially producing a tax increase for millions of Americans.'"
   ]
  },
  {
   "cell_type": "code",
   "execution_count": null,
   "metadata": {},
   "outputs": [],
   "source": [
    "text_words_new=[cleanlines(text_new,remove_stopwords=True)]\n"
   ]
  },
  {
   "cell_type": "code",
   "execution_count": null,
   "metadata": {},
   "outputs": [],
   "source": [
    "print(text_words_new[0])"
   ]
  },
  {
   "cell_type": "code",
   "execution_count": null,
   "metadata": {},
   "outputs": [],
   "source": [
    "X_new = get_pad_text(text_words_new,word_to_id,max_length=sequence_length)\n",
    "print(X_new.shape)"
   ]
  },
  {
   "cell_type": "code",
   "execution_count": null,
   "metadata": {},
   "outputs": [],
   "source": [
    "X_new"
   ]
  },
  {
   "cell_type": "code",
   "execution_count": null,
   "metadata": {},
   "outputs": [],
   "source": [
    "model.predict(X_new)"
   ]
  },
  {
   "cell_type": "code",
   "execution_count": null,
   "metadata": {},
   "outputs": [],
   "source": [
    "dir_2 = r'New_Data.csv'\n",
    "test_set = pd.read_csv(dir_2)\n",
    "test_set = test_set[['title','content','label']]\n",
    "test_set.head()"
   ]
  },
  {
   "cell_type": "code",
   "execution_count": null,
   "metadata": {},
   "outputs": [],
   "source": [
    "test_set['label'] = test_set['label'].astype(int)\n"
   ]
  },
  {
   "cell_type": "code",
   "execution_count": null,
   "metadata": {},
   "outputs": [],
   "source": [
    "test_set['content'] = test_set['content'].astype(str)\n",
    "sents = test_set['content']\n",
    "text_words=[cleanlines(sent,remove_stopwords=True) for sent in sents]\n",
    "print(text_words[:5])"
   ]
  },
  {
   "cell_type": "code",
   "execution_count": null,
   "metadata": {},
   "outputs": [],
   "source": [
    "test_set['title'] = test_set['title'].astype(str)\n",
    "sents = test_set['title']\n",
    "title_words=[cleanlines(sent,remove_stopwords=True) for sent in sents]\n",
    "print(title_words[:5])"
   ]
  },
  {
   "cell_type": "code",
   "execution_count": null,
   "metadata": {},
   "outputs": [],
   "source": [
    "def concat_text(text_words,title_words):\n",
    "    concat_text = []\n",
    "    for i in range(len(text_words)):\n",
    "        temp = text_words[i]+title_words[i]\n",
    "        concat_text.append(temp)\n",
    "    return concat_text\n",
    "concat_text = concat_text(text_words,title_words)"
   ]
  },
  {
   "cell_type": "code",
   "execution_count": null,
   "metadata": {},
   "outputs": [],
   "source": [
    "X = get_pad_text(concat_text,word_to_id,max_length=sequence_length)"
   ]
  },
  {
   "cell_type": "code",
   "execution_count": null,
   "metadata": {},
   "outputs": [],
   "source": [
    "y = np.array(test_set['label'])\n"
   ]
  },
  {
   "cell_type": "code",
   "execution_count": null,
   "metadata": {},
   "outputs": [],
   "source": [
    "pred_y = model.predict(X)\n",
    "test_set['predict'] = pred_y\n",
    "print(test_set.head())\n",
    "test_set.to_csv(r'1.csv',header=True, index=False)\n"
   ]
  },
  {
   "cell_type": "code",
   "execution_count": null,
   "metadata": {},
   "outputs": [],
   "source": [
    "def Chang_(pred):\n",
    "    results = []\n",
    "    for i in range(len(pred)):\n",
    "        if pred[i]>0.5:\n",
    "            temp = 1\n",
    "            results.append(temp)\n",
    "        else:\n",
    "            temp = 0\n",
    "            results.append(temp)\n",
    "    return results\n",
    "        \n",
    "results = Chang_(pred_y)"
   ]
  },
  {
   "cell_type": "code",
   "execution_count": null,
   "metadata": {},
   "outputs": [],
   "source": [
    "con_matrix = confusion_matrix(results, y,labels=[0,1])  # 生成混淆矩阵\n",
    "print(con_matrix)"
   ]
  },
  {
   "cell_type": "code",
   "execution_count": null,
   "metadata": {},
   "outputs": [],
   "source": [
    "print('precision:',precision_score(y, results))\n",
    "print('recall:',recall_score(y, results))\n",
    "print('f1:',f1_score(y, results))"
   ]
  },
  {
   "cell_type": "code",
   "execution_count": null,
   "metadata": {},
   "outputs": [],
   "source": []
  }
 ],
 "metadata": {
  "kernelspec": {
   "display_name": "Python 3",
   "language": "python",
   "name": "python3"
  },
  "language_info": {
   "codemirror_mode": {
    "name": "ipython",
    "version": 3
   },
   "file_extension": ".py",
   "mimetype": "text/x-python",
   "name": "python",
   "nbconvert_exporter": "python",
   "pygments_lexer": "ipython3",
   "version": "3.6.8"
  }
 },
 "nbformat": 4,
 "nbformat_minor": 2
}
