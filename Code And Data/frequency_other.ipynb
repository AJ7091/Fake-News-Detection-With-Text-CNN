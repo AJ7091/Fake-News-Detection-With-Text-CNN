{
 "cells": [
  {
   "cell_type": "code",
   "execution_count": 1,
   "metadata": {},
   "outputs": [],
   "source": [
    "import  pandas as pd\n",
    "import numpy as np\n",
    "import re\n",
    "from collections import Counter\n",
    "import nltk"
   ]
  },
  {
   "cell_type": "code",
   "execution_count": 2,
   "metadata": {},
   "outputs": [
    {
     "name": "stdout",
     "output_type": "stream",
     "text": [
      "(16251, 3)\n"
     ]
    },
    {
     "data": {
      "text/html": [
       "<div>\n",
       "<style scoped>\n",
       "    .dataframe tbody tr th:only-of-type {\n",
       "        vertical-align: middle;\n",
       "    }\n",
       "\n",
       "    .dataframe tbody tr th {\n",
       "        vertical-align: top;\n",
       "    }\n",
       "\n",
       "    .dataframe thead th {\n",
       "        text-align: right;\n",
       "    }\n",
       "</style>\n",
       "<table border=\"1\" class=\"dataframe\">\n",
       "  <thead>\n",
       "    <tr style=\"text-align: right;\">\n",
       "      <th></th>\n",
       "      <th>text</th>\n",
       "      <th>title</th>\n",
       "      <th>type</th>\n",
       "    </tr>\n",
       "  </thead>\n",
       "  <tbody>\n",
       "    <tr>\n",
       "      <th>0</th>\n",
       "      <td>They stood in line at Trump Tower, sometimes u...</td>\n",
       "      <td>At Donald Trump&lt;U+2019&gt;s Properties, a Showcas...</td>\n",
       "      <td>1</td>\n",
       "    </tr>\n",
       "    <tr>\n",
       "      <th>1</th>\n",
       "      <td>Donald J. Trump &lt;U+2019&gt;s foundation informed ...</td>\n",
       "      <td>Trump Foundation Tells New York It Has Stopped...</td>\n",
       "      <td>1</td>\n",
       "    </tr>\n",
       "    <tr>\n",
       "      <th>2</th>\n",
       "      <td>President-elect Donald J. Trump won the White ...</td>\n",
       "      <td>Donald Trump Prepares for White House Move, bu...</td>\n",
       "      <td>1</td>\n",
       "    </tr>\n",
       "    <tr>\n",
       "      <th>3</th>\n",
       "      <td>An investment pitch for a new Texas hotel is t...</td>\n",
       "      <td>Luring Chinese Investors With Trump&lt;U+2019&gt;s N...</td>\n",
       "      <td>1</td>\n",
       "    </tr>\n",
       "    <tr>\n",
       "      <th>4</th>\n",
       "      <td>President-elect Donald J. Trump &lt;U+2019&gt;s wife...</td>\n",
       "      <td>Melania and Barron Trump Won&lt;U+2019&gt;t Immediat...</td>\n",
       "      <td>1</td>\n",
       "    </tr>\n",
       "  </tbody>\n",
       "</table>\n",
       "</div>"
      ],
      "text/plain": [
       "                                                text  \\\n",
       "0  They stood in line at Trump Tower, sometimes u...   \n",
       "1  Donald J. Trump <U+2019>s foundation informed ...   \n",
       "2  President-elect Donald J. Trump won the White ...   \n",
       "3  An investment pitch for a new Texas hotel is t...   \n",
       "4  President-elect Donald J. Trump <U+2019>s wife...   \n",
       "\n",
       "                                               title  type  \n",
       "0  At Donald Trump<U+2019>s Properties, a Showcas...     1  \n",
       "1  Trump Foundation Tells New York It Has Stopped...     1  \n",
       "2  Donald Trump Prepares for White House Move, bu...     1  \n",
       "3  Luring Chinese Investors With Trump<U+2019>s N...     1  \n",
       "4  Melania and Barron Trump Won<U+2019>t Immediat...     1  "
      ]
     },
     "execution_count": 2,
     "metadata": {},
     "output_type": "execute_result"
    }
   ],
   "source": [
    "#读取数据\n",
    "dir_1 = r'all_data_new_1.csv'\n",
    "\n",
    "df = pd.read_csv(dir_1)\n",
    "print(df.shape)\n",
    "df.head()"
   ]
  },
  {
   "cell_type": "code",
   "execution_count": 3,
   "metadata": {},
   "outputs": [
    {
     "data": {
      "text/plain": [
       "array([1, 0])"
      ]
     },
     "execution_count": 3,
     "metadata": {},
     "output_type": "execute_result"
    }
   ],
   "source": [
    "df['type'].unique()"
   ]
  },
  {
   "cell_type": "code",
   "execution_count": 4,
   "metadata": {},
   "outputs": [
    {
     "name": "stdout",
     "output_type": "stream",
     "text": [
      "0    1\n",
      "1    1\n",
      "2    1\n",
      "3    1\n",
      "4    1\n",
      "Name: type, dtype: int64\n"
     ]
    }
   ],
   "source": [
    "#转换数据类型\n",
    "df['type'] = df['type'].astype(int)\n",
    "print(df['type'][:5])"
   ]
  },
  {
   "cell_type": "code",
   "execution_count": 5,
   "metadata": {},
   "outputs": [
    {
     "data": {
      "text/plain": [
       "'\\nThis article was written by SGT Report and originally published at SGTReport.com . \\nEditor<U+2019>s Comment: The web connecting the Clinton<U+2019>s to professional provocateurs who<U+2019>ve been fueling violence and riots via BlackLivesMatter and through anti-Trump campaigns runs back to a central core. These are agents of change for life, and they are willing to use any means necessary to tips the scales into something they can work with. There is every indication that the agenda is to stir social unrest and further division, and with enough fake riots and manufactured anger, things might lead to a full-fledged civil war in America. Problem. Reaction. Solution. \\nLou Dobbs called for Soros to be investigated and held liable for inciting riots that are causing property damage and personal harm:\\nShould DOJ investigate Soros & his links to non-profits for their role in inciting riots that have caused property damage & personal injury?\\n<U+2014> Lou Dobbs (@LouDobbs) November 12, 2016 \\n\\nOne has to wonder how man degrees away this network is from those that appear to be involved in staging tragedies (such as shootings and terrorist events) for media exploit. Can we believe anything that we see on the national stage? The defeat of Hillary hits a nerve deep into the shadow network that runs the Deep State, because the message of rejection of the establishment speaks to deep-set resentment and anger among the population. To make an educated guess, with the world swinging towards Trump as an attempt to dump the globalist oligarchy, the powers that be will see the need for some big events to occur in response <U+2013> in other words, they need a new crisis. If they were planning a false flag event of some kind, what would stop them from going all the way? \\nCLINTON CAMPAIGN INSIDER<U+2019>S CONFESSION: Trump Protests Sponsored By Soros-Clinton Cabal \\nby SGT Report\\nAs Wayne Madsen is reporting, Hilary Clinton and George Soros have launched the <U+00AB>Purple Revolution<U+00BB> in America. Madsen writes, <U+201C>The Purple Revolution will resist all efforts by the Trump administration to push back against the globalist policies of the Clintons and soon-to-be ex-President Barack Obama. The Purple Revolution will also seek to make the Trump administration a short one through Soros-style street protests and political disruption.<U+201D>\\nWe KNOW who is behind this, and we are putting them on notice, there will be a changing of the guard on January 20th, 2017. Who will protect you from the long arm of the law then? \\n\\nThis article was written by SGT Report and originally published at SGTReport.com .'"
      ]
     },
     "execution_count": 5,
     "metadata": {},
     "output_type": "execute_result"
    }
   ],
   "source": [
    "df['text'][12219]"
   ]
  },
  {
   "cell_type": "markdown",
   "metadata": {},
   "source": [
    "**data preprocessing**"
   ]
  },
  {
   "cell_type": "code",
   "execution_count": 6,
   "metadata": {},
   "outputs": [],
   "source": [
    "#去除标点等无用的符号以及停用词\n",
    "def cleanlines(line,remove_stopwords=False):   \n",
    "    p1=re.compile(r'-\\{.*?(zh-hans|zh-cn):([^;]*?)(;.*?)?\\}-')\n",
    "    p2=re.compile(r'[(][: @ . , ？！\\s][)]')\n",
    "    p3=re.compile(r'[「『]')\n",
    "    p4=re.compile(r'[\\s+\\.\\!\\/_,$%^*(+\\\"\\')]+|[+——()?【】“”！，。？、~@#￥%……&*（）0-9 , : ; \\-\\ \\[\\ \\]\\ ]')\n",
    "    p5=re.compile(r'[^a-zA-Z]')\n",
    "    line=p1.sub(r' ',line)\n",
    "    line=p2.sub(r' ',line)\n",
    "    line=p3.sub(r' ',line)\n",
    "    line=p4.sub(r' ',line)\n",
    "    line=p5.sub(r' ',line)\n",
    "    words = line.lower().split()\n",
    "    if remove_stopwords:\n",
    "        words = [w for w in words if w not in eng_stopwords]\n",
    "    return words"
   ]
  },
  {
   "cell_type": "code",
   "execution_count": 7,
   "metadata": {},
   "outputs": [
    {
     "data": {
      "text/plain": [
       "[\"'d\", \"'ll\", \"'m\", \"'re\", \"'s\"]"
      ]
     },
     "execution_count": 7,
     "metadata": {},
     "output_type": "execute_result"
    }
   ],
   "source": [
    "#添加停用词表\n",
    "eng_stopwords = [line.rstrip() for line in open('stop_words.txt')]\n",
    "eng_stopwords[:5]"
   ]
  },
  {
   "cell_type": "code",
   "execution_count": 8,
   "metadata": {},
   "outputs": [],
   "source": [
    "#处理内容文本\n",
    "df['text'] = df['text'].astype(str)\n",
    "sents = df['text']\n",
    "text_words=[cleanlines(sent,remove_stopwords=True) for sent in sents]"
   ]
  },
  {
   "cell_type": "code",
   "execution_count": 9,
   "metadata": {},
   "outputs": [
    {
     "name": "stdout",
     "output_type": "stream",
     "text": [
      "[['stood', 'trump', 'tower', 'half', 'hour', 'handing', 'cash', 'mementos', 'president', 'elect', 'mini', 'gold', 'wrapped', 'chocolate', 'bricks', 'stamped', 'trump', 'trump', 'monogrammed', 'sweaters', 'towels', 'glassware', 'trump', 'cologne', 'bought', 'sons', 'shanon', 'loggins', 'lufkin', 'tex', 'golden', 'shopping', 'bag', 'embossed', 'trump', 'crest', 'carried', 'bottles', 'success', 'trump', 'fragrance', 'successful', 'explained', 'business', 'donald', 'trump', 'people', 'flocking', 'midtown', 'manhattan', 'skyscraper', 'dining', 'restaurants', 'buying', 'wares', 'reporters', 'fastidiously', 'chronicling', 'comings', 'goings', 'transition', 'team', 'branded', 'properties', 'providing', 'backdrop', 'television', 'live', 'shots', 'trump', 'staid', 'task', 'preparing', 'assume', 'presidency', 'exercise', 'conspicuous', 'promotion', 'carefully', 'choreographed', 'branding', 'president', 'elect', 'vast', 'real', 'estate', 'holdings', 'raising', 'questions', 'exploiting', 'profile', 'stature', 'office', 'conduct', 'promotional', 'tour', 'trump', 'organization', 'venues', 'picked', 'conduct', 'official', 'transition', 'planning', 'attest', 'success', 'real', 'estate', 'developer', 'trump', 'tower', 'manhattan', 'skyscraper', 'lives', 'amid', 'trump', 'themed', 'eateries', 'boutiques', 'mar', 'lago', 'upscale', 'private', 'palm', 'beach', 'fla', 'club', 'chosen', 'hold', 'meetings', 'thanksgiving', 'trump', 'national', 'golf', 'club', 'bedminster', 'trump', 'bedminster', 'setting', 'told', 'aides', 'images', 'receiving', 'potential', 'cabinet', 'appointees', 'front', 'door', 'clubhouse', 'resembled', 'street', 'london', 'planning', 'future', 'transition', 'meetings', 'trump', 'team', 'properties', 'fit', 'desire', 'rich', 'regal', 'symbolism', 'stinks', 'norman', 'eisen', 'chief', 'white', 'house', 'ethics', 'lawyer', 'president', 'obama', 'specific', 'law', 'prohibiting', 'public', 'officeholders', 'financially', 'beneficial', 'promotion', 'trump', 'illegal', 'eisen', 'doesn', 'parcel', 'unsavory', 'marketing', 'brands', 'campaign', 'unsavory', 'stagecraft', 'spectacle', 'trump', 'directed', 'floor', 'office', 'trump', 'tower', 'ravenously', 'consumed', 'news', 'media', 'loyal', 'followers', 'days', 'trump', 'president', 'elect', 'lobby', 'trump', 'tower', 'public', 'staging', 'aspects', 'transition', 'trump', 'people', 'potential', 'cabinet', 'appointees', 'march', 'buffed', 'marble', 'floors', 'cameras', 'stream', 'scene', 'live', 'span', 'gold', 'mirrored', 'elevators', 'week', 'people', 'gov', 'mary', 'fallin', 'oklahoma', 'rick', 'perry', 'texas', 'governor', 'disparaged', 'trump', 'cancer', 'conservatism', 'battling', 'republican', 'nomination', 'trump', 'staff', 'devised', 'proper', 'greeting', 'protocol', 'arriving', 'guests', 'perry', 'lobby', 'monday', 'woman', 'looped', 'arm', 'escorted', 'cameras', 'woman', 'hand', 'weekend', 'accompany', 'visiting', 'guests', 'trump', 'moved', 'meetings', 'bedminster', 'golf', 'club', 'display', 'munificence', 'trump', 'cameras', 'embrace', 'mitt', 'romney', 'months', 'ago', 'condemned', 'trump', 'phony', 'fraud', 'leading', 'candidate', 'secretary', 'ethnically', 'diverse', 'potential', 'cabinet', 'candidates', 'shannon', 'african', 'american', 'speaker', 'oklahoma', 'house', 'michelle', 'rhee', 'schools', 'chancellor', 'washington', 'asian', 'american', 'trump', 'interviewing', 'banter', 'news', 'media', 'tremendous', 'talent', 'tremendous', 'talent', 'trump', 'saturday', 'people', 'america', 'people', 'talented', 'people', 'cameras', 'rolled', 'weekend', 'bedminster', 'temperatures', 'dropped', 'sharply', 'sending', 'journalists', 'gift', 'shop', 'cold', 'weather', 'attire', 'winter', 'hat', 'trump', 'embroidered', 'market', 'stamped', 'trump', 'bustling', 'gift', 'kiosk', 'lower', 'level', 'trump', 'tower', 'trump', 'ice', 'cream', 'parlor', 'trump', 'grill', 'prix', 'fixe', 'lunch', 'monday', 'morning', 'dozen', 'people', 'deep', 'cashiers', 'civic', 'diligence', 'purchasing', 'trump', 'campaign', 'gear', 'america', 'hats', 'american', 'citizens', 'law', 'prohibits', 'foreigners', 'money', 'campaigns', 'marilyn', 'bryan', 'terre', 'haute', 'ind', 'sitting', 'table', 'kiosk', 'daughter', 'trisha', 'ms', 'bryan', 'trump', 'rally', 'hometown', 'passed', 'knocked', 'broke', 'femur', 'trump', 'decided', 'visiting', 'york', 'week', 'tower', 'scene', 'spend', 'daughter', 'inside', 'shopping', 'bag', 'hat', 'golden', 'trump', 'chocolate', 'bars', 'trump', 'knickknacks', 'planned', 'relatives', 'chocolate', 'disappointed', 'learn', 'fort', 'wayne', 'ind', 'standing', 'nearby', 'paul', 'lea', 'foster', 'hidden', 'hills', 'calif', 'purchasing', 'hats', 'shirts', 'ms', 'foster', 'marveled', 'trump', 'ability', 'cash', 'figured', 'money', 'husband', 'nodded', 'businessman', 'promoter', 'foster', 'hope', 'country', 'michael', 'schmidt', 'contributed', 'reporting', 'politics', 'news', 'updates', 'facebook', 'twitter', 'morning', 'briefing', 'newsletter', 'version', 'article', 'appears', 'print', 'november', 'york', 'edition', 'headline', 'trump', 'properties', 'showcase', 'brand', 'president', 'elect', 'reprints', 'paper', 'subscribe'], ['donald', 'trump', 'foundation', 'informed', 'attorney', 'eric', 'schneiderman', 'york', 'ceased', 'soliciting', 'donations', 'halt', 'fund', 'raising', 'efforts', 'spokesman', 'attorney', 'office', 'monday', 'charity', 'donald', 'trump', 'foundation', 'requested', 'granted', 'extension', 'filing', 'financial', 'paperwork', 'including', 'audits', 'eric', 'soufer', 'spokesman', 'developments', 'weeks', 'attorney', 'office', 'foundation', 'soliciting', 'charitable', 'contributions', 'york', 'nonprofit', 'properly', 'registered', 'law', 'notice', 'violation', 'letter', 'foundation', 'sept', 'required', 'submit', 'financial', 'documents', 'days', 'deemed', 'continuing', 'fraud', 'people', 'york', 'foundation', 'source', 'controversy', 'trump', 'presidential', 'campaign', 'amid', 'reports', 'questionable', 'expenditures', 'doubts', 'charitable', 'pledges', 'lack', 'financial', 'support', 'charity', 'trump', 'foundation', 'cooperating', 'office', 'investigation', 'foundation', 'scope', 'requests', 'respond', 'reasonable', 'timely', 'manner', 'hope', 'hicks', 'spokeswoman', 'trump', 'campaign', 'trump', 'campaign', 'dismissed', 'criticism', 'foundation', 'provided', 'ample', 'support', 'worthy', 'charity', 'directly', 'ms', 'hicks', 'concerned', 'political', 'motives', 'attorney', 'investigation', 'schneiderman', 'democrat', 'supporter', 'clinton', 'tangled', 'trump', 'matters', 'including', 'profile', 'lawsuit', 'alleging', 'students', 'defrauded', 'thousands', 'dollars', 'trump', 'profit', 'education', 'program', 'trump', 'university', 'presidential', 'race', 'politics', 'news', 'updates', 'facebook', 'twitter', 'draft', 'newsletter'], ['president', 'elect', 'donald', 'trump', 'won', 'white', 'house', 'outsider', 'populist', 'promise', 'drain', 'swamp', 'washington', 'prepares', 'assume', 'presidency', 'question', 'remains', 'capital', 'repeatedly', 'spurned', 'trump', 'homebody', 'flew', 'hours', 'late', 'night', 'campaign', 'wake', 'bed', 'trump', 'tower', 'talking', 'advisers', 'nights', 'week', 'spend', 'white', 'house', 'told', 'spending', 'time', 'york', 'future', 'lady', 'melania', 'trump', 'expects', 'move', 'washington', 'couple', 'son', 'barron', 'midway', 'school', 'york', 'unclear', 'move', 'happen', 'questions', 'reflect', 'trump', 'advisers', 'president', 'elect', 'coming', 'grips', 'life', 'change', 'radically', 'trump', 'shocked', 'won', 'election', 'spend', 'week', 'washington', 'congress', 'return', 'trump', 'tower', 'golf', 'bedminster', 'mar', 'lago', 'estate', 'palm', 'beach', 'weekends', 'hanging', 'familiar', 'presidents', 'elect', 'families', 'unusual', 'questions', 'michelle', 'obama', 'leave', 'chicago', 'move', 'white', 'house', 'disrupt', 'daughters', 'school', 'family', 'moved', 'day', 'inaugural', 'trump', 'advisers', 'hold', 'possibility', 'president', 'elect', 'spend', 'time', 'white', 'house', 'grows', 'overwhelmed', 'comfortable', 'job', 'trump', 'spent', 'decades', 'cosseted', 'trump', 'tower', 'apartment', 'floor', 'designated', 'elevator', 'takes', 'office', 'floor', 'wakes', 'clock', 'mornings', 'reads', 'york', 'post', 'york', 'times', 'handful', 'newspapers', 'tunes', 'morning', 'television', 'news', 'final', 'months', 'campaign', 'hang', 'apartment', 'joining', 'aides', 'office', 'trump', 'affection', 'penthouse', 'apartment', 'runs', 'deep', 'biographer', 'michael', 'antonio', 'learned', 'trump', 'invited', 'inside', 'story', 'unit', 'extended', 'interview', 'trump', 'reveled', 'recalling', 'challenges', 'required', 'design', 'build', 'apartment', 'decorated', 'karat', 'gold', 'marble', 'louis', 'xiv', 'style', 'simply', 'ambitious', 'undertaking', 'accomplished', 'tribute', 'image', 'trump', 'time', 'antonio', 'apartment', 'complex', 'unit', 'building', 'unit', 'columns', 'carvings', 'building', 'unit', 'harder', 'building', 'building', 'meeting', 'president', 'obama', 'thursday', 'touring', 'white', 'house', 'trump', 'people', 'briefed', 'thinking', 'building', 'marveled', 'neoclassical', 'architecture', 'history', 'returning', 'trump', 'tower', 'white', 'house', 'trump', 'embrace', 'familiar', 'aides', 'expressed', 'continuing', 'hold', 'rallies', 'staple', 'candidacy', 'likes', 'instant', 'gratification', 'adulation', 'cheering', 'crowds', 'provide', 'aides', 'discussing', 'accommodate', 'demand', 'trump', 'discovered', 'rallies', 'tremendous', 'opportunities', 'message', 'christopher', 'ruddy', 'chief', 'executive', 'newsmax', 'media', 'conservative', 'website', 'sort', 'fashioned', 'meet', 'people', 'press', 'flesh', 'trump', 'finding', 'twitter', 'familiar', 'comfort', 'unclear', 'president', 'wholly', 'control', 'twitter', 'account', 'white', 'house', 'unorthodox', 'true', 'fall', 'habit', 'follow', 'precedent', 'mike', 'duhaime', 'adviser', 'gov', 'chris', 'christie', 'jersey', 'supported', 'trump', 'shortly', 'white', 'house', 'bid', 'stepped', 'head', 'president', 'elect', 'transition', 'team', 'friday', 'trump', 'aides', 'agree', 'restrict', 'twitter', 'waning', 'days', 'campaign', 'thursday', 'day', 'president', 'elect', 'trump', 'posted', 'twitter', 'missive', 'message', 'complaining', 'professional', 'protesters', 'incited', 'media', 'protesting', 'unfair', 'wrote', 'trump', 'checked', 'offered', 'unifying', 'message', 'love', 'protesters', 'night', 'passion', 'country', 'trump', 'remains', 'trump', 'tower', 'receiving', 'congratulations', 'thanking', 'stayed', 'venting', 'associates', 'lingering', 'grievances', 'news', 'media', 'coverage', 'campaign', 'stayed', 'touch', 'reporters', 'fox', 'news', 'checking', 'ratings', 'months', 'polling', 'people', 'top', 'jobs', 'constant', 'cadre', 'aides', 'advisers', 'signed', 'campaign', 'shot', 'days', 'jobs', 'administration', 'told', 'campaign', 'staff', 'care', 'operation', 'government', 'natural', 'people', 'stuck', 'thick', 'thin', 'duhaime', 'politics', 'washington', 'news', 'updates', 'facebook', 'twitter', 'morning', 'briefing', 'newsletter', 'version', 'article', 'appears', 'print', 'november', 'york', 'edition', 'headline', 'preparing', 'white', 'house', 'move', 'trump', 'tower', 'beckon', 'reprints', 'paper', 'subscribe'], ['investment', 'pitch', 'texas', 'hotel', 'lure', 'heeled', 'chinese', 'invoking', 'donald', 'trump', 'promising', 'visas', 'united', 'deal', 'promotes', 'excellent', 'location', 'austin', 'mirabeau', 'trump', 'hotel', 'involvement', 'leading', 'developer', 'trump', 'organization', 'review', 'york', 'times', 'pitch', 'details', 'connection', 'trump', 'firm', 'difficult', 'establish', 'trump', 'organization', 'hasn', 'signed', 'build', 'austin', 'hotel', 'company', 'named', 'pitch', 'trump', 'partner', 'personal', 'bankruptcy', 'filing', 'chief', 'executive', 'records', 'project', 'slated', 'site', 'moment', 'brick', 'oven', 'pizzeria', 'trump', 'organization', 'campaign', 'effort', 'clarify', 'relationship', 'proposal', 'outright', 'denied', 'company', 'permission', 'brand', 'growth', 'strategy', 'expand', 'trump', 'hotels', 'portfolio', 'strategically', 'properties', 'key', 'international', 'locations', 'spokeswoman', 'trump', 'hotels', 'jennifer', 'rodstrom', 'confirmed', 'deals', 'investments', 'austin', 'remain', 'market', 'brand', 'management', 'standpoint', 'directly', 'times', 'involved', 'austin', 'investment', 'pitch', 'trump', 'organization', 'trump', 'campaign', 'responded', 'pitch', 'chinese', 'investors', 'authorized', 'trump', 'company', 'highlights', 'potential', 'troubles', 'controversial', 'american', 'visa', 'initiative', 'called', 'eb', 'program', 'marketing', 'effort', 'reported', 'wall', 'street', 'journal', 'overseas', 'investors', 'real', 'estate', 'project', 'hotel', 'secure', 'american', 'visas', 'money', 'intended', 'revive', 'economically', 'downtrodden', 'country', 'american', 'lawmakers', 'renewing', 'eb', 'program', 'hot', 'button', 'issue', 'government', 'program', 'essentially', 'offers', 'green', 'cards', 'money', 'program', 'marred', 'doubts', 'produces', 'desired', 'economic', 'regulators', 'swindle', 'overseas', 'investors', 'california', 'couple', 'raised', 'chinese', 'investors', 'eb', 'program', 'cancer', 'treatment', 'centers', 'built', 'american', 'regulators', 'california', 'residents', 'raised', 'chinese', 'money', 'build', 'nursing', 'care', 'facilities', 'investor', 'funds', 'personal', 'investors', 'foreign', 'nationals', 'duped', 'left', 'dry', 'senator', 'charles', 'grassley', 'republican', 'iowa', 'february', 'hearing', 'program', 'government', 'officials', 'intensify', 'scrutiny', 'eb', 'applications', 'china', 'individual', 'vetting', 'left', 'investors', 'businesses', 'advise', 'potential', 'eb', 'programs', 'haven', 'officially', 'started', 'promoting', 'project', 'process', 'investigating', 'worried', 'dong', 'xiaolin', 'head', 'dacheng', 'education', 'company', 'china', 'northern', 'province', 'hebei', 'helps', 'students', 'schools', 'abroad', 'process', 'involve', 'navigate', 'visa', 'options', 'ms', 'dong', 'planned', 'travel', 'austin', 'evaluate', 'concerned', 'heard', 'details', 'united', 'country', 'rule', 'law', 'rigorous', 'terms', 'ms', 'dong', 'days', 'job', 'posting', 'website', 'beijinger', 'english', 'language', 'beijing', 'magazine', 'white', 'american', 'eb', 'center', 'raise', 'funds', 'trump', 'hotel', 'austin', 'chinese', 'people', 'caucasian', 'person', 'front', 'project', 'air', 'prestige', 'veneer', 'credibility', 'rise', 'rent', 'white', 'businesses', 'wealthy', 'chinese', 'green', 'card', 'ticket', 'country', 'struggling', 'heavy', 'air', 'pollution', 'rigid', 'education', 'system', 'increasingly', 'authoritarian', 'political', 'environment', 'sweeping', 'anti', 'corruption', 'campaign', 'chinese', 'president', 'xi', 'jinping', 'rattled', 'rich', 'businessmen', 'women', 'prompting', 'send', 'money', 'abroad', 'eb', 'program', 'provided', 'path', 'wealthy', 'chinese', 'chinese', 'investors', 'account', 'piece', 'program', 'participants', 'presidential', 'candidate', 'critical', 'views', 'china', 'immigration', 'trump', 'linked', 'project', 'tapped', 'eb', 'money', 'country', 'march', 'bloomberg', 'article', 'trump', 'branded', 'building', 'jersey', 'city', 'bloomberg', 'raised', 'quarter', 'coming', 'eb', 'program', 'proposed', 'story', 'mirabeau', 'trump', 'hotel', 'glance', 'credibility', 'eb', 'fund', 'raising', 'document', 'hotel', 'address', 'blocks', 'texas', 'capitol', 'building', 'offer', 'business', 'travelers', 'vacationers', 'hoping', 'hit', 'austin', 'sixth', 'street', 'party', 'district', 'pitch', 'explains', 'hotel', 'bear', 'trump', 'operated', 'firm', 'investment', 'effort', 'materials', 'led', 'kevin', 'rogers', 'eb', 'fund', 'raiser', 'dallas', 'pitch', 'cites', 'projects', 'dallas', 'call', 'center', 'houston', 'apartment', 'complex', 'international', 'house', 'pancakes', 'restaurant', 'pitch', 'rogers', 'posing', 'george', 'bush', 'president', 'letter', 'included', 'pitch', 'rogers', 'writes', 'forward', 'meeting', 'helping', 'realize', 'dreams', 'red', 'flags', 'tenuous', 'trump', 'connection', 'document', 'developers', 'seeking', 'funding', 'eb', 'investors', 'construction', 'fourth', 'quarter', 'austin', 'property', 'records', 'project', 'waterloo', 'park', 'tower', 'site', 'rogers', 'email', 'authorize', 'advertising', 'white', 'american', 'trump', 'project', 'respond', 'additional', 'emails', 'phone', 'calls', 'comment', 'project', 'management', 'raises', 'questions', 'document', 'rogers', 'raising', 'money', 'global', 'management', 'resources', 'developer', 'trump', 'organization', 'hotel', 'history', 'developing', 'hotels', 'built', 'sold', 'records', 'chief', 'brett', 'norwich', 'serial', 'entrepreneur', 'invests', 'real', 'estate', 'texas', 'september', 'norwich', 'filed', 'personal', 'bankruptcy', 'protection', 'chicago', 'listing', 'business', 'debt', 'filing', 'assets', 'projects', 'failed', 'projects', 'income', 'bankruptcy', 'filing', 'norwich', 'respond', 'multiple', 'requests', 'comment', 'video', 'youtube', 'website', 'rogers', 'firm', 'watched', 'fraud', 'played', 'rules', 'fraudsters', 'video', 'don', 'developer', 'defraud', 'wild', 'crazy', 'eb', 'fund', 'raiser', 'doesn', 'diligence', 'won', 'fails', 'nelson', 'schwartz', 'reported', 'york', 'sui', 'lee', 'wee', 'beijing', 'zhang', 'tiantian', 'contributed', 'article', 'updated', 'based', 'reporting', 'version', 'article', 'appears', 'print', 'october', 'york', 'edition', 'headline', 'luring', 'chinese', 'investors', 'trump', 'reprints', 'paper', 'subscribe'], ['president', 'elect', 'donald', 'trump', 'wife', 'melania', 'son', 'barron', 'move', 'white', 'house', 'trump', 'takes', 'office', 'january', 'concern', 'uprooting', 'barron', 'middle', 'school', 'transition', 'officials', 'sunday', 'ms', 'trump', 'barron', 'remain', 'york', 'months', 'officials', 'speaking', 'reporters', 'sunday', 'golf', 'bedminster', 'trump', 'join', 'finished', 'school', 'trump', 'move', 'white', 'house', 'family', 'remaining', 'trump', 'tower', 'likelihood', 'increase', 'trump', 'spend', 'week', 'york', 'jason', 'miller', 'spokesman', 'trump', 'official', 'statement', 'released', 'trump', 'family', 'transition', 'timing', 'parents', 'concerned', 'pulling', 'son', 'school', 'middle', 'miller', 'urged', 'privacy', 'security', 'considerations', 'previous', 'families', 'regard', 'minor', 'children', 'extended', 'trumps', 'york', 'times', 'reported', 'ms', 'trump', 'planning', 'move', 'white', 'house', 'eventually', 'concerned', 'disrupting', 'son', 'routine', 'york', 'post', 'reported', 'sunday', 'barron', 'join', 'husband', 'inauguration', 'enthusiasm', 'president', 'elect', 'displayed', 'campaign', 'trail', 'ms', 'trump', 'model', 'shared', 'join', 'husband', 'major', 'events', 'republican', 'national', 'convention', 'granted', 'interviews', 'main', 'caregiver', 'son', 'attends', 'private', 'school', 'manhattan', 'days', 'mother', 'concerned', 'potential', 'disruption', 'son', 'life', 'bringing', 'closer', 'news', 'media', 'spotlight', 'people', 'plans', 'revisit', 'issue', 'school', 'situation', 'michelle', 'obama', 'faced', 'husband', 'elected', 'obama', 'care', 'attention', 'campaign', 'remaining', 'chicago', 'daughters', 'ultimately', 'move', 'children', 'trump', 'aides', 'plans', 'move', 'white', 'house', 'time', 'told', 'aides', 'york', 'keeping', 'trump', 'tower', 'residence', 'incoming', 'president', 'family', 'create', 'security', 'logistical', 'hurdles', 'secret', 'service', 'police', 'department', 'tower', 'avenue', 'major', 'thoroughfare', 'version', 'article', 'appears', 'print', 'november', 'york', 'edition', 'headline', 'melania', 'barron', 'trump', 'won', 'move', 'white', 'house', 'officials', 'reprints', 'paper', 'subscribe']]\n"
     ]
    }
   ],
   "source": [
    "len(text_words)\n",
    "print(text_words[:5])"
   ]
  },
  {
   "cell_type": "code",
   "execution_count": 10,
   "metadata": {},
   "outputs": [],
   "source": [
    "#处理标题文本\n",
    "df['title'] = df['title'].astype(str)\n",
    "title_sents = df['title']\n",
    "title_words=[cleanlines(sent,remove_stopwords=True) for sent in title_sents]"
   ]
  },
  {
   "cell_type": "code",
   "execution_count": 11,
   "metadata": {},
   "outputs": [],
   "source": [
    "#讲内容和标题连接在一起\n",
    "def concat_text(text_words,title_words):\n",
    "    concat_text = []\n",
    "    for i in range(len(text_words)):\n",
    "        temp = text_words[i]+title_words[i]\n",
    "        concat_text.append(temp)\n",
    "    return concat_text\n",
    "\n",
    "concat_text = concat_text(text_words,title_words)\n",
    "        "
   ]
  },
  {
   "cell_type": "code",
   "execution_count": 12,
   "metadata": {},
   "outputs": [
    {
     "data": {
      "text/plain": [
       "16251"
      ]
     },
     "execution_count": 12,
     "metadata": {},
     "output_type": "execute_result"
    }
   ],
   "source": [
    "\n",
    "len(concat_text)"
   ]
  },
  {
   "cell_type": "markdown",
   "metadata": {},
   "source": [
    "*build dict*"
   ]
  },
  {
   "cell_type": "code",
   "execution_count": 13,
   "metadata": {},
   "outputs": [],
   "source": [
    "# set parameters:\n",
    "#字典大小\n",
    "vocab_size = 5000 #dict size\n",
    "batch_size = 200 #batch size for each training\n",
    "sequence_length = 300 #sequence length -same for every sample\n",
    "embedding_dims=128 #embed dim"
   ]
  },
  {
   "cell_type": "code",
   "execution_count": 14,
   "metadata": {},
   "outputs": [],
   "source": [
    "#build dic\n",
    "def build_vocab(content_list,vocab_size):\n",
    "    vocab_size = vocab_size\n",
    "    all_vocabs = []\n",
    "    for content in content_list:\n",
    "        all_vocabs.extend(list(content))\n",
    "    #{word:counts}\n",
    "    counter = Counter(all_vocabs)\n",
    "    #take the most common top 4999\n",
    "    count_pairs = counter.most_common(vocab_size - 1)  #return pairs\n",
    "    words, _ = list(zip(*count_pairs))    #ignore the counts\n",
    "    words = ['<PAD>'] + list(words)  #防止样本数太小 填充为0 \n",
    "    word_to_id = dict(zip(words, range(len(words))))  #change pos to 编号 number\n",
    "    return words, word_to_id"
   ]
  },
  {
   "cell_type": "code",
   "execution_count": 15,
   "metadata": {},
   "outputs": [
    {
     "name": "stdout",
     "output_type": "stream",
     "text": [
      "{'<PAD>': 0, 'trump': 1, 'clinton': 2, 'people': 3, 'hillary': 4, 'president': 5, 'election': 6, 'campaign': 7, 'time': 8, 'obama': 9, 'donald': 10, 'government': 11, 'american': 12, 'news': 13, 'political': 14, 'war': 15, 'media': 16, 'white': 17, 'republican': 18, 'russia': 19, 'country': 20, 'party': 21, 'presidential': 22, 'house': 23, 'don': 24, 'day': 25, 'america': 26, 'vote': 27, 'voters': 28, 'united': 29, 'democratic': 30, 'public': 31, 'national': 32, 'fbi': 33, 'support': 34, 'policy': 35, 'percent': 36, 'women': 37, 'law': 38, 'york': 39, 'email': 40, 'power': 41, 'times': 42, 'democrats': 43, 'washington': 44, 'told': 45, 'emails': 46, 'americans': 47, 'called': 48, 'russian': 49, 'military': 50, 'bill': 51, 'republicans': 52, 'federal': 53, 'including': 54, 'october': 55, 'change': 56, 'week': 57, 'candidate': 58, 'administration': 59, 'system': 60, 'foreign': 61, 'money': 62, 'life': 63, 'syria': 64, 'real': 65, 've': 66, 'november': 67, 'days': 68, 'security': 69, 'won': 70, 'economic': 71, 'black': 72, 'left': 73, 'free': 74, 'post': 75, 'department': 76, 'story': 77, 'office': 78, 'article': 79, 'wsj': 80, 'investigation': 81, 'health': 82, 'twitter': 83, 'police': 84, 'china': 85, 'trade': 86, 'top': 87, 'win': 88, 'secretary': 89, 'john': 90, 'officials': 91, 'voting': 92, 'report': 93, 'video': 94, 'control': 95, 'debate': 96, 'race': 97, 'global': 98, 'business': 99, 'didn': 100, 'city': 101, 'politics': 102, 'congress': 103, 'facebook': 104, 'tax': 105, 'history': 106, 'comey': 107, 'north': 108, 'major': 109, 'market': 110, 'anti': 111, 'children': 112, 'nominee': 113, 'nation': 114, 'family': 115, 'senate': 116, 'director': 117, 'private': 118, 'doesn': 119, 'social': 120, 'court': 121, 'rights': 122, 'force': 123, 'gop': 124, 'financial': 125, 'lot': 126, 'ms': 127, 'international': 128, 'deal': 129, 'evidence': 130, 'putin': 131, 'economy': 132, 'human': 133, 'nuclear': 134, 'wall': 135, 'elect': 136, 'supporters': 137, 'based': 138, 'source': 139, 'ago': 140, 'foundation': 141, 'question': 142, 'justice': 143, 'victory': 144, 'countries': 145, 'call': 146, 'reported': 147, 'night': 148, 'close': 149, 'polls': 150, 'share': 151, 'wrote': 152, 'street': 153, 'month': 154, 'company': 155, 'team': 156, 'wikileaks': 157, 'matter': 158, 'al': 159, 'lead': 160, 'person': 161, 'wednesday': 162, 'tuesday': 163, 'chief': 164, 'candidates': 165, 'set': 166, 'plan': 167, 'll': 168, 'future': 169, 'issues': 170, 'continued': 171, 'water': 172, 'bank': 173, 'months': 174, 'continue': 175, 'press': 176, 'move': 177, 'florida': 178, 'committee': 179, 'forces': 180, 'comment': 181, 'care': 182, 'class': 183, 'podesta': 184, 'votes': 185, 'leaders': 186, 'energy': 187, 'coming': 188, 'gold': 189, 'hard': 190, 'issue': 191, 'reports': 192, 'elections': 193, 'comments': 194, 'companies': 195, 'bush': 196, 'friday': 197, 'pay': 198, 'earlier': 199, 'university': 200, 'live': 201, 'read': 202, 'data': 203, 'statement': 204, 'led': 205, 'interview': 206, 'defense': 207, 'isn': 208, 'process': 209, 'attack': 210, 'middle': 211, 'reason': 212, 'official': 213, 'south': 214, 'school': 215, 'running': 216, 'poll': 217, 'billion': 218, 'morning': 219, 'job': 220, 'term': 221, 'woman': 222, 'head': 223, 'role': 224, 'syrian': 225, 'israel': 226, 'presidency': 227, 'leader': 228, 'decision': 229, 'majority': 230, 'access': 231, 'europe': 232, 'policies': 233, 'follow': 234, 'weeks': 235, 'talk': 236, 'current': 237, 'speech': 238, 'elected': 239, 'lost': 240, 'truth': 241, 'air': 242, 'executive': 243, 'western': 244, 'iran': 245, 'bad': 246, 'start': 247, 'write': 248, 'true': 249, 'result': 250, 'ad': 251, 'released': 252, 'west': 253, 'oil': 254, 'politico': 255, 'monday': 256, 'center': 257, 'pence': 258, 'appears': 259, 'local': 260, 'college': 261, 'george': 262, 'iraq': 263, 'millions': 264, 'east': 265, 'level': 266, 'simply': 267, 'intelligence': 268, 'feel': 269, 'central': 270, 'jobs': 271, 'growth': 272, 'plans': 273, 'meeting': 274, 'personal': 275, 'strong': 276, 'barack': 277, 'idea': 278, 'published': 279, 'lives': 280, 'daily': 281, 'late': 282, 'potential': 283, 'hope': 284, 'sanders': 285, 'michael': 286, 'ryan': 287, 'establishment': 288, 'position': 289, 'fight': 290, 'voter': 291, 'questions': 292, 'food': 293, 'half': 294, 'action': 295, 'reality': 296, 'chairman': 297, 'held': 298, 'thursday': 299, 'entire': 300, 'watch': 301, 'program': 302, 'legal': 303, 'service': 304, 'isis': 305, 'leave': 306, 'democrat': 307, 'james': 308, 'crisis': 309, 'sign': 310, 'attacks': 311, 'industry': 312, 'death': 313, 'community': 314, 'weapons': 315, 'thousands': 316, 'european': 317, 'investors': 318, 'staff': 319, 'paul': 320, 'movement': 321, 'message': 322, 'markets': 323, 'mind': 324, 'low': 325, 'conservative': 326, 'key': 327, 'record': 328, 'spending': 329, 'letter': 330, 'nato': 331, 'effort': 332, 'dollar': 333, 'corporate': 334, 'electoral': 335, 'hand': 336, 'final': 337, 'sunday': 338, 'criminal': 339, 'paper': 340, 'view': 341, 'saudi': 342, 'nations': 343, 'understand': 344, 'expected': 345, 'love': 346, 'liberal': 347, 'county': 348, 'bring': 349, 'civil': 350, 'rate': 351, 'posted': 352, 'mainstream': 353, 'transition': 354, 'threat': 355, 'short': 356, 'wrong': 357, 'secret': 358, 'senior': 359, 'rates': 360, 'event': 361, 'list': 362, 'banks': 363, 'book': 364, 'union': 365, 'violence': 366, 'agency': 367, 'increase': 368, 'fear': 369, 'rally': 370, 'project': 371, 'front': 372, 'response': 373, 'version': 374, 'special': 375, 'talking': 376, 'democracy': 377, 'body': 378, 'september': 379, 'hold': 380, 'efforts': 381, 'create': 382, 'organization': 383, 'immigration': 384, 'god': 385, 'thomas': 386, 'vice': 387, 'minister': 388, 'army': 389, 'paid': 390, 'society': 391, 'opinion': 392, 'influence': 393, 'claims': 394, 'play': 395, 'debt': 396, 'sense': 397, 'single': 398, 'peace': 399, 'happen': 400, 'earth': 401, 'attorney': 402, 'standing': 403, 'powerful': 404, 'started': 405, 'pro': 406, 'server': 407, 'common': 408, 'decades': 409, 'citizens': 410, 'pipeline': 411, 'study': 412, 'illegal': 413, 'voted': 414, 'light': 415, 'popular': 416, 'rise': 417, 'situation': 418, 'david': 419, 'workers': 420, 'california': 421, 'risk': 422, 'stand': 423, 'sen': 424, 'pm': 425, 'created': 426, 'allies': 427, 'sexual': 428, 'climate': 429, 'breaking': 430, 'ground': 431, 'nov': 432, 'choice': 433, 'hours': 434, 'spent': 435, 'leading': 436, 'ahead': 437, 'received': 438, 'cnn': 439, 'freedom': 440, 'sources': 441, 'land': 442, 'mexico': 443, 'announced': 444, 'moment': 445, 'biggest': 446, 'senator': 447, 'living': 448, 'happened': 449, 'wasn': 450, 'tv': 451, 'forward': 452, 'income': 453, 'population': 454, 'chinese': 455, 'fraud': 456, 'friends': 457, 'obamacare': 458, 'deep': 459, 'ukraine': 460, 'journal': 461, 'agreement': 462, 'form': 463, 'primary': 464, 'involved': 465, 'total': 466, 'building': 467, 'rules': 468, 'muslim': 469, 'killed': 470, 'network': 471, 'failed': 472, 'investment': 473, 'parties': 474, 'massive': 475, 'experience': 476, 'agenda': 477, 'calls': 478, 'leadership': 479, 'author': 480, 'capital': 481, 'account': 482, 'relations': 483, 'http': 484, 'rule': 485, 'mike': 486, 'dollars': 487, 'build': 488, 'taxes': 489, 'chance': 490, 'attention': 491, 'enforcement': 492, 'border': 493, 'price': 494, 'print': 495, 'hit': 496, 'focus': 497, 'heard': 498, 'website': 499, 'release': 500, 'laws': 501, 'aleppo': 502, 'inside': 503, 'events': 504, 'photo': 505, 'rest': 506, 'ohio': 507, 'region': 508, 'carolina': 509, 'oct': 510, 'finally': 511, 'speaking': 512, 'claim': 513, 'child': 514, 'students': 515, 'british': 516, 'fox': 517, 'site': 518, 'corruption': 519, 'congressional': 520, 'note': 521, 'dr': 522, 'provide': 523, 'protect': 524, 'lower': 525, 'calling': 526, 'answer': 527, 'brain': 528, 'views': 529, 'prices': 530, 'gun': 531, 'education': 532, 'content': 533, 'african': 534, 'cost': 535, 'july': 536, 'ballot': 537, 'independent': 538, 'opposition': 539, 'cut': 540, 'conflict': 541, 'regime': 542, 'actions': 543, 'fighting': 544, 'fall': 545, 'crime': 546, 'largest': 547, 'allowed': 548, 'brought': 549, 'appeared': 550, 'takes': 551, 'terms': 552, 'firm': 553, 'wife': 554, 'review': 555, 'headline': 556, 'services': 557, 'growing': 558, 'game': 559, 'clintons': 560, 'supreme': 561, 'council': 562, 'editor': 563, 'texas': 564, 'helped': 565, 'agents': 566, 'bernie': 567, 'weiner': 568, 'mass': 569, 'step': 570, 'elite': 571, 'strategy': 572, 'immigrants': 573, 'age': 574, 'pennsylvania': 575, 'difficult': 576, 'conference': 577, 'subscribe': 578, 'fire': 579, 'average': 580, 'johnson': 581, 'fund': 582, 'return': 583, 'documents': 584, 'medical': 585, 'image': 586, 'turkey': 587, 'worse': 588, 'decided': 589, 'wins': 590, 'soros': 591, 'concerns': 592, 'dakota': 593, 'politicians': 594, 'directly': 595, 'board': 596, 'joshua': 597, 'husband': 598, 'huge': 599, 'analysis': 600, 'abedin': 601, 'reporters': 602, 'crimes': 603, 'expect': 604, 'online': 605, 'previous': 606, 'completely': 607, 'text': 608, 'wright': 609, 'accused': 610, 'word': 611, 'polling': 612, 'remain': 613, 'islamic': 614, 'red': 615, 'fed': 616, 'lose': 617, 'development': 618, 'drug': 619, 'remains': 620, 'mark': 621, 'century': 622, 'science': 623, 'rigged': 624, 'de': 625, 'winning': 626, 'governor': 627, 'eastern': 628, 'camp': 629, 'internet': 630, 'heart': 631, 'wars': 632, 'main': 633, 'technology': 634, 'address': 635, 'pressure': 636, 'rock': 637, 'relationship': 638, 'experts': 639, 'series': 640, 'opportunity': 641, 'michigan': 642, 'cast': 643, 'natural': 644, 'base': 645, 'march': 646, 'zeitz': 647, 'demand': 648, 'remember': 649, 'saturday': 650, 'dead': 651, 'false': 652, 'wouldn': 653, 'officers': 654, 'space': 655, 'push': 656, 'safe': 657, 'star': 658, 'revealed': 659, 'labor': 660, 'scher': 661, 'stories': 662, 'hands': 663, 'stay': 664, 'rep': 665, 'speak': 666, 'attempt': 667, 'father': 668, 'terrorists': 669, 'propaganda': 670, 'cia': 671, 'ready': 672, 'ability': 673, 'period': 674, 'dangerous': 675, 'impact': 676, 'charges': 677, 'modern': 678, 'prime': 679, 'gov': 680, 'operation': 681, 'raise': 682, 'jack': 683, 'continues': 684, 'loss': 685, 'written': 686, 'forced': 687, 'click': 688, 'armed': 689, 'levels': 690, 'assault': 691, 'amount': 692, 'supported': 693, 'stage': 694, 'raised': 695, 'approach': 696, 'buy': 697, 'supporting': 698, 'culture': 699, 'considered': 700, 'jewish': 701, 'break': 702, 'romney': 703, 'professor': 704, 'governments': 705, 'phone': 706, 'check': 707, 'shot': 708, 'officer': 709, 'mosul': 710, 'infrastructure': 711, 'reach': 712, 'district': 713, 'kaine': 714, 'suggested': 715, 'arabia': 716, 'son': 717, 'surprise': 718, 'pretty': 719, 'changed': 720, 'outcome': 721, 'judge': 722, 'link': 723, 'germany': 724, 'assad': 725, 'trust': 726, 'protest': 727, 'august': 728, 'planet': 729, 'lack': 730, 'currency': 731, 'cash': 732, 'green': 733, 'direct': 734, 'favor': 735, 'exchange': 736, 'classified': 737, 'cover': 738, 'percentage': 739, 'stock': 740, 'respect': 741, 'families': 742, 'individual': 743, 'eu': 744, 'hundreds': 745, 'church': 746, 'credit': 747, 'lies': 748, 'telling': 749, 'provided': 750, 'sex': 751, 'cities': 752, 'coverage': 753, 'served': 754, 'worth': 755, 'hear': 756, 'claimed': 757, 'serve': 758, 'details': 759, 'send': 760, 'avoid': 761, 'terrorism': 762, 'bit': 763, 'agree': 764, 'muslims': 765, 'met': 766, 'protesters': 767, 'cancer': 768, 'sea': 769, 'minutes': 770, 'included': 771, 'concerned': 772, 'terrorist': 773, 'moscow': 774, 'doubt': 775, 'nature': 776, 'infowars': 777, 'positions': 778, 'offer': 779, 'field': 780, 'blue': 781, 'planned': 782, 'constitution': 783, 'gas': 784, 'increased': 785, 'operations': 786, 'rich': 787, 'benefit': 788, 'radio': 789, 'battle': 790, 'huma': 791, 'japan': 792, 'easy': 793, 'stated': 794, 'thinking': 795, 'retired': 796, 'accept': 797, 'agencies': 798, 'status': 799, 'corrupt': 800, 'compared': 801, 'cold': 802, 'parents': 803, 'troops': 804, 'reporting': 805, 'russians': 806, 'virginia': 807, 'newsletter': 808, 'january': 809, 'usa': 810, 'poor': 811, 'figure': 812, 'insurance': 813, 'subject': 814, 'joe': 815, 'moving': 816, 'friend': 817, 'reasons': 818, 'employees': 819, 'contributed': 820, 'spokesman': 821, 'benefits': 822, 'estate': 823, 'sort': 824, 'christian': 825, 'damage': 826, 'mother': 827, 'town': 828, 'join': 829, 'positive': 830, 'britain': 831, 'india': 832, 'costs': 833, 'lines': 834, 'june': 835, 'resources': 836, 'domestic': 837, 'happening': 838, 'systems': 839, 'reached': 840, 'complete': 841, 'prevent': 842, 'hate': 843, 'alternative': 844, 'highly': 845, 'mail': 846, 'asia': 847, 'organizations': 848, 'fake': 849, 'challenge': 850, 'television': 851, 'signs': 852, 'google': 853, 'empire': 854, 'rose': 855, 'crowd': 856, 'language': 857, 'coalition': 858, 'authority': 859, 'rising': 860, 'behavior': 861, 'racist': 862, 'progressive': 863, 'kelly': 864, 'discovered': 865, 'st': 866, 'ties': 867, 'learn': 868, 'adding': 869, 'adviser': 870, 'confirmed': 871, 'critical': 872, 'meet': 873, 'concern': 874, 'spoke': 875, 'protests': 876, 'funds': 877, 'expressed': 878, 'records': 879, 'dnc': 880, 'add': 881, 'brexit': 882, 'articles': 883, 'assange': 884, 'ruling': 885, 'guy': 886, 'december': 887, 'shares': 888, 'speaker': 889, 'advantage': 890, 'repeatedly': 891, 'canada': 892, 'built': 893, 'veterans': 894, 'trading': 895, 'schools': 896, 'native': 897, 'prison': 898, 'believes': 899, 'defeat': 900, 'civilians': 901, 'supposed': 902, 'manager': 903, 'scandal': 904, 'learned': 905, 'offered': 906, 'silver': 907, 'worst': 908, 'ultimately': 909, 'wisconsin': 910, 'individuals': 911, 'conspiracy': 912, 'couple': 913, 'path': 914, 'robert': 915, 'arms': 916, 'affairs': 917, 'king': 918, 'declared': 919, 'stocks': 920, 'inflation': 921, 'institute': 922, 'explained': 923, 'vladimir': 924, 'https': 925, 'caused': 926, 'korea': 927, 'target': 928, 'seeking': 929, 'funding': 930, 'blood': 931, 'born': 932, 'aide': 933, 'agreed': 934, 'host': 935, 'ballots': 936, 'includes': 937, 'deals': 938, 'multiple': 939, 'charge': 940, 'possibility': 941, 'holding': 942, 'search': 943, 'simple': 944, 'super': 945, 'bond': 946, 'focused': 947, 'passed': 948, 'leaving': 949, 'wealth': 950, 'production': 951, 'libya': 952, 'addition': 953, 'aides': 954, 'edition': 955, 'publicly': 956, 'reform': 957, 'increasingly': 958, 'conducted': 959, 'female': 960, 'weekend': 961, 'products': 962, 'negative': 963, 'journalists': 964, 'writing': 965, 'mayor': 966, 'studies': 967, 'promised': 968, 'defend': 969, 'couldn': 970, 'visit': 971, 'wing': 972, 'believed': 973, 'warned': 974, 'absolutely': 975, 'bureau': 976, 'quarter': 977, 'revolution': 978, 'responsible': 979, 'treasury': 980, 'safety': 981, 'spend': 982, 'france': 983, 'jews': 984, 'hour': 985, 'sales': 986, 'reserve': 987, 'alleged': 988, 'explain': 989, 'hasn': 990, 'helping': 991, 'voice': 992, 'religious': 993, 'respond': 994, 'chicago': 995, 'remarks': 996, 'closed': 997, 'analysts': 998, 'races': 999, 'protection': 1000, 'statements': 1001, 'richard': 1002, 'israeli': 1003, 'difference': 1004, 'fellow': 1005, 'gain': 1006, 'partners': 1007, 'haven': 1008, 'opposed': 1009, 'nevada': 1010, 'management': 1011, 'committed': 1012, 'car': 1013, 'ads': 1014, 'named': 1015, 'collapse': 1016, 'choose': 1017, 'uk': 1018, 'warning': 1019, 'success': 1020, 'powers': 1021, 'authorities': 1022, 'rhetoric': 1023, 'block': 1024, 'french': 1025, 'shafer': 1026, 'seek': 1027, 'scientists': 1028, 'arizona': 1029, 'specific': 1030, 'controlled': 1031, 'ac': 1032, 'utm': 1033, 'designed': 1034, 'regulations': 1035, 'ensure': 1036, 'violent': 1037, 'career': 1038, 'extremely': 1039, 'survey': 1040, 'caught': 1041, 'refugees': 1042, 'profit': 1043, 'blame': 1044, 'additional': 1045, 'warren': 1046, 'declined': 1047, 'larger': 1048, 'traditional': 1049, 'facing': 1050, 'effects': 1051, 'familiar': 1052, 'donors': 1053, 'german': 1054, 'property': 1055, 'losing': 1056, 'tape': 1057, 'ideas': 1058, 'save': 1059, 'imagine': 1060, 'activity': 1061, 'businesses': 1062, 'type': 1063, 'nbc': 1064, 'proposed': 1065, 'commission': 1066, 'goal': 1067, 'standard': 1068, 'fell': 1069, 'programs': 1070, 'conditions': 1071, 'eventually': 1072, 'carry': 1073, 'moved': 1074, 'elites': 1075, 'anthony': 1076, 'amendment': 1077, 'daughter': 1078, 'posts': 1079, 'range': 1080, 'summer': 1081, 'edt': 1082, 'dark': 1083, 'youtube': 1084, 'budget': 1085, 'turnout': 1086, 'minority': 1087, 'machine': 1088, 'paying': 1089, 'corporations': 1090, 'piece': 1091, 'kill': 1092, 'pacific': 1093, 'easily': 1094, 'failure': 1095, 'decisions': 1096, 'announcement': 1097, 'faith': 1098, 'refused': 1099, 'internal': 1100, 'pentagon': 1101, 'shared': 1102, 'happy': 1103, 'effective': 1104, 'material': 1105, 'evil': 1106, 'campaigns': 1107, 'issued': 1108, 'destroy': 1109, 'conversation': 1110, 'notes': 1111, 'threats': 1112, 'finance': 1113, 'fair': 1114, 'chris': 1115, 'promises': 1116, 'drugs': 1117, 'borders': 1118, 'zone': 1119, 'communities': 1120, 'model': 1121, 'shift': 1122, 'test': 1123, 'physical': 1124, 'iowa': 1125, 'era': 1126, 'code': 1127, 'assets': 1128, 'receive': 1129, 'treatment': 1130, 'student': 1131, 'measures': 1132, 'journalist': 1133, 'swing': 1134, 'april': 1135, 'kids': 1136, 'machines': 1137, 'successful': 1138, 'wait': 1139, 'original': 1140, 'computer': 1141, 'mexican': 1142, 'allegations': 1143, 'obvious': 1144, 'pass': 1145, 'africa': 1146, 'exposed': 1147, 'activities': 1148, 'creating': 1149, 'values': 1150, 'activists': 1151, 'putting': 1152, 'required': 1153, 'founder': 1154, 'republic': 1155, 'watching': 1156, 'hollywood': 1157, 'pick': 1158, 'qaeda': 1159, 'discussion': 1160, 'denied': 1161, 'vast': 1162, 'season': 1163, 'lie': 1164, 'ap': 1165, 'iraqi': 1166, 'door': 1167, 'played': 1168, 'margin': 1169, 'killing': 1170, 'bannon': 1171, 'knowledge': 1172, 'practice': 1173, 'lawmakers': 1174, 'destruction': 1175, 'soviet': 1176, 'industrial': 1177, 'cycle': 1178, 'limited': 1179, 'core': 1180, 'london': 1181, 'promise': 1182, 'meant': 1183, 'heavy': 1184, 'afghanistan': 1185, 'videos': 1186, 'writes': 1187, 'supporter': 1188, 'supply': 1189, 'stein': 1190, 'planning': 1191, 'keeping': 1192, 'drive': 1193, 'solution': 1194, 'pre': 1195, 'accounts': 1196, 'looked': 1197, 'communications': 1198, 'institutions': 1199, 'leaked': 1200, 'hampshire': 1201, 'presence': 1202, 'decade': 1203, 'reading': 1204, 'decide': 1205, 'matters': 1206, 'trail': 1207, 'sell': 1208, 'require': 1209, 'generation': 1210, 'understanding': 1211, 'soldiers': 1212, 'liberals': 1213, 'jones': 1214, 'attacked': 1215, 'prior': 1216, 'complex': 1217, 'fly': 1218, 'starting': 1219, 'eyes': 1220, 'ongoing': 1221, 'road': 1222, 'listen': 1223, 'moral': 1224, 'convention': 1225, 'deeply': 1226, 'environmental': 1227, 'extreme': 1228, 'basis': 1229, 'criticism': 1230, 'wide': 1231, 'environment': 1232, 'reagan': 1233, 'goldman': 1234, 'association': 1235, 'actual': 1236, 'reporter': 1237, 'prepared': 1238, 'coup': 1239, 'terror': 1240, 'raising': 1241, 'broke': 1242, 'banking': 1243, 'registered': 1244, 'arrested': 1245, 'cuba': 1246, 'advisers': 1247, 'readers': 1248, 'tim': 1249, 'carried': 1250, 'progress': 1251, 'construction': 1252, 'talks': 1253, 'argument': 1254, 'launched': 1255, 'picture': 1256, 'lawyer': 1257, 'signed': 1258, 'playing': 1259, 'southern': 1260, 'deputy': 1261, 'eric': 1262, 'lawyers': 1263, 'direction': 1264, 'steps': 1265, 'gains': 1266, 'ban': 1267, 'separate': 1268, 'consequences': 1269, 'died': 1270, 'ticket': 1271, 'request': 1272, 'tough': 1273, 'aircraft': 1274, 'leads': 1275, 'reportedly': 1276, 'theory': 1277, 'spread': 1278, 'billionaire': 1279, 'strategic': 1280, 'discussed': 1281, 'scale': 1282, 'sites': 1283, 'destroyed': 1284, 'aid': 1285, 'identity': 1286, 'sector': 1287, 'argued': 1288, 'trial': 1289, 'grow': 1290, 'responsibility': 1291, 'missile': 1292, 'chair': 1293, 'opponent': 1294, 'tweet': 1295, 'legislation': 1296, 'humanity': 1297, 'pushed': 1298, 'est': 1299, 'bonds': 1300, 'heavily': 1301, 'increasing': 1302, 'org': 1303, 'mention': 1304, 'net': 1305, 'charged': 1306, 'steve': 1307, 'peter': 1308, 'owned': 1309, 'feeling': 1310, 'messages': 1311, 'numerous': 1312, 'alliance': 1313, 'plant': 1314, 'abuse': 1315, 'double': 1316, 'ii': 1317, 'girl': 1318, 'plane': 1319, 'candidacy': 1320, 'politically': 1321, 'pic': 1322, 'normal': 1323, 'constitutional': 1324, 'ceo': 1325, 'sought': 1326, 'conservatives': 1327, 'probe': 1328, 'sanctions': 1329, 'magazine': 1330, 'delivered': 1331, 'connection': 1332, 'filed': 1333, 'suggests': 1334, 'evening': 1335, 'residents': 1336, 'hopes': 1337, 'brown': 1338, 'responded': 1339, 'prove': 1340, 'performance': 1341, 'indian': 1342, 'rubio': 1343, 'aware': 1344, 'sound': 1345, 'wake': 1346, 'flag': 1347, 'drop': 1348, 'andrew': 1349, 'balance': 1350, 'representative': 1351, 'mentioned': 1352, 'audience': 1353, 'tom': 1354, 'style': 1355, 'victims': 1356, 'baby': 1357, 'bigger': 1358, 'film': 1359, 'reduce': 1360, 'changing': 1361, 'hacked': 1362, 'racism': 1363, 'racial': 1364, 'hotel': 1365, 'aggressive': 1366, 'totally': 1367, 'forget': 1368, 'basic': 1369, 'eye': 1370, 'originally': 1371, 'cabinet': 1372, 'cultural': 1373, 'closer': 1374, 'joint': 1375, 'waiting': 1376, 'impossible': 1377, 'bottom': 1378, 'criticized': 1379, 'ministry': 1380, 'disease': 1381, 'selling': 1382, 'clean': 1383, 'boost': 1384, 'explains': 1385, 'colorado': 1386, 'sending': 1387, 'produced': 1388, 'fired': 1389, 'hurt': 1390, 'indiana': 1391, 'product': 1392, 'faced': 1393, 'arab': 1394, 'tweeted': 1395, 'consciousness': 1396, 'february': 1397, 'incident': 1398, 'smith': 1399, 'trillion': 1400, 'names': 1401, 'degree': 1402, 'joined': 1403, 'platform': 1404, 'treaty': 1405, 'threatened': 1406, 'territory': 1407, 'turkish': 1408, 'die': 1409, 'investigations': 1410, 'realize': 1411, 'returns': 1412, 'measure': 1413, 'active': 1414, 'seat': 1415, 'contact': 1416, 'michelle': 1417, 'pushing': 1418, 'sold': 1419, 'meaning': 1420, 'represents': 1421, 'minute': 1422, 'decline': 1423, 'existence': 1424, 'whites': 1425, 'purpose': 1426, 'giuliani': 1427, 'yesterday': 1428, 'memo': 1429, 'conway': 1430, 'training': 1431, 'hill': 1432, 'rebels': 1433, 'strike': 1434, 'amid': 1435, 'northern': 1436, 'stone': 1437, 'doctors': 1438, 'confidence': 1439, 'offensive': 1440, 'housing': 1441, 'proof': 1442, 'universe': 1443, 'straight': 1444, 'nomination': 1445, 'maintain': 1446, 'stuff': 1447, 'figures': 1448, 'anger': 1449, 'radical': 1450, 'danger': 1451, 'tells': 1452, 'biden': 1453, 'referring': 1454, 'dropped': 1455, 'pull': 1456, 'presidents': 1457, 'angry': 1458, 'strength': 1459, 'accusations': 1460, 'strategist': 1461, 'unprecedented': 1462, 'scott': 1463, 'narrative': 1464, 'roughly': 1465, 'resistance': 1466, 'launch': 1467, 'streets': 1468, 'island': 1469, 'navy': 1470, 'religion': 1471, 'instance': 1472, 'revenue': 1473, 'missiles': 1474, 'sitting': 1475, 'worried': 1476, 'books': 1477, 'track': 1478, 'broken': 1479, 'driven': 1480, 'exist': 1481, 'murder': 1482, 'representatives': 1483, 'band': 1484, 'christians': 1485, 'jail': 1486, 'speeches': 1487, 'standards': 1488, 'funded': 1489, 'newly': 1490, 'healthy': 1491, 'fine': 1492, 'controversial': 1493, 'hot': 1494, 'prominent': 1495, 'hall': 1496, 'liberty': 1497, 'researchers': 1498, 'rallies': 1499, 'enemy': 1500, 'size': 1501, 'emergency': 1502, 'digital': 1503, 'invasion': 1504, 'stopped': 1505, 'bid': 1506, 'mission': 1507, 'talked': 1508, 'web': 1509, 'debates': 1510, 'advance': 1511, 'walk': 1512, 'writer': 1513, 'vaccine': 1514, 'personally': 1515, 'reaction': 1516, 'character': 1517, 'store': 1518, 'exit': 1519, 'battleground': 1520, 'lynch': 1521, 'moves': 1522, 'claiming': 1523, 'projects': 1524, 'predicted': 1525, 'abortion': 1526, 'represent': 1527, 'asian': 1528, 'established': 1529, 'gender': 1530, 'peaceful': 1531, 'hispanic': 1532, 'chaos': 1533, 'agent': 1534, 'frank': 1535, 'park': 1536, 'grand': 1537, 'mistake': 1538, 'cooperation': 1539, 'bb': 1540, 'coast': 1541, 'essentially': 1542, 'expert': 1543, 'gay': 1544, 'mccain': 1545, 'correct': 1546, 'tower': 1547, 'vision': 1548, 'quality': 1549, 'cited': 1550, 'replace': 1551, 'images': 1552, 'struggle': 1553, 'advice': 1554, 'spirit': 1555, 'cuts': 1556, 'hearing': 1557, 'serving': 1558, 'count': 1559, 'newspaper': 1560, 'philadelphia': 1561, 'emerging': 1562, 'conduct': 1563, 'lady': 1564, 'fast': 1565, 'tpp': 1566, 'partner': 1567, 'english': 1568, 'closely': 1569, 'solar': 1570, 'critics': 1571, 'buying': 1572, 'sun': 1573, 'remove': 1574, 'historic': 1575, 'marijuana': 1576, 'permission': 1577, 'seats': 1578, 'determine': 1579, 'desire': 1580, 'san': 1581, 'affordable': 1582, 'appeal': 1583, 'pain': 1584, 'palestinian': 1585, 'ancient': 1586, 'disaster': 1587, 'suggesting': 1588, 'developed': 1589, 'conclusion': 1590, 'color': 1591, 'perfect': 1592, 'uncertainty': 1593, 'options': 1594, 'behalf': 1595, 'william': 1596, 'kennedy': 1597, 'challenges': 1598, 'guilty': 1599, 'consumers': 1600, 'wave': 1601, 'ally': 1602, 'users': 1603, 'providing': 1604, 'offers': 1605, 'bringing': 1606, 'allowing': 1607, 'cross': 1608, 'breitbart': 1609, 'mid': 1610, 'losses': 1611, 'beat': 1612, 'ten': 1613, 'firms': 1614, 'document': 1615, 'shut': 1616, 'produce': 1617, 'managed': 1618, 'endorsed': 1619, 'encourage': 1620, 'profits': 1621, 'martin': 1622, 'targeted': 1623, 'worry': 1624, 'pac': 1625, 'humanitarian': 1626, 'determined': 1627, 'expectations': 1628, 'guns': 1629, 'yields': 1630, 'factor': 1631, 'updates': 1632, 'blog': 1633, 'closing': 1634, 'brand': 1635, 'crazy': 1636, 'networks': 1637, 'annual': 1638, 'removed': 1639, 'disclosure': 1640, 'tens': 1641, 'mitt': 1642, 'secure': 1643, 'girls': 1644, 'existing': 1645, 'getty': 1646, 'stood': 1647, 'editorial': 1648, 'effectively': 1649, 'folks': 1650, 'regulation': 1651, 'executives': 1652, 'combat': 1653, 'consumer': 1654, 'stronger': 1655, 'targets': 1656, 'monetary': 1657, 'ambassador': 1658, 'acting': 1659, 'sick': 1660, 'basically': 1661, 'emerged': 1662, 'concluded': 1663, 'partnership': 1664, 'islam': 1665, 'literally': 1666, 'notitle': 1667, 'channel': 1668, 'deliver': 1669, 'conflicts': 1670, 'suffering': 1671, 'map': 1672, 'christie': 1673, 'linked': 1674, 'connected': 1675, 'birth': 1676, 'acts': 1677, 'round': 1678, 'regional': 1679, 'hell': 1680, 'jersey': 1681, 'surveillance': 1682, 'admitted': 1683, 'rival': 1684, 'contrast': 1685, 'interviews': 1686, 'dinner': 1687, 'enemies': 1688, 'deaths': 1689, 'identified': 1690, 'holds': 1691, 'prepare': 1692, 'bombing': 1693, 'brother': 1694, 'jim': 1695, 'task': 1696, 'covered': 1697, 'electorate': 1698, 'moderate': 1699, 'politician': 1700, 'longtime': 1701, 'reveal': 1702, 'yemen': 1703, 'donations': 1704, 'background': 1705, 'trouble': 1706, 'virtually': 1707, 'runs': 1708, 'occurred': 1709, 'approval': 1710, 'paris': 1711, 'analyst': 1712, 'attempts': 1713, 'fighters': 1714, 'stands': 1715, 'blacks': 1716, 'jason': 1717, 'integrity': 1718, 'veteran': 1719, 'stolen': 1720, 'reuters': 1721, 'rt': 1722, 'populist': 1723, 'trend': 1724, 'opponents': 1725, 'collective': 1726, 'informed': 1727, 'jr': 1728, 'option': 1729, 'australia': 1730, 'jury': 1731, 'appearance': 1732, 'afternoon': 1733, 'driving': 1734, 'improve': 1735, 'fiscal': 1736, 'giant': 1737, 'proven': 1738, 'healthcare': 1739, 'professional': 1740, 'express': 1741, 'aimed': 1742, 'guys': 1743, 'table': 1744, 'miles': 1745, 'wage': 1746, 'increases': 1747, 'leaves': 1748, 'movie': 1749, 'congressman': 1750, 'honest': 1751, 'shouldn': 1752, 'coal': 1753, 'jesus': 1754, 'activist': 1755, 'sachs': 1756, 'lying': 1757, 'counter': 1758, 'travel': 1759, 'heads': 1760, 'cbs': 1761, 'intervention': 1762, 'reprints': 1763, 'ukrainian': 1764, 'featured': 1765, 'resolution': 1766, 'scientific': 1767, 'electronic': 1768, 'fears': 1769, 'usual': 1770, 'nice': 1771, 'doj': 1772, 'homes': 1773, 'tech': 1774, 'civilian': 1775, 'briefing': 1776, 'intended': 1777, 'historical': 1778, 'practices': 1779, 'commitment': 1780, 'alex': 1781, 'belief': 1782, 'threatening': 1783, 'yield': 1784, 'enter': 1785, 'marriage': 1786, 'outlets': 1787, 'investigators': 1788, 'dream': 1789, 'vietnam': 1790, 'updated': 1791, 'winner': 1792, 'shooting': 1793, 'scenario': 1794, 'agreements': 1795, 'divided': 1796, 'gary': 1797, 'hedge': 1798, 'wealthy': 1799, 'shock': 1800, 'dozen': 1801, 'notice': 1802, 'structure': 1803, 'friendly': 1804, 'assistant': 1805, 'offering': 1806, 'dc': 1807, 'affect': 1808, 'transfer': 1809, 'kerry': 1810, 'nixon': 1811, 'openly': 1812, 'perspective': 1813, 'typically': 1814, 'ordinary': 1815, 'attacking': 1816, 'equal': 1817, 'favorite': 1818, 'italy': 1819, 'canadian': 1820, 'sessions': 1821, 'finding': 1822, 'repeal': 1823, 'manufacturing': 1824, 'bias': 1825, 'art': 1826, 'file': 1827, 'survive': 1828, 'regulatory': 1829, 'lived': 1830, 'regular': 1831, 'abc': 1832, 'allegedly': 1833, 'reveals': 1834, 'guess': 1835, 'dog': 1836, 'chances': 1837, 'kremlin': 1838, 'dozens': 1839, 'boy': 1840, 'weak': 1841, 'revelations': 1842, 'fuel': 1843, 'easier': 1844, 'lawsuit': 1845, 'opposite': 1846, 'los': 1847, 'tend': 1848, 'sacred': 1849, 'iranian': 1850, 'manhattan': 1851, 'argue': 1852, 'estimated': 1853, 'choices': 1854, 'reid': 1855, 'devices': 1856, 'bar': 1857, 'viewed': 1858, 'ignore': 1859, 'division': 1860, 'gigot': 1861, 'weren': 1862, 'migrants': 1863, 'club': 1864, 'urged': 1865, 'rnc': 1866, 'operating': 1867, 'op': 1868, 'chemical': 1869, 'proposal': 1870, 'bomb': 1871, 'expansion': 1872, 'hidden': 1873, 'abroad': 1874, 'humans': 1875, 'anonymous': 1876, 'investigative': 1877, 'moore': 1878, 'expand': 1879, 'wearing': 1880, 'forms': 1881, 'strikes': 1882, 'educated': 1883, 'causing': 1884, 'edge': 1885, 'begun': 1886, 'minds': 1887, 'tensions': 1888, 'julian': 1889, 'lobbying': 1890, 'box': 1891, 'economics': 1892, 'advertising': 1893, 'ben': 1894, 'surprised': 1895, 'context': 1896, 'alt': 1897, 'initial': 1898, 'preparing': 1899, 'continuing': 1900, 'rejected': 1901, 'suddenly': 1902, 'topic': 1903, 'bear': 1904, 'laptop': 1905, 'catholic': 1906, 'tactics': 1907, 'expensive': 1908, 'bloomberg': 1909, 'customers': 1910, 'requires': 1911, 'sounds': 1912, 'confident': 1913, 'poverty': 1914, 'overseas': 1915, 'citizen': 1916, 'approved': 1917, 'license': 1918, 'arrived': 1919, 'filled': 1920, 'command': 1921, 'protected': 1922, 'bankers': 1923, 'medicine': 1924, 'referred': 1925, 'capable': 1926, 'pelosi': 1927, 'involving': 1928, 'recognize': 1929, 'advertisement': 1930, 'clients': 1931, 'legitimate': 1932, 'risks': 1933, 'negotiations': 1934, 'recount': 1935, 'setting': 1936, 'music': 1937, 'blow': 1938, 'hacking': 1939, 'angeles': 1940, 'river': 1941, 'relevant': 1942, 'colleagues': 1943, 'fit': 1944, 'hoping': 1945, 'japanese': 1946, 'feet': 1947, 'returned': 1948, 'remained': 1949, 'charles': 1950, 'helps': 1951, 'miami': 1952, 'broad': 1953, 'sit': 1954, 'smart': 1955, 'missing': 1956, 'stupid': 1957, 'spokeswoman': 1958, 'moon': 1959, 'engaged': 1960, 'jeff': 1961, 'device': 1962, 'promote': 1963, 'extent': 1964, 'competitive': 1965, 'tea': 1966, 'protectors': 1967, 'guard': 1968, 'demands': 1969, 'supports': 1970, 'foods': 1971, 'investigating': 1972, 'cruz': 1973, 'grew': 1974, 'sheriff': 1975, 'communist': 1976, 'independence': 1977, 'achieve': 1978, 'attempted': 1979, 'citing': 1980, 'limit': 1981, 'organized': 1982, 'toxic': 1983, 'profile': 1984, 'opportunities': 1985, 'grown': 1986, 'strange': 1987, 'quote': 1988, 'legacy': 1989, 'mate': 1990, 'involvement': 1991, 'england': 1992, 'pulled': 1993, 'fewer': 1994, 'unable': 1995, 'widespread': 1996, 'capitalism': 1997, 'scene': 1998, 'hospital': 1999, 'movements': 2000, 'survival': 2001, 'fought': 2002, 'plants': 2003, 'station': 2004, 'treated': 2005, 'urban': 2006, 'creation': 2007, 'parliament': 2008, 'limits': 2009, 'html': 2010, 'apple': 2011, 'donate': 2012, 'plenty': 2013, 'jill': 2014, 'oppose': 2015, 'vaccines': 2016, 'blasio': 2017, 'carrying': 2018, 'fresh': 2019, 'gap': 2020, 'asset': 2021, 'developing': 2022, 'experienced': 2023, 'aggression': 2024, 'mental': 2025, 'lee': 2026, 'accepted': 2027, 'shocking': 2028, 'fourth': 2029, 'immigrant': 2030, 'ship': 2031, 'partisan': 2032, 'speaks': 2033, 'principles': 2034, 'famous': 2035, 'error': 2036, 'commander': 2037, 'examples': 2038, 'engage': 2039, 'fail': 2040, 'protecting': 2041, 'photos': 2042, 'oligarchy': 2043, 'unclear': 2044, 'headed': 2045, 'combined': 2046, 'yeah': 2047, 'tank': 2048, 'soul': 2049, 'miller': 2050, 'stephen': 2051, 'creative': 2052, 'employment': 2053, 'billions': 2054, 'exists': 2055, 'meetings': 2056, 'tied': 2057, 'carter': 2058, 'endorsement': 2059, 'feels': 2060, 'essential': 2061, 'gore': 2062, 'schumer': 2063, 'shortly': 2064, 'noting': 2065, 'steven': 2066, 'weapon': 2067, 'quick': 2068, 'trip': 2069, 'surrounding': 2070, 'loses': 2071, 'proposals': 2072, 'condition': 2073, 'halloween': 2074, 'chosen': 2075, 'shape': 2076, 'surely': 2077, 'proved': 2078, 'unique': 2079, 'bob': 2080, 'unusual': 2081, 'ford': 2082, 'kim': 2083, 'prospect': 2084, 'male': 2085, 'assume': 2086, 'exercise': 2087, 'touch': 2088, 'georgia': 2089, 'crucial': 2090, 'requests': 2091, 'terrible': 2092, 'atlantic': 2093, 'apparent': 2094, 'throw': 2095, 'attempting': 2096, 'referendum': 2097, 'contest': 2098, 'officially': 2099, 'spring': 2100, 'sharing': 2101, 'rural': 2102, 'acknowledged': 2103, 'journalism': 2104, 'eat': 2105, 'advanced': 2106, 'sioux': 2107, 'marked': 2108, 'slow': 2109, 'entered': 2110, 'capacity': 2111, 'unknown': 2112, 'dealing': 2113, 'bodies': 2114, 'convinced': 2115, 'relief': 2116, 'knowing': 2117, 'leaning': 2118, 'qatar': 2119, 'controversy': 2120, 'equipment': 2121, 'warming': 2122, 'deserve': 2123, 'afraid': 2124, 'priority': 2125, 'winter': 2126, 'courts': 2127, 'cutting': 2128, 'upset': 2129, 'bought': 2130, 'initiative': 2131, 'extraordinary': 2132, 'victim': 2133, 'carrier': 2134, 'nusra': 2135, 'harder': 2136, 'gained': 2137, 'stance': 2138, 'outlook': 2139, 'rape': 2140, 'spot': 2141, 'murphy': 2142, 'traffic': 2143, 'commercial': 2144, 'married': 2145, 'players': 2146, 'competition': 2147, 'amounts': 2148, 'utah': 2149, 'beijing': 2150, 'scheduled': 2151, 'equity': 2152, 'discussions': 2153, 'cuban': 2154, 'explanation': 2155, 'targeting': 2156, 'investigate': 2157, 'suspect': 2158, 'benghazi': 2159, 'indigenous': 2160, 'watched': 2161, 'sexually': 2162, 'intent': 2163, 'missouri': 2164, 'fundamental': 2165, 'flynn': 2166, 'animals': 2167, 'card': 2168, 'prosecutor': 2169, 'insider': 2170, 'primaries': 2171, 'korean': 2172, 'draft': 2173, 'develop': 2174, 'honor': 2175, 'tradition': 2176, 'priorities': 2177, 'minorities': 2178, 'weather': 2179, 'legislative': 2180, 'admit': 2181, 'harm': 2182, 'ted': 2183, 'ethnic': 2184, 'ross': 2185, 'cars': 2186, 'surface': 2187, 'contract': 2188, 'arm': 2189, 'glass': 2190, 'registration': 2191, 'williams': 2192, 'priebus': 2193, 'consent': 2194, 'jackson': 2195, 'incoming': 2196, 'mobile': 2197, 'falling': 2198, 'gingrich': 2199, 'cops': 2200, 'daniel': 2201, 'circle': 2202, 'chose': 2203, 'enormous': 2204, 'chelsea': 2205, 'enjoy': 2206, 'oval': 2207, 'blamed': 2208, 'pledged': 2209, 'campaigning': 2210, 'steal': 2211, 'louis': 2212, 'identify': 2213, 'fill': 2214, 'personnel': 2215, 'scandals': 2216, 'quo': 2217, 'prosecutors': 2218, 'grunwald': 2219, 'violation': 2220, 'trans': 2221, 'mandate': 2222, 'arrest': 2223, 'matthew': 2224, 'represented': 2225, 'skin': 2226, 'pakistan': 2227, 'weight': 2228, 'sept': 2229, 'tone': 2230, 'pursue': 2231, 'medium': 2232, 'vehicles': 2233, 'reference': 2234, 'progressives': 2235, 'design': 2236, 'odds': 2237, 'owner': 2238, 'initially': 2239, 'duty': 2240, 'ruled': 2241, 'commerce': 2242, 'criminals': 2243, 'broader': 2244, 'socialist': 2245, 'afford': 2246, 'recording': 2247, 'reputation': 2248, 'circumstances': 2249, 'solutions': 2250, 'counties': 2251, 'economist': 2252, 'assistance': 2253, 'refugee': 2254, 'corp': 2255, 'regard': 2256, 'tool': 2257, 'globe': 2258, 'seemingly': 2259, 'struck': 2260, 'dan': 2261, 'jay': 2262, 'elizabeth': 2263, 'nsa': 2264, 'floor': 2265, 'counsel': 2266, 'founded': 2267, 'warfare': 2268, 'entry': 2269, 'repeated': 2270, 'treat': 2271, 'reverse': 2272, 'vulnerable': 2273, 'headlines': 2274, 'amazing': 2275, 'headquarters': 2276, 'draw': 2277, 'sharp': 2278, 'jerusalem': 2279, 'spiritual': 2280, 'owners': 2281, 'christ': 2282, 'sale': 2283, 'wages': 2284, 'philippines': 2285, 'league': 2286, 'caucus': 2287, 'wild': 2288, 'types': 2289, 'vehicle': 2290, 'recorded': 2291, 'reduced': 2292, 'remaining': 2293, 'brings': 2294, 'elements': 2295, 'stunning': 2296, 'insiders': 2297, 'title': 2298, 'brian': 2299, 'undocumented': 2300, 'flight': 2301, 'moments': 2302, 'understood': 2303, 'castro': 2304, 'ethics': 2305, 'square': 2306, 'pace': 2307, 'branch': 2308, 'relationships': 2309, 'learning': 2310, 'nazi': 2311, 'consensus': 2312, 'starts': 2313, 'ice': 2314, 'dismissed': 2315, 'investments': 2316, 'pattern': 2317, 'spoken': 2318, 'economists': 2319, 'column': 2320, 'neo': 2321, 'granted': 2322, 'ultimate': 2323, 'deficit': 2324, 'suffered': 2325, 'sensitive': 2326, 'refuse': 2327, 'shadow': 2328, 'harry': 2329, 'defending': 2330, 'burn': 2331, 'function': 2332, 'districts': 2333, 'manner': 2334, 'minimum': 2335, 'earned': 2336, 'lobbyists': 2337, 'globalization': 2338, 'fun': 2339, 'answers': 2340, 'gen': 2341, 'cannabis': 2342, 'kadzik': 2343, 'session': 2344, 'split': 2345, 'extra': 2346, 'feed': 2347, 'warner': 2348, 'bet': 2349, 'testimony': 2350, 'suicide': 2351, 'melania': 2352, 'likes': 2353, 'beautiful': 2354, 'links': 2355, 'regularly': 2356, 'rare': 2357, 'deny': 2358, 'train': 2359, 'nominees': 2360, 'crimea': 2361, 'fundraising': 2362, 'promoting': 2363, 'surge': 2364, 'appointed': 2365, 'confrontation': 2366, 'commit': 2367, 'marine': 2368, 'footage': 2369, 'bombs': 2370, 'differences': 2371, 'tired': 2372, 'goals': 2373, 'innocent': 2374, 'bundy': 2375, 'questioned': 2376, 'judgment': 2377, 'arguing': 2378, 'frequently': 2379, 'crude': 2380, 'software': 2381, 'stress': 2382, 'massachusetts': 2383, 'admiral': 2384, 'businessman': 2385, 'illegally': 2386, 'speed': 2387, 'torture': 2388, 'replaced': 2389, 'latino': 2390, 'tanks': 2391, 'leaks': 2392, 'beach': 2393, 'factors': 2394, 'storm': 2395, 'rapidly': 2396, 'libertarian': 2397, 'impose': 2398, 'sponsored': 2399, 'gdp': 2400, 'directed': 2401, 'invited': 2402, 'diplomatic': 2403, 'silence': 2404, 'brazile': 2405, 'variety': 2406, 'hitler': 2407, 'militants': 2408, 'cell': 2409, 'struggling': 2410, 'fans': 2411, 'ideology': 2412, 'heading': 2413, 'patients': 2414, 'receiving': 2415, 'principle': 2416, 'insisted': 2417, 'flow': 2418, 'tomorrow': 2419, 'handling': 2420, 'tools': 2421, 'metals': 2422, 'reflect': 2423, 'attend': 2424, 'object': 2425, 'surprising': 2426, 'donor': 2427, 'cable': 2428, 'failing': 2429, 'demanding': 2430, 'reaching': 2431, 'desperate': 2432, 'fairly': 2433, 'minnesota': 2434, 'phrase': 2435, 'worldwide': 2436, 'audio': 2437, 'fat': 2438, 'accurate': 2439, 'oregon': 2440, 'rebel': 2441, 'dirty': 2442, 'heat': 2443, 'captured': 2444, 'suit': 2445, 'eating': 2446, 'screen': 2447, 'drew': 2448, 'equally': 2449, 'apply': 2450, 'weekly': 2451, 'ill': 2452, 'camps': 2453, 'diverse': 2454, 'entering': 2455, 'diversity': 2456, 'exact': 2457, 'judicial': 2458, 'pieces': 2459, 'sad': 2460, 'notion': 2461, 'senators': 2462, 'wind': 2463, 'handful': 2464, 'worker': 2465, 'exclusive': 2466, 'vowed': 2467, 'premiums': 2468, 'species': 2469, 'egypt': 2470, 'nationwide': 2471, 'dogs': 2472, 'overwhelming': 2473, 'homeland': 2474, 'escape': 2475, 'update': 2476, 'hide': 2477, 'latin': 2478, 'duterte': 2479, 'erdogan': 2480, 'contributions': 2481, 'handle': 2482, 'severe': 2483, 'welfare': 2484, 'silent': 2485, 'merkel': 2486, 'kushner': 2487, 'encouraged': 2488, 'fashion': 2489, 'consulting': 2490, 'undermine': 2491, 'cells': 2492, 'lots': 2493, 'beliefs': 2494, 'reads': 2495, 'airport': 2496, 'titled': 2497, 'revelation': 2498, 'emotional': 2499, 'picked': 2500, 'covering': 2501, 'offices': 2502, 'sleep': 2503, 'extended': 2504, 'gulf': 2505, 'medicare': 2506, 'replied': 2507, 'bold': 2508, 'confirm': 2509, 'passing': 2510, 'detailed': 2511, 'brothers': 2512, 'location': 2513, 'ivanka': 2514, 'master': 2515, 'tonight': 2516, 'participate': 2517, 'suffer': 2518, 'tony': 2519, 'organic': 2520, 'edward': 2521, 'dna': 2522, 'vitamin': 2523, 'followers': 2524, 'ratings': 2525, 'investor': 2526, 'broadcast': 2527, 'located': 2528, 'prize': 2529, 'connections': 2530, 'peoples': 2531, 'destroying': 2532, 'hackers': 2533, 'cyber': 2534, 'establish': 2535, 'laid': 2536, 'payments': 2537, 'kinds': 2538, 'versus': 2539, 'cleveland': 2540, 'reply': 2541, 'operatives': 2542, 'guardian': 2543, 'promising': 2544, 'conventional': 2545, 'restrictions': 2546, 'visited': 2547, 'loans': 2548, 'intellectual': 2549, 'voices': 2550, 'josh': 2551, 'diet': 2552, 'warrant': 2553, 'discussing': 2554, 'tribe': 2555, 'contained': 2556, 'hatred': 2557, 'intense': 2558, 'mix': 2559, 'embassy': 2560, 'boss': 2561, 'dow': 2562, 'defeated': 2563, 'palestinians': 2564, 'unit': 2565, 'chain': 2566, 'earnings': 2567, 'regions': 2568, 'matt': 2569, 'futures': 2570, 'rigging': 2571, 'actively': 2572, 'embrace': 2573, 'stuck': 2574, 'viewers': 2575, 'boston': 2576, 'phenomenon': 2577, 'naturally': 2578, 'pen': 2579, 'palestine': 2580, 'reasonable': 2581, 'buildings': 2582, 'henry': 2583, 'recession': 2584, 'deeper': 2585, 'spanish': 2586, 'naval': 2587, 'constant': 2588, 'purchase': 2589, 'schedule': 2590, 'absolute': 2591, 'kevin': 2592, 'concept': 2593, 'harvard': 2594, 'illinois': 2595, 'valley': 2596, 'currencies': 2597, 'discovery': 2598, 'cdc': 2599, 'nelson': 2600, 'scheme': 2601, 'judges': 2602, 'industries': 2603, 'ideological': 2604, 'introduced': 2605, 'nasa': 2606, 'items': 2607, 'damaging': 2608, 'guide': 2609, 'amazon': 2610, 'tremendous': 2611, 'credibility': 2612, 'dump': 2613, 'camera': 2614, 'operate': 2615, 'forever': 2616, 'greece': 2617, 'unions': 2618, 'ron': 2619, 'privacy': 2620, 'consistent': 2621, 'solid': 2622, 'dear': 2623, 'appeals': 2624, 'walking': 2625, 'epstein': 2626, 'describes': 2627, 'pool': 2628, 'hired': 2629, 'makers': 2630, 'stake': 2631, 'opinions': 2632, 'mcconnell': 2633, 'crash': 2634, 'settlement': 2635, 'witness': 2636, 'handed': 2637, 'fate': 2638, 'fallen': 2639, 'acknowledge': 2640, 'alive': 2641, 'jennifer': 2642, 'capitol': 2643, 'momentum': 2644, 'lord': 2645, 'alien': 2646, 'deployed': 2647, 'patrick': 2648, 'chamber': 2649, 'substantial': 2650, 'nafta': 2651, 'estimates': 2652, 'doctor': 2653, 'contrary': 2654, 'entitled': 2655, 'burning': 2656, 'recall': 2657, 'mills': 2658, 'teachers': 2659, 'manage': 2660, 'match': 2661, 'milk': 2662, 'joseph': 2663, 'dominated': 2664, 'aliens': 2665, 'conversations': 2666, 'copyright': 2667, 'permanent': 2668, 'consistently': 2669, 'riot': 2670, 'historically': 2671, 'waste': 2672, 'iii': 2673, 'counted': 2674, 'documentary': 2675, 'universal': 2676, 'joke': 2677, 'euro': 2678, 'overthrow': 2679, 'endless': 2680, 'mook': 2681, 'serves': 2682, 'drawn': 2683, 'disturbing': 2684, 'joining': 2685, 'inequality': 2686, 'detail': 2687, 'sky': 2688, 'ufo': 2689, 'flying': 2690, 'anxiety': 2691, 'focusing': 2692, 'restore': 2693, 'slowly': 2694, 'fixed': 2695, 'puppet': 2696, 'completed': 2697, 'episode': 2698, 'signal': 2699, 'supplies': 2700, 'harassment': 2701, 'exports': 2702, 'supposedly': 2703, 'hispanics': 2704, 'convicted': 2705, 'veritas': 2706, 'span': 2707, 'mary': 2708, 'charity': 2709, 'aim': 2710, 'unity': 2711, 'banned': 2712, 'proper': 2713, 'recognized': 2714, 'plot': 2715, 'extend': 2716, 'rarely': 2717, 'refusing': 2718, 'window': 2719, 'recovery': 2720, 'accountable': 2721, 'adds': 2722, 'arguments': 2723, 'seized': 2724, 'succeed': 2725, 'awareness': 2726, 'amy': 2727, 'definition': 2728, 'bbc': 2729, 'kingdom': 2730, 'unemployment': 2731, 'morgan': 2732, 'bipartisan': 2733, 'secrets': 2734, 'loved': 2735, 'vegas': 2736, 'mine': 2737, 'subsidies': 2738, 'bombshell': 2739, 'alabama': 2740, 'ronald': 2741, 'village': 2742, 'depression': 2743, 'ayotte': 2744, 'widget': 2745, 'shocked': 2746, 'scrutiny': 2747, 'defended': 2748, 'entertainment': 2749, 'pledge': 2750, 'distance': 2751, 'bills': 2752, 'defined': 2753, 'brazil': 2754, 'threatens': 2755, 'blind': 2756, 'realized': 2757, 'guest': 2758, 'taught': 2759, 'stars': 2760, 'trends': 2761, 'objective': 2762, 'msnbc': 2763, 'checks': 2764, 'nationalist': 2765, 'rely': 2766, 'observers': 2767, 'drone': 2768, 'lied': 2769, 'steel': 2770, 'drinking': 2771, 'noticed': 2772, 'occupation': 2773, 'bridge': 2774, 'typical': 2775, 'economies': 2776, 'feelings': 2777, 'sovereignty': 2778, 'memory': 2779, 'connect': 2780, 'teneo': 2781, 'upper': 2782, 'intention': 2783, 'perfectly': 2784, 'favored': 2785, 'listed': 2786, 'gross': 2787, 'exposure': 2788, 'marc': 2789, 'institution': 2790, 'chart': 2791, 'expanded': 2792, 'recognition': 2793, 'complicated': 2794, 'constantly': 2795, 'devastating': 2796, 'describing': 2797, 'praised': 2798, 'eliminate': 2799, 'dedicated': 2800, 'prospects': 2801, 'reject': 2802, 'assembly': 2803, 'comfortable': 2804, 'centers': 2805, 'gathering': 2806, 'davis': 2807, 'donated': 2808, 'violations': 2809, 'generations': 2810, 'findings': 2811, 'closest': 2812, 'globalist': 2813, 'sharply': 2814, 'challenged': 2815, 'striking': 2816, 'atmosphere': 2817, 'lake': 2818, 'sports': 2819, 'queen': 2820, 'exclusively': 2821, 'brutal': 2822, 'communication': 2823, 'recommended': 2824, 'twenty': 2825, 'isil': 2826, 'thanksgiving': 2827, 'tweets': 2828, 'advised': 2829, 'expanding': 2830, 'endorse': 2831, 'rick': 2832, 'expects': 2833, 'legally': 2834, 'advocates': 2835, 'quoted': 2836, 'lock': 2837, 'nasty': 2838, 'degrees': 2839, 'farmers': 2840, 'venezuela': 2841, 'foot': 2842, 'football': 2843, 'reforms': 2844, 'collection': 2845, 'speculation': 2846, 'inevitable': 2847, 'forcing': 2848, 'campus': 2849, 'stability': 2850, 'inquiry': 2851, 'expose': 2852, 'asylum': 2853, 'gift': 2854, 'corner': 2855, 'orange': 2856, 'corps': 2857, 'sat': 2858, 'bitter': 2859, 'demographic': 2860, 'arkansas': 2861, 'commentary': 2862, 'leak': 2863, 'authors': 2864, 'hrc': 2865, 'alert': 2866, 'teacher': 2867, 'mnuchin': 2868, 'inauguration': 2869, 'francisco': 2870, 'ships': 2871, 'youth': 2872, 'forgotten': 2873, 'convince': 2874, 'mining': 2875, 'golf': 2876, 'blocked': 2877, 'register': 2878, 'wear': 2879, 'lands': 2880, 'crooked': 2881, 'healing': 2882, 'stream': 2883, 'breaks': 2884, 'letters': 2885, 'la': 2886, 'skills': 2887, 'vermont': 2888, 'oversight': 2889, 'inspired': 2890, 'precisely': 2891, 'barely': 2892, 'eager': 2893, 'las': 2894, 'empty': 2895, 'courtesy': 2896, 'withdraw': 2897, 'falls': 2898, 'netanyahu': 2899, 'files': 2900, 'bible': 2901, 'purposes': 2902, 'publication': 2903, 'accusing': 2904, 'reducing': 2905, 'sentiment': 2906, 'enthusiasm': 2907, 'heritage': 2908, 'trained': 2909, 'hair': 2910, 'masses': 2911, 'appointment': 2912, 'holiday': 2913, 'hack': 2914, 'controls': 2915, 'games': 2916, 'civilization': 2917, 'chemicals': 2918, 'academic': 2919, 'roots': 2920, 'celebrity': 2921, 'equality': 2922, 'divide': 2923, 'bound': 2924, 'formed': 2925, 'tests': 2926, 'challenging': 2927, 'theories': 2928, 'steady': 2929, 'murdered': 2930, 'prefer': 2931, 'kurdish': 2932, 'zika': 2933, 'participation': 2934, 'tiny': 2935, 'dramatic': 2936, 'dave': 2937, 'carbon': 2938, 'loretta': 2939, 'materials': 2940, 'representing': 2941, 'urging': 2942, 'tariffs': 2943, 'bases': 2944, 'wisdom': 2945, 'jonathan': 2946, 'pope': 2947, 'fda': 2948, 'switch': 2949, 'bashar': 2950, 'ranking': 2951, 'doors': 2952, 'extensive': 2953, 'root': 2954, 'vital': 2955, 'panic': 2956, 'narrow': 2957, 'undecided': 2958, 'incredibly': 2959, 'automatically': 2960, 'ab': 2961, 'display': 2962, 'fan': 2963, 'rapid': 2964, 'contracts': 2965, 'badly': 2966, 'sugar': 2967, 'method': 2968, 'spectrum': 2969, 'demonstrated': 2970, 'animal': 2971, 'genocide': 2972, 'recommend': 2973, 'employee': 2974, 'units': 2975, 'hostile': 2976, 'signals': 2977, 'incumbent': 2978, 'properties': 2979, 'marketing': 2980, 'developments': 2981, 'violated': 2982, 'kiev': 2983, 'maintaining': 2984, 'pharmaceutical': 2985, 'plays': 2986, 'technical': 2987, 'declaring': 2988, 'award': 2989, 'unrest': 2990, 'ocean': 2991, 'disagree': 2992, 'rid': 2993, 'occur': 2994, 'prosecution': 2995, 'hole': 2996, 'neighbors': 2997, 'adults': 2998, 'hadn': 2999, 'poland': 3000, 'precious': 3001, 'imports': 3002, 'jan': 3003, 'forum': 3004, 'abandoned': 3005, 'lesser': 3006, 'auto': 3007, 'volume': 3008, 'cheap': 3009, 'select': 3010, 'nick': 3011, 'assassination': 3012, 'placement': 3013, 'influential': 3014, 'metal': 3015, 'citizenship': 3016, 'wounded': 3017, 'tested': 3018, 'imposed': 3019, 'janet': 3020, 'mortgage': 3021, 'determination': 3022, 'seeks': 3023, 'scenes': 3024, 'faster': 3025, 'shoot': 3026, 'jumped': 3027, 'maintained': 3028, 'stretch': 3029, 'monthly': 3030, 'hoped': 3031, 'outrage': 3032, 'depends': 3033, 'indictment': 3034, 'haiti': 3035, 'staffers': 3036, 'statistics': 3037, 'mere': 3038, 'taxpayers': 3039, 'chuck': 3040, 'excuse': 3041, 'producing': 3042, 'manipulation': 3043, 'raises': 3044, 'promoted': 3045, 'crew': 3046, 'formal': 3047, 'dispute': 3048, 'panel': 3049, 'sovereign': 3050, 'methods': 3051, 'features': 3052, 'backlash': 3053, 'tracking': 3054, 'revealing': 3055, 'combination': 3056, 'factory': 3057, 'medicaid': 3058, 'fish': 3059, 'operative': 3060, 'occupied': 3061, 'gathered': 3062, 'appoint': 3063, 'surrogates': 3064, 'flip': 3065, 'lowest': 3066, 'declaration': 3067, 'soil': 3068, 'phase': 3069, 'trunews': 3070, 'lobby': 3071, 'demanded': 3072, 'feature': 3073, 'houses': 3074, 'walked': 3075, 'wallace': 3076, 'smoking': 3077, 'surveys': 3078, 'admits': 3079, 'participants': 3080, 'pictures': 3081, 'privately': 3082, 'fields': 3083, 'advocate': 3084, 'ugly': 3085, 'stick': 3086, 'professionals': 3087, 'lincoln': 3088, 'van': 3089, 'carefully': 3090, 'petition': 3091, 'perceived': 3092, 'transparency': 3093, 'roll': 3094, 'affair': 3095, 'observed': 3096, 'populism': 3097, 'fascist': 3098, 'siege': 3099, 'airstrikes': 3100, 'advisor': 3101, 'roger': 3102, 'bus': 3103, 'incredible': 3104, 'brooklyn': 3105, 'applied': 3106, 'universities': 3107, 'lay': 3108, 'revolutionary': 3109, 'cop': 3110, 'mad': 3111, 'imperial': 3112, 'locations': 3113, 'aftermath': 3114, 'tight': 3115, 'missed': 3116, 'dodd': 3117, 'retirement': 3118, 'electors': 3119, 'multi': 3120, 'daesh': 3121, 'hospitals': 3122, 'stores': 3123, 'enterprise': 3124, 'mouth': 3125, 'psychological': 3126, 'mess': 3127, 'posting': 3128, 'meat': 3129, 'organizing': 3130, 'oligarchs': 3131, 'nearby': 3132, 'stayed': 3133, 'courage': 3134, 'payment': 3135, 'settled': 3136, 'governing': 3137, 'opposing': 3138, 'relative': 3139, 'documented': 3140, 'portion': 3141, 'investigated': 3142, 'fort': 3143, 'foster': 3144, 'attended': 3145, 'charlie': 3146, 'grant': 3147, 'columnist': 3148, 'justify': 3149, 'latinos': 3150, 'bed': 3151, 'minor': 3152, 'dramatically': 3153, 'managing': 3154, 'releasing': 3155, 'reopening': 3156, 'waves': 3157, 'stimulus': 3158, 'player': 3159, 'sentence': 3160, 'bubble': 3161, 'horrible': 3162, 'savings': 3163, 'mutual': 3164, 'christmas': 3165, 'thrown': 3166, 'sustainable': 3167, 'maine': 3168, 'creates': 3169, 'fees': 3170, 'unexpected': 3171, 'renewed': 3172, 'publish': 3173, 'responding': 3174, 'letting': 3175, 'excellent': 3176, 'delay': 3177, 'choosing': 3178, 'expense': 3179, 'ball': 3180, 'implications': 3181, 'interviewed': 3182, 'zones': 3183, 'federation': 3184, 'genuine': 3185, 'ranks': 3186, 'patient': 3187, 'nolan': 3188, 'admin': 3189, 'aspects': 3190, 'facilities': 3191, 'neighborhood': 3192, 'traders': 3193, 'careful': 3194, 'addressed': 3195, 'journey': 3196, 'slavery': 3197, 'holy': 3198, 'avenue': 3199, 'mistakes': 3200, 'stops': 3201, 'sarah': 3202, 'casting': 3203, 'prompted': 3204, 'unfair': 3205, 'finished': 3206, 'classes': 3207, 'exchanges': 3208, 'nightmare': 3209, 'incidents': 3210, 'scared': 3211, 'hook': 3212, 'charter': 3213, 'marks': 3214, 'diseases': 3215, 'protesting': 3216, 'declare': 3217, 'mixed': 3218, 'route': 3219, 'output': 3220, 'secretly': 3221, 'expression': 3222, 'lebanon': 3223, 'doug': 3224, 'attitude': 3225, 'defence': 3226, 'upcoming': 3227, 'regulators': 3228, 'copy': 3229, 'quiet': 3230, 'arrests': 3231, 'dialogue': 3232, 'suspected': 3233, 'indians': 3234, 'premium': 3235, 'creamer': 3236, 'cards': 3237, 'pulling': 3238, 'nancy': 3239, 'database': 3240, 'associate': 3241, 'optimistic': 3242, 'motivated': 3243, 'user': 3244, 'scientist': 3245, 'syrians': 3246, 'earthquake': 3247, 'app': 3248, 'mccaskill': 3249, 'raqqa': 3250, 'radar': 3251, 'outright': 3252, 'owns': 3253, 'corporation': 3254, 'cohen': 3255, 'credible': 3256, 'encouraging': 3257, 'flat': 3258, 'detroit': 3259, 'jump': 3260, 'merger': 3261, 'topics': 3262, 'preferred': 3263, 'complaints': 3264, 'hitting': 3265, 'securities': 3266, 'destructive': 3267, 'adam': 3268, 'technologies': 3269, 'pure': 3270, 'marco': 3271, 'rating': 3272, 'mccabe': 3273, 'populations': 3274, 'bizarre': 3275, 'cooper': 3276, 'loan': 3277, 'busy': 3278, 'comprehensive': 3279, 'hero': 3280, 'walls': 3281, 'properly': 3282, 'deemed': 3283, 'equivalent': 3284, 'staying': 3285, 'lesson': 3286, 'fleet': 3287, 'favors': 3288, 'assessment': 3289, 'resist': 3290, 'mails': 3291, 'fla': 3292, 'discrimination': 3293, 'emissions': 3294, 'diplomacy': 3295, 'stressed': 3296, 'questioning': 3297, 'italian': 3298, 'shame': 3299, 'migrant': 3300, 'laura': 3301, 'requirements': 3302, 'hey': 3303, 'cup': 3304, 'golden': 3305, 'donna': 3306, 'shirt': 3307, 'mile': 3308, 'gonna': 3309, 'invest': 3310, 'pollsters': 3311, 'song': 3312, 'iron': 3313, 'recalled': 3314, 'retail': 3315, 'subsequent': 3316, 'allied': 3317, 'listening': 3318, 'earnest': 3319, 'dad': 3320, 'organize': 3321, 'exposing': 3322, 'kellyanne': 3323, 'skeptical': 3324, 'releases': 3325, 'ny': 3326, 'testing': 3327, 'grab': 3328, 'alongside': 3329, 'pray': 3330, 'rolling': 3331, 'jon': 3332, 'possession': 3333, 'wellness': 3334, 'restaurant': 3335, 'farm': 3336, 'bay': 3337, 'deadly': 3338, 'pop': 3339, 'boys': 3340, 'guarantee': 3341, 'comparison': 3342, 'responses': 3343, 'deleted': 3344, 'writers': 3345, 'gang': 3346, 'models': 3347, 'publishing': 3348, 'loyal': 3349, 'returning': 3350, 'dreams': 3351, 'pressed': 3352, 'remarkable': 3353, 'burden': 3354, 'contacted': 3355, 'wire': 3356, 'evangelical': 3357, 'yuan': 3358, 'sue': 3359, 'reopened': 3360, 'shake': 3361, 'ellison': 3362, 'landslide': 3363, 'interference': 3364, 'fails': 3365, 'emerge': 3366, 'invested': 3367, 'overwhelmingly': 3368, 'ages': 3369, 'lifetime': 3370, 'ring': 3371, 'pardon': 3372, 'pat': 3373, 'duke': 3374, 'electricity': 3375, 'venture': 3376, 'announcing': 3377, 'favorable': 3378, 'sean': 3379, 'impeachment': 3380, 'troubling': 3381, 'bigotry': 3382, 'collar': 3383, 'uranium': 3384, 'guidelines': 3385, 'magic': 3386, 'cook': 3387, 'hong': 3388, 'le': 3389, 'transportation': 3390, 'editors': 3391, 'roles': 3392, 'founding': 3393, 'finger': 3394, 'wondering': 3395, 'towns': 3396, 'lewd': 3397, 'considerable': 3398, 'geopolitical': 3399, 'kenya': 3400, 'teams': 3401, 'substance': 3402, 'assured': 3403, 'signature': 3404, 'threaten': 3405, 'billy': 3406, 'planes': 3407, 'damaged': 3408, 'roberts': 3409, 'spy': 3410, 'visiting': 3411, 'condemned': 3412, 'timing': 3413, 'complaint': 3414, 'managers': 3415, 'underground': 3416, 'adams': 3417, 'campaigned': 3418, 'fueled': 3419, 'insurers': 3420, 'desperately': 3421, 'capture': 3422, 'afghan': 3423, 'stating': 3424, 'engaging': 3425, 'solve': 3426, 'generated': 3427, 'driver': 3428, 'summit': 3429, 'stable': 3430, 'saudis': 3431, 'nationalism': 3432, 'accountability': 3433, 'frankly': 3434, 'francis': 3435, 'watergate': 3436, 'dapl': 3437, 'sheeple': 3438, 'holdings': 3439, 'donation': 3440, 'graduate': 3441, 'counts': 3442, 'trigger': 3443, 'overnight': 3444, 'neutral': 3445, 'capitalist': 3446, 'praise': 3447, 'objects': 3448, 'explaining': 3449, 'symbol': 3450, 'pursuing': 3451, 'fortune': 3452, 'craig': 3453, 'homeless': 3454, 'blaming': 3455, 'funny': 3456, 'struggles': 3457, 'reflects': 3458, 'websites': 3459, 'consumption': 3460, 'exercises': 3461, 'calif': 3462, 'partly': 3463, 'viral': 3464, 'injuries': 3465, 'newspapers': 3466, 'thin': 3467, 'employed': 3468, 'intends': 3469, 'bunch': 3470, 'wildlife': 3471, 'apologize': 3472, 'unacceptable': 3473, 'blunt': 3474, 'refuge': 3475, 'logic': 3476, 'va': 3477, 'visible': 3478, 'slave': 3479, 'flowers': 3480, 'belt': 3481, 'drink': 3482, 'tenure': 3483, 'addressing': 3484, 'theme': 3485, 'personality': 3486, 'calm': 3487, 'raw': 3488, 'saved': 3489, 'drawing': 3490, 'warm': 3491, 'hussein': 3492, 'generate': 3493, 'complained': 3494, 'painful': 3495, 'centuries': 3496, 'proves': 3497, 'smoke': 3498, 'portfolio': 3499, 'instagram': 3500, 'refer': 3501, 'emphasized': 3502, 'struggled': 3503, 'wood': 3504, 'pundits': 3505, 'papers': 3506, 'implement': 3507, 'celebrate': 3508, 'cool': 3509, 'frequent': 3510, 'resolve': 3511, 'prisoners': 3512, 'artificial': 3513, 'alcohol': 3514, 'traditionally': 3515, 'hire': 3516, 'hiring': 3517, 'royal': 3518, 'involves': 3519, 'bag': 3520, 'reviewed': 3521, 'surfaced': 3522, 'beauty': 3523, 'catch': 3524, 'adult': 3525, 'jet': 3526, 'dependent': 3527, 'sudden': 3528, 'inform': 3529, 'volatility': 3530, 'consideration': 3531, 'predict': 3532, 'surrounded': 3533, 'reserved': 3534, 'joy': 3535, 'stepped': 3536, 'depending': 3537, 'sunni': 3538, 'assess': 3539, 'hopeful': 3540, 'accepting': 3541, 'wolf': 3542, 'grounds': 3543, 'babies': 3544, 'legitimacy': 3545, 'tour': 3546, 'province': 3547, 'nytopinion': 3548, 'harsh': 3549, 'strategies': 3550, 'mom': 3551, 'beating': 3552, 'kong': 3553, 'penalty': 3554, 'believing': 3555, 'cry': 3556, 'removal': 3557, 'odd': 3558, 'acid': 3559, 'parenthood': 3560, 'ignoring': 3561, 'improving': 3562, 'shifted': 3563, 'rebuild': 3564, 'advocacy': 3565, 'electric': 3566, 'disclose': 3567, 'shots': 3568, 'correction': 3569, 'counting': 3570, 'reince': 3571, 'mood': 3572, 'stakes': 3573, 'strengthen': 3574, 'argues': 3575, 'port': 3576, 'appointments': 3577, 'suspicious': 3578, 'firing': 3579, 'occupy': 3580, 'trending': 3581, 'cheney': 3582, 'mercury': 3583, 'frequency': 3584, 'reelection': 3585, 'maryland': 3586, 'forecast': 3587, 'dangers': 3588, 'formally': 3589, 'fighter': 3590, 'sweden': 3591, 'khan': 3592, 'assuming': 3593, 'engineering': 3594, 'conscious': 3595, 'hamilton': 3596, 'soldier': 3597, 'imperialism': 3598, 'sight': 3599, 'fault': 3600, 'injured': 3601, 'aspect': 3602, 'disastrous': 3603, 'obligation': 3604, 'harris': 3605, 'consultant': 3606, 'minded': 3607, 'contributing': 3608, 'rudy': 3609, 'actors': 3610, 'yen': 3611, 'pact': 3612, 'emotions': 3613, 'risen': 3614, 'neocon': 3615, 'quietly': 3616, 'temporary': 3617, 'entity': 3618, 'observer': 3619, 'parent': 3620, 'volunteers': 3621, 'client': 3622, 'witnessed': 3623, 'intimidation': 3624, 'militarized': 3625, 'ridiculous': 3626, 'hurricane': 3627, 'symptoms': 3628, 'pa': 3629, 'refusal': 3630, 'contribute': 3631, 'pot': 3632, 'experiences': 3633, 'household': 3634, 'highlighted': 3635, 'violate': 3636, 'clip': 3637, 'zionist': 3638, 'fundraiser': 3639, 'rush': 3640, 'bruce': 3641, 'hosted': 3642, 'avoided': 3643, 'confirmation': 3644, 'repeat': 3645, 'onion': 3646, 'lessons': 3647, 'taxpayer': 3648, 'perform': 3649, 'highway': 3650, 'rear': 3651, 'irs': 3652, 'demonstrate': 3653, 'jimmy': 3654, 'landscape': 3655, 'waking': 3656, 'strongest': 3657, 'cap': 3658, 'poised': 3659, 'quotes': 3660, 'tags': 3661, 'immune': 3662, 'mcmullin': 3663, 'emphasis': 3664, 'bright': 3665, 'suburban': 3666, 'temple': 3667, 'ride': 3668, 'deployment': 3669, 'achieved': 3670, 'patterns': 3671, 'households': 3672, 'trusted': 3673, 'attorneys': 3674, 'monitor': 3675, 'distribution': 3676, 'breast': 3677, 'snowden': 3678, 'gaddafi': 3679, 'inappropriate': 3680, 'brussels': 3681, 'controlling': 3682, 'toll': 3683, 'dressed': 3684, 'compromise': 3685, 'selected': 3686, 'hits': 3687, 'leverage': 3688, 'shifting': 3689, 'perception': 3690, 'prosperity': 3691, 'depend': 3692, 'countless': 3693, 'aggressively': 3694, 'uncovered': 3695, 'globalists': 3696, 'standoff': 3697, 'assumed': 3698, 'globalism': 3699, 'phones': 3700, 'swamp': 3701, 'margins': 3702, 'explosive': 3703, 'rob': 3704, 'susan': 3705, 'peso': 3706, 'popularity': 3707, 'militia': 3708, 'respected': 3709, 'rig': 3710, 'roads': 3711, 'warns': 3712, 'hatch': 3713, 'aligned': 3714, 'info': 3715, 'halt': 3716, 'jeffrey': 3717, 'advances': 3718, 'declining': 3719, 'garden': 3720, 'dying': 3721, 'roman': 3722, 'neck': 3723, 'quit': 3724, 'rank': 3725, 'virus': 3726, 'jungle': 3727, 'shit': 3728, 'modest': 3729, 'wonderful': 3730, 'thirds': 3731, 'researcher': 3732, 'exception': 3733, 'entities': 3734, 'sets': 3735, 'spreading': 3736, 'wise': 3737, 'lists': 3738, 'waters': 3739, 'locked': 3740, 'nonprofit': 3741, 'improved': 3742, 'addresses': 3743, 'groping': 3744, 'revolt': 3745, 'maximum': 3746, 'nobel': 3747, 'preventing': 3748, 'traveling': 3749, 'soft': 3750, 'decent': 3751, 'takeover': 3752, 'engagement': 3753, 'greatly': 3754, 'el': 3755, 'toomey': 3756, 'contribution': 3757, 'divisive': 3758, 'advisory': 3759, 'rumors': 3760, 'tie': 3761, 'everyday': 3762, 'preserve': 3763, 'bloc': 3764, 'christianity': 3765, 'deportation': 3766, 'monitoring': 3767, 'proxy': 3768, 'leftist': 3769, 'bloody': 3770, 'infamous': 3771, 'examine': 3772, 'daughters': 3773, 'dallas': 3774, 'hoax': 3775, 'removing': 3776, 'mogul': 3777, 'tyranny': 3778, 'deliberately': 3779, 'justin': 3780, 'overhaul': 3781, 'filing': 3782, 'crowds': 3783, 'authoritarian': 3784, 'privilege': 3785, 'underway': 3786, 'acceptable': 3787, 'thiel': 3788, 'rescue': 3789, 'reserves': 3790, 'palmieri': 3791, 'spokesperson': 3792, 'submit': 3793, 'locker': 3794, 'expenses': 3795, 'truck': 3796, 'dean': 3797, 'gaining': 3798, 'dynamic': 3799, 'masters': 3800, 'mandatory': 3801, 'predictions': 3802, 'assist': 3803, 'finish': 3804, 'painted': 3805, 'celebrities': 3806, 'surprisingly': 3807, 'provisions': 3808, 'resort': 3809, 'silicon': 3810, 'conclusions': 3811, 'confusion': 3812, 'walsh': 3813, 'nervous': 3814, 'greek': 3815, 'disappointed': 3816, 'involve': 3817, 'dec': 3818, 'frustration': 3819, 'lights': 3820, 'apology': 3821, 'reminded': 3822, 'correctly': 3823, 'flood': 3824, 'discover': 3825, 'initiatives': 3826, 'barrel': 3827, 'fame': 3828, 'nypd': 3829, 'ims': 3830, 'framework': 3831, 'exciting': 3832, 'ease': 3833, 'replacement': 3834, 'selection': 3835, 'spray': 3836, 'qualified': 3837, 'divisions': 3838, 'zuckerberg': 3839, 'punishment': 3840, 'reset': 3841, 'uncle': 3842, 'plain': 3843, 'requested': 3844, 'sufficient': 3845, 'justices': 3846, 'mystery': 3847, 'heck': 3848, 'kid': 3849, 'tear': 3850, 'heaven': 3851, 'fascism': 3852, 'infowarsstore': 3853, 'tzrwu': 3854, 'palm': 3855, 'austin': 3856, 'columbia': 3857, 'hannity': 3858, 'reviewing': 3859, 'answered': 3860, 'pregnant': 3861, 'mysterious': 3862, 'passage': 3863, 'hemisphere': 3864, 'neocons': 3865, 'seeds': 3866, 'accident': 3867, 'dominance': 3868, 'clothes': 3869, 'longstanding': 3870, 'acted': 3871, 'raped': 3872, 'mexicans': 3873, 'drones': 3874, 'sadly': 3875, 'consequence': 3876, 'jordan': 3877, 'application': 3878, 'australian': 3879, 'insults': 3880, 'overcome': 3881, 'quoting': 3882, 'download': 3883, 'dry': 3884, 'millennials': 3885, 'nominated': 3886, 'criticizing': 3887, 'hiding': 3888, 'conducting': 3889, 'agriculture': 3890, 'defensive': 3891, 'kansas': 3892, 'classic': 3893, 'amnesty': 3894, 'hacks': 3895, 'absentee': 3896, 'howard': 3897, 'evan': 3898, 'prayer': 3899, 'liberation': 3900, 'doubts': 3901, 'synopsis': 3902, 'notable': 3903, 'earn': 3904, 'grave': 3905, 'migration': 3906, 'notably': 3907, 'posed': 3908, 'reduction': 3909, 'evident': 3910, 'teach': 3911, 'treason': 3912, 'radiation': 3913, 'charitable': 3914, 'procedures': 3915, 'rivals': 3916, 'lawsuits': 3917, 'grabbing': 3918, 'collusion': 3919, 'sexist': 3920, 'intentions': 3921, 'chapter': 3922, 'subjects': 3923, 'fossil': 3924, 'misleading': 3925, 'arctic': 3926, 'ignorant': 3927, 'deserves': 3928, 'kyle': 3929, 'shipping': 3930, 'clock': 3931, 'customer': 3932, 'abandon': 3933, 'contractors': 3934, 'cleared': 3935, 'pretend': 3936, 'pressing': 3937, 'independents': 3938, 'grid': 3939, 'insane': 3940, 'additionally': 3941, 'snip': 3942, 'backers': 3943, 'katie': 3944, 'sam': 3945, 'treating': 3946, 'deutsche': 3947, 'clark': 3948, 'jihadists': 3949, 'lgbt': 3950, 'commons': 3951, 'disclosed': 3952, 'judiciary': 3953, 'prince': 3954, 'paint': 3955, 'spain': 3956, 'lift': 3957, 'reader': 3958, 'newt': 3959, 'denial': 3960, 'sister': 3961, 'motion': 3962, 'rice': 3963, 'pertinent': 3964, 'appointees': 3965, 'christopher': 3966, 'economically': 3967, 'broadly': 3968, 'principal': 3969, 'confront': 3970, 'throwing': 3971, 'suppression': 3972, 'participating': 3973, 'jew': 3974, 'wider': 3975, 'frustrated': 3976, 'horse': 3977, 'horror': 3978, 'copper': 3979, 'mount': 3980, 'gaza': 3981, 'tanden': 3982, 'fuck': 3983, 'spin': 3984, 'expressing': 3985, 'transgender': 3986, 'feared': 3987, 'reliable': 3988, 'export': 3989, 'phoenix': 3990, 'accuse': 3991, 'evangelicals': 3992, 'academy': 3993, 'evolution': 3994, 'philosophy': 3995, 'enforce': 3996, 'remind': 3997, 'searching': 3998, 'con': 3999, 'censorship': 4000, 'eurozone': 4001, 'cheryl': 4002, 'hang': 4003, 'assaulted': 4004, 'array': 4005, 'modi': 4006, 'champion': 4007, 'furious': 4008, 'studied': 4009, 'honestly': 4010, 'importantly': 4011, 'denying': 4012, 'cloud': 4013, 'beaten': 4014, 'harmful': 4015, 'shop': 4016, 'troubled': 4017, 'govern': 4018, 'approve': 4019, 'dress': 4020, 'anderson': 4021, 'library': 4022, 'replacing': 4023, 'europeans': 4024, 'roosevelt': 4025, 'pollster': 4026, 'situations': 4027, 'peak': 4028, 'souls': 4029, 'weakness': 4030, 'larry': 4031, 'physically': 4032, 'sullivan': 4033, 'oath': 4034, 'delivery': 4035, 'scare': 4036, 'warn': 4037, 'concrete': 4038, 'commissioner': 4039, 'benefited': 4040, 'strip': 4041, 'uncertain': 4042, 'ignorance': 4043, 'coordinated': 4044, 'nazis': 4045, 'refuses': 4046, 'intend': 4047, 'pew': 4048, 'cameras': 4049, 'lifestyle': 4050, 'willingness': 4051, 'confused': 4052, 'occasions': 4053, 'chronic': 4054, 'irish': 4055, 'elderly': 4056, 'saving': 4057, 'collected': 4058, 'proposes': 4059, 'nationally': 4060, 'liberties': 4061, 'capabilities': 4062, 'deplorables': 4063, 'riots': 4064, 'covert': 4065, 'ironically': 4066, 'launching': 4067, 'wmw': 4068, 'package': 4069, 'unconstitutional': 4070, 'simon': 4071, 'theft': 4072, 'eve': 4073, 'possibilities': 4074, 'channels': 4075, 'berlin': 4076, 'continent': 4077, 'megyn': 4078, 'understands': 4079, 'firearms': 4080, 'drill': 4081, 'rubber': 4082, 'loves': 4083, 'requiring': 4084, 'patriot': 4085, 'dropping': 4086, 'suburbs': 4087, 'cancel': 4088, 'patrol': 4089, 'hearings': 4090, 'embargo': 4091, 'mode': 4092, 'structures': 4093, 'wrongdoing': 4094, 'mccarthy': 4095, 'obstruction': 4096, 'cents': 4097, 'carol': 4098, 'tribal': 4099, 'cite': 4100, 'tears': 4101, 'transcript': 4102, 'estranged': 4103, 'centre': 4104, 'educational': 4105, 'attracted': 4106, 'immunity': 4107, 'hearts': 4108, 'outcomes': 4109, 'ammunition': 4110, 'loose': 4111, 'casualties': 4112, 'length': 4113, 'sum': 4114, 'rogue': 4115, 'helpful': 4116, 'invite': 4117, 'publications': 4118, 'crises': 4119, 'routinely': 4120, 'alexander': 4121, 'jeb': 4122, 'impression': 4123, 'israelis': 4124, 'precincts': 4125, 'satellite': 4126, 'contributor': 4127, 'apartment': 4128, 'precedent': 4129, 'description': 4130, 'meaningful': 4131, 'dominate': 4132, 'projected': 4133, 'biased': 4134, 'brave': 4135, 'lobbyist': 4136, 'stations': 4137, 'msm': 4138, 'autism': 4139, 'button': 4140, 'investing': 4141, 'excited': 4142, 'benjamin': 4143, 'dealings': 4144, 'considers': 4145, 'neighborhoods': 4146, 'tree': 4147, 'facility': 4148, 'governance': 4149, 'dignity': 4150, 'cubs': 4151, 'expecting': 4152, 'extremist': 4153, 'correspondent': 4154, 'profound': 4155, 'verdict': 4156, 'spam': 4157, 'imf': 4158, 'cooperate': 4159, 'occurring': 4160, 'breath': 4161, 'communism': 4162, 'reminder': 4163, 'alternatives': 4164, 'critic': 4165, 'experiment': 4166, 'mediterranean': 4167, 'rage': 4168, 'vicious': 4169, 'instances': 4170, 'superior': 4171, 'alike': 4172, 'abuses': 4173, 'pharma': 4174, 'kurds': 4175, 'approached': 4176, 'loud': 4177, 'stopping': 4178, 'embraced': 4179, 'optimism': 4180, 'concentration': 4181, 'lasting': 4182, 'indication': 4183, 'estimate': 4184, 'switched': 4185, 'baltic': 4186, 'practical': 4187, 'proceed': 4188, 'aaron': 4189, 'significance': 4190, 'myth': 4191, 'burr': 4192, 'manipulated': 4193, 'jets': 4194, 'pilger': 4195, 'hat': 4196, 'outsider': 4197, 'settle': 4198, 'techniques': 4199, 'freely': 4200, 'childhood': 4201, 'loyalty': 4202, 'traveled': 4203, 'ray': 4204, 'reflected': 4205, 'resource': 4206, 'nonsense': 4207, 'duck': 4208, 'fled': 4209, 'proving': 4210, 'pair': 4211, 'commodity': 4212, 'sputnik': 4213, 'ceta': 4214, 'phony': 4215, 'gear': 4216, 'yorkers': 4217, 'lieutenant': 4218, 'pocket': 4219, 'deciding': 4220, 'insight': 4221, 'depth': 4222, 'trillions': 4223, 'external': 4224, 'employers': 4225, 'performed': 4226, 'translated': 4227, 'sorts': 4228, 'secrecy': 4229, 'dictator': 4230, 'ru': 4231, 'sake': 4232, 'outreach': 4233, 'fallout': 4234, 'references': 4235, 'respondents': 4236, 'governors': 4237, 'unpopular': 4238, 'computers': 4239, 'appearing': 4240, 'hostility': 4241, 'resign': 4242, 'domain': 4243, 'margaret': 4244, 'solidarity': 4245, 'alaska': 4246, 'jake': 4247, 'realities': 4248, 'arrive': 4249, 'telephone': 4250, 'ranging': 4251, 'committing': 4252, 'discourse': 4253, 'cultures': 4254, 'punish': 4255, 'islands': 4256, 'segment': 4257, 'fiction': 4258, 'graham': 4259, 'absence': 4260, 'rome': 4261, 'failures': 4262, 'colonial': 4263, 'ass': 4264, 'operates': 4265, 'bone': 4266, 'garner': 4267, 'saddam': 4268, 'scope': 4269, 'grade': 4270, 'subsequently': 4271, 'producer': 4272, 'concert': 4273, 'valuable': 4274, 'bragging': 4275, 'underlying': 4276, 'resigned': 4277, 'partial': 4278, 'successor': 4279, 'guidance': 4280, 'en': 4281, 'picking': 4282, 'kissinger': 4283, 'churches': 4284, 'em': 4285, 'manufacturers': 4286, 'committees': 4287, 'reno': 4288, 'cruise': 4289, 'whistleblower': 4290, 'checked': 4291, 'offshore': 4292, 'tension': 4293, 'tightening': 4294, 'sophisticated': 4295, 'trick': 4296, 'featuring': 4297, 'brent': 4298, 'bull': 4299, 'ecuador': 4300, 'damascus': 4301, 'shopping': 4302, 'drain': 4303, 'disrupt': 4304, 'associates': 4305, 'sweeping': 4306, 'ownership': 4307, 'embarrassing': 4308, 'pose': 4309, 'appearances': 4310, 'sworn': 4311, 'canceled': 4312, 'simultaneously': 4313, 'governmental': 4314, 'submitted': 4315, 'societies': 4316, 'alter': 4317, 'actor': 4318, 'parallel': 4319, 'flint': 4320, 'resignation': 4321, 'misconduct': 4322, 'sample': 4323, 'orlando': 4324, 'cooking': 4325, 'flu': 4326, 'initiated': 4327, 'flickr': 4328, 'beneficial': 4329, 'billionaires': 4330, 'worries': 4331, 'witnesses': 4332, 'dumb': 4333, 'apprentice': 4334, 'arrangement': 4335, 'sweet': 4336, 'holocaust': 4337, 'fleeing': 4338, 'belonging': 4339, 'deficits': 4340, 'seattle': 4341, 'blocking': 4342, 'secular': 4343, 'stevens': 4344, 'labeled': 4345, 'rebecca': 4346, 'circles': 4347, 'commented': 4348, 'rocket': 4349, 'regimes': 4350, 'servers': 4351, 'deport': 4352, 'compete': 4353, 'introduce': 4354, 'enjoyed': 4355, 'magnitude': 4356, 'tons': 4357, 'doctrine': 4358, 'bilateral': 4359, 'scenarios': 4360, 'injury': 4361, 'deception': 4362, 'nose': 4363, 'shifts': 4364, 'outraged': 4365, 'warnings': 4366, 'adopt': 4367, 'catastrophic': 4368, 'pepper': 4369, 'catholics': 4370, 'tribune': 4371, 'quantum': 4372, 'beer': 4373, 'oppression': 4374, 'approaches': 4375, 'disgusting': 4376, 'concede': 4377, 'chase': 4378, 'producers': 4379, 'parliamentary': 4380, 'gradually': 4381, 'suspended': 4382, 'fires': 4383, 'transport': 4384, 'implemented': 4385, 'chambers': 4386, 'martial': 4387, 'payer': 4388, 'pollution': 4389, 'eligible': 4390, 'pending': 4391, 'resident': 4392, 'clothing': 4393, 'financing': 4394, 'firmly': 4395, 'benchmark': 4396, 'mars': 4397, 'shield': 4398, 'calais': 4399, 'volunteer': 4400, 'stewart': 4401, 'storage': 4402, 'sectors': 4403, 'attractive': 4404, 'defendants': 4405, 'militant': 4406, 'salt': 4407, 'pledges': 4408, 'maker': 4409, 'alan': 4410, 'refers': 4411, 'prohibited': 4412, 'kicked': 4413, 'label': 4414, 'communicate': 4415, 'mitch': 4416, 'ireland': 4417, 'norway': 4418, 'loving': 4419, 'beast': 4420, 'mountain': 4421, 'hassan': 4422, 'aims': 4423, 'contempt': 4424, 'ferguson': 4425, 'thompson': 4426, 'bayh': 4427, 'trees': 4428, 'heal': 4429, 'litigation': 4430, 'outlet': 4431, 'emailed': 4432, 'kick': 4433, 'hypocrisy': 4434, 'accompanied': 4435, 'giants': 4436, 'mechanism': 4437, 'persons': 4438, 'mcauliffe': 4439, 'sic': 4440, 'bankruptcy': 4441, 'jared': 4442, 'sends': 4443, 'ambitions': 4444, 'pursuit': 4445, 'vague': 4446, 'avoiding': 4447, 'drove': 4448, 'utterly': 4449, 'departure': 4450, 'preparation': 4451, 'implementation': 4452, 'reservation': 4453, 'conviction': 4454, 'cares': 4455, 'baker': 4456, 'cannon': 4457, 'ph': 4458, 'gather': 4459, 'crying': 4460, 'navigation': 4461, 'witch': 4462, 'matrix': 4463, 'guests': 4464, 'accomplished': 4465, 'suggestion': 4466, 'sacrifice': 4467, 'category': 4468, 'barriers': 4469, 'diabetes': 4470, 'burned': 4471, 'kasich': 4472, 'accord': 4473, 'disorder': 4474, 'departments': 4475, 'unfit': 4476, 'scary': 4477, 'threw': 4478, 'insult': 4479, 'vatican': 4480, 'isaac': 4481, 'thrush': 4482, 'kuznetsov': 4483, 'exposes': 4484, 'helmets': 4485, 'urge': 4486, 'negotiate': 4487, 'violating': 4488, 'insist': 4489, 'explicit': 4490, 'ethical': 4491, 'anchor': 4492, 'encounter': 4493, 'rational': 4494, 'accomplish': 4495, 'row': 4496, 'traded': 4497, 'moderator': 4498, 'franklin': 4499, 'testified': 4500, 'efficient': 4501, 'foundations': 4502, 'element': 4503, 'damn': 4504, 'codes': 4505, 'succeeded': 4506, 'crack': 4507, 'nutrition': 4508, 'engineers': 4509, 'batch': 4510, 'essence': 4511, 'doubled': 4512, 'frame': 4513, 'platforms': 4514, 'collect': 4515, 'shaped': 4516, 'slogan': 4517, 'trash': 4518, 'stark': 4519, 'nonpartisan': 4520, 'notorious': 4521, 'illusion': 4522, 'malaysia': 4523, 'dominant': 4524, 'jefferson': 4525, 'rushed': 4526, 'greg': 4527, 'custody': 4528, 'birthday': 4529, 'contra': 4530, 'commodities': 4531, 'opec': 4532, 'fucking': 4533, 'plastic': 4534, 'visits': 4535, 'practically': 4536, 'interior': 4537, 'persuade': 4538, 'miracle': 4539, 'scores': 4540, 'define': 4541, 'commenting': 4542, 'virtual': 4543, 'portland': 4544, 'fairness': 4545, 'intelligent': 4546, 'analyses': 4547, 'hamas': 4548, 'nfl': 4549, 'sons': 4550, 'chancellor': 4551, 'checking': 4552, 'reluctant': 4553, 'influenced': 4554, 'legislature': 4555, 'fundamentally': 4556, 'surveyed': 4557, 'experiencing': 4558, 'dissent': 4559, 'absurd': 4560, 'felony': 4561, 'pivot': 4562, 'advertisers': 4563, 'hysteria': 4564, 'horizon': 4565, 'blocks': 4566, 'measured': 4567, 'banker': 4568, 'quarters': 4569, 'explicitly': 4570, 'allen': 4571, 'electing': 4572, 'placing': 4573, 'uprising': 4574, 'contentious': 4575, 'keefe': 4576, 'paradigm': 4577, 'hypothesis': 4578, 'taliban': 4579, 'conservatism': 4580, 'tapped': 4581, 'likelihood': 4582, 'innovation': 4583, 'llc': 4584, 'guards': 4585, 'laugh': 4586, 'fierce': 4587, 'robust': 4588, 'challenger': 4589, 'fargo': 4590, 'triggered': 4591, 'liberalism': 4592, 'ensuring': 4593, 'random': 4594, 'acceptance': 4595, 'executed': 4596, 'excessive': 4597, 'alliances': 4598, 'arabs': 4599, 'systemic': 4600, 'ingredients': 4601, 'bolton': 4602, 'mounting': 4603, 'sooner': 4604, 'illuminati': 4605, 'rent': 4606, 'lucky': 4607, 'artist': 4608, 'statewide': 4609, 'receives': 4610, 'alarm': 4611, 'arthur': 4612, 'processes': 4613, 'agricultural': 4614, 'react': 4615, 'score': 4616, 'functions': 4617, 'wishes': 4618, 'keith': 4619, 'transform': 4620, 'chaffetz': 4621, 'hanging': 4622, 'apologized': 4623, 'sits': 4624, 'hosts': 4625, 'decides': 4626, 'temporarily': 4627, 'assaulting': 4628, 'prediction': 4629, 'pride': 4630, 'reversed': 4631, 'dennis': 4632, 'regret': 4633, 'bureaucracy': 4634, 'beneath': 4635, 'generals': 4636, 'bare': 4637, 'engineered': 4638, 'nate': 4639, 'undoubtedly': 4640, 'weird': 4641, 'divine': 4642, 'attribution': 4643, 'developer': 4644, 'comfort': 4645, 'visa': 4646, 'flags': 4647, 'settlements': 4648, 'swift': 4649, 'asserted': 4650, 'separation': 4651, 'pays': 4652, 'spite': 4653, 'recovered': 4654, 'morocco': 4655, 'productive': 4656, 'unrelated': 4657, 'outrageous': 4658, 'stealing': 4659, 'fracking': 4660, 'baseball': 4661, 'uncomfortable': 4662, 'deadline': 4663, 'tesla': 4664, 'clinical': 4665, 'xi': 4666, 'monica': 4667, 'monopoly': 4668, 'competing': 4669, 'disputed': 4670, 'kenneth': 4671, 'signaled': 4672, 'semitic': 4673, 'majorities': 4674, 'insulting': 4675, 'deplorable': 4676, 'teaching': 4677, 'jihadist': 4678, 'chairwoman': 4679, 'cease': 4680, 'interpretation': 4681, 'liar': 4682, 'attract': 4683, 'anxious': 4684, 'skepticism': 4685, 'conclude': 4686, 'delivering': 4687, 'brotherhood': 4688, 'patriotic': 4689, 'tolerance': 4690, 'sudan': 4691, 'carney': 4692, 'epa': 4693, 'chomsky': 4694, 'excerpts': 4695, 'transformation': 4696, 'casino': 4697, 'irrelevant': 4698, 'comply': 4699, 'examined': 4700, 'invisible': 4701, 'clarity': 4702, 'script': 4703, 'origin': 4704, 'orthodox': 4705, 'permit': 4706, 'tribes': 4707, 'tehran': 4708, 'laying': 4709, 'defeating': 4710, 'sexism': 4711, 'guaranteed': 4712, 'outlined': 4713, 'trafficking': 4714, 'mosque': 4715, 'suspects': 4716, 'lt': 4717, 'prosecuted': 4718, 'ballistic': 4719, 'extraterrestrial': 4720, 'extension': 4721, 'mirror': 4722, 'math': 4723, 'permitted': 4724, 'certified': 4725, 'accounting': 4726, 'inevitably': 4727, 'eddie': 4728, 'patriots': 4729, 'anna': 4730, 'wilson': 4731, 'offset': 4732, 'turmoil': 4733, 'inbox': 4734, 'victories': 4735, 'enacted': 4736, 'glad': 4737, 'basket': 4738, 'advisors': 4739, 'spots': 4740, 'glenn': 4741, 'decisive': 4742, 'explosion': 4743, 'ag': 4744, 'saker': 4745, 'oklahoma': 4746, 'trumps': 4747, 'attending': 4748, 'wondered': 4749, 'coffee': 4750, 'publisher': 4751, 'meets': 4752, 'holes': 4753, 'isolated': 4754, 'alarming': 4755, 'todd': 4756, 'performing': 4757, 'trucks': 4758, 'intervene': 4759, 'strengthening': 4760, 'commonly': 4761, 'birds': 4762, 'monsanto': 4763, 'pitch': 4764, 'battles': 4765, 'diplomats': 4766, 'confidential': 4767, 'provision': 4768, 'swept': 4769, 'ceremony': 4770, 'altogether': 4771, 'taste': 4772, 'brilliant': 4773, 'mothers': 4774, 'shootings': 4775, 'neoliberal': 4776, 'allegiance': 4777, 'compare': 4778, 'laughing': 4779, 'weaker': 4780, 'bonuses': 4781, 'foreigners': 4782, 'rifle': 4783, 'southeast': 4784, 'credits': 4785, 'territories': 4786, 'attributed': 4787, 'covers': 4788, 'reactions': 4789, 'administrations': 4790, 'rejection': 4791, 'surrogate': 4792, 'russ': 4793, 'genius': 4794, 'pound': 4795, 'blasted': 4796, 'kirby': 4797, 'drama': 4798, 'socialism': 4799, 'justified': 4800, 'flawed': 4801, 'wow': 4802, 'ideal': 4803, 'relation': 4804, 'naked': 4805, 'magnesium': 4806, 'questionable': 4807, 'costly': 4808, 'theater': 4809, 'staggering': 4810, 'sustained': 4811, 'films': 4812, 'illegals': 4813, 'singer': 4814, 'meme': 4815, 'criticize': 4816, 'sir': 4817, 'injustice': 4818, 'procedure': 4819, 'unesco': 4820, 'ufos': 4821, 'abe': 4822, 'celebrating': 4823, 'rolls': 4824, 'survived': 4825, 'bears': 4826, 'noise': 4827, 'prosecute': 4828, 'historian': 4829, 'temperament': 4830, 'betting': 4831, 'relied': 4832, 'revenge': 4833, 'urgent': 4834, 'killer': 4835, 'hayden': 4836, 'indicted': 4837, 'bets': 4838, 'pension': 4839, 'compromised': 4840, 'affiliated': 4841, 'guilt': 4842, 'kander': 4843, 'admission': 4844, 'dishonest': 4845, 'applause': 4846, 'difficulty': 4847, 'unleashed': 4848, 'vocal': 4849, 'kentucky': 4850, 'cent': 4851, 'severely': 4852, 'integration': 4853, 'rampant': 4854, 'acquired': 4855, 'damning': 4856, 'pilot': 4857, 'colin': 4858, 'globally': 4859, 'undercover': 4860, 'pravda': 4861, 'ethiopia': 4862, 'monster': 4863, 'upshot': 4864, 'founders': 4865, 'santa': 4866, 'netherlands': 4867, 'correctness': 4868, 'reflection': 4869, 'buried': 4870, 'falsely': 4871, 'instructions': 4872, 'fallon': 4873, 'sued': 4874, 'carson': 4875, 'famously': 4876, 'gabriel': 4877, 'existed': 4878, 'rapists': 4879, 'gates': 4880, 'supremacy': 4881, 'catastrophe': 4882, 'rallied': 4883, 'nationalists': 4884, 'fuels': 4885, 'ceiling': 4886, 'logical': 4887, 'interventions': 4888, 'seize': 4889, 'chiefs': 4890, 'solely': 4891, 'prescription': 4892, 'bin': 4893, 'pregnancy': 4894, 'advocated': 4895, 'burns': 4896, 'relentless': 4897, 'idiot': 4898, 'dictatorship': 4899, 'dose': 4900, 'syndrome': 4901, 'crops': 4902, 'bars': 4903, 'excess': 4904, 'compliance': 4905, 'luck': 4906, 'fights': 4907, 'aged': 4908, 'caution': 4909, 'treaties': 4910, 'maintains': 4911, 'membership': 4912, 'incomes': 4913, 'midst': 4914, 'commitments': 4915, 'fascinating': 4916, 'banning': 4917, 'mishandling': 4918, 'heather': 4919, 'tragedy': 4920, 'fathers': 4921, 'transparent': 4922, 'cult': 4923, 'ceasefire': 4924, 'italic': 4925, 'antonio': 4926, 'grants': 4927, 'liability': 4928, 'introduction': 4929, 'crossed': 4930, 'duties': 4931, 'devoted': 4932, 'anniversary': 4933, 'drivers': 4934, 'colleague': 4935, 'assumption': 4936, 'factories': 4937, 'islamist': 4938, 'pockets': 4939, 'egyptian': 4940, 'blames': 4941, 'shaken': 4942, 'unnecessary': 4943, 'arrival': 4944, 'debbie': 4945, 'juice': 4946, 'embedded': 4947, 'unite': 4948, 'belong': 4949, 'pause': 4950, 'renewable': 4951, 'realdonaldtrump': 4952, 'finances': 4953, 'commentator': 4954, 'crossing': 4955, 'heated': 4956, 'tendency': 4957, 'darkness': 4958, 'grace': 4959, 'administrative': 4960, 'accusation': 4961, 'conscience': 4962, 'evolved': 4963, 'blown': 4964, 'invaded': 4965, 'ecb': 4966, 'imperialist': 4967, 'applications': 4968, 'prompting': 4969, 'operated': 4970, 'accurately': 4971, 'buyers': 4972, 'string': 4973, 'fraudulent': 4974, 'tune': 4975, 'denounced': 4976, 'dig': 4977, 'triumph': 4978, 'sway': 4979, 'taylor': 4980, 'declines': 4981, 'condemn': 4982, 'activism': 4983, 'secured': 4984, 'somalia': 4985, 'scalia': 4986, 'movies': 4987, 'boat': 4988, 'brad': 4989, 'guided': 4990, 'caller': 4991, 'informing': 4992, 'surplus': 4993, 'contested': 4994, 'reign': 4995, 'dutch': 4996, 'robby': 4997, 'morton': 4998, 'wp': 4999}\n"
     ]
    }
   ],
   "source": [
    "words, word_to_id = build_vocab(concat_text,vocab_size)\n",
    "print(word_to_id)"
   ]
  },
  {
   "cell_type": "code",
   "execution_count": 16,
   "metadata": {},
   "outputs": [
    {
     "name": "stdout",
     "output_type": "stream",
     "text": [
      "5000\n"
     ]
    }
   ],
   "source": [
    "print(len(word_to_id))"
   ]
  },
  {
   "cell_type": "code",
   "execution_count": 17,
   "metadata": {},
   "outputs": [
    {
     "name": "stderr",
     "output_type": "stream",
     "text": [
      "Using TensorFlow backend.\n"
     ]
    }
   ],
   "source": [
    "from sklearn.linear_model import LogisticRegression\n",
    "from sklearn.metrics import roc_curve, auc ,classification_report,roc_auc_score\n",
    "from sklearn.svm import SVC\n",
    "from sklearn.neighbors import KNeighborsClassifier\n",
    "from sklearn.ensemble import RandomForestClassifier, GradientBoostingClassifier\n",
    "from sklearn.model_selection import train_test_split\n",
    "from gensim.models.word2vec import Word2Vec\n",
    "from zhon.hanzi import punctuation\n",
    "import numpy as np\n",
    "import pandas as pd\n",
    "import jieba\n",
    "from sklearn.externals import joblib\n",
    "from sklearn.svm import SVC\n",
    "import sys \n",
    "import re\n",
    "import keras as kr\n"
   ]
  },
  {
   "cell_type": "code",
   "execution_count": 18,
   "metadata": {},
   "outputs": [],
   "source": [
    "#padding the samples sequence length = 300\n",
    "def get_pad_text(text_words, word_to_id, max_length=100):   \n",
    "    data_id=[]\n",
    "    for x in text_words:\n",
    "        single_text=[]\n",
    "        for i in x:\n",
    "            if i in words:\n",
    "                a=word_to_id[i]\n",
    "                single_text.append(a)\n",
    "        data_id.append(single_text)\n",
    "    x_pad = kr.preprocessing.sequence.pad_sequences(data_id, max_length)\n",
    "    return np.array(x_pad)\n",
    "\n",
    "X = get_pad_text(concat_text,word_to_id,max_length=sequence_length)"
   ]
  },
  {
   "cell_type": "code",
   "execution_count": 19,
   "metadata": {
    "scrolled": true
   },
   "outputs": [
    {
     "name": "stdout",
     "output_type": "stream",
     "text": [
      "(16251, 300)\n",
      "[[  65  823 3439 ... 1635    5  136]\n",
      " [   0    0    0 ... 1452   39 1505]\n",
      " [  56    1 2746 ...   23  177 1547]\n",
      " ...\n",
      " [   0    0    0 ...    0 1376 1667]\n",
      " [   0    0    0 ...  533  787 1667]\n",
      " [   0    0    0 ...    0    0 1667]]\n"
     ]
    }
   ],
   "source": [
    "print(X.shape)\n",
    "print(X)"
   ]
  },
  {
   "cell_type": "code",
   "execution_count": 20,
   "metadata": {},
   "outputs": [],
   "source": [
    "from sklearn.model_selection import train_test_split\n",
    "y = df['type'].astype(int)"
   ]
  },
  {
   "cell_type": "markdown",
   "metadata": {},
   "source": [
    "**划分训练集和线下验证集**"
   ]
  },
  {
   "cell_type": "code",
   "execution_count": 21,
   "metadata": {},
   "outputs": [],
   "source": [
    "x_train,x_val,y_train,y_val = train_test_split(X,y,test_size=0.2,random_state=10,stratify=y)"
   ]
  },
  {
   "cell_type": "code",
   "execution_count": 22,
   "metadata": {},
   "outputs": [
    {
     "name": "stdout",
     "output_type": "stream",
     "text": [
      "(13000, 300)\n",
      "(3251, 300)\n",
      "(13000,)\n",
      "(3251,)\n",
      "<class 'pandas.core.series.Series'>\n"
     ]
    }
   ],
   "source": [
    "print(x_train.shape)\n",
    "print(x_val.shape)\n",
    "print(y_train.shape)\n",
    "print(y_val.shape)\n",
    "print(type(y_train))"
   ]
  },
  {
   "cell_type": "code",
   "execution_count": 23,
   "metadata": {},
   "outputs": [],
   "source": [
    "from sklearn.linear_model import LogisticRegression\n",
    "from sklearn.metrics import roc_curve, auc ,classification_report,roc_auc_score\n",
    "from sklearn.svm import SVC\n",
    "from sklearn.neighbors import KNeighborsClassifier\n",
    "from sklearn.ensemble import RandomForestClassifier, GradientBoostingClassifier"
   ]
  },
  {
   "cell_type": "code",
   "execution_count": 24,
   "metadata": {},
   "outputs": [
    {
     "data": {
      "text/plain": [
       "SVC(C=1.0, cache_size=200, class_weight=None, coef0=0.0,\n",
       "  decision_function_shape='ovr', degree=3, gamma='auto', kernel='rbf',\n",
       "  max_iter=-1, probability=False, random_state=None, shrinking=True,\n",
       "  tol=0.001, verbose=False)"
      ]
     },
     "execution_count": 24,
     "metadata": {},
     "output_type": "execute_result"
    }
   ],
   "source": [
    "model = SVC(kernel='rbf',gamma='auto')\n",
    "model.fit(x_train, y_train)"
   ]
  },
  {
   "cell_type": "code",
   "execution_count": 25,
   "metadata": {},
   "outputs": [],
   "source": [
    "classifier_names = ['LR','RBF SVM','Random Forest','Boosted Trees']\n",
    "\n",
    "classifiers = [LogisticRegression(random_state=0),SVC(kernel='rbf'),\n",
    "               RandomForestClassifier(max_depth=6, n_estimators=60),\n",
    "               GradientBoostingClassifier(n_estimators=60, learning_rate=0.9,max_depth=5)]"
   ]
  },
  {
   "cell_type": "code",
   "execution_count": 30,
   "metadata": {},
   "outputs": [
    {
     "name": "stderr",
     "output_type": "stream",
     "text": [
      "//anaconda/lib/python3.6/site-packages/sklearn/linear_model/logistic.py:433: FutureWarning: Default solver will be changed to 'lbfgs' in 0.22. Specify a solver to silence this warning.\n",
      "  FutureWarning)\n"
     ]
    },
    {
     "name": "stdout",
     "output_type": "stream",
     "text": [
      "LR 0.5368537902832031\n"
     ]
    },
    {
     "name": "stderr",
     "output_type": "stream",
     "text": [
      "//anaconda/lib/python3.6/site-packages/sklearn/svm/base.py:196: FutureWarning: The default value of gamma will change from 'auto' to 'scale' in version 0.22 to account better for unscaled features. Set gamma explicitly to 'auto' or 'scale' to avoid this warning.\n",
      "  \"avoid this warning.\", FutureWarning)\n"
     ]
    },
    {
     "name": "stdout",
     "output_type": "stream",
     "text": [
      "RBF SVM 253.66777968406677\n",
      "Random Forest 3.8760030269622803\n",
      "Boosted Trees 31.454627990722656\n"
     ]
    }
   ],
   "source": [
    "#result to dict\n",
    "import time\n",
    "clf_results={}\n",
    "for i,model in zip(classifier_names,classifiers):\n",
    "    start = time.time()\n",
    "    model.fit(x_train, y_train)\n",
    "    pred_y = model.predict(x_val)\n",
    "    end = time.time()\n",
    "    if i == 'LR':\n",
    "        pred_y = model.predict_proba(x_val) \n",
    "    clf_results[i]=pred_y\n",
    "    print(i,end-start)"
   ]
  },
  {
   "cell_type": "code",
   "execution_count": 31,
   "metadata": {},
   "outputs": [
    {
     "name": "stdout",
     "output_type": "stream",
     "text": [
      "[0 0 0 ... 0 0 0]\n",
      "<class 'numpy.ndarray'>\n",
      "[[0.43559114 0.56440886]\n",
      " [0.85776015 0.14223985]\n",
      " [0.84071932 0.15928068]\n",
      " ...\n",
      " [0.6124656  0.3875344 ]\n",
      " [0.7561944  0.2438056 ]\n",
      " [0.68688107 0.31311893]]\n",
      "[0.56440886 0.14223985 0.15928068 ... 0.3875344  0.2438056  0.31311893]\n"
     ]
    }
   ],
   "source": [
    "print(clf_results['RBF SVM'])\n",
    "print(type(clf_results['RBF SVM']))\n",
    "print(clf_results['LR'])\n",
    "LR_2 = []\n",
    "for i in range(0,len(clf_results['LR'])):\n",
    "    LR_2.append(clf_results['LR'][i][1])\n",
    "LR_2 = np.array(LR_2)\n",
    "print(LR_2)\n"
   ]
  },
  {
   "cell_type": "code",
   "execution_count": 32,
   "metadata": {},
   "outputs": [
    {
     "data": {
      "text/html": [
       "<div>\n",
       "<style scoped>\n",
       "    .dataframe tbody tr th:only-of-type {\n",
       "        vertical-align: middle;\n",
       "    }\n",
       "\n",
       "    .dataframe tbody tr th {\n",
       "        vertical-align: top;\n",
       "    }\n",
       "\n",
       "    .dataframe thead th {\n",
       "        text-align: right;\n",
       "    }\n",
       "</style>\n",
       "<table border=\"1\" class=\"dataframe\">\n",
       "  <thead>\n",
       "    <tr style=\"text-align: right;\">\n",
       "      <th></th>\n",
       "      <th>predict</th>\n",
       "      <th>label</th>\n",
       "    </tr>\n",
       "  </thead>\n",
       "  <tbody>\n",
       "    <tr>\n",
       "      <th>0</th>\n",
       "      <td>9.999269e-01</td>\n",
       "      <td>1</td>\n",
       "    </tr>\n",
       "    <tr>\n",
       "      <th>1</th>\n",
       "      <td>5.034981e-06</td>\n",
       "      <td>0</td>\n",
       "    </tr>\n",
       "    <tr>\n",
       "      <th>2</th>\n",
       "      <td>7.942072e-11</td>\n",
       "      <td>0</td>\n",
       "    </tr>\n",
       "    <tr>\n",
       "      <th>3</th>\n",
       "      <td>2.241843e-08</td>\n",
       "      <td>0</td>\n",
       "    </tr>\n",
       "    <tr>\n",
       "      <th>4</th>\n",
       "      <td>5.556067e-05</td>\n",
       "      <td>0</td>\n",
       "    </tr>\n",
       "  </tbody>\n",
       "</table>\n",
       "</div>"
      ],
      "text/plain": [
       "        predict  label\n",
       "0  9.999269e-01      1\n",
       "1  5.034981e-06      0\n",
       "2  7.942072e-11      0\n",
       "3  2.241843e-08      0\n",
       "4  5.556067e-05      0"
      ]
     },
     "execution_count": 32,
     "metadata": {},
     "output_type": "execute_result"
    }
   ],
   "source": [
    "dir_2 = r'result_new.csv'\n",
    "\n",
    "predict_result = pd.read_csv(dir_2)\n",
    "predict_result.head()"
   ]
  },
  {
   "cell_type": "code",
   "execution_count": 33,
   "metadata": {},
   "outputs": [],
   "source": [
    "predict_result['svm'] = clf_results['RBF SVM']\n",
    "predict_result['LR'] = LR_2"
   ]
  },
  {
   "cell_type": "code",
   "execution_count": 34,
   "metadata": {},
   "outputs": [
    {
     "data": {
      "text/html": [
       "<div>\n",
       "<style scoped>\n",
       "    .dataframe tbody tr th:only-of-type {\n",
       "        vertical-align: middle;\n",
       "    }\n",
       "\n",
       "    .dataframe tbody tr th {\n",
       "        vertical-align: top;\n",
       "    }\n",
       "\n",
       "    .dataframe thead th {\n",
       "        text-align: right;\n",
       "    }\n",
       "</style>\n",
       "<table border=\"1\" class=\"dataframe\">\n",
       "  <thead>\n",
       "    <tr style=\"text-align: right;\">\n",
       "      <th></th>\n",
       "      <th>predict</th>\n",
       "      <th>label</th>\n",
       "      <th>svm</th>\n",
       "      <th>LR</th>\n",
       "    </tr>\n",
       "  </thead>\n",
       "  <tbody>\n",
       "    <tr>\n",
       "      <th>3246</th>\n",
       "      <td>9.999498e-01</td>\n",
       "      <td>1</td>\n",
       "      <td>0</td>\n",
       "      <td>0.558450</td>\n",
       "    </tr>\n",
       "    <tr>\n",
       "      <th>3247</th>\n",
       "      <td>3.657237e-07</td>\n",
       "      <td>0</td>\n",
       "      <td>0</td>\n",
       "      <td>0.608247</td>\n",
       "    </tr>\n",
       "    <tr>\n",
       "      <th>3248</th>\n",
       "      <td>3.425474e-10</td>\n",
       "      <td>0</td>\n",
       "      <td>0</td>\n",
       "      <td>0.387534</td>\n",
       "    </tr>\n",
       "    <tr>\n",
       "      <th>3249</th>\n",
       "      <td>9.999607e-01</td>\n",
       "      <td>1</td>\n",
       "      <td>0</td>\n",
       "      <td>0.243806</td>\n",
       "    </tr>\n",
       "    <tr>\n",
       "      <th>3250</th>\n",
       "      <td>4.565080e-08</td>\n",
       "      <td>0</td>\n",
       "      <td>0</td>\n",
       "      <td>0.313119</td>\n",
       "    </tr>\n",
       "  </tbody>\n",
       "</table>\n",
       "</div>"
      ],
      "text/plain": [
       "           predict  label  svm        LR\n",
       "3246  9.999498e-01      1    0  0.558450\n",
       "3247  3.657237e-07      0    0  0.608247\n",
       "3248  3.425474e-10      0    0  0.387534\n",
       "3249  9.999607e-01      1    0  0.243806\n",
       "3250  4.565080e-08      0    0  0.313119"
      ]
     },
     "execution_count": 34,
     "metadata": {},
     "output_type": "execute_result"
    }
   ],
   "source": [
    "predict_result.tail()"
   ]
  },
  {
   "cell_type": "code",
   "execution_count": 53,
   "metadata": {},
   "outputs": [
    {
     "data": {
      "text/html": [
       "<div>\n",
       "<style scoped>\n",
       "    .dataframe tbody tr th:only-of-type {\n",
       "        vertical-align: middle;\n",
       "    }\n",
       "\n",
       "    .dataframe tbody tr th {\n",
       "        vertical-align: top;\n",
       "    }\n",
       "\n",
       "    .dataframe thead th {\n",
       "        text-align: right;\n",
       "    }\n",
       "</style>\n",
       "<table border=\"1\" class=\"dataframe\">\n",
       "  <thead>\n",
       "    <tr style=\"text-align: right;\">\n",
       "      <th></th>\n",
       "      <th>predict</th>\n",
       "      <th>label</th>\n",
       "      <th>svm</th>\n",
       "      <th>LR</th>\n",
       "      <th>final_result</th>\n",
       "      <th>final_result_lr</th>\n",
       "    </tr>\n",
       "  </thead>\n",
       "  <tbody>\n",
       "    <tr>\n",
       "      <th>0</th>\n",
       "      <td>9.999269e-01</td>\n",
       "      <td>1</td>\n",
       "      <td>0</td>\n",
       "      <td>0.564409</td>\n",
       "      <td>8.999342e-01</td>\n",
       "      <td>0.825720</td>\n",
       "    </tr>\n",
       "    <tr>\n",
       "      <th>1</th>\n",
       "      <td>5.034981e-06</td>\n",
       "      <td>0</td>\n",
       "      <td>0</td>\n",
       "      <td>0.142240</td>\n",
       "      <td>4.531483e-06</td>\n",
       "      <td>0.056899</td>\n",
       "    </tr>\n",
       "    <tr>\n",
       "      <th>2</th>\n",
       "      <td>7.942072e-11</td>\n",
       "      <td>0</td>\n",
       "      <td>0</td>\n",
       "      <td>0.159281</td>\n",
       "      <td>7.147865e-11</td>\n",
       "      <td>0.063712</td>\n",
       "    </tr>\n",
       "    <tr>\n",
       "      <th>3</th>\n",
       "      <td>2.241843e-08</td>\n",
       "      <td>0</td>\n",
       "      <td>0</td>\n",
       "      <td>0.034366</td>\n",
       "      <td>2.017659e-08</td>\n",
       "      <td>0.013746</td>\n",
       "    </tr>\n",
       "    <tr>\n",
       "      <th>4</th>\n",
       "      <td>5.556067e-05</td>\n",
       "      <td>0</td>\n",
       "      <td>0</td>\n",
       "      <td>0.414768</td>\n",
       "      <td>5.000461e-05</td>\n",
       "      <td>0.165941</td>\n",
       "    </tr>\n",
       "  </tbody>\n",
       "</table>\n",
       "</div>"
      ],
      "text/plain": [
       "        predict  label  svm        LR  final_result  final_result_lr\n",
       "0  9.999269e-01      1    0  0.564409  8.999342e-01         0.825720\n",
       "1  5.034981e-06      0    0  0.142240  4.531483e-06         0.056899\n",
       "2  7.942072e-11      0    0  0.159281  7.147865e-11         0.063712\n",
       "3  2.241843e-08      0    0  0.034366  2.017659e-08         0.013746\n",
       "4  5.556067e-05      0    0  0.414768  5.000461e-05         0.165941"
      ]
     },
     "execution_count": 53,
     "metadata": {},
     "output_type": "execute_result"
    }
   ],
   "source": [
    "predict_result['final_result'] = 0.1 * predict_result['svm'] + 0.9 * predict_result['predict']\n",
    "predict_result.head()"
   ]
  },
  {
   "cell_type": "code",
   "execution_count": 54,
   "metadata": {},
   "outputs": [
    {
     "name": "stdout",
     "output_type": "stream",
     "text": [
      "[8.99934232e-01 4.53148318e-06 7.14786480e-11 ... 3.08292691e-10\n",
      " 8.99964595e-01 4.10857236e-08]\n",
      "<class 'numpy.ndarray'>\n",
      "[[2266    4]\n",
      " [  27  954]]\n"
     ]
    }
   ],
   "source": [
    "result = np.array(predict_result['final_result'])\n",
    "print(result)\n",
    "print(type(result))\n",
    "def Chang_(pred):\n",
    "    results = []\n",
    "    for i in range(len(pred)):\n",
    "        if pred[i]>0.5:\n",
    "            temp = 1\n",
    "            results.append(temp)\n",
    "        else:\n",
    "            temp = 0\n",
    "            results.append(temp)\n",
    "    return results\n",
    "        \n",
    "results = Chang_(result)\n",
    "\n",
    "from sklearn.metrics import confusion_matrix\n",
    "print(confusion_matrix(y_val, results))\n"
   ]
  },
  {
   "cell_type": "code",
   "execution_count": 55,
   "metadata": {},
   "outputs": [
    {
     "name": "stdout",
     "output_type": "stream",
     "text": [
      "precision: 0.9958246346555324\n",
      "recall: 0.9724770642201835\n",
      "f1: 0.9840123775141827\n",
      "-========\n"
     ]
    }
   ],
   "source": [
    "from sklearn.metrics import precision_score, recall_score\n",
    "from sklearn.metrics import f1_score\n",
    "\n",
    "print('precision:',precision_score(y_val, results))\n",
    "print('recall:',recall_score(y_val, results))\n",
    "print('f1:',f1_score(y_val, results))\n",
    "print('-========')"
   ]
  },
  {
   "cell_type": "code",
   "execution_count": 56,
   "metadata": {},
   "outputs": [
    {
     "name": "stdout",
     "output_type": "stream",
     "text": [
      "[1 0 0 ... 0 1 0]\n"
     ]
    }
   ],
   "source": [
    "y_scores = pd.DataFrame(results)[0].values\n",
    "print(y_scores)"
   ]
  },
  {
   "cell_type": "code",
   "execution_count": 39,
   "metadata": {},
   "outputs": [
    {
     "name": "stdout",
     "output_type": "stream",
     "text": [
      "0.9863768428332144\n"
     ]
    }
   ],
   "source": [
    "auc_value = roc_auc_score(y_val, y_scores)\n",
    "print(auc_value)"
   ]
  },
  {
   "cell_type": "code",
   "execution_count": null,
   "metadata": {},
   "outputs": [],
   "source": []
  },
  {
   "cell_type": "code",
   "execution_count": 61,
   "metadata": {},
   "outputs": [
    {
     "data": {
      "text/html": [
       "<div>\n",
       "<style scoped>\n",
       "    .dataframe tbody tr th:only-of-type {\n",
       "        vertical-align: middle;\n",
       "    }\n",
       "\n",
       "    .dataframe tbody tr th {\n",
       "        vertical-align: top;\n",
       "    }\n",
       "\n",
       "    .dataframe thead th {\n",
       "        text-align: right;\n",
       "    }\n",
       "</style>\n",
       "<table border=\"1\" class=\"dataframe\">\n",
       "  <thead>\n",
       "    <tr style=\"text-align: right;\">\n",
       "      <th></th>\n",
       "      <th>predict</th>\n",
       "      <th>label</th>\n",
       "      <th>svm</th>\n",
       "      <th>LR</th>\n",
       "      <th>final_result</th>\n",
       "      <th>final_result_lr</th>\n",
       "    </tr>\n",
       "  </thead>\n",
       "  <tbody>\n",
       "    <tr>\n",
       "      <th>0</th>\n",
       "      <td>9.999269e-01</td>\n",
       "      <td>1</td>\n",
       "      <td>0</td>\n",
       "      <td>0.564409</td>\n",
       "      <td>8.999342e-01</td>\n",
       "      <td>0.825720</td>\n",
       "    </tr>\n",
       "    <tr>\n",
       "      <th>1</th>\n",
       "      <td>5.034981e-06</td>\n",
       "      <td>0</td>\n",
       "      <td>0</td>\n",
       "      <td>0.142240</td>\n",
       "      <td>4.531483e-06</td>\n",
       "      <td>0.056899</td>\n",
       "    </tr>\n",
       "    <tr>\n",
       "      <th>2</th>\n",
       "      <td>7.942072e-11</td>\n",
       "      <td>0</td>\n",
       "      <td>0</td>\n",
       "      <td>0.159281</td>\n",
       "      <td>7.147865e-11</td>\n",
       "      <td>0.063712</td>\n",
       "    </tr>\n",
       "    <tr>\n",
       "      <th>3</th>\n",
       "      <td>2.241843e-08</td>\n",
       "      <td>0</td>\n",
       "      <td>0</td>\n",
       "      <td>0.034366</td>\n",
       "      <td>2.017659e-08</td>\n",
       "      <td>0.013746</td>\n",
       "    </tr>\n",
       "    <tr>\n",
       "      <th>4</th>\n",
       "      <td>5.556067e-05</td>\n",
       "      <td>0</td>\n",
       "      <td>0</td>\n",
       "      <td>0.414768</td>\n",
       "      <td>5.000461e-05</td>\n",
       "      <td>0.165941</td>\n",
       "    </tr>\n",
       "  </tbody>\n",
       "</table>\n",
       "</div>"
      ],
      "text/plain": [
       "        predict  label  svm        LR  final_result  final_result_lr\n",
       "0  9.999269e-01      1    0  0.564409  8.999342e-01         0.825720\n",
       "1  5.034981e-06      0    0  0.142240  4.531483e-06         0.056899\n",
       "2  7.942072e-11      0    0  0.159281  7.147865e-11         0.063712\n",
       "3  2.241843e-08      0    0  0.034366  2.017659e-08         0.013746\n",
       "4  5.556067e-05      0    0  0.414768  5.000461e-05         0.165941"
      ]
     },
     "execution_count": 61,
     "metadata": {},
     "output_type": "execute_result"
    }
   ],
   "source": [
    "#freq-LR + TEXTCNN\n",
    "predict_result['final_result_lr'] = 0.4 * predict_result['LR'] + 0.6 * predict_result['predict']\n",
    "predict_result.head()"
   ]
  },
  {
   "cell_type": "code",
   "execution_count": 62,
   "metadata": {},
   "outputs": [
    {
     "name": "stdout",
     "output_type": "stream",
     "text": [
      "[0.8257197  0.05689896 0.06371227 ... 0.15501376 0.69749863 0.1252476 ]\n",
      "<class 'numpy.ndarray'>\n",
      "[[2268    2]\n",
      " [  26  955]]\n"
     ]
    }
   ],
   "source": [
    "result = np.array(predict_result['final_result_lr'])\n",
    "print(result)\n",
    "print(type(result))\n",
    "def Chang_(pred):\n",
    "    results = []\n",
    "    for i in range(len(pred)):\n",
    "        if pred[i]>0.5:\n",
    "            temp = 1\n",
    "            results.append(temp)\n",
    "        else:\n",
    "            temp = 0\n",
    "            results.append(temp)\n",
    "    return results\n",
    "        \n",
    "results = Chang_(result)\n",
    "\n",
    "from sklearn.metrics import confusion_matrix\n",
    "print(confusion_matrix(y_val, results))\n"
   ]
  },
  {
   "cell_type": "code",
   "execution_count": 63,
   "metadata": {},
   "outputs": [
    {
     "name": "stdout",
     "output_type": "stream",
     "text": [
      "[1 0 0 ... 0 1 0]\n"
     ]
    }
   ],
   "source": [
    "y_scores = pd.DataFrame(results)[0].values\n",
    "print(y_scores)"
   ]
  },
  {
   "cell_type": "code",
   "execution_count": 64,
   "metadata": {},
   "outputs": [
    {
     "name": "stdout",
     "output_type": "stream",
     "text": [
      "0.986307687471653\n"
     ]
    }
   ],
   "source": [
    "auc_value = roc_auc_score(y_val, y_scores)\n",
    "print(auc_value)"
   ]
  },
  {
   "cell_type": "code",
   "execution_count": null,
   "metadata": {},
   "outputs": [],
   "source": []
  },
  {
   "cell_type": "code",
   "execution_count": null,
   "metadata": {},
   "outputs": [],
   "source": []
  },
  {
   "cell_type": "code",
   "execution_count": null,
   "metadata": {},
   "outputs": [],
   "source": []
  },
  {
   "cell_type": "code",
   "execution_count": 44,
   "metadata": {},
   "outputs": [
    {
     "ename": "ValueError",
     "evalue": "Classification metrics can't handle a mix of binary and continuous-multioutput targets",
     "output_type": "error",
     "traceback": [
      "\u001b[0;31m---------------------------------------------------------------------------\u001b[0m",
      "\u001b[0;31mValueError\u001b[0m                                Traceback (most recent call last)",
      "\u001b[0;32m<ipython-input-44-2f782ac5a35b>\u001b[0m in \u001b[0;36m<module>\u001b[0;34m\u001b[0m\n\u001b[1;32m      2\u001b[0m \u001b[0;34m\u001b[0m\u001b[0m\n\u001b[1;32m      3\u001b[0m \u001b[0;32mfor\u001b[0m \u001b[0mi\u001b[0m \u001b[0;32min\u001b[0m \u001b[0mclf_results\u001b[0m\u001b[0;34m.\u001b[0m\u001b[0mkeys\u001b[0m\u001b[0;34m(\u001b[0m\u001b[0;34m)\u001b[0m\u001b[0;34m:\u001b[0m\u001b[0;34m\u001b[0m\u001b[0;34m\u001b[0m\u001b[0m\n\u001b[0;32m----> 4\u001b[0;31m     \u001b[0mprint\u001b[0m\u001b[0;34m(\u001b[0m\u001b[0mi\u001b[0m\u001b[0;34m,\u001b[0m\u001b[0mconfusion_matrix\u001b[0m\u001b[0;34m(\u001b[0m\u001b[0my_val\u001b[0m\u001b[0;34m,\u001b[0m \u001b[0mclf_results\u001b[0m\u001b[0;34m[\u001b[0m\u001b[0mi\u001b[0m\u001b[0;34m]\u001b[0m\u001b[0;34m)\u001b[0m\u001b[0;34m)\u001b[0m\u001b[0;34m\u001b[0m\u001b[0;34m\u001b[0m\u001b[0m\n\u001b[0m\u001b[1;32m      5\u001b[0m     \u001b[0mprint\u001b[0m\u001b[0;34m(\u001b[0m\u001b[0;34m'-========'\u001b[0m\u001b[0;34m)\u001b[0m\u001b[0;34m\u001b[0m\u001b[0;34m\u001b[0m\u001b[0m\n",
      "\u001b[0;32m//anaconda/lib/python3.6/site-packages/sklearn/metrics/classification.py\u001b[0m in \u001b[0;36mconfusion_matrix\u001b[0;34m(y_true, y_pred, labels, sample_weight)\u001b[0m\n\u001b[1;32m    251\u001b[0m \u001b[0;34m\u001b[0m\u001b[0m\n\u001b[1;32m    252\u001b[0m     \"\"\"\n\u001b[0;32m--> 253\u001b[0;31m     \u001b[0my_type\u001b[0m\u001b[0;34m,\u001b[0m \u001b[0my_true\u001b[0m\u001b[0;34m,\u001b[0m \u001b[0my_pred\u001b[0m \u001b[0;34m=\u001b[0m \u001b[0m_check_targets\u001b[0m\u001b[0;34m(\u001b[0m\u001b[0my_true\u001b[0m\u001b[0;34m,\u001b[0m \u001b[0my_pred\u001b[0m\u001b[0;34m)\u001b[0m\u001b[0;34m\u001b[0m\u001b[0;34m\u001b[0m\u001b[0m\n\u001b[0m\u001b[1;32m    254\u001b[0m     \u001b[0;32mif\u001b[0m \u001b[0my_type\u001b[0m \u001b[0;32mnot\u001b[0m \u001b[0;32min\u001b[0m \u001b[0;34m(\u001b[0m\u001b[0;34m\"binary\"\u001b[0m\u001b[0;34m,\u001b[0m \u001b[0;34m\"multiclass\"\u001b[0m\u001b[0;34m)\u001b[0m\u001b[0;34m:\u001b[0m\u001b[0;34m\u001b[0m\u001b[0;34m\u001b[0m\u001b[0m\n\u001b[1;32m    255\u001b[0m         \u001b[0;32mraise\u001b[0m \u001b[0mValueError\u001b[0m\u001b[0;34m(\u001b[0m\u001b[0;34m\"%s is not supported\"\u001b[0m \u001b[0;34m%\u001b[0m \u001b[0my_type\u001b[0m\u001b[0;34m)\u001b[0m\u001b[0;34m\u001b[0m\u001b[0;34m\u001b[0m\u001b[0m\n",
      "\u001b[0;32m//anaconda/lib/python3.6/site-packages/sklearn/metrics/classification.py\u001b[0m in \u001b[0;36m_check_targets\u001b[0;34m(y_true, y_pred)\u001b[0m\n\u001b[1;32m     79\u001b[0m     \u001b[0;32mif\u001b[0m \u001b[0mlen\u001b[0m\u001b[0;34m(\u001b[0m\u001b[0my_type\u001b[0m\u001b[0;34m)\u001b[0m \u001b[0;34m>\u001b[0m \u001b[0;36m1\u001b[0m\u001b[0;34m:\u001b[0m\u001b[0;34m\u001b[0m\u001b[0;34m\u001b[0m\u001b[0m\n\u001b[1;32m     80\u001b[0m         raise ValueError(\"Classification metrics can't handle a mix of {0} \"\n\u001b[0;32m---> 81\u001b[0;31m                          \"and {1} targets\".format(type_true, type_pred))\n\u001b[0m\u001b[1;32m     82\u001b[0m \u001b[0;34m\u001b[0m\u001b[0m\n\u001b[1;32m     83\u001b[0m     \u001b[0;31m# We can't have more than one value on y_type => The set is no more needed\u001b[0m\u001b[0;34m\u001b[0m\u001b[0;34m\u001b[0m\u001b[0;34m\u001b[0m\u001b[0m\n",
      "\u001b[0;31mValueError\u001b[0m: Classification metrics can't handle a mix of binary and continuous-multioutput targets"
     ]
    }
   ],
   "source": [
    "from sklearn.metrics import confusion_matrix\n",
    "\n",
    "for i in clf_results.keys():\n",
    "    print(i,confusion_matrix(y_val, clf_results[i]))\n",
    "    print('-========')"
   ]
  },
  {
   "cell_type": "code",
   "execution_count": 67,
   "metadata": {},
   "outputs": [
    {
     "name": "stdout",
     "output_type": "stream",
     "text": [
      "precision: LR 0.6002906976744186\n",
      "recall: LR 0.42099898063200814\n",
      "f1: LR 0.49490713001797476\n",
      "-========\n",
      "precision: RBF SVM 1.0\n",
      "recall: RBF SVM 0.0050968399592252805\n",
      "f1: RBF SVM 0.010141987829614604\n",
      "-========\n",
      "precision: Random Forest 0.7898423817863398\n",
      "recall: Random Forest 0.4597349643221203\n",
      "f1: Random Forest 0.5811855670103093\n",
      "-========\n",
      "precision: Boosted Trees 0.9749455337690632\n",
      "recall: Boosted Trees 0.9123343527013251\n",
      "f1: Boosted Trees 0.9426013691416535\n",
      "-========\n"
     ]
    }
   ],
   "source": [
    "from sklearn.metrics import precision_score, recall_score\n",
    "# f1 score\n",
    "from sklearn.metrics import f1_score\n",
    "for i in clf_results.keys():\n",
    "    print('precision:',i,precision_score(y_val, clf_results[i]))\n",
    "    print('recall:',i,recall_score(y_val, clf_results[i]))\n",
    "    print('f1:',i,f1_score(y_val, clf_results[i]))\n",
    "    print('-========')"
   ]
  },
  {
   "cell_type": "code",
   "execution_count": 68,
   "metadata": {},
   "outputs": [
    {
     "name": "stdout",
     "output_type": "stream",
     "text": [
      "{'LR': array([1, 0, 0, ..., 0, 0, 0]), 'RBF SVM': array([0, 0, 0, ..., 0, 0, 0]), 'Random Forest': array([1, 0, 0, ..., 0, 0, 0]), 'Boosted Trees': array([1, 0, 0, ..., 0, 1, 0])}\n"
     ]
    }
   ],
   "source": [
    "y_scores = {}\n",
    "for i in clf_results.keys():\n",
    "    y_scores[i] = pd.DataFrame(clf_results[i])[0].values\n",
    "print(y_scores)\n"
   ]
  },
  {
   "cell_type": "code",
   "execution_count": 69,
   "metadata": {},
   "outputs": [
    {
     "name": "stdout",
     "output_type": "stream",
     "text": [
      "{'LR': 0.6499268030913344, 'RBF SVM': 0.5025484199796126, 'Random Forest': 0.7034357640993861, 'Boosted Trees': 0.9511010970555084}\n"
     ]
    }
   ],
   "source": [
    "auc_value = {}\n",
    "for i in clf_results.keys():\n",
    "    auc_value[i] = roc_auc_score(y_val, y_scores[i])\n",
    "print(auc_value)"
   ]
  },
  {
   "cell_type": "code",
   "execution_count": null,
   "metadata": {},
   "outputs": [],
   "source": []
  },
  {
   "cell_type": "code",
   "execution_count": null,
   "metadata": {},
   "outputs": [],
   "source": []
  },
  {
   "cell_type": "code",
   "execution_count": null,
   "metadata": {},
   "outputs": [],
   "source": []
  },
  {
   "cell_type": "code",
   "execution_count": null,
   "metadata": {},
   "outputs": [],
   "source": []
  },
  {
   "cell_type": "code",
   "execution_count": 71,
   "metadata": {},
   "outputs": [],
   "source": [
    "def train_dev_split(X,y):\n",
    "    #每次的随机都保证一样\n",
    "    np.random.seed(10)\n",
    "    shuffle_indices = np.random.permutation(len(y))\n",
    "    x_shuffled = X[shuffle_indices]\n",
    "    y_shuffled = y[shuffle_indices]\n",
    "    # Split train/test set\n",
    "    # 后10%作为验证集\n",
    "    dev_sample_index = -1 * int(0.1 * float(len(y)))\n",
    "    x_train, x_dev = x_shuffled[:dev_sample_index], x_shuffled[dev_sample_index:]\n",
    "    y_train, y_dev = y_shuffled[:dev_sample_index], y_shuffled[dev_sample_index:]\n",
    "    print(\"Train/Dev split: {:d}/{:d}\".format(len(y_train), len(y_dev)))\n",
    "    return x_train, y_train, word_to_id, x_dev, y_dev"
   ]
  },
  {
   "cell_type": "code",
   "execution_count": 72,
   "metadata": {},
   "outputs": [
    {
     "name": "stdout",
     "output_type": "stream",
     "text": [
      "Train/Dev split: 14626/1625\n"
     ]
    }
   ],
   "source": [
    "y = np.array(df['type'])\n",
    "x_train, y_train, word_to_id, x_dev, y_dev = train_dev_split(X,y)"
   ]
  },
  {
   "cell_type": "markdown",
   "metadata": {},
   "source": [
    "**TextCNN 模型**"
   ]
  },
  {
   "cell_type": "code",
   "execution_count": 73,
   "metadata": {},
   "outputs": [
    {
     "name": "stdout",
     "output_type": "stream",
     "text": [
      "(?, 300)\n",
      "(?, 300, 128)\n"
     ]
    }
   ],
   "source": [
    "#Inputs:Input函数只需要填写列数\n",
    "comment_seq = Input(shape=[sequence_length],name='x_seq')  #shape is (number of samples eg:10000,300) \n",
    "print(comment_seq.shape)\n",
    "#embedding layers\n",
    "embedding_layer = Embedding(len(word_to_id), embedding_dims)(comment_seq)   #填充层，Embedding(len(word_to_id), embedding_dims) 内置 5000(len word_to_id) 0....4999*128 random vector\n",
    "# comment_seq 放入变成 10000*300*128\n",
    "print(embedding_layer.shape)"
   ]
  },
  {
   "cell_type": "code",
   "execution_count": 74,
   "metadata": {},
   "outputs": [
    {
     "name": "stdout",
     "output_type": "stream",
     "text": [
      "(?, 300, 128, 1)\n",
      "Builded Reshape Layer...\n"
     ]
    }
   ],
   "source": [
    "#在原来的基础上添加一个维度，相当于 类似图片数据(number sequence,r,g,b) 二维精度高 考虑了前后\n",
    "'''Reshape Layer'''\n",
    "reshape = Reshape(target_shape=(sequence_length, embedding_dims, 1), name='reshape')(embedding_layer) # chanels last\n",
    "print(reshape.shape)\n",
    "print(\"Builded Reshape Layer...\")"
   ]
  },
  {
   "cell_type": "code",
   "execution_count": 75,
   "metadata": {},
   "outputs": [],
   "source": [
    "#使用三种filter进行过滤，将最后的结果flatten  text 只能上下移动 filter\n",
    "nb_filters = 100   \n",
    "filter_lengths = [3, 4, 5]   # 3*128 , 4*128, 5*128\n",
    "flatten_ = []\n",
    "\n",
    "for i in filter_lengths:\n",
    "    model_internal = Sequential()\n",
    "    model_internal.add(Convolution2D(nb_filters, (i, embedding_dims), activation=\"relu\", name='conv2d_' + str(i), input_shape=(sequence_length, embedding_dims, 1)))\n",
    "# chanels last,默认了strides=(1,1), padding='valid'\n",
    "    model_internal.add(MaxPooling2D(pool_size=(sequence_length - i + 1, 1), name='maxpool2d_' + str(i)))\n",
    "    model_internal.add(Flatten())   #flatten 去除刚刚加的最后的一纬\n",
    "    flatten = model_internal(reshape)  \n",
    "    #print(flatten.shape)\n",
    "    flatten_.append(flatten)   #list of 三个矩阵"
   ]
  },
  {
   "cell_type": "code",
   "execution_count": 76,
   "metadata": {},
   "outputs": [
    {
     "name": "stdout",
     "output_type": "stream",
     "text": [
      "Builded Fully Connect Layer & Dropout Layer...\n",
      "Builded  Output Layer...\n"
     ]
    }
   ],
   "source": [
    "#Fully Connect Layer & Dropout Layer\n",
    "dropout_rate = 0.5   \n",
    "hidden_nodes = 256   \n",
    "merge = concatenate(flatten_, axis=-1)    \n",
    "\n",
    "fully_connect = Dense(hidden_nodes, activation='relu', name='fully_connect')(merge) \n",
    "dropout = Dropout(dropout_rate, name='dropout')(fully_connect)\n",
    "\n",
    "print(\"Builded Fully Connect Layer & Dropout Layer...\")\n",
    "\n",
    "'''Projection Layer & Output Layer'''\n",
    "\n",
    "output = Dense(1, activation='sigmoid', name='output')(dropout) # output layer\n",
    "\n",
    "print(\"Builded  Output Layer...\")"
   ]
  },
  {
   "cell_type": "code",
   "execution_count": 77,
   "metadata": {},
   "outputs": [],
   "source": [
    "model = Model([comment_seq],output)"
   ]
  },
  {
   "cell_type": "code",
   "execution_count": 78,
   "metadata": {},
   "outputs": [],
   "source": [
    "model.compile(loss=\"binary_crossentropy\", optimizer=\"adam\", metrics=['accuracy']) #binary classification"
   ]
  },
  {
   "cell_type": "code",
   "execution_count": 79,
   "metadata": {},
   "outputs": [],
   "source": [
    "from keras.callbacks import EarlyStopping,ModelCheckpoint\n",
    "\n",
    "es = EarlyStopping(monitor='val_acc',patience=5)  #val patience times\n",
    "\n",
    "filepath=\"weights.bests.hdf5\"\n",
    "checkpoint = ModelCheckpoint(filepath, monitor='val_acc', verbose=1, save_best_only=True,mode='max')\n",
    "callbacks_list = [es,checkpoint]"
   ]
  },
  {
   "cell_type": "code",
   "execution_count": 80,
   "metadata": {},
   "outputs": [
    {
     "name": "stdout",
     "output_type": "stream",
     "text": [
      "Train on 13163 samples, validate on 1463 samples\n",
      "Epoch 1/5\n",
      "13163/13163 [==============================] - 105s 8ms/step - loss: 0.3680 - acc: 0.8303 - val_loss: 0.0326 - val_acc: 0.9911\n",
      "Epoch 2/5\n",
      "13163/13163 [==============================] - 97s 7ms/step - loss: 0.0229 - acc: 0.9925 - val_loss: 0.0223 - val_acc: 0.9904\n",
      "Epoch 3/5\n",
      "13163/13163 [==============================] - 101s 8ms/step - loss: 0.0048 - acc: 0.9991 - val_loss: 0.0268 - val_acc: 0.9897\n",
      "Epoch 4/5\n",
      "13163/13163 [==============================] - 84s 6ms/step - loss: 8.7358e-04 - acc: 1.0000 - val_loss: 0.0316 - val_acc: 0.9897\n",
      "Epoch 5/5\n",
      "13163/13163 [==============================] - 86s 7ms/step - loss: 3.7535e-04 - acc: 1.0000 - val_loss: 0.0333 - val_acc: 0.9897\n"
     ]
    },
    {
     "data": {
      "text/plain": [
       "<keras.callbacks.History at 0x1c3cc23978>"
      ]
     },
     "execution_count": 80,
     "metadata": {},
     "output_type": "execute_result"
    }
   ],
   "source": [
    "model.fit(x_train, y_train,\n",
    "          validation_split=0.1,\n",
    "          batch_size=batch_size,   \n",
    "          callbacks=[es],\n",
    "          epochs=5,\n",
    "          shuffle=True)"
   ]
  },
  {
   "cell_type": "code",
   "execution_count": 81,
   "metadata": {},
   "outputs": [],
   "source": [
    "pred_y = model.predict(x_dev)"
   ]
  },
  {
   "cell_type": "code",
   "execution_count": 82,
   "metadata": {},
   "outputs": [],
   "source": [
    "def Chang_(pred):\n",
    "    results = []\n",
    "    for i in range(len(pred)):\n",
    "        if pred[i]>0.5:\n",
    "            temp = 1\n",
    "            results.append(temp)\n",
    "        else:\n",
    "            temp = 0\n",
    "            results.append(temp)\n",
    "    return results\n",
    "        \n",
    "results = Chang_(pred_y)"
   ]
  },
  {
   "cell_type": "code",
   "execution_count": 83,
   "metadata": {},
   "outputs": [
    {
     "data": {
      "text/plain": [
       "1625"
      ]
     },
     "execution_count": 83,
     "metadata": {},
     "output_type": "execute_result"
    }
   ],
   "source": [
    "len(results)"
   ]
  },
  {
   "cell_type": "code",
   "execution_count": 84,
   "metadata": {},
   "outputs": [
    {
     "data": {
      "text/plain": [
       "1625"
      ]
     },
     "execution_count": 84,
     "metadata": {},
     "output_type": "execute_result"
    }
   ],
   "source": [
    "len(y_dev)"
   ]
  },
  {
   "cell_type": "code",
   "execution_count": 85,
   "metadata": {},
   "outputs": [],
   "source": [
    "\n",
    "from sklearn.metrics import confusion_matrix\n",
    "from sklearn.metrics import precision_recall_curve\n",
    "from sklearn.metrics import auc\n",
    "from sklearn.metrics import roc_auc_score\n",
    "from sklearn.metrics import roc_curve\n",
    "from sklearn.metrics import classification_report\n",
    "from sklearn.metrics import precision_score, recall_score\n",
    "from sklearn.metrics import f1_score"
   ]
  },
  {
   "cell_type": "code",
   "execution_count": 86,
   "metadata": {},
   "outputs": [
    {
     "name": "stdout",
     "output_type": "stream",
     "text": [
      "[[1151    6]\n",
      " [   3  465]]\n"
     ]
    }
   ],
   "source": [
    "# Compute confusion matrix\n",
    "con_matrix = confusion_matrix(results, y_dev,labels=[0,1])  # 生成混淆矩阵\n",
    "print(con_matrix)"
   ]
  },
  {
   "cell_type": "code",
   "execution_count": 87,
   "metadata": {},
   "outputs": [
    {
     "name": "stdout",
     "output_type": "stream",
     "text": [
      "precision: 0.9935897435897436\n",
      "recall: 0.9872611464968153\n",
      "f1: 0.9904153354632588\n"
     ]
    }
   ],
   "source": [
    "print('precision:',precision_score(y_dev, results))\n",
    "print('recall:',recall_score(y_dev, results))\n",
    "print('f1:',f1_score(y_dev, results))"
   ]
  },
  {
   "cell_type": "code",
   "execution_count": 88,
   "metadata": {},
   "outputs": [
    {
     "name": "stdout",
     "output_type": "stream",
     "text": [
      "[9.999826e-01 8.412799e-05]\n"
     ]
    }
   ],
   "source": [
    "y_scores = pd.DataFrame(pred_y)[0].values\n",
    "print(y_scores[:2])"
   ]
  },
  {
   "cell_type": "code",
   "execution_count": 97,
   "metadata": {},
   "outputs": [
    {
     "name": "stdout",
     "output_type": "stream",
     "text": [
      "              precision    recall  f1-score   support\n",
      "\n",
      "           0       0.99      1.00      1.00      1154\n",
      "           1       0.99      0.99      0.99       471\n",
      "\n",
      "   micro avg       0.99      0.99      0.99      1625\n",
      "   macro avg       0.99      0.99      0.99      1625\n",
      "weighted avg       0.99      0.99      0.99      1625\n",
      "\n"
     ]
    }
   ],
   "source": [
    "print(classification_report(y_dev, results))\n",
    "auc_value = roc_auc_score(y_dev, y_scores)"
   ]
  },
  {
   "cell_type": "code",
   "execution_count": 90,
   "metadata": {},
   "outputs": [],
   "source": [
    "import matplotlib.pyplot as plt\n",
    "%matplotlib inline"
   ]
  },
  {
   "cell_type": "code",
   "execution_count": 92,
   "metadata": {},
   "outputs": [
    {
     "data": {
      "text/plain": [
       "<matplotlib.legend.Legend at 0x1c68c06f60>"
      ]
     },
     "execution_count": 92,
     "metadata": {},
     "output_type": "execute_result"
    },
    {
     "data": {
      "image/png": "[encoded data removed]",
      "text/plain": [
       "<Figure size 432x432 with 1 Axes>"
      ]
     },
     "metadata": {
      "needs_background": "light"
     },
     "output_type": "display_data"
    }
   ],
   "source": [
    "fpr, tpr, thresholds = roc_curve(y_dev, y_scores, pos_label=1.0)\n",
    "plt.figure(figsize=(6,6))\n",
    "lw = 2\n",
    "plt.plot(fpr, tpr, color='darkorange', linewidth=lw, label='ROC curve (area = %0.4f)' % auc_value)\n",
    "plt.plot([0, 1], [0, 1], color='navy', linewidth=lw, linestyle='--')\n",
    "plt.xlim([0.0, 1.0])\n",
    "plt.ylim([0.0, 1.05])\n",
    "plt.xlabel('False Positive Rate')\n",
    "plt.ylabel('True Positive Rate')\n",
    "plt.title('CNN ROC')\n",
    "plt.legend(loc=\"lower right\")"
   ]
  },
  {
   "cell_type": "code",
   "execution_count": null,
   "metadata": {},
   "outputs": [],
   "source": [
    "text_new = 'WASHINGTON — The Trump administration pushed a $1.5 trillion tax cut through Congress in 2017 on the promise that it would spark sustained economic growth. While the tax cuts have goosed the economy in the short term, officials now concede they will not be enough to deliver the 3 percent annual growth the president promised over the long term.To produce that average growth rate for the next decade, White House forecasters say, the American economy would need additional rollbacks in labor regulations, a $1 trillion infrastructure plan and another round of tax cuts.Getting all those policies implemented would be highly unlikely, given a divided Congress and a ballooning federal deficit, which could limit lawmakers’ appetite to spend money on a new tax cut or infrastructure plan.But without those additional steps, the president’s economic team predicts in a report released on Tuesday that growth would slow to about 2 percent a year in 2026. That is the year when many of the individual tax cuts included in the 2017 law are set to expire, essentially producing a tax increase for millions of Americans.'"
   ]
  },
  {
   "cell_type": "code",
   "execution_count": null,
   "metadata": {},
   "outputs": [],
   "source": [
    "text_words_new=[cleanlines(text_new,remove_stopwords=True)]\n"
   ]
  },
  {
   "cell_type": "code",
   "execution_count": null,
   "metadata": {},
   "outputs": [],
   "source": [
    "print(text_words_new[0])"
   ]
  },
  {
   "cell_type": "code",
   "execution_count": null,
   "metadata": {},
   "outputs": [],
   "source": [
    "X_new = get_pad_text(text_words_new,word_to_id,max_length=sequence_length)\n",
    "print(X_new.shape)"
   ]
  },
  {
   "cell_type": "code",
   "execution_count": null,
   "metadata": {},
   "outputs": [],
   "source": [
    "X_new"
   ]
  },
  {
   "cell_type": "code",
   "execution_count": null,
   "metadata": {},
   "outputs": [],
   "source": [
    "model.predict(X_new)"
   ]
  },
  {
   "cell_type": "code",
   "execution_count": null,
   "metadata": {},
   "outputs": [],
   "source": [
    "dir_2 = r'New_Data.csv'\n",
    "test_set = pd.read_csv(dir_2)\n",
    "test_set = test_set[['title','content','label']]\n",
    "test_set.head()"
   ]
  },
  {
   "cell_type": "code",
   "execution_count": null,
   "metadata": {},
   "outputs": [],
   "source": [
    "test_set['label'] = test_set['label'].astype(int)\n"
   ]
  },
  {
   "cell_type": "code",
   "execution_count": null,
   "metadata": {},
   "outputs": [],
   "source": [
    "test_set['content'] = test_set['content'].astype(str)\n",
    "sents = test_set['content']\n",
    "text_words=[cleanlines(sent,remove_stopwords=True) for sent in sents]\n",
    "print(text_words[:5])"
   ]
  },
  {
   "cell_type": "code",
   "execution_count": null,
   "metadata": {},
   "outputs": [],
   "source": [
    "test_set['title'] = test_set['title'].astype(str)\n",
    "sents = test_set['title']\n",
    "title_words=[cleanlines(sent,remove_stopwords=True) for sent in sents]\n",
    "print(title_words[:5])"
   ]
  },
  {
   "cell_type": "code",
   "execution_count": null,
   "metadata": {},
   "outputs": [],
   "source": [
    "def concat_text(text_words,title_words):\n",
    "    concat_text = []\n",
    "    for i in range(len(text_words)):\n",
    "        temp = text_words[i]+title_words[i]\n",
    "        concat_text.append(temp)\n",
    "    return concat_text\n",
    "concat_text = concat_text(text_words,title_words)"
   ]
  },
  {
   "cell_type": "code",
   "execution_count": null,
   "metadata": {},
   "outputs": [],
   "source": [
    "X = get_pad_text(concat_text,word_to_id,max_length=sequence_length)"
   ]
  },
  {
   "cell_type": "code",
   "execution_count": null,
   "metadata": {},
   "outputs": [],
   "source": [
    "y = np.array(test_set['label'])\n"
   ]
  },
  {
   "cell_type": "code",
   "execution_count": null,
   "metadata": {},
   "outputs": [],
   "source": [
    "pred_y = model.predict(X)\n",
    "test_set['predict'] = pred_y\n",
    "print(test_set.head())\n",
    "test_set.to_csv(r'1.csv',header=True, index=False)\n"
   ]
  },
  {
   "cell_type": "code",
   "execution_count": null,
   "metadata": {},
   "outputs": [],
   "source": [
    "def Chang_(pred):\n",
    "    results = []\n",
    "    for i in range(len(pred)):\n",
    "        if pred[i]>0.5:\n",
    "            temp = 1\n",
    "            results.append(temp)\n",
    "        else:\n",
    "            temp = 0\n",
    "            results.append(temp)\n",
    "    return results\n",
    "        \n",
    "results = Chang_(pred_y)"
   ]
  },
  {
   "cell_type": "code",
   "execution_count": null,
   "metadata": {},
   "outputs": [],
   "source": [
    "con_matrix = confusion_matrix(results, y,labels=[0,1])  # 生成混淆矩阵\n",
    "print(con_matrix)"
   ]
  },
  {
   "cell_type": "code",
   "execution_count": null,
   "metadata": {},
   "outputs": [],
   "source": [
    "print('precision:',precision_score(y, results))\n",
    "print('recall:',recall_score(y, results))\n",
    "print('f1:',f1_score(y, results))"
   ]
  },
  {
   "cell_type": "code",
   "execution_count": null,
   "metadata": {},
   "outputs": [],
   "source": []
  }
 ],
 "metadata": {
  "kernelspec": {
   "display_name": "Python 3",
   "language": "python",
   "name": "python3"
  },
  "language_info": {
   "codemirror_mode": {
    "name": "ipython",
    "version": 3
   },
   "file_extension": ".py",
   "mimetype": "text/x-python",
   "name": "python",
   "nbconvert_exporter": "python",
   "pygments_lexer": "ipython3",
   "version": "3.6.8"
  }
 },
 "nbformat": 4,
 "nbformat_minor": 2
}
