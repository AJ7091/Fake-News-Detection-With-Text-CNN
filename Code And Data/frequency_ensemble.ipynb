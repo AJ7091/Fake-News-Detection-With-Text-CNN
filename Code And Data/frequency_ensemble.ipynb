{
 "cells": [
  {
   "cell_type": "code",
   "execution_count": 65,
   "metadata": {},
   "outputs": [],
   "source": [
    "import  pandas as pd\n",
    "import numpy as np\n",
    "import re\n",
    "from collections import Counter\n",
    "import nltk"
   ]
  },
  {
   "cell_type": "code",
   "execution_count": 66,
   "metadata": {},
   "outputs": [
    {
     "name": "stdout",
     "output_type": "stream",
     "text": [
      "(439, 3)\n"
     ]
    },
    {
     "data": {
      "text/html": [
       "<div>\n",
       "<style scoped>\n",
       "    .dataframe tbody tr th:only-of-type {\n",
       "        vertical-align: middle;\n",
       "    }\n",
       "\n",
       "    .dataframe tbody tr th {\n",
       "        vertical-align: top;\n",
       "    }\n",
       "\n",
       "    .dataframe thead th {\n",
       "        text-align: right;\n",
       "    }\n",
       "</style>\n",
       "<table border=\"1\" class=\"dataframe\">\n",
       "  <thead>\n",
       "    <tr style=\"text-align: right;\">\n",
       "      <th></th>\n",
       "      <th>text</th>\n",
       "      <th>title</th>\n",
       "      <th>type</th>\n",
       "    </tr>\n",
       "  </thead>\n",
       "  <tbody>\n",
       "    <tr>\n",
       "      <th>0</th>\n",
       "      <td>Inspiring women take center stage in ''Women, ...</td>\n",
       "      <td>Inspiring women take center stage in ''Women, ...</td>\n",
       "      <td>1</td>\n",
       "    </tr>\n",
       "    <tr>\n",
       "      <th>1</th>\n",
       "      <td>Imagine Europe as a target on a radar screen, ...</td>\n",
       "      <td>Europe: Prey or Power?</td>\n",
       "      <td>1</td>\n",
       "    </tr>\n",
       "    <tr>\n",
       "      <th>2</th>\n",
       "      <td>A rocket launched from Gaza struck a house in ...</td>\n",
       "      <td>Netanyahu Cuts Short U.S. Trip After Gaza Rock...</td>\n",
       "      <td>1</td>\n",
       "    </tr>\n",
       "    <tr>\n",
       "      <th>3</th>\n",
       "      <td>Before ''Southern Promises'' begins, the actor...</td>\n",
       "      <td>Scratching the Surface of Slavery</td>\n",
       "      <td>1</td>\n",
       "    </tr>\n",
       "    <tr>\n",
       "      <th>4</th>\n",
       "      <td>Four University of Georgia students were expel...</td>\n",
       "      <td>Pick My Cotton': Video of Mock Whipping Prompt...</td>\n",
       "      <td>1</td>\n",
       "    </tr>\n",
       "  </tbody>\n",
       "</table>\n",
       "</div>"
      ],
      "text/plain": [
       "                                                text  \\\n",
       "0  Inspiring women take center stage in ''Women, ...   \n",
       "1  Imagine Europe as a target on a radar screen, ...   \n",
       "2  A rocket launched from Gaza struck a house in ...   \n",
       "3  Before ''Southern Promises'' begins, the actor...   \n",
       "4  Four University of Georgia students were expel...   \n",
       "\n",
       "                                               title  type  \n",
       "0  Inspiring women take center stage in ''Women, ...     1  \n",
       "1                             Europe: Prey or Power?     1  \n",
       "2  Netanyahu Cuts Short U.S. Trip After Gaza Rock...     1  \n",
       "3                  Scratching the Surface of Slavery     1  \n",
       "4  Pick My Cotton': Video of Mock Whipping Prompt...     1  "
      ]
     },
     "execution_count": 66,
     "metadata": {},
     "output_type": "execute_result"
    }
   ],
   "source": [
    "#读取数据\n",
    "dir_1 = r'New_Data.csv'\n",
    "\n",
    "dir_2 = r'all_data_new_1.csv'\n",
    "\n",
    "df = pd.read_csv(dir_1)\n",
    "df2 = pd.read_csv(dir_2)\n",
    "df['text'] = df['content']\n",
    "df['type'] = df['label']\n",
    "df = df[['text','title','type']]\n",
    "print(df.shape)\n",
    "df.head()\n"
   ]
  },
  {
   "cell_type": "code",
   "execution_count": 67,
   "metadata": {},
   "outputs": [
    {
     "data": {
      "text/plain": [
       "array([1, 0])"
      ]
     },
     "execution_count": 67,
     "metadata": {},
     "output_type": "execute_result"
    }
   ],
   "source": [
    "df['type'].unique()"
   ]
  },
  {
   "cell_type": "code",
   "execution_count": 68,
   "metadata": {},
   "outputs": [
    {
     "name": "stdout",
     "output_type": "stream",
     "text": [
      "0    1\n",
      "1    1\n",
      "2    1\n",
      "3    1\n",
      "4    1\n",
      "Name: type, dtype: int64\n"
     ]
    }
   ],
   "source": [
    "#转换数据类型\n",
    "df['type'] = df['type'].astype(int)\n",
    "print(df['type'][:5])"
   ]
  },
  {
   "cell_type": "code",
   "execution_count": 69,
   "metadata": {},
   "outputs": [
    {
     "ename": "KeyError",
     "evalue": "12219",
     "output_type": "error",
     "traceback": [
      "\u001b[0;31m---------------------------------------------------------------------------\u001b[0m",
      "\u001b[0;31mKeyError\u001b[0m                                  Traceback (most recent call last)",
      "\u001b[0;32m<ipython-input-69-c63dc1fe80d6>\u001b[0m in \u001b[0;36m<module>\u001b[0;34m\u001b[0m\n\u001b[0;32m----> 1\u001b[0;31m \u001b[0mdf\u001b[0m\u001b[0;34m[\u001b[0m\u001b[0;34m'text'\u001b[0m\u001b[0;34m]\u001b[0m\u001b[0;34m[\u001b[0m\u001b[0;36m12219\u001b[0m\u001b[0;34m]\u001b[0m\u001b[0;34m\u001b[0m\u001b[0;34m\u001b[0m\u001b[0m\n\u001b[0m",
      "\u001b[0;32m//anaconda/lib/python3.6/site-packages/pandas/core/series.py\u001b[0m in \u001b[0;36m__getitem__\u001b[0;34m(self, key)\u001b[0m\n\u001b[1;32m    866\u001b[0m         \u001b[0mkey\u001b[0m \u001b[0;34m=\u001b[0m \u001b[0mcom\u001b[0m\u001b[0;34m.\u001b[0m\u001b[0mapply_if_callable\u001b[0m\u001b[0;34m(\u001b[0m\u001b[0mkey\u001b[0m\u001b[0;34m,\u001b[0m \u001b[0mself\u001b[0m\u001b[0;34m)\u001b[0m\u001b[0;34m\u001b[0m\u001b[0;34m\u001b[0m\u001b[0m\n\u001b[1;32m    867\u001b[0m         \u001b[0;32mtry\u001b[0m\u001b[0;34m:\u001b[0m\u001b[0;34m\u001b[0m\u001b[0;34m\u001b[0m\u001b[0m\n\u001b[0;32m--> 868\u001b[0;31m             \u001b[0mresult\u001b[0m \u001b[0;34m=\u001b[0m \u001b[0mself\u001b[0m\u001b[0;34m.\u001b[0m\u001b[0mindex\u001b[0m\u001b[0;34m.\u001b[0m\u001b[0mget_value\u001b[0m\u001b[0;34m(\u001b[0m\u001b[0mself\u001b[0m\u001b[0;34m,\u001b[0m \u001b[0mkey\u001b[0m\u001b[0;34m)\u001b[0m\u001b[0;34m\u001b[0m\u001b[0;34m\u001b[0m\u001b[0m\n\u001b[0m\u001b[1;32m    869\u001b[0m \u001b[0;34m\u001b[0m\u001b[0m\n\u001b[1;32m    870\u001b[0m             \u001b[0;32mif\u001b[0m \u001b[0;32mnot\u001b[0m \u001b[0mis_scalar\u001b[0m\u001b[0;34m(\u001b[0m\u001b[0mresult\u001b[0m\u001b[0;34m)\u001b[0m\u001b[0;34m:\u001b[0m\u001b[0;34m\u001b[0m\u001b[0;34m\u001b[0m\u001b[0m\n",
      "\u001b[0;32m//anaconda/lib/python3.6/site-packages/pandas/core/indexes/base.py\u001b[0m in \u001b[0;36mget_value\u001b[0;34m(self, series, key)\u001b[0m\n\u001b[1;32m   4372\u001b[0m         \u001b[0;32mtry\u001b[0m\u001b[0;34m:\u001b[0m\u001b[0;34m\u001b[0m\u001b[0;34m\u001b[0m\u001b[0m\n\u001b[1;32m   4373\u001b[0m             return self._engine.get_value(s, k,\n\u001b[0;32m-> 4374\u001b[0;31m                                           tz=getattr(series.dtype, 'tz', None))\n\u001b[0m\u001b[1;32m   4375\u001b[0m         \u001b[0;32mexcept\u001b[0m \u001b[0mKeyError\u001b[0m \u001b[0;32mas\u001b[0m \u001b[0me1\u001b[0m\u001b[0;34m:\u001b[0m\u001b[0;34m\u001b[0m\u001b[0;34m\u001b[0m\u001b[0m\n\u001b[1;32m   4376\u001b[0m             \u001b[0;32mif\u001b[0m \u001b[0mlen\u001b[0m\u001b[0;34m(\u001b[0m\u001b[0mself\u001b[0m\u001b[0;34m)\u001b[0m \u001b[0;34m>\u001b[0m \u001b[0;36m0\u001b[0m \u001b[0;32mand\u001b[0m \u001b[0;34m(\u001b[0m\u001b[0mself\u001b[0m\u001b[0;34m.\u001b[0m\u001b[0mholds_integer\u001b[0m\u001b[0;34m(\u001b[0m\u001b[0;34m)\u001b[0m \u001b[0;32mor\u001b[0m \u001b[0mself\u001b[0m\u001b[0;34m.\u001b[0m\u001b[0mis_boolean\u001b[0m\u001b[0;34m(\u001b[0m\u001b[0;34m)\u001b[0m\u001b[0;34m)\u001b[0m\u001b[0;34m:\u001b[0m\u001b[0;34m\u001b[0m\u001b[0;34m\u001b[0m\u001b[0m\n",
      "\u001b[0;32mpandas/_libs/index.pyx\u001b[0m in \u001b[0;36mpandas._libs.index.IndexEngine.get_value\u001b[0;34m()\u001b[0m\n",
      "\u001b[0;32mpandas/_libs/index.pyx\u001b[0m in \u001b[0;36mpandas._libs.index.IndexEngine.get_value\u001b[0;34m()\u001b[0m\n",
      "\u001b[0;32mpandas/_libs/index.pyx\u001b[0m in \u001b[0;36mpandas._libs.index.IndexEngine.get_loc\u001b[0;34m()\u001b[0m\n",
      "\u001b[0;32mpandas/_libs/hashtable_class_helper.pxi\u001b[0m in \u001b[0;36mpandas._libs.hashtable.Int64HashTable.get_item\u001b[0;34m()\u001b[0m\n",
      "\u001b[0;32mpandas/_libs/hashtable_class_helper.pxi\u001b[0m in \u001b[0;36mpandas._libs.hashtable.Int64HashTable.get_item\u001b[0;34m()\u001b[0m\n",
      "\u001b[0;31mKeyError\u001b[0m: 12219"
     ]
    }
   ],
   "source": [
    "df['text'][12219]"
   ]
  },
  {
   "cell_type": "markdown",
   "metadata": {},
   "source": [
    "**data preprocessing**"
   ]
  },
  {
   "cell_type": "code",
   "execution_count": null,
   "metadata": {},
   "outputs": [],
   "source": [
    "#去除标点等无用的符号以及停用词\n",
    "def cleanlines(line,remove_stopwords=False):   \n",
    "    p1=re.compile(r'-\\{.*?(zh-hans|zh-cn):([^;]*?)(;.*?)?\\}-')\n",
    "    p2=re.compile(r'[(][: @ . , ？！\\s][)]')\n",
    "    p3=re.compile(r'[「『]')\n",
    "    p4=re.compile(r'[\\s+\\.\\!\\/_,$%^*(+\\\"\\')]+|[+——()?【】“”！，。？、~@#￥%……&*（）0-9 , : ; \\-\\ \\[\\ \\]\\ ]')\n",
    "    p5=re.compile(r'[^a-zA-Z]')\n",
    "    line=p1.sub(r' ',line)\n",
    "    line=p2.sub(r' ',line)\n",
    "    line=p3.sub(r' ',line)\n",
    "    line=p4.sub(r' ',line)\n",
    "    line=p5.sub(r' ',line)\n",
    "    words = line.lower().split()\n",
    "    if remove_stopwords:\n",
    "        words = [w for w in words if w not in eng_stopwords]\n",
    "    return words"
   ]
  },
  {
   "cell_type": "code",
   "execution_count": 70,
   "metadata": {},
   "outputs": [
    {
     "data": {
      "text/plain": [
       "[\"'d\", \"'ll\", \"'m\", \"'re\", \"'s\"]"
      ]
     },
     "execution_count": 70,
     "metadata": {},
     "output_type": "execute_result"
    }
   ],
   "source": [
    "#添加停用词表\n",
    "eng_stopwords = [line.rstrip() for line in open('stop_words.txt')]\n",
    "eng_stopwords[:5]"
   ]
  },
  {
   "cell_type": "code",
   "execution_count": 71,
   "metadata": {},
   "outputs": [],
   "source": [
    "#处理内容文本\n",
    "df['text'] = df['text'].astype(str)\n",
    "sents = df['text']\n",
    "text_words=[cleanlines(sent,remove_stopwords=True) for sent in sents]"
   ]
  },
  {
   "cell_type": "code",
   "execution_count": 72,
   "metadata": {},
   "outputs": [
    {
     "name": "stdout",
     "output_type": "stream",
     "text": [
      "[['inspiring', 'women', 'center', 'stage', 'women', 'war', 'peace', 'ii', 'intruder', 'upends', 'couple', 'life', 'salesman', 'tv', 'women', 'war', 'peace', 'ii', 'pbs', 'check', 'local', 'listings', 'runs', 'limited', 'series', 'returns', 'films', 'women', 'led', 'nonviolent', 'movements', 'peace', 'human', 'rights', 'program', 'wave', 'goodbye', 'dinosaurs', 'northern', 'ireland', 'women', 'coalition', 'political', 'party', 'established', 'secure', 'representation', 'women', 'peace', 'negotiations', 'party', 'disbanded', 'trials', 'spring', 'centers', 'egyptian', 'women', 'fighting', 'bread', 'freedom', 'social', 'justice', 'arab', 'spring', 'half', 'series', 'airs', 'tuesday', 'jesus', 'life', 'history', 'biblical', 'drama', 'mary', 'magdalene', 'hit', 'theaters', 'month', 'rooney', 'mara', 'title', 'role', 'alongside', 'joaquin', 'phoenix', 'jesus', 'story', 'mary', 'jewish', 'woman', 'traveled', 'jesus', 'witnessed', 'crucifixion', 'resurrection', 'told', 'series', 'drama', 'documentary', 'tales', 'figures', 'played', 'roles', 'jesus', 'life', 'episode', 'reimagines', 'jesus', 'birth', 'focus', 'joseph', 'nation', 'stress', 'hbo', 'stream', 'hbo', 'platforms', 'neurosurgeon', 'medical', 'reporter', 'sanjay', 'gupta', 'crisscrosses', 'united', 'understand', 'country', 'life', 'expectancy', 'rate', 'steadily', 'dropping', 'sobering', 'documentary', 'marc', 'levin', 'class', 'divide', 'gupta', 'emphasizes', 'rise', 'deaths', 'despair', 'caused', 'cirrhosis', 'drug', 'overdose', 'suicide', 'researchers', 'obesity', 'chronic', 'stress', 'film', 'conveys', 'discover', 'depression', 'social', 'isolation', 'human', 'issue', 'gupta', 'visits', 'town', 'pennsylvania', 'plant', 'closure', 'left', 'hundreds', 'residents', 'jobless', 'stressed'], ['imagine', 'europe', 'target', 'radar', 'screen', 'warning', 'alerts', 'flashing', 'red', 'ubiquitous', 'europe', 'undergoing', 'multipronged', 'hybrid', 'attack', 'assailants', 'coordinate', 'goals', 'vary', 'flashing', 'signs', 'represent', 'power', 'competition', 'united', 'china', 'russia', 'europe', 'prey', 'political', 'allegiance', 'weakening', 'west', 'internal', 'divisions', 'attractive', 'assets', 'market', 'consumers', 'ideal', 'target', 'day', 'visit', 'italy', 'france', 'china', 'president', 'xi', 'jinping', 'finishing', 'week', 'read', 'study', 'power', 'testing', 'weakness', 'wealth', 'russia', 'familiar', 'friend', 'foe', 'time', 'range', 'moscow', 'tools', 'undermine', 'democratic', 'electoral', 'processes', 'cohesion', 'european', 'union', 'troll', 'factories', 'assistance', 'provided', 'anti', 'establishment', 'parties', 'political', 'landscape', 'sanctions', 'annexation', 'crimea', 'dented', 'kremlin', 'appetite', 'meddling', 'european', 'affairs', 'prevented', 'russia', 'lucrative', 'business', 'center', 'strategic', 'international', 'studies', 'washington', 'couple', 'russia', 'managed', 'increase', 'economic', 'footprint', 'european', 'union', 'countries', 'welcoming', 'notably', 'austria', 'italy', 'netherlands', 'report', 'online', 'activist', 'organization', 'avaaz', 'active', 'role', 'played', 'french', 'language', 'version', 'russia', 'russian', 'media', 'organization', 'includes', 'disseminating', 'news', 'real', 'fake', 'yellow', 'vests', 'protests', 'france', 'station', 'constant', 'coverage', 'violent', 'clashes', 'proved', 'popular', 'youtube', 'china', 'approach', 'guise', 'concept', 'silk', 'road', 'echoes', 'marco', 'polo', 'president', 'xi', 'connect', 'europe', 'china', 'economically', 'meant', 'buying', 'port', 'athens', 'crucial', 'gates', 'southern', 'europe', 'greece', 'desperate', 'money', 'germany', 'wrong', 'silk', 'road', 'prosaically', 'belt', 'road', 'initiative', 'involved', 'setting', 'organization', 'called', 'european', 'communist', 'european', 'union', 'china', 'kindly', 'build', 'infrastructure', 'bilateral', 'meetings', 'chinese', 'counterpart', 'prime', 'minister', 'european', 'union', 'country', 'daringly', 'highlight', 'xi', 'visit', 'italy', 'founding', 'european', 'union', 'signing', 'saturday', 'memorandum', 'understanding', 'endorse', 'belt', 'road', 'initiative', 'project', 'content', 'periphery', 'china', 'aiming', 'heart', 'europe', 'newfound', 'tenacity', 'washington', 'brussels', 'expressed', 'displeasure', 'move', 'italy', 'beijing', 'doubled', 'united', 'supposedly', 'europe', 'ally', 'fight', 'china', 'fight', 'trade', 'slowed', 'economic', 'growth', 'europe', 'technological', 'dominance', 'normal', 'washington', 'enrolled', 'european', 'allies', 'fight', 'normal', 'president', 'trump', 'america', 'treats', 'europe', 'competitor', 'vassal', 'week', 'passed', 'bullying', 'trump', 'administration', 'munich', 'security', 'conference', 'mid', 'february', 'vice', 'president', 'mike', 'pence', 'european', 'union', 'governments', 'withdraw', 'iranian', 'nuclear', 'deal', 'undermining', 'american', 'sanctions', 'penalize', 'european', 'companies', 'french', 'british', 'defense', 'officials', 'incensed', 'america', 'syria', 'decided', 'unilaterally', 'withdraw', 'troops', 'french', 'stay', 'tense', 'discussion', 'european', 'defense', 'closed', 'doors', 'senior', 'american', 'diplomat', 'speaking', 'grant', 'anonymity', 'reporters', 'frankness', 'sternly', 'lectured', 'west', 'european', 'participants', 'sensitive', 'united', 'president', 'trump', 'warnings', 'choosing', 'giant', 'chinese', 'tech', 'company', 'huawei', 'develop', 'generation', 'wireless', 'networks', 'threats', 'richard', 'grenell', 'american', 'ambassador', 'germany', 'retaliation', 'involving', 'restrictions', 'intelligence', 'sharing', 'gordon', 'sondland', 'united', 'ambassador', 'european', 'union', 'warned', 'retaliation', 'brussels', 'limits', 'involvement', 'american', 'companies', 'european', 'military', 'projects', 'trump', 'threatened', 'europe', 'severe', 'economic', 'pain', 'progress', 'delicate', 'trade', 'talks', 'reports', 'washington', 'trump', 'bill', 'european', 'countries', 'deployment', 'american', 'troops', 'percent', 'privilege', 'hosting', 'bloomberg', 'news', 'europe', 'soft', 'target', 'close', 'federal', 'hampered', 'complex', 'decision', 'process', 'brexit', 'chaos', 'inevitably', 'leave', 'mark', 'french', 'historian', 'pierre', 'nora', 'europeans', 'masters', 'pushed', 'periphery', 'europe', 'accept', 'defeat', 'senior', 'european', 'intelligence', 'official', 'wake', 'call', 'range', 'threats', 'confronting', 'including', 'interference', 'russia', 'alt', 'america', 'weaponization', 'extraterritorial', 'laws', 'weaken', 'companies', 'assert', 'european', 'economic', 'sovereignty', 'rearm', 'collectively', 'unity', 'political', 'essential', 'european', 'union', 'uphill', 'battle', 'europeans', 'wake', 'call', 'decide', 'contemplate', 'prospect', 'continent', 'cut', 'piece', 'piece', 'competing', 'bigger', 'powers', 'regain', 'collective', 'strength', 'common', 'sense', 'control', 'destiny', 'networks', 'test', 'huawei', 'technological', 'lead', 'strong', 'doubts', 'persist', 'security', 'european', 'alternatives', 'german', 'center', 'politician', 'norbert', 'tgen', 'twitter', 'europe', 'technological', 'capabilities', 'actor', 'expensive', 'political', 'question', 'seize', 'opportunity', 'pass', 'role', 'europe', 'play', 'march', 'france', 'president', 'emmanuel', 'macron', 'issued', 'solemn', 'call', 'european', 'renaissance', 'published', 'europe', 'europe', 'economic', 'market', 'project', 'wrote', 'adding', 'european', 'civilization', 'unites', 'frees', 'protects', 'understated', 'reaction', 'titled', 'europe', 'annegret', 'kramp', 'karrenbauer', 'germany', 'leader', 'conservative', 'christian', 'democratic', 'union', 'set', 'vision', 'contrast', 'called', 'status', 'quo', 'vision', 'versus', 'strategic', 'vision', 'lack', 'accord', 'close', 'major', 'european', 'nations', 'extent', 'challenge', 'china', 'finally', 'ready', 'moved', 'sense', 'urgency', 'counter', 'chinese', 'divisive', 'strategy', 'president', 'macron', 'invited', 'germany', 'chancellor', 'angela', 'merkel', 'president', 'european', 'union', 'executive', 'arm', 'join', 'originally', 'planned', 'bilateral', 'meeting', 'president', 'xi', 'tuesday', 'paris', 'european', 'leaders', 'continent', 'defender', 'democracy', 'multilateralism', 'ready', 'unite', 'fight'], ['rocket', 'launched', 'gaza', 'struck', 'house', 'central', 'israel', 'monday', 'injuring', 'people', 'setting', 'air', 'raid', 'sirens', 'country', 'forcing', 'prime', 'minister', 'benjamin', 'netanyahu', 'cut', 'short', 'visit', 'united', 'rocket', 'hit', 'israeli', 'monday', 'israel', 'defense', 'forces', 'twitter', 'reporters', 'israeli', 'news', 'outlets', 'tweeted', 'monday', 'rocket', 'hit', 'civilian', 'injuring', 'people', 'including', 'children', 'magen', 'david', 'adom', 'israeli', 'rescue', 'service', 'twitter', 'post', 'treating', 'victims', 'woman', 'moderately', 'wounded', 'attack', 'injured', 'claim', 'responsibility', 'attack', 'hit', 'kfar', 'saba', 'region', 'north', 'tel', 'aviv', 'jerusalem', 'post', 'apparent', 'rocket', 'attack', 'weeks', 'israel', 'hamas', 'de', 'escalate', 'tensions', 'rockets', 'gaza', 'fired', 'tel', 'aviv', 'hamas', 'islamic', 'militant', 'seeks', 'israel', 'destruction', 'gaza', 'possess', 'rockets', 'range', 'capable', 'reaching', 'tel', 'aviv', 'surrounding', 'islamic', 'jihad', 'shares', 'ideology', 'sunday', 'israel', 'defense', 'forces', 'explosives', 'hurled', 'riots', 'gaza', 'israeli', 'border', 'israel', 'struck', 'hamas', 'posts', 'response', 'washington', 'week', 'netanyahu', 'expected', 'meet', 'president', 'trump', 'address', 'policy', 'conference', 'organized', 'american', 'israel', 'public', 'affairs', 'committee', 'aipac', 'benny', 'gantz', 'star', 'netanyahu', 'chief', 'opponent', 'upcoming', 'election', 'called', 'monday', 'prime', 'minister', 'return', 'deal', 'aftermath', 'attack', 'reality', 'hamas', 'israel', 'hostage', 'unprecedented', 'unfathomable', 'gantz', 'wrote', 'twitter', 'netanyahu', 'pack', 'return', 'israel', 'handle', 'escalation', 'prime', 'minister', 'office', 'monday', 'netanyahu', 'cut', 'short', 'visitafter', 'meets', 'president', 'trump', 'local', 'news', 'media', 'press'], ['southern', 'promises', 'actors', 'gather', 'flea', 'theater', 'stage', 'deliver', 'preliminary', 'remarks', 'underlining', 'cast', 'people', 'color', 'integral', 'niegel', 'smith', 'revival', 'thomas', 'bradshaw', 'drama', 'set', 'plantation', 'virginia', 'masters', 'sexes', 'graphically', 'rape', 'slaves', 'sexes', 'brutal', 'violence', 'abounds', 'suggested', 'word', 'thrown', 'casual', 'abandon', 'text', 'includes', 'excerpts', 'real', 'slave', 'narratives', 'evening', 'circling', 'introductory', 'actors', 'mixed', 'heritage', 'slave', 'owner', 'slave', 'adam', 'coy', 'character', 'characters', 'ancestors', 'complicates', 'story', 'straightforward', 'horror', 'married', 'isaiah', 'elizabeth', 'darby', 'davis', 'brittany', 'zaken', 'couple', 'benjamin', 'charlotte', 'shakur', 'tolliver', 'yvonne', 'jessica', 'pruitt', 'isaiah', 'informing', 'wife', 'benjamin', 'slaves', 'freed', 'death', 'elizabeth', 'reneges', 'pledge', 'encouraged', 'brother', 'john', 'marcus', 'jones', 'widow', 'eventually', 'marries', 'isaiah', 'brother', 'david', 'jahsiah', 'rivera', 'forcing', 'benjamin', 'sexually', 'service', 'life', 'remains', 'peachy', 'dominant', 'equation', 'elizabeth', 'birth', 'black', 'baby', 'par', 'bradshaw', 'soap', 'opera', 'plots', 'hinge', 'taboo', 'sexuality', 'depicted', 'matter', 'graphic', 'detachment', 'feel', 'farcical', 'intimacy', 'instance', 'featured', 'teenage', 'porn', 'star', 'realistic', 'ejaculation', 'characters', 'burning', 'included', 'incestuous', 'neo', 'nazi', 'siblings', 'canoodling', 'bathtub', 'bradshaw', 'incidentally', 'views', 'reality', 'hyper', 'reality', 'reality', 'southern', 'promises', 'displays', 'bradshaw', 'signature', 'dispassionate', 'mechanical', 'approach', 'notable', 'productions', 'dealing', 'slavery', 'suzan', 'lori', 'parks', 'white', 'noise', 'jeremy', 'harris', 'slave', 'play', 'blurs', 'deliberate', 'artlessness', 'accidental', 'ineptness', 'degree', 'hard', 'dialogue', 'meant', 'bland', 'clunky', 'read', 'jason', 'sherwood', 'set', 'sneaky', 'comment', 'writing', 'style', 'backdrop', 'black', 'white', 'photograph', 'plantation', 'facade', 'cantilevered', 'looms', 'playing', 'surface', 'depth', 'interior', 'shortchanging', 'bradshaw', 'rounded', 'characters', 'isn', 'complex', 'psychologizing', 'people', 'onstage', 'sense', 'david', 'instance', 'starts', 'decent', 'guy', 'free', 'isaiah', 'slaves', 'abruptly', 'explanation', 'violent', 'sleazeball', 'rivera', 'borderline', 'cartoonish', 'performance', 'actors', 'pulled', 'flea', 'house', 'company', 'bats', 'ill', 'equipped', 'handle', 'play', 'tricky', 'tone', 'bradshaw', 'flatness', 'free', 'judgment', 'characters', 'audience', 'easy', 'narrative', 'devices', 'theatergoers', 'distancing', 'mechanism', 'watching', 'benjamin', 'fantasizes', 'lording', 'slave', 'scene', 'plainly', 'moments', 'feel', 'impact', 'casting', 'forces', 'audience', 'reflect', 'issues', 'responsibility', 'power', 'bradshaw', 'circles', 'scene', 'drastically', 'changed', 'original', 'version', 'benjamin', 'managed', 'escape', 'plantation', 'mailed', 'philadelphia', 'box', 'happen', 'finale', 'bradshaw', 'twist', 'tale', 'idea', 'happy', 'raise', 'eyebrows', 'southern', 'promises', 'april', 'flea', 'theater', 'manhattan', 'theflea', 'org', 'running', 'time', 'hour', 'minutes'], ['university', 'georgia', 'students', 'expelled', 'fraternity', 'saturday', 'video', 'surfaced', 'students', 'mock', 'whipping', 'motion', 'belt', 'shouted', 'pick', 'cotton', 'video', 'initially', 'posted', 'snapchat', 'reposted', 'twitter', 'white', 'students', 'bed', 'standing', 'student', 'covered', 'comforter', 'holds', 'belt', 'students', 'pick', 'cotton', 'responds', 'black', 'repeatedly', 'pick', 'cotton', 'whipping', 'motion', 'belt', 'student', 'wait', 'video', 'pick', 'cotton', 'racial', 'slur', 'students', 'start', 'laughing', 'video', 'university', 'georgia', 'condemned', 'video', 'racism', 'campus', 'university', 'athens', 'miles', 'east', 'atlanta', 'time', 'equivalent', 'students', 'percent', 'white', 'memo', 'gregory', 'roskopf', 'chief', 'risk', 'officer', 'fraternity', 'tau', 'kappa', 'epsilon', 'local', 'chapter', 'temporarily', 'suspended', 'news', 'release', 'fraternity', 'disgusted', 'appalled', 'angered', 'remarks', 'video', 'expelled', 'video', 'shot', 'setting', 'unconnected', 'fraternity', 'function', 'chapter', 'premises', 'statements', 'expulsion', 'students', 'fraternity', 'tau', 'kappa', 'epsilon', 'temporary', 'suspension', 'local', 'chapter', 'quell', 'concerns', 'black', 'students', 'unfathomable', 'stuff', 'school', 'learn', 'attend', 'obinna', 'ibebunjo', 'senior', 'extremely', 'outraged', 'offended', 'ignorance', 'modern', 'day', 'college', 'campus', 'ibebunjo', 'omega', 'psi', 'phi', 'fraternity', 'historically', 'black', 'fraternity', 'suspended', 'fraternity', 'reprimanded', 'school', 'slap', 'wrist', 'colleges', 'moving', 'liberal', 'progressive', 'record', 'post', 'extremely', 'ridiculous', 'ibebunjo', 'hard', 'change', 'culture', 'campus', 'student', 'halls', 'named', 'slave', 'owners', 'richard', 'brevard', 'russell', 'junior', 'hall', 'named', 'slave', 'owner', 'ibebunjo', 'pretty', 'outspoken', 'leader', 'civil', 'rights', 'movement', 'underlined', 'messages', 'uga', 'black', 'students', 'raise', 'awareness', 'create', 'inclusive', 'campus']]\n"
     ]
    }
   ],
   "source": [
    "len(text_words)\n",
    "print(text_words[:5])"
   ]
  },
  {
   "cell_type": "code",
   "execution_count": 73,
   "metadata": {},
   "outputs": [],
   "source": [
    "#处理标题文本\n",
    "df['title'] = df['title'].astype(str)\n",
    "title_sents = df['title']\n",
    "title_words=[cleanlines(sent,remove_stopwords=True) for sent in title_sents]"
   ]
  },
  {
   "cell_type": "code",
   "execution_count": 74,
   "metadata": {},
   "outputs": [],
   "source": [
    "#讲内容和标题连接在一起\n",
    "def concat_text(text_words,title_words):\n",
    "    concat_text = []\n",
    "    for i in range(len(text_words)):\n",
    "        temp = text_words[i]+title_words[i]\n",
    "        concat_text.append(temp)\n",
    "    return concat_text\n",
    "\n",
    "concat_text = concat_text(text_words,title_words)\n",
    "        "
   ]
  },
  {
   "cell_type": "code",
   "execution_count": 75,
   "metadata": {},
   "outputs": [
    {
     "data": {
      "text/plain": [
       "439"
      ]
     },
     "execution_count": 75,
     "metadata": {},
     "output_type": "execute_result"
    }
   ],
   "source": [
    "\n",
    "len(concat_text)"
   ]
  },
  {
   "cell_type": "markdown",
   "metadata": {},
   "source": [
    "*build dict*"
   ]
  },
  {
   "cell_type": "code",
   "execution_count": 76,
   "metadata": {},
   "outputs": [],
   "source": [
    "# set parameters:\n",
    "#字典大小\n",
    "vocab_size = 5000 #dict size\n",
    "batch_size = 200 #batch size for each training\n",
    "sequence_length = 300 #sequence length -same for every sample\n",
    "embedding_dims=128 #embed dim"
   ]
  },
  {
   "cell_type": "code",
   "execution_count": 77,
   "metadata": {},
   "outputs": [],
   "source": [
    "#build dic\n",
    "def build_vocab(content_list,vocab_size):\n",
    "    vocab_size = vocab_size\n",
    "    all_vocabs = []\n",
    "    for content in content_list:\n",
    "        all_vocabs.extend(list(content))\n",
    "    #{word:counts}\n",
    "    counter = Counter(all_vocabs)\n",
    "    #take the most common top 4999\n",
    "    count_pairs = counter.most_common(vocab_size - 1)  #return pairs\n",
    "    words, _ = list(zip(*count_pairs))    #ignore the counts\n",
    "    words = ['<PAD>'] + list(words)  #防止样本数太小 填充为0 \n",
    "    word_to_id = dict(zip(words, range(len(words))))  #change pos to 编号 number\n",
    "    return words, word_to_id"
   ]
  },
  {
   "cell_type": "code",
   "execution_count": 78,
   "metadata": {},
   "outputs": [
    {
     "name": "stdout",
     "output_type": "stream",
     "text": [
      "{'<PAD>': 0, 'trump': 1, 'clinton': 2, 'president': 3, 'people': 4, 'hillary': 5, 'donald': 6, 'obama': 7, 'campaign': 8, 'debate': 9, 'time': 10, 'american': 11, 'police': 12, 'don': 13, 'news': 14, 'country': 15, 'told': 16, 'story': 17, 'white': 18, 'presidential': 19, 'york': 20, 'house': 21, 'america': 22, 'republican': 23, 'united': 24, 'black': 25, 'election': 26, 'bill': 27, 'law': 28, 'political': 29, 'justice': 30, 'day': 31, 'americans': 32, 'john': 33, 'government': 34, 'war': 35, 'didn': 36, 'called': 37, 'monday': 38, 'public': 39, 'washington': 40, 'life': 41, 'candidate': 42, 've': 43, 'media': 44, 'democrats': 45, 'women': 46, 'cnn': 47, 'party': 48, 'night': 49, 'office': 50, 'family': 51, 'voters': 52, 'russia': 53, 'support': 54, 'national': 55, 'nan': 56, 'week': 57, 'democratic': 58, 'north': 59, 'twitter': 60, 'report': 61, 'september': 62, 'foundation': 63, 'investigation': 64, 'department': 65, 'federal': 66, 'city': 67, 'nominee': 68, 'policy': 69, 'vote': 70, 'money': 71, 'doesn': 72, 'foreign': 73, 'percent': 74, 'including': 75, 'continued': 76, 'times': 77, 'court': 78, 'video': 79, 'mueller': 80, 'officials': 81, 'charlotte': 82, 'republicans': 83, 'matter': 84, 'statement': 85, 'days': 86, 'russian': 87, 'security': 88, 'race': 89, 'evidence': 90, 'real': 91, 'press': 92, 'read': 93, 'south': 94, 'person': 95, 'history': 96, 'military': 97, 'senate': 98, 'fox': 99, 'question': 100, 'll': 101, 'officers': 102, 'interview': 103, 'morning': 104, 'terrorism': 105, 'islamic': 106, 'tuesday': 107, 'administration': 108, 'post': 109, 'won': 110, 'business': 111, 'fbi': 112, 'nation': 113, 'adults': 114, 'secretary': 115, 'attacks': 116, 'muslim': 117, 'attack': 118, 'facebook': 119, 'african': 120, 'deal': 121, 'shot': 122, 'lives': 123, 'share': 124, 'poll': 125, 'hawkins': 126, 'local': 127, 'issue': 128, 'candidates': 129, 'isis': 130, 'carolina': 131, 'short': 132, 'bush': 133, 'virginia': 134, 'months': 135, 'top': 136, 'voting': 137, 'left': 138, 'children': 139, 'death': 140, 'special': 141, 'korea': 142, 'rights': 143, 'decision': 144, 'friends': 145, 'congress': 146, 'speech': 147, 'change': 148, 'health': 149, 'cruz': 150, 'leader': 151, 'control': 152, 'start': 153, 'debates': 154, 'lot': 155, 'drugs': 156, 'wednesday': 157, 'china': 158, 'company': 159, 'chief': 160, 'earlier': 161, 'barr': 162, 'job': 163, 'terrorist': 164, 'barack': 165, 'month': 166, 'anti': 167, 'attorney': 168, 'tax': 169, 'power': 170, 'wrote': 171, 'violence': 172, 'hard': 173, 'questions': 174, 'crime': 175, 'countries': 176, 'university': 177, 'school': 178, 'taxes': 179, 'rahami': 180, 'woman': 181, 'set': 182, 'isn': 183, 'issues': 184, 'released': 185, 'gop': 186, 'call': 187, 'private': 188, 'bring': 189, 'started': 190, 'fight': 191, 'sunday': 192, 'committee': 193, 'talking': 194, 'care': 195, 'live': 196, 'scott': 197, 'watch': 198, 'west': 199, 'international': 200, 'wrong': 201, 'running': 202, 'minutes': 203, 'democrat': 204, 'comments': 205, 'reported': 206, 'bad': 207, 'ryan': 208, 'jersey': 209, 'leaders': 210, 'daily': 211, 'conference': 212, 'enforcement': 213, 'friday': 214, 'florida': 215, 'god': 216, 'economic': 217, 'lead': 218, 'major': 219, 'release': 220, 'lost': 221, 'director': 222, 'plan': 223, 'governor': 224, 'millions': 225, 'buchanan': 226, 'guy': 227, 'idea': 228, 'civil': 229, 'talk': 230, 'congressional': 231, 'head': 232, 'terrorists': 233, 'defense': 234, 'meeting': 235, 'shares': 236, 'free': 237, 'wasn': 238, 'reason': 239, 'ago': 240, 'counsel': 241, 'stage': 242, 'nuclear': 243, 'reporters': 244, 'sense': 245, 'wife': 246, 'ms': 247, 'senator': 248, 'judge': 249, 'stand': 250, 'community': 251, 'authors': 252, 'pay': 253, 'holt': 254, 'team': 255, 'presidency': 256, 'shooting': 257, 'message': 258, 'county': 259, 'action': 260, 'personal': 261, 'racist': 262, 'met': 263, 'win': 264, 'muslims': 265, 'official': 266, 'feel': 267, 'supporters': 268, 'move': 269, 'play': 270, 'march': 271, 'middle': 272, 'criminal': 273, 'happened': 274, 'politics': 275, 'continue': 276, 'heard': 277, 'peace': 278, 'reports': 279, 'weeks': 280, 'response': 281, 'spent': 282, 'legal': 283, 'force': 284, 'carter': 285, 'father': 286, 'freedom': 287, 'officer': 288, 'record': 289, 'prosecutors': 290, 'hiv': 291, 'based': 292, 'benefit': 293, 'rest': 294, 'calling': 295, 'held': 296, 'breaking': 297, 'terror': 298, 'rich': 299, 'truth': 300, 'social': 301, 'leave': 302, 'service': 303, 'audience': 304, 'book': 305, 'system': 306, 'district': 307, 'november': 308, 'lies': 309, 'threat': 310, 'polls': 311, 'worst': 312, 'answer': 313, 'economy': 314, 'article': 315, 'claims': 316, 'abc': 317, 'refugees': 318, 'half': 319, 'expressed': 320, 'senior': 321, 'nations': 322, 'true': 323, 'late': 324, 'robert': 325, 'car': 326, 'energy': 327, 'coming': 328, 'iraq': 329, 'victims': 330, 'word': 331, 'event': 332, 'trial': 333, 'photo': 334, 'attention': 335, 'opinion': 336, 'global': 337, 'image': 338, 'hit': 339, 'role': 340, 'understand': 341, 'southern': 342, 'passed': 343, 'syria': 344, 'views': 345, 'position': 346, 'charges': 347, 'lie': 348, 'moment': 349, 'abortion': 350, 'mail': 351, 'human': 352, 'organization': 353, 'claim': 354, 'thousands': 355, 'plans': 356, 'george': 357, 'families': 358, 'http': 359, 'nbc': 360, 'center': 361, 'union': 362, 'speaking': 363, 'actions': 364, 'front': 365, 'couldn': 366, 'brought': 367, 'syrian': 368, 'votes': 369, 'saudi': 370, 'led': 371, 'saturday': 372, 'suggested': 373, 'buy': 374, 'body': 375, 'wall': 376, 'email': 377, 'calls': 378, 'paid': 379, 'mayor': 380, 'putin': 381, 'texas': 382, 'paul': 383, 'king': 384, 'european': 385, 'chinese': 386, 'pence': 387, 'israel': 388, 'comment': 389, 'chance': 390, 'letter': 391, 'staff': 392, 'shared': 393, 'crisis': 394, 'announced': 395, 'source': 396, 'dead': 397, 'funding': 398, 'sept': 399, 'moderator': 400, 'ranbaxy': 401, 'europe': 402, 'close': 403, 'mark': 404, 'laws': 405, 'executive': 406, 'racism': 407, 'died': 408, 'aides': 409, 'protest': 410, 'allowed': 411, 'fear': 412, 'program': 413, 'town': 414, 'trade': 415, 'conservative': 416, 'david': 417, 'water': 418, 'thursday': 419, 'lawyer': 420, 'effort': 421, 'simply': 422, 'efforts': 423, 'crimes': 424, 'street': 425, 'protesters': 426, 'paying': 427, 'hold': 428, 'johnson': 429, 'getty': 430, 'check': 431, 'birth': 432, 'process': 433, 'strong': 434, 'border': 435, 'return': 436, 'murder': 437, 'appeared': 438, 'claimed': 439, 'hand': 440, 'list': 441, 'bit': 442, 'future': 443, 'killed': 444, 'authorities': 445, 'born': 446, 'lawsuit': 447, 'citizens': 448, 'violent': 449, 'decided': 450, 'potential': 451, 'secret': 452, 'parents': 453, 'july': 454, 'forward': 455, 'chelsea': 456, 'liberals': 457, 'error': 458, 'sen': 459, 'moscow': 460, 'writing': 461, 'statements': 462, 'liberal': 463, 'telling': 464, 'james': 465, 'respect': 466, 'weekend': 467, 'hours': 468, 'hope': 469, 'low': 470, 'gun': 471, 'child': 472, 'ban': 473, 'weapons': 474, 'couple': 475, 'involved': 476, 'opportunity': 477, 'lack': 478, 'netanyahu': 479, 'college': 480, 'movement': 481, 'view': 482, 'mind': 483, 'ahead': 484, 'wouldn': 485, 'experience': 486, 'false': 487, 'filled': 488, 'obstruction': 489, 'michael': 490, 'key': 491, 'elected': 492, 'illegal': 493, 'speak': 494, 'entire': 495, 'investigations': 496, 'church': 497, 'love': 498, 'spokesman': 499, 'rep': 500, 'protect': 501, 'lifetime': 502, 'events': 503, 'ap': 504, 'kallstadt': 505, 'frisk': 506, 'reporter': 507, 'study': 508, 'minister': 509, 'common': 510, 'air': 511, 'tweeted': 512, 'manhattan': 513, 'documents': 514, 'comey': 515, 'single': 516, 'access': 517, 'businesses': 518, 'measure': 519, 'legislation': 520, 'majority': 521, 'term': 522, 'commission': 523, 'advice': 524, 'kennedy': 525, 'politico': 526, 'believes': 527, 'oct': 528, 'pennsylvania': 529, 'address': 530, 'supreme': 531, 'raised': 532, 'constitutional': 533, 'suspect': 534, 'newly': 535, 'final': 536, 'emails': 537, 'mcconnell': 538, 'step': 539, 'gay': 540, 'game': 541, 'caught': 542, 'reagan': 543, 'aids': 544, 'watched': 545, 'confederate': 546, 'pic': 547, 'author': 548, 'highlights': 549, 'vice': 550, 'companies': 551, 'christian': 552, 'finally': 553, 'forces': 554, 'remarks': 555, 'featured': 556, 'supposed': 557, 'relationship': 558, 'forced': 559, 'ties': 560, 'speaker': 561, 'hear': 562, 'offered': 563, 'charity': 564, 'spoke': 565, 'level': 566, 'spending': 567, 'add': 568, 'joe': 569, 'lester': 570, 'focus': 571, 'affairs': 572, 'protests': 573, 'intelligence': 574, 'injured': 575, 'students': 576, 'repeatedly': 577, 'racial': 578, 'lawyers': 579, 'attacked': 580, 'internet': 581, 'fire': 582, 'conway': 583, 'billion': 584, 'current': 585, 'property': 586, 'agents': 587, 'aid': 588, 'al': 589, 'result': 590, 'received': 591, 'lady': 592, 'cover': 593, 'living': 594, 'keith': 595, 'ahmad': 596, 'chai': 597, 'wildstein': 598, 'hundreds': 599, 'germany': 600, 'meetings': 601, 'test': 602, 'pass': 603, 'eventually': 604, 'watching': 605, 'moments': 606, 'happy': 607, 'pretty': 608, 'serve': 609, 'chairman': 610, 'amount': 611, 'committed': 612, 'constitution': 613, 'authority': 614, 'prove': 615, 'failed': 616, 'financial': 617, 'television': 618, 'push': 619, 'ground': 620, 'records': 621, 'hate': 622, 'critical': 623, 'continues': 624, 'cohen': 625, 'jobs': 626, 'talked': 627, 'chicago': 628, 'bomb': 629, 'sources': 630, 'choice': 631, 'society': 632, 'ohio': 633, 'returns': 634, 'popular': 635, 'road': 636, 'prime': 637, 'ready': 638, 'impact': 639, 'incident': 640, 'building': 641, 'worse': 642, 'lying': 643, 'prevent': 644, 'faith': 645, 'islam': 646, 'age': 647, 'massive': 648, 'situation': 649, 'arrested': 650, 'refused': 651, 'tonight': 652, 'lessons': 653, 'red': 654, 'sanctions': 655, 'warned': 656, 'adding': 657, 'fired': 658, 'reality': 659, 'east': 660, 'decades': 661, 'mother': 662, 'lawmakers': 663, 'endorsed': 664, 'minute': 665, 'takes': 666, 'policies': 667, 'rally': 668, 'helped': 669, 'leading': 670, 'huge': 671, 'patients': 672, 'schumer': 673, 'rule': 674, 'largest': 675, 'remember': 676, 'completely': 677, 'august': 678, 'amendment': 679, 'inside': 680, 'christie': 681, 'tv': 682, 'series': 683, 'medical': 684, 'drug': 685, 'residents': 686, 'concerns': 687, 'images': 688, 'written': 689, 'adviser': 690, 'aide': 691, 'hospital': 692, 'dollars': 693, 'attempted': 694, 'charge': 695, 'attempt': 696, 'jr': 697, 'deep': 698, 'ted': 699, 'leadership': 700, 'appears': 701, 'western': 702, 'provide': 703, 'st': 704, 'looked': 705, 'filed': 706, 'sex': 707, 'kelly': 708, 'values': 709, 'gov': 710, 'primary': 711, 'space': 712, 'coal': 713, 'electoral': 714, 'meant': 715, 'mike': 716, 'troops': 717, 'expected': 718, 'included': 719, 'hour': 720, 'accused': 721, 'communities': 722, 'june': 723, 'firm': 724, 'details': 725, 'responded': 726, 'biggest': 727, 'multiple': 728, 'charged': 729, 'powerful': 730, 'birther': 731, 'bank': 732, 'cities': 733, 'argued': 734, 'immigration': 735, 'starting': 736, 'shouldn': 737, 'sir': 738, 'mexico': 739, 'board': 740, 'gleaned': 741, 'flint': 742, 'fighting': 743, 'project': 744, 'allies': 745, 'battle': 746, 'cut': 747, 'strategy': 748, 'responsibility': 749, 'minority': 750, 'intent': 751, 'thinking': 752, 'difficult': 753, 'guilty': 754, 'total': 755, 'deeply': 756, 'growing': 757, 'send': 758, 'drew': 759, 'indian': 760, 'employees': 761, 'defend': 762, 'conspiracy': 763, 'difference': 764, 'directly': 765, 'discrimination': 766, 'lose': 767, 'hands': 768, 'immigrants': 769, 'discovered': 770, 'manager': 771, 'tweet': 772, 'dangerous': 773, 'mccain': 774, 'citizenship': 775, 'door': 776, 'certificate': 777, 'advantage': 778, 'minted': 779, 'digestible': 780, 'chapters': 781, 'friedrich': 782, 'saudis': 783, 'market': 784, 'parties': 785, 'kremlin': 786, 'language': 787, 'heart': 788, 'piece': 789, 'issued': 790, 'evening': 791, 'slavery': 792, 'training': 793, 'worth': 794, 'experts': 795, 'served': 796, 'investigators': 797, 'concluded': 798, 'scandal': 799, 'considered': 800, 'sexual': 801, 'armed': 802, 'server': 803, 'voice': 804, 'afghanistan': 805, 'africa': 806, 'network': 807, 'scheduled': 808, 'solely': 809, 'wins': 810, 'pressure': 811, 'eyes': 812, 'poor': 813, 'cuban': 814, 'ballot': 815, 'october': 816, 'arabia': 817, 'class': 818, 'screen': 819, 'meet': 820, 'star': 821, 'opponent': 822, 'cast': 823, 'color': 824, 'rape': 825, 'remains': 826, 'student': 827, 'hurt': 828, 'site': 829, 'lewis': 830, 'ultimately': 831, 'sought': 832, 'ideas': 833, 'daughter': 834, 'broke': 835, 'favor': 836, 'reach': 837, 'main': 838, 'sign': 839, 'afternoon': 840, 'son': 841, 'emergency': 842, 'stories': 843, 'food': 844, 'demanding': 845, 'pro': 846, 'safety': 847, 'hasn': 848, 'haven': 849, 'bombing': 850, 'concern': 851, 'explained': 852, 'prison': 853, 'sort': 854, 'owned': 855, 'politicians': 856, 'kids': 857, 'religion': 858, 'type': 859, 'offer': 860, 'website': 861, 'kill': 862, 'monuments': 863, 'mails': 864, 'biden': 865, 'caused': 866, 'includes': 867, 'progress': 868, 'named': 869, 'declared': 870, 'note': 871, 'william': 872, 'sitting': 873, 'practice': 874, 'doubt': 875, 'elections': 876, 'complete': 877, 'agree': 878, 'land': 879, 'approved': 880, 'wikileaks': 881, 'matters': 882, 'minnesota': 883, 'voted': 884, 'absolutely': 885, 'controlled': 886, 'criticism': 887, 'radical': 888, 'focused': 889, 'alleged': 890, 'schools': 891, 'travel': 892, 'terms': 893, 'kerry': 894, 'created': 895, 'claiming': 896, 'citizen': 897, 'hollywood': 898, 'ad': 899, 'host': 900, 'tough': 901, 'eye': 902, 'fair': 903, 'steve': 904, 'dnc': 905, 'chris': 906, 'winning': 907, 'hofstra': 908, 'battleground': 909, 'romney': 910, 'eaglerising': 911, 'visit': 912, 'increase': 913, 'wake': 914, 'german': 915, 'moved': 916, 'deliver': 917, 'slaves': 918, 'slave': 919, 'scene': 920, 'posted': 921, 'standing': 922, 'hall': 923, 'hotel': 924, 'profiling': 925, 'innocent': 926, 'seek': 927, 'concerned': 928, 'victory': 929, 'reasons': 930, 'hoping': 931, 'approval': 932, 'dollar': 933, 'reporting': 934, 'council': 935, 'responsible': 936, 'additional': 937, 'estate': 938, 'aware': 939, 'impeachment': 940, 'california': 941, 'agreed': 942, 'impeach': 943, 'opposition': 944, 'education': 945, 'bombings': 946, 'light': 947, 'standard': 948, 'fund': 949, 'legacy': 950, 'apartment': 951, 'boy': 952, 'mainstream': 953, 'brown': 954, 'giuliani': 955, 'veterans': 956, 'michelle': 957, 'straight': 958, 'peaceful': 959, 'excuse': 960, 'protection': 961, 'controversial': 962, 'victim': 963, 'marijuana': 964, 'winner': 965, 'arms': 966, 'convention': 967, 'smart': 968, 'double': 969, 'veto': 970, 'viewers': 971, 'friend': 972, 'version': 973, 'closed': 974, 'central': 975, 'baby': 976, 'happen': 977, 'wait': 978, 'learn': 979, 'culture': 980, 'signed': 981, 'believed': 982, 'treated': 983, 'witnesses': 984, 'blood': 985, 'husband': 986, 'sound': 987, 'reached': 988, 'deputy': 989, 'army': 990, 'corruption': 991, 'basic': 992, 'agenda': 993, 'decade': 994, 'investigating': 995, 'killing': 996, 'loss': 997, 'visited': 998, 'art': 999, 'pelosi': 1000, 'individuals': 1001, 'criticized': 1002, 'ability': 1003, 'religious': 1004, 'sentence': 1005, 'wang': 1006, 'promised': 1007, 'direction': 1008, 'successful': 1009, 'granted': 1010, 'sick': 1011, 'refugee': 1012, 'spend': 1013, 'safe': 1014, 'shut': 1015, 'charitable': 1016, 'lee': 1017, 'revealed': 1018, 'stated': 1019, 'hell': 1020, 'trust': 1021, 'terrible': 1022, 'partner': 1023, 'agency': 1024, 'period': 1025, 'lynch': 1026, 'absentee': 1027, 'kaine': 1028, 'played': 1029, 'rate': 1030, 'rise': 1031, 'imagine': 1032, 'fake': 1033, 'february': 1034, 'richard': 1035, 'chaos': 1036, 'accept': 1037, 'elizabeth': 1038, 'playing': 1039, 'extremely': 1040, 'nice': 1041, 'representative': 1042, 'account': 1043, 'prominent': 1044, 'sanders': 1045, 'holding': 1046, 'correct': 1047, 'crowd': 1048, 'resources': 1049, 'floor': 1050, 'gain': 1051, 'agreement': 1052, 'michigan': 1053, 'traditional': 1054, 'require': 1055, 'december': 1056, 'learned': 1057, 'individual': 1058, 'artists': 1059, 'block': 1060, 'fall': 1061, 'dr': 1062, 'purpose': 1063, 'highly': 1064, 'guys': 1065, 'leads': 1066, 'rules': 1067, 'arizona': 1068, 'gas': 1069, 'jim': 1070, 'personally': 1071, 'thompson': 1072, 'journalists': 1073, 'employee': 1074, 'monument': 1075, 'seth': 1076, 'wheeler': 1077, 'staffer': 1078, 'wars': 1079, 'cops': 1080, 'peter': 1081, 'khan': 1082, 'wendel': 1083, 'arpaio': 1084, 'nelson': 1085, 'coverage': 1086, 'normal': 1087, 'politician': 1088, 'reaction': 1089, 'join': 1090, 'trip': 1091, 'thomas': 1092, 'pulled': 1093, 'bed': 1094, 'base': 1095, 'profile': 1096, 'path': 1097, 'acting': 1098, 'doctor': 1099, 'simple': 1100, 'corrupt': 1101, 'explain': 1102, 'direct': 1103, 'admitted': 1104, 'acknowledged': 1105, 'cloud': 1106, 'january': 1107, 'assault': 1108, 'wearing': 1109, 'kitchen': 1110, 'condition': 1111, 'jail': 1112, 'leaving': 1113, 'weapon': 1114, 'request': 1115, 'eastern': 1116, 'increased': 1117, 'domestic': 1118, 'form': 1119, 'continuing': 1120, 'services': 1121, 'enter': 1122, 'subject': 1123, 'success': 1124, 'income': 1125, 'happening': 1126, 'loved': 1127, 'bringing': 1128, 'lincoln': 1129, 'ceo': 1130, 'photos': 1131, 'ass': 1132, 'destroy': 1133, 'voter': 1134, 'louisiana': 1135, 'promise': 1136, 'https': 1137, 'danger': 1138, 'merrill': 1139, 'gore': 1140, 'northern': 1141, 'build': 1142, 'strength': 1143, 'wounded': 1144, 'de': 1145, 'promises': 1146, 'brother': 1147, 'jason': 1148, 'style': 1149, 'changed': 1150, 'covered': 1151, 'stuff': 1152, 'create': 1153, 'trail': 1154, 'reading': 1155, 'park': 1156, 'music': 1157, 'conduct': 1158, 'facing': 1159, 'appearance': 1160, 'confirmed': 1161, 'conflict': 1162, 'wing': 1163, 'club': 1164, 'phone': 1165, 'previous': 1166, 'fast': 1167, 'videos': 1168, 'built': 1169, 'offers': 1170, 'required': 1171, 'identified': 1172, 'shortly': 1173, 'dozen': 1174, 'prepared': 1175, 'opposed': 1176, 'driving': 1177, 'reid': 1178, 'disgusting': 1179, 'fellow': 1180, 'homeland': 1181, 'attacking': 1182, 'lines': 1183, 'surely': 1184, 'expect': 1185, 'nato': 1186, 'custody': 1187, 'organizations': 1188, 'honor': 1189, 'figure': 1190, 'write': 1191, 'universe': 1192, 'hampshire': 1193, 'checking': 1194, 'picture': 1195, 'possibility': 1196, 'stopped': 1197, 'reportedly': 1198, 'australia': 1199, 'blame': 1200, 'allegedly': 1201, 'burks': 1202, 'streets': 1203, 'mass': 1204, 'shootings': 1205, 'lgbt': 1206, 'josh': 1207, 'riot': 1208, 'provided': 1209, 'approach': 1210, 'setting': 1211, 'threats': 1212, 'powers': 1213, 'published': 1214, 'struck': 1215, 'smith': 1216, 'dealing': 1217, 'ill': 1218, 'original': 1219, 'raise': 1220, 'april': 1221, 'moving': 1222, 'miller': 1223, 'search': 1224, 'denied': 1225, 'disabilities': 1226, 'ruled': 1227, 'egypt': 1228, 'cost': 1229, 'insisted': 1230, 'decisions': 1231, 'honest': 1232, 'serving': 1233, 'addition': 1234, 'tower': 1235, 'hopes': 1236, 'budget': 1237, 'helping': 1238, 'influence': 1239, 'ensure': 1240, 'discussed': 1241, 'industry': 1242, 'benefits': 1243, 'jeff': 1244, 'tim': 1245, 'receive': 1246, 'grow': 1247, 'cash': 1248, 'returned': 1249, 'institute': 1250, 'carry': 1251, 'connection': 1252, 'follow': 1253, 'seeking': 1254, 'mention': 1255, 'sad': 1256, 'journalism': 1257, 'fine': 1258, 'supporting': 1259, 'nov': 1260, 'girl': 1261, 'unclear': 1262, 'podesta': 1263, 'cole': 1264, 'shocked': 1265, 'appeal': 1266, 'cbs': 1267, 'famous': 1268, 'guess': 1269, 'veteran': 1270, 'items': 1271, 'cold': 1272, 'resign': 1273, 'beat': 1274, 'design': 1275, 'waiting': 1276, 'walter': 1277, 'proposed': 1278, 'replied': 1279, 'exchange': 1280, 'stands': 1281, 'agent': 1282, 'clintons': 1283, 'stood': 1284, 'sounds': 1285, 'informed': 1286, 'rubio': 1287, 'exist': 1288, 'bias': 1289, 'protecting': 1290, 'unfair': 1291, 'caller': 1292, 'skittles': 1293, 'pac': 1294, 'politi': 1295, 'warning': 1296, 'france': 1297, 'port': 1298, 'beijing': 1299, 'governments': 1300, 'generation': 1301, 'networks': 1302, 'involving': 1303, 'bloomberg': 1304, 'pushed': 1305, 'contrast': 1306, 'challenge': 1307, 'planned': 1308, 'israeli': 1309, 'region': 1310, 'performance': 1311, 'org': 1312, 'pick': 1313, 'risk': 1314, 'lived': 1315, 'roughly': 1316, 'courts': 1317, 'publicly': 1318, 'reference': 1319, 'praise': 1320, 'arrived': 1321, 'failure': 1322, 'territory': 1323, 'annual': 1324, 'grand': 1325, 'confidence': 1326, 'msnbc': 1327, 'summer': 1328, 'ridge': 1329, 'relations': 1330, 'consequences': 1331, 'carrying': 1332, 'topics': 1333, 'maryland': 1334, 'remove': 1335, 'break': 1336, 'actual': 1337, 'critics': 1338, 'pushing': 1339, 'targeted': 1340, 'green': 1341, 'presidents': 1342, 'receiving': 1343, 'hide': 1344, 'housing': 1345, 'career': 1346, 'allowing': 1347, 'raising': 1348, 'recognize': 1349, 'sending': 1350, 'sum': 1351, 'oil': 1352, 'frank': 1353, 'museum': 1354, 'produce': 1355, 'silvers': 1356, 'device': 1357, 'ford': 1358, 'fraud': 1359, 'remain': 1360, 'polling': 1361, 'occurred': 1362, 'obvious': 1363, 'choose': 1364, 'radio': 1365, 'yeah': 1366, 'folks': 1367, 'conservatives': 1368, 'super': 1369, 'programs': 1370, 'eric': 1371, 'condom': 1372, 'tests': 1373, 'dc': 1374, 'explosion': 1375, 'illinois': 1376, 'tank': 1377, 'statue': 1378, 'iran': 1379, 'bombs': 1380, 'ballots': 1381, 'anderson': 1382, 'cop': 1383, 'realdonaldtrump': 1384, 'falconer': 1385, 'gazprom': 1386, 'suicide': 1387, 'target': 1388, 'familiar': 1389, 'online': 1390, 'initiative': 1391, 'stay': 1392, 'ambassador': 1393, 'decide': 1394, 'launched': 1395, 'owner': 1396, 'degree': 1397, 'explanation': 1398, 'narrative': 1399, 'dog': 1400, 'female': 1401, 'expectations': 1402, 'argument': 1403, 'determine': 1404, 'testimony': 1405, 'inquiry': 1406, 'dozens': 1407, 'urged': 1408, 'answers': 1409, 'steps': 1410, 'numerous': 1411, 'engaged': 1412, 'deals': 1413, 'addressing': 1414, 'jews': 1415, 'walk': 1416, 'briefed': 1417, 'brian': 1418, 'contact': 1419, 'plane': 1420, 'field': 1421, 'attracted': 1422, 'fans': 1423, 'respond': 1424, 'flat': 1425, 'hearing': 1426, 'joint': 1427, 'basically': 1428, 'professor': 1429, 'longtime': 1430, 'allegations': 1431, 'semitism': 1432, 'strike': 1433, 'finance': 1434, 'elect': 1435, 'russians': 1436, 'promote': 1437, 'planning': 1438, 'development': 1439, 'easily': 1440, 'positive': 1441, 'journal': 1442, 'suffering': 1443, 'natural': 1444, 'spot': 1445, 'personnel': 1446, 'insurance': 1447, 'afraid': 1448, 'usa': 1449, 'cell': 1450, 'petition': 1451, 'mall': 1452, 'bible': 1453, 'generic': 1454, 'literally': 1455, 'allah': 1456, 'mexican': 1457, 'nose': 1458, 'update': 1459, 'thugs': 1460, 'korean': 1461, 'flag': 1462, 'cancer': 1463, 'skin': 1464, 'expenses': 1465, 'weren': 1466, 'gold': 1467, 'supporter': 1468, 'vehicle': 1469, 'bar': 1470, 'chicken': 1471, 'chair': 1472, 'supported': 1473, 'commander': 1474, 'migrants': 1475, 'protester': 1476, 'simmons': 1477, 'assembly': 1478, 'abroad': 1479, 'soviet': 1480, 'override': 1481, 'gary': 1482, 'thedcnf': 1483, 'beck': 1484, 'baroni': 1485, 'ii': 1486, 'limited': 1487, 'coalition': 1488, 'station': 1489, 'pain': 1490, 'interference': 1491, 'vision': 1492, 'status': 1493, 'invited': 1494, 'democracy': 1495, 'outlets': 1496, 'handle': 1497, 'snapchat': 1498, 'memo': 1499, 'modern': 1500, 'ridiculous': 1501, 'traffic': 1502, 'proof': 1503, 'weed': 1504, 'questioning': 1505, 'negative': 1506, 'hair': 1507, 'investigate': 1508, 'angry': 1509, 'ranking': 1510, 'judiciary': 1511, 'politically': 1512, 'findings': 1513, 'viewed': 1514, 'separate': 1515, 'blue': 1516, 'sold': 1517, 'dismissed': 1518, 'sell': 1519, 'document': 1520, 'shame': 1521, 'platform': 1522, 'graham': 1523, 'quick': 1524, 'lower': 1525, 'approached': 1526, 'remained': 1527, 'train': 1528, 'fell': 1529, 'pine': 1530, 'larger': 1531, 'truck': 1532, 'guard': 1533, 'soldiers': 1534, 'drinking': 1535, 'challenges': 1536, 'workers': 1537, 'paper': 1538, 'chuck': 1539, 'threaten': 1540, 'removed': 1541, 'rejected': 1542, 'associates': 1543, 'determined': 1544, 'delivered': 1545, 'resolution': 1546, 'colleagues': 1547, 'vladimir': 1548, 'lied': 1549, 'independent': 1550, 'christianity': 1551, 'ruling': 1552, 'pastor': 1553, 'grew': 1554, 'forum': 1555, 'bridge': 1556, 'mistake': 1557, 'andrew': 1558, 'businessman': 1559, 'breitbart': 1560, 'losing': 1561, 'bunch': 1562, 'announcement': 1563, 'tells': 1564, 'hatred': 1565, 'coins': 1566, 'initial': 1567, 'broadcast': 1568, 'belief': 1569, 'advance': 1570, 'bodies': 1571, 'winters': 1572, 'restaurant': 1573, 'murdered': 1574, 'campaigns': 1575, 'cool': 1576, 'guns': 1577, 'perfect': 1578, 'strange': 1579, 'stamina': 1580, 'rhetoric': 1581, 'cuomo': 1582, 'rating': 1583, 'concert': 1584, 'suggesting': 1585, 'unrest': 1586, 'franklin': 1587, 'calm': 1588, 'machado': 1589, 'candy': 1590, 'matt': 1591, 'donors': 1592, 'fda': 1593, 'playbook': 1594, 'somali': 1595, 'arab': 1596, 'jesus': 1597, 'active': 1598, 'constant': 1599, 'buying': 1600, 'ally': 1601, 'benjamin': 1602, 'davis': 1603, 'attend': 1604, 'progressive': 1605, 'deserve': 1606, 'vetrano': 1607, 'howard': 1608, 'patrol': 1609, 'contained': 1610, 'conclusion': 1611, 'rod': 1612, 'nadler': 1613, 'demands': 1614, 'exposure': 1615, 'behavior': 1616, 'broken': 1617, 'unusual': 1618, 'leaves': 1619, 'referring': 1620, 'proven': 1621, 'offensive': 1622, 'melania': 1623, 'pat': 1624, 'detailed': 1625, 'gillibrand': 1626, 'nixon': 1627, 'compared': 1628, 'gender': 1629, 'cars': 1630, 'blasio': 1631, 'pneumonia': 1632, 'dakota': 1633, 'iowa': 1634, 'population': 1635, 'worry': 1636, 'proper': 1637, 'capitol': 1638, 'requires': 1639, 'communications': 1640, 'divided': 1641, 'data': 1642, 'spread': 1643, 'capture': 1644, 'shop': 1645, 'core': 1646, 'connected': 1647, 'counts': 1648, 'surprise': 1649, 'behalf': 1650, 'moves': 1651, 'drive': 1652, 'avoid': 1653, 'increasing': 1654, 'effective': 1655, 'doctors': 1656, 'sam': 1657, 'charles': 1658, 'hired': 1659, 'file': 1660, 'assistant': 1661, 'die': 1662, 'carlson': 1663, 'pictures': 1664, 'realize': 1665, 'indiana': 1666, 'minneapolis': 1667, 'hot': 1668, 'sit': 1669, 'arnold': 1670, 'express': 1671, 'fatal': 1672, 'gonna': 1673, 'handed': 1674, 'knowing': 1675, 'yesterday': 1676, 'pregnant': 1677, 'rival': 1678, 'commitment': 1679, 'ticket': 1680, 'entering': 1681, 'anthem': 1682, 'association': 1683, 'alcohol': 1684, 'colorado': 1685, 'massachusetts': 1686, 'orlando': 1687, 'fault': 1688, 'blog': 1689, 'stronger': 1690, 'qualified': 1691, 'dallas': 1692, 'dark': 1693, 'funded': 1694, 'camera': 1695, 'gmail': 1696, 'knowledge': 1697, 'nyc': 1698, 'standards': 1699, 'doj': 1700, 'benghazi': 1701, 'incredibly': 1702, 'tulsa': 1703, 'unarmed': 1704, 'sued': 1705, 'counties': 1706, 'ratings': 1707, 'leaning': 1708, 'mccrory': 1709, 'fort': 1710, 'speeches': 1711, 'funds': 1712, 'distributed': 1713, 'libertarian': 1714, 'cuba': 1715, 'intellectual': 1716, 'closures': 1717, 'establishment': 1718, 'studies': 1719, 'understanding': 1720, 'content': 1721, 'mid': 1722, 'unity': 1723, 'adam': 1724, 'starts': 1725, 'tone': 1726, 'laughing': 1727, 'campus': 1728, 'miles': 1729, 'atlanta': 1730, 'walking': 1731, 'jury': 1732, 'arrest': 1733, 'ronald': 1734, 'overwhelming': 1735, 'conversation': 1736, 'neighborhood': 1737, 'countless': 1738, 'rosenstein': 1739, 'faced': 1740, 'investigated': 1741, 'developed': 1742, 'theory': 1743, 'essentially': 1744, 'division': 1745, 'troubling': 1746, 'scrutiny': 1747, 'declined': 1748, 'intended': 1749, 'los': 1750, 'campaigning': 1751, 'responding': 1752, 'slow': 1753, 'disaster': 1754, 'homes': 1755, 'suffered': 1756, 'worried': 1757, 'native': 1758, 'bills': 1759, 'plastic': 1760, 'detail': 1761, 'shift': 1762, 'bipartisan': 1763, 'offices': 1764, 'roger': 1765, 'targets': 1766, 'draft': 1767, 'links': 1768, 'perceived': 1769, 'draw': 1770, 'combat': 1771, 'stupid': 1772, 'fighters': 1773, 'libya': 1774, 'pentagon': 1775, 'jennifer': 1776, 'convince': 1777, 'fit': 1778, 'churches': 1779, 'minorities': 1780, 'prayer': 1781, 'cycle': 1782, 'banks': 1783, 'perfectly': 1784, 'marriage': 1785, 'emotional': 1786, 'opponents': 1787, 'tani': 1788, 'stick': 1789, 'interviews': 1790, 'forget': 1791, 'enemy': 1792, 'san': 1793, 'card': 1794, 'duty': 1795, 'cross': 1796, 'jimmy': 1797, 'conducted': 1798, 'aired': 1799, 'unknown': 1800, 'specific': 1801, 'tweets': 1802, 'headlines': 1803, 'singer': 1804, 'jefferson': 1805, 'principles': 1806, 'joined': 1807, 'redesign': 1808, 'english': 1809, 'option': 1810, 'technology': 1811, 'lord': 1812, 'japan': 1813, 'canada': 1814, 'finger': 1815, 'brain': 1816, 'island': 1817, 'horrible': 1818, 'sleep': 1819, 'foster': 1820, 'basement': 1821, 'kyle': 1822, 'exploded': 1823, 'billionaire': 1824, 'supports': 1825, 'ukraine': 1826, 'suggests': 1827, 'sheriff': 1828, 'sat': 1829, 'positions': 1830, 'snowden': 1831, 'waters': 1832, 'abe': 1833, 'potus': 1834, 'oklahoma': 1835, 'liar': 1836, 'caucus': 1837, 'margin': 1838, 'kingdom': 1839, 'cleveland': 1840, 'aleppo': 1841, 'sisi': 1842, 'split': 1843, 'taney': 1844, 'quality': 1845, 'zika': 1846, 'palmer': 1847, 'hitler': 1848, 'smile': 1849, 'mills': 1850, 'established': 1851, 'deaths': 1852, 'represent': 1853, 'xi': 1854, 'wealth': 1855, 'managed': 1856, 'sensitive': 1857, 'threatened': 1858, 'bigger': 1859, 'civilian': 1860, 'tensions': 1861, 'destruction': 1862, 'riots': 1863, 'organized': 1864, 'jeremy': 1865, 'easy': 1866, 'philadelphia': 1867, 'georgia': 1868, 'holds': 1869, 'messages': 1870, 'maintain': 1871, 'healthy': 1872, 'dna': 1873, 'prosecution': 1874, 'incidents': 1875, 'badly': 1876, 'chosen': 1877, 'remaining': 1878, 'asian': 1879, 'anger': 1880, 'testified': 1881, 'neck': 1882, 'neighbors': 1883, 'seized': 1884, 'cited': 1885, 'finding': 1886, 'fresh': 1887, 'establish': 1888, 'unconstitutional': 1889, 'heads': 1890, 'flight': 1891, 'authorized': 1892, 'sale': 1893, 'channel': 1894, 'keeping': 1895, 'operation': 1896, 'captured': 1897, 'summary': 1898, 'round': 1899, 'flood': 1900, 'briefing': 1901, 'kellyanne': 1902, 'feeling': 1903, 'angeles': 1904, 'nationally': 1905, 'situations': 1906, 'humanitarian': 1907, 'estimated': 1908, 'damage': 1909, 'fill': 1910, 'requests': 1911, 'vehicles': 1912, 'oversight': 1913, 'capital': 1914, 'demanded': 1915, 'deleted': 1916, 'stone': 1917, 'speculation': 1918, 'loyalty': 1919, 'laid': 1920, 'extremists': 1921, 'operations': 1922, 'advisers': 1923, 'size': 1924, 'argue': 1925, 'insults': 1926, 'witness': 1927, 'christians': 1928, 'books': 1929, 'nationwide': 1930, 'pray': 1931, 'extra': 1932, 'increasingly': 1933, 'creating': 1934, 'currency': 1935, 'unique': 1936, 'comfortable': 1937, 'solution': 1938, 'selling': 1939, 'names': 1940, 'represents': 1941, 'traveling': 1942, 'demand': 1943, 'identity': 1944, 'commercial': 1945, 'utah': 1946, 'fundamental': 1947, 'camp': 1948, 'bought': 1949, 'offering': 1950, 'martin': 1951, 'inauguration': 1952, 'assume': 1953, 'bathroom': 1954, 'tremendous': 1955, 'registered': 1956, 'harambe': 1957, 'sites': 1958, 'changing': 1959, 'hadn': 1960, 'smoke': 1961, 'lights': 1962, 'overseas': 1963, 'personality': 1964, 'entity': 1965, 'save': 1966, 'damn': 1967, 'waste': 1968, 'grandfather': 1969, 'plays': 1970, 'passing': 1971, 'likes': 1972, 'icon': 1973, 'idaho': 1974, 'engage': 1975, 'acts': 1976, 'construction': 1977, 'pipeline': 1978, 'citing': 1979, 'stephen': 1980, 'banned': 1981, 'isaac': 1982, 'craig': 1983, 'reddit': 1984, 'suspects': 1985, 'winter': 1986, 'developing': 1987, 'defended': 1988, 'bin': 1989, 'confirm': 1990, 'anchor': 1991, 'alex': 1992, 'historic': 1993, 'solid': 1994, 'tied': 1995, 'memorial': 1996, 'fried': 1997, 'dave': 1998, 'immunity': 1999, 'irs': 2000, 'reform': 2001, 'mess': 2002, 'headline': 2003, 'opportunities': 2004, 'era': 2005, 'caption': 2006, 'lamont': 2007, 'dean': 2008, 'rough': 2009, 'rallies': 2010, 'contributed': 2011, 'immigrant': 2012, 'wisconsin': 2013, 'advised': 2014, 'advertisement': 2015, 'evil': 2016, 'jill': 2017, 'filter': 2018, 'endorsement': 2019, 'watered': 2020, 'parent': 2021, 'ly': 2022, 'dukakis': 2023, 'adan': 2024, 'puzder': 2025, 'secure': 2026, 'mary': 2027, 'italy': 2028, 'range': 2029, 'activist': 2030, 'growth': 2031, 'involvement': 2032, 'defeat': 2033, 'actor': 2034, 'merkel': 2035, 'apparent': 2036, 'encouraged': 2037, 'sexually': 2038, 'porn': 2039, 'initially': 2040, 'historically': 2041, 'begun': 2042, 'prosecutor': 2043, 'frustration': 2044, 'tears': 2045, 'belong': 2046, 'highlighted': 2047, 'iii': 2048, 'partisan': 2049, 'pattern': 2050, 'violated': 2051, 'underlying': 2052, 'definitive': 2053, 'analysis': 2054, 'reasonable': 2055, 'stake': 2056, 'analyst': 2057, 'effectively': 2058, 'collusion': 2059, 'surrounded': 2060, 'silence': 2061, 'preparing': 2062, 'sarah': 2063, 'bernie': 2064, 'attended': 2065, 'debt': 2066, 'institutional': 2067, 'nearby': 2068, 'courage': 2069, 'proposal': 2070, 'highway': 2071, 'reservation': 2072, 'harm': 2073, 'poverty': 2074, 'knee': 2075, 'introduced': 2076, 'presence': 2077, 'bags': 2078, 'vowed': 2079, 'chamber': 2080, 'commit': 2081, 'ongoing': 2082, 'remedy': 2083, 'questioned': 2084, 'cable': 2085, 'hunt': 2086, 'attorneys': 2087, 'decline': 2088, 'mitch': 2089, 'century': 2090, 'bob': 2091, 'advocate': 2092, 'harry': 2093, 'promising': 2094, 'providing': 2095, 'command': 2096, 'marines': 2097, 'surveillance': 2098, 'exercising': 2099, 'tear': 2100, 'desire': 2101, 'favorite': 2102, 'regularly': 2103, 'homeless': 2104, 'openly': 2105, 'sector': 2106, 'corporate': 2107, 'securities': 2108, 'produced': 2109, 'tragic': 2110, 'abortions': 2111, 'legislative': 2112, 'feelings': 2113, 'elite': 2114, 'readers': 2115, 'nick': 2116, 'clean': 2117, 'taught': 2118, 'lesson': 2119, 'physically': 2120, 'artist': 2121, 'jack': 2122, 'survey': 2123, 'williams': 2124, 'disease': 2125, 'teach': 2126, 'ethics': 2127, 'location': 2128, 'referred': 2129, 'implement': 2130, 'fun': 2131, 'grabbed': 2132, 'laugh': 2133, 'mate': 2134, 'holy': 2135, 'christmas': 2136, 'cia': 2137, 'cards': 2138, 'crew': 2139, 'honestly': 2140, 'comparison': 2141, 'congressman': 2142, 'failing': 2143, 'mothers': 2144, 'missouri': 2145, 'launch': 2146, 'suit': 2147, 'throw': 2148, 'fallen': 2149, 'panic': 2150, 'code': 2151, 'checks': 2152, 'aggression': 2153, 'trouble': 2154, 'advisor': 2155, 'removal': 2156, 'trusted': 2157, 'easier': 2158, 'desperately': 2159, 'background': 2160, 'heavily': 2161, 'virtually': 2162, 'band': 2163, 'stomach': 2164, 'dropped': 2165, 'steal': 2166, 'games': 2167, 'editor': 2168, 'located': 2169, 'residence': 2170, 'entered': 2171, 'cake': 2172, 'enemies': 2173, 'grants': 2174, 'reilly': 2175, 'laden': 2176, 'syrians': 2177, 'kentucky': 2178, 'nasa': 2179, 'grounds': 2180, 'provision': 2181, 'associate': 2182, 'deny': 2183, 'earth': 2184, 'moon': 2185, 'cabinet': 2186, 'pleasure': 2187, 'losers': 2188, 'sanctioned': 2189, 'insulted': 2190, 'constantly': 2191, 'crooked': 2192, 'fundraiser': 2193, 'correctness': 2194, 'appearances': 2195, 'earnest': 2196, 'mogul': 2197, 'treatment': 2198, 'urban': 2199, 'migrant': 2200, 'pig': 2201, 'elsass': 2202, 'edge': 2203, 'boom': 2204, 'ivanka': 2205, 'races': 2206, 'blackburn': 2207, 'negro': 2208, 'crowley': 2209, 'restraint': 2210, 'mouth': 2211, 'writes': 2212, 'clone': 2213, 'respondents': 2214, 'kaepernick': 2215, 'wilson': 2216, 'knight': 2217, 'oligarchs': 2218, 'runs': 2219, 'wave': 2220, 'negotiations': 2221, 'stream': 2222, 'french': 2223, 'youtube': 2224, 'communist': 2225, 'british': 2226, 'discussion': 2227, 'giant': 2228, 'talks': 2229, 'complex': 2230, 'prospect': 2231, 'extent': 2232, 'reaching': 2233, 'surrounding': 2234, 'thrown': 2235, 'married': 2236, 'pledge': 2237, 'judgment': 2238, 'fraternity': 2239, 'offended': 2240, 'beach': 2241, 'wear': 2242, 'queens': 2243, 'panel': 2244, 'beautiful': 2245, 'retired': 2246, 'resident': 2247, 'brooklyn': 2248, 'loud': 2249, 'confused': 2250, 'committing': 2251, 'arguing': 2252, 'suspicion': 2253, 'arguments': 2254, 'drop': 2255, 'outcome': 2256, 'exonerate': 2257, 'quoted': 2258, 'exercises': 2259, 'dispute': 2260, 'addressed': 2261, 'impossible': 2262, 'walked': 2263, 'heights': 2264, 'submarines': 2265, 'cousin': 2266, 'investments': 2267, 'profit': 2268, 'permission': 2269, 'affect': 2270, 'channels': 2271, 'ministry': 2272, 'headed': 2273, 'golf': 2274, 'indictments': 2275, 'gowdy': 2276, 'gidley': 2277, 'rare': 2278, 'landing': 2279, 'consistently': 2280, 'science': 2281, 'mental': 2282, 'fatally': 2283, 'roll': 2284, 'flooding': 2285, 'boat': 2286, 'equipment': 2287, 'nebraska': 2288, 'vast': 2289, 'tribal': 2290, 'relief': 2291, 'bear': 2292, 'table': 2293, 'payments': 2294, 'agencies': 2295, 'illegally': 2296, 'finished': 2297, 'goal': 2298, 'hill': 2299, 'minds': 2300, 'convicted': 2301, 'opinions': 2302, 'computer': 2303, 'omar': 2304, 'disability': 2305, 'liberties': 2306, 'driver': 2307, 'widespread': 2308, 'tom': 2309, 'cells': 2310, 'regional': 2311, 'external': 2312, 'pacific': 2313, 'tens': 2314, 'complained': 2315, 'letting': 2316, 'routinely': 2317, 'burden': 2318, 'articles': 2319, 'criminals': 2320, 'manafort': 2321, 'rick': 2322, 'pleaded': 2323, 'accounts': 2324, 'loans': 2325, 'equal': 2326, 'investment': 2327, 'session': 2328, 'susan': 2329, 'chess': 2330, 'heroes': 2331, 'settled': 2332, 'donor': 2333, 'mom': 2334, 'impression': 2335, 'teaching': 2336, 'totally': 2337, 'philosophy': 2338, 'anniversary': 2339, 'founder': 2340, 'blind': 2341, 'moral': 2342, 'subpoena': 2343, 'reputation': 2344, 'berman': 2345, 'lisa': 2346, 'penalty': 2347, 'speaks': 2348, 'boston': 2349, 'aggressive': 2350, 'lunch': 2351, 'topic': 2352, 'duties': 2353, 'weight': 2354, 'santa': 2355, 'unlawful': 2356, 'soil': 2357, 'la': 2358, 'minor': 2359, 'pope': 2360, 'jehovah': 2361, 'link': 2362, 'sadly': 2363, 'average': 2364, 'crazy': 2365, 'features': 2366, 'notes': 2367, 'web': 2368, 'measures': 2369, 'hotline': 2370, 'eliminate': 2371, 'sean': 2372, 'spicer': 2373, 'heather': 2374, 'legitimate': 2375, 'commerce': 2376, 'australian': 2377, 'accepted': 2378, 'beauty': 2379, 'propaganda': 2380, 'arriving': 2381, 'disappointed': 2382, 'shoot': 2383, 'wedding': 2384, 'abandoned': 2385, 'historical': 2386, 'listen': 2387, 'abedin': 2388, 'catch': 2389, 'causing': 2390, 'eating': 2391, 'amazing': 2392, 'pm': 2393, 'lab': 2394, 'window': 2395, 'activity': 2396, 'alive': 2397, 'lay': 2398, 'crash': 2399, 'prior': 2400, 'demonstrate': 2401, 'attempting': 2402, 'blast': 2403, 'guide': 2404, 'sun': 2405, 'prayers': 2406, 'jackson': 2407, 'disagree': 2408, 'regime': 2409, 'outlet': 2410, 'plea': 2411, 'hero': 2412, 'alliance': 2413, 'rioters': 2414, 'staffers': 2415, 'releasing': 2416, 'industrial': 2417, 'cooperation': 2418, 'ceremony': 2419, 'marine': 2420, 'joke': 2421, 'amid': 2422, 'insiders': 2423, 'entitled': 2424, 'favors': 2425, 'firearms': 2426, 'bomber': 2427, 'rumors': 2428, 'nevada': 2429, 'shore': 2430, 'hosted': 2431, 'mitt': 2432, 'deported': 2433, 'pride': 2434, 'impasse': 2435, 'blanket': 2436, 'drills': 2437, 'yahoo': 2438, 'marked': 2439, 'legend': 2440, 'prosperity': 2441, 'sue': 2442, 'summit': 2443, 'exposed': 2444, 'oval': 2445, 'package': 2446, 'senators': 2447, 'nightly': 2448, 'abcpolitics': 2449, 'contributions': 2450, 'adulterated': 2451, 'insult': 2452, 'oppressed': 2453, 'palmieri': 2454, 'sherman': 2455, 'errors': 2456, 'walinsky': 2457, 'unpaid': 2458, 'greenbrier': 2459, 'haiti': 2460, 'cough': 2461, 'cheryl': 2462, 'mosques': 2463, 'childcare': 2464, 'magistrate': 2465, 'stress': 2466, 'depression': 2467, 'radar': 2468, 'signs': 2469, 'testing': 2470, 'undermine': 2471, 'assistance': 2472, 'strategic': 2473, 'concept': 2474, 'infrastructure': 2475, 'highlight': 2476, 'anonymity': 2477, 'sharing': 2478, 'projects': 2479, 'capabilities': 2480, 'counter': 2481, 'rocket': 2482, 'forcing': 2483, 'treating': 2484, 'explosives': 2485, 'aipac': 2486, 'gantz': 2487, 'cuts': 2488, 'bradshaw': 2489, 'abandon': 2490, 'narratives': 2491, 'character': 2492, 'jones': 2493, 'instance': 2494, 'signature': 2495, 'cotton': 2496, 'mile': 2497, 'runner': 2498, 'picked': 2499, 'murdering': 2500, 'prompted': 2501, 'interviewed': 2502, 'spotted': 2503, 'challenged': 2504, 'offense': 2505, 'conclude': 2506, 'declare': 2507, 'conclusions': 2508, 'indicted': 2509, 'landed': 2510, 'swing': 2511, 'gathering': 2512, 'mar': 2513, 'display': 2514, 'emotion': 2515, 'emerged': 2516, 'silent': 2517, 'lindsey': 2518, 'surrogates': 2519, 'quiet': 2520, 'coward': 2521, 'bid': 2522, 'struggled': 2523, 'houston': 2524, 'moderate': 2525, 'devoted': 2526, 'threshold': 2527, 'striking': 2528, 'disorder': 2529, 'pipe': 2530, 'intervention': 2531, 'delaware': 2532, 'scale': 2533, 'bureau': 2534, 'nature': 2535, 'climate': 2536, 'destroyed': 2537, 'requested': 2538, 'nancy': 2539, 'stance': 2540, 'hanging': 2541, 'afterward': 2542, 'broader': 2543, 'affair': 2544, 'square': 2545, 'describing': 2546, 'operatives': 2547, 'convinced': 2548, 'painted': 2549, 'orientation': 2550, 'shepard': 2551, 'ethnic': 2552, 'spokeswoman': 2553, 'objections': 2554, 'designed': 2555, 'ben': 2556, 'broad': 2557, 'mine': 2558, 'extremist': 2559, 'costs': 2560, 'mission': 2561, 'colin': 2562, 'physical': 2563, 'settlement': 2564, 'smoking': 2565, 'dealings': 2566, 'explicitly': 2567, 'expressing': 2568, 'environment': 2569, 'unable': 2570, 'investigator': 2571, 'admit': 2572, 'educated': 2573, 'visiting': 2574, 'sharp': 2575, 'repeated': 2576, 'pays': 2577, 'managing': 2578, 'products': 2579, 'deemed': 2580, 'operating': 2581, 'unfit': 2582, 'momentum': 2583, 'pressed': 2584, 'binion': 2585, 'afford': 2586, 'belongs': 2587, 'gray': 2588, 'london': 2589, 'richmond': 2590, 'represented': 2591, 'factor': 2592, 'francis': 2593, 'practices': 2594, 'reduce': 2595, 'unit': 2596, 'track': 2597, 'beliefs': 2598, 'funny': 2599, 'pieces': 2600, 'anthony': 2601, 'feed': 2602, 'context': 2603, 'mistakes': 2604, 'feels': 2605, 'dreams': 2606, 'performing': 2607, 'commented': 2608, 'fool': 2609, 'usual': 2610, 'exists': 2611, 'soldier': 2612, 'girls': 2613, 'throwing': 2614, 'tragedy': 2615, 'noticed': 2616, 'ny': 2617, 'defending': 2618, 'gap': 2619, 'covers': 2620, 'bothered': 2621, 'picking': 2622, 'consultant': 2623, 'recession': 2624, 'replaced': 2625, 'bowl': 2626, 'watson': 2627, 'indecent': 2628, 'moveon': 2629, 'bet': 2630, 'trash': 2631, 'outrageous': 2632, 'todd': 2633, 'blaming': 2634, 'vain': 2635, 'ten': 2636, 'useless': 2637, 'nonsense': 2638, 'compare': 2639, 'targeting': 2640, 'pot': 2641, 'encourage': 2642, 'spencer': 2643, 'experienced': 2644, 'acknowledge': 2645, 'shake': 2646, 'blow': 2647, 'virus': 2648, 'male': 2649, 'spokesperson': 2650, 'nervous': 2651, 'reckless': 2652, 'seat': 2653, 'accepting': 2654, 'labor': 2655, 'season': 2656, 'naturally': 2657, 'knocked': 2658, 'weird': 2659, 'facility': 2660, 'closing': 2661, 'vetoed': 2662, 'loving': 2663, 'scuba': 2664, 'toughest': 2665, 'minimum': 2666, 'borders': 2667, 'clock': 2668, 'alternative': 2669, 'biased': 2670, 'maine': 2671, 'tour': 2672, 'kgb': 2673, 'hey': 2674, 'trained': 2675, 'pursue': 2676, 'stopping': 2677, 'connections': 2678, 'assumed': 2679, 'routine': 2680, 'backlash': 2681, 'brand': 2682, 'surprised': 2683, 'newspaper': 2684, 'bigotry': 2685, 'resignation': 2686, 'absolute': 2687, 'blamed': 2688, 'celebrity': 2689, 'trillion': 2690, 'markets': 2691, 'crutcher': 2692, 'breaks': 2693, 'manufacturing': 2694, 'proposals': 2695, 'unpopular': 2696, 'review': 2697, 'silver': 2698, 'jean': 2699, 'wine': 2700, 'quote': 2701, 'critically': 2702, 'mecklenburg': 2703, 'shape': 2704, 'purposes': 2705, 'coin': 2706, 'player': 2707, 'dred': 2708, 'wound': 2709, 'ineffective': 2710, 'relative': 2711, 'islamist': 2712, 'india': 2713, 'magazine': 2714, 'surrogate': 2715, 'tea': 2716, 'trading': 2717, 'nomination': 2718, 'fec': 2719, 'mohammad': 2720, 'candidacy': 2721, 'contempt': 2722, 'substandard': 2723, 'inspector': 2724, 'medicines': 2725, 'carr': 2726, 'nyt': 2727, 'moderators': 2728, 'nc': 2729, 'laughed': 2730, 'pre': 2731, 'shootout': 2732, 'stabbing': 2733, 'thug': 2734, 'rioting': 2735, 'thiel': 2736, 'mook': 2737, 'willie': 2738, 'sechin': 2739, 'egyptian': 2740, 'joseph': 2741, 'gupta': 2742, 'divide': 2743, 'visits': 2744, 'marco': 2745, 'gates': 2746, 'signing': 2747, 'doors': 2748, 'tech': 2749, 'privilege': 2750, 'soft': 2751, 'expensive': 2752, 'titled': 2753, 'paris': 2754, 'rescue': 2755, 'capable': 2756, 'ideology': 2757, 'brutal': 2758, 'teenage': 2759, 'dialogue': 2760, 'surface': 2761, 'devices': 2762, 'box': 2763, 'chapter': 2764, 'outraged': 2765, 'junior': 2766, 'outspoken': 2767, 'feet': 2768, 'tickets': 2769, 'beating': 2770, 'diverse': 2771, 'fate': 2772, 'testify': 2773, 'recalled': 2774, 'task': 2775, 'obstructed': 2776, 'doug': 2777, 'stating': 2778, 'vulnerable': 2779, 'applied': 2780, 'exoneration': 2781, 'defendant': 2782, 'partners': 2783, 'shoes': 2784, 'barely': 2785, 'advanced': 2786, 'missile': 2787, 'recommended': 2788, 'revelations': 2789, 'airport': 2790, 'consult': 2791, 'assertion': 2792, 'formal': 2793, 'committees': 2794, 'circle': 2795, 'lengthy': 2796, 'crossed': 2797, 'dan': 2798, 'aircraft': 2799, 'vermont': 2800, 'mud': 2801, 'ambulance': 2802, 'foot': 2803, 'henry': 2804, 'van': 2805, 'heavy': 2806, 'unemployment': 2807, 'wood': 2808, 'delay': 2809, 'electorate': 2810, 'resolved': 2811, 'lifted': 2812, 'oath': 2813, 'determination': 2814, 'eager': 2815, 'proceeded': 2816, 'wide': 2817, 'employed': 2818, 'assisted': 2819, 'explaining': 2820, 'delivering': 2821, 'hoped': 2822, 'sponsored': 2823, 'sessions': 2824, 'progressives': 2825, 'formally': 2826, 'village': 2827, 'proclaimed': 2828, 'afghan': 2829, 'hunting': 2830, 'civilians': 2831, 'preserve': 2832, 'gen': 2833, 'clarke': 2834, 'wage': 2835, 'classified': 2836, 'sales': 2837, 'worldwide': 2838, 'qaeda': 2839, 'conducting': 2840, 'confront': 2841, 'inaugural': 2842, 'notion': 2843, 'existing': 2844, 'interfered': 2845, 'careful': 2846, 'cautious': 2847, 'hacking': 2848, 'jokes': 2849, 'violations': 2850, 'yi': 2851, 'accomplished': 2852, 'spotlight': 2853, 'detained': 2854, 'typically': 2855, 'pastors': 2856, 'convert': 2857, 'destroying': 2858, 'hitting': 2859, 'noting': 2860, 'stakes': 2861, 'tariffs': 2862, 'capacity': 2863, 'globalization': 2864, 'procedure': 2865, 'crying': 2866, 'socialist': 2867, 'confrontation': 2868, 'discussions': 2869, 'regret': 2870, 'adewumi': 2871, 'reminder': 2872, 'principle': 2873, 'defeated': 2874, 'asylum': 2875, 'struggling': 2876, 'loyal': 2877, 'volunteers': 2878, 'donations': 2879, 'gallery': 2880, 'balance': 2881, 'protected': 2882, 'marshall': 2883, 'price': 2884, 'net': 2885, 'papers': 2886, 'fortunate': 2887, 'disabled': 2888, 'rover': 2889, 'justin': 2890, 'headquarters': 2891, 'prosecuted': 2892, 'grown': 2893, 'filing': 2894, 'filings': 2895, 'sovereign': 2896, 'transition': 2897, 'successor': 2898, 'independence': 2899, 'genitals': 2900, 'multi': 2901, 'heat': 2902, 'woke': 2903, 'waited': 2904, 'ron': 2905, 'footage': 2906, 'gaga': 2907, 'fame': 2908, 'surgeon': 2909, 'reveals': 2910, 'signatures': 2911, 'commenting': 2912, 'accident': 2913, 'megyn': 2914, 'christ': 2915, 'lists': 2916, 'palin': 2917, 'hiring': 2918, 'explosive': 2919, 'gained': 2920, 'furious': 2921, 'liberty': 2922, 'engaging': 2923, 'injuries': 2924, 'smiling': 2925, 'achieve': 2926, 'kiss': 2927, 'blocks': 2928, 'rochester': 2929, 'drove': 2930, 'wild': 2931, 'malia': 2932, 'perform': 2933, 'ignorant': 2934, 'elites': 2935, 'jon': 2936, 'creative': 2937, 'axelrod': 2938, 'nickel': 2939, 'uncle': 2940, 'proposing': 2941, 'muhammad': 2942, 'predicted': 2943, 'priority': 2944, 'spanish': 2945, 'jeb': 2946, 'baker': 2947, 'websites': 2948, 'courtesy': 2949, 'voices': 2950, 'honored': 2951, 'orange': 2952, 'reveal': 2953, 'coffee': 2954, 'ads': 2955, 'sea': 2956, 'hearts': 2957, 'percentage': 2958, 'japanese': 2959, 'whaling': 2960, 'dramatic': 2961, 'grab': 2962, 'nra': 2963, 'punished': 2964, 'hashtag': 2965, 'humanity': 2966, 'girlfriend': 2967, 'missing': 2968, 'snap': 2969, 'spoken': 2970, 'huma': 2971, 'viral': 2972, 'levels': 2973, 'quran': 2974, 'wishes': 2975, 'gentleman': 2976, 'journalist': 2977, 'schedule': 2978, 'cancel': 2979, 'stephawn': 2980, 'pounds': 2981, 'drink': 2982, 'drinks': 2983, 'jumped': 2984, 'encounter': 2985, 'satisfied': 2986, 'cum': 2987, 'barry': 2988, 'song': 2989, 'applicants': 2990, 'collapse': 2991, 'google': 2992, 'rockies': 2993, 'lt': 2994, 'wounds': 2995, 'discovery': 2996, 'stairs': 2997, 'intelligent': 2998, 'legs': 2999, 'rockford': 3000, 'pull': 3001, 'alabama': 3002, 'vietnam': 3003, 'ride': 3004, 'weak': 3005, 'exercise': 3006, 'hopeful': 3007, 'punish': 3008, 'lazy': 3009, 'businessmen': 3010, 'invite': 3011, 'reads': 3012, 'outright': 3013, 'northwest': 3014, 'hat': 3015, 'kinds': 3016, 'judicial': 3017, 'cease': 3018, 'osama': 3019, 'updated': 3020, 'beam': 3021, 'rocked': 3022, 'revelation': 3023, 'taxpayers': 3024, 'demonstrators': 3025, 'addresses': 3026, 'luxury': 3027, 'dems': 3028, 'scandals': 3029, 'chaffetz': 3030, 'infamous': 3031, 'wisdom': 3032, 'dignity': 3033, 'bail': 3034, 'model': 3035, 'lane': 3036, 'arkansas': 3037, 'colleague': 3038, 'stealing': 3039, 'bachmann': 3040, 'zakaria': 3041, 'rounds': 3042, 'cher': 3043, 'notice': 3044, 'deplorable': 3045, 'donna': 3046, 'showdown': 3047, 'sided': 3048, 'appearing': 3049, 'knock': 3050, 'harvey': 3051, 'displaced': 3052, 'credit': 3053, 'hawaii': 3054, 'dates': 3055, 'kansas': 3056, 'bridgegate': 3057, 'accusing': 3058, 'comparing': 3059, 'hometown': 3060, 'incumbent': 3061, 'loose': 3062, 'roots': 3063, 'wow': 3064, 'maintained': 3065, 'tight': 3066, 'contest': 3067, 'policing': 3068, 'afp': 3069, 'assad': 3070, 'toby': 3071, 'category': 3072, 'tougher': 3073, 'cooper': 3074, 'ventures': 3075, 'turmoil': 3076, 'secession': 3077, 'attendees': 3078, 'billions': 3079, 'yemen': 3080, 'lawsuits': 3081, 'understood': 3082, 'touch': 3083, 'heal': 3084, 'spirit': 3085, 'audiences': 3086, 'putney': 3087, 'slammed': 3088, 'generals': 3089, 'televised': 3090, 'botswana': 3091, 'outreach': 3092, 'permanently': 3093, 'winners': 3094, 'eastwood': 3095, 'dream': 3096, 'risks': 3097, 'saharan': 3098, 'thakur': 3099, 'interstate': 3100, 'pagliano': 3101, 'poindexter': 3102, 'practically': 3103, 'nyti': 3104, 'janet': 3105, 'famously': 3106, 'ray': 3107, 'kevin': 3108, 'answering': 3109, 'existential': 3110, 'football': 3111, 'daisy': 3112, 'polled': 3113, 'cares': 3114, 'pie': 3115, 'tebow': 3116, 'nfl': 3117, 'gambling': 3118, 'soros': 3119, 'microphone': 3120, 'rapinoe': 3121, 'burnett': 3122, 'fingerprint': 3123, 'torchinsky': 3124, 'aleksashenko': 3125, 'movements': 3126, 'spring': 3127, 'drama': 3128, 'alongside': 3129, 'jewish': 3130, 'roles': 3131, 'competition': 3132, 'crimea': 3133, 'bullying': 3134, 'develop': 3135, 'restrictions': 3136, 'limits': 3137, 'severe': 3138, 'hosting': 3139, 'chancellor': 3140, 'arm': 3141, 'injuring': 3142, 'pack': 3143, 'strikes': 3144, 'theater': 3145, 'text': 3146, 'mixed': 3147, 'heritage': 3148, 'widow': 3149, 'mechanical': 3150, 'harris': 3151, 'casting': 3152, 'circles': 3153, 'motion': 3154, 'condemned': 3155, 'awareness': 3156, 'diagnosed': 3157, 'jurors': 3158, 'random': 3159, 'guilt': 3160, 'latino': 3161, 'defendants': 3162, 'integrity': 3163, 'trend': 3164, 'rush': 3165, 'experiences': 3166, 'quietly': 3167, 'beaten': 3168, 'killer': 3169, 'detectives': 3170, 'chances': 3171, 'graduated': 3172, 'examined': 3173, 'permitted': 3174, 'inquiries': 3175, 'flynn': 3176, 'embraced': 3177, 'sufficient': 3178, 'pardon': 3179, 'gathered': 3180, 'consulting': 3181, 'prosecute': 3182, 'recognition': 3183, 'manufacturer': 3184, 'stock': 3185, 'putting': 3186, 'returning': 3187, 'object': 3188, 'ensuring': 3189, 'utterly': 3190, 'dinner': 3191, 'alarm': 3192, 'shadow': 3193, 'whatsoever': 3194, 'submitted': 3195, 'damaging': 3196, 'drawn': 3197, 'universal': 3198, 'jay': 3199, 'studying': 3200, 'epidemic': 3201, 'knife': 3202, 'stable': 3203, 'stuck': 3204, 'tribe': 3205, 'roads': 3206, 'recovery': 3207, 'greatly': 3208, 'dirt': 3209, 'struggle': 3210, 'houses': 3211, 'trucks': 3212, 'checked': 3213, 'survived': 3214, 'aspect': 3215, 'extreme': 3216, 'pledged': 3217, 'tool': 3218, 'basis': 3219, 'assist': 3220, 'plain': 3221, 'charging': 3222, 'theories': 3223, 'reverse': 3224, 'regulations': 3225, 'emphasized': 3226, 'aimed': 3227, 'whip': 3228, 'recognized': 3229, 'intentionally': 3230, 'substantial': 3231, 'uncomfortable': 3232, 'discriminatory': 3233, 'crack': 3234, 'representatives': 3235, 'sixty': 3236, 'caliphate': 3237, 'weekly': 3238, 'hidden': 3239, 'cannabis': 3240, 'southeast': 3241, 'asia': 3242, 'taliban': 3243, 'joining': 3244, 'partnered': 3245, 'missions': 3246, 'somalia': 3247, 'contractors': 3248, 'casualties': 3249, 'limit': 3250, 'existence': 3251, 'vigorously': 3252, 'pursuing': 3253, 'appointed': 3254, 'examining': 3255, 'shocking': 3256, 'predecessor': 3257, 'curious': 3258, 'fail': 3259, 'alliances': 3260, 'improve': 3261, 'anticipated': 3262, 'investors': 3263, 'legislature': 3264, 'willingness': 3265, 'insist': 3266, 'product': 3267, 'fixed': 3268, 'babies': 3269, 'painful': 3270, 'listening': 3271, 'expanded': 3272, 'dad': 3273, 'cent': 3274, 'principal': 3275, 'mounting': 3276, 'auction': 3277, 'walker': 3278, 'edwards': 3279, 'enthusiasm': 3280, 'involves': 3281, 'soul': 3282, 'prices': 3283, 'abstract': 3284, 'institutions': 3285, 'defined': 3286, 'embrace': 3287, 'medicine': 3288, 'judges': 3289, 'earned': 3290, 'math': 3291, 'introduction': 3292, 'orbit': 3293, 'examination': 3294, 'executives': 3295, 'coordination': 3296, 'discussing': 3297, 'aisle': 3298, 'edward': 3299, 'bizarre': 3300, 'restroom': 3301, 'violation': 3302, 'uncovered': 3303, 'rcn': 3304, 'inappropriate': 3305, 'treat': 3306, 'hiding': 3307, 'circuit': 3308, 'detroit': 3309, 'alaska': 3310, 'tribune': 3311, 'proves': 3312, 'blatant': 3313, 'huffington': 3314, 'halt': 3315, 'improved': 3316, 'surge': 3317, 'generations': 3318, 'intolerable': 3319, 'differences': 3320, 'tired': 3321, 'carried': 3322, 'warns': 3323, 'rental': 3324, 'eligible': 3325, 'outgoing': 3326, 'peacefully': 3327, 'institution': 3328, 'tolerate': 3329, 'loves': 3330, 'employers': 3331, 'harder': 3332, 'oppose': 3333, 'raped': 3334, 'dowling': 3335, 'duncan': 3336, 'fed': 3337, 'typical': 3338, 'apology': 3339, 'comply': 3340, 'spreading': 3341, 'breastfeeding': 3342, 'complain': 3343, 'sons': 3344, 'divorce': 3345, 'enjoyed': 3346, 'requiring': 3347, 'australians': 3348, 'gifts': 3349, 'blasphemy': 3350, 'derogatory': 3351, 'ship': 3352, 'celebrated': 3353, 'clarify': 3354, 'embarrassing': 3355, 'bannon': 3356, 'enjoy': 3357, 'trending': 3358, 'endorsing': 3359, 'spark': 3360, 'fan': 3361, 'count': 3362, 'goldberg': 3363, 'altogether': 3364, 'sleeping': 3365, 'relationships': 3366, 'nj': 3367, 'tested': 3368, 'sister': 3369, 'flow': 3370, 'mandatory': 3371, 'pulling': 3372, 'eat': 3373, 'corner': 3374, 'satan': 3375, 'whites': 3376, 'brownies': 3377, 'mountain': 3378, 'incredible': 3379, 'col': 3380, 'vaccines': 3381, 'prevents': 3382, 'humans': 3383, 'douglas': 3384, 'searching': 3385, 'assassination': 3386, 'listed': 3387, 'colbert': 3388, 'kasich': 3389, 'banning': 3390, 'marry': 3391, 'healthcare': 3392, 'tampa': 3393, 'loses': 3394, 'refusing': 3395, 'harvard': 3396, 'friendly': 3397, 'tactical': 3398, 'diplomacy': 3399, 'contrary': 3400, 'pose': 3401, 'protesting': 3402, 'reserve': 3403, 'tucker': 3404, 'fsb': 3405, 'portion': 3406, 'confederacy': 3407, 'communicate': 3408, 'confirms': 3409, 'fuel': 3410, 'worker': 3411, 'types': 3412, 'blacks': 3413, 'editors': 3414, 'maxine': 3415, 'completed': 3416, 'obamacare': 3417, 'worthy': 3418, 'louis': 3419, 'cameras': 3420, 'fairly': 3421, 'whistleblower': 3422, 'falsely': 3423, 'user': 3424, 'complaint': 3425, 'neighbor': 3426, 'dennis': 3427, 'idiot': 3428, 'depp': 3429, 'subjected': 3430, 'sexism': 3431, 'enforced': 3432, 'prepares': 3433, 'announcing': 3434, 'shooter': 3435, 'donated': 3436, 'microchipping': 3437, 'chip': 3438, 'machine': 3439, 'remembered': 3440, 'affordable': 3441, 'odd': 3442, 'youth': 3443, 'windows': 3444, 'pistorious': 3445, 'transparent': 3446, 'severely': 3447, 'roberts': 3448, 'cheap': 3449, 'admitting': 3450, 'loung': 3451, 'route': 3452, 'occasionally': 3453, 'pigs': 3454, 'pair': 3455, 'map': 3456, 'properly': 3457, 'permanent': 3458, 'tennessee': 3459, 'answered': 3460, 'isil': 3461, 'stores': 3462, 'evans': 3463, 'odds': 3464, 'koltsova': 3465, 'wildest': 3466, 'rocks': 3467, 'hler': 3468, 'blair': 3469, 'palatinate': 3470, 'bavarian': 3471, 'application': 3472, 'tiny': 3473, 'automatically': 3474, 'rudy': 3475, 'praising': 3476, 'resume': 3477, 'gene': 3478, 'lots': 3479, 'temperament': 3480, 'pyongyang': 3481, 'hostile': 3482, 'republic': 3483, 'awful': 3484, 'replay': 3485, 'mad': 3486, 'lesser': 3487, 'railroads': 3488, 'appeals': 3489, 'railroad': 3490, 'promoted': 3491, 'mattered': 3492, 'interim': 3493, 'listened': 3494, 'activists': 3495, 'riyadh': 3496, 'atlantic': 3497, 'prince': 3498, 'seats': 3499, 'alicia': 3500, 'correctly': 3501, 'primaries': 3502, 'representing': 3503, 'observer': 3504, 'christopher': 3505, 'frame': 3506, 'wrda': 3507, 'stein': 3508, 'accountable': 3509, 'lecture': 3510, 'omran': 3511, 'thirds': 3512, 'vp': 3513, 'falls': 3514, 'options': 3515, 'stoltenberg': 3516, 'wsj': 3517, 'landmark': 3518, 'emmy': 3519, 'italian': 3520, 'mystery': 3521, 'stafford': 3522, 'pin': 3523, 'morbidity': 3524, 'mortality': 3525, 'promotion': 3526, 'stabilize': 3527, 'profits': 3528, 'players': 3529, 'vinod': 3530, 'disturbing': 3531, 'rolling': 3532, 'vetting': 3533, 'stanley': 3534, 'terry': 3535, 'mcauliffe': 3536, 'schriock': 3537, 'securing': 3538, 'tournament': 3539, 'metro': 3540, 'pool': 3541, 'greg': 3542, 'alum': 3543, 'enormous': 3544, 'suddenly': 3545, 'nominate': 3546, 'brazile': 3547, 'consumption': 3548, 'verdict': 3549, 'oz': 3550, 'intimidation': 3551, 'dolly': 3552, 'salaries': 3553, 'deplorables': 3554, 'selected': 3555, 'corps': 3556, 'weiner': 3557, 'combetta': 3558, 'trumpwon': 3559, 'mob': 3560, 'mcchrystal': 3561, 'manage': 3562, 'kimmel': 3563, 'hannity': 3564, 'gorenstein': 3565, 'incomplete': 3566, 'naturalization': 3567, 'clovis': 3568, 'title': 3569, 'witnessed': 3570, 'dropping': 3571, 'marc': 3572, 'discover': 3573, 'plant': 3574, 'goals': 3575, 'weakness': 3576, 'tools': 3577, 'welcoming': 3578, 'notably': 3579, 'proved': 3580, 'echoes': 3581, 'connect': 3582, 'desperate': 3583, 'belt': 3584, 'bilateral': 3585, 'aiming': 3586, 'brussels': 3587, 'supposedly': 3588, 'withdraw': 3589, 'tense': 3590, 'grant': 3591, 'participants': 3592, 'retaliation': 3593, 'essential': 3594, 'continent': 3595, 'unites': 3596, 'versus': 3597, 'urgency': 3598, 'originally': 3599, 'gaza': 3600, 'hamas': 3601, 'seeks': 3602, 'posts': 3603, 'actors': 3604, 'gather': 3605, 'characters': 3606, 'dominant': 3607, 'noise': 3608, 'onstage': 3609, 'reflect': 3610, 'temporarily': 3611, 'suspended': 3612, 'temporary': 3613, 'ignorance': 3614, 'owners': 3615, 'jen': 3616, 'volunteer': 3617, 'directing': 3618, 'activities': 3619, 'shirt': 3620, 'confessed': 3621, 'memory': 3622, 'convictions': 3623, 'hispanic': 3624, 'scientific': 3625, 'flawed': 3626, 'lieutenant': 3627, 'touched': 3628, 'deadly': 3629, 'producing': 3630, 'interpretation': 3631, 'disclose': 3632, 'motivated': 3633, 'firing': 3634, 'motive': 3635, 'deciding': 3636, 'abuses': 3637, 'skeptical': 3638, 'refusal': 3639, 'coupled': 3640, 'acknowledging': 3641, 'surprising': 3642, 'persuade': 3643, 'diplomatic': 3644, 'achievements': 3645, 'accusations': 3646, 'profitable': 3647, 'unrelated': 3648, 'secrets': 3649, 'carefully': 3650, 'wives': 3651, 'attending': 3652, 'rachel': 3653, 'react': 3654, 'lago': 3655, 'trey': 3656, 'posting': 3657, 'branded': 3658, 'mocked': 3659, 'buildings': 3660, 'nominees': 3661, 'cutting': 3662, 'rates': 3663, 'precinct': 3664, 'lit': 3665, 'identify': 3666, 'wallet': 3667, 'arrests': 3668, 'shoots': 3669, 'supplies': 3670, 'appointment': 3671, 'blocked': 3672, 'breathe': 3673, 'stunning': 3674, 'stranded': 3675, 'shock': 3676, 'sioux': 3677, 'arrive': 3678, 'rivers': 3679, 'formula': 3680, 'noem': 3681, 'distribute': 3682, 'julian': 3683, 'thin': 3684, 'collision': 3685, 'sooner': 3686, 'rugged': 3687, 'battles': 3688, 'census': 3689, 'facilities': 3690, 'organize': 3691, 'conditions': 3692, 'massacre': 3693, 'flags': 3694, 'skills': 3695, 'cheese': 3696, 'urgent': 3697, 'pursuit': 3698, 'mandate': 3699, 'aspects': 3700, 'grave': 3701, 'outlook': 3702, 'clearer': 3703, 'declaration': 3704, 'coordinated': 3705, 'pending': 3706, 'downtown': 3707, 'obscure': 3708, 'protections': 3709, 'dual': 3710, 'unanimously': 3711, 'circulated': 3712, 'plot': 3713, 'billy': 3714, 'extended': 3715, 'opposes': 3716, 'ladies': 3717, 'philippines': 3718, 'shifted': 3719, 'drones': 3720, 'advising': 3721, 'commanders': 3722, 'chest': 3723, 'actively': 3724, 'affiliate': 3725, 'variety': 3726, 'advise': 3727, 'militants': 3728, 'deployed': 3729, 'jeffrey': 3730, 'province': 3731, 'tenure': 3732, 'undercut': 3733, 'boost': 3734, 'phase': 3735, 'airing': 3736, 'violate': 3737, 'entities': 3738, 'persecution': 3739, 'heading': 3740, 'fears': 3741, 'lasted': 3742, 'transform': 3743, 'elementary': 3744, 'vocal': 3745, 'critic': 3746, 'grandmother': 3747, 'heartland': 3748, 'traditionally': 3749, 'saving': 3750, 'shelter': 3751, 'criticizing': 3752, 'sympathy': 3753, 'wondered': 3754, 'wise': 3755, 'compromises': 3756, 'firms': 3757, 'compete': 3758, 'tariff': 3759, 'removing': 3760, 'extensive': 3761, 'gasoline': 3762, 'diesel': 3763, 'treasury': 3764, 'criticize': 3765, 'recover': 3766, 'intentions': 3767, 'consciousness': 3768, 'logical': 3769, 'scary': 3770, 'phrase': 3771, 'rip': 3772, 'legislators': 3773, 'shouting': 3774, 'empty': 3775, 'column': 3776, 'bono': 3777, 'legally': 3778, 'travels': 3779, 'penny': 3780, 'celebration': 3781, 'comprehensive': 3782, 'dedicated': 3783, 'blessed': 3784, 'pindell': 3785, 'urge': 3786, 'pandering': 3787, 'ranks': 3788, 'stars': 3789, 'lobbied': 3790, 'francisco': 3791, 'expertise': 3792, 'firsthand': 3793, 'equality': 3794, 'honoring': 3795, 'privately': 3796, 'whitaker': 3797, 'courthouse': 3798, 'columbia': 3799, 'acted': 3800, 'recording': 3801, 'irregularities': 3802, 'litany': 3803, 'ukrainian': 3804, 'binary': 3805, 'designated': 3806, 'spiritual': 3807, 'fucking': 3808, 'meme': 3809, 'solikearose': 3810, 'fulfill': 3811, 'elaborate': 3812, 'overturn': 3813, 'description': 3814, 'fashion': 3815, 'figured': 3816, 'repeat': 3817, 'ordinary': 3818, 'assaulted': 3819, 'glad': 3820, 'larry': 3821, 'realized': 3822, 'sacred': 3823, 'sin': 3824, 'urging': 3825, 'switch': 3826, 'references': 3827, 'insisting': 3828, 'electronic': 3829, 'flying': 3830, 'threw': 3831, 'followers': 3832, 'guests': 3833, 'valid': 3834, 'bound': 3835, 'ointment': 3836, 'imagined': 3837, 'breathing': 3838, 'label': 3839, 'dies': 3840, 'murray': 3841, 'fat': 3842, 'professional': 3843, 'button': 3844, 'streep': 3845, 'bother': 3846, 'prohibit': 3847, 'pregnancy': 3848, 'butcher': 3849, 'marks': 3850, 'louder': 3851, 'directed': 3852, 'feeding': 3853, 'nursing': 3854, 'frequent': 3855, 'presiding': 3856, 'regard': 3857, 'hoax': 3858, 'seekers': 3859, 'singing': 3860, 'hagee': 3861, 'nowadays': 3862, 'environmental': 3863, 'suppress': 3864, 'welfare': 3865, 'canadian': 3866, 'rifle': 3867, 'distance': 3868, 'digging': 3869, 'everyday': 3870, 'obligations': 3871, 'oregon': 3872, 'parking': 3873, 'phones': 3874, 'warrant': 3875, 'booked': 3876, 'bombshell': 3877, 'pardoning': 3878, 'homosexuals': 3879, 'forbidden': 3880, 'deserves': 3881, 'remorse': 3882, 'females': 3883, 'fugitive': 3884, 'stefan': 3885, 'downward': 3886, 'clark': 3887, 'rolled': 3888, 'wore': 3889, 'hated': 3890, 'rapid': 3891, 'concession': 3892, 'backstage': 3893, 'gunshot': 3894, 'trigger': 3895, 'meaning': 3896, 'scientists': 3897, 'diabetes': 3898, 'freezer': 3899, 'suspicious': 3900, 'arrival': 3901, 'smell': 3902, 'jennings': 3903, 'freezers': 3904, 'mcdonald': 3905, 'closest': 3906, 'attempts': 3907, 'districts': 3908, 'deserved': 3909, 'severed': 3910, 'audit': 3911, 'compensation': 3912, 'attendant': 3913, 'threatening': 3914, 'males': 3915, 'sport': 3916, 'costa': 3917, 'improving': 3918, 'bottom': 3919, 'reinstated': 3920, 'centre': 3921, 'selective': 3922, 'nugent': 3923, 'prepare': 3924, 'unacceptable': 3925, 'separation': 3926, 'kick': 3927, 'secretly': 3928, 'median': 3929, 'reinforced': 3930, 'predictable': 3931, 'erected': 3932, 'kenya': 3933, 'barred': 3934, 'linked': 3935, 'gaffe': 3936, 'shtick': 3937, 'valley': 3938, 'confronted': 3939, 'restaurants': 3940, 'relaxation': 3941, 'exact': 3942, 'impose': 3943, 'mars': 3944, 'patriots': 3945, 'safer': 3946, 'echoing': 3947, 'cap': 3948, 'canceled': 3949, 'burn': 3950, 'laughter': 3951, 'inspired': 3952, 'possession': 3953, 'fathers': 3954, 'amounts': 3955, 'jupiter': 3956, 'occur': 3957, 'degrees': 3958, 'restore': 3959, 'peddling': 3960, 'vernal': 3961, 'flesh': 3962, 'provost': 3963, 'animal': 3964, 'upwards': 3965, 'franken': 3966, 'landings': 3967, 'favored': 3968, 'steel': 3969, 'recovered': 3970, 'rock': 3971, 'spaces': 3972, 'fines': 3973, 'rebuild': 3974, 'rank': 3975, 'newt': 3976, 'transfer': 3977, 'globe': 3978, 'foreigners': 3979, 'logic': 3980, 'focusing': 3981, 'joy': 3982, 'lean': 3983, 'serial': 3984, 'dying': 3985, 'leftist': 3986, 'seemingly': 3987, 'combined': 3988, 'kathy': 3989, 'segregation': 3990, 'crow': 3991, 'outrage': 3992, 'paint': 3993, 'respected': 3994, 'generating': 3995, 'defenders': 3996, 'speculated': 3997, 'locals': 3998, 'users': 3999, 'dogs': 4000, 'planes': 4001, 'hillaryclinton': 4002, 'lame': 4003, 'birthplace': 4004, 'praised': 4005, 'weigh': 4006, 'expert': 4007, 'connecticut': 4008, 'cooker': 4009, 'stabbed': 4010, 'surveys': 4011, 'charlie': 4012, 'hempstead': 4013, 'evade': 4014, 'nate': 4015, 'tuberculosis': 4016, 'forever': 4017, 'uk': 4018, 'fires': 4019, 'yelling': 4020, 'princess': 4021, 'victor': 4022, 'filmmaker': 4023, 'bottles': 4024, 'screw': 4025, 'strategist': 4026, 'counted': 4027, 'gingrich': 4028, 'curfew': 4029, 'posed': 4030, 'tactic': 4031, 'grim': 4032, 'closer': 4033, 'diplomats': 4034, 'lavrov': 4035, 'rebels': 4036, 'fields': 4037, 'poroshenko': 4038, 'partnership': 4039, 'toss': 4040, 'award': 4041, 'competitive': 4042, 'challenging': 4043, 'bombers': 4044, 'commitments': 4045, 'prompt': 4046, 'fourth': 4047, 'launches': 4048, 'amphibious': 4049, 'export': 4050, 'rob': 4051, 'downturn': 4052, 'territories': 4053, 'quelled': 4054, 'hostilities': 4055, 'settle': 4056, 'monopoly': 4057, 'bankruptcy': 4058, 'rated': 4059, 'nodded': 4060, 'texan': 4061, 'closely': 4062, 'founded': 4063, 'marinelli': 4064, 'extraordinary': 4065, 'chemical': 4066, 'cultural': 4067, 'nev': 4068, 'sets': 4069, 'domain': 4070, 'reelection': 4071, 'cosmopolitan': 4072, 'attitude': 4073, 'roundtable': 4074, 'rnc': 4075, 'hb': 4076, 'passes': 4077, 'blocking': 4078, 'npr': 4079, 'weld': 4080, 'pittsburgh': 4081, 'abiding': 4082, 'witnessing': 4083, 'kerr': 4084, 'demonstrated': 4085, 'segments': 4086, 'golfer': 4087, 'defraud': 4088, 'forfeiture': 4089, 'nielsen': 4090, 'misleading': 4091, 'select': 4092, 'jenner': 4093, 'charter': 4094, 'buys': 4095, 'takeover': 4096, 'soloway': 4097, 'emmys': 4098, 'suggestion': 4099, 'renzi': 4100, 'dumpster': 4101, 'clint': 4102, 'fought': 4103, 'narcissist': 4104, 'briefings': 4105, 'diluted': 4106, 'charities': 4107, 'relaxed': 4108, 'gaming': 4109, 'exchanges': 4110, 'fallon': 4111, 'performances': 4112, 'tmz': 4113, 'daughters': 4114, 'sr': 4115, 'danville': 4116, 'portsmouth': 4117, 'taylor': 4118, 'stephanie': 4119, 'glenn': 4120, 'materials': 4121, 'giffords': 4122, 'athletes': 4123, 'founders': 4124, 'buckley': 4125, 'fundraising': 4126, 'stewart': 4127, 'andy': 4128, 'slams': 4129, 'interrupted': 4130, 'jfk': 4131, 'critiques': 4132, 'lyndon': 4133, 'glance': 4134, 'disastrous': 4135, 'quotes': 4136, 'pritt': 4137, 'planted': 4138, 'courses': 4139, 'harsh': 4140, 'compassion': 4141, 'manipulating': 4142, 'nasty': 4143, 'bo': 4144, 'dearborn': 4145, 'pathological': 4146, 'ironically': 4147, 'shabab': 4148, 'hrc': 4149, 'meyers': 4150, 'casino': 4151, 'tendency': 4152, 'geist': 4153, 'rouhani': 4154, 'purported': 4155, 'troopers': 4156, 'accessible': 4157, 'mustard': 4158, 'huffingtonpost': 4159, 'rao': 4160, 'ues': 4161, 'burt': 4162, 'phoenix': 4163, 'traveled': 4164, 'documentary': 4165, 'figures': 4166, 'episode': 4167, 'hbo': 4168, 'levin': 4169, 'film': 4170, 'divisions': 4171, 'attractive': 4172, 'assets': 4173, 'annexation': 4174, 'meddling': 4175, 'yellow': 4176, 'economically': 4177, 'founding': 4178, 'endorse': 4179, 'doubled': 4180, 'technological': 4181, 'undermining': 4182, 'lectured': 4183, 'historian': 4184, 'sovereignty': 4185, 'collective': 4186, 'civilization': 4187, 'protects': 4188, 'quo': 4189, 'angela': 4190, 'defender': 4191, 'tel': 4192, 'aviv': 4193, 'possess': 4194, 'aftermath': 4195, 'hostage': 4196, 'unprecedented': 4197, 'coy': 4198, 'ancestors': 4199, 'isaiah': 4200, 'jessica': 4201, 'freed': 4202, 'equation': 4203, 'sexuality': 4204, 'graphic': 4205, 'nazi': 4206, 'backdrop': 4207, 'photograph': 4208, 'borderline': 4209, 'mock': 4210, 'gregory': 4211, 'disgusted': 4212, 'appalled': 4213, 'ibebunjo': 4214, 'wrist': 4215, 'russell': 4216, 'handing': 4217, 'snow': 4218, 'warm': 4219, 'stalled': 4220, 'contention': 4221, 'confession': 4222, 'yorkers': 4223, 'observers': 4224, 'racially': 4225, 'skepticism': 4226, 'brad': 4227, 'strained': 4228, 'manhunt': 4229, 'russo': 4230, 'cellphone': 4231, 'interrogation': 4232, 'gaps': 4233, 'falsehoods': 4234, 'cooperate': 4235, 'portrayed': 4236, 'implicit': 4237, 'lacks': 4238, 'ludicrous': 4239, 'remind': 4240, 'applause': 4241, 'expose': 4242, 'lands': 4243, 'quarters': 4244, 'vindication': 4245, 'fly': 4246, 'legitimacy': 4247, 'indication': 4248, 'staying': 4249, 'hogan': 4250, 'silly': 4251, 'negotiation': 4252, 'triumph': 4253, 'vanity': 4254, 'newsletter': 4255, 'intern': 4256, 'touted': 4257, 'opposing': 4258, 'drawing': 4259, 'naked': 4260, 'pants': 4261, 'mentally': 4262, 'item': 4263, 'allocated': 4264, 'driveway': 4265, 'walls': 4266, 'inmates': 4267, 'voiced': 4268, 'stretched': 4269, 'driven': 4270, 'depend': 4271, 'constituents': 4272, 'regular': 4273, 'displayed': 4274, 'meals': 4275, 'delivery': 4276, 'rising': 4277, 'grandchildren': 4278, 'rice': 4279, 'riders': 4280, 'toilet': 4281, 'collected': 4282, 'wrongdoing': 4283, 'deem': 4284, 'hush': 4285, 'herring': 4286, 'jamie': 4287, 'compelling': 4288, 'alter': 4289, 'proceedings': 4290, 'investigative': 4291, 'files': 4292, 'material': 4293, 'airports': 4294, 'conspiring': 4295, 'watchers': 4296, 'spinning': 4297, 'witch': 4298, 'interfere': 4299, 'absent': 4300, 'waged': 4301, 'analysts': 4302, 'executed': 4303, 'boycott': 4304, 'prevention': 4305, 'campuses': 4306, 'threatens': 4307, 'broadly': 4308, 'sharply': 4309, 'xenophobic': 4310, 'nationalist': 4311, 'irony': 4312, 'equally': 4313, 'idiotic': 4314, 'hoyer': 4315, 'ousted': 4316, 'baghuz': 4317, 'surrender': 4318, 'preservation': 4319, 'fish': 4320, 'jordan': 4321, 'counterterrorism': 4322, 'units': 4323, 'violently': 4324, 'parallel': 4325, 'albeit': 4326, 'scoop': 4327, 'coast': 4328, 'ghana': 4329, 'accelerating': 4330, 'reducing': 4331, 'damning': 4332, 'fortified': 4333, 'strongman': 4334, 'renewed': 4335, 'uncertainty': 4336, 'obstructing': 4337, 'finances': 4338, 'scheme': 4339, 'mongering': 4340, 'weighing': 4341, 'recall': 4342, 'sight': 4343, 'welcomed': 4344, 'trickle': 4345, 'prosecutions': 4346, 'vengeance': 4347, 'intense': 4348, 'awarded': 4349, 'camps': 4350, 'condemnation': 4351, 'underground': 4352, 'sweden': 4353, 'tuition': 4354, 'tearing': 4355, 'writer': 4356, 'detention': 4357, 'joked': 4358, 'anticipating': 4359, 'accommodation': 4360, 'invest': 4361, 'lip': 4362, 'provisions': 4363, 'asset': 4364, 'remark': 4365, 'banker': 4366, 'lobbyists': 4367, 'repeal': 4368, 'altered': 4369, 'therapeutic': 4370, 'historians': 4371, 'oppression': 4372, 'instagram': 4373, 'catharsis': 4374, 'sweeping': 4375, 'realm': 4376, 'ripped': 4377, 'trans': 4378, 'kissing': 4379, 'helps': 4380, 'scenes': 4381, 'modest': 4382, 'practical': 4383, 'anonymous': 4384, 'donate': 4385, 'vacation': 4386, 'overcome': 4387, 'fundamentally': 4388, 'handling': 4389, 'exhibitions': 4390, 'crawl': 4391, 'paintings': 4392, 'alexander': 4393, 'speed': 4394, 'elderly': 4395, 'tapped': 4396, 'deceased': 4397, 'valuable': 4398, 'rose': 4399, 'dealers': 4400, 'bradford': 4401, 'contribute': 4402, 'anita': 4403, 'aesthetics': 4404, 'polio': 4405, 'interpreted': 4406, 'conception': 4407, 'rulings': 4408, 'workplace': 4409, 'dawn': 4410, 'safeguard': 4411, 'ph': 4412, 'telephone': 4413, 'moore': 4414, 'federation': 4415, 'blackboard': 4416, 'jurisdiction': 4417, 'avenue': 4418, 'involve': 4419, 'gravity': 4420, 'cooperating': 4421, 'deadline': 4422, 'sentenced': 4423, 'registration': 4424, 'disclosed': 4425, 'khuzami': 4426, 'strauss': 4427, 'andrea': 4428, 'laura': 4429, 'shower': 4430, 'willfully': 4431, 'violates': 4432, 'exceed': 4433, 'denzel': 4434, 'catching': 4435, 'celebrities': 4436, 'gorilla': 4437, 'tomshliand': 4438, 'tyler': 4439, 'broadcasting': 4440, 'compromised': 4441, 'operator': 4442, 'mentioned': 4443, 'melissa': 4444, 'spreads': 4445, 'scare': 4446, 'solace': 4447, 'freak': 4448, 'privacy': 4449, 'gotta': 4450, 'kicked': 4451, 'disappoint': 4452, 'mask': 4453, 'leon': 4454, 'machines': 4455, 'disrespect': 4456, 'adult': 4457, 'reviewing': 4458, 'grabbing': 4459, 'freely': 4460, 'significance': 4461, 'smear': 4462, 'refuse': 4463, 'claus': 4464, 'twisting': 4465, 'cultures': 4466, 'confirming': 4467, 'alleging': 4468, 'detailing': 4469, 'conscientious': 4470, 'electors': 4471, 'assuming': 4472, 'likelihood': 4473, 'tall': 4474, 'upset': 4475, 'offend': 4476, 'reminded': 4477, 'gays': 4478, 'dime': 4479, 'swear': 4480, 'explains': 4481, 'shoulders': 4482, 'describes': 4483, 'bus': 4484, 'tolerance': 4485, 'teachings': 4486, 'mohammed': 4487, 'opposite': 4488, 'labels': 4489, 'illness': 4490, 'burger': 4491, 'pension': 4492, 'taxpayer': 4493, 'ranging': 4494, 'presumptive': 4495, 'meryl': 4496, 'florence': 4497, 'irrelevant': 4498, 'rant': 4499, 'promotes': 4500, 'invented': 4501, 'ultimate': 4502, 'prohibited': 4503, 'duo': 4504, 'revive': 4505, 'emanuel': 4506, 'intend': 4507, 'rasheed': 4508, 'utter': 4509, 'temper': 4510, 'flickr': 4511, 'register': 4512, 'commonly': 4513, 'locations': 4514, 'pissed': 4515, 'strict': 4516, 'disobedience': 4517, 'sentencing': 4518, 'disruption': 4519, 'apply': 4520, 'traditions': 4521, 'reject': 4522, 'settlements': 4523, 'mississippi': 4524, 'investing': 4525, 'rodham': 4526, 'controversy': 4527, 'kim': 4528, 'sing': 4529, 'beneath': 4530, 'radicals': 4531, 'assimilate': 4532, 'integrate': 4533, 'patriotic': 4534, 'bent': 4535, 'disrespectful': 4536, 'surround': 4537, 'maker': 4538, 'whales': 4539, 'leak': 4540, 'tons': 4541, 'procedures': 4542, 'engineer': 4543, 'gruesome': 4544, 'disappeared': 4545, 'inserted': 4546, 'plugin': 4547, 'slot': 4548, 'porter': 4549, 'wondering': 4550, 'interviewer': 4551, 'leaks': 4552, 'bright': 4553, 'eaten': 4554, 'subsequent': 4555, 'trafficking': 4556, 'bruce': 4557, 'snoop': 4558, 'dogg': 4559, 'survival': 4560, 'contacted': 4561, 'crap': 4562, 'luncheon': 4563, 'production': 4564, 'format': 4565, 'hugh': 4566, 'superstar': 4567, 'accuracy': 4568, 'infected': 4569, 'virgin': 4570, 'attraction': 4571, 'nypd': 4572, 'pictured': 4573, 'dancing': 4574, 'awhile': 4575, 'lifestyle': 4576, 'nerve': 4577, 'expense': 4578, 'rude': 4579, 'finish': 4580, 'relax': 4581, 'laying': 4582, 'buried': 4583, 'purposely': 4584, 'dorm': 4585, 'borrowed': 4586, 'lucky': 4587, 'cry': 4588, 'dare': 4589, 'pouring': 4590, 'heaven': 4591, 'intentional': 4592, 'formed': 4593, 'eskom': 4594, 'managers': 4595, 'commercials': 4596, 'examiner': 4597, 'naval': 4598, 'carved': 4599, 'lexington': 4600, 'locked': 4601, 'insane': 4602, 'purchased': 4603, 'patriot': 4604, 'owed': 4605, 'rejecting': 4606, 'sounding': 4607, 'wonderful': 4608, 'unsafe': 4609, 'manslaughter': 4610, 'scrutinized': 4611, 'recreational': 4612, 'dive': 4613, 'concrete': 4614, 'extends': 4615, 'bride': 4616, 'erupted': 4617, 'dragged': 4618, 'airlines': 4619, 'screaming': 4620, 'combination': 4621, 'guarantee': 4622, 'serves': 4623, 'forms': 4624, 'easter': 4625, 'productive': 4626, 'catastrophe': 4627, 'owes': 4628, 'delayed': 4629, 'shaking': 4630, 'collect': 4631, 'montana': 4632, 'hunter': 4633, 'tolerant': 4634, 'perpetrators': 4635, 'harassing': 4636, 'shutdown': 4637, 'ice': 4638, 'cream': 4639, 'creator': 4640, 'jan': 4641, 'lance': 4642, 'armstrong': 4643, 'anna': 4644, 'infections': 4645, 'refuses': 4646, 'plates': 4647, 'puerto': 4648, 'contractor': 4649, 'controlling': 4650, 'waving': 4651, 'ho': 4652, 'forthcoming': 4653, 'solve': 4654, 'slain': 4655, 'bike': 4656, 'chickens': 4657, 'blend': 4658, 'herbs': 4659, 'saved': 4660, 'astronauts': 4661, 'muscle': 4662, 'ignore': 4663, 'bloody': 4664, 'comprised': 4665, 'calif': 4666, 'watergate': 4667, 'hayes': 4668, 'nsa': 4669, 'brave': 4670, 'neighborhoods': 4671, 'remembering': 4672, 'correspondent': 4673, 'patsy': 4674, 'bahamas': 4675, 'astonishing': 4676, 'faked': 4677, 'reply': 4678, 'plants': 4679, 'bars': 4680, 'planet': 4681, 'venus': 4682, 'shine': 4683, 'temperature': 4684, 'effects': 4685, 'foolish': 4686, 'substance': 4687, 'pundits': 4688, 'boss': 4689, 'blasted': 4690, 'practicing': 4691, 'cannibalism': 4692, 'pharmaceutical': 4693, 'ball': 4694, 'disgrace': 4695, 'chappaqua': 4696, 'barrels': 4697, 'mccabe': 4698, 'missteps': 4699, 'probe': 4700, 'exclusive': 4701, 'sharia': 4702, 'prejudice': 4703, 'uncertain': 4704, 'denying': 4705, 'sentiments': 4706, 'compromise': 4707, 'absurd': 4708, 'excellent': 4709, 'pleased': 4710, 'rfid': 4711, 'shanti': 4712, 'identification': 4713, 'dominated': 4714, 'tuned': 4715, 'killings': 4716, 'judging': 4717, 'arrogant': 4718, 'chef': 4719, 'mead': 4720, 'eats': 4721, 'fork': 4722, 'coke': 4723, 'dig': 4724, 'shinzo': 4725, 'shelby': 4726, 'contradictory': 4727, 'properties': 4728, 'mansion': 4729, 'kid': 4730, 'turnout': 4731, 'resigned': 4732, 'unhinged': 4733, 'disregard': 4734, 'contributor': 4735, 'sexist': 4736, 'denies': 4737, 'factual': 4738, 'bitter': 4739, 'racists': 4740, 'hypothesis': 4741, 'impressed': 4742, 'becket': 4743, 'busy': 4744, 'punch': 4745, 'gabriel': 4746, 'populist': 4747, 'handy': 4748, 'duck': 4749, 'transparency': 4750, 'fails': 4751, 'yelled': 4752, 'sikh': 4753, 'bains': 4754, 'fleeing': 4755, 'admission': 4756, 'municipality': 4757, 'printed': 4758, 'disarm': 4759, 'residue': 4760, 'governors': 4761, 'disapproval': 4762, 'releases': 4763, 'hopefuls': 4764, 'economics': 4765, 'wealthy': 4766, 'eliminating': 4767, 'bridges': 4768, 'spat': 4769, 'collapsed': 4770, 'kiev': 4771, 'memories': 4772, 'climb': 4773, 'zone': 4774, 'assaults': 4775, 'southwest': 4776, 'saumagenkerwe': 4777, 'trustworthy': 4778, 'steiniger': 4779, 'celebrating': 4780, 'pageant': 4781, 'purple': 4782, 'huber': 4783, 'simone': 4784, 'secured': 4785, 'fred': 4786, 'heinz': 4787, 'letters': 4788, 'nervously': 4789, 'floors': 4790, 'irritated': 4791, 'sentiment': 4792, 'roof': 4793, 'eviscerated': 4794, 'lawman': 4795, 'omni': 4796, 'initiated': 4797, 'proactive': 4798, 'commissioner': 4799, 'airstrike': 4800, 'bbc': 4801, 'saves': 4802, 'collapses': 4803, 'flared': 4804, 'consultations': 4805, 'bashar': 4806, 'gesture': 4807, 'stumbleupon': 4808, 'screwed': 4809, 'civic': 4810, 'vibrant': 4811, 'credentials': 4812, 'complications': 4813, 'palestinian': 4814, 'solidly': 4815, 'endless': 4816, 'milwaukee': 4817, 'frankly': 4818, 'atmosphere': 4819, 'levied': 4820, 'bodyguards': 4821, 'lapd': 4822, 'oddly': 4823, 'lifelong': 4824, 'suburban': 4825, 'biography': 4826, 'acquisition': 4827, 'alumnus': 4828, 'dickinson': 4829, 'nonslave': 4830, 'northerners': 4831, 'sectional': 4832, 'ignoring': 4833, 'du': 4834, 'promoting': 4835, 'exacerbating': 4836, 'harpers': 4837, 'ferry': 4838, 'villages': 4839, 'hudson': 4840, 'contend': 4841, 'separatists': 4842, 'exit': 4843, 'banking': 4844, 'hotels': 4845, 'studied': 4846, 'fairness': 4847, 'handful': 4848, 'frustrated': 4849, 'crown': 4850, 'dec': 4851, 'import': 4852, 'drag': 4853, 'mcmorris': 4854, 'rodgers': 4855, 'frequently': 4856, 'podcast': 4857, 'bathrooms': 4858, 'loretta': 4859, 'constitutionality': 4860, 'factors': 4861, 'sues': 4862, 'sympathetic': 4863, 'flip': 4864, 'concentrated': 4865, 'stopgap': 4866, 'hints': 4867, 'unfolding': 4868, 'immense': 4869, 'bamberg': 4870, 'looted': 4871, 'mildly': 4872, 'terence': 4873, 'originated': 4874, 'reconsider': 4875, 'sponsors': 4876, 'jasta': 4877, 'blames': 4878, 'arnie': 4879, 'dandong': 4880, 'hongxiang': 4881, 'transactions': 4882, 'averaged': 4883, 'viewership': 4884, 'stayed': 4885, 'sky': 4886, 'streaming': 4887, 'defends': 4888, 'delaurentis': 4889, 'stoned': 4890, 'pulse': 4891, 'smarter': 4892, 'acceptance': 4893, 'sep': 4894, 'supremacist': 4895, 'aaron': 4896, 'intimidate': 4897, 'fits': 4898, 'slamming': 4899, 'vigorous': 4900, 'suspected': 4901, 'owns': 4902, 'dscc': 4903, 'hang': 4904, 'awards': 4905, 'comedy': 4906, 'outstanding': 4907, 'fundamentals': 4908, 'cardin': 4909, 'invasion': 4910, 'conferences': 4911, 'inaccurate': 4912, 'angell': 4913, 'forgotten': 4914, 'reassurance': 4915, 'abuse': 4916, 'firearm': 4917, 'verbal': 4918, 'grade': 4919, 'feature': 4920, 'millennials': 4921, 'burton': 4922, 'foundations': 4923, 'persistently': 4924, 'faulty': 4925, 'fraudulent': 4926, 'juncture': 4927, 'propublica': 4928, 'economist': 4929, 'retroviral': 4930, 'platelet': 4931, 'mumbai': 4932, 'ortel': 4933, 'manufacturers': 4934, 'benefited': 4935, 'rajat': 4936, 'insider': 4937, 'dealt': 4938, 'karen': 4939, 'charmian': 4940, 'introducing': 4941, 'diversity': 4942, 'bryan': 4943, 'opry': 4944, 'linda': 4945, 'memorials': 4946, 'specifics': 4947, 'farm': 4948, 'household': 4949, 'conflicts': 4950, 'heels': 4951, 'repeating': 4952, 'wiping': 4953, 'gerald': 4954, 'wapo': 4955, 'checker': 4956, 'britannica': 4957, 'convenience': 4958, 'remote': 4959, 'vetted': 4960, 'heidi': 4961, 'digital': 4962, 'squarely': 4963, 'ailes': 4964, 'volatile': 4965, 'americasbanks': 4966, 'katie': 4967, 'commentary': 4968, 'engagement': 4969, 'organizer': 4970, 'campbell': 4971, 'megan': 4972, 'stern': 4973, 'honorable': 4974, 'unforced': 4975, 'bully': 4976, 'virtue': 4977, 'goldwater': 4978, 'mondale': 4979, 'confident': 4980, 'theme': 4981, 'weather': 4982, 'mines': 4983, 'mining': 4984, 'pga': 4985, 'resort': 4986, 'arrogance': 4987, 'spends': 4988, 'assemble': 4989, 'warming': 4990, 'leaked': 4991, 'helmet': 4992, 'gains': 4993, 'herald': 4994, 'environmentalist': 4995, 'scumbags': 4996, 'lucas': 4997, 'invading': 4998, 'evidently': 4999}\n"
     ]
    }
   ],
   "source": [
    "words, word_to_id = build_vocab(concat_text,vocab_size)\n",
    "print(word_to_id)"
   ]
  },
  {
   "cell_type": "code",
   "execution_count": 79,
   "metadata": {},
   "outputs": [
    {
     "name": "stdout",
     "output_type": "stream",
     "text": [
      "5000\n"
     ]
    }
   ],
   "source": [
    "print(len(word_to_id))"
   ]
  },
  {
   "cell_type": "code",
   "execution_count": 80,
   "metadata": {},
   "outputs": [],
   "source": [
    "from sklearn.linear_model import LogisticRegression\n",
    "from sklearn.metrics import roc_curve, auc ,classification_report,roc_auc_score\n",
    "from sklearn.svm import SVC\n",
    "from sklearn.neighbors import KNeighborsClassifier\n",
    "from sklearn.ensemble import RandomForestClassifier, GradientBoostingClassifier\n",
    "from sklearn.model_selection import train_test_split\n",
    "from gensim.models.word2vec import Word2Vec\n",
    "from zhon.hanzi import punctuation\n",
    "import numpy as np\n",
    "import pandas as pd\n",
    "import jieba\n",
    "from sklearn.externals import joblib\n",
    "from sklearn.svm import SVC\n",
    "import sys \n",
    "import re\n",
    "import keras as kr\n"
   ]
  },
  {
   "cell_type": "code",
   "execution_count": 81,
   "metadata": {},
   "outputs": [],
   "source": [
    "#padding the samples sequence length = 300\n",
    "def get_pad_text(text_words, word_to_id, max_length=100):   \n",
    "    data_id=[]\n",
    "    for x in text_words:\n",
    "        single_text=[]\n",
    "        for i in x:\n",
    "            if i in words:\n",
    "                a=word_to_id[i]\n",
    "                single_text.append(a)\n",
    "        data_id.append(single_text)\n",
    "    x_pad = kr.preprocessing.sequence.pad_sequences(data_id, max_length)\n",
    "    return np.array(x_pad)\n",
    "\n",
    "X = get_pad_text(concat_text,word_to_id,max_length=sequence_length)"
   ]
  },
  {
   "cell_type": "code",
   "execution_count": 82,
   "metadata": {
    "scrolled": true
   },
   "outputs": [
    {
     "name": "stdout",
     "output_type": "stream",
     "text": [
      "(439, 300)\n",
      "[[   0    0    0 ... 1486  475   41]\n",
      " [3586  788  402 ...  191  402  170]\n",
      " [   0    0    0 ... 3144 4192 4193]\n",
      " ...\n",
      " [  18   21  691 ... 1894  252   56]\n",
      " [   0    0    0 ...    5 2925   79]\n",
      " [ 264   71  390 ...  210  252   56]]\n"
     ]
    }
   ],
   "source": [
    "print(X.shape)\n",
    "print(X)"
   ]
  },
  {
   "cell_type": "code",
   "execution_count": 83,
   "metadata": {},
   "outputs": [],
   "source": [
    "from sklearn.model_selection import train_test_split\n",
    "y = df['type'].astype(int)"
   ]
  },
  {
   "cell_type": "markdown",
   "metadata": {},
   "source": [
    "**划分训练集和线下验证集**"
   ]
  },
  {
   "cell_type": "code",
   "execution_count": 91,
   "metadata": {},
   "outputs": [
    {
     "name": "stdout",
     "output_type": "stream",
     "text": [
      "83     0\n",
      "322    0\n",
      "35     0\n",
      "402    1\n",
      "88     0\n",
      "133    0\n",
      "242    1\n",
      "0      1\n",
      "9      1\n",
      "168    1\n",
      "245    1\n",
      "176    1\n",
      "216    1\n",
      "302    0\n",
      "343    0\n",
      "416    1\n",
      "301    0\n",
      "171    1\n",
      "34     0\n",
      "41     0\n",
      "Name: type, dtype: int64\n"
     ]
    }
   ],
   "source": [
    "x_train,x_val,y_train,y_val = train_test_split(X,y,test_size=0.2,random_state=10,stratify=y)\n",
    "print(y_val[:20])"
   ]
  },
  {
   "cell_type": "code",
   "execution_count": 85,
   "metadata": {},
   "outputs": [
    {
     "name": "stdout",
     "output_type": "stream",
     "text": [
      "(351, 300)\n",
      "(88, 300)\n",
      "(351,)\n",
      "(88,)\n",
      "<class 'pandas.core.series.Series'>\n"
     ]
    }
   ],
   "source": [
    "print(x_train.shape)\n",
    "print(x_val.shape)\n",
    "print(y_train.shape)\n",
    "print(y_val.shape)\n",
    "print(type(y_train))"
   ]
  },
  {
   "cell_type": "code",
   "execution_count": 86,
   "metadata": {},
   "outputs": [],
   "source": [
    "from sklearn.linear_model import LogisticRegression\n",
    "from sklearn.metrics import roc_curve, auc ,classification_report,roc_auc_score\n",
    "from sklearn.svm import SVC\n",
    "from sklearn.neighbors import KNeighborsClassifier\n",
    "from sklearn.ensemble import RandomForestClassifier, GradientBoostingClassifier"
   ]
  },
  {
   "cell_type": "code",
   "execution_count": 87,
   "metadata": {},
   "outputs": [
    {
     "data": {
      "text/plain": [
       "SVC(C=1.0, cache_size=200, class_weight=None, coef0=0.0,\n",
       "  decision_function_shape='ovr', degree=3, gamma='auto', kernel='rbf',\n",
       "  max_iter=-1, probability=False, random_state=None, shrinking=True,\n",
       "  tol=0.001, verbose=False)"
      ]
     },
     "execution_count": 87,
     "metadata": {},
     "output_type": "execute_result"
    }
   ],
   "source": [
    "model = SVC(kernel='rbf',gamma='auto')\n",
    "model.fit(x_train, y_train)"
   ]
  },
  {
   "cell_type": "code",
   "execution_count": 88,
   "metadata": {},
   "outputs": [],
   "source": [
    "classifier_names = ['LR','RBF SVM','Random Forest','Boosted Trees']\n",
    "\n",
    "classifiers = [LogisticRegression(random_state=0),SVC(kernel='rbf'),\n",
    "               RandomForestClassifier(max_depth=6, n_estimators=60),\n",
    "               GradientBoostingClassifier(n_estimators=60, learning_rate=0.9,max_depth=5)]"
   ]
  },
  {
   "cell_type": "code",
   "execution_count": 89,
   "metadata": {},
   "outputs": [
    {
     "name": "stderr",
     "output_type": "stream",
     "text": [
      "//anaconda/lib/python3.6/site-packages/sklearn/linear_model/logistic.py:433: FutureWarning: Default solver will be changed to 'lbfgs' in 0.22. Specify a solver to silence this warning.\n",
      "  FutureWarning)\n",
      "//anaconda/lib/python3.6/site-packages/sklearn/svm/base.py:196: FutureWarning: The default value of gamma will change from 'auto' to 'scale' in version 0.22 to account better for unscaled features. Set gamma explicitly to 'auto' or 'scale' to avoid this warning.\n",
      "  \"avoid this warning.\", FutureWarning)\n"
     ]
    },
    {
     "name": "stdout",
     "output_type": "stream",
     "text": [
      "LR 0.06398200988769531\n",
      "RBF SVM 0.08272671699523926\n",
      "Random Forest 0.19029498100280762\n",
      "Boosted Trees 0.4781978130340576\n"
     ]
    }
   ],
   "source": [
    "#result to dict\n",
    "import time\n",
    "clf_results={}\n",
    "for i,model in zip(classifier_names,classifiers):\n",
    "    start = time.time()\n",
    "    model.fit(x_train, y_train)\n",
    "    pred_y = model.predict(x_val)\n",
    "    end = time.time()\n",
    "    if i == 'LR':\n",
    "        pred_y = model.predict_proba(x_val) \n",
    "    clf_results[i]=pred_y\n",
    "    print(i,end-start)"
   ]
  },
  {
   "cell_type": "code",
   "execution_count": 90,
   "metadata": {},
   "outputs": [
    {
     "name": "stdout",
     "output_type": "stream",
     "text": [
      "[1 1 1 1 1 1 1 1 1 1 1 1 1 1 1 1 1 1 1 1 1 1 1 1 1 1 1 1 1 1 1 1 1 1 1 1 0\n",
      " 1 1 1 1 1 1 1 1 1 1 1 1 1 1 1 1 1 1 1 1 1 1 1 1 1 1 1 1 1 1 1 1 1 1 1 1 0\n",
      " 1 1 0 1 1 1 1 1 1 1 1 1 1 1]\n",
      "<class 'numpy.ndarray'>\n",
      "[[1.00000000e+00 5.54498487e-58]\n",
      " [1.00000000e+00 1.27122996e-21]\n",
      " [1.00000000e+00 6.56929134e-77]\n",
      " [1.00000000e+00 1.04944784e-10]\n",
      " [0.00000000e+00 1.00000000e+00]\n",
      " [3.55271368e-15 1.00000000e+00]\n",
      " [1.00000000e+00 3.35532673e-12]\n",
      " [2.28130901e-01 7.71869099e-01]\n",
      " [9.99999967e-01 3.27495203e-08]\n",
      " [1.00000000e+00 2.44635279e-57]\n",
      " [1.19781416e-05 9.99988022e-01]\n",
      " [1.00000000e+00 1.61745215e-26]\n",
      " [6.26291797e-05 9.99937371e-01]\n",
      " [1.00000000e+00 2.69531733e-18]\n",
      " [0.00000000e+00 1.00000000e+00]\n",
      " [0.00000000e+00 1.00000000e+00]\n",
      " [9.99978930e-01 2.10704222e-05]\n",
      " [0.00000000e+00 1.00000000e+00]\n",
      " [9.99971992e-01 2.80080545e-05]\n",
      " [1.00000000e+00 1.56218265e-36]\n",
      " [3.50564716e-07 9.99999649e-01]\n",
      " [0.00000000e+00 1.00000000e+00]\n",
      " [1.00000000e+00 1.10628090e-26]\n",
      " [9.99995620e-01 4.38003983e-06]\n",
      " [1.04679822e-01 8.95320178e-01]\n",
      " [1.00000000e+00 1.29995343e-21]\n",
      " [7.17283807e-02 9.28271619e-01]\n",
      " [1.00000000e+00 2.84421058e-10]\n",
      " [0.00000000e+00 1.00000000e+00]\n",
      " [2.90054204e-07 9.99999710e-01]\n",
      " [1.61583994e-07 9.99999838e-01]\n",
      " [8.88524212e-01 1.11475788e-01]\n",
      " [1.00000000e+00 1.39038834e-15]\n",
      " [1.00000000e+00 2.46229766e-21]\n",
      " [0.00000000e+00 1.00000000e+00]\n",
      " [5.83799675e-12 1.00000000e+00]\n",
      " [1.00000000e+00 8.22188954e-37]\n",
      " [3.13105291e-05 9.99968689e-01]\n",
      " [2.68081113e-11 1.00000000e+00]\n",
      " [8.88524212e-01 1.11475788e-01]\n",
      " [0.00000000e+00 1.00000000e+00]\n",
      " [1.00000000e+00 2.82912054e-19]\n",
      " [0.00000000e+00 1.00000000e+00]\n",
      " [9.94602667e-01 5.39733265e-03]\n",
      " [0.00000000e+00 1.00000000e+00]\n",
      " [3.80357292e-07 9.99999620e-01]\n",
      " [3.28859162e-11 1.00000000e+00]\n",
      " [2.39886128e-08 9.99999976e-01]\n",
      " [1.00000000e+00 1.96931405e-43]\n",
      " [1.00000000e+00 4.70320567e-33]\n",
      " [1.00000000e+00 3.86899471e-35]\n",
      " [0.00000000e+00 1.00000000e+00]\n",
      " [1.00000000e+00 7.19641598e-34]\n",
      " [1.08579812e-13 1.00000000e+00]\n",
      " [1.00000000e+00 2.25966008e-28]\n",
      " [9.99375946e-01 6.24054422e-04]\n",
      " [0.00000000e+00 1.00000000e+00]\n",
      " [8.07332900e-02 9.19266710e-01]\n",
      " [1.00000000e+00 6.01979608e-17]\n",
      " [1.00000000e+00 3.39656870e-62]\n",
      " [9.92002332e-01 7.99766812e-03]\n",
      " [1.00000000e+00 2.28980571e-30]\n",
      " [6.57948013e-01 3.42051987e-01]\n",
      " [1.00000000e+00 7.70757468e-58]\n",
      " [1.00000000e+00 3.90863915e-19]\n",
      " [1.06439397e-05 9.99989356e-01]\n",
      " [0.00000000e+00 1.00000000e+00]\n",
      " [0.00000000e+00 1.00000000e+00]\n",
      " [0.00000000e+00 1.00000000e+00]\n",
      " [0.00000000e+00 1.00000000e+00]\n",
      " [1.00000000e+00 1.91375483e-66]\n",
      " [1.00000000e+00 1.16149728e-42]\n",
      " [1.00000000e+00 1.11612591e-13]\n",
      " [9.99927405e-01 7.25950433e-05]\n",
      " [9.89719224e-01 1.02807760e-02]\n",
      " [9.88678049e-01 1.13219512e-02]\n",
      " [9.99918414e-01 8.15859517e-05]\n",
      " [0.00000000e+00 1.00000000e+00]\n",
      " [9.99910659e-01 8.93413565e-05]\n",
      " [6.97947091e-08 9.99999930e-01]\n",
      " [9.99999999e-01 5.90876218e-10]\n",
      " [1.00000000e+00 3.25120454e-46]\n",
      " [1.10356169e-13 1.00000000e+00]\n",
      " [1.00000000e+00 1.59521505e-18]\n",
      " [1.00000000e+00 2.15541990e-33]\n",
      " [9.48131192e-05 9.99905187e-01]\n",
      " [0.00000000e+00 1.00000000e+00]\n",
      " [1.00000000e+00 3.02296193e-13]]\n",
      "[5.54498487e-58 1.27122996e-21 6.56929134e-77 1.04944784e-10\n",
      " 1.00000000e+00 1.00000000e+00 3.35532673e-12 7.71869099e-01\n",
      " 3.27495203e-08 2.44635279e-57 9.99988022e-01 1.61745215e-26\n",
      " 9.99937371e-01 2.69531733e-18 1.00000000e+00 1.00000000e+00\n",
      " 2.10704222e-05 1.00000000e+00 2.80080545e-05 1.56218265e-36\n",
      " 9.99999649e-01 1.00000000e+00 1.10628090e-26 4.38003983e-06\n",
      " 8.95320178e-01 1.29995343e-21 9.28271619e-01 2.84421058e-10\n",
      " 1.00000000e+00 9.99999710e-01 9.99999838e-01 1.11475788e-01\n",
      " 1.39038834e-15 2.46229766e-21 1.00000000e+00 1.00000000e+00\n",
      " 8.22188954e-37 9.99968689e-01 1.00000000e+00 1.11475788e-01\n",
      " 1.00000000e+00 2.82912054e-19 1.00000000e+00 5.39733265e-03\n",
      " 1.00000000e+00 9.99999620e-01 1.00000000e+00 9.99999976e-01\n",
      " 1.96931405e-43 4.70320567e-33 3.86899471e-35 1.00000000e+00\n",
      " 7.19641598e-34 1.00000000e+00 2.25966008e-28 6.24054422e-04\n",
      " 1.00000000e+00 9.19266710e-01 6.01979608e-17 3.39656870e-62\n",
      " 7.99766812e-03 2.28980571e-30 3.42051987e-01 7.70757468e-58\n",
      " 3.90863915e-19 9.99989356e-01 1.00000000e+00 1.00000000e+00\n",
      " 1.00000000e+00 1.00000000e+00 1.91375483e-66 1.16149728e-42\n",
      " 1.11612591e-13 7.25950433e-05 1.02807760e-02 1.13219512e-02\n",
      " 8.15859517e-05 1.00000000e+00 8.93413565e-05 9.99999930e-01\n",
      " 5.90876218e-10 3.25120454e-46 1.00000000e+00 1.59521505e-18\n",
      " 2.15541990e-33 9.99905187e-01 1.00000000e+00 3.02296193e-13]\n"
     ]
    }
   ],
   "source": [
    "print(clf_results['RBF SVM'])\n",
    "print(type(clf_results['RBF SVM']))\n",
    "print(clf_results['LR'])\n",
    "LR_2 = []\n",
    "for i in range(0,len(clf_results['LR'])):\n",
    "    LR_2.append(clf_results['LR'][i][1])\n",
    "LR_2 = np.array(LR_2)\n",
    "print(LR_2)\n"
   ]
  },
  {
   "cell_type": "code",
   "execution_count": 92,
   "metadata": {},
   "outputs": [
    {
     "data": {
      "text/html": [
       "<div>\n",
       "<style scoped>\n",
       "    .dataframe tbody tr th:only-of-type {\n",
       "        vertical-align: middle;\n",
       "    }\n",
       "\n",
       "    .dataframe tbody tr th {\n",
       "        vertical-align: top;\n",
       "    }\n",
       "\n",
       "    .dataframe thead th {\n",
       "        text-align: right;\n",
       "    }\n",
       "</style>\n",
       "<table border=\"1\" class=\"dataframe\">\n",
       "  <thead>\n",
       "    <tr style=\"text-align: right;\">\n",
       "      <th></th>\n",
       "      <th>predict</th>\n",
       "      <th>label</th>\n",
       "    </tr>\n",
       "  </thead>\n",
       "  <tbody>\n",
       "    <tr>\n",
       "      <th>0</th>\n",
       "      <td>0.562688</td>\n",
       "      <td>0</td>\n",
       "    </tr>\n",
       "    <tr>\n",
       "      <th>1</th>\n",
       "      <td>0.572481</td>\n",
       "      <td>0</td>\n",
       "    </tr>\n",
       "    <tr>\n",
       "      <th>2</th>\n",
       "      <td>0.575339</td>\n",
       "      <td>0</td>\n",
       "    </tr>\n",
       "    <tr>\n",
       "      <th>3</th>\n",
       "      <td>0.589680</td>\n",
       "      <td>1</td>\n",
       "    </tr>\n",
       "    <tr>\n",
       "      <th>4</th>\n",
       "      <td>0.559148</td>\n",
       "      <td>0</td>\n",
       "    </tr>\n",
       "  </tbody>\n",
       "</table>\n",
       "</div>"
      ],
      "text/plain": [
       "    predict  label\n",
       "0  0.562688      0\n",
       "1  0.572481      0\n",
       "2  0.575339      0\n",
       "3  0.589680      1\n",
       "4  0.559148      0"
      ]
     },
     "execution_count": 92,
     "metadata": {},
     "output_type": "execute_result"
    }
   ],
   "source": [
    "dir_2 = r'result_new_2.csv'\n",
    "\n",
    "predict_result = pd.read_csv(dir_2)\n",
    "predict_result.head()"
   ]
  },
  {
   "cell_type": "code",
   "execution_count": 93,
   "metadata": {},
   "outputs": [],
   "source": [
    "predict_result['svm'] = clf_results['RBF SVM']\n",
    "predict_result['LR'] = LR_2"
   ]
  },
  {
   "cell_type": "code",
   "execution_count": 94,
   "metadata": {},
   "outputs": [
    {
     "data": {
      "text/html": [
       "<div>\n",
       "<style scoped>\n",
       "    .dataframe tbody tr th:only-of-type {\n",
       "        vertical-align: middle;\n",
       "    }\n",
       "\n",
       "    .dataframe tbody tr th {\n",
       "        vertical-align: top;\n",
       "    }\n",
       "\n",
       "    .dataframe thead th {\n",
       "        text-align: right;\n",
       "    }\n",
       "</style>\n",
       "<table border=\"1\" class=\"dataframe\">\n",
       "  <thead>\n",
       "    <tr style=\"text-align: right;\">\n",
       "      <th></th>\n",
       "      <th>predict</th>\n",
       "      <th>label</th>\n",
       "      <th>svm</th>\n",
       "      <th>LR</th>\n",
       "    </tr>\n",
       "  </thead>\n",
       "  <tbody>\n",
       "    <tr>\n",
       "      <th>83</th>\n",
       "      <td>0.579382</td>\n",
       "      <td>1</td>\n",
       "      <td>1</td>\n",
       "      <td>1.595215e-18</td>\n",
       "    </tr>\n",
       "    <tr>\n",
       "      <th>84</th>\n",
       "      <td>0.582716</td>\n",
       "      <td>1</td>\n",
       "      <td>1</td>\n",
       "      <td>2.155420e-33</td>\n",
       "    </tr>\n",
       "    <tr>\n",
       "      <th>85</th>\n",
       "      <td>0.603707</td>\n",
       "      <td>1</td>\n",
       "      <td>1</td>\n",
       "      <td>9.999052e-01</td>\n",
       "    </tr>\n",
       "    <tr>\n",
       "      <th>86</th>\n",
       "      <td>0.559997</td>\n",
       "      <td>0</td>\n",
       "      <td>1</td>\n",
       "      <td>1.000000e+00</td>\n",
       "    </tr>\n",
       "    <tr>\n",
       "      <th>87</th>\n",
       "      <td>0.568096</td>\n",
       "      <td>0</td>\n",
       "      <td>1</td>\n",
       "      <td>3.022962e-13</td>\n",
       "    </tr>\n",
       "  </tbody>\n",
       "</table>\n",
       "</div>"
      ],
      "text/plain": [
       "     predict  label  svm            LR\n",
       "83  0.579382      1    1  1.595215e-18\n",
       "84  0.582716      1    1  2.155420e-33\n",
       "85  0.603707      1    1  9.999052e-01\n",
       "86  0.559997      0    1  1.000000e+00\n",
       "87  0.568096      0    1  3.022962e-13"
      ]
     },
     "execution_count": 94,
     "metadata": {},
     "output_type": "execute_result"
    }
   ],
   "source": [
    "predict_result.tail()"
   ]
  },
  {
   "cell_type": "code",
   "execution_count": 95,
   "metadata": {},
   "outputs": [
    {
     "data": {
      "text/html": [
       "<div>\n",
       "<style scoped>\n",
       "    .dataframe tbody tr th:only-of-type {\n",
       "        vertical-align: middle;\n",
       "    }\n",
       "\n",
       "    .dataframe tbody tr th {\n",
       "        vertical-align: top;\n",
       "    }\n",
       "\n",
       "    .dataframe thead th {\n",
       "        text-align: right;\n",
       "    }\n",
       "</style>\n",
       "<table border=\"1\" class=\"dataframe\">\n",
       "  <thead>\n",
       "    <tr style=\"text-align: right;\">\n",
       "      <th></th>\n",
       "      <th>predict</th>\n",
       "      <th>label</th>\n",
       "      <th>svm</th>\n",
       "      <th>LR</th>\n",
       "      <th>final_result</th>\n",
       "    </tr>\n",
       "  </thead>\n",
       "  <tbody>\n",
       "    <tr>\n",
       "      <th>0</th>\n",
       "      <td>0.562688</td>\n",
       "      <td>0</td>\n",
       "      <td>1</td>\n",
       "      <td>5.544985e-58</td>\n",
       "      <td>0.606419</td>\n",
       "    </tr>\n",
       "    <tr>\n",
       "      <th>1</th>\n",
       "      <td>0.572481</td>\n",
       "      <td>0</td>\n",
       "      <td>1</td>\n",
       "      <td>1.271230e-21</td>\n",
       "      <td>0.615233</td>\n",
       "    </tr>\n",
       "    <tr>\n",
       "      <th>2</th>\n",
       "      <td>0.575339</td>\n",
       "      <td>0</td>\n",
       "      <td>1</td>\n",
       "      <td>6.569291e-77</td>\n",
       "      <td>0.617805</td>\n",
       "    </tr>\n",
       "    <tr>\n",
       "      <th>3</th>\n",
       "      <td>0.589680</td>\n",
       "      <td>1</td>\n",
       "      <td>1</td>\n",
       "      <td>1.049448e-10</td>\n",
       "      <td>0.630712</td>\n",
       "    </tr>\n",
       "    <tr>\n",
       "      <th>4</th>\n",
       "      <td>0.559148</td>\n",
       "      <td>0</td>\n",
       "      <td>1</td>\n",
       "      <td>1.000000e+00</td>\n",
       "      <td>0.603234</td>\n",
       "    </tr>\n",
       "  </tbody>\n",
       "</table>\n",
       "</div>"
      ],
      "text/plain": [
       "    predict  label  svm            LR  final_result\n",
       "0  0.562688      0    1  5.544985e-58      0.606419\n",
       "1  0.572481      0    1  1.271230e-21      0.615233\n",
       "2  0.575339      0    1  6.569291e-77      0.617805\n",
       "3  0.589680      1    1  1.049448e-10      0.630712\n",
       "4  0.559148      0    1  1.000000e+00      0.603234"
      ]
     },
     "execution_count": 95,
     "metadata": {},
     "output_type": "execute_result"
    }
   ],
   "source": [
    "predict_result['final_result'] = 0.1 * predict_result['svm'] + 0.9 * predict_result['predict']\n",
    "predict_result.head()"
   ]
  },
  {
   "cell_type": "code",
   "execution_count": 96,
   "metadata": {},
   "outputs": [
    {
     "name": "stdout",
     "output_type": "stream",
     "text": [
      "[0.60641919 0.61523309 0.61780501 0.63071207 0.60323353 0.61100604\n",
      " 0.62965512 0.60908998 0.62530372 0.62307705 0.63260013 0.61607477\n",
      " 0.62215786 0.60933036 0.59474086 0.61326296 0.603113   0.61765003\n",
      " 0.60773321 0.60683467 0.60559431 0.62241111 0.60059676 0.63103356\n",
      " 0.6185872  0.61728112 0.62698412 0.60009825 0.61143653 0.60759304\n",
      " 0.6167951  0.61046091 0.61064517 0.60672352 0.61951562 0.60599439\n",
      " 0.49869373 0.61409004 0.61866117 0.61046091 0.62464641 0.60436838\n",
      " 0.62526928 0.5652115  0.62100612 0.62399378 0.61409273 0.60617865\n",
      " 0.60325526 0.61040362 0.60763622 0.60372846 0.62092313 0.60192306\n",
      " 0.61555206 0.61729185 0.6185409  0.62358292 0.60382646 0.62516301\n",
      " 0.61859058 0.59900734 0.59189262 0.60210867 0.60057917 0.63943579\n",
      " 0.6143448  0.63217548 0.61644593 0.63451614 0.62135958 0.60811376\n",
      " 0.62873968 0.5007666  0.60230951 0.61256215 0.51100255 0.6103114\n",
      " 0.60565745 0.622631   0.61153653 0.62583243 0.61595348 0.62144391\n",
      " 0.62444434 0.64333605 0.60399737 0.61128612]\n",
      "<class 'numpy.ndarray'>\n",
      "[[ 1 40]\n",
      " [ 0 47]]\n"
     ]
    }
   ],
   "source": [
    "result = np.array(predict_result['final_result'])\n",
    "print(result)\n",
    "print(type(result))\n",
    "def Chang_(pred):\n",
    "    results = []\n",
    "    for i in range(len(pred)):\n",
    "        if pred[i]>0.5:\n",
    "            temp = 1\n",
    "            results.append(temp)\n",
    "        else:\n",
    "            temp = 0\n",
    "            results.append(temp)\n",
    "    return results\n",
    "        \n",
    "results = Chang_(result)\n",
    "\n",
    "from sklearn.metrics import confusion_matrix\n",
    "print(confusion_matrix(y_val, results))\n"
   ]
  },
  {
   "cell_type": "code",
   "execution_count": 97,
   "metadata": {},
   "outputs": [
    {
     "name": "stdout",
     "output_type": "stream",
     "text": [
      "precision: 0.5402298850574713\n",
      "recall: 1.0\n",
      "f1: 0.7014925373134328\n",
      "-========\n"
     ]
    }
   ],
   "source": [
    "from sklearn.metrics import precision_score, recall_score\n",
    "from sklearn.metrics import f1_score\n",
    "\n",
    "print('precision:',precision_score(y_val, results))\n",
    "print('recall:',recall_score(y_val, results))\n",
    "print('f1:',f1_score(y_val, results))\n",
    "print('-========')"
   ]
  },
  {
   "cell_type": "code",
   "execution_count": 98,
   "metadata": {},
   "outputs": [
    {
     "name": "stdout",
     "output_type": "stream",
     "text": [
      "[1 1 1 1 1 1 1 1 1 1 1 1 1 1 1 1 1 1 1 1 1 1 1 1 1 1 1 1 1 1 1 1 1 1 1 1 0\n",
      " 1 1 1 1 1 1 1 1 1 1 1 1 1 1 1 1 1 1 1 1 1 1 1 1 1 1 1 1 1 1 1 1 1 1 1 1 1\n",
      " 1 1 1 1 1 1 1 1 1 1 1 1 1 1]\n"
     ]
    }
   ],
   "source": [
    "y_scores = pd.DataFrame(results)[0].values\n",
    "print(y_scores)"
   ]
  },
  {
   "cell_type": "code",
   "execution_count": 99,
   "metadata": {},
   "outputs": [
    {
     "name": "stdout",
     "output_type": "stream",
     "text": [
      "0.5121951219512195\n"
     ]
    }
   ],
   "source": [
    "auc_value = roc_auc_score(y_val, y_scores)\n",
    "print(auc_value)"
   ]
  },
  {
   "cell_type": "code",
   "execution_count": null,
   "metadata": {},
   "outputs": [],
   "source": []
  },
  {
   "cell_type": "code",
   "execution_count": 100,
   "metadata": {},
   "outputs": [
    {
     "data": {
      "text/html": [
       "<div>\n",
       "<style scoped>\n",
       "    .dataframe tbody tr th:only-of-type {\n",
       "        vertical-align: middle;\n",
       "    }\n",
       "\n",
       "    .dataframe tbody tr th {\n",
       "        vertical-align: top;\n",
       "    }\n",
       "\n",
       "    .dataframe thead th {\n",
       "        text-align: right;\n",
       "    }\n",
       "</style>\n",
       "<table border=\"1\" class=\"dataframe\">\n",
       "  <thead>\n",
       "    <tr style=\"text-align: right;\">\n",
       "      <th></th>\n",
       "      <th>predict</th>\n",
       "      <th>label</th>\n",
       "      <th>svm</th>\n",
       "      <th>LR</th>\n",
       "      <th>final_result</th>\n",
       "      <th>final_result_lr</th>\n",
       "    </tr>\n",
       "  </thead>\n",
       "  <tbody>\n",
       "    <tr>\n",
       "      <th>0</th>\n",
       "      <td>0.562688</td>\n",
       "      <td>0</td>\n",
       "      <td>1</td>\n",
       "      <td>5.544985e-58</td>\n",
       "      <td>0.606419</td>\n",
       "      <td>0.337613</td>\n",
       "    </tr>\n",
       "    <tr>\n",
       "      <th>1</th>\n",
       "      <td>0.572481</td>\n",
       "      <td>0</td>\n",
       "      <td>1</td>\n",
       "      <td>1.271230e-21</td>\n",
       "      <td>0.615233</td>\n",
       "      <td>0.343489</td>\n",
       "    </tr>\n",
       "    <tr>\n",
       "      <th>2</th>\n",
       "      <td>0.575339</td>\n",
       "      <td>0</td>\n",
       "      <td>1</td>\n",
       "      <td>6.569291e-77</td>\n",
       "      <td>0.617805</td>\n",
       "      <td>0.345203</td>\n",
       "    </tr>\n",
       "    <tr>\n",
       "      <th>3</th>\n",
       "      <td>0.589680</td>\n",
       "      <td>1</td>\n",
       "      <td>1</td>\n",
       "      <td>1.049448e-10</td>\n",
       "      <td>0.630712</td>\n",
       "      <td>0.353808</td>\n",
       "    </tr>\n",
       "    <tr>\n",
       "      <th>4</th>\n",
       "      <td>0.559148</td>\n",
       "      <td>0</td>\n",
       "      <td>1</td>\n",
       "      <td>1.000000e+00</td>\n",
       "      <td>0.603234</td>\n",
       "      <td>0.735489</td>\n",
       "    </tr>\n",
       "  </tbody>\n",
       "</table>\n",
       "</div>"
      ],
      "text/plain": [
       "    predict  label  svm            LR  final_result  final_result_lr\n",
       "0  0.562688      0    1  5.544985e-58      0.606419         0.337613\n",
       "1  0.572481      0    1  1.271230e-21      0.615233         0.343489\n",
       "2  0.575339      0    1  6.569291e-77      0.617805         0.345203\n",
       "3  0.589680      1    1  1.049448e-10      0.630712         0.353808\n",
       "4  0.559148      0    1  1.000000e+00      0.603234         0.735489"
      ]
     },
     "execution_count": 100,
     "metadata": {},
     "output_type": "execute_result"
    }
   ],
   "source": [
    "#freq-LR + TEXTCNN\n",
    "predict_result['final_result_lr'] = 0.4 * predict_result['LR'] + 0.6 * predict_result['predict']\n",
    "predict_result.head()"
   ]
  },
  {
   "cell_type": "code",
   "execution_count": 101,
   "metadata": {},
   "outputs": [
    {
     "name": "stdout",
     "output_type": "stream",
     "text": [
      "[0.3376128  0.34348873 0.34520334 0.35380805 0.73548902 0.74067069\n",
      " 0.35310341 0.64814096 0.35020249 0.34871804 0.75506196 0.34404985\n",
      " 0.74808019 0.33955357 0.72982724 0.7421753  0.33541709 0.74510002\n",
      " 0.33850001 0.33788978 0.73706273 0.74827408 0.33373117 0.35402412\n",
      " 0.70385287 0.34485408 0.72263139 0.33339883 0.74095769 0.73839524\n",
      " 0.74453001 0.38489759 0.34043012 0.33781568 0.74634374 0.73732959\n",
      " 0.33246249 0.74271417 0.74577411 0.38489759 0.74976428 0.33624558\n",
      " 0.75017952 0.31229994 0.74733741 0.74932903 0.74272848 0.73745243\n",
      " 0.33550351 0.34026908 0.33842415 0.73581897 0.34728209 0.73461537\n",
      " 0.34370137 0.34511086 0.74569393 0.71676196 0.33588431 0.35010867\n",
      " 0.34892612 0.33267156 0.46474921 0.33473911 0.33371944 0.7596196\n",
      " 0.74289653 0.75478365 0.74429729 0.75634409 0.34757305 0.33874251\n",
      " 0.35249312 0.33387344 0.33898532 0.34623688 0.340701   0.7402076\n",
      " 0.3371407  0.74842064 0.34102435 0.35055496 0.74396899 0.34762927\n",
      " 0.34962956 0.76218611 0.73599825 0.34085741]\n",
      "<class 'numpy.ndarray'>\n",
      "[[28 13]\n",
      " [21 26]]\n"
     ]
    }
   ],
   "source": [
    "result = np.array(predict_result['final_result_lr'])\n",
    "print(result)\n",
    "print(type(result))\n",
    "def Chang_(pred):\n",
    "    results = []\n",
    "    for i in range(len(pred)):\n",
    "        if pred[i]>0.5:\n",
    "            temp = 1\n",
    "            results.append(temp)\n",
    "        else:\n",
    "            temp = 0\n",
    "            results.append(temp)\n",
    "    return results\n",
    "        \n",
    "results = Chang_(result)\n",
    "\n",
    "from sklearn.metrics import confusion_matrix\n",
    "print(confusion_matrix(y_val, results))\n"
   ]
  },
  {
   "cell_type": "code",
   "execution_count": 102,
   "metadata": {},
   "outputs": [
    {
     "name": "stdout",
     "output_type": "stream",
     "text": [
      "[0 0 0 0 1 1 0 1 0 0 1 0 1 0 1 1 0 1 0 0 1 1 0 0 1 0 1 0 1 1 1 0 0 0 1 1 0\n",
      " 1 1 0 1 0 1 0 1 1 1 1 0 0 0 1 0 1 0 0 1 1 0 0 0 0 0 0 0 1 1 1 1 1 0 0 0 0\n",
      " 0 0 0 1 0 1 0 0 1 0 0 1 1 0]\n"
     ]
    }
   ],
   "source": [
    "y_scores = pd.DataFrame(results)[0].values\n",
    "print(y_scores)"
   ]
  },
  {
   "cell_type": "code",
   "execution_count": 103,
   "metadata": {},
   "outputs": [
    {
     "name": "stdout",
     "output_type": "stream",
     "text": [
      "0.6180591593149974\n"
     ]
    }
   ],
   "source": [
    "auc_value = roc_auc_score(y_val, y_scores)\n",
    "print(auc_value)"
   ]
  },
  {
   "cell_type": "code",
   "execution_count": null,
   "metadata": {},
   "outputs": [],
   "source": []
  },
  {
   "cell_type": "code",
   "execution_count": null,
   "metadata": {},
   "outputs": [],
   "source": []
  },
  {
   "cell_type": "code",
   "execution_count": null,
   "metadata": {},
   "outputs": [],
   "source": []
  },
  {
   "cell_type": "code",
   "execution_count": 44,
   "metadata": {},
   "outputs": [
    {
     "ename": "ValueError",
     "evalue": "Classification metrics can't handle a mix of binary and continuous-multioutput targets",
     "output_type": "error",
     "traceback": [
      "\u001b[0;31m---------------------------------------------------------------------------\u001b[0m",
      "\u001b[0;31mValueError\u001b[0m                                Traceback (most recent call last)",
      "\u001b[0;32m<ipython-input-44-2f782ac5a35b>\u001b[0m in \u001b[0;36m<module>\u001b[0;34m\u001b[0m\n\u001b[1;32m      2\u001b[0m \u001b[0;34m\u001b[0m\u001b[0m\n\u001b[1;32m      3\u001b[0m \u001b[0;32mfor\u001b[0m \u001b[0mi\u001b[0m \u001b[0;32min\u001b[0m \u001b[0mclf_results\u001b[0m\u001b[0;34m.\u001b[0m\u001b[0mkeys\u001b[0m\u001b[0;34m(\u001b[0m\u001b[0;34m)\u001b[0m\u001b[0;34m:\u001b[0m\u001b[0;34m\u001b[0m\u001b[0;34m\u001b[0m\u001b[0m\n\u001b[0;32m----> 4\u001b[0;31m     \u001b[0mprint\u001b[0m\u001b[0;34m(\u001b[0m\u001b[0mi\u001b[0m\u001b[0;34m,\u001b[0m\u001b[0mconfusion_matrix\u001b[0m\u001b[0;34m(\u001b[0m\u001b[0my_val\u001b[0m\u001b[0;34m,\u001b[0m \u001b[0mclf_results\u001b[0m\u001b[0;34m[\u001b[0m\u001b[0mi\u001b[0m\u001b[0;34m]\u001b[0m\u001b[0;34m)\u001b[0m\u001b[0;34m)\u001b[0m\u001b[0;34m\u001b[0m\u001b[0;34m\u001b[0m\u001b[0m\n\u001b[0m\u001b[1;32m      5\u001b[0m     \u001b[0mprint\u001b[0m\u001b[0;34m(\u001b[0m\u001b[0;34m'-========'\u001b[0m\u001b[0;34m)\u001b[0m\u001b[0;34m\u001b[0m\u001b[0;34m\u001b[0m\u001b[0m\n",
      "\u001b[0;32m//anaconda/lib/python3.6/site-packages/sklearn/metrics/classification.py\u001b[0m in \u001b[0;36mconfusion_matrix\u001b[0;34m(y_true, y_pred, labels, sample_weight)\u001b[0m\n\u001b[1;32m    251\u001b[0m \u001b[0;34m\u001b[0m\u001b[0m\n\u001b[1;32m    252\u001b[0m     \"\"\"\n\u001b[0;32m--> 253\u001b[0;31m     \u001b[0my_type\u001b[0m\u001b[0;34m,\u001b[0m \u001b[0my_true\u001b[0m\u001b[0;34m,\u001b[0m \u001b[0my_pred\u001b[0m \u001b[0;34m=\u001b[0m \u001b[0m_check_targets\u001b[0m\u001b[0;34m(\u001b[0m\u001b[0my_true\u001b[0m\u001b[0;34m,\u001b[0m \u001b[0my_pred\u001b[0m\u001b[0;34m)\u001b[0m\u001b[0;34m\u001b[0m\u001b[0;34m\u001b[0m\u001b[0m\n\u001b[0m\u001b[1;32m    254\u001b[0m     \u001b[0;32mif\u001b[0m \u001b[0my_type\u001b[0m \u001b[0;32mnot\u001b[0m \u001b[0;32min\u001b[0m \u001b[0;34m(\u001b[0m\u001b[0;34m\"binary\"\u001b[0m\u001b[0;34m,\u001b[0m \u001b[0;34m\"multiclass\"\u001b[0m\u001b[0;34m)\u001b[0m\u001b[0;34m:\u001b[0m\u001b[0;34m\u001b[0m\u001b[0;34m\u001b[0m\u001b[0m\n\u001b[1;32m    255\u001b[0m         \u001b[0;32mraise\u001b[0m \u001b[0mValueError\u001b[0m\u001b[0;34m(\u001b[0m\u001b[0;34m\"%s is not supported\"\u001b[0m \u001b[0;34m%\u001b[0m \u001b[0my_type\u001b[0m\u001b[0;34m)\u001b[0m\u001b[0;34m\u001b[0m\u001b[0;34m\u001b[0m\u001b[0m\n",
      "\u001b[0;32m//anaconda/lib/python3.6/site-packages/sklearn/metrics/classification.py\u001b[0m in \u001b[0;36m_check_targets\u001b[0;34m(y_true, y_pred)\u001b[0m\n\u001b[1;32m     79\u001b[0m     \u001b[0;32mif\u001b[0m \u001b[0mlen\u001b[0m\u001b[0;34m(\u001b[0m\u001b[0my_type\u001b[0m\u001b[0;34m)\u001b[0m \u001b[0;34m>\u001b[0m \u001b[0;36m1\u001b[0m\u001b[0;34m:\u001b[0m\u001b[0;34m\u001b[0m\u001b[0;34m\u001b[0m\u001b[0m\n\u001b[1;32m     80\u001b[0m         raise ValueError(\"Classification metrics can't handle a mix of {0} \"\n\u001b[0;32m---> 81\u001b[0;31m                          \"and {1} targets\".format(type_true, type_pred))\n\u001b[0m\u001b[1;32m     82\u001b[0m \u001b[0;34m\u001b[0m\u001b[0m\n\u001b[1;32m     83\u001b[0m     \u001b[0;31m# We can't have more than one value on y_type => The set is no more needed\u001b[0m\u001b[0;34m\u001b[0m\u001b[0;34m\u001b[0m\u001b[0;34m\u001b[0m\u001b[0m\n",
      "\u001b[0;31mValueError\u001b[0m: Classification metrics can't handle a mix of binary and continuous-multioutput targets"
     ]
    }
   ],
   "source": [
    "from sklearn.metrics import confusion_matrix\n",
    "\n",
    "for i in clf_results.keys():\n",
    "    print(i,confusion_matrix(y_val, clf_results[i]))\n",
    "    print('-========')"
   ]
  },
  {
   "cell_type": "code",
   "execution_count": 67,
   "metadata": {},
   "outputs": [
    {
     "name": "stdout",
     "output_type": "stream",
     "text": [
      "precision: LR 0.6002906976744186\n",
      "recall: LR 0.42099898063200814\n",
      "f1: LR 0.49490713001797476\n",
      "-========\n",
      "precision: RBF SVM 1.0\n",
      "recall: RBF SVM 0.0050968399592252805\n",
      "f1: RBF SVM 0.010141987829614604\n",
      "-========\n",
      "precision: Random Forest 0.7898423817863398\n",
      "recall: Random Forest 0.4597349643221203\n",
      "f1: Random Forest 0.5811855670103093\n",
      "-========\n",
      "precision: Boosted Trees 0.9749455337690632\n",
      "recall: Boosted Trees 0.9123343527013251\n",
      "f1: Boosted Trees 0.9426013691416535\n",
      "-========\n"
     ]
    }
   ],
   "source": [
    "from sklearn.metrics import precision_score, recall_score\n",
    "# f1 score\n",
    "from sklearn.metrics import f1_score\n",
    "for i in clf_results.keys():\n",
    "    print('precision:',i,precision_score(y_val, clf_results[i]))\n",
    "    print('recall:',i,recall_score(y_val, clf_results[i]))\n",
    "    print('f1:',i,f1_score(y_val, clf_results[i]))\n",
    "    print('-========')"
   ]
  },
  {
   "cell_type": "code",
   "execution_count": 68,
   "metadata": {},
   "outputs": [
    {
     "name": "stdout",
     "output_type": "stream",
     "text": [
      "{'LR': array([1, 0, 0, ..., 0, 0, 0]), 'RBF SVM': array([0, 0, 0, ..., 0, 0, 0]), 'Random Forest': array([1, 0, 0, ..., 0, 0, 0]), 'Boosted Trees': array([1, 0, 0, ..., 0, 1, 0])}\n"
     ]
    }
   ],
   "source": [
    "y_scores = {}\n",
    "for i in clf_results.keys():\n",
    "    y_scores[i] = pd.DataFrame(clf_results[i])[0].values\n",
    "print(y_scores)\n"
   ]
  },
  {
   "cell_type": "code",
   "execution_count": 69,
   "metadata": {},
   "outputs": [
    {
     "name": "stdout",
     "output_type": "stream",
     "text": [
      "{'LR': 0.6499268030913344, 'RBF SVM': 0.5025484199796126, 'Random Forest': 0.7034357640993861, 'Boosted Trees': 0.9511010970555084}\n"
     ]
    }
   ],
   "source": [
    "auc_value = {}\n",
    "for i in clf_results.keys():\n",
    "    auc_value[i] = roc_auc_score(y_val, y_scores[i])\n",
    "print(auc_value)"
   ]
  },
  {
   "cell_type": "code",
   "execution_count": null,
   "metadata": {},
   "outputs": [],
   "source": []
  },
  {
   "cell_type": "code",
   "execution_count": null,
   "metadata": {},
   "outputs": [],
   "source": []
  },
  {
   "cell_type": "code",
   "execution_count": null,
   "metadata": {},
   "outputs": [],
   "source": []
  },
  {
   "cell_type": "code",
   "execution_count": null,
   "metadata": {},
   "outputs": [],
   "source": []
  },
  {
   "cell_type": "code",
   "execution_count": 71,
   "metadata": {},
   "outputs": [],
   "source": [
    "def train_dev_split(X,y):\n",
    "    #每次的随机都保证一样\n",
    "    np.random.seed(10)\n",
    "    shuffle_indices = np.random.permutation(len(y))\n",
    "    x_shuffled = X[shuffle_indices]\n",
    "    y_shuffled = y[shuffle_indices]\n",
    "    # Split train/test set\n",
    "    # 后10%作为验证集\n",
    "    dev_sample_index = -1 * int(0.1 * float(len(y)))\n",
    "    x_train, x_dev = x_shuffled[:dev_sample_index], x_shuffled[dev_sample_index:]\n",
    "    y_train, y_dev = y_shuffled[:dev_sample_index], y_shuffled[dev_sample_index:]\n",
    "    print(\"Train/Dev split: {:d}/{:d}\".format(len(y_train), len(y_dev)))\n",
    "    return x_train, y_train, word_to_id, x_dev, y_dev"
   ]
  },
  {
   "cell_type": "code",
   "execution_count": 72,
   "metadata": {},
   "outputs": [
    {
     "name": "stdout",
     "output_type": "stream",
     "text": [
      "Train/Dev split: 14626/1625\n"
     ]
    }
   ],
   "source": [
    "y = np.array(df['type'])\n",
    "x_train, y_train, word_to_id, x_dev, y_dev = train_dev_split(X,y)"
   ]
  },
  {
   "cell_type": "markdown",
   "metadata": {},
   "source": [
    "**TextCNN 模型**"
   ]
  },
  {
   "cell_type": "code",
   "execution_count": 73,
   "metadata": {},
   "outputs": [
    {
     "name": "stdout",
     "output_type": "stream",
     "text": [
      "(?, 300)\n",
      "(?, 300, 128)\n"
     ]
    }
   ],
   "source": [
    "#Inputs:Input函数只需要填写列数\n",
    "comment_seq = Input(shape=[sequence_length],name='x_seq')  #shape is (number of samples eg:10000,300) \n",
    "print(comment_seq.shape)\n",
    "#embedding layers\n",
    "embedding_layer = Embedding(len(word_to_id), embedding_dims)(comment_seq)   #填充层，Embedding(len(word_to_id), embedding_dims) 内置 5000(len word_to_id) 0....4999*128 random vector\n",
    "# comment_seq 放入变成 10000*300*128\n",
    "print(embedding_layer.shape)"
   ]
  },
  {
   "cell_type": "code",
   "execution_count": 74,
   "metadata": {},
   "outputs": [
    {
     "name": "stdout",
     "output_type": "stream",
     "text": [
      "(?, 300, 128, 1)\n",
      "Builded Reshape Layer...\n"
     ]
    }
   ],
   "source": [
    "#在原来的基础上添加一个维度，相当于 类似图片数据(number sequence,r,g,b) 二维精度高 考虑了前后\n",
    "'''Reshape Layer'''\n",
    "reshape = Reshape(target_shape=(sequence_length, embedding_dims, 1), name='reshape')(embedding_layer) # chanels last\n",
    "print(reshape.shape)\n",
    "print(\"Builded Reshape Layer...\")"
   ]
  },
  {
   "cell_type": "code",
   "execution_count": 75,
   "metadata": {},
   "outputs": [],
   "source": [
    "#使用三种filter进行过滤，将最后的结果flatten  text 只能上下移动 filter\n",
    "nb_filters = 100   \n",
    "filter_lengths = [3, 4, 5]   # 3*128 , 4*128, 5*128\n",
    "flatten_ = []\n",
    "\n",
    "for i in filter_lengths:\n",
    "    model_internal = Sequential()\n",
    "    model_internal.add(Convolution2D(nb_filters, (i, embedding_dims), activation=\"relu\", name='conv2d_' + str(i), input_shape=(sequence_length, embedding_dims, 1)))\n",
    "# chanels last,默认了strides=(1,1), padding='valid'\n",
    "    model_internal.add(MaxPooling2D(pool_size=(sequence_length - i + 1, 1), name='maxpool2d_' + str(i)))\n",
    "    model_internal.add(Flatten())   #flatten 去除刚刚加的最后的一纬\n",
    "    flatten = model_internal(reshape)  \n",
    "    #print(flatten.shape)\n",
    "    flatten_.append(flatten)   #list of 三个矩阵"
   ]
  },
  {
   "cell_type": "code",
   "execution_count": 76,
   "metadata": {},
   "outputs": [
    {
     "name": "stdout",
     "output_type": "stream",
     "text": [
      "Builded Fully Connect Layer & Dropout Layer...\n",
      "Builded  Output Layer...\n"
     ]
    }
   ],
   "source": [
    "#Fully Connect Layer & Dropout Layer\n",
    "dropout_rate = 0.5   \n",
    "hidden_nodes = 256   \n",
    "merge = concatenate(flatten_, axis=-1)    \n",
    "\n",
    "fully_connect = Dense(hidden_nodes, activation='relu', name='fully_connect')(merge) \n",
    "dropout = Dropout(dropout_rate, name='dropout')(fully_connect)\n",
    "\n",
    "print(\"Builded Fully Connect Layer & Dropout Layer...\")\n",
    "\n",
    "'''Projection Layer & Output Layer'''\n",
    "\n",
    "output = Dense(1, activation='sigmoid', name='output')(dropout) # output layer\n",
    "\n",
    "print(\"Builded  Output Layer...\")"
   ]
  },
  {
   "cell_type": "code",
   "execution_count": 77,
   "metadata": {},
   "outputs": [],
   "source": [
    "model = Model([comment_seq],output)"
   ]
  },
  {
   "cell_type": "code",
   "execution_count": 78,
   "metadata": {},
   "outputs": [],
   "source": [
    "model.compile(loss=\"binary_crossentropy\", optimizer=\"adam\", metrics=['accuracy']) #binary classification"
   ]
  },
  {
   "cell_type": "code",
   "execution_count": 79,
   "metadata": {},
   "outputs": [],
   "source": [
    "from keras.callbacks import EarlyStopping,ModelCheckpoint\n",
    "\n",
    "es = EarlyStopping(monitor='val_acc',patience=5)  #val patience times\n",
    "\n",
    "filepath=\"weights.bests.hdf5\"\n",
    "checkpoint = ModelCheckpoint(filepath, monitor='val_acc', verbose=1, save_best_only=True,mode='max')\n",
    "callbacks_list = [es,checkpoint]"
   ]
  },
  {
   "cell_type": "code",
   "execution_count": 80,
   "metadata": {},
   "outputs": [
    {
     "name": "stdout",
     "output_type": "stream",
     "text": [
      "Train on 13163 samples, validate on 1463 samples\n",
      "Epoch 1/5\n",
      "13163/13163 [==============================] - 105s 8ms/step - loss: 0.3680 - acc: 0.8303 - val_loss: 0.0326 - val_acc: 0.9911\n",
      "Epoch 2/5\n",
      "13163/13163 [==============================] - 97s 7ms/step - loss: 0.0229 - acc: 0.9925 - val_loss: 0.0223 - val_acc: 0.9904\n",
      "Epoch 3/5\n",
      "13163/13163 [==============================] - 101s 8ms/step - loss: 0.0048 - acc: 0.9991 - val_loss: 0.0268 - val_acc: 0.9897\n",
      "Epoch 4/5\n",
      "13163/13163 [==============================] - 84s 6ms/step - loss: 8.7358e-04 - acc: 1.0000 - val_loss: 0.0316 - val_acc: 0.9897\n",
      "Epoch 5/5\n",
      "13163/13163 [==============================] - 86s 7ms/step - loss: 3.7535e-04 - acc: 1.0000 - val_loss: 0.0333 - val_acc: 0.9897\n"
     ]
    },
    {
     "data": {
      "text/plain": [
       "<keras.callbacks.History at 0x1c3cc23978>"
      ]
     },
     "execution_count": 80,
     "metadata": {},
     "output_type": "execute_result"
    }
   ],
   "source": [
    "model.fit(x_train, y_train,\n",
    "          validation_split=0.1,\n",
    "          batch_size=batch_size,   \n",
    "          callbacks=[es],\n",
    "          epochs=5,\n",
    "          shuffle=True)"
   ]
  },
  {
   "cell_type": "code",
   "execution_count": 81,
   "metadata": {},
   "outputs": [],
   "source": [
    "pred_y = model.predict(x_dev)"
   ]
  },
  {
   "cell_type": "code",
   "execution_count": 82,
   "metadata": {},
   "outputs": [],
   "source": [
    "def Chang_(pred):\n",
    "    results = []\n",
    "    for i in range(len(pred)):\n",
    "        if pred[i]>0.5:\n",
    "            temp = 1\n",
    "            results.append(temp)\n",
    "        else:\n",
    "            temp = 0\n",
    "            results.append(temp)\n",
    "    return results\n",
    "        \n",
    "results = Chang_(pred_y)"
   ]
  },
  {
   "cell_type": "code",
   "execution_count": 83,
   "metadata": {},
   "outputs": [
    {
     "data": {
      "text/plain": [
       "1625"
      ]
     },
     "execution_count": 83,
     "metadata": {},
     "output_type": "execute_result"
    }
   ],
   "source": [
    "len(results)"
   ]
  },
  {
   "cell_type": "code",
   "execution_count": 84,
   "metadata": {},
   "outputs": [
    {
     "data": {
      "text/plain": [
       "1625"
      ]
     },
     "execution_count": 84,
     "metadata": {},
     "output_type": "execute_result"
    }
   ],
   "source": [
    "len(y_dev)"
   ]
  },
  {
   "cell_type": "code",
   "execution_count": 85,
   "metadata": {},
   "outputs": [],
   "source": [
    "\n",
    "from sklearn.metrics import confusion_matrix\n",
    "from sklearn.metrics import precision_recall_curve\n",
    "from sklearn.metrics import auc\n",
    "from sklearn.metrics import roc_auc_score\n",
    "from sklearn.metrics import roc_curve\n",
    "from sklearn.metrics import classification_report\n",
    "from sklearn.metrics import precision_score, recall_score\n",
    "from sklearn.metrics import f1_score"
   ]
  },
  {
   "cell_type": "code",
   "execution_count": 86,
   "metadata": {},
   "outputs": [
    {
     "name": "stdout",
     "output_type": "stream",
     "text": [
      "[[1151    6]\n",
      " [   3  465]]\n"
     ]
    }
   ],
   "source": [
    "# Compute confusion matrix\n",
    "con_matrix = confusion_matrix(results, y_dev,labels=[0,1])  # 生成混淆矩阵\n",
    "print(con_matrix)"
   ]
  },
  {
   "cell_type": "code",
   "execution_count": 87,
   "metadata": {},
   "outputs": [
    {
     "name": "stdout",
     "output_type": "stream",
     "text": [
      "precision: 0.9935897435897436\n",
      "recall: 0.9872611464968153\n",
      "f1: 0.9904153354632588\n"
     ]
    }
   ],
   "source": [
    "print('precision:',precision_score(y_dev, results))\n",
    "print('recall:',recall_score(y_dev, results))\n",
    "print('f1:',f1_score(y_dev, results))"
   ]
  },
  {
   "cell_type": "code",
   "execution_count": 88,
   "metadata": {},
   "outputs": [
    {
     "name": "stdout",
     "output_type": "stream",
     "text": [
      "[9.999826e-01 8.412799e-05]\n"
     ]
    }
   ],
   "source": [
    "y_scores = pd.DataFrame(pred_y)[0].values\n",
    "print(y_scores[:2])"
   ]
  },
  {
   "cell_type": "code",
   "execution_count": 97,
   "metadata": {},
   "outputs": [
    {
     "name": "stdout",
     "output_type": "stream",
     "text": [
      "              precision    recall  f1-score   support\n",
      "\n",
      "           0       0.99      1.00      1.00      1154\n",
      "           1       0.99      0.99      0.99       471\n",
      "\n",
      "   micro avg       0.99      0.99      0.99      1625\n",
      "   macro avg       0.99      0.99      0.99      1625\n",
      "weighted avg       0.99      0.99      0.99      1625\n",
      "\n"
     ]
    }
   ],
   "source": [
    "print(classification_report(y_dev, results))\n",
    "auc_value = roc_auc_score(y_dev, y_scores)"
   ]
  },
  {
   "cell_type": "code",
   "execution_count": 90,
   "metadata": {},
   "outputs": [],
   "source": [
    "import matplotlib.pyplot as plt\n",
    "%matplotlib inline"
   ]
  },
  {
   "cell_type": "code",
   "execution_count": 92,
   "metadata": {},
   "outputs": [
    {
     "data": {
      "text/plain": [
       "<matplotlib.legend.Legend at 0x1c68c06f60>"
      ]
     },
     "execution_count": 92,
     "metadata": {},
     "output_type": "execute_result"
    },
    {
     "data": {
      "image/png": "[encoded data removed]",
      "text/plain": [
       "<Figure size 432x432 with 1 Axes>"
      ]
     },
     "metadata": {
      "needs_background": "light"
     },
     "output_type": "display_data"
    }
   ],
   "source": [
    "fpr, tpr, thresholds = roc_curve(y_dev, y_scores, pos_label=1.0)\n",
    "plt.figure(figsize=(6,6))\n",
    "lw = 2\n",
    "plt.plot(fpr, tpr, color='darkorange', linewidth=lw, label='ROC curve (area = %0.4f)' % auc_value)\n",
    "plt.plot([0, 1], [0, 1], color='navy', linewidth=lw, linestyle='--')\n",
    "plt.xlim([0.0, 1.0])\n",
    "plt.ylim([0.0, 1.05])\n",
    "plt.xlabel('False Positive Rate')\n",
    "plt.ylabel('True Positive Rate')\n",
    "plt.title('CNN ROC')\n",
    "plt.legend(loc=\"lower right\")"
   ]
  },
  {
   "cell_type": "code",
   "execution_count": null,
   "metadata": {},
   "outputs": [],
   "source": [
    "text_new = 'WASHINGTON — The Trump administration pushed a $1.5 trillion tax cut through Congress in 2017 on the promise that it would spark sustained economic growth. While the tax cuts have goosed the economy in the short term, officials now concede they will not be enough to deliver the 3 percent annual growth the president promised over the long term.To produce that average growth rate for the next decade, White House forecasters say, the American economy would need additional rollbacks in labor regulations, a $1 trillion infrastructure plan and another round of tax cuts.Getting all those policies implemented would be highly unlikely, given a divided Congress and a ballooning federal deficit, which could limit lawmakers’ appetite to spend money on a new tax cut or infrastructure plan.But without those additional steps, the president’s economic team predicts in a report released on Tuesday that growth would slow to about 2 percent a year in 2026. That is the year when many of the individual tax cuts included in the 2017 law are set to expire, essentially producing a tax increase for millions of Americans.'"
   ]
  },
  {
   "cell_type": "code",
   "execution_count": null,
   "metadata": {},
   "outputs": [],
   "source": [
    "text_words_new=[cleanlines(text_new,remove_stopwords=True)]\n"
   ]
  },
  {
   "cell_type": "code",
   "execution_count": null,
   "metadata": {},
   "outputs": [],
   "source": [
    "print(text_words_new[0])"
   ]
  },
  {
   "cell_type": "code",
   "execution_count": null,
   "metadata": {},
   "outputs": [],
   "source": [
    "X_new = get_pad_text(text_words_new,word_to_id,max_length=sequence_length)\n",
    "print(X_new.shape)"
   ]
  },
  {
   "cell_type": "code",
   "execution_count": null,
   "metadata": {},
   "outputs": [],
   "source": [
    "X_new"
   ]
  },
  {
   "cell_type": "code",
   "execution_count": null,
   "metadata": {},
   "outputs": [],
   "source": [
    "model.predict(X_new)"
   ]
  },
  {
   "cell_type": "code",
   "execution_count": null,
   "metadata": {},
   "outputs": [],
   "source": [
    "dir_2 = r'New_Data.csv'\n",
    "test_set = pd.read_csv(dir_2)\n",
    "test_set = test_set[['title','content','label']]\n",
    "test_set.head()"
   ]
  },
  {
   "cell_type": "code",
   "execution_count": null,
   "metadata": {},
   "outputs": [],
   "source": [
    "test_set['label'] = test_set['label'].astype(int)\n"
   ]
  },
  {
   "cell_type": "code",
   "execution_count": null,
   "metadata": {},
   "outputs": [],
   "source": [
    "test_set['content'] = test_set['content'].astype(str)\n",
    "sents = test_set['content']\n",
    "text_words=[cleanlines(sent,remove_stopwords=True) for sent in sents]\n",
    "print(text_words[:5])"
   ]
  },
  {
   "cell_type": "code",
   "execution_count": null,
   "metadata": {},
   "outputs": [],
   "source": [
    "test_set['title'] = test_set['title'].astype(str)\n",
    "sents = test_set['title']\n",
    "title_words=[cleanlines(sent,remove_stopwords=True) for sent in sents]\n",
    "print(title_words[:5])"
   ]
  },
  {
   "cell_type": "code",
   "execution_count": null,
   "metadata": {},
   "outputs": [],
   "source": [
    "def concat_text(text_words,title_words):\n",
    "    concat_text = []\n",
    "    for i in range(len(text_words)):\n",
    "        temp = text_words[i]+title_words[i]\n",
    "        concat_text.append(temp)\n",
    "    return concat_text\n",
    "concat_text = concat_text(text_words,title_words)"
   ]
  },
  {
   "cell_type": "code",
   "execution_count": null,
   "metadata": {},
   "outputs": [],
   "source": [
    "X = get_pad_text(concat_text,word_to_id,max_length=sequence_length)"
   ]
  },
  {
   "cell_type": "code",
   "execution_count": null,
   "metadata": {},
   "outputs": [],
   "source": [
    "y = np.array(test_set['label'])\n"
   ]
  },
  {
   "cell_type": "code",
   "execution_count": null,
   "metadata": {},
   "outputs": [],
   "source": [
    "pred_y = model.predict(X)\n",
    "test_set['predict'] = pred_y\n",
    "print(test_set.head())\n",
    "test_set.to_csv(r'1.csv',header=True, index=False)\n"
   ]
  },
  {
   "cell_type": "code",
   "execution_count": null,
   "metadata": {},
   "outputs": [],
   "source": [
    "def Chang_(pred):\n",
    "    results = []\n",
    "    for i in range(len(pred)):\n",
    "        if pred[i]>0.5:\n",
    "            temp = 1\n",
    "            results.append(temp)\n",
    "        else:\n",
    "            temp = 0\n",
    "            results.append(temp)\n",
    "    return results\n",
    "        \n",
    "results = Chang_(pred_y)"
   ]
  },
  {
   "cell_type": "code",
   "execution_count": null,
   "metadata": {},
   "outputs": [],
   "source": [
    "con_matrix = confusion_matrix(results, y,labels=[0,1])  # 生成混淆矩阵\n",
    "print(con_matrix)"
   ]
  },
  {
   "cell_type": "code",
   "execution_count": null,
   "metadata": {},
   "outputs": [],
   "source": [
    "print('precision:',precision_score(y, results))\n",
    "print('recall:',recall_score(y, results))\n",
    "print('f1:',f1_score(y, results))"
   ]
  },
  {
   "cell_type": "code",
   "execution_count": null,
   "metadata": {},
   "outputs": [],
   "source": []
  }
 ],
 "metadata": {
  "kernelspec": {
   "display_name": "Python 3",
   "language": "python",
   "name": "python3"
  },
  "language_info": {
   "codemirror_mode": {
    "name": "ipython",
    "version": 3
   },
   "file_extension": ".py",
   "mimetype": "text/x-python",
   "name": "python",
   "nbconvert_exporter": "python",
   "pygments_lexer": "ipython3",
   "version": "3.6.8"
  }
 },
 "nbformat": 4,
 "nbformat_minor": 2
}
