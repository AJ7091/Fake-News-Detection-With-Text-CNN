{
 "cells": [
  {
   "cell_type": "code",
   "execution_count": 1,
   "metadata": {},
   "outputs": [],
   "source": [
    "from sklearn.linear_model import LogisticRegression\n",
    "from sklearn.metrics import roc_curve, auc ,classification_report,roc_auc_score\n",
    "from sklearn.svm import SVC\n",
    "from sklearn.neighbors import KNeighborsClassifier\n",
    "from sklearn.ensemble import RandomForestClassifier, GradientBoostingClassifier\n",
    "from sklearn.model_selection import train_test_split\n",
    "from gensim.models.word2vec import Word2Vec\n",
    "from zhon.hanzi import punctuation\n",
    "import numpy as np\n",
    "import pandas as pd\n",
    "import jieba\n",
    "from sklearn.externals import joblib\n",
    "from sklearn.svm import SVC\n",
    "import sys \n",
    "import re"
   ]
  },
  {
   "cell_type": "code",
   "execution_count": 2,
   "metadata": {},
   "outputs": [
    {
     "name": "stdout",
     "output_type": "stream",
     "text": [
      "(16251, 3)\n"
     ]
    },
    {
     "data": {
      "text/html": [
       "<div>\n",
       "<style scoped>\n",
       "    .dataframe tbody tr th:only-of-type {\n",
       "        vertical-align: middle;\n",
       "    }\n",
       "\n",
       "    .dataframe tbody tr th {\n",
       "        vertical-align: top;\n",
       "    }\n",
       "\n",
       "    .dataframe thead th {\n",
       "        text-align: right;\n",
       "    }\n",
       "</style>\n",
       "<table border=\"1\" class=\"dataframe\">\n",
       "  <thead>\n",
       "    <tr style=\"text-align: right;\">\n",
       "      <th></th>\n",
       "      <th>text</th>\n",
       "      <th>title</th>\n",
       "      <th>type</th>\n",
       "    </tr>\n",
       "  </thead>\n",
       "  <tbody>\n",
       "    <tr>\n",
       "      <th>0</th>\n",
       "      <td>They stood in line at Trump Tower, sometimes u...</td>\n",
       "      <td>At Donald Trump&lt;U+2019&gt;s Properties, a Showcas...</td>\n",
       "      <td>1</td>\n",
       "    </tr>\n",
       "    <tr>\n",
       "      <th>1</th>\n",
       "      <td>Donald J. Trump &lt;U+2019&gt;s foundation informed ...</td>\n",
       "      <td>Trump Foundation Tells New York It Has Stopped...</td>\n",
       "      <td>1</td>\n",
       "    </tr>\n",
       "    <tr>\n",
       "      <th>2</th>\n",
       "      <td>President-elect Donald J. Trump won the White ...</td>\n",
       "      <td>Donald Trump Prepares for White House Move, bu...</td>\n",
       "      <td>1</td>\n",
       "    </tr>\n",
       "    <tr>\n",
       "      <th>3</th>\n",
       "      <td>An investment pitch for a new Texas hotel is t...</td>\n",
       "      <td>Luring Chinese Investors With Trump&lt;U+2019&gt;s N...</td>\n",
       "      <td>1</td>\n",
       "    </tr>\n",
       "    <tr>\n",
       "      <th>4</th>\n",
       "      <td>President-elect Donald J. Trump &lt;U+2019&gt;s wife...</td>\n",
       "      <td>Melania and Barron Trump Won&lt;U+2019&gt;t Immediat...</td>\n",
       "      <td>1</td>\n",
       "    </tr>\n",
       "  </tbody>\n",
       "</table>\n",
       "</div>"
      ],
      "text/plain": [
       "                                                text  \\\n",
       "0  They stood in line at Trump Tower, sometimes u...   \n",
       "1  Donald J. Trump <U+2019>s foundation informed ...   \n",
       "2  President-elect Donald J. Trump won the White ...   \n",
       "3  An investment pitch for a new Texas hotel is t...   \n",
       "4  President-elect Donald J. Trump <U+2019>s wife...   \n",
       "\n",
       "                                               title  type  \n",
       "0  At Donald Trump<U+2019>s Properties, a Showcas...     1  \n",
       "1  Trump Foundation Tells New York It Has Stopped...     1  \n",
       "2  Donald Trump Prepares for White House Move, bu...     1  \n",
       "3  Luring Chinese Investors With Trump<U+2019>s N...     1  \n",
       "4  Melania and Barron Trump Won<U+2019>t Immediat...     1  "
      ]
     },
     "execution_count": 2,
     "metadata": {},
     "output_type": "execute_result"
    }
   ],
   "source": [
    "dir_1 = r'all_data_new_1.csv'\n",
    "\n",
    "df = pd.read_csv(dir_1)\n",
    "print(df.shape)\n",
    "df.head()"
   ]
  },
  {
   "cell_type": "markdown",
   "metadata": {},
   "source": [
    "文本预处理"
   ]
  },
  {
   "cell_type": "code",
   "execution_count": 3,
   "metadata": {},
   "outputs": [],
   "source": [
    "def cleanlines(line,remove_stopwords=False):   \n",
    "    p1=re.compile(r'-\\{.*?(zh-hans|zh-cn):([^;]*?)(;.*?)?\\}-')\n",
    "    p2=re.compile(r'[(][: @ . , ？！\\s][)]')\n",
    "    p3=re.compile(r'[「『]')\n",
    "    p4=re.compile(r'[\\s+\\.\\!\\/_,$%^*(+\\\"\\')]+|[+——()?【】“”！，。？、~@#￥%……&*（）0-9 , : ; \\-\\ \\[\\ \\]\\ ]')\n",
    "    p5=re.compile(r'[^a-zA-Z]')\n",
    "    line=p1.sub(r' ',line)\n",
    "    line=p2.sub(r' ',line)\n",
    "    line=p3.sub(r' ',line)\n",
    "    line=p4.sub(r' ',line)\n",
    "    line=p5.sub(r' ',line)\n",
    "    words = line.lower().split()\n",
    "    if remove_stopwords:\n",
    "        words = [w for w in words if w not in eng_stopwords]\n",
    "    return words"
   ]
  },
  {
   "cell_type": "code",
   "execution_count": 4,
   "metadata": {},
   "outputs": [
    {
     "data": {
      "text/plain": [
       "[\"'d\", \"'ll\", \"'m\", \"'re\", \"'s\"]"
      ]
     },
     "execution_count": 4,
     "metadata": {},
     "output_type": "execute_result"
    }
   ],
   "source": [
    "eng_stopwords = [line.rstrip() for line in open('stop_words.txt')]\n",
    "eng_stopwords[:5]"
   ]
  },
  {
   "cell_type": "code",
   "execution_count": 6,
   "metadata": {},
   "outputs": [],
   "source": [
    "df['text'] = df['text'].astype(str)\n",
    "sents = df['text']\n",
    "text_words=[cleanlines(sent,remove_stopwords=True) for sent in sents]"
   ]
  },
  {
   "cell_type": "code",
   "execution_count": 7,
   "metadata": {},
   "outputs": [],
   "source": [
    "df['title'] = df['title'].astype(str)\n",
    "title_sents = df['title']\n",
    "title_words=[cleanlines(sent,remove_stopwords=True) for sent in title_sents]"
   ]
  },
  {
   "cell_type": "code",
   "execution_count": 8,
   "metadata": {},
   "outputs": [],
   "source": [
    "def concat_text(text_words,title_words):\n",
    "    concat_text = []\n",
    "    for i in range(len(text_words)):\n",
    "        temp = text_words[i]+title_words[i]\n",
    "        concat_text.append(temp)\n",
    "    return concat_text\n",
    "\n",
    "concat_text = concat_text(text_words,title_words)"
   ]
  },
  {
   "cell_type": "code",
   "execution_count": 9,
   "metadata": {},
   "outputs": [
    {
     "data": {
      "text/plain": [
       "[['stood',\n",
       "  'trump',\n",
       "  'tower',\n",
       "  'half',\n",
       "  'hour',\n",
       "  'handing',\n",
       "  'cash',\n",
       "  'mementos',\n",
       "  'president',\n",
       "  'elect',\n",
       "  'mini',\n",
       "  'gold',\n",
       "  'wrapped',\n",
       "  'chocolate',\n",
       "  'bricks',\n",
       "  'stamped',\n",
       "  'trump',\n",
       "  'trump',\n",
       "  'monogrammed',\n",
       "  'sweaters',\n",
       "  'towels',\n",
       "  'glassware',\n",
       "  'trump',\n",
       "  'cologne',\n",
       "  'bought',\n",
       "  'sons',\n",
       "  'shanon',\n",
       "  'loggins',\n",
       "  'lufkin',\n",
       "  'tex',\n",
       "  'golden',\n",
       "  'shopping',\n",
       "  'bag',\n",
       "  'embossed',\n",
       "  'trump',\n",
       "  'crest',\n",
       "  'carried',\n",
       "  'bottles',\n",
       "  'success',\n",
       "  'trump',\n",
       "  'fragrance',\n",
       "  'successful',\n",
       "  'explained',\n",
       "  'business',\n",
       "  'donald',\n",
       "  'trump',\n",
       "  'people',\n",
       "  'flocking',\n",
       "  'midtown',\n",
       "  'manhattan',\n",
       "  'skyscraper',\n",
       "  'dining',\n",
       "  'restaurants',\n",
       "  'buying',\n",
       "  'wares',\n",
       "  'reporters',\n",
       "  'fastidiously',\n",
       "  'chronicling',\n",
       "  'comings',\n",
       "  'goings',\n",
       "  'transition',\n",
       "  'team',\n",
       "  'branded',\n",
       "  'properties',\n",
       "  'providing',\n",
       "  'backdrop',\n",
       "  'television',\n",
       "  'live',\n",
       "  'shots',\n",
       "  'trump',\n",
       "  'staid',\n",
       "  'task',\n",
       "  'preparing',\n",
       "  'assume',\n",
       "  'presidency',\n",
       "  'exercise',\n",
       "  'conspicuous',\n",
       "  'promotion',\n",
       "  'carefully',\n",
       "  'choreographed',\n",
       "  'branding',\n",
       "  'president',\n",
       "  'elect',\n",
       "  'vast',\n",
       "  'real',\n",
       "  'estate',\n",
       "  'holdings',\n",
       "  'raising',\n",
       "  'questions',\n",
       "  'exploiting',\n",
       "  'profile',\n",
       "  'stature',\n",
       "  'office',\n",
       "  'conduct',\n",
       "  'promotional',\n",
       "  'tour',\n",
       "  'trump',\n",
       "  'organization',\n",
       "  'venues',\n",
       "  'picked',\n",
       "  'conduct',\n",
       "  'official',\n",
       "  'transition',\n",
       "  'planning',\n",
       "  'attest',\n",
       "  'success',\n",
       "  'real',\n",
       "  'estate',\n",
       "  'developer',\n",
       "  'trump',\n",
       "  'tower',\n",
       "  'manhattan',\n",
       "  'skyscraper',\n",
       "  'lives',\n",
       "  'amid',\n",
       "  'trump',\n",
       "  'themed',\n",
       "  'eateries',\n",
       "  'boutiques',\n",
       "  'mar',\n",
       "  'lago',\n",
       "  'upscale',\n",
       "  'private',\n",
       "  'palm',\n",
       "  'beach',\n",
       "  'fla',\n",
       "  'club',\n",
       "  'chosen',\n",
       "  'hold',\n",
       "  'meetings',\n",
       "  'thanksgiving',\n",
       "  'trump',\n",
       "  'national',\n",
       "  'golf',\n",
       "  'club',\n",
       "  'bedminster',\n",
       "  'trump',\n",
       "  'bedminster',\n",
       "  'setting',\n",
       "  'told',\n",
       "  'aides',\n",
       "  'images',\n",
       "  'receiving',\n",
       "  'potential',\n",
       "  'cabinet',\n",
       "  'appointees',\n",
       "  'front',\n",
       "  'door',\n",
       "  'clubhouse',\n",
       "  'resembled',\n",
       "  'street',\n",
       "  'london',\n",
       "  'planning',\n",
       "  'future',\n",
       "  'transition',\n",
       "  'meetings',\n",
       "  'trump',\n",
       "  'team',\n",
       "  'properties',\n",
       "  'fit',\n",
       "  'desire',\n",
       "  'rich',\n",
       "  'regal',\n",
       "  'symbolism',\n",
       "  'stinks',\n",
       "  'norman',\n",
       "  'eisen',\n",
       "  'chief',\n",
       "  'white',\n",
       "  'house',\n",
       "  'ethics',\n",
       "  'lawyer',\n",
       "  'president',\n",
       "  'obama',\n",
       "  'specific',\n",
       "  'law',\n",
       "  'prohibiting',\n",
       "  'public',\n",
       "  'officeholders',\n",
       "  'financially',\n",
       "  'beneficial',\n",
       "  'promotion',\n",
       "  'trump',\n",
       "  'illegal',\n",
       "  'eisen',\n",
       "  'doesn',\n",
       "  'parcel',\n",
       "  'unsavory',\n",
       "  'marketing',\n",
       "  'brands',\n",
       "  'campaign',\n",
       "  'unsavory',\n",
       "  'stagecraft',\n",
       "  'spectacle',\n",
       "  'trump',\n",
       "  'directed',\n",
       "  'floor',\n",
       "  'office',\n",
       "  'trump',\n",
       "  'tower',\n",
       "  'ravenously',\n",
       "  'consumed',\n",
       "  'news',\n",
       "  'media',\n",
       "  'loyal',\n",
       "  'followers',\n",
       "  'days',\n",
       "  'trump',\n",
       "  'president',\n",
       "  'elect',\n",
       "  'lobby',\n",
       "  'trump',\n",
       "  'tower',\n",
       "  'public',\n",
       "  'staging',\n",
       "  'aspects',\n",
       "  'transition',\n",
       "  'trump',\n",
       "  'people',\n",
       "  'potential',\n",
       "  'cabinet',\n",
       "  'appointees',\n",
       "  'march',\n",
       "  'buffed',\n",
       "  'marble',\n",
       "  'floors',\n",
       "  'cameras',\n",
       "  'stream',\n",
       "  'scene',\n",
       "  'live',\n",
       "  'span',\n",
       "  'gold',\n",
       "  'mirrored',\n",
       "  'elevators',\n",
       "  'week',\n",
       "  'people',\n",
       "  'gov',\n",
       "  'mary',\n",
       "  'fallin',\n",
       "  'oklahoma',\n",
       "  'rick',\n",
       "  'perry',\n",
       "  'texas',\n",
       "  'governor',\n",
       "  'disparaged',\n",
       "  'trump',\n",
       "  'cancer',\n",
       "  'conservatism',\n",
       "  'battling',\n",
       "  'republican',\n",
       "  'nomination',\n",
       "  'trump',\n",
       "  'staff',\n",
       "  'devised',\n",
       "  'proper',\n",
       "  'greeting',\n",
       "  'protocol',\n",
       "  'arriving',\n",
       "  'guests',\n",
       "  'perry',\n",
       "  'lobby',\n",
       "  'monday',\n",
       "  'woman',\n",
       "  'looped',\n",
       "  'arm',\n",
       "  'escorted',\n",
       "  'cameras',\n",
       "  'woman',\n",
       "  'hand',\n",
       "  'weekend',\n",
       "  'accompany',\n",
       "  'visiting',\n",
       "  'guests',\n",
       "  'trump',\n",
       "  'moved',\n",
       "  'meetings',\n",
       "  'bedminster',\n",
       "  'golf',\n",
       "  'club',\n",
       "  'display',\n",
       "  'munificence',\n",
       "  'trump',\n",
       "  'cameras',\n",
       "  'embrace',\n",
       "  'mitt',\n",
       "  'romney',\n",
       "  'months',\n",
       "  'ago',\n",
       "  'condemned',\n",
       "  'trump',\n",
       "  'phony',\n",
       "  'fraud',\n",
       "  'leading',\n",
       "  'candidate',\n",
       "  'secretary',\n",
       "  'ethnically',\n",
       "  'diverse',\n",
       "  'potential',\n",
       "  'cabinet',\n",
       "  'candidates',\n",
       "  'shannon',\n",
       "  'african',\n",
       "  'american',\n",
       "  'speaker',\n",
       "  'oklahoma',\n",
       "  'house',\n",
       "  'michelle',\n",
       "  'rhee',\n",
       "  'schools',\n",
       "  'chancellor',\n",
       "  'washington',\n",
       "  'asian',\n",
       "  'american',\n",
       "  'trump',\n",
       "  'interviewing',\n",
       "  'banter',\n",
       "  'news',\n",
       "  'media',\n",
       "  'tremendous',\n",
       "  'talent',\n",
       "  'tremendous',\n",
       "  'talent',\n",
       "  'trump',\n",
       "  'saturday',\n",
       "  'people',\n",
       "  'america',\n",
       "  'people',\n",
       "  'talented',\n",
       "  'people',\n",
       "  'cameras',\n",
       "  'rolled',\n",
       "  'weekend',\n",
       "  'bedminster',\n",
       "  'temperatures',\n",
       "  'dropped',\n",
       "  'sharply',\n",
       "  'sending',\n",
       "  'journalists',\n",
       "  'gift',\n",
       "  'shop',\n",
       "  'cold',\n",
       "  'weather',\n",
       "  'attire',\n",
       "  'winter',\n",
       "  'hat',\n",
       "  'trump',\n",
       "  'embroidered',\n",
       "  'market',\n",
       "  'stamped',\n",
       "  'trump',\n",
       "  'bustling',\n",
       "  'gift',\n",
       "  'kiosk',\n",
       "  'lower',\n",
       "  'level',\n",
       "  'trump',\n",
       "  'tower',\n",
       "  'trump',\n",
       "  'ice',\n",
       "  'cream',\n",
       "  'parlor',\n",
       "  'trump',\n",
       "  'grill',\n",
       "  'prix',\n",
       "  'fixe',\n",
       "  'lunch',\n",
       "  'monday',\n",
       "  'morning',\n",
       "  'dozen',\n",
       "  'people',\n",
       "  'deep',\n",
       "  'cashiers',\n",
       "  'civic',\n",
       "  'diligence',\n",
       "  'purchasing',\n",
       "  'trump',\n",
       "  'campaign',\n",
       "  'gear',\n",
       "  'america',\n",
       "  'hats',\n",
       "  'american',\n",
       "  'citizens',\n",
       "  'law',\n",
       "  'prohibits',\n",
       "  'foreigners',\n",
       "  'money',\n",
       "  'campaigns',\n",
       "  'marilyn',\n",
       "  'bryan',\n",
       "  'terre',\n",
       "  'haute',\n",
       "  'ind',\n",
       "  'sitting',\n",
       "  'table',\n",
       "  'kiosk',\n",
       "  'daughter',\n",
       "  'trisha',\n",
       "  'ms',\n",
       "  'bryan',\n",
       "  'trump',\n",
       "  'rally',\n",
       "  'hometown',\n",
       "  'passed',\n",
       "  'knocked',\n",
       "  'broke',\n",
       "  'femur',\n",
       "  'trump',\n",
       "  'decided',\n",
       "  'visiting',\n",
       "  'york',\n",
       "  'week',\n",
       "  'tower',\n",
       "  'scene',\n",
       "  'spend',\n",
       "  'daughter',\n",
       "  'inside',\n",
       "  'shopping',\n",
       "  'bag',\n",
       "  'hat',\n",
       "  'golden',\n",
       "  'trump',\n",
       "  'chocolate',\n",
       "  'bars',\n",
       "  'trump',\n",
       "  'knickknacks',\n",
       "  'planned',\n",
       "  'relatives',\n",
       "  'chocolate',\n",
       "  'disappointed',\n",
       "  'learn',\n",
       "  'fort',\n",
       "  'wayne',\n",
       "  'ind',\n",
       "  'standing',\n",
       "  'nearby',\n",
       "  'paul',\n",
       "  'lea',\n",
       "  'foster',\n",
       "  'hidden',\n",
       "  'hills',\n",
       "  'calif',\n",
       "  'purchasing',\n",
       "  'hats',\n",
       "  'shirts',\n",
       "  'ms',\n",
       "  'foster',\n",
       "  'marveled',\n",
       "  'trump',\n",
       "  'ability',\n",
       "  'cash',\n",
       "  'figured',\n",
       "  'money',\n",
       "  'husband',\n",
       "  'nodded',\n",
       "  'businessman',\n",
       "  'promoter',\n",
       "  'foster',\n",
       "  'hope',\n",
       "  'country',\n",
       "  'michael',\n",
       "  'schmidt',\n",
       "  'contributed',\n",
       "  'reporting',\n",
       "  'politics',\n",
       "  'news',\n",
       "  'updates',\n",
       "  'facebook',\n",
       "  'twitter',\n",
       "  'morning',\n",
       "  'briefing',\n",
       "  'newsletter',\n",
       "  'version',\n",
       "  'article',\n",
       "  'appears',\n",
       "  'print',\n",
       "  'november',\n",
       "  'york',\n",
       "  'edition',\n",
       "  'headline',\n",
       "  'trump',\n",
       "  'properties',\n",
       "  'showcase',\n",
       "  'brand',\n",
       "  'president',\n",
       "  'elect',\n",
       "  'reprints',\n",
       "  'paper',\n",
       "  'subscribe',\n",
       "  'donald',\n",
       "  'trump',\n",
       "  'properties',\n",
       "  'showcase',\n",
       "  'brand',\n",
       "  'president',\n",
       "  'elect']]"
      ]
     },
     "execution_count": 9,
     "metadata": {},
     "output_type": "execute_result"
    }
   ],
   "source": [
    "concat_text[:1]"
   ]
  },
  {
   "cell_type": "code",
   "execution_count": 10,
   "metadata": {},
   "outputs": [],
   "source": [
    "def build_sentence_vector(text, size,imdb_w2v):\n",
    "    vec = np.zeros(size).reshape((1, size))\n",
    "    count = 0.\n",
    "    for word in text:\n",
    "        try:\n",
    "            vec += imdb_w2v[word].reshape((1, size))\n",
    "            count += 1.\n",
    "        except KeyError:\n",
    "            continue\n",
    "    if count != 0:\n",
    "        vec /= count\n",
    "    return vec"
   ]
  },
  {
   "cell_type": "code",
   "execution_count": 11,
   "metadata": {},
   "outputs": [],
   "source": [
    "#word2vec\n",
    "def get_train_vecs(x_samples):\n",
    "    n_dim = 150\n",
    "    #initialize model and dict\n",
    "    rj_w2v = Word2Vec(size=n_dim, min_count=5)\n",
    "    rj_w2v.build_vocab(x_samples)\n",
    "    \n",
    "    #train\n",
    "    rj_w2v.train(x_samples,total_examples=rj_w2v.corpus_count, epochs=300)\n",
    "    \n",
    "    all_vecs = np.concatenate([build_sentence_vector(z, n_dim,rj_w2v) for z in x_samples])\n",
    "    #train_vecs = scale(train_vecs)\n",
    "    \n",
    "    np.save('x_samples.npy',all_vecs)\n",
    "    print(all_vecs.shape)\n"
   ]
  },
  {
   "cell_type": "code",
   "execution_count": 12,
   "metadata": {},
   "outputs": [
    {
     "name": "stderr",
     "output_type": "stream",
     "text": [
      "//anaconda/lib/python3.6/site-packages/ipykernel_launcher.py:6: DeprecationWarning: Call to deprecated `__getitem__` (Method will be removed in 4.0.0, use self.wv.__getitem__() instead).\n",
      "  \n"
     ]
    },
    {
     "name": "stdout",
     "output_type": "stream",
     "text": [
      "(16251, 150)\n"
     ]
    }
   ],
   "source": [
    "get_train_vecs(concat_text)"
   ]
  },
  {
   "cell_type": "code",
   "execution_count": 12,
   "metadata": {},
   "outputs": [],
   "source": [
    "def get_data():\n",
    "    train_vecs=np.load('x_samples.npy')\n",
    "    return train_vecs\n",
    "x_samples_arr = get_data()"
   ]
  },
  {
   "cell_type": "code",
   "execution_count": 13,
   "metadata": {},
   "outputs": [
    {
     "data": {
      "text/plain": [
       "(16251, 150)"
      ]
     },
     "execution_count": 13,
     "metadata": {},
     "output_type": "execute_result"
    }
   ],
   "source": [
    "x_samples_arr.shape"
   ]
  },
  {
   "cell_type": "code",
   "execution_count": 14,
   "metadata": {},
   "outputs": [
    {
     "name": "stdout",
     "output_type": "stream",
     "text": [
      "16251\n"
     ]
    }
   ],
   "source": [
    "y = np.array(df['type'])\n",
    "print(len(y))"
   ]
  },
  {
   "cell_type": "code",
   "execution_count": 15,
   "metadata": {},
   "outputs": [],
   "source": [
    "\n",
    "x_train,x_val,y_train,y_val = train_test_split(x_samples_arr,y,test_size=0.2,random_state=10,stratify=y)"
   ]
  },
  {
   "cell_type": "code",
   "execution_count": 16,
   "metadata": {},
   "outputs": [
    {
     "name": "stdout",
     "output_type": "stream",
     "text": [
      "(13000, 150)\n",
      "(3251, 150)\n",
      "(13000,)\n",
      "(3251,)\n",
      "<class 'numpy.ndarray'>\n",
      "[1 0 0 0 0 1 0 0 1 0 0 1 1 1 0 0 0 0 0 0 0 0 0 0 0 0 1 0 0 1 0 0 0 1 0 0 0\n",
      " 1 0 1 0 0 0 1 0 0 1 1 1 0 0 0 0 0 0 1 0 0 0 1 0 1 0 0 1 0 0 0 0 0 0 0 0 0\n",
      " 1 0 0 0 0 0 1 1 0 0 0 1 0 0 0 1 1 0 0 1 0 0 1 0 1 0]\n"
     ]
    }
   ],
   "source": [
    "print(x_train.shape)\n",
    "print(x_val.shape)\n",
    "print(y_train.shape)\n",
    "print(y_val.shape)\n",
    "print(type(y_train))\n",
    "print(y_val[:100])"
   ]
  },
  {
   "cell_type": "code",
   "execution_count": 17,
   "metadata": {},
   "outputs": [],
   "source": [
    "classifier_names = ['LR','RBF SVM','Random Forest','Boosted Trees']\n",
    "\n",
    "classifiers = [LogisticRegression(random_state=0),SVC(kernel='rbf'),\n",
    "               RandomForestClassifier(max_depth=6, n_estimators=60),\n",
    "               GradientBoostingClassifier(n_estimators=60, learning_rate=0.9,max_depth=5)]"
   ]
  },
  {
   "cell_type": "code",
   "execution_count": 18,
   "metadata": {},
   "outputs": [
    {
     "name": "stderr",
     "output_type": "stream",
     "text": [
      "//anaconda/lib/python3.6/site-packages/sklearn/linear_model/logistic.py:433: FutureWarning: Default solver will be changed to 'lbfgs' in 0.22. Specify a solver to silence this warning.\n",
      "  FutureWarning)\n"
     ]
    },
    {
     "name": "stdout",
     "output_type": "stream",
     "text": [
      "LR 0.8508777618408203\n"
     ]
    },
    {
     "name": "stderr",
     "output_type": "stream",
     "text": [
      "//anaconda/lib/python3.6/site-packages/sklearn/svm/base.py:196: FutureWarning: The default value of gamma will change from 'auto' to 'scale' in version 0.22 to account better for unscaled features. Set gamma explicitly to 'auto' or 'scale' to avoid this warning.\n",
      "  \"avoid this warning.\", FutureWarning)\n"
     ]
    },
    {
     "name": "stdout",
     "output_type": "stream",
     "text": [
      "RBF SVM 13.947383165359497\n",
      "Random Forest 3.9673540592193604\n",
      "Boosted Trees 27.46988606452942\n"
     ]
    }
   ],
   "source": [
    "#result to dict\n",
    "import time\n",
    "clf_results={}\n",
    "for i,model in zip(classifier_names,classifiers):\n",
    "    start = time.time()\n",
    "    model.fit(x_train, y_train)\n",
    "    pred_y = model.predict(x_val)\n",
    "    end = time.time()\n",
    "    if i == 'LR':\n",
    "        pred_y = model.predict_proba(x_val) \n",
    "    clf_results[i]=pred_y\n",
    "    print(i,end-start)"
   ]
  },
  {
   "cell_type": "code",
   "execution_count": 19,
   "metadata": {},
   "outputs": [
    {
     "name": "stdout",
     "output_type": "stream",
     "text": [
      "[1 0 0 ... 0 1 0]\n",
      "<class 'numpy.ndarray'>\n",
      "[[0.04391492 0.95608508]\n",
      " [0.22920395 0.77079605]\n",
      " [0.99806961 0.00193039]\n",
      " ...\n",
      " [0.97713318 0.02286682]\n",
      " [0.01577077 0.98422923]\n",
      " [0.79040469 0.20959531]]\n",
      "[0.95608508 0.77079605 0.00193039 ... 0.02286682 0.98422923 0.20959531]\n"
     ]
    }
   ],
   "source": [
    "print(clf_results['RBF SVM'])\n",
    "print(type(clf_results['RBF SVM']))\n",
    "print(clf_results['LR'])\n",
    "LR_2 = []\n",
    "for i in range(0,len(clf_results['LR'])):\n",
    "    LR_2.append(clf_results['LR'][i][1])\n",
    "LR_2 = np.array(LR_2)\n",
    "print(LR_2)\n"
   ]
  },
  {
   "cell_type": "code",
   "execution_count": 20,
   "metadata": {},
   "outputs": [
    {
     "data": {
      "text/html": [
       "<div>\n",
       "<style scoped>\n",
       "    .dataframe tbody tr th:only-of-type {\n",
       "        vertical-align: middle;\n",
       "    }\n",
       "\n",
       "    .dataframe tbody tr th {\n",
       "        vertical-align: top;\n",
       "    }\n",
       "\n",
       "    .dataframe thead th {\n",
       "        text-align: right;\n",
       "    }\n",
       "</style>\n",
       "<table border=\"1\" class=\"dataframe\">\n",
       "  <thead>\n",
       "    <tr style=\"text-align: right;\">\n",
       "      <th></th>\n",
       "      <th>predict</th>\n",
       "      <th>label</th>\n",
       "    </tr>\n",
       "  </thead>\n",
       "  <tbody>\n",
       "    <tr>\n",
       "      <th>0</th>\n",
       "      <td>9.999269e-01</td>\n",
       "      <td>1</td>\n",
       "    </tr>\n",
       "    <tr>\n",
       "      <th>1</th>\n",
       "      <td>5.034981e-06</td>\n",
       "      <td>0</td>\n",
       "    </tr>\n",
       "    <tr>\n",
       "      <th>2</th>\n",
       "      <td>7.942072e-11</td>\n",
       "      <td>0</td>\n",
       "    </tr>\n",
       "    <tr>\n",
       "      <th>3</th>\n",
       "      <td>2.241843e-08</td>\n",
       "      <td>0</td>\n",
       "    </tr>\n",
       "    <tr>\n",
       "      <th>4</th>\n",
       "      <td>5.556067e-05</td>\n",
       "      <td>0</td>\n",
       "    </tr>\n",
       "  </tbody>\n",
       "</table>\n",
       "</div>"
      ],
      "text/plain": [
       "        predict  label\n",
       "0  9.999269e-01      1\n",
       "1  5.034981e-06      0\n",
       "2  7.942072e-11      0\n",
       "3  2.241843e-08      0\n",
       "4  5.556067e-05      0"
      ]
     },
     "execution_count": 20,
     "metadata": {},
     "output_type": "execute_result"
    }
   ],
   "source": [
    "dir_2 = r'result_new.csv'\n",
    "\n",
    "predict_result = pd.read_csv(dir_2)\n",
    "predict_result.head()"
   ]
  },
  {
   "cell_type": "code",
   "execution_count": 21,
   "metadata": {},
   "outputs": [],
   "source": [
    "predict_result['svm'] = clf_results['RBF SVM']\n",
    "predict_result['LR'] = LR_2"
   ]
  },
  {
   "cell_type": "code",
   "execution_count": 22,
   "metadata": {},
   "outputs": [
    {
     "data": {
      "text/html": [
       "<div>\n",
       "<style scoped>\n",
       "    .dataframe tbody tr th:only-of-type {\n",
       "        vertical-align: middle;\n",
       "    }\n",
       "\n",
       "    .dataframe tbody tr th {\n",
       "        vertical-align: top;\n",
       "    }\n",
       "\n",
       "    .dataframe thead th {\n",
       "        text-align: right;\n",
       "    }\n",
       "</style>\n",
       "<table border=\"1\" class=\"dataframe\">\n",
       "  <thead>\n",
       "    <tr style=\"text-align: right;\">\n",
       "      <th></th>\n",
       "      <th>predict</th>\n",
       "      <th>label</th>\n",
       "      <th>svm</th>\n",
       "      <th>LR</th>\n",
       "    </tr>\n",
       "  </thead>\n",
       "  <tbody>\n",
       "    <tr>\n",
       "      <th>3246</th>\n",
       "      <td>9.999498e-01</td>\n",
       "      <td>1</td>\n",
       "      <td>1</td>\n",
       "      <td>0.368550</td>\n",
       "    </tr>\n",
       "    <tr>\n",
       "      <th>3247</th>\n",
       "      <td>3.657237e-07</td>\n",
       "      <td>0</td>\n",
       "      <td>0</td>\n",
       "      <td>0.005616</td>\n",
       "    </tr>\n",
       "    <tr>\n",
       "      <th>3248</th>\n",
       "      <td>3.425474e-10</td>\n",
       "      <td>0</td>\n",
       "      <td>0</td>\n",
       "      <td>0.022867</td>\n",
       "    </tr>\n",
       "    <tr>\n",
       "      <th>3249</th>\n",
       "      <td>9.999607e-01</td>\n",
       "      <td>1</td>\n",
       "      <td>1</td>\n",
       "      <td>0.984229</td>\n",
       "    </tr>\n",
       "    <tr>\n",
       "      <th>3250</th>\n",
       "      <td>4.565080e-08</td>\n",
       "      <td>0</td>\n",
       "      <td>0</td>\n",
       "      <td>0.209595</td>\n",
       "    </tr>\n",
       "  </tbody>\n",
       "</table>\n",
       "</div>"
      ],
      "text/plain": [
       "           predict  label  svm        LR\n",
       "3246  9.999498e-01      1    1  0.368550\n",
       "3247  3.657237e-07      0    0  0.005616\n",
       "3248  3.425474e-10      0    0  0.022867\n",
       "3249  9.999607e-01      1    1  0.984229\n",
       "3250  4.565080e-08      0    0  0.209595"
      ]
     },
     "execution_count": 22,
     "metadata": {},
     "output_type": "execute_result"
    }
   ],
   "source": [
    "predict_result.tail()"
   ]
  },
  {
   "cell_type": "code",
   "execution_count": 31,
   "metadata": {},
   "outputs": [
    {
     "data": {
      "text/html": [
       "<div>\n",
       "<style scoped>\n",
       "    .dataframe tbody tr th:only-of-type {\n",
       "        vertical-align: middle;\n",
       "    }\n",
       "\n",
       "    .dataframe tbody tr th {\n",
       "        vertical-align: top;\n",
       "    }\n",
       "\n",
       "    .dataframe thead th {\n",
       "        text-align: right;\n",
       "    }\n",
       "</style>\n",
       "<table border=\"1\" class=\"dataframe\">\n",
       "  <thead>\n",
       "    <tr style=\"text-align: right;\">\n",
       "      <th></th>\n",
       "      <th>predict</th>\n",
       "      <th>label</th>\n",
       "      <th>svm</th>\n",
       "      <th>LR</th>\n",
       "      <th>final_result</th>\n",
       "    </tr>\n",
       "  </thead>\n",
       "  <tbody>\n",
       "    <tr>\n",
       "      <th>0</th>\n",
       "      <td>9.999269e-01</td>\n",
       "      <td>1</td>\n",
       "      <td>1</td>\n",
       "      <td>0.956085</td>\n",
       "      <td>1.089928e+00</td>\n",
       "    </tr>\n",
       "    <tr>\n",
       "      <th>1</th>\n",
       "      <td>5.034981e-06</td>\n",
       "      <td>0</td>\n",
       "      <td>0</td>\n",
       "      <td>0.770796</td>\n",
       "      <td>4.984632e-06</td>\n",
       "    </tr>\n",
       "    <tr>\n",
       "      <th>2</th>\n",
       "      <td>7.942072e-11</td>\n",
       "      <td>0</td>\n",
       "      <td>0</td>\n",
       "      <td>0.001930</td>\n",
       "      <td>7.862651e-11</td>\n",
       "    </tr>\n",
       "    <tr>\n",
       "      <th>3</th>\n",
       "      <td>2.241843e-08</td>\n",
       "      <td>0</td>\n",
       "      <td>0</td>\n",
       "      <td>0.000924</td>\n",
       "      <td>2.219425e-08</td>\n",
       "    </tr>\n",
       "    <tr>\n",
       "      <th>4</th>\n",
       "      <td>5.556067e-05</td>\n",
       "      <td>0</td>\n",
       "      <td>1</td>\n",
       "      <td>0.499932</td>\n",
       "      <td>1.000550e-01</td>\n",
       "    </tr>\n",
       "  </tbody>\n",
       "</table>\n",
       "</div>"
      ],
      "text/plain": [
       "        predict  label  svm        LR  final_result\n",
       "0  9.999269e-01      1    1  0.956085  1.089928e+00\n",
       "1  5.034981e-06      0    0  0.770796  4.984632e-06\n",
       "2  7.942072e-11      0    0  0.001930  7.862651e-11\n",
       "3  2.241843e-08      0    0  0.000924  2.219425e-08\n",
       "4  5.556067e-05      0    1  0.499932  1.000550e-01"
      ]
     },
     "execution_count": 31,
     "metadata": {},
     "output_type": "execute_result"
    }
   ],
   "source": [
    "predict_result['final_result'] = 0.1 * predict_result['svm'] + 0.99 * predict_result['predict']\n",
    "predict_result.head()"
   ]
  },
  {
   "cell_type": "code",
   "execution_count": 32,
   "metadata": {},
   "outputs": [
    {
     "name": "stdout",
     "output_type": "stream",
     "text": [
      "[1.08992766e+00 4.98463150e-06 7.86265128e-11 ... 3.39121961e-10\n",
      " 1.08996105e+00 4.51942960e-08]\n",
      "<class 'numpy.ndarray'>\n",
      "[[2266    4]\n",
      " [  24  957]]\n"
     ]
    }
   ],
   "source": [
    "result = np.array(predict_result['final_result'])\n",
    "print(result)\n",
    "print(type(result))\n",
    "def Chang_(pred):\n",
    "    results = []\n",
    "    for i in range(len(pred)):\n",
    "        if pred[i]>0.5:\n",
    "            temp = 1\n",
    "            results.append(temp)\n",
    "        else:\n",
    "            temp = 0\n",
    "            results.append(temp)\n",
    "    return results\n",
    "        \n",
    "results = Chang_(result)\n",
    "\n",
    "from sklearn.metrics import confusion_matrix\n",
    "print(confusion_matrix(y_val, results))\n"
   ]
  },
  {
   "cell_type": "code",
   "execution_count": 33,
   "metadata": {},
   "outputs": [
    {
     "name": "stdout",
     "output_type": "stream",
     "text": [
      "precision: 0.9958376690946931\n",
      "recall: 0.9755351681957186\n",
      "f1: 0.9855818743563336\n",
      "-========\n"
     ]
    }
   ],
   "source": [
    "from sklearn.metrics import precision_score, recall_score\n",
    "from sklearn.metrics import f1_score\n",
    "\n",
    "print('precision:',precision_score(y_val, results))\n",
    "print('recall:',recall_score(y_val, results))\n",
    "print('f1:',f1_score(y_val, results))\n",
    "print('-========')"
   ]
  },
  {
   "cell_type": "code",
   "execution_count": 34,
   "metadata": {},
   "outputs": [
    {
     "name": "stdout",
     "output_type": "stream",
     "text": [
      "[1 0 0 ... 0 1 0]\n"
     ]
    }
   ],
   "source": [
    "y_scores = pd.DataFrame(results)[0].values\n",
    "print(y_scores)"
   ]
  },
  {
   "cell_type": "code",
   "execution_count": 35,
   "metadata": {},
   "outputs": [
    {
     "name": "stdout",
     "output_type": "stream",
     "text": [
      "0.9868865268291368\n"
     ]
    }
   ],
   "source": [
    "auc_value = roc_auc_score(y_val, y_scores)\n",
    "print(auc_value)"
   ]
  },
  {
   "cell_type": "code",
   "execution_count": null,
   "metadata": {},
   "outputs": [],
   "source": []
  },
  {
   "cell_type": "code",
   "execution_count": null,
   "metadata": {},
   "outputs": [],
   "source": []
  },
  {
   "cell_type": "code",
   "execution_count": 36,
   "metadata": {},
   "outputs": [
    {
     "data": {
      "text/html": [
       "<div>\n",
       "<style scoped>\n",
       "    .dataframe tbody tr th:only-of-type {\n",
       "        vertical-align: middle;\n",
       "    }\n",
       "\n",
       "    .dataframe tbody tr th {\n",
       "        vertical-align: top;\n",
       "    }\n",
       "\n",
       "    .dataframe thead th {\n",
       "        text-align: right;\n",
       "    }\n",
       "</style>\n",
       "<table border=\"1\" class=\"dataframe\">\n",
       "  <thead>\n",
       "    <tr style=\"text-align: right;\">\n",
       "      <th></th>\n",
       "      <th>predict</th>\n",
       "      <th>label</th>\n",
       "      <th>svm</th>\n",
       "      <th>LR</th>\n",
       "      <th>final_result</th>\n",
       "      <th>final_result_lr</th>\n",
       "    </tr>\n",
       "  </thead>\n",
       "  <tbody>\n",
       "    <tr>\n",
       "      <th>0</th>\n",
       "      <td>9.999269e-01</td>\n",
       "      <td>1</td>\n",
       "      <td>1</td>\n",
       "      <td>0.956085</td>\n",
       "      <td>1.089928e+00</td>\n",
       "      <td>0.982390</td>\n",
       "    </tr>\n",
       "    <tr>\n",
       "      <th>1</th>\n",
       "      <td>5.034981e-06</td>\n",
       "      <td>0</td>\n",
       "      <td>0</td>\n",
       "      <td>0.770796</td>\n",
       "      <td>4.984632e-06</td>\n",
       "      <td>0.308321</td>\n",
       "    </tr>\n",
       "    <tr>\n",
       "      <th>2</th>\n",
       "      <td>7.942072e-11</td>\n",
       "      <td>0</td>\n",
       "      <td>0</td>\n",
       "      <td>0.001930</td>\n",
       "      <td>7.862651e-11</td>\n",
       "      <td>0.000772</td>\n",
       "    </tr>\n",
       "    <tr>\n",
       "      <th>3</th>\n",
       "      <td>2.241843e-08</td>\n",
       "      <td>0</td>\n",
       "      <td>0</td>\n",
       "      <td>0.000924</td>\n",
       "      <td>2.219425e-08</td>\n",
       "      <td>0.000370</td>\n",
       "    </tr>\n",
       "    <tr>\n",
       "      <th>4</th>\n",
       "      <td>5.556067e-05</td>\n",
       "      <td>0</td>\n",
       "      <td>1</td>\n",
       "      <td>0.499932</td>\n",
       "      <td>1.000550e-01</td>\n",
       "      <td>0.200006</td>\n",
       "    </tr>\n",
       "  </tbody>\n",
       "</table>\n",
       "</div>"
      ],
      "text/plain": [
       "        predict  label  svm        LR  final_result  final_result_lr\n",
       "0  9.999269e-01      1    1  0.956085  1.089928e+00         0.982390\n",
       "1  5.034981e-06      0    0  0.770796  4.984632e-06         0.308321\n",
       "2  7.942072e-11      0    0  0.001930  7.862651e-11         0.000772\n",
       "3  2.241843e-08      0    0  0.000924  2.219425e-08         0.000370\n",
       "4  5.556067e-05      0    1  0.499932  1.000550e-01         0.200006"
      ]
     },
     "execution_count": 36,
     "metadata": {},
     "output_type": "execute_result"
    }
   ],
   "source": [
    "#W2V-LR + TEXTCNN\n",
    "predict_result['final_result_lr'] = 0.4 * predict_result['LR'] + 0.6 * predict_result['predict']\n",
    "predict_result.head()"
   ]
  },
  {
   "cell_type": "code",
   "execution_count": 37,
   "metadata": {},
   "outputs": [
    {
     "name": "stdout",
     "output_type": "stream",
     "text": [
      "[9.82390187e-01 3.08321440e-01 7.72155552e-04 ... 9.14672910e-03\n",
      " 9.93668087e-01 8.38381528e-02]\n",
      "<class 'numpy.ndarray'>\n",
      "[[2266    4]\n",
      " [  26  955]]\n"
     ]
    }
   ],
   "source": [
    "result = np.array(predict_result['final_result_lr'])\n",
    "print(result)\n",
    "print(type(result))\n",
    "def Chang_(pred):\n",
    "    results = []\n",
    "    for i in range(len(pred)):\n",
    "        if pred[i]>0.5:\n",
    "            temp = 1\n",
    "            results.append(temp)\n",
    "        else:\n",
    "            temp = 0\n",
    "            results.append(temp)\n",
    "    return results\n",
    "        \n",
    "results = Chang_(result)\n",
    "\n",
    "from sklearn.metrics import confusion_matrix\n",
    "print(confusion_matrix(y_val, results))\n"
   ]
  },
  {
   "cell_type": "code",
   "execution_count": 38,
   "metadata": {},
   "outputs": [
    {
     "name": "stdout",
     "output_type": "stream",
     "text": [
      "[1 0 0 ... 0 1 0]\n"
     ]
    }
   ],
   "source": [
    "y_scores = pd.DataFrame(results)[0].values\n",
    "print(y_scores)"
   ]
  },
  {
   "cell_type": "code",
   "execution_count": 39,
   "metadata": {},
   "outputs": [
    {
     "name": "stdout",
     "output_type": "stream",
     "text": [
      "0.9858671588372918\n"
     ]
    }
   ],
   "source": [
    "auc_value = roc_auc_score(y_val, y_scores)\n",
    "print(auc_value)"
   ]
  },
  {
   "cell_type": "code",
   "execution_count": null,
   "metadata": {},
   "outputs": [],
   "source": []
  },
  {
   "cell_type": "code",
   "execution_count": null,
   "metadata": {},
   "outputs": [],
   "source": []
  },
  {
   "cell_type": "code",
   "execution_count": null,
   "metadata": {},
   "outputs": [],
   "source": []
  },
  {
   "cell_type": "code",
   "execution_count": 18,
   "metadata": {},
   "outputs": [
    {
     "name": "stdout",
     "output_type": "stream",
     "text": [
      "LR [[2138  132]\n",
      " [ 159  822]]\n",
      "-========\n",
      "RBF SVM [[2136  134]\n",
      " [ 155  826]]\n",
      "-========\n",
      "Random Forest [[2150  120]\n",
      " [ 280  701]]\n",
      "-========\n",
      "Boosted Trees [[2138  132]\n",
      " [ 150  831]]\n",
      "-========\n"
     ]
    }
   ],
   "source": [
    "from sklearn.metrics import confusion_matrix\n",
    "\n",
    "for i in clf_results.keys():\n",
    "    print(i,confusion_matrix(y_val, clf_results[i]))\n",
    "    print('-========')"
   ]
  },
  {
   "cell_type": "code",
   "execution_count": 19,
   "metadata": {},
   "outputs": [
    {
     "name": "stdout",
     "output_type": "stream",
     "text": [
      "precision: LR 0.8616352201257862\n",
      "recall: LR 0.8379204892966361\n",
      "f1: LR 0.8496124031007751\n",
      "-========\n",
      "precision: RBF SVM 0.8604166666666667\n",
      "recall: RBF SVM 0.8419979612640163\n",
      "f1: RBF SVM 0.8511076764554353\n",
      "-========\n",
      "precision: Random Forest 0.853836784409257\n",
      "recall: Random Forest 0.7145769622833843\n",
      "f1: Random Forest 0.7780244173140954\n",
      "-========\n",
      "precision: Boosted Trees 0.8629283489096573\n",
      "recall: Boosted Trees 0.8470948012232415\n",
      "f1: Boosted Trees 0.8549382716049383\n",
      "-========\n"
     ]
    }
   ],
   "source": [
    "from sklearn.metrics import precision_score, recall_score\n",
    "# f1 score\n",
    "from sklearn.metrics import f1_score\n",
    "for i in clf_results.keys():\n",
    "    print('precision:',i,precision_score(y_val, clf_results[i]))\n",
    "    print('recall:',i,recall_score(y_val, clf_results[i]))\n",
    "    print('f1:',i,f1_score(y_val, clf_results[i]))\n",
    "    print('-========')"
   ]
  },
  {
   "cell_type": "code",
   "execution_count": 20,
   "metadata": {},
   "outputs": [],
   "source": [
    "import matplotlib.pyplot as plt\n",
    "%matplotlib inline"
   ]
  },
  {
   "cell_type": "code",
   "execution_count": null,
   "metadata": {},
   "outputs": [],
   "source": [
    "y_scores = {}\n",
    "for i in clf_results.keys():\n",
    "    y_scores[i] = pd.DataFrame(clf_results[i])[0].values\n",
    "print(y_scores)\n"
   ]
  },
  {
   "cell_type": "code",
   "execution_count": 23,
   "metadata": {},
   "outputs": [
    {
     "name": "stdout",
     "output_type": "stream",
     "text": [
      "{'LR': 0.8898853547804767, 'RBF SVM': 0.8914835621298055, 'Random Forest': 0.8308567630800181, 'Boosted Trees': 0.8944725107437794}\n"
     ]
    }
   ],
   "source": [
    "auc_value = {}\n",
    "for i in clf_results.keys():\n",
    "    auc_value[i] = roc_auc_score(y_val, y_scores[i])\n",
    "print(auc_value)"
   ]
  },
  {
   "cell_type": "code",
   "execution_count": 27,
   "metadata": {
    "scrolled": true
   },
   "outputs": [
    {
     "data": {
      "image/png": "[encoded data removed]",
      "text/plain": [
       "<Figure size 432x432 with 1 Axes>"
      ]
     },
     "metadata": {
      "needs_background": "light"
     },
     "output_type": "display_data"
    },
    {
     "data": {
      "image/png": "[encoded data removed]",
      "text/plain": [
       "<Figure size 432x432 with 1 Axes>"
      ]
     },
     "metadata": {
      "needs_background": "light"
     },
     "output_type": "display_data"
    },
    {
     "data": {
      "image/png": "[encoded data removed]",
      "text/plain": [
       "<Figure size 432x432 with 1 Axes>"
      ]
     },
     "metadata": {
      "needs_background": "light"
     },
     "output_type": "display_data"
    },
    {
     "data": {
      "image/png": "[encoded data removed]",
      "text/plain": [
       "<Figure size 432x432 with 1 Axes>"
      ]
     },
     "metadata": {
      "needs_background": "light"
     },
     "output_type": "display_data"
    }
   ],
   "source": [
    "for i in clf_results.keys():\n",
    "    fpr, tpr, thresholds = roc_curve(y_val, y_scores[i], pos_label=1.0)\n",
    "    plt.figure(figsize=(6,6))\n",
    "    lw = 2\n",
    "    plt.plot(fpr, tpr, color='darkorange', linewidth=lw, label='ROC curve (area = %0.4f)' % auc_value[i])\n",
    "    plt.plot([0, 1], [0, 1], color='navy', linewidth=lw, linestyle='--')\n",
    "    plt.xlim([0.0, 1.0])\n",
    "    plt.ylim([0.0, 1.05])\n",
    "    plt.xlabel('False Positive Rate')\n",
    "    plt.ylabel('True Positive Rate')\n",
    "    plt.title(str(i))\n",
    "    plt.legend(loc=\"lower right\")"
   ]
  },
  {
   "cell_type": "code",
   "execution_count": 41,
   "metadata": {},
   "outputs": [
    {
     "name": "stdout",
     "output_type": "stream",
     "text": [
      "1.0\n"
     ]
    }
   ],
   "source": [
    "print(10/10)"
   ]
  },
  {
   "cell_type": "code",
   "execution_count": null,
   "metadata": {},
   "outputs": [],
   "source": []
  }
 ],
 "metadata": {
  "kernelspec": {
   "display_name": "Python 3",
   "language": "python",
   "name": "python3"
  },
  "language_info": {
   "codemirror_mode": {
    "name": "ipython",
    "version": 3
   },
   "file_extension": ".py",
   "mimetype": "text/x-python",
   "name": "python",
   "nbconvert_exporter": "python",
   "pygments_lexer": "ipython3",
   "version": "3.6.8"
  }
 },
 "nbformat": 4,
 "nbformat_minor": 2
}
